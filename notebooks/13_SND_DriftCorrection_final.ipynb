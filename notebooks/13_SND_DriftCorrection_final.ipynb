{
  "nbformat": 4,
  "nbformat_minor": 0,
  "metadata": {
    "colab": {
      "provenance": [],
      "authorship_tag": "ABX9TyNq/AvoiP8ZmFmPmFIAAjQ+"
    },
    "kernelspec": {
      "name": "python3",
      "display_name": "Python 3"
    },
    "language_info": {
      "name": "python"
    }
  },
  "cells": [
    {
      "cell_type": "code",
      "execution_count": 1,
      "metadata": {
        "colab": {
          "base_uri": "https://localhost:8080/"
        },
        "id": "Q6_PaM521l-L",
        "outputId": "f3cc217d-55e4-4958-cc9f-48bf80b52aea"
      },
      "outputs": [
        {
          "output_type": "stream",
          "name": "stdout",
          "text": [
            "Cloning into 'lcls_beamline_toolbox'...\n",
            "remote: Enumerating objects: 3341, done.\u001b[K\n",
            "remote: Counting objects: 100% (612/612), done.\u001b[K\n",
            "remote: Compressing objects: 100% (225/225), done.\u001b[K\n",
            "remote: Total 3341 (delta 531), reused 458 (delta 387), pack-reused 2729 (from 1)\u001b[K\n",
            "Receiving objects: 100% (3341/3341), 233.19 MiB | 11.33 MiB/s, done.\n",
            "Resolving deltas: 100% (2581/2581), done.\n",
            "Updating files: 100% (144/144), done.\n"
          ]
        }
      ],
      "source": [
        "!git clone https://github.com/mseaberg/lcls_beamline_toolbox"
      ]
    },
    {
      "cell_type": "code",
      "source": [
        "import os\n",
        "os.chdir('lcls_beamline_toolbox')\n",
        "!python3 -m pip install -e . -q\n",
        "!pip install xraydb -q\n",
        "!pip install xopt -q"
      ],
      "metadata": {
        "colab": {
          "base_uri": "https://localhost:8080/"
        },
        "id": "hVU7hWtJ1r5C",
        "outputId": "0805d144-9242-4654-d31b-38cdf5e4d909"
      },
      "execution_count": 2,
      "outputs": [
        {
          "output_type": "stream",
          "name": "stdout",
          "text": [
            "  Preparing metadata (setup.py) ... \u001b[?25l\u001b[?25hdone\n",
            "\u001b[2K     \u001b[90m━━━━━━━━━━━━━━━━━━━━━━━━━━━━━━━━━━━━━━━━\u001b[0m \u001b[32m9.5/9.5 MB\u001b[0m \u001b[31m68.8 MB/s\u001b[0m eta \u001b[36m0:00:00\u001b[0m\n",
            "\u001b[?25h  Preparing metadata (setup.py) ... \u001b[?25l\u001b[?25hdone\n",
            "\u001b[2K   \u001b[90m━━━━━━━━━━━━━━━━━━━━━━━━━━━━━━━━━━━━━━━━\u001b[0m \u001b[32m11.7/11.7 MB\u001b[0m \u001b[31m57.2 MB/s\u001b[0m eta \u001b[36m0:00:00\u001b[0m\n",
            "\u001b[2K   \u001b[90m━━━━━━━━━━━━━━━━━━━━━━━━━━━━━━━━━━━━━━━━\u001b[0m \u001b[32m724.6/724.6 kB\u001b[0m \u001b[31m33.8 MB/s\u001b[0m eta \u001b[36m0:00:00\u001b[0m\n",
            "\u001b[2K   \u001b[90m━━━━━━━━━━━━━━━━━━━━━━━━━━━━━━━━━━━━━━━━\u001b[0m \u001b[32m105.6/105.6 kB\u001b[0m \u001b[31m7.9 MB/s\u001b[0m eta \u001b[36m0:00:00\u001b[0m\n",
            "\u001b[2K   \u001b[90m━━━━━━━━━━━━━━━━━━━━━━━━━━━━━━━━━━━━━━━━\u001b[0m \u001b[32m121.1/121.1 kB\u001b[0m \u001b[31m7.8 MB/s\u001b[0m eta \u001b[36m0:00:00\u001b[0m\n",
            "\u001b[2K   \u001b[90m━━━━━━━━━━━━━━━━━━━━━━━━━━━━━━━━━━━━━━━━\u001b[0m \u001b[32m69.1/69.1 kB\u001b[0m \u001b[31m3.7 MB/s\u001b[0m eta \u001b[36m0:00:00\u001b[0m\n",
            "\u001b[2K   \u001b[90m━━━━━━━━━━━━━━━━━━━━━━━━━━━━━━━━━━━━━━━━\u001b[0m \u001b[32m385.8/385.8 kB\u001b[0m \u001b[31m21.2 MB/s\u001b[0m eta \u001b[36m0:00:00\u001b[0m\n",
            "\u001b[2K   \u001b[90m━━━━━━━━━━━━━━━━━━━━━━━━━━━━━━━━━━━━━━━━\u001b[0m \u001b[32m133.5/133.5 kB\u001b[0m \u001b[31m8.6 MB/s\u001b[0m eta \u001b[36m0:00:00\u001b[0m\n",
            "\u001b[2K   \u001b[90m━━━━━━━━━━━━━━━━━━━━━━━━━━━━━━━━━━━━━━━━\u001b[0m \u001b[32m59.7/59.7 kB\u001b[0m \u001b[31m3.9 MB/s\u001b[0m eta \u001b[36m0:00:00\u001b[0m\n",
            "\u001b[2K   \u001b[90m━━━━━━━━━━━━━━━━━━━━━━━━━━━━━━━━━━━━━━━━\u001b[0m \u001b[32m92.8/92.8 kB\u001b[0m \u001b[31m6.8 MB/s\u001b[0m eta \u001b[36m0:00:00\u001b[0m\n",
            "\u001b[2K   \u001b[90m━━━━━━━━━━━━━━━━━━━━━━━━━━━━━━━━━━━━━━━━\u001b[0m \u001b[32m1.6/1.6 MB\u001b[0m \u001b[31m42.9 MB/s\u001b[0m eta \u001b[36m0:00:00\u001b[0m\n",
            "\u001b[2K   \u001b[90m━━━━━━━━━━━━━━━━━━━━━━━━━━━━━━━━━━━━━━━━\u001b[0m \u001b[32m66.4/66.4 kB\u001b[0m \u001b[31m4.7 MB/s\u001b[0m eta \u001b[36m0:00:00\u001b[0m\n",
            "\u001b[?25h  Building wheel for xrt (setup.py) ... \u001b[?25l\u001b[?25hdone\n",
            "\u001b[2K   \u001b[90m━━━━━━━━━━━━━━━━━━━━━━━━━━━━━━━━━━━━━━━━\u001b[0m \u001b[32m3.9/3.9 MB\u001b[0m \u001b[31m44.3 MB/s\u001b[0m eta \u001b[36m0:00:00\u001b[0m\n",
            "\u001b[2K     \u001b[90m━━━━━━━━━━━━━━━━━━━━━━━━━━━━━━━━━━━━━━━━\u001b[0m \u001b[32m924.2/924.2 kB\u001b[0m \u001b[31m17.2 MB/s\u001b[0m eta \u001b[36m0:00:00\u001b[0m\n",
            "\u001b[?25h  Installing build dependencies ... \u001b[?25l\u001b[?25hdone\n",
            "  Getting requirements to build wheel ... \u001b[?25l\u001b[?25hdone\n",
            "  Preparing metadata (pyproject.toml) ... \u001b[?25l\u001b[?25hdone\n",
            "\u001b[2K   \u001b[90m━━━━━━━━━━━━━━━━━━━━━━━━━━━━━━━━━━━━━━━━\u001b[0m \u001b[32m706.8/706.8 kB\u001b[0m \u001b[31m37.7 MB/s\u001b[0m eta \u001b[36m0:00:00\u001b[0m\n",
            "\u001b[2K   \u001b[90m━━━━━━━━━━━━━━━━━━━━━━━━━━━━━━━━━━━━━━━━\u001b[0m \u001b[32m277.7/277.7 kB\u001b[0m \u001b[31m16.3 MB/s\u001b[0m eta \u001b[36m0:00:00\u001b[0m\n",
            "\u001b[2K   \u001b[90m━━━━━━━━━━━━━━━━━━━━━━━━━━━━━━━━━━━━━━━━\u001b[0m \u001b[32m176.3/176.3 kB\u001b[0m \u001b[31m12.4 MB/s\u001b[0m eta \u001b[36m0:00:00\u001b[0m\n",
            "\u001b[2K   \u001b[90m━━━━━━━━━━━━━━━━━━━━━━━━━━━━━━━━━━━━━━━━\u001b[0m \u001b[32m135.4/135.4 kB\u001b[0m \u001b[31m9.2 MB/s\u001b[0m eta \u001b[36m0:00:00\u001b[0m\n",
            "\u001b[2K   \u001b[90m━━━━━━━━━━━━━━━━━━━━━━━━━━━━━━━━━━━━━━━━\u001b[0m \u001b[32m756.0/756.0 kB\u001b[0m \u001b[31m31.5 MB/s\u001b[0m eta \u001b[36m0:00:00\u001b[0m\n",
            "\u001b[2K   \u001b[90m━━━━━━━━━━━━━━━━━━━━━━━━━━━━━━━━━━━━━━━━\u001b[0m \u001b[32m363.4/363.4 MB\u001b[0m \u001b[31m1.4 MB/s\u001b[0m eta \u001b[36m0:00:00\u001b[0m\n",
            "\u001b[2K   \u001b[90m━━━━━━━━━━━━━━━━━━━━━━━━━━━━━━━━━━━━━━━━\u001b[0m \u001b[32m13.8/13.8 MB\u001b[0m \u001b[31m54.2 MB/s\u001b[0m eta \u001b[36m0:00:00\u001b[0m\n",
            "\u001b[2K   \u001b[90m━━━━━━━━━━━━━━━━━━━━━━━━━━━━━━━━━━━━━━━━\u001b[0m \u001b[32m24.6/24.6 MB\u001b[0m \u001b[31m50.6 MB/s\u001b[0m eta \u001b[36m0:00:00\u001b[0m\n",
            "\u001b[2K   \u001b[90m━━━━━━━━━━━━━━━━━━━━━━━━━━━━━━━━━━━━━━━━\u001b[0m \u001b[32m883.7/883.7 kB\u001b[0m \u001b[31m36.9 MB/s\u001b[0m eta \u001b[36m0:00:00\u001b[0m\n",
            "\u001b[2K   \u001b[90m━━━━━━━━━━━━━━━━━━━━━━━━━━━━━━━━━━━━━━━━\u001b[0m \u001b[32m664.8/664.8 MB\u001b[0m \u001b[31m2.6 MB/s\u001b[0m eta \u001b[36m0:00:00\u001b[0m\n",
            "\u001b[2K   \u001b[90m━━━━━━━━━━━━━━━━━━━━━━━━━━━━━━━━━━━━━━━━\u001b[0m \u001b[32m211.5/211.5 MB\u001b[0m \u001b[31m5.5 MB/s\u001b[0m eta \u001b[36m0:00:00\u001b[0m\n",
            "\u001b[2K   \u001b[90m━━━━━━━━━━━━━━━━━━━━━━━━━━━━━━━━━━━━━━━━\u001b[0m \u001b[32m56.3/56.3 MB\u001b[0m \u001b[31m12.1 MB/s\u001b[0m eta \u001b[36m0:00:00\u001b[0m\n",
            "\u001b[2K   \u001b[90m━━━━━━━━━━━━━━━━━━━━━━━━━━━━━━━━━━━━━━━━\u001b[0m \u001b[32m127.9/127.9 MB\u001b[0m \u001b[31m7.3 MB/s\u001b[0m eta \u001b[36m0:00:00\u001b[0m\n",
            "\u001b[2K   \u001b[90m━━━━━━━━━━━━━━━━━━━━━━━━━━━━━━━━━━━━━━━━\u001b[0m \u001b[32m207.5/207.5 MB\u001b[0m \u001b[31m5.8 MB/s\u001b[0m eta \u001b[36m0:00:00\u001b[0m\n",
            "\u001b[2K   \u001b[90m━━━━━━━━━━━━━━━━━━━━━━━━━━━━━━━━━━━━━━━━\u001b[0m \u001b[32m21.1/21.1 MB\u001b[0m \u001b[31m74.8 MB/s\u001b[0m eta \u001b[36m0:00:00\u001b[0m\n",
            "\u001b[2K   \u001b[90m━━━━━━━━━━━━━━━━━━━━━━━━━━━━━━━━━━━━━━━━\u001b[0m \u001b[32m56.4/56.4 kB\u001b[0m \u001b[31m3.8 MB/s\u001b[0m eta \u001b[36m0:00:00\u001b[0m\n",
            "\u001b[?25h  Building wheel for xopt (pyproject.toml) ... \u001b[?25l\u001b[?25hdone\n"
          ]
        }
      ]
    },
    {
      "cell_type": "code",
      "source": [
        "!pip install scipy==1.10.0"
      ],
      "metadata": {
        "colab": {
          "base_uri": "https://localhost:8080/"
        },
        "id": "DbctvF5hmwn2",
        "outputId": "1602bf23-3090-40de-a732-bf21f8c25124"
      },
      "execution_count": 4,
      "outputs": [
        {
          "output_type": "stream",
          "name": "stdout",
          "text": [
            "Collecting scipy==1.10.0\n",
            "  Downloading scipy-1.10.0-cp311-cp311-manylinux_2_17_x86_64.manylinux2014_x86_64.whl.metadata (58 kB)\n",
            "\u001b[?25l     \u001b[90m━━━━━━━━━━━━━━━━━━━━━━━━━━━━━━━━━━━━━━━━\u001b[0m \u001b[32m0.0/58.9 kB\u001b[0m \u001b[31m?\u001b[0m eta \u001b[36m-:--:--\u001b[0m\r\u001b[2K     \u001b[90m━━━━━━━━━━━━━━━━━━━━━━━━━━━━━━━━━━━━━━━━\u001b[0m \u001b[32m58.9/58.9 kB\u001b[0m \u001b[31m3.7 MB/s\u001b[0m eta \u001b[36m0:00:00\u001b[0m\n",
            "\u001b[?25hRequirement already satisfied: numpy<1.27.0,>=1.19.5 in /usr/local/lib/python3.11/dist-packages (from scipy==1.10.0) (1.26.4)\n",
            "Downloading scipy-1.10.0-cp311-cp311-manylinux_2_17_x86_64.manylinux2014_x86_64.whl (34.1 MB)\n",
            "\u001b[2K   \u001b[90m━━━━━━━━━━━━━━━━━━━━━━━━━━━━━━━━━━━━━━━━\u001b[0m \u001b[32m34.1/34.1 MB\u001b[0m \u001b[31m32.9 MB/s\u001b[0m eta \u001b[36m0:00:00\u001b[0m\n",
            "\u001b[?25hInstalling collected packages: scipy\n",
            "  Attempting uninstall: scipy\n",
            "    Found existing installation: scipy 1.14.1\n",
            "    Uninstalling scipy-1.14.1:\n",
            "      Successfully uninstalled scipy-1.14.1\n",
            "\u001b[31mERROR: pip's dependency resolver does not currently take into account all the packages that are installed. This behaviour is the source of the following dependency conflicts.\n",
            "xopt 2.5.5 requires scipy>=1.10.1, but you have scipy 1.10.0 which is incompatible.\n",
            "scikit-image 0.25.2 requires scipy>=1.11.4, but you have scipy 1.10.0 which is incompatible.\n",
            "imbalanced-learn 0.13.0 requires scipy<2,>=1.10.1, but you have scipy 1.10.0 which is incompatible.\n",
            "cvxpy 1.6.2 requires scipy>=1.11.0, but you have scipy 1.10.0 which is incompatible.\n",
            "jaxlib 0.5.1 requires scipy>=1.11.1, but you have scipy 1.10.0 which is incompatible.\n",
            "jax 0.5.2 requires scipy>=1.11.1, but you have scipy 1.10.0 which is incompatible.\u001b[0m\u001b[31m\n",
            "\u001b[0mSuccessfully installed scipy-1.10.0\n"
          ]
        }
      ]
    },
    {
      "cell_type": "code",
      "source": [
        "import warnings\n",
        "warnings.filterwarnings(\"ignore\")\n",
        "from tqdm import trange\n",
        "import time\n",
        "import numpy as np\n",
        "import pandas as pd\n",
        "import matplotlib.pyplot as plt\n",
        "import lcls_beamline_toolbox.xraywavetrace.beam1d as beam\n",
        "import lcls_beamline_toolbox.xraywavetrace.optics1d as optics\n",
        "import lcls_beamline_toolbox.xraywavetrace.beamline1d as beamline\n",
        "import scipy.optimize as optimize\n",
        "import copy\n",
        "import scipy.spatial.transform as transform\n",
        "from scipy.stats import qmc\n",
        "from split_and_delay import SND\n",
        "\n",
        "import torch\n",
        "import gpytorch\n",
        "import botorch\n",
        "from xopt import Xopt, Evaluator\n",
        "from xopt.generators.bayesian import MOBOGenerator, ExpectedImprovementGenerator, TDUpperConfidenceBoundGenerator, TDExpectedImprovementGenerator\n",
        "from xopt.resources.test_functions.tnk import evaluate_TNK, tnk_vocs\n",
        "from xopt import VOCS\n",
        "from xopt import Xopt"
      ],
      "metadata": {
        "id": "Elx3U8ZN1vRs"
      },
      "execution_count": 70,
      "outputs": []
    },
    {
      "cell_type": "code",
      "source": [
        "def get_snd_outputs(inputs):\n",
        "  \"\"\"\n",
        "  Study 1 Objective function. Takes an [n, 8] dim np array of\n",
        "  [samples, ( t1_th1, t1_th2, chi1, chi2, t4_th1, t4_th2, chi1, chi2)].\n",
        "  The entries lie in the uniform unit interval.\n",
        "  They are scaled to lie in [-100e-6, +100e-6].\n",
        "  Returns a torch tensor of dim [n, 2] of\n",
        "  [samples, (do_sum_objective, IP_r_objective)]\n",
        "  \"\"\"\n",
        "  inputs = inputs*5e-6 - 2.5e-6\n",
        "  result = []\n",
        "\n",
        "  for x in inputs:\n",
        "    snd = SND(9500)\n",
        "    x = np.array(x)\n",
        "\n",
        "    snd.mvr_t1_th1(x[0])\n",
        "    snd.mvr_t1_th2(x[1])\n",
        "    snd.mvr_t1_chi1(x[2])\n",
        "    snd.mvr_t1_chi2(x[3])\n",
        "    snd.mvr_t4_th1(x[4])\n",
        "    snd.mvr_t4_th2(x[5])\n",
        "    snd.mvr_t4_chi1(x[6])\n",
        "    snd.mvr_t4_chi2(x[7])\n",
        "\n",
        "\n",
        "\n",
        "    snd.propagate_delay()\n",
        "\n",
        "    dh1 = snd.get_t1_dh_sum()\n",
        "    dd = snd.get_dd_sum()\n",
        "    dh4 = snd.get_t4_dh_sum()\n",
        "    do = snd.get_do_sum()\n",
        "    my_IP_sum = snd.get_IP_sum()\n",
        "    my_intensity = dh1 + dd + dh4 + do + my_IP_sum\n",
        "\n",
        "    do_centroid = snd.get_IP_r()\n",
        "    do_centroid_x = snd.get_IP_cx()\n",
        "    do_centroid_y = snd.get_IP_cy()\n",
        "\n",
        "\n",
        "\n",
        "    result.append((do_centroid)*1e6)#my_intensity)/(61441.4336))\n",
        "    del snd\n",
        "  return torch.tensor(result, dtype=torch.float)"
      ],
      "metadata": {
        "id": "fN0oMzxV2u98"
      },
      "execution_count": 77,
      "outputs": []
    },
    {
      "cell_type": "code",
      "source": [
        "input = np.ones((1,8)) * 0.75\n",
        "get_snd_outputs(input)"
      ],
      "metadata": {
        "colab": {
          "base_uri": "https://localhost:8080/"
        },
        "id": "1frb-SpP8r31",
        "outputId": "ae9c072f-a385-4af1-84cf-605eb2b53370"
      },
      "execution_count": 108,
      "outputs": [
        {
          "output_type": "execute_result",
          "data": {
            "text/plain": [
              "tensor([10.1311])"
            ]
          },
          "metadata": {},
          "execution_count": 108
        }
      ]
    },
    {
      "cell_type": "code",
      "source": [
        "def f(input_dict: dict) -> dict:\n",
        "  current_time = time.time()\n",
        "  temp = current_time - start_time\n",
        "  if temp > 50:\n",
        "    t = current_time - start_time\n",
        "  else:\n",
        "    t = 0.0\n",
        "  drift_mag = 0.0001\n",
        "  print(f\"Shift: {t*drift_mag}\")\n",
        "  drift_dir = np.array([1, -1, -1, 1, 1, 1, -1, -1])\n",
        "  noise = np.random.rand(8) * drift_mag * 0.01\n",
        "  drift_vec = drift_mag * drift_dir + noise\n",
        "  drift = t * drift_vec\n",
        "\n",
        "  x1, x2, x3, x4, x5, x6, x7, x8 = input_dict[\"x1\"] + drift[0], input_dict[\"x2\"] + drift[1], input_dict[\"x3\"] + drift[2], input_dict[\"x4\"] + drift[3], input_dict[\"x5\"] + drift[4], input_dict[\"x6\"] + drift[5], input_dict[\"x7\"] + drift[6], input_dict[\"x8\"] + drift[7]\n",
        "\n",
        "  Xinp = np.expand_dims(np.array([x1, x2, x3, x4, x5, x6, x7, x8]), axis=0)\n",
        "  output = get_snd_outputs(Xinp).squeeze()\n",
        "  f = output.item()\n",
        "  return {\"f\": f, \"time\": float(current_time)}"
      ],
      "metadata": {
        "id": "Iot6iNAY-cKv"
      },
      "execution_count": 66,
      "outputs": []
    },
    {
      "cell_type": "code",
      "source": [
        "def eval_function(input_dict: dict) -> dict:\n",
        "  drift = 0.01\n",
        "  if time > 20:\n",
        "    x1, x2, x3, x4 = input_dict[\"x1\"] + time*drift, input_dict[\"x2\"] + time*drift, input_dict[\"x3\"] + time*drift, input_dict[\"x4\"] + time*drift\n",
        "  else:\n",
        "    x1, x2, x3, x4 = input_dict[\"x1\"], input_dict[\"x2\"], input_dict[\"x3\"], input_dict[\"x4\"]\n",
        "  Xinp = np.expand_dims(np.array([x1, x2, x3, x4]), axis=0)\n",
        "  output = get_snd_outputs(Xinp).squeeze()\n",
        "  f = output.item()\n",
        "  return {\"f\": f}"
      ],
      "metadata": {
        "id": "NfymWPDodmv5"
      },
      "execution_count": null,
      "outputs": []
    },
    {
      "cell_type": "code",
      "source": [
        "low =  0.0\n",
        "high = 1.0\n",
        "n_init = 128\n",
        "\n",
        "vocs = VOCS(\n",
        "    variables = {\"x1\": [low, high],\n",
        "                \"x2\": [low, high],\n",
        "                \"x3\": [low, high],\n",
        "                \"x4\": [low, high],\n",
        "                 \"x5\": [low, high],\n",
        "                \"x6\": [low, high],\n",
        "                \"x7\": [low, high],\n",
        "                \"x8\": [low, high],\n",
        "                 },\n",
        "    objectives = {\"f\": \"MINIMIZE\"},\n",
        "  )\n",
        "\n",
        "evaluator = Evaluator(function=f)\n",
        "\n",
        "generator = TDUpperConfidenceBoundGenerator(\n",
        "    vocs=vocs,\n",
        "    beta=0.00001,\n",
        "    added_time=0.1,\n",
        "    forgetting_time=200.0, #change this from 100\n",
        ")\n",
        "generator.n_monte_carlo_samples = 128\n",
        "generator.numerical_optimizer.n_restarts = 20\n",
        "generator.max_travel_distances = [4.0] * 8\n",
        "\n",
        "start_time = time.time()\n",
        "X = Xopt(evaluator=evaluator, generator=generator, vocs=vocs)\n",
        "#X.random_evaluate(128)\n",
        "sampler = qmc.LatinHypercube(d=8)\n",
        "xs = sampler.random(n=n_init)\n",
        "xs -= 0.5\n",
        "xs /= 10\n",
        "xs += 0.5\n",
        "\n",
        "init_samples = pd.DataFrame({f'x{i+1}': xs[:,i] for i in range(xs.shape[1])})\n",
        "X.evaluate_data(init_samples)\n",
        "\n",
        "for i in trange(800):\n",
        "  print(f\"Step: {i+1} \\t Time: {time.time() - start_time}\")\n",
        "  X.step()\n",
        "  currentstate = X.generator.data[\"f\"][-1:]\n",
        "  print(f\"Current State: {currentstate}\")\n",
        "  time.sleep(0.1)"
      ],
      "metadata": {
        "colab": {
          "base_uri": "https://localhost:8080/"
        },
        "id": "xLSR8itj_3-i",
        "outputId": "7ca29c44-07f6-4adc-d68a-94bc9fb18b5a"
      },
      "execution_count": 98,
      "outputs": [
        {
          "output_type": "stream",
          "name": "stdout",
          "text": [
            "Shift: 0.0\n",
            "Shift: 0.0\n",
            "Shift: 0.0\n",
            "Shift: 0.0\n",
            "Shift: 0.0\n",
            "Shift: 0.0\n",
            "Shift: 0.0\n",
            "Shift: 0.0\n",
            "Shift: 0.0\n",
            "Shift: 0.0\n",
            "Shift: 0.0\n",
            "Shift: 0.0\n",
            "Shift: 0.0\n",
            "Shift: 0.0\n",
            "Shift: 0.0\n",
            "Shift: 0.0\n",
            "Shift: 0.0\n",
            "Shift: 0.0\n",
            "Shift: 0.0\n",
            "Shift: 0.0\n",
            "Shift: 0.0\n",
            "Shift: 0.0\n",
            "Shift: 0.0\n",
            "Shift: 0.0\n",
            "Shift: 0.0\n",
            "Shift: 0.0\n",
            "Shift: 0.0\n",
            "Shift: 0.0\n",
            "Shift: 0.0\n",
            "Shift: 0.0\n",
            "Shift: 0.0\n",
            "Shift: 0.0\n",
            "Shift: 0.0\n",
            "Shift: 0.0\n",
            "Shift: 0.0\n",
            "Shift: 0.0\n",
            "Shift: 0.0\n",
            "Shift: 0.0\n",
            "Shift: 0.0\n",
            "Shift: 0.0\n",
            "Shift: 0.0\n",
            "Shift: 0.0\n",
            "Shift: 0.0\n",
            "Shift: 0.0\n",
            "Shift: 0.0\n",
            "Shift: 0.0\n",
            "Shift: 0.0\n",
            "Shift: 0.0\n",
            "Shift: 0.0\n",
            "Shift: 0.0\n",
            "Shift: 0.0\n",
            "Shift: 0.0\n",
            "Shift: 0.0\n",
            "Shift: 0.0\n",
            "Shift: 0.0\n",
            "Shift: 0.0\n",
            "Shift: 0.0\n",
            "Shift: 0.0\n",
            "Shift: 0.0\n",
            "Shift: 0.0\n",
            "Shift: 0.0\n",
            "Shift: 0.0\n",
            "Shift: 0.0\n",
            "Shift: 0.0\n",
            "Shift: 0.0\n",
            "Shift: 0.0\n",
            "Shift: 0.0\n",
            "Shift: 0.0\n",
            "Shift: 0.0\n",
            "Shift: 0.0\n",
            "Shift: 0.0\n",
            "Shift: 0.0\n",
            "Shift: 0.0\n",
            "Shift: 0.0\n",
            "Shift: 0.0\n",
            "Shift: 0.0\n",
            "Shift: 0.0\n",
            "Shift: 0.0\n",
            "Shift: 0.0\n",
            "Shift: 0.0\n",
            "Shift: 0.0\n",
            "Shift: 0.0\n",
            "Shift: 0.0\n",
            "Shift: 0.0\n",
            "Shift: 0.0\n",
            "Shift: 0.0\n",
            "Shift: 0.0\n",
            "Shift: 0.0\n",
            "Shift: 0.0\n",
            "Shift: 0.0\n",
            "Shift: 0.0\n",
            "Shift: 0.0\n",
            "Shift: 0.0\n",
            "Shift: 0.0\n",
            "Shift: 0.0\n",
            "Shift: 0.0\n",
            "Shift: 0.0\n",
            "Shift: 0.0\n",
            "Shift: 0.0\n",
            "Shift: 0.0\n",
            "Shift: 0.0\n",
            "Shift: 0.0\n",
            "Shift: 0.0\n",
            "Shift: 0.0\n",
            "Shift: 0.0\n",
            "Shift: 0.0\n",
            "Shift: 0.0\n",
            "Shift: 0.0\n",
            "Shift: 0.0\n",
            "Shift: 0.0\n",
            "Shift: 0.0\n",
            "Shift: 0.0\n",
            "Shift: 0.0\n",
            "Shift: 0.0\n",
            "Shift: 0.0\n",
            "Shift: 0.0\n",
            "Shift: 0.0\n",
            "Shift: 0.0\n",
            "Shift: 0.0\n",
            "Shift: 0.0\n",
            "Shift: 0.0\n",
            "Shift: 0.0\n",
            "Shift: 0.0\n",
            "Shift: 0.0\n",
            "Shift: 0.0\n",
            "Shift: 0.0\n",
            "Shift: 0.0\n",
            "Shift: 0.0\n"
          ]
        },
        {
          "output_type": "stream",
          "name": "stderr",
          "text": [
            "\r  0%|          | 0/800 [00:00<?, ?it/s]"
          ]
        },
        {
          "output_type": "stream",
          "name": "stdout",
          "text": [
            "Step: 1 \t Time: 47.31559658050537\n",
            "Shift: 0.005294818115234376\n",
            "Current State: 128    0.472661\n",
            "Name: f, dtype: float64\n"
          ]
        },
        {
          "output_type": "stream",
          "name": "stderr",
          "text": [
            "\r  0%|          | 1/800 [00:06<1:21:59,  6.16s/it]"
          ]
        },
        {
          "output_type": "stream",
          "name": "stdout",
          "text": [
            "Step: 2 \t Time: 53.47393441200256\n",
            "Shift: 0.005840709376335144\n",
            "Current State: 129    1.260386\n",
            "Name: f, dtype: float64\n"
          ]
        },
        {
          "output_type": "stream",
          "name": "stderr",
          "text": [
            "\r  0%|          | 2/800 [00:11<1:15:29,  5.68s/it]"
          ]
        },
        {
          "output_type": "stream",
          "name": "stdout",
          "text": [
            "Step: 3 \t Time: 58.812888383865356\n",
            "Shift: 0.006356360602378846\n",
            "Current State: 130    0.570502\n",
            "Name: f, dtype: float64\n"
          ]
        },
        {
          "output_type": "stream",
          "name": "stderr",
          "text": [
            "\r  0%|          | 3/800 [00:16<1:12:39,  5.47s/it]"
          ]
        },
        {
          "output_type": "stream",
          "name": "stdout",
          "text": [
            "Step: 4 \t Time: 64.03679990768433\n",
            "Shift: 0.00720632073879242\n",
            "Current State: 131    0.372382\n",
            "Name: f, dtype: float64\n"
          ]
        },
        {
          "output_type": "stream",
          "name": "stderr",
          "text": [
            "\r  0%|          | 4/800 [00:25<1:28:04,  6.64s/it]"
          ]
        },
        {
          "output_type": "stream",
          "name": "stdout",
          "text": [
            "Step: 5 \t Time: 72.46932482719421\n",
            "Shift: 0.00778292088508606\n",
            "Current State: 132    0.659266\n",
            "Name: f, dtype: float64\n"
          ]
        },
        {
          "output_type": "stream",
          "name": "stderr",
          "text": [
            "\r  1%|          | 5/800 [00:31<1:24:29,  6.38s/it]"
          ]
        },
        {
          "output_type": "stream",
          "name": "stdout",
          "text": [
            "Step: 6 \t Time: 78.38071870803833\n",
            "Shift: 0.00849628050327301\n",
            "Current State: 133    0.631147\n",
            "Name: f, dtype: float64\n"
          ]
        },
        {
          "output_type": "stream",
          "name": "stderr",
          "text": [
            "\r  1%|          | 6/800 [00:38<1:27:10,  6.59s/it]"
          ]
        },
        {
          "output_type": "stream",
          "name": "stdout",
          "text": [
            "Step: 7 \t Time: 85.37802219390869\n",
            "Shift: 0.00901113133430481\n",
            "Current State: 134    0.572831\n",
            "Name: f, dtype: float64\n"
          ]
        },
        {
          "output_type": "stream",
          "name": "stderr",
          "text": [
            "\r  1%|          | 7/800 [00:43<1:21:22,  6.16s/it]"
          ]
        },
        {
          "output_type": "stream",
          "name": "stdout",
          "text": [
            "Step: 8 \t Time: 90.64836645126343\n",
            "Shift: 0.0096257465839386\n",
            "Current State: 135    0.896507\n",
            "Name: f, dtype: float64\n"
          ]
        },
        {
          "output_type": "stream",
          "name": "stderr",
          "text": [
            "\r  1%|          | 8/800 [00:49<1:20:38,  6.11s/it]"
          ]
        },
        {
          "output_type": "stream",
          "name": "stdout",
          "text": [
            "Step: 9 \t Time: 96.65516066551208\n",
            "Shift: 0.010205358028411866\n",
            "Current State: 136    0.230236\n",
            "Name: f, dtype: float64\n"
          ]
        },
        {
          "output_type": "stream",
          "name": "stderr",
          "text": [
            "\r  1%|          | 9/800 [00:55<1:19:43,  6.05s/it]"
          ]
        },
        {
          "output_type": "stream",
          "name": "stdout",
          "text": [
            "Step: 10 \t Time: 102.56485533714294\n",
            "Shift: 0.010751401376724245\n",
            "Current State: 137    0.230562\n",
            "Name: f, dtype: float64\n"
          ]
        },
        {
          "output_type": "stream",
          "name": "stderr",
          "text": [
            "\r  1%|▏         | 10/800 [01:00<1:16:48,  5.83s/it]"
          ]
        },
        {
          "output_type": "stream",
          "name": "stdout",
          "text": [
            "Step: 11 \t Time: 107.91989469528198\n",
            "Shift: 0.011455987668037414\n",
            "Current State: 138    0.402574\n",
            "Name: f, dtype: float64\n"
          ]
        },
        {
          "output_type": "stream",
          "name": "stderr",
          "text": [
            "\r  1%|▏         | 11/800 [01:07<1:22:14,  6.25s/it]"
          ]
        },
        {
          "output_type": "stream",
          "name": "stdout",
          "text": [
            "Step: 12 \t Time: 115.12850856781006\n",
            "Shift: 0.011868384790420532\n",
            "Current State: 139    0.290341\n",
            "Name: f, dtype: float64\n"
          ]
        },
        {
          "output_type": "stream",
          "name": "stderr",
          "text": [
            "\r  2%|▏         | 12/800 [01:11<1:12:57,  5.56s/it]"
          ]
        },
        {
          "output_type": "stream",
          "name": "stdout",
          "text": [
            "Step: 13 \t Time: 119.08477330207825\n",
            "Shift: 0.012415593481063844\n",
            "Current State: 140    0.304762\n",
            "Name: f, dtype: float64\n"
          ]
        },
        {
          "output_type": "stream",
          "name": "stderr",
          "text": [
            "\r  2%|▏         | 13/800 [01:17<1:12:29,  5.53s/it]"
          ]
        },
        {
          "output_type": "stream",
          "name": "stdout",
          "text": [
            "Step: 14 \t Time: 124.54754996299744\n",
            "Shift: 0.012972863626480103\n",
            "Current State: 141    0.340561\n",
            "Name: f, dtype: float64\n"
          ]
        },
        {
          "output_type": "stream",
          "name": "stderr",
          "text": [
            "\r  2%|▏         | 14/800 [01:22<1:12:45,  5.55s/it]"
          ]
        },
        {
          "output_type": "stream",
          "name": "stdout",
          "text": [
            "Step: 15 \t Time: 130.16322422027588\n",
            "Shift: 0.01354004638195038\n",
            "Current State: 142    0.369157\n",
            "Name: f, dtype: float64\n"
          ]
        },
        {
          "output_type": "stream",
          "name": "stderr",
          "text": [
            "\r  2%|▏         | 15/800 [01:28<1:12:59,  5.58s/it]"
          ]
        },
        {
          "output_type": "stream",
          "name": "stdout",
          "text": [
            "Step: 16 \t Time: 135.80063438415527\n",
            "Shift: 0.014090028619766236\n",
            "Current State: 143    0.393463\n",
            "Name: f, dtype: float64\n"
          ]
        },
        {
          "output_type": "stream",
          "name": "stderr",
          "text": [
            "\r  2%|▏         | 16/800 [01:34<1:12:57,  5.58s/it]"
          ]
        },
        {
          "output_type": "stream",
          "name": "stdout",
          "text": [
            "Step: 17 \t Time: 141.3943953514099\n",
            "Shift: 0.01472594714164734\n",
            "Current State: 144    0.422826\n",
            "Name: f, dtype: float64\n"
          ]
        },
        {
          "output_type": "stream",
          "name": "stderr",
          "text": [
            "\r  2%|▏         | 17/800 [01:40<1:15:37,  5.80s/it]"
          ]
        },
        {
          "output_type": "stream",
          "name": "stdout",
          "text": [
            "Step: 18 \t Time: 147.68193888664246\n",
            "Shift: 0.015267201972007751\n",
            "Current State: 145    0.447267\n",
            "Name: f, dtype: float64\n"
          ]
        },
        {
          "output_type": "stream",
          "name": "stderr",
          "text": [
            "\r  2%|▏         | 18/800 [01:45<1:14:44,  5.73s/it]"
          ]
        },
        {
          "output_type": "stream",
          "name": "stdout",
          "text": [
            "Step: 19 \t Time: 153.27667927742004\n",
            "Shift: 0.01587612113952637\n",
            "Current State: 146    0.47256\n",
            "Name: f, dtype: float64\n"
          ]
        },
        {
          "output_type": "stream",
          "name": "stderr",
          "text": [
            "\r  2%|▏         | 19/800 [01:51<1:15:22,  5.79s/it]"
          ]
        },
        {
          "output_type": "stream",
          "name": "stdout",
          "text": [
            "Step: 20 \t Time: 159.19559502601624\n",
            "Shift: 0.016492448163032532\n",
            "Current State: 147    0.489897\n",
            "Name: f, dtype: float64\n"
          ]
        },
        {
          "output_type": "stream",
          "name": "stderr",
          "text": [
            "\r  2%|▎         | 20/800 [01:58<1:19:33,  6.12s/it]"
          ]
        },
        {
          "output_type": "stream",
          "name": "stdout",
          "text": [
            "Step: 21 \t Time: 166.08243608474731\n",
            "Shift: 0.01695131907463074\n",
            "Current State: 148    0.53407\n",
            "Name: f, dtype: float64\n"
          ]
        },
        {
          "output_type": "stream",
          "name": "stderr",
          "text": [
            "\r  3%|▎         | 21/800 [02:02<1:10:37,  5.44s/it]"
          ]
        },
        {
          "output_type": "stream",
          "name": "stdout",
          "text": [
            "Step: 22 \t Time: 169.93483424186707\n",
            "Shift: 0.017413787627220154\n",
            "Current State: 149    0.486112\n",
            "Name: f, dtype: float64\n"
          ]
        },
        {
          "output_type": "stream",
          "name": "stderr",
          "text": [
            "\r  3%|▎         | 22/800 [02:07<1:07:20,  5.19s/it]"
          ]
        },
        {
          "output_type": "stream",
          "name": "stdout",
          "text": [
            "Step: 23 \t Time: 174.55358982086182\n",
            "Shift: 0.0180655277967453\n",
            "Current State: 150    0.345067\n",
            "Name: f, dtype: float64\n"
          ]
        },
        {
          "output_type": "stream",
          "name": "stderr",
          "text": [
            "\r  3%|▎         | 23/800 [02:13<1:12:22,  5.59s/it]"
          ]
        },
        {
          "output_type": "stream",
          "name": "stdout",
          "text": [
            "Step: 24 \t Time: 181.06798124313354\n",
            "Shift: 0.01847897593975067\n",
            "Current State: 151    0.173406\n",
            "Name: f, dtype: float64\n"
          ]
        },
        {
          "output_type": "stream",
          "name": "stderr",
          "text": [
            "\r  3%|▎         | 24/800 [02:17<1:06:39,  5.15s/it]"
          ]
        },
        {
          "output_type": "stream",
          "name": "stdout",
          "text": [
            "Step: 25 \t Time: 185.20875191688538\n",
            "Shift: 0.018906530761718752\n",
            "Current State: 152    0.179123\n",
            "Name: f, dtype: float64\n"
          ]
        },
        {
          "output_type": "stream",
          "name": "stderr",
          "text": [
            "\r  3%|▎         | 25/800 [02:22<1:03:12,  4.89s/it]"
          ]
        },
        {
          "output_type": "stream",
          "name": "stdout",
          "text": [
            "Step: 26 \t Time: 189.49079656600952\n",
            "Shift: 0.019588706183433533\n",
            "Current State: 153    0.189032\n",
            "Name: f, dtype: float64\n"
          ]
        },
        {
          "output_type": "stream",
          "name": "stderr",
          "text": [
            "\r  3%|▎         | 26/800 [02:28<1:10:31,  5.47s/it]"
          ]
        },
        {
          "output_type": "stream",
          "name": "stdout",
          "text": [
            "Step: 27 \t Time: 196.2977933883667\n",
            "Shift: 0.020168891286849976\n",
            "Current State: 154    0.1567\n",
            "Name: f, dtype: float64\n"
          ]
        },
        {
          "output_type": "stream",
          "name": "stderr",
          "text": [
            "\r  3%|▎         | 27/800 [02:34<1:11:46,  5.57s/it]"
          ]
        },
        {
          "output_type": "stream",
          "name": "stdout",
          "text": [
            "Step: 28 \t Time: 202.11160492897034\n",
            "Shift: 0.02082364947795868\n",
            "Current State: 155    0.13901\n",
            "Name: f, dtype: float64\n"
          ]
        },
        {
          "output_type": "stream",
          "name": "stderr",
          "text": [
            "\r  4%|▎         | 28/800 [02:41<1:15:27,  5.86s/it]"
          ]
        },
        {
          "output_type": "stream",
          "name": "stdout",
          "text": [
            "Step: 29 \t Time: 208.66067910194397\n",
            "Shift: 0.02129523050785065\n",
            "Current State: 156    0.145791\n",
            "Name: f, dtype: float64\n"
          ]
        },
        {
          "output_type": "stream",
          "name": "stderr",
          "text": [
            "\r  4%|▎         | 29/800 [02:46<1:10:54,  5.52s/it]"
          ]
        },
        {
          "output_type": "stream",
          "name": "stdout",
          "text": [
            "Step: 30 \t Time: 213.3713607788086\n",
            "Shift: 0.021805604100227357\n",
            "Current State: 157    0.077685\n",
            "Name: f, dtype: float64\n"
          ]
        },
        {
          "output_type": "stream",
          "name": "stderr",
          "text": [
            "\r  4%|▍         | 30/800 [02:51<1:09:12,  5.39s/it]"
          ]
        },
        {
          "output_type": "stream",
          "name": "stdout",
          "text": [
            "Step: 31 \t Time: 218.4729835987091\n",
            "Shift: 0.022091585540771487\n",
            "Current State: 158    0.207658\n",
            "Name: f, dtype: float64\n"
          ]
        },
        {
          "output_type": "stream",
          "name": "stderr",
          "text": [
            "\r  4%|▍         | 31/800 [02:53<59:19,  4.63s/it]  "
          ]
        },
        {
          "output_type": "stream",
          "name": "stdout",
          "text": [
            "Step: 32 \t Time: 221.31604051589966\n",
            "Shift: 0.022287517952919007\n",
            "Current State: 159    1.560217\n",
            "Name: f, dtype: float64\n"
          ]
        },
        {
          "output_type": "stream",
          "name": "stderr",
          "text": [
            "\r  4%|▍         | 32/800 [02:55<48:59,  3.83s/it]"
          ]
        },
        {
          "output_type": "stream",
          "name": "stdout",
          "text": [
            "Step: 33 \t Time: 223.2768635749817\n",
            "Shift: 0.022707302355766297\n",
            "Current State: 160    0.054153\n",
            "Name: f, dtype: float64\n"
          ]
        },
        {
          "output_type": "stream",
          "name": "stderr",
          "text": [
            "\r  4%|▍         | 33/800 [03:00<50:23,  3.94s/it]"
          ]
        },
        {
          "output_type": "stream",
          "name": "stdout",
          "text": [
            "Step: 34 \t Time: 227.48512887954712\n",
            "Shift: 0.023127775382995607\n",
            "Current State: 161    0.159012\n",
            "Name: f, dtype: float64\n"
          ]
        },
        {
          "output_type": "stream",
          "name": "stderr",
          "text": [
            "\r  4%|▍         | 34/800 [03:04<51:19,  4.02s/it]"
          ]
        },
        {
          "output_type": "stream",
          "name": "stdout",
          "text": [
            "Step: 35 \t Time: 231.68928790092468\n",
            "Shift: 0.0232789092540741\n",
            "Current State: 162    0.505233\n",
            "Name: f, dtype: float64\n"
          ]
        },
        {
          "output_type": "stream",
          "name": "stderr",
          "text": [
            "\r  4%|▍         | 35/800 [03:05<41:38,  3.27s/it]"
          ]
        },
        {
          "output_type": "stream",
          "name": "stdout",
          "text": [
            "Step: 36 \t Time: 233.19474577903748\n",
            "Shift: 0.023396872830390932\n",
            "Current State: 163    0.965343\n",
            "Name: f, dtype: float64\n"
          ]
        },
        {
          "output_type": "stream",
          "name": "stderr",
          "text": [
            "\r  4%|▍         | 36/800 [03:07<33:37,  2.64s/it]"
          ]
        },
        {
          "output_type": "stream",
          "name": "stdout",
          "text": [
            "Step: 37 \t Time: 234.3743395805359\n",
            "Shift: 0.023479276490211486\n",
            "Current State: 164    1.097659\n",
            "Name: f, dtype: float64\n"
          ]
        },
        {
          "output_type": "stream",
          "name": "stderr",
          "text": [
            "\r  5%|▍         | 37/800 [03:07<26:40,  2.10s/it]"
          ]
        },
        {
          "output_type": "stream",
          "name": "stdout",
          "text": [
            "Step: 38 \t Time: 235.2050802707672\n",
            "Shift: 0.023570038056373598\n",
            "Current State: 165    7.287779\n",
            "Name: f, dtype: float64\n"
          ]
        },
        {
          "output_type": "stream",
          "name": "stderr",
          "text": [
            "\r  5%|▍         | 38/800 [03:08<22:10,  1.75s/it]"
          ]
        },
        {
          "output_type": "stream",
          "name": "stdout",
          "text": [
            "Step: 39 \t Time: 236.13175106048584\n",
            "Shift: 0.023799417257308962\n",
            "Current State: 166    0.775181\n",
            "Name: f, dtype: float64\n"
          ]
        },
        {
          "output_type": "stream",
          "name": "stderr",
          "text": [
            "\r  5%|▍         | 39/800 [03:11<24:08,  1.90s/it]"
          ]
        },
        {
          "output_type": "stream",
          "name": "stdout",
          "text": [
            "Step: 40 \t Time: 238.40476322174072\n",
            "Shift: 0.02389242949485779\n",
            "Current State: 167    1.564231\n",
            "Name: f, dtype: float64\n"
          ]
        },
        {
          "output_type": "stream",
          "name": "stderr",
          "text": [
            "\r  5%|▌         | 40/800 [03:12<20:26,  1.61s/it]"
          ]
        },
        {
          "output_type": "stream",
          "name": "stdout",
          "text": [
            "Step: 41 \t Time: 239.3394055366516\n",
            "Shift: 0.024048356294631958\n",
            "Current State: 168    0.271203\n",
            "Name: f, dtype: float64\n"
          ]
        },
        {
          "output_type": "stream",
          "name": "stderr",
          "text": [
            "\r  5%|▌         | 41/800 [03:13<20:54,  1.65s/it]"
          ]
        },
        {
          "output_type": "stream",
          "name": "stdout",
          "text": [
            "Step: 42 \t Time: 241.08340311050415\n",
            "Shift: 0.02426094992160797\n",
            "Current State: 169    0.172033\n",
            "Name: f, dtype: float64\n"
          ]
        },
        {
          "output_type": "stream",
          "name": "stderr",
          "text": [
            "\r  5%|▌         | 42/800 [03:15<21:56,  1.74s/it]"
          ]
        },
        {
          "output_type": "stream",
          "name": "stdout",
          "text": [
            "Step: 43 \t Time: 243.01821160316467\n",
            "Shift: 0.024466208362579348\n",
            "Current State: 170    0.541189\n",
            "Name: f, dtype: float64\n"
          ]
        },
        {
          "output_type": "stream",
          "name": "stderr",
          "text": [
            "\r  5%|▌         | 43/800 [03:17<23:06,  1.83s/it]"
          ]
        },
        {
          "output_type": "stream",
          "name": "stdout",
          "text": [
            "Step: 44 \t Time: 245.06779599189758\n",
            "Shift: 0.024601950049400332\n",
            "Current State: 171    0.166098\n",
            "Name: f, dtype: float64\n"
          ]
        },
        {
          "output_type": "stream",
          "name": "stderr",
          "text": [
            "\r  6%|▌         | 44/800 [03:19<21:22,  1.70s/it]"
          ]
        },
        {
          "output_type": "stream",
          "name": "stdout",
          "text": [
            "Step: 45 \t Time: 246.45096707344055\n",
            "Shift: 0.024760000324249267\n",
            "Current State: 172    0.115989\n",
            "Name: f, dtype: float64\n"
          ]
        },
        {
          "output_type": "stream",
          "name": "stderr",
          "text": [
            "\r  6%|▌         | 45/800 [03:20<20:50,  1.66s/it]"
          ]
        },
        {
          "output_type": "stream",
          "name": "stdout",
          "text": [
            "Step: 46 \t Time: 248.01419043540955\n",
            "Shift: 0.024860490393638614\n",
            "Current State: 173    1.658632\n",
            "Name: f, dtype: float64\n"
          ]
        },
        {
          "output_type": "stream",
          "name": "stderr",
          "text": [
            "\r  6%|▌         | 46/800 [03:21<18:20,  1.46s/it]"
          ]
        },
        {
          "output_type": "stream",
          "name": "stdout",
          "text": [
            "Step: 47 \t Time: 249.01321578025818\n",
            "Shift: 0.02501760280132294\n",
            "Current State: 174    1.0517\n",
            "Name: f, dtype: float64\n"
          ]
        },
        {
          "output_type": "stream",
          "name": "stderr",
          "text": [
            "\r  6%|▌         | 47/800 [03:23<18:46,  1.50s/it]"
          ]
        },
        {
          "output_type": "stream",
          "name": "stdout",
          "text": [
            "Step: 48 \t Time: 250.59289455413818\n",
            "Shift: 0.025156999325752258\n",
            "Current State: 175    1.022716\n",
            "Name: f, dtype: float64\n"
          ]
        },
        {
          "output_type": "stream",
          "name": "stderr",
          "text": [
            "\r  6%|▌         | 48/800 [03:24<18:24,  1.47s/it]"
          ]
        },
        {
          "output_type": "stream",
          "name": "stdout",
          "text": [
            "Step: 49 \t Time: 251.99891591072083\n",
            "Shift: 0.025257094645500185\n",
            "Current State: 176    1.634975\n",
            "Name: f, dtype: float64\n"
          ]
        },
        {
          "output_type": "stream",
          "name": "stderr",
          "text": [
            "\r  6%|▌         | 49/800 [03:25<17:16,  1.38s/it]"
          ]
        },
        {
          "output_type": "stream",
          "name": "stdout",
          "text": [
            "Step: 50 \t Time: 253.17290949821472\n",
            "Shift: 0.025434730672836307\n",
            "Current State: 177    0.796207\n",
            "Name: f, dtype: float64\n"
          ]
        },
        {
          "output_type": "stream",
          "name": "stderr",
          "text": [
            "\r  6%|▋         | 50/800 [03:27<18:33,  1.48s/it]"
          ]
        },
        {
          "output_type": "stream",
          "name": "stdout",
          "text": [
            "Step: 51 \t Time: 254.90203261375427\n",
            "Shift: 0.025731775045394898\n",
            "Current State: 178    0.146081\n",
            "Name: f, dtype: float64\n"
          ]
        },
        {
          "output_type": "stream",
          "name": "stderr",
          "text": [
            "\r  6%|▋         | 51/800 [03:30<23:39,  1.89s/it]"
          ]
        },
        {
          "output_type": "stream",
          "name": "stdout",
          "text": [
            "Step: 52 \t Time: 257.75236201286316\n",
            "Shift: 0.02589901523590088\n",
            "Current State: 179    0.728034\n",
            "Name: f, dtype: float64\n"
          ]
        },
        {
          "output_type": "stream",
          "name": "stderr",
          "text": [
            "\r  6%|▋         | 52/800 [03:32<22:42,  1.82s/it]"
          ]
        },
        {
          "output_type": "stream",
          "name": "stdout",
          "text": [
            "Step: 53 \t Time: 259.40323662757874\n",
            "Shift: 0.026055563497543337\n",
            "Current State: 180    1.558461\n",
            "Name: f, dtype: float64\n"
          ]
        },
        {
          "output_type": "stream",
          "name": "stderr",
          "text": [
            "\r  7%|▋         | 53/800 [03:33<21:47,  1.75s/it]"
          ]
        },
        {
          "output_type": "stream",
          "name": "stdout",
          "text": [
            "Step: 54 \t Time: 260.98610377311707\n",
            "Shift: 0.02616867117881775\n",
            "Current State: 181    0.677705\n",
            "Name: f, dtype: float64\n"
          ]
        },
        {
          "output_type": "stream",
          "name": "stderr",
          "text": [
            "\r  7%|▋         | 54/800 [03:34<19:26,  1.56s/it]"
          ]
        },
        {
          "output_type": "stream",
          "name": "stdout",
          "text": [
            "Step: 55 \t Time: 262.1137897968292\n",
            "Shift: 0.026323938703536987\n",
            "Current State: 182    0.177951\n",
            "Name: f, dtype: float64\n"
          ]
        },
        {
          "output_type": "stream",
          "name": "stderr",
          "text": [
            "\r  7%|▋         | 55/800 [03:36<19:20,  1.56s/it]"
          ]
        },
        {
          "output_type": "stream",
          "name": "stdout",
          "text": [
            "Step: 56 \t Time: 263.6602506637573\n",
            "Shift: 0.02671730818748474\n",
            "Current State: 183    0.193356\n",
            "Name: f, dtype: float64\n"
          ]
        },
        {
          "output_type": "stream",
          "name": "stderr",
          "text": [
            "\r  7%|▋         | 56/800 [03:40<28:45,  2.32s/it]"
          ]
        },
        {
          "output_type": "stream",
          "name": "stdout",
          "text": [
            "Step: 57 \t Time: 267.7567777633667\n",
            "Shift: 0.026847448420524597\n",
            "Current State: 184    0.702062\n",
            "Name: f, dtype: float64\n"
          ]
        },
        {
          "output_type": "stream",
          "name": "stderr",
          "text": [
            "\r  7%|▋         | 57/800 [03:41<24:19,  1.96s/it]"
          ]
        },
        {
          "output_type": "stream",
          "name": "stdout",
          "text": [
            "Step: 58 \t Time: 268.89260959625244\n",
            "Shift: 0.027019856500625612\n",
            "Current State: 185    0.212452\n",
            "Name: f, dtype: float64\n"
          ]
        },
        {
          "output_type": "stream",
          "name": "stderr",
          "text": [
            "\r  7%|▋         | 58/800 [03:43<23:22,  1.89s/it]"
          ]
        },
        {
          "output_type": "stream",
          "name": "stdout",
          "text": [
            "Step: 59 \t Time: 270.6112914085388\n",
            "Shift: 0.02715199966430664\n",
            "Current State: 186    0.217918\n",
            "Name: f, dtype: float64\n"
          ]
        },
        {
          "output_type": "stream",
          "name": "stderr",
          "text": [
            "\r  7%|▋         | 59/800 [03:44<21:15,  1.72s/it]"
          ]
        },
        {
          "output_type": "stream",
          "name": "stdout",
          "text": [
            "Step: 60 \t Time: 271.9360988140106\n",
            "Shift: 0.02724282150268555\n",
            "Current State: 187    0.710029\n",
            "Name: f, dtype: float64\n"
          ]
        },
        {
          "output_type": "stream",
          "name": "stderr",
          "text": [
            "\r  8%|▊         | 60/800 [03:45<18:14,  1.48s/it]"
          ]
        },
        {
          "output_type": "stream",
          "name": "stdout",
          "text": [
            "Step: 61 \t Time: 272.8501989841461\n",
            "Shift: 0.02733504366874695\n",
            "Current State: 188    0.779041\n",
            "Name: f, dtype: float64\n"
          ]
        },
        {
          "output_type": "stream",
          "name": "stderr",
          "text": [
            "\r  8%|▊         | 61/800 [03:46<16:09,  1.31s/it]"
          ]
        },
        {
          "output_type": "stream",
          "name": "stdout",
          "text": [
            "Step: 62 \t Time: 273.77113342285156\n",
            "Shift: 0.027448186922073365\n",
            "Current State: 189    0.236458\n",
            "Name: f, dtype: float64\n"
          ]
        },
        {
          "output_type": "stream",
          "name": "stderr",
          "text": [
            "\r  8%|▊         | 62/800 [03:47<15:27,  1.26s/it]"
          ]
        },
        {
          "output_type": "stream",
          "name": "stdout",
          "text": [
            "Step: 63 \t Time: 274.90064811706543\n",
            "Shift: 0.027581387662887574\n",
            "Current State: 190    0.238033\n",
            "Name: f, dtype: float64\n"
          ]
        },
        {
          "output_type": "stream",
          "name": "stderr",
          "text": [
            "\r  8%|▊         | 63/800 [03:48<15:44,  1.28s/it]"
          ]
        },
        {
          "output_type": "stream",
          "name": "stdout",
          "text": [
            "Step: 64 \t Time: 276.2397358417511\n",
            "Shift: 0.027682021737098696\n",
            "Current State: 191    1.904277\n",
            "Name: f, dtype: float64\n"
          ]
        },
        {
          "output_type": "stream",
          "name": "stderr",
          "text": [
            "\r  8%|▊         | 64/800 [03:49<14:43,  1.20s/it]"
          ]
        },
        {
          "output_type": "stream",
          "name": "stdout",
          "text": [
            "Step: 65 \t Time: 277.25122141838074\n",
            "Shift: 0.027810533738136294\n",
            "Current State: 192    0.657827\n",
            "Name: f, dtype: float64\n"
          ]
        },
        {
          "output_type": "stream",
          "name": "stderr",
          "text": [
            "\r  8%|▊         | 65/800 [03:51<15:40,  1.28s/it]"
          ]
        },
        {
          "output_type": "stream",
          "name": "stdout",
          "text": [
            "Step: 66 \t Time: 278.71503806114197\n",
            "Shift: 0.027962395238876343\n",
            "Current State: 193    1.667848\n",
            "Name: f, dtype: float64\n"
          ]
        },
        {
          "output_type": "stream",
          "name": "stderr",
          "text": [
            "\r  8%|▊         | 66/800 [03:52<16:19,  1.33s/it]"
          ]
        },
        {
          "output_type": "stream",
          "name": "stdout",
          "text": [
            "Step: 67 \t Time: 280.1771967411041\n",
            "Shift: 0.02811814343929291\n",
            "Current State: 194    0.256965\n",
            "Name: f, dtype: float64\n"
          ]
        },
        {
          "output_type": "stream",
          "name": "stderr",
          "text": [
            "\r  8%|▊         | 67/800 [03:54<16:39,  1.36s/it]"
          ]
        },
        {
          "output_type": "stream",
          "name": "stdout",
          "text": [
            "Step: 68 \t Time: 281.6101016998291\n",
            "Shift: 0.028238260483741763\n",
            "Current State: 195    0.647254\n",
            "Name: f, dtype: float64\n"
          ]
        },
        {
          "output_type": "stream",
          "name": "stderr",
          "text": [
            "\r  8%|▊         | 68/800 [03:55<16:03,  1.32s/it]"
          ]
        },
        {
          "output_type": "stream",
          "name": "stdout",
          "text": [
            "Step: 69 \t Time: 282.81355452537537\n",
            "Shift: 0.028377449584007265\n",
            "Current State: 196    0.2536\n",
            "Name: f, dtype: float64\n"
          ]
        },
        {
          "output_type": "stream",
          "name": "stderr",
          "text": [
            "\r  9%|▊         | 69/800 [03:56<16:16,  1.34s/it]"
          ]
        },
        {
          "output_type": "stream",
          "name": "stdout",
          "text": [
            "Step: 70 \t Time: 284.19779205322266\n",
            "Shift: 0.028517288446426394\n",
            "Current State: 197    0.225665\n",
            "Name: f, dtype: float64\n"
          ]
        },
        {
          "output_type": "stream",
          "name": "stderr",
          "text": [
            "\r  9%|▉         | 70/800 [03:58<16:29,  1.36s/it]"
          ]
        },
        {
          "output_type": "stream",
          "name": "stdout",
          "text": [
            "Step: 71 \t Time: 285.5984523296356\n",
            "Shift: 0.02876919279098511\n",
            "Current State: 198    0.229487\n",
            "Name: f, dtype: float64\n"
          ]
        },
        {
          "output_type": "stream",
          "name": "stderr",
          "text": [
            "\r  9%|▉         | 71/800 [04:00<20:43,  1.71s/it]"
          ]
        },
        {
          "output_type": "stream",
          "name": "stdout",
          "text": [
            "Step: 72 \t Time: 288.12254571914673\n",
            "Shift: 0.02887759008407593\n",
            "Current State: 199    1.781476\n",
            "Name: f, dtype: float64\n"
          ]
        },
        {
          "output_type": "stream",
          "name": "stderr",
          "text": [
            "\r  9%|▉         | 72/800 [04:01<18:23,  1.52s/it]"
          ]
        },
        {
          "output_type": "stream",
          "name": "stdout",
          "text": [
            "Step: 73 \t Time: 289.1938979625702\n",
            "Shift: 0.029003175187110902\n",
            "Current State: 200    0.222669\n",
            "Name: f, dtype: float64\n"
          ]
        },
        {
          "output_type": "stream",
          "name": "stderr",
          "text": [
            "\r  9%|▉         | 73/800 [04:03<17:27,  1.44s/it]"
          ]
        },
        {
          "output_type": "stream",
          "name": "stdout",
          "text": [
            "Step: 74 \t Time: 290.45956325531006\n",
            "Shift: 0.029352009201049807\n",
            "Current State: 201    0.221916\n",
            "Name: f, dtype: float64\n"
          ]
        },
        {
          "output_type": "stream",
          "name": "stderr",
          "text": [
            "\r  9%|▉         | 74/800 [04:06<24:49,  2.05s/it]"
          ]
        },
        {
          "output_type": "stream",
          "name": "stdout",
          "text": [
            "Step: 75 \t Time: 293.9362368583679\n",
            "Shift: 0.02946508462429047\n",
            "Current State: 202    1.926669\n",
            "Name: f, dtype: float64\n"
          ]
        },
        {
          "output_type": "stream",
          "name": "stderr",
          "text": [
            "\r  9%|▉         | 75/800 [04:07<21:40,  1.79s/it]"
          ]
        },
        {
          "output_type": "stream",
          "name": "stdout",
          "text": [
            "Step: 76 \t Time: 295.1287124156952\n",
            "Shift: 0.029581661558151246\n",
            "Current State: 203    1.760481\n",
            "Name: f, dtype: float64\n"
          ]
        },
        {
          "output_type": "stream",
          "name": "stderr",
          "text": [
            "\r 10%|▉         | 76/800 [04:08<19:14,  1.59s/it]"
          ]
        },
        {
          "output_type": "stream",
          "name": "stdout",
          "text": [
            "Step: 77 \t Time: 296.2564253807068\n",
            "Shift: 0.029715968227386477\n",
            "Current State: 204    0.23932\n",
            "Name: f, dtype: float64\n"
          ]
        },
        {
          "output_type": "stream",
          "name": "stderr",
          "text": [
            "\r 10%|▉         | 77/800 [04:10<18:13,  1.51s/it]"
          ]
        },
        {
          "output_type": "stream",
          "name": "stdout",
          "text": [
            "Step: 78 \t Time: 297.57691717147827\n",
            "Shift: 0.029815784740448\n",
            "Current State: 205    0.647629\n",
            "Name: f, dtype: float64\n"
          ]
        },
        {
          "output_type": "stream",
          "name": "stderr",
          "text": [
            "\r 10%|▉         | 78/800 [04:11<16:18,  1.36s/it]"
          ]
        },
        {
          "output_type": "stream",
          "name": "stdout",
          "text": [
            "Step: 79 \t Time: 298.56881856918335\n",
            "Shift: 0.029916303324699405\n",
            "Current State: 206    0.661425\n",
            "Name: f, dtype: float64\n"
          ]
        },
        {
          "output_type": "stream",
          "name": "stderr",
          "text": [
            "\r 10%|▉         | 79/800 [04:12<15:06,  1.26s/it]"
          ]
        },
        {
          "output_type": "stream",
          "name": "stdout",
          "text": [
            "Step: 80 \t Time: 299.59530544281006\n",
            "Shift: 0.030055020093917847\n",
            "Current State: 207    0.24066\n",
            "Name: f, dtype: float64\n"
          ]
        },
        {
          "output_type": "stream",
          "name": "stderr",
          "text": [
            "\r 10%|█         | 80/800 [04:13<15:28,  1.29s/it]"
          ]
        },
        {
          "output_type": "stream",
          "name": "stdout",
          "text": [
            "Step: 81 \t Time: 300.9609808921814\n",
            "Shift: 0.030282752084732058\n",
            "Current State: 208    0.252509\n",
            "Name: f, dtype: float64\n"
          ]
        },
        {
          "output_type": "stream",
          "name": "stderr",
          "text": [
            "\r 10%|█         | 81/800 [04:16<19:26,  1.62s/it]"
          ]
        },
        {
          "output_type": "stream",
          "name": "stdout",
          "text": [
            "Step: 82 \t Time: 303.3605172634125\n",
            "Shift: 0.030419578957557678\n",
            "Current State: 209    0.684485\n",
            "Name: f, dtype: float64\n"
          ]
        },
        {
          "output_type": "stream",
          "name": "stderr",
          "text": [
            "\r 10%|█         | 82/800 [04:17<18:41,  1.56s/it]"
          ]
        },
        {
          "output_type": "stream",
          "name": "stdout",
          "text": [
            "Step: 83 \t Time: 304.7792754173279\n",
            "Shift: 0.03062917721271515\n",
            "Current State: 210    0.264102\n",
            "Name: f, dtype: float64\n"
          ]
        },
        {
          "output_type": "stream",
          "name": "stderr",
          "text": [
            "\r 10%|█         | 83/800 [04:19<19:59,  1.67s/it]"
          ]
        },
        {
          "output_type": "stream",
          "name": "stdout",
          "text": [
            "Step: 84 \t Time: 306.71414399147034\n",
            "Shift: 0.030734944248199465\n",
            "Current State: 211    0.264828\n",
            "Name: f, dtype: float64\n"
          ]
        },
        {
          "output_type": "stream",
          "name": "stderr",
          "text": [
            "\r 10%|█         | 84/800 [04:20<17:46,  1.49s/it]"
          ]
        },
        {
          "output_type": "stream",
          "name": "stdout",
          "text": [
            "Step: 85 \t Time: 307.7766044139862\n",
            "Shift: 0.030864181685447696\n",
            "Current State: 212    0.27157\n",
            "Name: f, dtype: float64\n"
          ]
        },
        {
          "output_type": "stream",
          "name": "stderr",
          "text": [
            "\r 11%|█         | 85/800 [04:21<17:00,  1.43s/it]"
          ]
        },
        {
          "output_type": "stream",
          "name": "stdout",
          "text": [
            "Step: 86 \t Time: 309.0554201602936\n",
            "Shift: 0.03097223973274231\n",
            "Current State: 213    0.637\n",
            "Name: f, dtype: float64\n"
          ]
        },
        {
          "output_type": "stream",
          "name": "stderr",
          "text": [
            "\r 11%|█         | 86/800 [04:22<15:43,  1.32s/it]"
          ]
        },
        {
          "output_type": "stream",
          "name": "stdout",
          "text": [
            "Step: 87 \t Time: 310.12943029403687\n",
            "Shift: 0.03109087920188904\n",
            "Current State: 214    0.273967\n",
            "Name: f, dtype: float64\n"
          ]
        },
        {
          "output_type": "stream",
          "name": "stderr",
          "text": [
            "\r 11%|█         | 87/800 [04:24<15:15,  1.28s/it]"
          ]
        },
        {
          "output_type": "stream",
          "name": "stdout",
          "text": [
            "Step: 88 \t Time: 311.3259365558624\n",
            "Shift: 0.031190770959854126\n",
            "Current State: 215    0.625819\n",
            "Name: f, dtype: float64\n"
          ]
        },
        {
          "output_type": "stream",
          "name": "stderr",
          "text": [
            "\r 11%|█         | 88/800 [04:25<14:13,  1.20s/it]"
          ]
        },
        {
          "output_type": "stream",
          "name": "stdout",
          "text": [
            "Step: 89 \t Time: 312.3250870704651\n",
            "Shift: 0.03130365493297577\n",
            "Current State: 216    0.624492\n",
            "Name: f, dtype: float64\n"
          ]
        },
        {
          "output_type": "stream",
          "name": "stderr",
          "text": [
            "\r 11%|█         | 89/800 [04:26<13:56,  1.18s/it]"
          ]
        },
        {
          "output_type": "stream",
          "name": "stdout",
          "text": [
            "Step: 90 \t Time: 313.4509325027466\n",
            "Shift: 0.03147849454879761\n",
            "Current State: 217    0.286245\n",
            "Name: f, dtype: float64\n"
          ]
        },
        {
          "output_type": "stream",
          "name": "stderr",
          "text": [
            "\r 11%|█▏        | 90/800 [04:27<15:57,  1.35s/it]"
          ]
        },
        {
          "output_type": "stream",
          "name": "stdout",
          "text": [
            "Step: 91 \t Time: 315.1999614238739\n",
            "Shift: 0.03160082964897156\n",
            "Current State: 218    0.283593\n",
            "Name: f, dtype: float64\n"
          ]
        },
        {
          "output_type": "stream",
          "name": "stderr",
          "text": [
            "\r 11%|█▏        | 91/800 [04:29<16:07,  1.37s/it]"
          ]
        },
        {
          "output_type": "stream",
          "name": "stdout",
          "text": [
            "Step: 92 \t Time: 316.60465383529663\n",
            "Shift: 0.0317608232498169\n",
            "Current State: 219    0.265019\n",
            "Name: f, dtype: float64\n"
          ]
        },
        {
          "output_type": "stream",
          "name": "stderr",
          "text": [
            "\r 12%|█▏        | 92/800 [04:30<16:56,  1.44s/it]"
          ]
        },
        {
          "output_type": "stream",
          "name": "stdout",
          "text": [
            "Step: 93 \t Time: 318.2067530155182\n",
            "Shift: 0.031926546406745915\n",
            "Current State: 220    0.268103\n",
            "Name: f, dtype: float64\n"
          ]
        },
        {
          "output_type": "stream",
          "name": "stderr",
          "text": [
            "\r 12%|█▏        | 93/800 [04:32<17:02,  1.45s/it]"
          ]
        },
        {
          "output_type": "stream",
          "name": "stdout",
          "text": [
            "Step: 94 \t Time: 319.6753816604614\n",
            "Shift: 0.03204871666431427\n",
            "Current State: 221    0.623048\n",
            "Name: f, dtype: float64\n"
          ]
        },
        {
          "output_type": "stream",
          "name": "stderr",
          "text": [
            "\r 12%|█▏        | 94/800 [04:33<16:13,  1.38s/it]"
          ]
        },
        {
          "output_type": "stream",
          "name": "stdout",
          "text": [
            "Step: 95 \t Time: 320.899272441864\n",
            "Shift: 0.03216093788146973\n",
            "Current State: 222    0.668194\n",
            "Name: f, dtype: float64\n"
          ]
        },
        {
          "output_type": "stream",
          "name": "stderr",
          "text": [
            "\r 12%|█▏        | 95/800 [04:34<15:18,  1.30s/it]"
          ]
        },
        {
          "output_type": "stream",
          "name": "stdout",
          "text": [
            "Step: 96 \t Time: 322.02548384666443\n",
            "Shift: 0.03227878654003143\n",
            "Current State: 223    0.247749\n",
            "Name: f, dtype: float64\n"
          ]
        },
        {
          "output_type": "stream",
          "name": "stderr",
          "text": [
            "\r 12%|█▏        | 96/800 [04:35<14:51,  1.27s/it]"
          ]
        },
        {
          "output_type": "stream",
          "name": "stdout",
          "text": [
            "Step: 97 \t Time: 323.2059762477875\n",
            "Shift: 0.032397833824157715\n",
            "Current State: 224    0.217435\n",
            "Name: f, dtype: float64\n"
          ]
        },
        {
          "output_type": "stream",
          "name": "stderr",
          "text": [
            "\r 12%|█▏        | 97/800 [04:37<14:36,  1.25s/it]"
          ]
        },
        {
          "output_type": "stream",
          "name": "stdout",
          "text": [
            "Step: 98 \t Time: 324.4064574241638\n",
            "Shift: 0.03254807336330414\n",
            "Current State: 225    0.255866\n",
            "Name: f, dtype: float64\n"
          ]
        },
        {
          "output_type": "stream",
          "name": "stderr",
          "text": [
            "\r 12%|█▏        | 98/800 [04:38<15:25,  1.32s/it]"
          ]
        },
        {
          "output_type": "stream",
          "name": "stdout",
          "text": [
            "Step: 99 \t Time: 325.89438128471375\n",
            "Shift: 0.03275312123298645\n",
            "Current State: 226    0.184242\n",
            "Name: f, dtype: float64\n"
          ]
        },
        {
          "output_type": "stream",
          "name": "stderr",
          "text": [
            "\r 12%|█▏        | 99/800 [04:40<17:57,  1.54s/it]"
          ]
        },
        {
          "output_type": "stream",
          "name": "stdout",
          "text": [
            "Step: 100 \t Time: 327.9397840499878\n",
            "Shift: 0.032859320282936096\n",
            "Current State: 227    2.013157\n",
            "Name: f, dtype: float64\n"
          ]
        },
        {
          "output_type": "stream",
          "name": "stderr",
          "text": [
            "\r 12%|█▎        | 100/800 [04:41<16:55,  1.45s/it]"
          ]
        },
        {
          "output_type": "stream",
          "name": "stdout",
          "text": [
            "Step: 101 \t Time: 329.18823504447937\n",
            "Shift: 0.033102636933326726\n",
            "Current State: 228    0.127077\n",
            "Name: f, dtype: float64\n"
          ]
        },
        {
          "output_type": "stream",
          "name": "stderr",
          "text": [
            "\r 13%|█▎        | 101/800 [04:44<19:45,  1.70s/it]"
          ]
        },
        {
          "output_type": "stream",
          "name": "stdout",
          "text": [
            "Step: 102 \t Time: 331.4552426338196\n",
            "Shift: 0.03319920077323914\n",
            "Current State: 229    0.834758\n",
            "Name: f, dtype: float64\n"
          ]
        },
        {
          "output_type": "stream",
          "name": "stderr",
          "text": [
            "\r 13%|█▎        | 102/800 [04:45<17:06,  1.47s/it]"
          ]
        },
        {
          "output_type": "stream",
          "name": "stdout",
          "text": [
            "Step: 103 \t Time: 332.39971804618835\n",
            "Shift: 0.033293638968467716\n",
            "Current State: 230    0.45576\n",
            "Name: f, dtype: float64\n"
          ]
        },
        {
          "output_type": "stream",
          "name": "stderr",
          "text": [
            "\r 13%|█▎        | 103/800 [04:46<15:14,  1.31s/it]"
          ]
        },
        {
          "output_type": "stream",
          "name": "stdout",
          "text": [
            "Step: 104 \t Time: 333.34221029281616\n",
            "Shift: 0.03342923665046692\n",
            "Current State: 231    0.104544\n",
            "Name: f, dtype: float64\n"
          ]
        },
        {
          "output_type": "stream",
          "name": "stderr",
          "text": [
            "\r 13%|█▎        | 104/800 [04:47<15:24,  1.33s/it]"
          ]
        },
        {
          "output_type": "stream",
          "name": "stdout",
          "text": [
            "Step: 105 \t Time: 334.70998644828796\n",
            "Shift: 0.033548757147789\n",
            "Current State: 232    0.099188\n",
            "Name: f, dtype: float64\n"
          ]
        },
        {
          "output_type": "stream",
          "name": "stderr",
          "text": [
            "\r 13%|█▎        | 105/800 [04:48<14:52,  1.28s/it]"
          ]
        },
        {
          "output_type": "stream",
          "name": "stdout",
          "text": [
            "Step: 106 \t Time: 335.8901481628418\n",
            "Shift: 0.03366274344921112\n",
            "Current State: 233    0.49444\n",
            "Name: f, dtype: float64\n"
          ]
        },
        {
          "output_type": "stream",
          "name": "stderr",
          "text": [
            "\r 13%|█▎        | 106/800 [04:49<14:23,  1.24s/it]"
          ]
        },
        {
          "output_type": "stream",
          "name": "stdout",
          "text": [
            "Step: 107 \t Time: 337.04318165779114\n",
            "Shift: 0.033820225644111634\n",
            "Current State: 234    0.110122\n",
            "Name: f, dtype: float64\n"
          ]
        },
        {
          "output_type": "stream",
          "name": "stderr",
          "text": [
            "\r 13%|█▎        | 107/800 [04:51<15:30,  1.34s/it]"
          ]
        },
        {
          "output_type": "stream",
          "name": "stdout",
          "text": [
            "Step: 108 \t Time: 338.61442971229553\n",
            "Shift: 0.033937232112884526\n",
            "Current State: 235    0.393201\n",
            "Name: f, dtype: float64\n"
          ]
        },
        {
          "output_type": "stream",
          "name": "stderr",
          "text": [
            "\r 14%|█▎        | 108/800 [04:52<14:54,  1.29s/it]"
          ]
        },
        {
          "output_type": "stream",
          "name": "stdout",
          "text": [
            "Step: 109 \t Time: 339.7902293205261\n",
            "Shift: 0.03415360722541809\n",
            "Current State: 236    0.130977\n",
            "Name: f, dtype: float64\n"
          ]
        },
        {
          "output_type": "stream",
          "name": "stderr",
          "text": [
            "\r 14%|█▎        | 109/800 [04:54<18:32,  1.61s/it]"
          ]
        },
        {
          "output_type": "stream",
          "name": "stdout",
          "text": [
            "Step: 110 \t Time: 342.1424148082733\n",
            "Shift: 0.034534285593032836\n",
            "Current State: 237    0.166837\n",
            "Name: f, dtype: float64\n"
          ]
        },
        {
          "output_type": "stream",
          "name": "stderr",
          "text": [
            "\r 14%|█▍        | 110/800 [04:58<25:24,  2.21s/it]"
          ]
        },
        {
          "output_type": "stream",
          "name": "stdout",
          "text": [
            "Step: 111 \t Time: 345.75119805336\n",
            "Shift: 0.03462405529022217\n",
            "Current State: 238    0.314897\n",
            "Name: f, dtype: float64\n"
          ]
        },
        {
          "output_type": "stream",
          "name": "stderr",
          "text": [
            "\r 14%|█▍        | 111/800 [04:59<20:51,  1.82s/it]"
          ]
        },
        {
          "output_type": "stream",
          "name": "stdout",
          "text": [
            "Step: 112 \t Time: 346.6512656211853\n",
            "Shift: 0.03473936610221863\n",
            "Current State: 239    0.206382\n",
            "Name: f, dtype: float64\n"
          ]
        },
        {
          "output_type": "stream",
          "name": "stderr",
          "text": [
            "\r 14%|█▍        | 112/800 [05:00<18:31,  1.62s/it]"
          ]
        },
        {
          "output_type": "stream",
          "name": "stdout",
          "text": [
            "Step: 113 \t Time: 347.79897141456604\n",
            "Shift: 0.03483956139087677\n",
            "Current State: 240    0.279778\n",
            "Name: f, dtype: float64\n"
          ]
        },
        {
          "output_type": "stream",
          "name": "stderr",
          "text": [
            "\r 14%|█▍        | 113/800 [05:01<16:25,  1.43s/it]"
          ]
        },
        {
          "output_type": "stream",
          "name": "stdout",
          "text": [
            "Step: 114 \t Time: 348.8096373081207\n",
            "Shift: 0.034980573201179505\n",
            "Current State: 241    0.277602\n",
            "Name: f, dtype: float64\n"
          ]
        },
        {
          "output_type": "stream",
          "name": "stderr",
          "text": [
            "\r 14%|█▍        | 114/800 [05:02<16:19,  1.43s/it]"
          ]
        },
        {
          "output_type": "stream",
          "name": "stdout",
          "text": [
            "Step: 115 \t Time: 350.2241516113281\n",
            "Shift: 0.03509252676963806\n",
            "Current State: 242    0.354597\n",
            "Name: f, dtype: float64\n"
          ]
        },
        {
          "output_type": "stream",
          "name": "stderr",
          "text": [
            "\r 14%|█▍        | 115/800 [05:04<15:12,  1.33s/it]"
          ]
        },
        {
          "output_type": "stream",
          "name": "stdout",
          "text": [
            "Step: 116 \t Time: 351.3336157798767\n",
            "Shift: 0.035238329601287845\n",
            "Current State: 243    0.009519\n",
            "Name: f, dtype: float64\n"
          ]
        },
        {
          "output_type": "stream",
          "name": "stderr",
          "text": [
            "\r 14%|█▍        | 116/800 [05:05<15:37,  1.37s/it]"
          ]
        },
        {
          "output_type": "stream",
          "name": "stdout",
          "text": [
            "Step: 117 \t Time: 352.7931442260742\n",
            "Shift: 0.03541559479236603\n",
            "Current State: 244    0.080312\n",
            "Name: f, dtype: float64\n"
          ]
        },
        {
          "output_type": "stream",
          "name": "stderr",
          "text": [
            "\r 15%|█▍        | 117/800 [05:07<17:26,  1.53s/it]"
          ]
        },
        {
          "output_type": "stream",
          "name": "stdout",
          "text": [
            "Step: 118 \t Time: 354.6995038986206\n",
            "Shift: 0.03557430844306946\n",
            "Current State: 245    0.24837\n",
            "Name: f, dtype: float64\n"
          ]
        },
        {
          "output_type": "stream",
          "name": "stderr",
          "text": [
            "\r 15%|█▍        | 118/800 [05:08<17:13,  1.52s/it]"
          ]
        },
        {
          "output_type": "stream",
          "name": "stdout",
          "text": [
            "Step: 119 \t Time: 356.1767375469208\n",
            "Shift: 0.03569222478866577\n",
            "Current State: 246    0.081556\n",
            "Name: f, dtype: float64\n"
          ]
        },
        {
          "output_type": "stream",
          "name": "stderr",
          "text": [
            "\r 15%|█▍        | 119/800 [05:10<15:58,  1.41s/it]"
          ]
        },
        {
          "output_type": "stream",
          "name": "stdout",
          "text": [
            "Step: 120 \t Time: 357.33148312568665\n",
            "Shift: 0.03587376027107239\n",
            "Current State: 247    0.070709\n",
            "Name: f, dtype: float64\n"
          ]
        },
        {
          "output_type": "stream",
          "name": "stderr",
          "text": [
            "\r 15%|█▌        | 120/800 [05:11<17:23,  1.53s/it]"
          ]
        },
        {
          "output_type": "stream",
          "name": "stdout",
          "text": [
            "Step: 121 \t Time: 359.1611635684967\n",
            "Shift: 0.03600808212757111\n",
            "Current State: 248    0.081022\n",
            "Name: f, dtype: float64\n"
          ]
        },
        {
          "output_type": "stream",
          "name": "stderr",
          "text": [
            "\r 15%|█▌        | 121/800 [05:13<16:42,  1.48s/it]"
          ]
        },
        {
          "output_type": "stream",
          "name": "stdout",
          "text": [
            "Step: 122 \t Time: 360.50552582740784\n",
            "Shift: 0.036114887189865115\n",
            "Current State: 249    0.303839\n",
            "Name: f, dtype: float64\n"
          ]
        },
        {
          "output_type": "stream",
          "name": "stderr",
          "text": [
            "\r 15%|█▌        | 122/800 [05:14<15:17,  1.35s/it]"
          ]
        },
        {
          "output_type": "stream",
          "name": "stdout",
          "text": [
            "Step: 123 \t Time: 361.56981229782104\n",
            "Shift: 0.036214259958267214\n",
            "Current State: 250    4.196138\n",
            "Name: f, dtype: float64\n"
          ]
        },
        {
          "output_type": "stream",
          "name": "stderr",
          "text": [
            "\r 15%|█▌        | 123/800 [05:15<14:02,  1.24s/it]"
          ]
        },
        {
          "output_type": "stream",
          "name": "stdout",
          "text": [
            "Step: 124 \t Time: 362.5623195171356\n",
            "Shift: 0.036338240337371826\n",
            "Current State: 251    0.046675\n",
            "Name: f, dtype: float64\n"
          ]
        },
        {
          "output_type": "stream",
          "name": "stderr",
          "text": [
            "\r 16%|█▌        | 124/800 [05:16<14:00,  1.24s/it]"
          ]
        },
        {
          "output_type": "stream",
          "name": "stdout",
          "text": [
            "Step: 125 \t Time: 363.8010046482086\n",
            "Shift: 0.036455885934829714\n",
            "Current State: 252    0.22646\n",
            "Name: f, dtype: float64\n"
          ]
        },
        {
          "output_type": "stream",
          "name": "stderr",
          "text": [
            "\r 16%|█▌        | 125/800 [05:17<13:44,  1.22s/it]"
          ]
        },
        {
          "output_type": "stream",
          "name": "stdout",
          "text": [
            "Step: 126 \t Time: 364.97308826446533\n",
            "Shift: 0.03658915104866028\n",
            "Current State: 253    0.048664\n",
            "Name: f, dtype: float64\n"
          ]
        },
        {
          "output_type": "stream",
          "name": "stderr",
          "text": [
            "\r 16%|█▌        | 126/800 [05:19<14:42,  1.31s/it]"
          ]
        },
        {
          "output_type": "stream",
          "name": "stdout",
          "text": [
            "Step: 127 \t Time: 366.4848244190216\n",
            "Shift: 0.03682509644031525\n",
            "Current State: 254    0.082998\n",
            "Name: f, dtype: float64\n"
          ]
        },
        {
          "output_type": "stream",
          "name": "stderr",
          "text": [
            "\r 16%|█▌        | 127/800 [05:21<17:45,  1.58s/it]"
          ]
        },
        {
          "output_type": "stream",
          "name": "stdout",
          "text": [
            "Step: 128 \t Time: 368.7089250087738\n",
            "Shift: 0.036967625093460084\n",
            "Current State: 255    0.214022\n",
            "Name: f, dtype: float64\n"
          ]
        },
        {
          "output_type": "stream",
          "name": "stderr",
          "text": [
            "\r 16%|█▌        | 128/800 [05:22<17:04,  1.52s/it]"
          ]
        },
        {
          "output_type": "stream",
          "name": "stdout",
          "text": [
            "Step: 129 \t Time: 370.0947723388672\n",
            "Shift: 0.03710639698505402\n",
            "Current State: 256    0.03271\n",
            "Name: f, dtype: float64\n"
          ]
        },
        {
          "output_type": "stream",
          "name": "stderr",
          "text": [
            "\r 16%|█▌        | 129/800 [05:24<16:33,  1.48s/it]"
          ]
        },
        {
          "output_type": "stream",
          "name": "stdout",
          "text": [
            "Step: 130 \t Time: 371.4747910499573\n",
            "Shift: 0.037223075151443484\n",
            "Current State: 257    0.255492\n",
            "Name: f, dtype: float64\n"
          ]
        },
        {
          "output_type": "stream",
          "name": "stderr",
          "text": [
            "\r 16%|█▋        | 130/800 [05:25<15:31,  1.39s/it]"
          ]
        },
        {
          "output_type": "stream",
          "name": "stdout",
          "text": [
            "Step: 131 \t Time: 372.6526439189911\n",
            "Shift: 0.03735924787521362\n",
            "Current State: 258    0.103642\n",
            "Name: f, dtype: float64\n"
          ]
        },
        {
          "output_type": "stream",
          "name": "stderr",
          "text": [
            "\r 16%|█▋        | 131/800 [05:26<15:28,  1.39s/it]"
          ]
        },
        {
          "output_type": "stream",
          "name": "stdout",
          "text": [
            "Step: 132 \t Time: 374.0369827747345\n",
            "Shift: 0.03747177700996399\n",
            "Current State: 259    26.425226\n",
            "Name: f, dtype: float64\n"
          ]
        },
        {
          "output_type": "stream",
          "name": "stderr",
          "text": [
            "\r 16%|█▋        | 132/800 [05:27<14:31,  1.30s/it]"
          ]
        },
        {
          "output_type": "stream",
          "name": "stdout",
          "text": [
            "Step: 133 \t Time: 375.1452205181122\n",
            "Shift: 0.037919589710235596\n",
            "Current State: 260    0.352075\n",
            "Name: f, dtype: float64\n"
          ]
        },
        {
          "output_type": "stream",
          "name": "stderr",
          "text": [
            "\r 17%|█▋        | 133/800 [05:32<25:47,  2.32s/it]"
          ]
        },
        {
          "output_type": "stream",
          "name": "stdout",
          "text": [
            "Step: 134 \t Time: 379.83349561691284\n",
            "Shift: 0.03854971659183502\n",
            "Current State: 261    0.133199\n",
            "Name: f, dtype: float64\n"
          ]
        },
        {
          "output_type": "stream",
          "name": "stderr",
          "text": [
            "\r 17%|█▋        | 134/800 [05:38<38:16,  3.45s/it]"
          ]
        },
        {
          "output_type": "stream",
          "name": "stdout",
          "text": [
            "Step: 135 \t Time: 385.91629433631897\n",
            "Shift: 0.038959413647651674\n",
            "Current State: 262    0.592933\n",
            "Name: f, dtype: float64\n"
          ]
        },
        {
          "output_type": "stream",
          "name": "stderr",
          "text": [
            "\r 17%|█▋        | 135/800 [05:42<40:22,  3.64s/it]"
          ]
        },
        {
          "output_type": "stream",
          "name": "stdout",
          "text": [
            "Step: 136 \t Time: 390.0127754211426\n",
            "Shift: 0.03938855452537537\n",
            "Current State: 263    1.409749\n",
            "Name: f, dtype: float64\n"
          ]
        },
        {
          "output_type": "stream",
          "name": "stderr",
          "text": [
            "\r 17%|█▋        | 136/800 [05:46<42:27,  3.84s/it]"
          ]
        },
        {
          "output_type": "stream",
          "name": "stdout",
          "text": [
            "Step: 137 \t Time: 394.3031280040741\n",
            "Shift: 0.03980957872867585\n",
            "Current State: 264    0.194288\n",
            "Name: f, dtype: float64\n"
          ]
        },
        {
          "output_type": "stream",
          "name": "stderr",
          "text": [
            "\r 17%|█▋        | 137/800 [05:51<43:39,  3.95s/it]"
          ]
        },
        {
          "output_type": "stream",
          "name": "stdout",
          "text": [
            "Step: 138 \t Time: 398.5202088356018\n",
            "Shift: 0.040214476799964906\n",
            "Current State: 265    0.176566\n",
            "Name: f, dtype: float64\n"
          ]
        },
        {
          "output_type": "stream",
          "name": "stderr",
          "text": [
            "\r 17%|█▋        | 138/800 [05:55<43:54,  3.98s/it]"
          ]
        },
        {
          "output_type": "stream",
          "name": "stdout",
          "text": [
            "Step: 139 \t Time: 402.56813955307007\n",
            "Shift: 0.04065669574737549\n",
            "Current State: 266    0.153831\n",
            "Name: f, dtype: float64\n"
          ]
        },
        {
          "output_type": "stream",
          "name": "stderr",
          "text": [
            "\r 17%|█▋        | 139/800 [05:59<45:16,  4.11s/it]"
          ]
        },
        {
          "output_type": "stream",
          "name": "stdout",
          "text": [
            "Step: 140 \t Time: 406.97817397117615\n",
            "Shift: 0.04110178916454316\n",
            "Current State: 267    0.188497\n",
            "Name: f, dtype: float64\n"
          ]
        },
        {
          "output_type": "stream",
          "name": "stderr",
          "text": [
            "\r 18%|█▊        | 140/800 [06:04<46:20,  4.21s/it]"
          ]
        },
        {
          "output_type": "stream",
          "name": "stdout",
          "text": [
            "Step: 141 \t Time: 411.4329924583435\n",
            "Shift: 0.041682882475852966\n",
            "Current State: 268    0.028691\n",
            "Name: f, dtype: float64\n"
          ]
        },
        {
          "output_type": "stream",
          "name": "stderr",
          "text": [
            "\r 18%|█▊        | 141/800 [06:10<52:07,  4.75s/it]"
          ]
        },
        {
          "output_type": "stream",
          "name": "stdout",
          "text": [
            "Step: 142 \t Time: 417.42252707481384\n",
            "Shift: 0.04234270000457764\n",
            "Current State: 269    0.073282\n",
            "Name: f, dtype: float64\n"
          ]
        },
        {
          "output_type": "stream",
          "name": "stderr",
          "text": [
            "\r 18%|█▊        | 142/800 [06:16<57:34,  5.25s/it]"
          ]
        },
        {
          "output_type": "stream",
          "name": "stdout",
          "text": [
            "Step: 143 \t Time: 423.8509087562561\n",
            "Shift: 0.04270297102928162\n",
            "Current State: 270    0.060267\n",
            "Name: f, dtype: float64\n"
          ]
        },
        {
          "output_type": "stream",
          "name": "stderr",
          "text": [
            "\r 18%|█▊        | 143/800 [06:20<52:01,  4.75s/it]"
          ]
        },
        {
          "output_type": "stream",
          "name": "stdout",
          "text": [
            "Step: 144 \t Time: 427.4387409687042\n",
            "Shift: 0.04320372092723847\n",
            "Current State: 271    0.100704\n",
            "Name: f, dtype: float64\n"
          ]
        },
        {
          "output_type": "stream",
          "name": "stderr",
          "text": [
            "\r 18%|█▊        | 144/800 [06:25<52:51,  4.83s/it]"
          ]
        },
        {
          "output_type": "stream",
          "name": "stdout",
          "text": [
            "Step: 145 \t Time: 432.4651737213135\n",
            "Shift: 0.04355944483280182\n",
            "Current State: 272    0.12758\n",
            "Name: f, dtype: float64\n"
          ]
        },
        {
          "output_type": "stream",
          "name": "stderr",
          "text": [
            "\r 18%|█▊        | 145/800 [06:28<48:31,  4.45s/it]"
          ]
        },
        {
          "output_type": "stream",
          "name": "stdout",
          "text": [
            "Step: 146 \t Time: 436.00231862068176\n",
            "Shift: 0.04406543779373169\n",
            "Current State: 273    0.169702\n",
            "Name: f, dtype: float64\n"
          ]
        },
        {
          "output_type": "stream",
          "name": "stderr",
          "text": [
            "\r 18%|█▊        | 146/800 [06:33<50:28,  4.63s/it]"
          ]
        },
        {
          "output_type": "stream",
          "name": "stdout",
          "text": [
            "Step: 147 \t Time: 441.0672731399536\n",
            "Shift: 0.04450780537128449\n",
            "Current State: 274    0.126051\n",
            "Name: f, dtype: float64\n"
          ]
        },
        {
          "output_type": "stream",
          "name": "stderr",
          "text": [
            "\r 18%|█▊        | 147/800 [06:38<49:43,  4.57s/it]"
          ]
        },
        {
          "output_type": "stream",
          "name": "stdout",
          "text": [
            "Step: 148 \t Time: 445.4896261692047\n",
            "Shift: 0.044891666531562804\n",
            "Current State: 275    0.184001\n",
            "Name: f, dtype: float64\n"
          ]
        },
        {
          "output_type": "stream",
          "name": "stderr",
          "text": [
            "\r 18%|█▊        | 148/800 [06:42<47:16,  4.35s/it]"
          ]
        },
        {
          "output_type": "stream",
          "name": "stdout",
          "text": [
            "Step: 149 \t Time: 449.3315453529358\n",
            "Shift: 0.04532147386074067\n",
            "Current State: 276    0.180611\n",
            "Name: f, dtype: float64\n"
          ]
        },
        {
          "output_type": "stream",
          "name": "stderr",
          "text": [
            "\r 19%|█▊        | 149/800 [06:46<47:01,  4.33s/it]"
          ]
        },
        {
          "output_type": "stream",
          "name": "stdout",
          "text": [
            "Step: 150 \t Time: 453.6256766319275\n",
            "Shift: 0.04564872326850891\n",
            "Current State: 277    0.196625\n",
            "Name: f, dtype: float64\n"
          ]
        },
        {
          "output_type": "stream",
          "name": "stderr",
          "text": [
            "\r 19%|█▉        | 150/800 [06:49<43:37,  4.03s/it]"
          ]
        },
        {
          "output_type": "stream",
          "name": "stdout",
          "text": [
            "Step: 151 \t Time: 456.9362528324127\n",
            "Shift: 0.046094519686698913\n",
            "Current State: 278    0.204675\n",
            "Name: f, dtype: float64\n"
          ]
        },
        {
          "output_type": "stream",
          "name": "stderr",
          "text": [
            "\r 19%|█▉        | 151/800 [06:54<44:56,  4.15s/it]"
          ]
        },
        {
          "output_type": "stream",
          "name": "stdout",
          "text": [
            "Step: 152 \t Time: 461.39053893089294\n",
            "Shift: 0.04639852662086487\n",
            "Current State: 279    0.113666\n",
            "Name: f, dtype: float64\n"
          ]
        },
        {
          "output_type": "stream",
          "name": "stderr",
          "text": [
            "\r 19%|█▉        | 152/800 [06:57<41:09,  3.81s/it]"
          ]
        },
        {
          "output_type": "stream",
          "name": "stdout",
          "text": [
            "Step: 153 \t Time: 464.3992621898651\n",
            "Shift: 0.046761790919303894\n",
            "Current State: 280    0.286584\n",
            "Name: f, dtype: float64\n"
          ]
        },
        {
          "output_type": "stream",
          "name": "stderr",
          "text": [
            "\r 19%|█▉        | 153/800 [07:00<40:57,  3.80s/it]"
          ]
        },
        {
          "output_type": "stream",
          "name": "stdout",
          "text": [
            "Step: 154 \t Time: 468.1682302951813\n",
            "Shift: 0.047305924725532536\n",
            "Current State: 281    0.179915\n",
            "Name: f, dtype: float64\n"
          ]
        },
        {
          "output_type": "stream",
          "name": "stderr",
          "text": [
            "\r 19%|█▉        | 154/800 [07:06<45:44,  4.25s/it]"
          ]
        },
        {
          "output_type": "stream",
          "name": "stdout",
          "text": [
            "Step: 155 \t Time: 473.46778440475464\n",
            "Shift: 0.04769638078212738\n",
            "Current State: 282    0.229905\n",
            "Name: f, dtype: float64\n"
          ]
        },
        {
          "output_type": "stream",
          "name": "stderr",
          "text": [
            "\r 19%|█▉        | 155/800 [07:10<44:33,  4.15s/it]"
          ]
        },
        {
          "output_type": "stream",
          "name": "stdout",
          "text": [
            "Step: 156 \t Time: 477.3713927268982\n",
            "Shift: 0.048219229674339295\n",
            "Current State: 283    0.21004\n",
            "Name: f, dtype: float64\n"
          ]
        },
        {
          "output_type": "stream",
          "name": "stderr",
          "text": [
            "\r 20%|█▉        | 156/800 [07:15<47:59,  4.47s/it]"
          ]
        },
        {
          "output_type": "stream",
          "name": "stdout",
          "text": [
            "Step: 157 \t Time: 482.60439801216125\n",
            "Shift: 0.04852492973804474\n",
            "Current State: 284    0.214955\n",
            "Name: f, dtype: float64\n"
          ]
        },
        {
          "output_type": "stream",
          "name": "stderr",
          "text": [
            "\r 20%|█▉        | 157/800 [07:18<43:22,  4.05s/it]"
          ]
        },
        {
          "output_type": "stream",
          "name": "stdout",
          "text": [
            "Step: 158 \t Time: 485.66211557388306\n",
            "Shift: 0.04891353373527527\n",
            "Current State: 285    0.236167\n",
            "Name: f, dtype: float64\n"
          ]
        },
        {
          "output_type": "stream",
          "name": "stderr",
          "text": [
            "\r 20%|█▉        | 158/800 [07:22<42:51,  4.01s/it]"
          ]
        },
        {
          "output_type": "stream",
          "name": "stdout",
          "text": [
            "Step: 159 \t Time: 489.570515871048\n",
            "Shift: 0.049442116832733154\n",
            "Current State: 286    0.267006\n",
            "Name: f, dtype: float64\n"
          ]
        },
        {
          "output_type": "stream",
          "name": "stderr",
          "text": [
            "\r 20%|█▉        | 159/800 [07:27<46:52,  4.39s/it]"
          ]
        },
        {
          "output_type": "stream",
          "name": "stdout",
          "text": [
            "Step: 160 \t Time: 494.8481709957123\n",
            "Shift: 0.049586409735679626\n",
            "Current State: 287    0.189242\n",
            "Name: f, dtype: float64\n"
          ]
        },
        {
          "output_type": "stream",
          "name": "stderr",
          "text": [
            "\r 20%|██        | 160/800 [07:28<37:18,  3.50s/it]"
          ]
        },
        {
          "output_type": "stream",
          "name": "stdout",
          "text": [
            "Step: 161 \t Time: 496.26918721199036\n",
            "Shift: 0.049950797033309936\n",
            "Current State: 288    0.687048\n",
            "Name: f, dtype: float64\n"
          ]
        },
        {
          "output_type": "stream",
          "name": "stderr",
          "text": [
            "\r 20%|██        | 161/800 [07:32<37:44,  3.54s/it]"
          ]
        },
        {
          "output_type": "stream",
          "name": "stdout",
          "text": [
            "Step: 162 \t Time: 499.9212119579315\n",
            "Shift: 0.05027855911254883\n",
            "Current State: 289    0.293454\n",
            "Name: f, dtype: float64\n"
          ]
        },
        {
          "output_type": "stream",
          "name": "stderr",
          "text": [
            "\r 20%|██        | 162/800 [07:35<36:51,  3.47s/it]"
          ]
        },
        {
          "output_type": "stream",
          "name": "stdout",
          "text": [
            "Step: 163 \t Time: 503.2042648792267\n",
            "Shift: 0.050864867234230046\n",
            "Current State: 290    0.242073\n",
            "Name: f, dtype: float64\n"
          ]
        },
        {
          "output_type": "stream",
          "name": "stderr",
          "text": [
            "\r 20%|██        | 163/800 [07:41<44:27,  4.19s/it]"
          ]
        },
        {
          "output_type": "stream",
          "name": "stdout",
          "text": [
            "Step: 164 \t Time: 509.0756313800812\n",
            "Shift: 0.05118454651832581\n",
            "Current State: 291    0.248666\n",
            "Name: f, dtype: float64\n"
          ]
        },
        {
          "output_type": "stream",
          "name": "stderr",
          "text": [
            "\r 20%|██        | 164/800 [07:44<41:11,  3.89s/it]"
          ]
        },
        {
          "output_type": "stream",
          "name": "stdout",
          "text": [
            "Step: 165 \t Time: 512.2603025436401\n",
            "Shift: 0.05147380795478821\n",
            "Current State: 292    0.287235\n",
            "Name: f, dtype: float64\n"
          ]
        },
        {
          "output_type": "stream",
          "name": "stderr",
          "text": [
            "\r 21%|██        | 165/800 [07:47<37:59,  3.59s/it]"
          ]
        },
        {
          "output_type": "stream",
          "name": "stdout",
          "text": [
            "Step: 166 \t Time: 515.155601978302\n",
            "Shift: 0.0520253865480423\n",
            "Current State: 293    0.299904\n",
            "Name: f, dtype: float64\n"
          ]
        },
        {
          "output_type": "stream",
          "name": "stderr",
          "text": [
            "\r 21%|██        | 166/800 [07:53<44:02,  4.17s/it]"
          ]
        },
        {
          "output_type": "stream",
          "name": "stdout",
          "text": [
            "Step: 167 \t Time: 520.6763870716095\n",
            "Shift: 0.052370143866539\n",
            "Current State: 294    0.287581\n",
            "Name: f, dtype: float64\n"
          ]
        },
        {
          "output_type": "stream",
          "name": "stderr",
          "text": [
            "\r 21%|██        | 167/800 [07:56<41:41,  3.95s/it]"
          ]
        },
        {
          "output_type": "stream",
          "name": "stdout",
          "text": [
            "Step: 168 \t Time: 524.122932434082\n",
            "Shift: 0.052804450988769534\n",
            "Current State: 295    0.282526\n",
            "Name: f, dtype: float64\n"
          ]
        },
        {
          "output_type": "stream",
          "name": "stderr",
          "text": [
            "\r 21%|██        | 168/800 [08:01<42:52,  4.07s/it]"
          ]
        },
        {
          "output_type": "stream",
          "name": "stdout",
          "text": [
            "Step: 169 \t Time: 528.4717562198639\n",
            "Shift: 0.053219826269149784\n",
            "Current State: 296    0.19178\n",
            "Name: f, dtype: float64\n"
          ]
        },
        {
          "output_type": "stream",
          "name": "stderr",
          "text": [
            "\r 21%|██        | 169/800 [08:05<43:02,  4.09s/it]"
          ]
        },
        {
          "output_type": "stream",
          "name": "stdout",
          "text": [
            "Step: 170 \t Time: 532.6171293258667\n",
            "Shift: 0.053355080723762514\n",
            "Current State: 297    0.014125\n",
            "Name: f, dtype: float64\n"
          ]
        },
        {
          "output_type": "stream",
          "name": "stderr",
          "text": [
            "\r 21%|██▏       | 170/800 [08:06<34:22,  3.27s/it]"
          ]
        },
        {
          "output_type": "stream",
          "name": "stdout",
          "text": [
            "Step: 171 \t Time: 533.9769027233124\n",
            "Shift: 0.05371931185722351\n",
            "Current State: 298    0.06183\n",
            "Name: f, dtype: float64\n"
          ]
        },
        {
          "output_type": "stream",
          "name": "stderr",
          "text": [
            "\r 21%|██▏       | 171/800 [08:10<35:27,  3.38s/it]"
          ]
        },
        {
          "output_type": "stream",
          "name": "stdout",
          "text": [
            "Step: 172 \t Time: 537.6142189502716\n",
            "Shift: 0.054060428166389465\n",
            "Current State: 299    0.075346\n",
            "Name: f, dtype: float64\n"
          ]
        },
        {
          "output_type": "stream",
          "name": "stderr",
          "text": [
            "\r 22%|██▏       | 172/800 [08:13<35:29,  3.39s/it]"
          ]
        },
        {
          "output_type": "stream",
          "name": "stdout",
          "text": [
            "Step: 173 \t Time: 541.0225081443787\n",
            "Shift: 0.05444781467914581\n",
            "Current State: 300    0.034263\n",
            "Name: f, dtype: float64\n"
          ]
        },
        {
          "output_type": "stream",
          "name": "stderr",
          "text": [
            "\r 22%|██▏       | 173/800 [08:17<37:00,  3.54s/it]"
          ]
        },
        {
          "output_type": "stream",
          "name": "stdout",
          "text": [
            "Step: 174 \t Time: 544.9171741008759\n",
            "Shift: 0.054770301294326786\n",
            "Current State: 301    0.05981\n",
            "Name: f, dtype: float64\n"
          ]
        },
        {
          "output_type": "stream",
          "name": "stderr",
          "text": [
            "\r 22%|██▏       | 174/800 [08:20<35:57,  3.45s/it]"
          ]
        },
        {
          "output_type": "stream",
          "name": "stdout",
          "text": [
            "Step: 175 \t Time: 548.1429119110107\n",
            "Shift: 0.0550566009759903\n",
            "Current State: 302    0.064205\n",
            "Name: f, dtype: float64\n"
          ]
        },
        {
          "output_type": "stream",
          "name": "stderr",
          "text": [
            "\r 22%|██▏       | 175/800 [08:23<34:00,  3.26s/it]"
          ]
        },
        {
          "output_type": "stream",
          "name": "stdout",
          "text": [
            "Step: 176 \t Time: 550.9814054965973\n",
            "Shift: 0.05527015898227692\n",
            "Current State: 303    0.046594\n",
            "Name: f, dtype: float64\n"
          ]
        },
        {
          "output_type": "stream",
          "name": "stderr",
          "text": [
            "\r 22%|██▏       | 176/800 [08:25<30:28,  2.93s/it]"
          ]
        },
        {
          "output_type": "stream",
          "name": "stdout",
          "text": [
            "Step: 177 \t Time: 553.1296672821045\n",
            "Shift: 0.055698343133926395\n",
            "Current State: 304    0.082274\n",
            "Name: f, dtype: float64\n"
          ]
        },
        {
          "output_type": "stream",
          "name": "stderr",
          "text": [
            "\r 22%|██▏       | 177/800 [08:30<34:42,  3.34s/it]"
          ]
        },
        {
          "output_type": "stream",
          "name": "stdout",
          "text": [
            "Step: 178 \t Time: 557.4389255046844\n",
            "Shift: 0.05601648502349854\n",
            "Current State: 305    0.088405\n",
            "Name: f, dtype: float64\n"
          ]
        },
        {
          "output_type": "stream",
          "name": "stderr",
          "text": [
            "\r 22%|██▏       | 178/800 [08:33<34:00,  3.28s/it]"
          ]
        },
        {
          "output_type": "stream",
          "name": "stdout",
          "text": [
            "Step: 179 \t Time: 560.5748310089111\n",
            "Shift: 0.056325757908821106\n",
            "Current State: 306    0.073655\n",
            "Name: f, dtype: float64\n"
          ]
        },
        {
          "output_type": "stream",
          "name": "stderr",
          "text": [
            "\r 22%|██▏       | 179/800 [08:36<33:24,  3.23s/it]"
          ]
        },
        {
          "output_type": "stream",
          "name": "stdout",
          "text": [
            "Step: 180 \t Time: 563.6804442405701\n",
            "Shift: 0.05656584851741791\n",
            "Current State: 307    0.227303\n",
            "Name: f, dtype: float64\n"
          ]
        },
        {
          "output_type": "stream",
          "name": "stderr",
          "text": [
            "\r 22%|██▎       | 180/800 [08:38<30:45,  2.98s/it]"
          ]
        },
        {
          "output_type": "stream",
          "name": "stdout",
          "text": [
            "Step: 181 \t Time: 566.0715055465698\n",
            "Shift: 0.0569191710472107\n",
            "Current State: 308    0.614884\n",
            "Name: f, dtype: float64\n"
          ]
        },
        {
          "output_type": "stream",
          "name": "stderr",
          "text": [
            "\r 23%|██▎       | 181/800 [08:42<32:52,  3.19s/it]"
          ]
        },
        {
          "output_type": "stream",
          "name": "stdout",
          "text": [
            "Step: 182 \t Time: 569.7477426528931\n",
            "Shift: 0.05728445432186127\n",
            "Current State: 309    0.174319\n",
            "Name: f, dtype: float64\n"
          ]
        },
        {
          "output_type": "stream",
          "name": "stderr",
          "text": [
            "\r 23%|██▎       | 182/800 [08:45<33:49,  3.28s/it]"
          ]
        },
        {
          "output_type": "stream",
          "name": "stdout",
          "text": [
            "Step: 183 \t Time: 573.2599792480469\n",
            "Shift: 0.057678797173500065\n",
            "Current State: 310    0.186198\n",
            "Name: f, dtype: float64\n"
          ]
        },
        {
          "output_type": "stream",
          "name": "stderr",
          "text": [
            "\r 23%|██▎       | 183/800 [08:49<35:47,  3.48s/it]"
          ]
        },
        {
          "output_type": "stream",
          "name": "stdout",
          "text": [
            "Step: 184 \t Time: 577.1975204944611\n",
            "Shift: 0.0577815039396286\n",
            "Current State: 311    12.890132\n",
            "Name: f, dtype: float64\n"
          ]
        },
        {
          "output_type": "stream",
          "name": "stderr",
          "text": [
            "\r 23%|██▎       | 184/800 [08:50<28:12,  2.75s/it]"
          ]
        },
        {
          "output_type": "stream",
          "name": "stdout",
          "text": [
            "Step: 185 \t Time: 578.2362060546875\n",
            "Shift: 0.057930887079238894\n",
            "Current State: 312    0.059795\n",
            "Name: f, dtype: float64\n"
          ]
        },
        {
          "output_type": "stream",
          "name": "stderr",
          "text": [
            "\r 23%|██▎       | 185/800 [08:52<24:21,  2.38s/it]"
          ]
        },
        {
          "output_type": "stream",
          "name": "stdout",
          "text": [
            "Step: 186 \t Time: 579.743861913681\n",
            "Shift: 0.05806928851604462\n",
            "Current State: 313    0.194494\n",
            "Name: f, dtype: float64\n"
          ]
        },
        {
          "output_type": "stream",
          "name": "stderr",
          "text": [
            "\r 23%|██▎       | 186/800 [08:53<21:34,  2.11s/it]"
          ]
        },
        {
          "output_type": "stream",
          "name": "stdout",
          "text": [
            "Step: 187 \t Time: 581.2299454212189\n",
            "Shift: 0.05820940165519715\n",
            "Current State: 314    0.063072\n",
            "Name: f, dtype: float64\n"
          ]
        },
        {
          "output_type": "stream",
          "name": "stderr",
          "text": [
            "\r 23%|██▎       | 187/800 [08:55<19:20,  1.89s/it]"
          ]
        },
        {
          "output_type": "stream",
          "name": "stdout",
          "text": [
            "Step: 188 \t Time: 582.6205506324768\n",
            "Shift: 0.058325243091583254\n",
            "Current State: 315    0.714853\n",
            "Name: f, dtype: float64\n"
          ]
        },
        {
          "output_type": "stream",
          "name": "stderr",
          "text": [
            "\r 24%|██▎       | 188/800 [08:56<16:45,  1.64s/it]"
          ]
        },
        {
          "output_type": "stream",
          "name": "stdout",
          "text": [
            "Step: 189 \t Time: 583.6778101921082\n",
            "Shift: 0.058429200792312626\n",
            "Current State: 316    0.094334\n",
            "Name: f, dtype: float64\n"
          ]
        },
        {
          "output_type": "stream",
          "name": "stderr",
          "text": [
            "\r 24%|██▎       | 189/800 [08:57<14:52,  1.46s/it]"
          ]
        },
        {
          "output_type": "stream",
          "name": "stdout",
          "text": [
            "Step: 190 \t Time: 584.716965675354\n",
            "Shift: 0.05852494173049927\n",
            "Current State: 317    0.547626\n",
            "Name: f, dtype: float64\n"
          ]
        },
        {
          "output_type": "stream",
          "name": "stderr",
          "text": [
            "\r 24%|██▍       | 190/800 [08:58<13:17,  1.31s/it]"
          ]
        },
        {
          "output_type": "stream",
          "name": "stdout",
          "text": [
            "Step: 191 \t Time: 585.6619348526001\n",
            "Shift: 0.05861757023334503\n",
            "Current State: 318    0.784803\n",
            "Name: f, dtype: float64\n"
          ]
        },
        {
          "output_type": "stream",
          "name": "stderr",
          "text": [
            "\r 24%|██▍       | 191/800 [08:59<12:05,  1.19s/it]"
          ]
        },
        {
          "output_type": "stream",
          "name": "stdout",
          "text": [
            "Step: 192 \t Time: 586.5867278575897\n",
            "Shift: 0.05871162045001984\n",
            "Current State: 319    0.583766\n",
            "Name: f, dtype: float64\n"
          ]
        },
        {
          "output_type": "stream",
          "name": "stderr",
          "text": [
            "\r 24%|██▍       | 192/800 [09:00<11:19,  1.12s/it]"
          ]
        },
        {
          "output_type": "stream",
          "name": "stdout",
          "text": [
            "Step: 193 \t Time: 587.5317077636719\n",
            "Shift: 0.058816927361488344\n",
            "Current State: 320    0.078986\n",
            "Name: f, dtype: float64\n"
          ]
        },
        {
          "output_type": "stream",
          "name": "stderr",
          "text": [
            "\r 24%|██▍       | 193/800 [09:01<11:05,  1.10s/it]"
          ]
        },
        {
          "output_type": "stream",
          "name": "stdout",
          "text": [
            "Step: 194 \t Time: 588.5773124694824\n",
            "Shift: 0.05891344864368439\n",
            "Current State: 321    0.669842\n",
            "Name: f, dtype: float64\n"
          ]
        },
        {
          "output_type": "stream",
          "name": "stderr",
          "text": [
            "\r 24%|██▍       | 194/800 [09:02<10:41,  1.06s/it]"
          ]
        },
        {
          "output_type": "stream",
          "name": "stdout",
          "text": [
            "Step: 195 \t Time: 589.5454149246216\n",
            "Shift: 0.05906808042526245\n",
            "Current State: 322    0.093073\n",
            "Name: f, dtype: float64\n"
          ]
        },
        {
          "output_type": "stream",
          "name": "stderr",
          "text": [
            "\r 24%|██▍       | 195/800 [09:03<12:11,  1.21s/it]"
          ]
        },
        {
          "output_type": "stream",
          "name": "stdout",
          "text": [
            "Step: 196 \t Time: 591.1095423698425\n",
            "Shift: 0.05916031234264374\n",
            "Current State: 323    1.20282\n",
            "Name: f, dtype: float64\n"
          ]
        },
        {
          "output_type": "stream",
          "name": "stderr",
          "text": [
            "\r 24%|██▍       | 196/800 [09:04<11:15,  1.12s/it]"
          ]
        },
        {
          "output_type": "stream",
          "name": "stdout",
          "text": [
            "Step: 197 \t Time: 592.0152413845062\n",
            "Shift: 0.05923444514274597\n",
            "Current State: 324    9.024352\n",
            "Name: f, dtype: float64\n"
          ]
        },
        {
          "output_type": "stream",
          "name": "stderr",
          "text": [
            "\r 25%|██▍       | 197/800 [09:05<10:31,  1.05s/it]"
          ]
        },
        {
          "output_type": "stream",
          "name": "stdout",
          "text": [
            "Step: 198 \t Time: 592.8987348079681\n",
            "Shift: 0.05935218861103058\n",
            "Current State: 325    0.662864\n",
            "Name: f, dtype: float64\n"
          ]
        },
        {
          "output_type": "stream",
          "name": "stderr",
          "text": [
            "\r 25%|██▍       | 198/800 [09:06<10:44,  1.07s/it]"
          ]
        },
        {
          "output_type": "stream",
          "name": "stdout",
          "text": [
            "Step: 199 \t Time: 594.0215227603912\n",
            "Shift: 0.059485294699668886\n",
            "Current State: 326    2.057081\n",
            "Name: f, dtype: float64\n"
          ]
        },
        {
          "output_type": "stream",
          "name": "stderr",
          "text": [
            "\r 25%|██▍       | 199/800 [09:08<11:26,  1.14s/it]"
          ]
        },
        {
          "output_type": "stream",
          "name": "stdout",
          "text": [
            "Step: 200 \t Time: 595.3319940567017\n",
            "Shift: 0.0595657678604126\n",
            "Current State: 327    5.741301\n",
            "Name: f, dtype: float64\n"
          ]
        },
        {
          "output_type": "stream",
          "name": "stderr",
          "text": [
            "\r 25%|██▌       | 200/800 [09:08<10:12,  1.02s/it]"
          ]
        },
        {
          "output_type": "stream",
          "name": "stdout",
          "text": [
            "Step: 201 \t Time: 596.0691969394684\n",
            "Shift: 0.05967377364635468\n",
            "Current State: 328    0.145588\n",
            "Name: f, dtype: float64\n"
          ]
        },
        {
          "output_type": "stream",
          "name": "stderr",
          "text": [
            "\r 25%|██▌       | 201/800 [09:09<10:21,  1.04s/it]"
          ]
        },
        {
          "output_type": "stream",
          "name": "stdout",
          "text": [
            "Step: 202 \t Time: 597.1470386981964\n",
            "Shift: 0.059870561766624454\n",
            "Current State: 329    0.163473\n",
            "Name: f, dtype: float64\n"
          ]
        },
        {
          "output_type": "stream",
          "name": "stderr",
          "text": [
            "\r 25%|██▌       | 202/800 [09:11<13:07,  1.32s/it]"
          ]
        },
        {
          "output_type": "stream",
          "name": "stdout",
          "text": [
            "Step: 203 \t Time: 599.1149151325226\n",
            "Shift: 0.0599742870092392\n",
            "Current State: 330    0.741707\n",
            "Name: f, dtype: float64\n"
          ]
        },
        {
          "output_type": "stream",
          "name": "stderr",
          "text": [
            "\r 25%|██▌       | 203/800 [09:12<12:16,  1.23s/it]"
          ]
        },
        {
          "output_type": "stream",
          "name": "stdout",
          "text": [
            "Step: 204 \t Time: 600.1534507274628\n",
            "Shift: 0.06007753837108613\n",
            "Current State: 331    0.152794\n",
            "Name: f, dtype: float64\n"
          ]
        },
        {
          "output_type": "stream",
          "name": "stderr",
          "text": [
            "\r 26%|██▌       | 204/800 [09:13<11:38,  1.17s/it]"
          ]
        },
        {
          "output_type": "stream",
          "name": "stdout",
          "text": [
            "Step: 205 \t Time: 601.182594537735\n",
            "Shift: 0.06017265584468842\n",
            "Current State: 332    0.166331\n",
            "Name: f, dtype: float64\n"
          ]
        },
        {
          "output_type": "stream",
          "name": "stderr",
          "text": [
            "\r 26%|██▌       | 205/800 [09:14<10:57,  1.11s/it]"
          ]
        },
        {
          "output_type": "stream",
          "name": "stdout",
          "text": [
            "Step: 206 \t Time: 602.1332960128784\n",
            "Shift: 0.060264316678047186\n",
            "Current State: 333    0.298933\n",
            "Name: f, dtype: float64\n"
          ]
        },
        {
          "output_type": "stream",
          "name": "stderr",
          "text": [
            "\r 26%|██▌       | 206/800 [09:15<10:25,  1.05s/it]"
          ]
        },
        {
          "output_type": "stream",
          "name": "stdout",
          "text": [
            "Step: 207 \t Time: 603.0613276958466\n",
            "Shift: 0.060372626018524174\n",
            "Current State: 334    0.451052\n",
            "Name: f, dtype: float64\n"
          ]
        },
        {
          "output_type": "stream",
          "name": "stderr",
          "text": [
            "\r 26%|██▌       | 207/800 [09:16<10:28,  1.06s/it]"
          ]
        },
        {
          "output_type": "stream",
          "name": "stdout",
          "text": [
            "Step: 208 \t Time: 604.1396307945251\n",
            "Shift: 0.06046302707195282\n",
            "Current State: 335    0.341689\n",
            "Name: f, dtype: float64\n"
          ]
        },
        {
          "output_type": "stream",
          "name": "stderr",
          "text": [
            "\r 26%|██▌       | 208/800 [09:17<10:00,  1.01s/it]"
          ]
        },
        {
          "output_type": "stream",
          "name": "stdout",
          "text": [
            "Step: 209 \t Time: 605.0489194393158\n",
            "Shift: 0.06056970005035401\n",
            "Current State: 336    0.34181\n",
            "Name: f, dtype: float64\n"
          ]
        },
        {
          "output_type": "stream",
          "name": "stderr",
          "text": [
            "\r 26%|██▌       | 209/800 [09:18<10:40,  1.08s/it]"
          ]
        },
        {
          "output_type": "stream",
          "name": "stdout",
          "text": [
            "Step: 210 \t Time: 606.2908306121826\n",
            "Shift: 0.06072725648880005\n",
            "Current State: 337    0.163757\n",
            "Name: f, dtype: float64\n"
          ]
        },
        {
          "output_type": "stream",
          "name": "stderr",
          "text": [
            "\r 26%|██▋       | 210/800 [09:20<11:56,  1.21s/it]"
          ]
        },
        {
          "output_type": "stream",
          "name": "stdout",
          "text": [
            "Step: 211 \t Time: 607.8117725849152\n",
            "Shift: 0.06083796427249909\n",
            "Current State: 338    0.369025\n",
            "Name: f, dtype: float64\n"
          ]
        },
        {
          "output_type": "stream",
          "name": "stderr",
          "text": [
            "\r 26%|██▋       | 211/800 [09:21<11:18,  1.15s/it]"
          ]
        },
        {
          "output_type": "stream",
          "name": "stdout",
          "text": [
            "Step: 212 \t Time: 608.8169813156128\n",
            "Shift: 0.06093587152957917\n",
            "Current State: 339    5.77503\n",
            "Name: f, dtype: float64\n"
          ]
        },
        {
          "output_type": "stream",
          "name": "stderr",
          "text": [
            "\r 26%|██▋       | 212/800 [09:22<10:46,  1.10s/it]"
          ]
        },
        {
          "output_type": "stream",
          "name": "stdout",
          "text": [
            "Step: 213 \t Time: 609.7935795783997\n",
            "Shift: 0.06107433621883392\n",
            "Current State: 340    0.338682\n",
            "Name: f, dtype: float64\n"
          ]
        },
        {
          "output_type": "stream",
          "name": "stderr",
          "text": [
            "\r 27%|██▋       | 213/800 [09:23<11:31,  1.18s/it]"
          ]
        },
        {
          "output_type": "stream",
          "name": "stdout",
          "text": [
            "Step: 214 \t Time: 611.1545405387878\n",
            "Shift: 0.06118587305545807\n",
            "Current State: 341    0.336543\n",
            "Name: f, dtype: float64\n"
          ]
        },
        {
          "output_type": "stream",
          "name": "stderr",
          "text": [
            "\r 27%|██▋       | 214/800 [09:24<11:19,  1.16s/it]"
          ]
        },
        {
          "output_type": "stream",
          "name": "stdout",
          "text": [
            "Step: 215 \t Time: 612.2699182033539\n",
            "Shift: 0.061288300061225896\n",
            "Current State: 342    0.307796\n",
            "Name: f, dtype: float64\n"
          ]
        },
        {
          "output_type": "stream",
          "name": "stderr",
          "text": [
            "\r 27%|██▋       | 215/800 [09:25<10:54,  1.12s/it]"
          ]
        },
        {
          "output_type": "stream",
          "name": "stdout",
          "text": [
            "Step: 216 \t Time: 613.2948384284973\n",
            "Shift: 0.06139118645191193\n",
            "Current State: 343    0.215129\n",
            "Name: f, dtype: float64\n"
          ]
        },
        {
          "output_type": "stream",
          "name": "stderr",
          "text": [
            "\r 27%|██▋       | 216/800 [09:27<10:37,  1.09s/it]"
          ]
        },
        {
          "output_type": "stream",
          "name": "stdout",
          "text": [
            "Step: 217 \t Time: 614.3211913108826\n",
            "Shift: 0.06150620691776276\n",
            "Current State: 344    0.185256\n",
            "Name: f, dtype: float64\n"
          ]
        },
        {
          "output_type": "stream",
          "name": "stderr",
          "text": [
            "\r 27%|██▋       | 217/800 [09:28<10:47,  1.11s/it]"
          ]
        },
        {
          "output_type": "stream",
          "name": "stdout",
          "text": [
            "Step: 218 \t Time: 615.47851729393\n",
            "Shift: 0.06161008424758911\n",
            "Current State: 345    0.172558\n",
            "Name: f, dtype: float64\n"
          ]
        },
        {
          "output_type": "stream",
          "name": "stderr",
          "text": [
            "\r 27%|██▋       | 218/800 [09:29<10:32,  1.09s/it]"
          ]
        },
        {
          "output_type": "stream",
          "name": "stdout",
          "text": [
            "Step: 219 \t Time: 616.5111377239227\n",
            "Shift: 0.06172985308170319\n",
            "Current State: 346    0.171537\n",
            "Name: f, dtype: float64\n"
          ]
        },
        {
          "output_type": "stream",
          "name": "stderr",
          "text": [
            "\r 27%|██▋       | 219/800 [09:30<10:53,  1.12s/it]"
          ]
        },
        {
          "output_type": "stream",
          "name": "stdout",
          "text": [
            "Step: 220 \t Time: 617.722843170166\n",
            "Shift: 0.061880951094627386\n",
            "Current State: 347    0.710277\n",
            "Name: f, dtype: float64\n"
          ]
        },
        {
          "output_type": "stream",
          "name": "stderr",
          "text": [
            "\r 28%|██▊       | 220/800 [09:32<12:29,  1.29s/it]"
          ]
        },
        {
          "output_type": "stream",
          "name": "stdout",
          "text": [
            "Step: 221 \t Time: 619.4072053432465\n",
            "Shift: 0.062030024027824406\n",
            "Current State: 348    0.164309\n",
            "Name: f, dtype: float64\n"
          ]
        },
        {
          "output_type": "stream",
          "name": "stderr",
          "text": [
            "\r 28%|██▊       | 221/800 [09:33<12:33,  1.30s/it]"
          ]
        },
        {
          "output_type": "stream",
          "name": "stdout",
          "text": [
            "Step: 222 \t Time: 620.7294747829437\n",
            "Shift: 0.062130781936645514\n",
            "Current State: 349    0.198855\n",
            "Name: f, dtype: float64\n"
          ]
        },
        {
          "output_type": "stream",
          "name": "stderr",
          "text": [
            "\r 28%|██▊       | 222/800 [09:34<11:38,  1.21s/it]"
          ]
        },
        {
          "output_type": "stream",
          "name": "stdout",
          "text": [
            "Step: 223 \t Time: 621.7210445404053\n",
            "Shift: 0.06225219166278839\n",
            "Current State: 350    0.171089\n",
            "Name: f, dtype: float64\n"
          ]
        },
        {
          "output_type": "stream",
          "name": "stderr",
          "text": [
            "\r 28%|██▊       | 223/800 [09:35<11:42,  1.22s/it]"
          ]
        },
        {
          "output_type": "stream",
          "name": "stdout",
          "text": [
            "Step: 224 \t Time: 622.9588804244995\n",
            "Shift: 0.06240793597698212\n",
            "Current State: 351    0.195206\n",
            "Name: f, dtype: float64\n"
          ]
        },
        {
          "output_type": "stream",
          "name": "stderr",
          "text": [
            "\r 28%|██▊       | 224/800 [09:37<12:39,  1.32s/it]"
          ]
        },
        {
          "output_type": "stream",
          "name": "stdout",
          "text": [
            "Step: 225 \t Time: 624.5148732662201\n",
            "Shift: 0.06252173850536347\n",
            "Current State: 352    0.178598\n",
            "Name: f, dtype: float64\n"
          ]
        },
        {
          "output_type": "stream",
          "name": "stderr",
          "text": [
            "\r 28%|██▊       | 225/800 [09:38<12:05,  1.26s/it]"
          ]
        },
        {
          "output_type": "stream",
          "name": "stdout",
          "text": [
            "Step: 226 \t Time: 625.6447768211365\n",
            "Shift: 0.06265901865959168\n",
            "Current State: 353    0.283487\n",
            "Name: f, dtype: float64\n"
          ]
        },
        {
          "output_type": "stream",
          "name": "stderr",
          "text": [
            "\r 28%|██▊       | 226/800 [09:39<12:21,  1.29s/it]"
          ]
        },
        {
          "output_type": "stream",
          "name": "stdout",
          "text": [
            "Step: 227 \t Time: 627.0030851364136\n",
            "Shift: 0.0627731910943985\n",
            "Current State: 354    0.207066\n",
            "Name: f, dtype: float64\n"
          ]
        },
        {
          "output_type": "stream",
          "name": "stderr",
          "text": [
            "\r 28%|██▊       | 227/800 [09:40<11:54,  1.25s/it]"
          ]
        },
        {
          "output_type": "stream",
          "name": "stdout",
          "text": [
            "Step: 228 \t Time: 628.1449813842773\n",
            "Shift: 0.06301008567810058\n",
            "Current State: 355    0.139708\n",
            "Name: f, dtype: float64\n"
          ]
        },
        {
          "output_type": "stream",
          "name": "stderr",
          "text": [
            "\r 28%|██▊       | 228/800 [09:43<15:21,  1.61s/it]"
          ]
        },
        {
          "output_type": "stream",
          "name": "stdout",
          "text": [
            "Step: 229 \t Time: 630.6051471233368\n",
            "Shift: 0.06316107470989228\n",
            "Current State: 356    0.138045\n",
            "Name: f, dtype: float64\n"
          ]
        },
        {
          "output_type": "stream",
          "name": "stderr",
          "text": [
            "\r 29%|██▊       | 229/800 [09:44<15:16,  1.61s/it]"
          ]
        },
        {
          "output_type": "stream",
          "name": "stdout",
          "text": [
            "Step: 230 \t Time: 632.1975295543671\n",
            "Shift: 0.06332447667121888\n",
            "Current State: 357    0.145549\n",
            "Name: f, dtype: float64\n"
          ]
        },
        {
          "output_type": "stream",
          "name": "stderr",
          "text": [
            "\r 29%|██▉       | 230/800 [09:46<14:52,  1.57s/it]"
          ]
        },
        {
          "output_type": "stream",
          "name": "stdout",
          "text": [
            "Step: 231 \t Time: 633.6711347103119\n",
            "Shift: 0.06347984495162964\n",
            "Current State: 358    0.171876\n",
            "Name: f, dtype: float64\n"
          ]
        },
        {
          "output_type": "stream",
          "name": "stderr",
          "text": [
            "\r 29%|██▉       | 231/800 [09:47<14:48,  1.56s/it]"
          ]
        },
        {
          "output_type": "stream",
          "name": "stdout",
          "text": [
            "Step: 232 \t Time: 635.2212147712708\n",
            "Shift: 0.06359589273929596\n",
            "Current State: 359    0.148086\n",
            "Name: f, dtype: float64\n"
          ]
        },
        {
          "output_type": "stream",
          "name": "stderr",
          "text": [
            "\r 29%|██▉       | 232/800 [09:49<13:36,  1.44s/it]"
          ]
        },
        {
          "output_type": "stream",
          "name": "stdout",
          "text": [
            "Step: 233 \t Time: 636.3736298084259\n",
            "Shift: 0.0637593117237091\n",
            "Current State: 360    0.128603\n",
            "Name: f, dtype: float64\n"
          ]
        },
        {
          "output_type": "stream",
          "name": "stderr",
          "text": [
            "\r 29%|██▉       | 233/800 [09:50<14:09,  1.50s/it]"
          ]
        },
        {
          "output_type": "stream",
          "name": "stdout",
          "text": [
            "Step: 234 \t Time: 638.0119814872742\n",
            "Shift: 0.06396751384735108\n",
            "Current State: 361    0.197083\n",
            "Name: f, dtype: float64\n"
          ]
        },
        {
          "output_type": "stream",
          "name": "stderr",
          "text": [
            "\r 29%|██▉       | 234/800 [09:52<15:47,  1.67s/it]"
          ]
        },
        {
          "output_type": "stream",
          "name": "stdout",
          "text": [
            "Step: 235 \t Time: 640.0968945026398\n",
            "Shift: 0.06409402265548707\n",
            "Current State: 362    30.283211\n",
            "Name: f, dtype: float64\n"
          ]
        },
        {
          "output_type": "stream",
          "name": "stderr",
          "text": [
            "\r 29%|██▉       | 235/800 [09:54<14:36,  1.55s/it]"
          ]
        },
        {
          "output_type": "stream",
          "name": "stdout",
          "text": [
            "Step: 236 \t Time: 641.3585252761841\n",
            "Shift: 0.06460653820037843\n",
            "Current State: 363    0.115136\n",
            "Name: f, dtype: float64\n"
          ]
        },
        {
          "output_type": "stream",
          "name": "stderr",
          "text": [
            "\r 30%|██▉       | 236/800 [09:59<24:38,  2.62s/it]"
          ]
        },
        {
          "output_type": "stream",
          "name": "stdout",
          "text": [
            "Step: 237 \t Time: 646.4790709018707\n",
            "Shift: 0.06503417232036592\n",
            "Current State: 364    0.090505\n",
            "Name: f, dtype: float64\n"
          ]
        },
        {
          "output_type": "stream",
          "name": "stderr",
          "text": [
            "\r 30%|██▉       | 237/800 [10:03<29:16,  3.12s/it]"
          ]
        },
        {
          "output_type": "stream",
          "name": "stdout",
          "text": [
            "Step: 238 \t Time: 650.759072303772\n",
            "Shift: 0.06533297426700592\n",
            "Current State: 365    0.110648\n",
            "Name: f, dtype: float64\n"
          ]
        },
        {
          "output_type": "stream",
          "name": "stderr",
          "text": [
            "\r 30%|██▉       | 238/800 [10:06<28:51,  3.08s/it]"
          ]
        },
        {
          "output_type": "stream",
          "name": "stdout",
          "text": [
            "Step: 239 \t Time: 653.7495839595795\n",
            "Shift: 0.06581989834308624\n",
            "Current State: 366    0.11155\n",
            "Name: f, dtype: float64\n"
          ]
        },
        {
          "output_type": "stream",
          "name": "stderr",
          "text": [
            "\r 30%|██▉       | 239/800 [10:11<33:47,  3.61s/it]"
          ]
        },
        {
          "output_type": "stream",
          "name": "stdout",
          "text": [
            "Step: 240 \t Time: 658.6095435619354\n",
            "Shift: 0.06612609601020814\n",
            "Current State: 367    0.107491\n",
            "Name: f, dtype: float64\n"
          ]
        },
        {
          "output_type": "stream",
          "name": "stderr",
          "text": [
            "\r 30%|███       | 240/800 [10:14<32:14,  3.45s/it]"
          ]
        },
        {
          "output_type": "stream",
          "name": "stdout",
          "text": [
            "Step: 241 \t Time: 661.6885061264038\n",
            "Shift: 0.06649256255626679\n",
            "Current State: 368    0.204146\n",
            "Name: f, dtype: float64\n"
          ]
        },
        {
          "output_type": "stream",
          "name": "stderr",
          "text": [
            "\r 30%|███       | 241/800 [10:18<32:43,  3.51s/it]"
          ]
        },
        {
          "output_type": "stream",
          "name": "stdout",
          "text": [
            "Step: 242 \t Time: 665.3370559215546\n",
            "Shift: 0.06701319627761841\n",
            "Current State: 369    0.242081\n",
            "Name: f, dtype: float64\n"
          ]
        },
        {
          "output_type": "stream",
          "name": "stderr",
          "text": [
            "\r 30%|███       | 242/800 [10:23<37:40,  4.05s/it]"
          ]
        },
        {
          "output_type": "stream",
          "name": "stdout",
          "text": [
            "Step: 243 \t Time: 670.6442577838898\n",
            "Shift: 0.06738905007839203\n",
            "Current State: 370    0.249627\n",
            "Name: f, dtype: float64\n"
          ]
        },
        {
          "output_type": "stream",
          "name": "stderr",
          "text": [
            "\r 30%|███       | 243/800 [10:26<36:32,  3.94s/it]"
          ]
        },
        {
          "output_type": "stream",
          "name": "stdout",
          "text": [
            "Step: 244 \t Time: 674.3124768733978\n",
            "Shift: 0.06765399250984193\n",
            "Current State: 371    0.171485\n",
            "Name: f, dtype: float64\n"
          ]
        },
        {
          "output_type": "stream",
          "name": "stderr",
          "text": [
            "\r 30%|███       | 244/800 [10:29<32:52,  3.55s/it]"
          ]
        },
        {
          "output_type": "stream",
          "name": "stdout",
          "text": [
            "Step: 245 \t Time: 676.9538462162018\n",
            "Shift: 0.06803191726207733\n",
            "Current State: 372    0.364203\n",
            "Name: f, dtype: float64\n"
          ]
        },
        {
          "output_type": "stream",
          "name": "stderr",
          "text": [
            "\r 31%|███       | 245/800 [10:33<33:29,  3.62s/it]"
          ]
        },
        {
          "output_type": "stream",
          "name": "stdout",
          "text": [
            "Step: 246 \t Time: 680.7474746704102\n",
            "Shift: 0.06845769429206848\n",
            "Current State: 373    0.557007\n",
            "Name: f, dtype: float64\n"
          ]
        },
        {
          "output_type": "stream",
          "name": "stderr",
          "text": [
            "\r 31%|███       | 246/800 [10:37<35:09,  3.81s/it]"
          ]
        },
        {
          "output_type": "stream",
          "name": "stdout",
          "text": [
            "Step: 247 \t Time: 684.9922730922699\n",
            "Shift: 0.06877274582386017\n",
            "Current State: 374    0.166126\n",
            "Name: f, dtype: float64\n"
          ]
        },
        {
          "output_type": "stream",
          "name": "stderr",
          "text": [
            "\r 31%|███       | 247/800 [10:40<33:22,  3.62s/it]"
          ]
        },
        {
          "output_type": "stream",
          "name": "stdout",
          "text": [
            "Step: 248 \t Time: 688.1736767292023\n",
            "Shift: 0.0690069596529007\n",
            "Current State: 375    0.175196\n",
            "Name: f, dtype: float64\n"
          ]
        },
        {
          "output_type": "stream",
          "name": "stderr",
          "text": [
            "\r 31%|███       | 248/800 [10:43<29:43,  3.23s/it]"
          ]
        },
        {
          "output_type": "stream",
          "name": "stdout",
          "text": [
            "Step: 249 \t Time: 690.4933593273163\n",
            "Shift: 0.06934309582710266\n",
            "Current State: 376    0.173737\n",
            "Name: f, dtype: float64\n"
          ]
        },
        {
          "output_type": "stream",
          "name": "stderr",
          "text": [
            "\r 31%|███       | 249/800 [10:46<30:21,  3.31s/it]"
          ]
        },
        {
          "output_type": "stream",
          "name": "stdout",
          "text": [
            "Step: 250 \t Time: 693.9749937057495\n",
            "Shift: 0.06964001774787903\n",
            "Current State: 377    0.178091\n",
            "Name: f, dtype: float64\n"
          ]
        },
        {
          "output_type": "stream",
          "name": "stderr",
          "text": [
            "\r 31%|███▏      | 250/800 [10:49<29:02,  3.17s/it]"
          ]
        },
        {
          "output_type": "stream",
          "name": "stdout",
          "text": [
            "Step: 251 \t Time: 696.824455499649\n",
            "Shift: 0.06992584261894226\n",
            "Current State: 378    0.203788\n",
            "Name: f, dtype: float64\n"
          ]
        },
        {
          "output_type": "stream",
          "name": "stderr",
          "text": [
            "\r 31%|███▏      | 251/800 [10:52<28:07,  3.07s/it]"
          ]
        },
        {
          "output_type": "stream",
          "name": "stdout",
          "text": [
            "Step: 252 \t Time: 699.6775362491608\n",
            "Shift: 0.07023757948875428\n",
            "Current State: 379    0.212886\n",
            "Name: f, dtype: float64\n"
          ]
        },
        {
          "output_type": "stream",
          "name": "stderr",
          "text": [
            "\r 32%|███▏      | 252/800 [10:55<28:12,  3.09s/it]"
          ]
        },
        {
          "output_type": "stream",
          "name": "stdout",
          "text": [
            "Step: 253 \t Time: 702.7982225418091\n",
            "Shift: 0.07057417364120484\n",
            "Current State: 380    0.209971\n",
            "Name: f, dtype: float64\n"
          ]
        },
        {
          "output_type": "stream",
          "name": "stderr",
          "text": [
            "\r 32%|███▏      | 253/800 [10:58<29:01,  3.18s/it]"
          ]
        },
        {
          "output_type": "stream",
          "name": "stdout",
          "text": [
            "Step: 254 \t Time: 706.2037336826324\n",
            "Shift: 0.07093415062427522\n",
            "Current State: 381    0.214429\n",
            "Name: f, dtype: float64\n"
          ]
        },
        {
          "output_type": "stream",
          "name": "stderr",
          "text": [
            "\r 32%|███▏      | 254/800 [11:02<30:00,  3.30s/it]"
          ]
        },
        {
          "output_type": "stream",
          "name": "stdout",
          "text": [
            "Step: 255 \t Time: 709.7660355567932\n",
            "Shift: 0.07133027107715607\n",
            "Current State: 382    0.237964\n",
            "Name: f, dtype: float64\n"
          ]
        },
        {
          "output_type": "stream",
          "name": "stderr",
          "text": [
            "\r 32%|███▏      | 255/800 [11:06<31:46,  3.50s/it]"
          ]
        },
        {
          "output_type": "stream",
          "name": "stdout",
          "text": [
            "Step: 256 \t Time: 713.7366256713867\n",
            "Shift: 0.07165996351242065\n",
            "Current State: 383    0.262035\n",
            "Name: f, dtype: float64\n"
          ]
        },
        {
          "output_type": "stream",
          "name": "stderr",
          "text": [
            "\r 32%|███▏      | 256/800 [11:09<31:08,  3.44s/it]"
          ]
        },
        {
          "output_type": "stream",
          "name": "stdout",
          "text": [
            "Step: 257 \t Time: 717.0228598117828\n",
            "Shift: 0.07210449016094209\n",
            "Current State: 384    0.26423\n",
            "Name: f, dtype: float64\n"
          ]
        },
        {
          "output_type": "stream",
          "name": "stderr",
          "text": [
            "\r 32%|███▏      | 257/800 [11:14<33:47,  3.73s/it]"
          ]
        },
        {
          "output_type": "stream",
          "name": "stdout",
          "text": [
            "Step: 258 \t Time: 721.4521737098694\n",
            "Shift: 0.07238130359649658\n",
            "Current State: 385    0.261767\n",
            "Name: f, dtype: float64\n"
          ]
        },
        {
          "output_type": "stream",
          "name": "stderr",
          "text": [
            "\r 32%|███▏      | 258/800 [11:16<31:08,  3.45s/it]"
          ]
        },
        {
          "output_type": "stream",
          "name": "stdout",
          "text": [
            "Step: 259 \t Time: 724.2339715957642\n",
            "Shift: 0.07278290235996247\n",
            "Current State: 386    0.264819\n",
            "Name: f, dtype: float64\n"
          ]
        },
        {
          "output_type": "stream",
          "name": "stderr",
          "text": [
            "\r 32%|███▏      | 259/800 [11:20<32:38,  3.62s/it]"
          ]
        },
        {
          "output_type": "stream",
          "name": "stdout",
          "text": [
            "Step: 260 \t Time: 728.2553107738495\n",
            "Shift: 0.07317808589935303\n",
            "Current State: 387    0.299701\n",
            "Name: f, dtype: float64\n"
          ]
        },
        {
          "output_type": "stream",
          "name": "stderr",
          "text": [
            "\r 32%|███▎      | 260/800 [11:25<33:59,  3.78s/it]"
          ]
        },
        {
          "output_type": "stream",
          "name": "stdout",
          "text": [
            "Step: 261 \t Time: 732.3969600200653\n",
            "Shift: 0.07350775501728059\n",
            "Current State: 388    0.294574\n",
            "Name: f, dtype: float64\n"
          ]
        },
        {
          "output_type": "stream",
          "name": "stderr",
          "text": [
            "\r 33%|███▎      | 261/800 [11:28<32:06,  3.57s/it]"
          ]
        },
        {
          "output_type": "stream",
          "name": "stdout",
          "text": [
            "Step: 262 \t Time: 735.4970173835754\n",
            "Shift: 0.07380432808399201\n",
            "Current State: 389    0.316179\n",
            "Name: f, dtype: float64\n"
          ]
        },
        {
          "output_type": "stream",
          "name": "stderr",
          "text": [
            "\r 33%|███▎      | 262/800 [11:31<30:24,  3.39s/it]"
          ]
        },
        {
          "output_type": "stream",
          "name": "stdout",
          "text": [
            "Step: 263 \t Time: 738.4611051082611\n",
            "Shift: 0.07413060755729675\n",
            "Current State: 390    0.326606\n",
            "Name: f, dtype: float64\n"
          ]
        },
        {
          "output_type": "stream",
          "name": "stderr",
          "text": [
            "\r 33%|███▎      | 263/800 [11:34<30:03,  3.36s/it]"
          ]
        },
        {
          "output_type": "stream",
          "name": "stdout",
          "text": [
            "Step: 264 \t Time: 741.7447254657745\n",
            "Shift: 0.07453429415225983\n",
            "Current State: 391    0.250676\n",
            "Name: f, dtype: float64\n"
          ]
        },
        {
          "output_type": "stream",
          "name": "stderr",
          "text": [
            "\r 33%|███▎      | 264/800 [11:38<32:07,  3.60s/it]"
          ]
        },
        {
          "output_type": "stream",
          "name": "stdout",
          "text": [
            "Step: 265 \t Time: 745.8964505195618\n",
            "Shift: 0.07485901184082032\n",
            "Current State: 392    0.489338\n",
            "Name: f, dtype: float64\n"
          ]
        },
        {
          "output_type": "stream",
          "name": "stderr",
          "text": [
            "\r 33%|███▎      | 265/800 [11:41<30:46,  3.45s/it]"
          ]
        },
        {
          "output_type": "stream",
          "name": "stdout",
          "text": [
            "Step: 266 \t Time: 749.0121920108795\n",
            "Shift: 0.07521184329986573\n",
            "Current State: 393    0.184225\n",
            "Name: f, dtype: float64\n"
          ]
        },
        {
          "output_type": "stream",
          "name": "stderr",
          "text": [
            "\r 33%|███▎      | 266/800 [11:45<30:55,  3.47s/it]"
          ]
        },
        {
          "output_type": "stream",
          "name": "stdout",
          "text": [
            "Step: 267 \t Time: 752.5377521514893\n",
            "Shift: 0.07561772909164428\n",
            "Current State: 394    0.289757\n",
            "Name: f, dtype: float64\n"
          ]
        },
        {
          "output_type": "stream",
          "name": "stderr",
          "text": [
            "\r 33%|███▎      | 267/800 [11:49<32:42,  3.68s/it]"
          ]
        },
        {
          "output_type": "stream",
          "name": "stdout",
          "text": [
            "Step: 268 \t Time: 756.7068119049072\n",
            "Shift: 0.07595907783508302\n",
            "Current State: 395    0.168576\n",
            "Name: f, dtype: float64\n"
          ]
        },
        {
          "output_type": "stream",
          "name": "stderr",
          "text": [
            "\r 34%|███▎      | 268/800 [11:52<31:39,  3.57s/it]"
          ]
        },
        {
          "output_type": "stream",
          "name": "stdout",
          "text": [
            "Step: 269 \t Time: 760.0124752521515\n",
            "Shift: 0.07623439011573792\n",
            "Current State: 396    0.133496\n",
            "Name: f, dtype: float64\n"
          ]
        },
        {
          "output_type": "stream",
          "name": "stderr",
          "text": [
            "\r 34%|███▎      | 269/800 [11:55<29:24,  3.32s/it]"
          ]
        },
        {
          "output_type": "stream",
          "name": "stdout",
          "text": [
            "Step: 270 \t Time: 762.7613799571991\n",
            "Shift: 0.07656016120910644\n",
            "Current State: 397    0.135843\n",
            "Name: f, dtype: float64\n"
          ]
        },
        {
          "output_type": "stream",
          "name": "stderr",
          "text": [
            "\r 34%|███▍      | 270/800 [11:58<29:10,  3.30s/it]"
          ]
        },
        {
          "output_type": "stream",
          "name": "stdout",
          "text": [
            "Step: 271 \t Time: 766.0154755115509\n",
            "Shift: 0.07708181107044221\n",
            "Current State: 398    0.200197\n",
            "Name: f, dtype: float64\n"
          ]
        },
        {
          "output_type": "stream",
          "name": "stderr",
          "text": [
            "\r 34%|███▍      | 271/800 [12:04<34:34,  3.92s/it]"
          ]
        },
        {
          "output_type": "stream",
          "name": "stdout",
          "text": [
            "Step: 272 \t Time: 771.3815567493439\n",
            "Shift: 0.07742140858173371\n",
            "Current State: 399    0.130522\n",
            "Name: f, dtype: float64\n"
          ]
        },
        {
          "output_type": "stream",
          "name": "stderr",
          "text": [
            "\r 34%|███▍      | 272/800 [12:07<32:44,  3.72s/it]"
          ]
        },
        {
          "output_type": "stream",
          "name": "stdout",
          "text": [
            "Step: 273 \t Time: 774.6345283985138\n",
            "Shift: 0.07779075117111206\n",
            "Current State: 400    0.107815\n",
            "Name: f, dtype: float64\n"
          ]
        },
        {
          "output_type": "stream",
          "name": "stderr",
          "text": [
            "\r 34%|███▍      | 273/800 [12:11<32:39,  3.72s/it]"
          ]
        },
        {
          "output_type": "stream",
          "name": "stdout",
          "text": [
            "Step: 274 \t Time: 778.3475358486176\n",
            "Shift: 0.07811682443618775\n",
            "Current State: 401    0.153928\n",
            "Name: f, dtype: float64\n"
          ]
        },
        {
          "output_type": "stream",
          "name": "stderr",
          "text": [
            "\r 34%|███▍      | 274/800 [12:14<31:28,  3.59s/it]"
          ]
        },
        {
          "output_type": "stream",
          "name": "stdout",
          "text": [
            "Step: 275 \t Time: 781.639758348465\n",
            "Shift: 0.07866224348545074\n",
            "Current State: 402    0.188579\n",
            "Name: f, dtype: float64\n"
          ]
        },
        {
          "output_type": "stream",
          "name": "stderr",
          "text": [
            "\r 34%|███▍      | 275/800 [12:19<36:12,  4.14s/it]"
          ]
        },
        {
          "output_type": "stream",
          "name": "stdout",
          "text": [
            "Step: 276 \t Time: 787.0536601543427\n",
            "Shift: 0.07909636645317078\n",
            "Current State: 403    0.096294\n",
            "Name: f, dtype: float64\n"
          ]
        },
        {
          "output_type": "stream",
          "name": "stderr",
          "text": [
            "\r 34%|███▍      | 276/800 [12:24<36:39,  4.20s/it]"
          ]
        },
        {
          "output_type": "stream",
          "name": "stdout",
          "text": [
            "Step: 277 \t Time: 791.3967025279999\n",
            "Shift: 0.07942684905529022\n",
            "Current State: 404    1.265479\n",
            "Name: f, dtype: float64\n"
          ]
        },
        {
          "output_type": "stream",
          "name": "stderr",
          "text": [
            "\r 35%|███▍      | 277/800 [12:27<34:27,  3.95s/it]"
          ]
        },
        {
          "output_type": "stream",
          "name": "stdout",
          "text": [
            "Step: 278 \t Time: 794.7740805149078\n",
            "Shift: 0.079750461435318\n",
            "Current State: 405    5.806318\n",
            "Name: f, dtype: float64\n"
          ]
        },
        {
          "output_type": "stream",
          "name": "stderr",
          "text": [
            "\r 35%|███▍      | 278/800 [12:30<32:19,  3.72s/it]"
          ]
        },
        {
          "output_type": "stream",
          "name": "stdout",
          "text": [
            "Step: 279 \t Time: 797.935227394104\n",
            "Shift: 0.08012665584087372\n",
            "Current State: 406    0.2111\n",
            "Name: f, dtype: float64\n"
          ]
        },
        {
          "output_type": "stream",
          "name": "stderr",
          "text": [
            "\r 35%|███▍      | 279/800 [12:34<32:21,  3.73s/it]"
          ]
        },
        {
          "output_type": "stream",
          "name": "stdout",
          "text": [
            "Step: 280 \t Time: 801.6883945465088\n",
            "Shift: 0.08029427239894868\n",
            "Current State: 407    0.146383\n",
            "Name: f, dtype: float64\n"
          ]
        },
        {
          "output_type": "stream",
          "name": "stderr",
          "text": [
            "\r 35%|███▌      | 280/800 [12:36<26:56,  3.11s/it]"
          ]
        },
        {
          "output_type": "stream",
          "name": "stdout",
          "text": [
            "Step: 281 \t Time: 803.3551449775696\n",
            "Shift: 0.08063562934398652\n",
            "Current State: 408    1.392519\n",
            "Name: f, dtype: float64\n"
          ]
        },
        {
          "output_type": "stream",
          "name": "stderr",
          "text": [
            "\r 35%|███▌      | 281/800 [12:39<27:43,  3.20s/it]"
          ]
        },
        {
          "output_type": "stream",
          "name": "stdout",
          "text": [
            "Step: 282 \t Time: 806.7834210395813\n",
            "Shift: 0.08096802656650544\n",
            "Current State: 409    0.222186\n",
            "Name: f, dtype: float64\n"
          ]
        },
        {
          "output_type": "stream",
          "name": "stderr",
          "text": [
            "\r 35%|███▌      | 282/800 [12:42<28:00,  3.24s/it]"
          ]
        },
        {
          "output_type": "stream",
          "name": "stdout",
          "text": [
            "Step: 283 \t Time: 810.1215517520905\n",
            "Shift: 0.08122680535316468\n",
            "Current State: 410    0.096472\n",
            "Name: f, dtype: float64\n"
          ]
        },
        {
          "output_type": "stream",
          "name": "stderr",
          "text": [
            "\r 35%|███▌      | 283/800 [12:45<26:13,  3.04s/it]"
          ]
        },
        {
          "output_type": "stream",
          "name": "stdout",
          "text": [
            "Step: 284 \t Time: 812.6970636844635\n",
            "Shift: 0.08146007978916169\n",
            "Current State: 411    0.424216\n",
            "Name: f, dtype: float64\n"
          ]
        },
        {
          "output_type": "stream",
          "name": "stderr",
          "text": [
            "\r 36%|███▌      | 284/800 [12:47<24:19,  2.83s/it]"
          ]
        },
        {
          "output_type": "stream",
          "name": "stdout",
          "text": [
            "Step: 285 \t Time: 815.0202286243439\n",
            "Shift: 0.08178524467945099\n",
            "Current State: 412    0.173703\n",
            "Name: f, dtype: float64\n"
          ]
        },
        {
          "output_type": "stream",
          "name": "stderr",
          "text": [
            "\r 36%|███▌      | 285/800 [12:50<25:24,  2.96s/it]"
          ]
        },
        {
          "output_type": "stream",
          "name": "stdout",
          "text": [
            "Step: 286 \t Time: 818.2888398170471\n",
            "Shift: 0.08210728862285614\n",
            "Current State: 413    0.237486\n",
            "Name: f, dtype: float64\n"
          ]
        },
        {
          "output_type": "stream",
          "name": "stderr",
          "text": [
            "\r 36%|███▌      | 286/800 [12:54<26:29,  3.09s/it]"
          ]
        },
        {
          "output_type": "stream",
          "name": "stdout",
          "text": [
            "Step: 287 \t Time: 821.688628911972\n",
            "Shift: 0.0824727029323578\n",
            "Current State: 414    0.223485\n",
            "Name: f, dtype: float64\n"
          ]
        },
        {
          "output_type": "stream",
          "name": "stderr",
          "text": [
            "\r 36%|███▌      | 287/800 [12:57<27:22,  3.20s/it]"
          ]
        },
        {
          "output_type": "stream",
          "name": "stdout",
          "text": [
            "Step: 288 \t Time: 825.1484961509705\n",
            "Shift: 0.08273384158611298\n",
            "Current State: 415    0.252941\n",
            "Name: f, dtype: float64\n"
          ]
        },
        {
          "output_type": "stream",
          "name": "stderr",
          "text": [
            "\r 36%|███▌      | 288/800 [13:00<25:50,  3.03s/it]"
          ]
        },
        {
          "output_type": "stream",
          "name": "stdout",
          "text": [
            "Step: 289 \t Time: 827.7708411216736\n",
            "Shift: 0.08292910470962525\n",
            "Current State: 416    0.302561\n",
            "Name: f, dtype: float64\n"
          ]
        },
        {
          "output_type": "stream",
          "name": "stderr",
          "text": [
            "\r 36%|███▌      | 289/800 [13:02<23:05,  2.71s/it]"
          ]
        },
        {
          "output_type": "stream",
          "name": "stdout",
          "text": [
            "Step: 290 \t Time: 829.74360704422\n",
            "Shift: 0.08321080460548401\n",
            "Current State: 417    0.276201\n",
            "Name: f, dtype: float64\n"
          ]
        },
        {
          "output_type": "stream",
          "name": "stderr",
          "text": [
            "\r 36%|███▋      | 290/800 [13:05<23:24,  2.75s/it]"
          ]
        },
        {
          "output_type": "stream",
          "name": "stdout",
          "text": [
            "Step: 291 \t Time: 832.5933284759521\n",
            "Shift: 0.08362539842128754\n",
            "Current State: 418    0.335209\n",
            "Name: f, dtype: float64\n"
          ]
        },
        {
          "output_type": "stream",
          "name": "stderr",
          "text": [
            "\r 36%|███▋      | 291/800 [13:09<26:43,  3.15s/it]"
          ]
        },
        {
          "output_type": "stream",
          "name": "stdout",
          "text": [
            "Step: 292 \t Time: 836.6691725254059\n",
            "Shift: 0.08392142217159272\n",
            "Current State: 419    0.258298\n",
            "Name: f, dtype: float64\n"
          ]
        },
        {
          "output_type": "stream",
          "name": "stderr",
          "text": [
            "\r 36%|███▋      | 292/800 [13:12<26:13,  3.10s/it]"
          ]
        },
        {
          "output_type": "stream",
          "name": "stdout",
          "text": [
            "Step: 293 \t Time: 839.6418862342834\n",
            "Shift: 0.08419768629074097\n",
            "Current State: 420    0.17537\n",
            "Name: f, dtype: float64\n"
          ]
        },
        {
          "output_type": "stream",
          "name": "stderr",
          "text": [
            "\r 37%|███▋      | 293/800 [13:15<25:17,  2.99s/it]"
          ]
        },
        {
          "output_type": "stream",
          "name": "stdout",
          "text": [
            "Step: 294 \t Time: 842.3953773975372\n",
            "Shift: 0.08430912039279938\n",
            "Current State: 421    10.593545\n",
            "Name: f, dtype: float64\n"
          ]
        },
        {
          "output_type": "stream",
          "name": "stderr",
          "text": [
            "\r 37%|███▋      | 294/800 [13:16<20:30,  2.43s/it]"
          ]
        },
        {
          "output_type": "stream",
          "name": "stdout",
          "text": [
            "Step: 295 \t Time: 843.5167720317841\n",
            "Shift: 0.08442419748306275\n",
            "Current State: 422    0.354631\n",
            "Name: f, dtype: float64\n"
          ]
        },
        {
          "output_type": "stream",
          "name": "stderr",
          "text": [
            "\r 37%|███▋      | 295/800 [13:17<17:13,  2.05s/it]"
          ]
        },
        {
          "output_type": "stream",
          "name": "stdout",
          "text": [
            "Step: 296 \t Time: 844.6663625240326\n",
            "Shift: 0.08451054587364197\n",
            "Current State: 423    3.332374\n",
            "Name: f, dtype: float64\n"
          ]
        },
        {
          "output_type": "stream",
          "name": "stderr",
          "text": [
            "\r 37%|███▋      | 296/800 [13:18<14:30,  1.73s/it]"
          ]
        },
        {
          "output_type": "stream",
          "name": "stdout",
          "text": [
            "Step: 297 \t Time: 845.6455571651459\n",
            "Shift: 0.08467439556121827\n",
            "Current State: 424    0.118294\n",
            "Name: f, dtype: float64\n"
          ]
        },
        {
          "output_type": "stream",
          "name": "stderr",
          "text": [
            "\r 37%|███▋      | 297/800 [13:20<14:23,  1.72s/it]"
          ]
        },
        {
          "output_type": "stream",
          "name": "stdout",
          "text": [
            "Step: 298 \t Time: 847.3371379375458\n",
            "Shift: 0.08477482011318208\n",
            "Current State: 425    16.119293\n",
            "Name: f, dtype: float64\n"
          ]
        },
        {
          "output_type": "stream",
          "name": "stderr",
          "text": [
            "\r 37%|███▋      | 298/800 [13:20<12:08,  1.45s/it]"
          ]
        },
        {
          "output_type": "stream",
          "name": "stdout",
          "text": [
            "Step: 299 \t Time: 848.1702105998993\n",
            "Shift: 0.08496839971542358\n",
            "Current State: 426    0.286096\n",
            "Name: f, dtype: float64\n"
          ]
        },
        {
          "output_type": "stream",
          "name": "stderr",
          "text": [
            "\r 37%|███▋      | 299/800 [13:22<13:19,  1.59s/it]"
          ]
        },
        {
          "output_type": "stream",
          "name": "stdout",
          "text": [
            "Step: 300 \t Time: 850.1001513004303\n",
            "Shift: 0.08518867621421815\n",
            "Current State: 427    0.091889\n",
            "Name: f, dtype: float64\n"
          ]
        },
        {
          "output_type": "stream",
          "name": "stderr",
          "text": [
            "\r 38%|███▊      | 300/800 [13:24<14:48,  1.78s/it]"
          ]
        },
        {
          "output_type": "stream",
          "name": "stdout",
          "text": [
            "Step: 301 \t Time: 852.3022961616516\n",
            "Shift: 0.0852908982515335\n",
            "Current State: 428    0.067024\n",
            "Name: f, dtype: float64\n"
          ]
        },
        {
          "output_type": "stream",
          "name": "stderr",
          "text": [
            "\r 38%|███▊      | 301/800 [13:26<12:54,  1.55s/it]"
          ]
        },
        {
          "output_type": "stream",
          "name": "stdout",
          "text": [
            "Step: 302 \t Time: 853.3321051597595\n",
            "Shift: 0.08540291118621826\n",
            "Current State: 429    0.030698\n",
            "Name: f, dtype: float64\n"
          ]
        },
        {
          "output_type": "stream",
          "name": "stderr",
          "text": [
            "\r 38%|███▊      | 302/800 [13:27<11:50,  1.43s/it]"
          ]
        },
        {
          "output_type": "stream",
          "name": "stdout",
          "text": [
            "Step: 303 \t Time: 854.4620943069458\n",
            "Shift: 0.08554190454483032\n",
            "Current State: 430    0.104588\n",
            "Name: f, dtype: float64\n"
          ]
        },
        {
          "output_type": "stream",
          "name": "stderr",
          "text": [
            "\r 38%|███▊      | 303/800 [13:28<11:43,  1.42s/it]"
          ]
        },
        {
          "output_type": "stream",
          "name": "stdout",
          "text": [
            "Step: 304 \t Time: 855.8525059223175\n",
            "Shift: 0.08565494213104248\n",
            "Current State: 431    0.036744\n",
            "Name: f, dtype: float64\n"
          ]
        },
        {
          "output_type": "stream",
          "name": "stderr",
          "text": [
            "\r 38%|███▊      | 304/800 [13:29<10:58,  1.33s/it]"
          ]
        },
        {
          "output_type": "stream",
          "name": "stdout",
          "text": [
            "Step: 305 \t Time: 856.9725835323334\n",
            "Shift: 0.08576759960651398\n",
            "Current State: 432    0.054151\n",
            "Name: f, dtype: float64\n"
          ]
        },
        {
          "output_type": "stream",
          "name": "stderr",
          "text": [
            "\r 38%|███▊      | 305/800 [13:30<10:50,  1.31s/it]"
          ]
        },
        {
          "output_type": "stream",
          "name": "stdout",
          "text": [
            "Step: 306 \t Time: 858.2540488243103\n",
            "Shift: 0.0859802297592163\n",
            "Current State: 433    0.046577\n",
            "Name: f, dtype: float64\n"
          ]
        },
        {
          "output_type": "stream",
          "name": "stderr",
          "text": [
            "\r 38%|███▊      | 306/800 [13:32<12:35,  1.53s/it]"
          ]
        },
        {
          "output_type": "stream",
          "name": "stdout",
          "text": [
            "Step: 307 \t Time: 860.2850439548492\n",
            "Shift: 0.08608000695705414\n",
            "Current State: 434    1.045025\n",
            "Name: f, dtype: float64\n"
          ]
        },
        {
          "output_type": "stream",
          "name": "stderr",
          "text": [
            "\r 38%|███▊      | 307/800 [13:33<11:06,  1.35s/it]"
          ]
        },
        {
          "output_type": "stream",
          "name": "stdout",
          "text": [
            "Step: 308 \t Time: 861.2271237373352\n",
            "Shift: 0.08619110012054444\n",
            "Current State: 435    0.019798\n",
            "Name: f, dtype: float64\n"
          ]
        },
        {
          "output_type": "stream",
          "name": "stderr",
          "text": [
            "\r 38%|███▊      | 308/800 [13:35<10:31,  1.28s/it]"
          ]
        },
        {
          "output_type": "stream",
          "name": "stdout",
          "text": [
            "Step: 309 \t Time: 862.352365732193\n",
            "Shift: 0.08639485814571381\n",
            "Current State: 436    0.032063\n",
            "Name: f, dtype: float64\n"
          ]
        },
        {
          "output_type": "stream",
          "name": "stderr",
          "text": [
            "\r 39%|███▊      | 309/800 [13:37<12:19,  1.51s/it]"
          ]
        },
        {
          "output_type": "stream",
          "name": "stdout",
          "text": [
            "Step: 310 \t Time: 864.374039888382\n",
            "Shift: 0.08660504121780396\n",
            "Current State: 437    0.047659\n",
            "Name: f, dtype: float64\n"
          ]
        },
        {
          "output_type": "stream",
          "name": "stderr",
          "text": [
            "\r 39%|███▉      | 310/800 [13:39<13:46,  1.69s/it]"
          ]
        },
        {
          "output_type": "stream",
          "name": "stdout",
          "text": [
            "Step: 311 \t Time: 866.4841361045837\n",
            "Shift: 0.08678893616199494\n",
            "Current State: 438    0.059893\n",
            "Name: f, dtype: float64\n"
          ]
        },
        {
          "output_type": "stream",
          "name": "stderr",
          "text": [
            "\r 39%|███▉      | 311/800 [13:41<14:07,  1.73s/it]"
          ]
        },
        {
          "output_type": "stream",
          "name": "stdout",
          "text": [
            "Step: 312 \t Time: 868.3228166103363\n",
            "Shift: 0.08694639916419983\n",
            "Current State: 439    0.041431\n",
            "Name: f, dtype: float64\n"
          ]
        },
        {
          "output_type": "stream",
          "name": "stderr",
          "text": [
            "\r 39%|███▉      | 312/800 [13:42<13:40,  1.68s/it]"
          ]
        },
        {
          "output_type": "stream",
          "name": "stdout",
          "text": [
            "Step: 313 \t Time: 869.8879942893982\n",
            "Shift: 0.0871282059431076\n",
            "Current State: 440    0.014677\n",
            "Name: f, dtype: float64\n"
          ]
        },
        {
          "output_type": "stream",
          "name": "stderr",
          "text": [
            "\r 39%|███▉      | 313/800 [13:45<15:48,  1.95s/it]"
          ]
        },
        {
          "output_type": "stream",
          "name": "stdout",
          "text": [
            "Step: 314 \t Time: 872.4558765888214\n",
            "Shift: 0.08738106367588043\n",
            "Current State: 441    0.132427\n",
            "Name: f, dtype: float64\n"
          ]
        },
        {
          "output_type": "stream",
          "name": "stderr",
          "text": [
            "\r 39%|███▉      | 314/800 [13:46<15:21,  1.90s/it]"
          ]
        },
        {
          "output_type": "stream",
          "name": "stdout",
          "text": [
            "Step: 315 \t Time: 874.2339987754822\n",
            "Shift: 0.08765140154361725\n",
            "Current State: 442    0.103381\n",
            "Name: f, dtype: float64\n"
          ]
        },
        {
          "output_type": "stream",
          "name": "stderr",
          "text": [
            "\r 39%|███▉      | 315/800 [13:49<17:20,  2.15s/it]"
          ]
        },
        {
          "output_type": "stream",
          "name": "stdout",
          "text": [
            "Step: 316 \t Time: 876.957793712616\n",
            "Shift: 0.08779447240829469\n",
            "Current State: 443    0.058174\n",
            "Name: f, dtype: float64\n"
          ]
        },
        {
          "output_type": "stream",
          "name": "stderr",
          "text": [
            "\r 40%|███▉      | 316/800 [13:51<15:31,  1.92s/it]"
          ]
        },
        {
          "output_type": "stream",
          "name": "stdout",
          "text": [
            "Step: 317 \t Time: 878.3674139976501\n",
            "Shift: 0.08794793069362641\n",
            "Current State: 444    0.077045\n",
            "Name: f, dtype: float64\n"
          ]
        },
        {
          "output_type": "stream",
          "name": "stderr",
          "text": [
            "\r 40%|███▉      | 317/800 [13:52<14:34,  1.81s/it]"
          ]
        },
        {
          "output_type": "stream",
          "name": "stdout",
          "text": [
            "Step: 318 \t Time: 879.9108157157898\n",
            "Shift: 0.08815143210887909\n",
            "Current State: 445    0.080095\n",
            "Name: f, dtype: float64\n"
          ]
        },
        {
          "output_type": "stream",
          "name": "stderr",
          "text": [
            "\r 40%|███▉      | 318/800 [13:54<15:04,  1.88s/it]"
          ]
        },
        {
          "output_type": "stream",
          "name": "stdout",
          "text": [
            "Step: 319 \t Time: 881.9401638507843\n",
            "Shift: 0.08825864233970643\n",
            "Current State: 446    0.075096\n",
            "Name: f, dtype: float64\n"
          ]
        },
        {
          "output_type": "stream",
          "name": "stderr",
          "text": [
            "\r 40%|███▉      | 319/800 [13:55<13:32,  1.69s/it]"
          ]
        },
        {
          "output_type": "stream",
          "name": "stdout",
          "text": [
            "Step: 320 \t Time: 883.1919910907745\n",
            "Shift: 0.08847642114162446\n",
            "Current State: 447    0.123247\n",
            "Name: f, dtype: float64\n"
          ]
        },
        {
          "output_type": "stream",
          "name": "stderr",
          "text": [
            "\r 40%|████      | 320/800 [13:57<14:29,  1.81s/it]"
          ]
        },
        {
          "output_type": "stream",
          "name": "stdout",
          "text": [
            "Step: 321 \t Time: 885.2892158031464\n",
            "Shift: 0.08865427277088166\n",
            "Current State: 448    0.076092\n",
            "Name: f, dtype: float64\n"
          ]
        },
        {
          "output_type": "stream",
          "name": "stderr",
          "text": [
            "\r 40%|████      | 321/800 [13:59<14:10,  1.78s/it]"
          ]
        },
        {
          "output_type": "stream",
          "name": "stdout",
          "text": [
            "Step: 322 \t Time: 886.9801294803619\n",
            "Shift: 0.08876564457416534\n",
            "Current State: 449    0.087234\n",
            "Name: f, dtype: float64\n"
          ]
        },
        {
          "output_type": "stream",
          "name": "stderr",
          "text": [
            "\r 40%|████      | 322/800 [14:00<12:33,  1.58s/it]"
          ]
        },
        {
          "output_type": "stream",
          "name": "stdout",
          "text": [
            "Step: 323 \t Time: 888.0949730873108\n",
            "Shift: 0.08905026671886444\n",
            "Current State: 450    0.077586\n",
            "Name: f, dtype: float64\n"
          ]
        },
        {
          "output_type": "stream",
          "name": "stderr",
          "text": [
            "\r 40%|████      | 323/800 [14:03<15:37,  1.96s/it]"
          ]
        },
        {
          "output_type": "stream",
          "name": "stdout",
          "text": [
            "Step: 324 \t Time: 890.9635694026947\n",
            "Shift: 0.08918728036880494\n",
            "Current State: 451    0.086458\n",
            "Name: f, dtype: float64\n"
          ]
        },
        {
          "output_type": "stream",
          "name": "stderr",
          "text": [
            "\r 40%|████      | 324/800 [14:04<14:04,  1.77s/it]"
          ]
        },
        {
          "output_type": "stream",
          "name": "stdout",
          "text": [
            "Step: 325 \t Time: 892.2901141643524\n",
            "Shift: 0.0893371309041977\n",
            "Current State: 452    0.079589\n",
            "Name: f, dtype: float64\n"
          ]
        },
        {
          "output_type": "stream",
          "name": "stderr",
          "text": [
            "\r 41%|████      | 325/800 [14:06<13:24,  1.69s/it]"
          ]
        },
        {
          "output_type": "stream",
          "name": "stdout",
          "text": [
            "Step: 326 \t Time: 893.7987821102142\n",
            "Shift: 0.08954909346103669\n",
            "Current State: 453    0.067188\n",
            "Name: f, dtype: float64\n"
          ]
        },
        {
          "output_type": "stream",
          "name": "stderr",
          "text": [
            "\r 41%|████      | 326/800 [14:08<14:35,  1.85s/it]"
          ]
        },
        {
          "output_type": "stream",
          "name": "stdout",
          "text": [
            "Step: 327 \t Time: 896.0052452087402\n",
            "Shift: 0.08980359251499176\n",
            "Current State: 454    0.093609\n",
            "Name: f, dtype: float64\n"
          ]
        },
        {
          "output_type": "stream",
          "name": "stderr",
          "text": [
            "\r 41%|████      | 327/800 [14:11<15:59,  2.03s/it]"
          ]
        },
        {
          "output_type": "stream",
          "name": "stdout",
          "text": [
            "Step: 328 \t Time: 898.4537715911865\n",
            "Shift: 0.09000818738937379\n",
            "Current State: 455    0.083334\n",
            "Name: f, dtype: float64\n"
          ]
        },
        {
          "output_type": "stream",
          "name": "stderr",
          "text": [
            "\r 41%|████      | 328/800 [14:13<16:01,  2.04s/it]"
          ]
        },
        {
          "output_type": "stream",
          "name": "stdout",
          "text": [
            "Step: 329 \t Time: 900.5137431621552\n",
            "Shift: 0.0901884241104126\n",
            "Current State: 456    0.096134\n",
            "Name: f, dtype: float64\n"
          ]
        },
        {
          "output_type": "stream",
          "name": "stderr",
          "text": [
            "\r 41%|████      | 329/800 [14:14<15:25,  1.97s/it]"
          ]
        },
        {
          "output_type": "stream",
          "name": "stdout",
          "text": [
            "Step: 330 \t Time: 902.311084985733\n",
            "Shift: 0.0903053216457367\n",
            "Current State: 457    0.87935\n",
            "Name: f, dtype: float64\n"
          ]
        },
        {
          "output_type": "stream",
          "name": "stderr",
          "text": [
            "\r 41%|████▏     | 330/800 [14:16<13:32,  1.73s/it]"
          ]
        },
        {
          "output_type": "stream",
          "name": "stdout",
          "text": [
            "Step: 331 \t Time: 903.4897372722626\n",
            "Shift: 0.09058089656829835\n",
            "Current State: 458    0.079372\n",
            "Name: f, dtype: float64\n"
          ]
        },
        {
          "output_type": "stream",
          "name": "stderr",
          "text": [
            "\r 41%|████▏     | 331/800 [14:18<15:54,  2.04s/it]"
          ]
        },
        {
          "output_type": "stream",
          "name": "stdout",
          "text": [
            "Step: 332 \t Time: 906.2400557994843\n",
            "Shift: 0.0907099193096161\n",
            "Current State: 459    0.146197\n",
            "Name: f, dtype: float64\n"
          ]
        },
        {
          "output_type": "stream",
          "name": "stderr",
          "text": [
            "\r 42%|████▏     | 332/800 [14:20<14:09,  1.82s/it]"
          ]
        },
        {
          "output_type": "stream",
          "name": "stdout",
          "text": [
            "Step: 333 \t Time: 907.543838262558\n",
            "Shift: 0.09122669327259064\n",
            "Current State: 460    0.059826\n",
            "Name: f, dtype: float64\n"
          ]
        },
        {
          "output_type": "stream",
          "name": "stderr",
          "text": [
            "\r 42%|████▏     | 333/800 [14:25<21:58,  2.82s/it]"
          ]
        },
        {
          "output_type": "stream",
          "name": "stdout",
          "text": [
            "Step: 334 \t Time: 912.7197895050049\n",
            "Shift: 0.09133716378211976\n",
            "Current State: 461    0.1867\n",
            "Name: f, dtype: float64\n"
          ]
        },
        {
          "output_type": "stream",
          "name": "stderr",
          "text": [
            "\r 42%|████▏     | 334/800 [14:26<17:53,  2.30s/it]"
          ]
        },
        {
          "output_type": "stream",
          "name": "stdout",
          "text": [
            "Step: 335 \t Time: 913.80646443367\n",
            "Shift: 0.09151733222007752\n",
            "Current State: 462    0.108057\n",
            "Name: f, dtype: float64\n"
          ]
        },
        {
          "output_type": "stream",
          "name": "stderr",
          "text": [
            "\r 42%|████▏     | 335/800 [14:28<16:38,  2.15s/it]"
          ]
        },
        {
          "output_type": "stream",
          "name": "stdout",
          "text": [
            "Step: 336 \t Time: 915.5941207408905\n",
            "Shift: 0.09170932784080506\n",
            "Current State: 463    0.115835\n",
            "Name: f, dtype: float64\n"
          ]
        },
        {
          "output_type": "stream",
          "name": "stderr",
          "text": [
            "\r 42%|████▏     | 336/800 [14:30<16:05,  2.08s/it]"
          ]
        },
        {
          "output_type": "stream",
          "name": "stdout",
          "text": [
            "Step: 337 \t Time: 917.5163695812225\n",
            "Shift: 0.09189070427417756\n",
            "Current State: 464    0.080891\n",
            "Name: f, dtype: float64\n"
          ]
        },
        {
          "output_type": "stream",
          "name": "stderr",
          "text": [
            "\r 42%|████▏     | 337/800 [14:32<15:26,  2.00s/it]"
          ]
        },
        {
          "output_type": "stream",
          "name": "stdout",
          "text": [
            "Step: 338 \t Time: 919.3324074745178\n",
            "Shift: 0.09206658136844635\n",
            "Current State: 465    0.106066\n",
            "Name: f, dtype: float64\n"
          ]
        },
        {
          "output_type": "stream",
          "name": "stderr",
          "text": [
            "\r 42%|████▏     | 338/800 [14:33<15:19,  1.99s/it]"
          ]
        },
        {
          "output_type": "stream",
          "name": "stdout",
          "text": [
            "Step: 339 \t Time: 921.3004658222198\n",
            "Shift: 0.09234627614021301\n",
            "Current State: 466    0.115627\n",
            "Name: f, dtype: float64\n"
          ]
        },
        {
          "output_type": "stream",
          "name": "stderr",
          "text": [
            "\r 42%|████▏     | 339/800 [14:36<16:39,  2.17s/it]"
          ]
        },
        {
          "output_type": "stream",
          "name": "stdout",
          "text": [
            "Step: 340 \t Time: 923.8801748752594\n",
            "Shift: 0.09248062784671784\n",
            "Current State: 467    0.976282\n",
            "Name: f, dtype: float64\n"
          ]
        },
        {
          "output_type": "stream",
          "name": "stderr",
          "text": [
            "\r 42%|████▎     | 340/800 [14:37<14:46,  1.93s/it]"
          ]
        },
        {
          "output_type": "stream",
          "name": "stdout",
          "text": [
            "Step: 341 \t Time: 925.2439262866974\n",
            "Shift: 0.0926840812444687\n",
            "Current State: 468    0.10516\n",
            "Name: f, dtype: float64\n"
          ]
        },
        {
          "output_type": "stream",
          "name": "stderr",
          "text": [
            "\r 43%|████▎     | 341/800 [14:39<15:00,  1.96s/it]"
          ]
        },
        {
          "output_type": "stream",
          "name": "stdout",
          "text": [
            "Step: 342 \t Time: 927.2880730628967\n",
            "Shift: 0.09287874848842621\n",
            "Current State: 469    0.111773\n",
            "Name: f, dtype: float64\n"
          ]
        },
        {
          "output_type": "stream",
          "name": "stderr",
          "text": [
            "\r 43%|████▎     | 342/800 [14:41<14:52,  1.95s/it]"
          ]
        },
        {
          "output_type": "stream",
          "name": "stdout",
          "text": [
            "Step: 343 \t Time: 929.208722114563\n",
            "Shift: 0.09308859097957611\n",
            "Current State: 470    0.13621\n",
            "Name: f, dtype: float64\n"
          ]
        },
        {
          "output_type": "stream",
          "name": "stderr",
          "text": [
            "\r 43%|████▎     | 343/800 [14:43<15:11,  1.99s/it]"
          ]
        },
        {
          "output_type": "stream",
          "name": "stdout",
          "text": [
            "Step: 344 \t Time: 931.3067517280579\n",
            "Shift: 0.093233767080307\n",
            "Current State: 471    1.007682\n",
            "Name: f, dtype: float64\n"
          ]
        },
        {
          "output_type": "stream",
          "name": "stderr",
          "text": [
            "\r 43%|████▎     | 344/800 [14:45<13:54,  1.83s/it]"
          ]
        },
        {
          "output_type": "stream",
          "name": "stdout",
          "text": [
            "Step: 345 \t Time: 932.755649805069\n",
            "Shift: 0.09349803559780122\n",
            "Current State: 472    0.110678\n",
            "Name: f, dtype: float64\n"
          ]
        },
        {
          "output_type": "stream",
          "name": "stderr",
          "text": [
            "\r 43%|████▎     | 345/800 [14:48<16:00,  2.11s/it]"
          ]
        },
        {
          "output_type": "stream",
          "name": "stdout",
          "text": [
            "Step: 346 \t Time: 935.5214920043945\n",
            "Shift: 0.0938473818063736\n",
            "Current State: 473    0.12141\n",
            "Name: f, dtype: float64\n"
          ]
        },
        {
          "output_type": "stream",
          "name": "stderr",
          "text": [
            "\r 43%|████▎     | 346/800 [14:51<18:53,  2.50s/it]"
          ]
        },
        {
          "output_type": "stream",
          "name": "stdout",
          "text": [
            "Step: 347 \t Time: 938.9181401729584\n",
            "Shift: 0.09401090753078462\n",
            "Current State: 474    0.133384\n",
            "Name: f, dtype: float64\n"
          ]
        },
        {
          "output_type": "stream",
          "name": "stderr",
          "text": [
            "\r 43%|████▎     | 347/800 [14:53<16:50,  2.23s/it]"
          ]
        },
        {
          "output_type": "stream",
          "name": "stdout",
          "text": [
            "Step: 348 \t Time: 940.5258593559265\n",
            "Shift: 0.09421735985279084\n",
            "Current State: 475    0.124133\n",
            "Name: f, dtype: float64\n"
          ]
        },
        {
          "output_type": "stream",
          "name": "stderr",
          "text": [
            "\r 44%|████▎     | 348/800 [14:55<16:26,  2.18s/it]"
          ]
        },
        {
          "output_type": "stream",
          "name": "stdout",
          "text": [
            "Step: 349 \t Time: 942.600594997406\n",
            "Shift: 0.09450477731227876\n",
            "Current State: 476    0.155703\n",
            "Name: f, dtype: float64\n"
          ]
        },
        {
          "output_type": "stream",
          "name": "stderr",
          "text": [
            "\r 44%|████▎     | 349/800 [14:58<17:56,  2.39s/it]"
          ]
        },
        {
          "output_type": "stream",
          "name": "stdout",
          "text": [
            "Step: 350 \t Time: 945.4622664451599\n",
            "Shift: 0.0947611519575119\n",
            "Current State: 477    0.103547\n",
            "Name: f, dtype: float64\n"
          ]
        },
        {
          "output_type": "stream",
          "name": "stderr",
          "text": [
            "\r 44%|████▍     | 350/800 [15:00<18:34,  2.48s/it]"
          ]
        },
        {
          "output_type": "stream",
          "name": "stdout",
          "text": [
            "Step: 351 \t Time: 948.1471762657166\n",
            "Shift: 0.0950072704076767\n",
            "Current State: 478    0.15154\n",
            "Name: f, dtype: float64\n"
          ]
        },
        {
          "output_type": "stream",
          "name": "stderr",
          "text": [
            "\r 44%|████▍     | 351/800 [15:03<18:14,  2.44s/it]"
          ]
        },
        {
          "output_type": "stream",
          "name": "stdout",
          "text": [
            "Step: 352 \t Time: 950.4924960136414\n",
            "Shift: 0.09518981170654298\n",
            "Current State: 479    0.102514\n",
            "Name: f, dtype: float64\n"
          ]
        },
        {
          "output_type": "stream",
          "name": "stderr",
          "text": [
            "\r 44%|████▍     | 352/800 [15:05<16:49,  2.25s/it]"
          ]
        },
        {
          "output_type": "stream",
          "name": "stdout",
          "text": [
            "Step: 353 \t Time: 952.3187263011932\n",
            "Shift: 0.09531093754768372\n",
            "Current State: 480    0.11477\n",
            "Name: f, dtype: float64\n"
          ]
        },
        {
          "output_type": "stream",
          "name": "stderr",
          "text": [
            "\r 44%|████▍     | 353/800 [15:06<14:31,  1.95s/it]"
          ]
        },
        {
          "output_type": "stream",
          "name": "stdout",
          "text": [
            "Step: 354 \t Time: 953.5567922592163\n",
            "Shift: 0.09545807468891145\n",
            "Current State: 481    0.097516\n",
            "Name: f, dtype: float64\n"
          ]
        },
        {
          "output_type": "stream",
          "name": "stderr",
          "text": [
            "\r 44%|████▍     | 354/800 [15:07<13:21,  1.80s/it]"
          ]
        },
        {
          "output_type": "stream",
          "name": "stdout",
          "text": [
            "Step: 355 \t Time: 954.9970426559448\n",
            "Shift: 0.09565301222801209\n",
            "Current State: 482    0.084065\n",
            "Name: f, dtype: float64\n"
          ]
        },
        {
          "output_type": "stream",
          "name": "stderr",
          "text": [
            "\r 44%|████▍     | 355/800 [15:09<13:39,  1.84s/it]"
          ]
        },
        {
          "output_type": "stream",
          "name": "stdout",
          "text": [
            "Step: 356 \t Time: 956.94682264328\n",
            "Shift: 0.09585684070587158\n",
            "Current State: 483    0.063102\n",
            "Name: f, dtype: float64\n"
          ]
        },
        {
          "output_type": "stream",
          "name": "stderr",
          "text": [
            "\r 44%|████▍     | 356/800 [15:11<14:29,  1.96s/it]"
          ]
        },
        {
          "output_type": "stream",
          "name": "stdout",
          "text": [
            "Step: 357 \t Time: 959.174706697464\n",
            "Shift: 0.09613696236610413\n",
            "Current State: 484    0.06162\n",
            "Name: f, dtype: float64\n"
          ]
        },
        {
          "output_type": "stream",
          "name": "stderr",
          "text": [
            "\r 45%|████▍     | 357/800 [15:14<15:56,  2.16s/it]"
          ]
        },
        {
          "output_type": "stream",
          "name": "stdout",
          "text": [
            "Step: 358 \t Time: 961.8023319244385\n",
            "Shift: 0.09625434637069702\n",
            "Current State: 485    1.215976\n",
            "Name: f, dtype: float64\n"
          ]
        },
        {
          "output_type": "stream",
          "name": "stderr",
          "text": [
            "\r 45%|████▍     | 358/800 [15:15<13:44,  1.86s/it]"
          ]
        },
        {
          "output_type": "stream",
          "name": "stdout",
          "text": [
            "Step: 359 \t Time: 962.9789290428162\n",
            "Shift: 0.09643251383304596\n",
            "Current State: 486    0.056076\n",
            "Name: f, dtype: float64\n"
          ]
        },
        {
          "output_type": "stream",
          "name": "stderr",
          "text": [
            "\r 45%|████▍     | 359/800 [15:17<13:31,  1.84s/it]"
          ]
        },
        {
          "output_type": "stream",
          "name": "stdout",
          "text": [
            "Step: 360 \t Time: 964.7593967914581\n",
            "Shift: 0.09658665299415589\n",
            "Current State: 487    0.066781\n",
            "Name: f, dtype: float64\n"
          ]
        },
        {
          "output_type": "stream",
          "name": "stderr",
          "text": [
            "\r 45%|████▌     | 360/800 [15:18<12:47,  1.74s/it]"
          ]
        },
        {
          "output_type": "stream",
          "name": "stdout",
          "text": [
            "Step: 361 \t Time: 966.2821333408356\n",
            "Shift: 0.09671410501003266\n",
            "Current State: 488    0.06264\n",
            "Name: f, dtype: float64\n"
          ]
        },
        {
          "output_type": "stream",
          "name": "stderr",
          "text": [
            "\r 45%|████▌     | 361/800 [15:20<11:43,  1.60s/it]"
          ]
        },
        {
          "output_type": "stream",
          "name": "stdout",
          "text": [
            "Step: 362 \t Time: 967.5547800064087\n",
            "Shift: 0.0970018905878067\n",
            "Current State: 489    0.072181\n",
            "Name: f, dtype: float64\n"
          ]
        },
        {
          "output_type": "stream",
          "name": "stderr",
          "text": [
            "\r 45%|████▌     | 362/800 [15:23<14:29,  1.98s/it]"
          ]
        },
        {
          "output_type": "stream",
          "name": "stdout",
          "text": [
            "Step: 363 \t Time: 970.4317243099213\n",
            "Shift: 0.09721424353122711\n",
            "Current State: 490    0.100192\n",
            "Name: f, dtype: float64\n"
          ]
        },
        {
          "output_type": "stream",
          "name": "stderr",
          "text": [
            "\r 45%|████▌     | 363/800 [15:25<15:07,  2.08s/it]"
          ]
        },
        {
          "output_type": "stream",
          "name": "stdout",
          "text": [
            "Step: 364 \t Time: 972.7255742549896\n",
            "Shift: 0.09748932719230652\n",
            "Current State: 491    0.0903\n",
            "Name: f, dtype: float64\n"
          ]
        },
        {
          "output_type": "stream",
          "name": "stderr",
          "text": [
            "\r 46%|████▌     | 364/800 [15:28<16:13,  2.23s/it]"
          ]
        },
        {
          "output_type": "stream",
          "name": "stdout",
          "text": [
            "Step: 365 \t Time: 975.3217206001282\n",
            "Shift: 0.09765700135231019\n",
            "Current State: 492    0.080686\n",
            "Name: f, dtype: float64\n"
          ]
        },
        {
          "output_type": "stream",
          "name": "stderr",
          "text": [
            "\r 46%|████▌     | 365/800 [15:29<14:57,  2.06s/it]"
          ]
        },
        {
          "output_type": "stream",
          "name": "stdout",
          "text": [
            "Step: 366 \t Time: 976.9896640777588\n",
            "Shift: 0.09779875099658966\n",
            "Current State: 493    1.149546\n",
            "Name: f, dtype: float64\n"
          ]
        },
        {
          "output_type": "stream",
          "name": "stderr",
          "text": [
            "\r 46%|████▌     | 366/800 [15:31<13:33,  1.87s/it]"
          ]
        },
        {
          "output_type": "stream",
          "name": "stdout",
          "text": [
            "Step: 367 \t Time: 978.4189310073853\n",
            "Shift: 0.09799131908416749\n",
            "Current State: 494    0.170966\n",
            "Name: f, dtype: float64\n"
          ]
        },
        {
          "output_type": "stream",
          "name": "stderr",
          "text": [
            "\r 46%|████▌     | 367/800 [15:33<13:37,  1.89s/it]"
          ]
        },
        {
          "output_type": "stream",
          "name": "stdout",
          "text": [
            "Step: 368 \t Time: 980.3443105220795\n",
            "Shift: 0.09819854216575623\n",
            "Current State: 495    0.37481\n",
            "Name: f, dtype: float64\n"
          ]
        },
        {
          "output_type": "stream",
          "name": "stderr",
          "text": [
            "\r 46%|████▌     | 368/800 [15:35<14:00,  1.95s/it]"
          ]
        },
        {
          "output_type": "stream",
          "name": "stdout",
          "text": [
            "Step: 369 \t Time: 982.4243540763855\n",
            "Shift: 0.09833797779083252\n",
            "Current State: 496    0.157444\n",
            "Name: f, dtype: float64\n"
          ]
        },
        {
          "output_type": "stream",
          "name": "stderr",
          "text": [
            "\r 46%|████▌     | 369/800 [15:36<13:09,  1.83s/it]"
          ]
        },
        {
          "output_type": "stream",
          "name": "stdout",
          "text": [
            "Step: 370 \t Time: 983.9868030548096\n",
            "Shift: 0.09852307651042938\n",
            "Current State: 497    1.260238\n",
            "Name: f, dtype: float64\n"
          ]
        },
        {
          "output_type": "stream",
          "name": "stderr",
          "text": [
            "\r 46%|████▋     | 370/800 [15:38<13:08,  1.83s/it]"
          ]
        },
        {
          "output_type": "stream",
          "name": "stdout",
          "text": [
            "Step: 371 \t Time: 985.8265900611877\n",
            "Shift: 0.09865728917121888\n",
            "Current State: 498    0.188413\n",
            "Name: f, dtype: float64\n"
          ]
        },
        {
          "output_type": "stream",
          "name": "stderr",
          "text": [
            "\r 46%|████▋     | 371/800 [15:39<11:40,  1.63s/it]"
          ]
        },
        {
          "output_type": "stream",
          "name": "stdout",
          "text": [
            "Step: 372 \t Time: 986.9944891929626\n",
            "Shift: 0.09879188673496246\n",
            "Current State: 499    0.193391\n",
            "Name: f, dtype: float64\n"
          ]
        },
        {
          "output_type": "stream",
          "name": "stderr",
          "text": [
            "\r 46%|████▋     | 372/800 [15:41<11:01,  1.55s/it]"
          ]
        },
        {
          "output_type": "stream",
          "name": "stdout",
          "text": [
            "Step: 373 \t Time: 988.3366549015045\n",
            "Shift: 0.09914879019260407\n",
            "Current State: 500    0.189903\n",
            "Name: f, dtype: float64\n"
          ]
        },
        {
          "output_type": "stream",
          "name": "stderr",
          "text": [
            "\r 47%|████▋     | 373/800 [15:44<15:21,  2.16s/it]"
          ]
        },
        {
          "output_type": "stream",
          "name": "stdout",
          "text": [
            "Step: 374 \t Time: 991.9253606796265\n",
            "Shift: 0.09952765786647796\n",
            "Current State: 501    0.184261\n",
            "Name: f, dtype: float64\n"
          ]
        },
        {
          "output_type": "stream",
          "name": "stderr",
          "text": [
            "\r 47%|████▋     | 374/800 [15:48<18:46,  2.64s/it]"
          ]
        },
        {
          "output_type": "stream",
          "name": "stdout",
          "text": [
            "Step: 375 \t Time: 995.7033100128174\n",
            "Shift: 0.09966547825336457\n",
            "Current State: 502    0.122376\n",
            "Name: f, dtype: float64\n"
          ]
        },
        {
          "output_type": "stream",
          "name": "stderr",
          "text": [
            "\r 47%|████▋     | 375/800 [15:49<16:21,  2.31s/it]"
          ]
        },
        {
          "output_type": "stream",
          "name": "stdout",
          "text": [
            "Step: 376 \t Time: 997.2339861392975\n",
            "Shift: 0.09984876098632813\n",
            "Current State: 503    1.03705\n",
            "Name: f, dtype: float64\n"
          ]
        },
        {
          "output_type": "stream",
          "name": "stderr",
          "text": [
            "\r 47%|████▋     | 376/800 [15:51<15:04,  2.13s/it]"
          ]
        },
        {
          "output_type": "stream",
          "name": "stdout",
          "text": [
            "Step: 377 \t Time: 998.9554162025452\n",
            "Shift: 0.09997256176471711\n",
            "Current State: 504    0.80048\n",
            "Name: f, dtype: float64\n"
          ]
        },
        {
          "output_type": "stream",
          "name": "stderr",
          "text": [
            "\r 47%|████▋     | 377/800 [15:52<13:04,  1.86s/it]"
          ]
        },
        {
          "output_type": "stream",
          "name": "stdout",
          "text": [
            "Step: 378 \t Time: 1000.1604955196381\n",
            "Shift: 0.10011651532649994\n",
            "Current State: 505    0.084925\n",
            "Name: f, dtype: float64\n"
          ]
        },
        {
          "output_type": "stream",
          "name": "stderr",
          "text": [
            "\r 47%|████▋     | 378/800 [15:54<12:09,  1.73s/it]"
          ]
        },
        {
          "output_type": "stream",
          "name": "stdout",
          "text": [
            "Step: 379 \t Time: 1001.5911836624146\n",
            "Shift: 0.10022973668575287\n",
            "Current State: 506    0.012671\n",
            "Name: f, dtype: float64\n"
          ]
        },
        {
          "output_type": "stream",
          "name": "stderr",
          "text": [
            "\r 47%|████▋     | 379/800 [15:55<10:52,  1.55s/it]"
          ]
        },
        {
          "output_type": "stream",
          "name": "stdout",
          "text": [
            "Step: 380 \t Time: 1002.728595495224\n",
            "Shift: 0.10032781989574432\n",
            "Current State: 507    0.133232\n",
            "Name: f, dtype: float64\n"
          ]
        },
        {
          "output_type": "stream",
          "name": "stderr",
          "text": [
            "\r 48%|████▊     | 380/800 [15:56<09:40,  1.38s/it]"
          ]
        },
        {
          "output_type": "stream",
          "name": "stdout",
          "text": [
            "Step: 381 \t Time: 1003.7142179012299\n",
            "Shift: 0.10049400832653047\n",
            "Current State: 508    0.736569\n",
            "Name: f, dtype: float64\n"
          ]
        },
        {
          "output_type": "stream",
          "name": "stderr",
          "text": [
            "\r 48%|████▊     | 381/800 [15:58<10:12,  1.46s/it]"
          ]
        },
        {
          "output_type": "stream",
          "name": "stdout",
          "text": [
            "Step: 382 \t Time: 1005.3643653392792\n",
            "Shift: 0.10070687005519867\n",
            "Current State: 509    0.021895\n",
            "Name: f, dtype: float64\n"
          ]
        },
        {
          "output_type": "stream",
          "name": "stderr",
          "text": [
            "\r 48%|████▊     | 382/800 [16:00<11:37,  1.67s/it]"
          ]
        },
        {
          "output_type": "stream",
          "name": "stdout",
          "text": [
            "Step: 383 \t Time: 1007.513509273529\n",
            "Shift: 0.10082748157978058\n",
            "Current State: 510    4.318132\n",
            "Name: f, dtype: float64\n"
          ]
        },
        {
          "output_type": "stream",
          "name": "stderr",
          "text": [
            "\r 48%|████▊     | 383/800 [16:01<10:37,  1.53s/it]"
          ]
        },
        {
          "output_type": "stream",
          "name": "stdout",
          "text": [
            "Step: 384 \t Time: 1008.7156736850739\n",
            "Shift: 0.10105794422626496\n",
            "Current State: 511    0.040992\n",
            "Name: f, dtype: float64\n"
          ]
        },
        {
          "output_type": "stream",
          "name": "stderr",
          "text": [
            "\r 48%|████▊     | 384/800 [16:03<12:22,  1.79s/it]"
          ]
        },
        {
          "output_type": "stream",
          "name": "stdout",
          "text": [
            "Step: 385 \t Time: 1011.1032783985138\n",
            "Shift: 0.1011893764257431\n",
            "Current State: 512    0.034417\n",
            "Name: f, dtype: float64\n"
          ]
        },
        {
          "output_type": "stream",
          "name": "stderr",
          "text": [
            "\r 48%|████▊     | 385/800 [16:04<11:09,  1.61s/it]"
          ]
        },
        {
          "output_type": "stream",
          "name": "stdout",
          "text": [
            "Step: 386 \t Time: 1012.3102834224701\n",
            "Shift: 0.10131310946941376\n",
            "Current State: 513    0.065919\n",
            "Name: f, dtype: float64\n"
          ]
        },
        {
          "output_type": "stream",
          "name": "stderr",
          "text": [
            "\r 48%|████▊     | 386/800 [16:06<10:21,  1.50s/it]"
          ]
        },
        {
          "output_type": "stream",
          "name": "stdout",
          "text": [
            "Step: 387 \t Time: 1013.5547850131989\n",
            "Shift: 0.10147096405029297\n",
            "Current State: 514    0.770181\n",
            "Name: f, dtype: float64\n"
          ]
        },
        {
          "output_type": "stream",
          "name": "stderr",
          "text": [
            "\r 48%|████▊     | 387/800 [16:07<10:29,  1.52s/it]"
          ]
        },
        {
          "output_type": "stream",
          "name": "stdout",
          "text": [
            "Step: 388 \t Time: 1015.1307139396667\n",
            "Shift: 0.10163085741996766\n",
            "Current State: 515    0.008787\n",
            "Name: f, dtype: float64\n"
          ]
        },
        {
          "output_type": "stream",
          "name": "stderr",
          "text": [
            "\r 48%|████▊     | 388/800 [16:09<10:38,  1.55s/it]"
          ]
        },
        {
          "output_type": "stream",
          "name": "stdout",
          "text": [
            "Step: 389 \t Time: 1016.7372725009918\n",
            "Shift: 0.10176038422584534\n",
            "Current State: 516    0.100153\n",
            "Name: f, dtype: float64\n"
          ]
        },
        {
          "output_type": "stream",
          "name": "stderr",
          "text": [
            "\r 49%|████▊     | 389/800 [16:10<10:05,  1.47s/it]"
          ]
        },
        {
          "output_type": "stream",
          "name": "stdout",
          "text": [
            "Step: 390 \t Time: 1018.0311236381531\n",
            "Shift: 0.1020021835565567\n",
            "Current State: 517    0.011518\n",
            "Name: f, dtype: float64\n"
          ]
        },
        {
          "output_type": "stream",
          "name": "stderr",
          "text": [
            "\r 49%|████▉     | 390/800 [16:13<11:58,  1.75s/it]"
          ]
        },
        {
          "output_type": "stream",
          "name": "stdout",
          "text": [
            "Step: 391 \t Time: 1020.4403533935547\n",
            "Shift: 0.1021372107744217\n",
            "Current State: 518    0.041793\n",
            "Name: f, dtype: float64\n"
          ]
        },
        {
          "output_type": "stream",
          "name": "stderr",
          "text": [
            "\r 49%|████▉     | 391/800 [16:14<11:30,  1.69s/it]"
          ]
        },
        {
          "output_type": "stream",
          "name": "stdout",
          "text": [
            "Step: 392 \t Time: 1021.9734716415405\n",
            "Shift: 0.10234389505386353\n",
            "Current State: 519    0.712034\n",
            "Name: f, dtype: float64\n"
          ]
        },
        {
          "output_type": "stream",
          "name": "stderr",
          "text": [
            "\r 49%|████▉     | 392/800 [16:16<12:20,  1.82s/it]"
          ]
        },
        {
          "output_type": "stream",
          "name": "stdout",
          "text": [
            "Step: 393 \t Time: 1024.0897853374481\n",
            "Shift: 0.10250671005249024\n",
            "Current State: 520    0.048248\n",
            "Name: f, dtype: float64\n"
          ]
        },
        {
          "output_type": "stream",
          "name": "stderr",
          "text": [
            "\r 49%|████▉     | 393/800 [16:18<11:28,  1.69s/it]"
          ]
        },
        {
          "output_type": "stream",
          "name": "stdout",
          "text": [
            "Step: 394 \t Time: 1025.4886546134949\n",
            "Shift: 0.10283973646163941\n",
            "Current State: 521    0.069012\n",
            "Name: f, dtype: float64\n"
          ]
        },
        {
          "output_type": "stream",
          "name": "stderr",
          "text": [
            "\r 49%|████▉     | 394/800 [16:21<14:46,  2.18s/it]"
          ]
        },
        {
          "output_type": "stream",
          "name": "stdout",
          "text": [
            "Step: 395 \t Time: 1028.8236298561096\n",
            "Shift: 0.10305240399837494\n",
            "Current State: 522    0.066735\n",
            "Name: f, dtype: float64\n"
          ]
        },
        {
          "output_type": "stream",
          "name": "stderr",
          "text": [
            "\r 49%|████▉     | 395/800 [16:23<14:36,  2.16s/it]"
          ]
        },
        {
          "output_type": "stream",
          "name": "stdout",
          "text": [
            "Step: 396 \t Time: 1030.9423637390137\n",
            "Shift: 0.10327625932693482\n",
            "Current State: 523    0.094568\n",
            "Name: f, dtype: float64\n"
          ]
        },
        {
          "output_type": "stream",
          "name": "stderr",
          "text": [
            "\r 50%|████▉     | 396/800 [16:25<14:45,  2.19s/it]"
          ]
        },
        {
          "output_type": "stream",
          "name": "stdout",
          "text": [
            "Step: 397 \t Time: 1033.1998958587646\n",
            "Shift: 0.10350830247402192\n",
            "Current State: 524    0.108306\n",
            "Name: f, dtype: float64\n"
          ]
        },
        {
          "output_type": "stream",
          "name": "stderr",
          "text": [
            "\r 50%|████▉     | 397/800 [16:28<15:18,  2.28s/it]"
          ]
        },
        {
          "output_type": "stream",
          "name": "stdout",
          "text": [
            "Step: 398 \t Time: 1035.6833810806274\n",
            "Shift: 0.10374702348709107\n",
            "Current State: 525    0.10588\n",
            "Name: f, dtype: float64\n"
          ]
        },
        {
          "output_type": "stream",
          "name": "stderr",
          "text": [
            "\r 50%|████▉     | 398/800 [16:30<15:06,  2.26s/it]"
          ]
        },
        {
          "output_type": "stream",
          "name": "stdout",
          "text": [
            "Step: 399 \t Time: 1037.8839700222015\n",
            "Shift: 0.10390948510169984\n",
            "Current State: 526    0.939582\n",
            "Name: f, dtype: float64\n"
          ]
        },
        {
          "output_type": "stream",
          "name": "stderr",
          "text": [
            "\r 50%|████▉     | 399/800 [16:32<13:50,  2.07s/it]"
          ]
        },
        {
          "output_type": "stream",
          "name": "stdout",
          "text": [
            "Step: 400 \t Time: 1039.5240895748138\n",
            "Shift: 0.10402964470386505\n",
            "Current State: 527    0.119041\n",
            "Name: f, dtype: float64\n"
          ]
        },
        {
          "output_type": "stream",
          "name": "stderr",
          "text": [
            "\r 50%|█████     | 400/800 [16:33<12:03,  1.81s/it]"
          ]
        },
        {
          "output_type": "stream",
          "name": "stdout",
          "text": [
            "Step: 401 \t Time: 1040.7234110832214\n",
            "Shift: 0.10422433030605317\n",
            "Current State: 528    0.140549\n",
            "Name: f, dtype: float64\n"
          ]
        },
        {
          "output_type": "stream",
          "name": "stderr",
          "text": [
            "\r 50%|█████     | 401/800 [16:35<12:20,  1.86s/it]"
          ]
        },
        {
          "output_type": "stream",
          "name": "stdout",
          "text": [
            "Step: 402 \t Time: 1042.6856155395508\n",
            "Shift: 0.10448286230564117\n",
            "Current State: 529    0.114245\n",
            "Name: f, dtype: float64\n"
          ]
        },
        {
          "output_type": "stream",
          "name": "stderr",
          "text": [
            "\r 50%|█████     | 402/800 [16:37<13:42,  2.07s/it]"
          ]
        },
        {
          "output_type": "stream",
          "name": "stdout",
          "text": [
            "Step: 403 \t Time: 1045.240648984909\n",
            "Shift: 0.10474400219917297\n",
            "Current State: 530    0.168341\n",
            "Name: f, dtype: float64\n"
          ]
        },
        {
          "output_type": "stream",
          "name": "stderr",
          "text": [
            "\r 50%|█████     | 403/800 [16:40<14:59,  2.26s/it]"
          ]
        },
        {
          "output_type": "stream",
          "name": "stdout",
          "text": [
            "Step: 404 \t Time: 1047.9721984863281\n",
            "Shift: 0.10486271803379059\n",
            "Current State: 531    18.739935\n",
            "Name: f, dtype: float64\n"
          ]
        },
        {
          "output_type": "stream",
          "name": "stderr",
          "text": [
            "\r 50%|█████     | 404/800 [16:41<12:58,  1.97s/it]"
          ]
        },
        {
          "output_type": "stream",
          "name": "stdout",
          "text": [
            "Step: 405 \t Time: 1049.2416410446167\n",
            "Shift: 0.1050827071428299\n",
            "Current State: 532    0.181624\n",
            "Name: f, dtype: float64\n"
          ]
        },
        {
          "output_type": "stream",
          "name": "stderr",
          "text": [
            "\r 51%|█████     | 405/800 [16:43<13:02,  1.98s/it]"
          ]
        },
        {
          "output_type": "stream",
          "name": "stdout",
          "text": [
            "Step: 406 \t Time: 1051.2520937919617\n",
            "Shift: 0.10526694197654725\n",
            "Current State: 533    0.126871\n",
            "Name: f, dtype: float64\n"
          ]
        },
        {
          "output_type": "stream",
          "name": "stderr",
          "text": [
            "\r 51%|█████     | 406/800 [16:45<12:45,  1.94s/it]"
          ]
        },
        {
          "output_type": "stream",
          "name": "stdout",
          "text": [
            "Step: 407 \t Time: 1053.1076719760895\n",
            "Shift: 0.10561387608051301\n",
            "Current State: 534    0.088165\n",
            "Name: f, dtype: float64\n"
          ]
        },
        {
          "output_type": "stream",
          "name": "stderr",
          "text": [
            "\r 51%|█████     | 407/800 [16:49<15:41,  2.40s/it]"
          ]
        },
        {
          "output_type": "stream",
          "name": "stdout",
          "text": [
            "Step: 408 \t Time: 1056.5612525939941\n",
            "Shift: 0.1057600068807602\n",
            "Current State: 535    0.335101\n",
            "Name: f, dtype: float64\n"
          ]
        },
        {
          "output_type": "stream",
          "name": "stderr",
          "text": [
            "\r 51%|█████     | 408/800 [16:50<13:49,  2.12s/it]"
          ]
        },
        {
          "output_type": "stream",
          "name": "stdout",
          "text": [
            "Step: 409 \t Time: 1058.023715019226\n",
            "Shift: 0.10590620019435883\n",
            "Current State: 536    0.076208\n",
            "Name: f, dtype: float64\n"
          ]
        },
        {
          "output_type": "stream",
          "name": "stderr",
          "text": [
            "\r 51%|█████     | 409/800 [16:52<12:31,  1.92s/it]"
          ]
        },
        {
          "output_type": "stream",
          "name": "stdout",
          "text": [
            "Step: 410 \t Time: 1059.490927696228\n",
            "Shift: 0.10609849572181702\n",
            "Current State: 537    0.130132\n",
            "Name: f, dtype: float64\n"
          ]
        },
        {
          "output_type": "stream",
          "name": "stderr",
          "text": [
            "\r 51%|█████▏    | 410/800 [16:54<12:50,  1.98s/it]"
          ]
        },
        {
          "output_type": "stream",
          "name": "stdout",
          "text": [
            "Step: 411 \t Time: 1061.5974876880646\n",
            "Shift: 0.10623529047966004\n",
            "Current State: 538    0.781278\n",
            "Name: f, dtype: float64\n"
          ]
        },
        {
          "output_type": "stream",
          "name": "stderr",
          "text": [
            "\r 51%|█████▏    | 411/800 [16:55<11:17,  1.74s/it]"
          ]
        },
        {
          "output_type": "stream",
          "name": "stdout",
          "text": [
            "Step: 412 \t Time: 1062.7870020866394\n",
            "Shift: 0.10636764869689942\n",
            "Current State: 539    0.698735\n",
            "Name: f, dtype: float64\n"
          ]
        },
        {
          "output_type": "stream",
          "name": "stderr",
          "text": [
            "\r 52%|█████▏    | 412/800 [16:56<10:25,  1.61s/it]"
          ]
        },
        {
          "output_type": "stream",
          "name": "stdout",
          "text": [
            "Step: 413 \t Time: 1064.0985963344574\n",
            "Shift: 0.1065130182504654\n",
            "Current State: 540    0.104043\n",
            "Name: f, dtype: float64\n"
          ]
        },
        {
          "output_type": "stream",
          "name": "stderr",
          "text": [
            "\r 52%|█████▏    | 413/800 [16:58<10:07,  1.57s/it]"
          ]
        },
        {
          "output_type": "stream",
          "name": "stdout",
          "text": [
            "Step: 414 \t Time: 1065.5683999061584\n",
            "Shift: 0.10668937211036683\n",
            "Current State: 541    0.105026\n",
            "Name: f, dtype: float64\n"
          ]
        },
        {
          "output_type": "stream",
          "name": "stderr",
          "text": [
            "\r 52%|█████▏    | 414/800 [16:59<10:26,  1.62s/it]"
          ]
        },
        {
          "output_type": "stream",
          "name": "stdout",
          "text": [
            "Step: 415 \t Time: 1067.314344882965\n",
            "Shift: 0.10680870273113251\n",
            "Current State: 542    0.074476\n",
            "Name: f, dtype: float64\n"
          ]
        },
        {
          "output_type": "stream",
          "name": "stderr",
          "text": [
            "\r 52%|█████▏    | 415/800 [17:01<09:35,  1.49s/it]"
          ]
        },
        {
          "output_type": "stream",
          "name": "stdout",
          "text": [
            "Step: 416 \t Time: 1068.5072946548462\n",
            "Shift: 0.10690406410694123\n",
            "Current State: 543    4.685063\n",
            "Name: f, dtype: float64\n"
          ]
        },
        {
          "output_type": "stream",
          "name": "stderr",
          "text": [
            "\r 52%|█████▏    | 416/800 [17:02<08:30,  1.33s/it]"
          ]
        },
        {
          "output_type": "stream",
          "name": "stdout",
          "text": [
            "Step: 417 \t Time: 1069.4565110206604\n",
            "Shift: 0.10716663930416108\n",
            "Current State: 544    0.050452\n",
            "Name: f, dtype: float64\n"
          ]
        },
        {
          "output_type": "stream",
          "name": "stderr",
          "text": [
            "\r 52%|█████▏    | 417/800 [17:04<10:58,  1.72s/it]"
          ]
        },
        {
          "output_type": "stream",
          "name": "stdout",
          "text": [
            "Step: 418 \t Time: 1072.0842306613922\n",
            "Shift: 0.10731736364364625\n",
            "Current State: 545    0.65657\n",
            "Name: f, dtype: float64\n"
          ]
        },
        {
          "output_type": "stream",
          "name": "stderr",
          "text": [
            "\r 52%|█████▏    | 418/800 [17:06<10:52,  1.71s/it]"
          ]
        },
        {
          "output_type": "stream",
          "name": "stdout",
          "text": [
            "Step: 419 \t Time: 1073.7648615837097\n",
            "Shift: 0.10746632695198059\n",
            "Current State: 546    0.042714\n",
            "Name: f, dtype: float64\n"
          ]
        },
        {
          "output_type": "stream",
          "name": "stderr",
          "text": [
            "\r 52%|█████▏    | 419/800 [17:07<10:06,  1.59s/it]"
          ]
        },
        {
          "output_type": "stream",
          "name": "stdout",
          "text": [
            "Step: 420 \t Time: 1075.0897760391235\n",
            "Shift: 0.10761998369693757\n",
            "Current State: 547    0.057783\n",
            "Name: f, dtype: float64\n"
          ]
        },
        {
          "output_type": "stream",
          "name": "stderr",
          "text": [
            "\r 52%|█████▎    | 420/800 [17:09<09:58,  1.57s/it]"
          ]
        },
        {
          "output_type": "stream",
          "name": "stdout",
          "text": [
            "Step: 421 \t Time: 1076.6194260120392\n",
            "Shift: 0.1077406909942627\n",
            "Current State: 548    0.536771\n",
            "Name: f, dtype: float64\n"
          ]
        },
        {
          "output_type": "stream",
          "name": "stderr",
          "text": [
            "\r 53%|█████▎    | 421/800 [17:10<09:15,  1.46s/it]"
          ]
        },
        {
          "output_type": "stream",
          "name": "stdout",
          "text": [
            "Step: 422 \t Time: 1077.8289709091187\n",
            "Shift: 0.10804493958950043\n",
            "Current State: 549    0.064802\n",
            "Name: f, dtype: float64\n"
          ]
        },
        {
          "output_type": "stream",
          "name": "stderr",
          "text": [
            "\r 53%|█████▎    | 422/800 [17:13<12:12,  1.94s/it]"
          ]
        },
        {
          "output_type": "stream",
          "name": "stdout",
          "text": [
            "Step: 423 \t Time: 1080.8682889938354\n",
            "Shift: 0.1081958996295929\n",
            "Current State: 550    0.053666\n",
            "Name: f, dtype: float64\n"
          ]
        },
        {
          "output_type": "stream",
          "name": "stderr",
          "text": [
            "\r 53%|█████▎    | 423/800 [17:15<11:22,  1.81s/it]"
          ]
        },
        {
          "output_type": "stream",
          "name": "stdout",
          "text": [
            "Step: 424 \t Time: 1082.3807094097137\n",
            "Shift: 0.10837827215194702\n",
            "Current State: 551    0.517034\n",
            "Name: f, dtype: float64\n"
          ]
        },
        {
          "output_type": "stream",
          "name": "stderr",
          "text": [
            "\r 53%|█████▎    | 424/800 [17:16<11:23,  1.82s/it]"
          ]
        },
        {
          "output_type": "stream",
          "name": "stdout",
          "text": [
            "Step: 425 \t Time: 1084.213548898697\n",
            "Shift: 0.10850665919780732\n",
            "Current State: 552    0.554076\n",
            "Name: f, dtype: float64\n"
          ]
        },
        {
          "output_type": "stream",
          "name": "stderr",
          "text": [
            "\r 53%|█████▎    | 425/800 [17:18<10:37,  1.70s/it]"
          ]
        },
        {
          "output_type": "stream",
          "name": "stdout",
          "text": [
            "Step: 426 \t Time: 1085.6427536010742\n",
            "Shift: 0.10872622935771943\n",
            "Current State: 553    0.051591\n",
            "Name: f, dtype: float64\n"
          ]
        },
        {
          "output_type": "stream",
          "name": "stderr",
          "text": [
            "\r 53%|█████▎    | 426/800 [17:20<11:14,  1.80s/it]"
          ]
        },
        {
          "output_type": "stream",
          "name": "stdout",
          "text": [
            "Step: 427 \t Time: 1087.6852657794952\n",
            "Shift: 0.1088697599887848\n",
            "Current State: 554    0.063537\n",
            "Name: f, dtype: float64\n"
          ]
        },
        {
          "output_type": "stream",
          "name": "stderr",
          "text": [
            "\r 53%|█████▎    | 427/800 [17:21<10:30,  1.69s/it]"
          ]
        },
        {
          "output_type": "stream",
          "name": "stdout",
          "text": [
            "Step: 428 \t Time: 1089.1090619564056\n",
            "Shift: 0.10903779792785645\n",
            "Current State: 555    0.066837\n",
            "Name: f, dtype: float64\n"
          ]
        },
        {
          "output_type": "stream",
          "name": "stderr",
          "text": [
            "\r 54%|█████▎    | 428/800 [17:23<10:28,  1.69s/it]"
          ]
        },
        {
          "output_type": "stream",
          "name": "stdout",
          "text": [
            "Step: 429 \t Time: 1090.7994918823242\n",
            "Shift: 0.10913722360134125\n",
            "Current State: 556    0.503817\n",
            "Name: f, dtype: float64\n"
          ]
        },
        {
          "output_type": "stream",
          "name": "stderr",
          "text": [
            "\r 54%|█████▎    | 429/800 [17:24<09:09,  1.48s/it]"
          ]
        },
        {
          "output_type": "stream",
          "name": "stdout",
          "text": [
            "Step: 430 \t Time: 1091.7936100959778\n",
            "Shift: 0.10931903557777406\n",
            "Current State: 557    0.059263\n",
            "Name: f, dtype: float64\n"
          ]
        },
        {
          "output_type": "stream",
          "name": "stderr",
          "text": [
            "\r 54%|█████▍    | 430/800 [17:26<09:47,  1.59s/it]"
          ]
        },
        {
          "output_type": "stream",
          "name": "stdout",
          "text": [
            "Step: 431 \t Time: 1093.6294858455658\n",
            "Shift: 0.10943407700061798\n",
            "Current State: 558    0.072713\n",
            "Name: f, dtype: float64\n"
          ]
        },
        {
          "output_type": "stream",
          "name": "stderr",
          "text": [
            "\r 54%|█████▍    | 431/800 [17:27<08:56,  1.45s/it]"
          ]
        },
        {
          "output_type": "stream",
          "name": "stdout",
          "text": [
            "Step: 432 \t Time: 1094.7739596366882\n",
            "Shift: 0.10955136013031007\n",
            "Current State: 559    0.517262\n",
            "Name: f, dtype: float64\n"
          ]
        },
        {
          "output_type": "stream",
          "name": "stderr",
          "text": [
            "\r 54%|█████▍    | 432/800 [17:28<08:23,  1.37s/it]"
          ]
        },
        {
          "output_type": "stream",
          "name": "stdout",
          "text": [
            "Step: 433 \t Time: 1095.9384491443634\n",
            "Shift: 0.1098002992630005\n",
            "Current State: 560    0.111983\n",
            "Name: f, dtype: float64\n"
          ]
        },
        {
          "output_type": "stream",
          "name": "stderr",
          "text": [
            "\r 54%|█████▍    | 433/800 [17:31<10:36,  1.73s/it]"
          ]
        },
        {
          "output_type": "stream",
          "name": "stdout",
          "text": [
            "Step: 434 \t Time: 1098.5280575752258\n",
            "Shift: 0.11005037434101106\n",
            "Current State: 561    0.080643\n",
            "Name: f, dtype: float64\n"
          ]
        },
        {
          "output_type": "stream",
          "name": "stderr",
          "text": [
            "\r 54%|█████▍    | 434/800 [17:33<11:49,  1.94s/it]"
          ]
        },
        {
          "output_type": "stream",
          "name": "stdout",
          "text": [
            "Step: 435 \t Time: 1100.9471988677979\n",
            "Shift: 0.11016109848022461\n",
            "Current State: 562    0.089355\n",
            "Name: f, dtype: float64\n"
          ]
        },
        {
          "output_type": "stream",
          "name": "stderr",
          "text": [
            "\r 54%|█████▍    | 435/800 [17:34<10:15,  1.69s/it]"
          ]
        },
        {
          "output_type": "stream",
          "name": "stdout",
          "text": [
            "Step: 436 \t Time: 1102.0466480255127\n",
            "Shift: 0.11040479111671449\n",
            "Current State: 563    0.106092\n",
            "Name: f, dtype: float64\n"
          ]
        },
        {
          "output_type": "stream",
          "name": "stderr",
          "text": [
            "\r 55%|█████▍    | 436/800 [17:37<11:34,  1.91s/it]"
          ]
        },
        {
          "output_type": "stream",
          "name": "stdout",
          "text": [
            "Step: 437 \t Time: 1104.4667382240295\n",
            "Shift: 0.11056818864345551\n",
            "Current State: 564    0.110725\n",
            "Name: f, dtype: float64\n"
          ]
        },
        {
          "output_type": "stream",
          "name": "stderr",
          "text": [
            "\r 55%|█████▍    | 437/800 [17:38<11:04,  1.83s/it]"
          ]
        },
        {
          "output_type": "stream",
          "name": "stdout",
          "text": [
            "Step: 438 \t Time: 1106.1199820041656\n",
            "Shift: 0.11067499837875366\n",
            "Current State: 565    0.552483\n",
            "Name: f, dtype: float64\n"
          ]
        },
        {
          "output_type": "stream",
          "name": "stderr",
          "text": [
            "\r 55%|█████▍    | 438/800 [17:39<09:38,  1.60s/it]"
          ]
        },
        {
          "output_type": "stream",
          "name": "stdout",
          "text": [
            "Step: 439 \t Time: 1107.1775710582733\n",
            "Shift: 0.11088539390563966\n",
            "Current State: 566    0.115745\n",
            "Name: f, dtype: float64\n"
          ]
        },
        {
          "output_type": "stream",
          "name": "stderr",
          "text": [
            "\r 55%|█████▍    | 439/800 [17:41<10:31,  1.75s/it]"
          ]
        },
        {
          "output_type": "stream",
          "name": "stdout",
          "text": [
            "Step: 440 \t Time: 1109.28089427948\n",
            "Shift: 0.11104605267047883\n",
            "Current State: 567    0.124981\n",
            "Name: f, dtype: float64\n"
          ]
        },
        {
          "output_type": "stream",
          "name": "stderr",
          "text": [
            "\r 55%|█████▌    | 440/800 [17:43<10:22,  1.73s/it]"
          ]
        },
        {
          "output_type": "stream",
          "name": "stdout",
          "text": [
            "Step: 441 \t Time: 1110.963490486145\n",
            "Shift: 0.111289062166214\n",
            "Current State: 568    0.147469\n",
            "Name: f, dtype: float64\n"
          ]
        },
        {
          "output_type": "stream",
          "name": "stderr",
          "text": [
            "\r 55%|█████▌    | 441/800 [17:46<11:28,  1.92s/it]"
          ]
        },
        {
          "output_type": "stream",
          "name": "stdout",
          "text": [
            "Step: 442 \t Time: 1113.3180000782013\n",
            "Shift: 0.1114430897474289\n",
            "Current State: 569    0.126996\n",
            "Name: f, dtype: float64\n"
          ]
        },
        {
          "output_type": "stream",
          "name": "stderr",
          "text": [
            "\r 55%|█████▌    | 442/800 [17:47<10:45,  1.80s/it]"
          ]
        },
        {
          "output_type": "stream",
          "name": "stdout",
          "text": [
            "Step: 443 \t Time: 1114.8557784557343\n",
            "Shift: 0.1115662820339203\n",
            "Current State: 570    0.590293\n",
            "Name: f, dtype: float64\n"
          ]
        },
        {
          "output_type": "stream",
          "name": "stderr",
          "text": [
            "\r 55%|█████▌    | 443/800 [17:48<09:42,  1.63s/it]"
          ]
        },
        {
          "output_type": "stream",
          "name": "stdout",
          "text": [
            "Step: 444 \t Time: 1116.0828580856323\n",
            "Shift: 0.11170129673480989\n",
            "Current State: 571    0.650785\n",
            "Name: f, dtype: float64\n"
          ]
        },
        {
          "output_type": "stream",
          "name": "stderr",
          "text": [
            "\r 56%|█████▌    | 444/800 [17:50<09:12,  1.55s/it]"
          ]
        },
        {
          "output_type": "stream",
          "name": "stdout",
          "text": [
            "Step: 445 \t Time: 1117.4469401836395\n",
            "Shift: 0.11183656904697419\n",
            "Current State: 572    0.525416\n",
            "Name: f, dtype: float64\n"
          ]
        },
        {
          "output_type": "stream",
          "name": "stderr",
          "text": [
            "\r 56%|█████▌    | 445/800 [17:51<08:47,  1.49s/it]"
          ]
        },
        {
          "output_type": "stream",
          "name": "stdout",
          "text": [
            "Step: 446 \t Time: 1118.7853634357452\n",
            "Shift: 0.11196757464408875\n",
            "Current State: 573    0.521602\n",
            "Name: f, dtype: float64\n"
          ]
        },
        {
          "output_type": "stream",
          "name": "stderr",
          "text": [
            "\r 56%|█████▌    | 446/800 [17:52<08:28,  1.44s/it]"
          ]
        },
        {
          "output_type": "stream",
          "name": "stdout",
          "text": [
            "Step: 447 \t Time: 1120.102639913559\n",
            "Shift: 0.1122383896112442\n",
            "Current State: 574    0.210128\n",
            "Name: f, dtype: float64\n"
          ]
        },
        {
          "output_type": "stream",
          "name": "stderr",
          "text": [
            "\r 56%|█████▌    | 447/800 [17:55<10:59,  1.87s/it]"
          ]
        },
        {
          "output_type": "stream",
          "name": "stdout",
          "text": [
            "Step: 448 \t Time: 1122.978660583496\n",
            "Shift: 0.11246363391876221\n",
            "Current State: 575    0.136365\n",
            "Name: f, dtype: float64\n"
          ]
        },
        {
          "output_type": "stream",
          "name": "stderr",
          "text": [
            "\r 56%|█████▌    | 448/800 [17:57<11:32,  1.97s/it]"
          ]
        },
        {
          "output_type": "stream",
          "name": "stdout",
          "text": [
            "Step: 449 \t Time: 1125.1814966201782\n",
            "Shift: 0.11259130511283875\n",
            "Current State: 576    0.506647\n",
            "Name: f, dtype: float64\n"
          ]
        },
        {
          "output_type": "stream",
          "name": "stderr",
          "text": [
            "\r 56%|█████▌    | 449/800 [17:59<10:04,  1.72s/it]"
          ]
        },
        {
          "output_type": "stream",
          "name": "stdout",
          "text": [
            "Step: 450 \t Time: 1126.3334732055664\n",
            "Shift: 0.11270142307281494\n",
            "Current State: 577    0.624428\n",
            "Name: f, dtype: float64\n"
          ]
        },
        {
          "output_type": "stream",
          "name": "stderr",
          "text": [
            "\r 56%|█████▋    | 450/800 [18:00<08:57,  1.54s/it]"
          ]
        },
        {
          "output_type": "stream",
          "name": "stdout",
          "text": [
            "Step: 451 \t Time: 1127.4306378364563\n",
            "Shift: 0.11286816267967224\n",
            "Current State: 578    0.120014\n",
            "Name: f, dtype: float64\n"
          ]
        },
        {
          "output_type": "stream",
          "name": "stderr",
          "text": [
            "\r 56%|█████▋    | 451/800 [18:01<09:12,  1.58s/it]"
          ]
        },
        {
          "output_type": "stream",
          "name": "stdout",
          "text": [
            "Step: 452 \t Time: 1129.1245439052582\n",
            "Shift: 0.11295427372455598\n",
            "Current State: 579    0.429558\n",
            "Name: f, dtype: float64\n"
          ]
        },
        {
          "output_type": "stream",
          "name": "stderr",
          "text": [
            "\r 56%|█████▋    | 452/800 [18:02<07:55,  1.37s/it]"
          ]
        },
        {
          "output_type": "stream",
          "name": "stdout",
          "text": [
            "Step: 453 \t Time: 1129.9829874038696\n",
            "Shift: 0.1131583755016327\n",
            "Current State: 580    0.416763\n",
            "Name: f, dtype: float64\n"
          ]
        },
        {
          "output_type": "stream",
          "name": "stderr",
          "text": [
            "\r 57%|█████▋    | 453/800 [18:04<09:04,  1.57s/it]"
          ]
        },
        {
          "output_type": "stream",
          "name": "stdout",
          "text": [
            "Step: 454 \t Time: 1132.0265562534332\n",
            "Shift: 0.11337657351493836\n",
            "Current State: 581    0.10616\n",
            "Name: f, dtype: float64\n"
          ]
        },
        {
          "output_type": "stream",
          "name": "stderr",
          "text": [
            "\r 57%|█████▋    | 454/800 [18:06<10:05,  1.75s/it]"
          ]
        },
        {
          "output_type": "stream",
          "name": "stdout",
          "text": [
            "Step: 455 \t Time: 1134.1944272518158\n",
            "Shift: 0.11353570437431336\n",
            "Current State: 582    0.097092\n",
            "Name: f, dtype: float64\n"
          ]
        },
        {
          "output_type": "stream",
          "name": "stderr",
          "text": [
            "\r 57%|█████▋    | 455/800 [18:08<09:57,  1.73s/it]"
          ]
        },
        {
          "output_type": "stream",
          "name": "stdout",
          "text": [
            "Step: 456 \t Time: 1135.889731168747\n",
            "Shift: 0.1137475133419037\n",
            "Current State: 583    0.456075\n",
            "Name: f, dtype: float64\n"
          ]
        },
        {
          "output_type": "stream",
          "name": "stderr",
          "text": [
            "\r 57%|█████▋    | 456/800 [18:10<10:37,  1.85s/it]"
          ]
        },
        {
          "output_type": "stream",
          "name": "stdout",
          "text": [
            "Step: 457 \t Time: 1138.0192682743073\n",
            "Shift: 0.11389932203292848\n",
            "Current State: 584    0.102377\n",
            "Name: f, dtype: float64\n"
          ]
        },
        {
          "output_type": "stream",
          "name": "stderr",
          "text": [
            "\r 57%|█████▋    | 457/800 [18:12<09:49,  1.72s/it]"
          ]
        },
        {
          "output_type": "stream",
          "name": "stdout",
          "text": [
            "Step: 458 \t Time: 1139.4226706027985\n",
            "Shift: 0.11408284146785737\n",
            "Current State: 585    0.101552\n",
            "Name: f, dtype: float64\n"
          ]
        },
        {
          "output_type": "stream",
          "name": "stderr",
          "text": [
            "\r 57%|█████▋    | 458/800 [18:13<09:59,  1.75s/it]"
          ]
        },
        {
          "output_type": "stream",
          "name": "stdout",
          "text": [
            "Step: 459 \t Time: 1141.2630965709686\n",
            "Shift: 0.1143290820837021\n",
            "Current State: 586    0.107802\n",
            "Name: f, dtype: float64\n"
          ]
        },
        {
          "output_type": "stream",
          "name": "stderr",
          "text": [
            "\r 57%|█████▋    | 459/800 [18:16<11:10,  1.97s/it]"
          ]
        },
        {
          "output_type": "stream",
          "name": "stdout",
          "text": [
            "Step: 460 \t Time: 1143.7215509414673\n",
            "Shift: 0.11448574011325836\n",
            "Current State: 587    0.117469\n",
            "Name: f, dtype: float64\n"
          ]
        },
        {
          "output_type": "stream",
          "name": "stderr",
          "text": [
            "\r 57%|█████▊    | 460/800 [18:17<10:27,  1.85s/it]"
          ]
        },
        {
          "output_type": "stream",
          "name": "stdout",
          "text": [
            "Step: 461 \t Time: 1145.2881815433502\n",
            "Shift: 0.11473825466632843\n",
            "Current State: 588    0.110182\n",
            "Name: f, dtype: float64\n"
          ]
        },
        {
          "output_type": "stream",
          "name": "stderr",
          "text": [
            "\r 58%|█████▊    | 461/800 [18:20<11:35,  2.05s/it]"
          ]
        },
        {
          "output_type": "stream",
          "name": "stdout",
          "text": [
            "Step: 462 \t Time: 1147.8144721984863\n",
            "Shift: 0.11491948008537294\n",
            "Current State: 589    0.448991\n",
            "Name: f, dtype: float64\n"
          ]
        },
        {
          "output_type": "stream",
          "name": "stderr",
          "text": [
            "\r 58%|█████▊    | 462/800 [18:22<11:26,  2.03s/it]"
          ]
        },
        {
          "output_type": "stream",
          "name": "stdout",
          "text": [
            "Step: 463 \t Time: 1149.8022463321686\n",
            "Shift: 0.11509644322395325\n",
            "Current State: 590    0.118261\n",
            "Name: f, dtype: float64\n"
          ]
        },
        {
          "output_type": "stream",
          "name": "stderr",
          "text": [
            "\r 58%|█████▊    | 463/800 [18:24<10:39,  1.90s/it]"
          ]
        },
        {
          "output_type": "stream",
          "name": "stdout",
          "text": [
            "Step: 464 \t Time: 1151.3869893550873\n",
            "Shift: 0.11525619773864747\n",
            "Current State: 591    0.150401\n",
            "Name: f, dtype: float64\n"
          ]
        },
        {
          "output_type": "stream",
          "name": "stderr",
          "text": [
            "\r 58%|█████▊    | 464/800 [18:25<10:08,  1.81s/it]"
          ]
        },
        {
          "output_type": "stream",
          "name": "stdout",
          "text": [
            "Step: 465 \t Time: 1152.992428779602\n",
            "Shift: 0.11548094336986542\n",
            "Current State: 592    0.119271\n",
            "Name: f, dtype: float64\n"
          ]
        },
        {
          "output_type": "stream",
          "name": "stderr",
          "text": [
            "\r 58%|█████▊    | 465/800 [18:27<10:50,  1.94s/it]"
          ]
        },
        {
          "output_type": "stream",
          "name": "stdout",
          "text": [
            "Step: 466 \t Time: 1155.2415101528168\n",
            "Shift: 0.11567071433067322\n",
            "Current State: 593    0.121695\n",
            "Name: f, dtype: float64\n"
          ]
        },
        {
          "output_type": "stream",
          "name": "stderr",
          "text": [
            "\r 58%|█████▊    | 466/800 [18:29<10:44,  1.93s/it]"
          ]
        },
        {
          "output_type": "stream",
          "name": "stdout",
          "text": [
            "Step: 467 \t Time: 1157.1410403251648\n",
            "Shift: 0.11581715893745423\n",
            "Current State: 594    0.131226\n",
            "Name: f, dtype: float64\n"
          ]
        },
        {
          "output_type": "stream",
          "name": "stderr",
          "text": [
            "\r 58%|█████▊    | 467/800 [18:31<09:56,  1.79s/it]"
          ]
        },
        {
          "output_type": "stream",
          "name": "stdout",
          "text": [
            "Step: 468 \t Time: 1158.60742020607\n",
            "Shift: 0.11594900393486024\n",
            "Current State: 595    0.459317\n",
            "Name: f, dtype: float64\n"
          ]
        },
        {
          "output_type": "stream",
          "name": "stderr",
          "text": [
            "\r 58%|█████▊    | 468/800 [18:32<09:06,  1.65s/it]"
          ]
        },
        {
          "output_type": "stream",
          "name": "stdout",
          "text": [
            "Step: 469 \t Time: 1159.9165771007538\n",
            "Shift: 0.11605988821983337\n",
            "Current State: 596    0.412327\n",
            "Name: f, dtype: float64\n"
          ]
        },
        {
          "output_type": "stream",
          "name": "stderr",
          "text": [
            "\r 59%|█████▊    | 469/800 [18:33<08:26,  1.53s/it]"
          ]
        },
        {
          "output_type": "stream",
          "name": "stdout",
          "text": [
            "Step: 470 \t Time: 1161.1746318340302\n",
            "Shift: 0.11633362715244294\n",
            "Current State: 597    0.145673\n",
            "Name: f, dtype: float64\n"
          ]
        },
        {
          "output_type": "stream",
          "name": "stderr",
          "text": [
            "\r 59%|█████▉    | 470/800 [18:36<10:08,  1.84s/it]"
          ]
        },
        {
          "output_type": "stream",
          "name": "stdout",
          "text": [
            "Step: 471 \t Time: 1163.7549726963043\n",
            "Shift: 0.11660539648532868\n",
            "Current State: 598    0.144283\n",
            "Name: f, dtype: float64\n"
          ]
        },
        {
          "output_type": "stream",
          "name": "stderr",
          "text": [
            "\r 59%|█████▉    | 471/800 [18:39<11:33,  2.11s/it]"
          ]
        },
        {
          "output_type": "stream",
          "name": "stdout",
          "text": [
            "Step: 472 \t Time: 1166.4792032241821\n",
            "Shift: 0.11678234794139862\n",
            "Current State: 599    0.162992\n",
            "Name: f, dtype: float64\n"
          ]
        },
        {
          "output_type": "stream",
          "name": "stderr",
          "text": [
            "\r 59%|█████▉    | 472/800 [18:40<10:59,  2.01s/it]"
          ]
        },
        {
          "output_type": "stream",
          "name": "stdout",
          "text": [
            "Step: 473 \t Time: 1168.2567913532257\n",
            "Shift: 0.11694023184776307\n",
            "Current State: 600    0.151372\n",
            "Name: f, dtype: float64\n"
          ]
        },
        {
          "output_type": "stream",
          "name": "stderr",
          "text": [
            "\r 59%|█████▉    | 473/800 [18:42<10:14,  1.88s/it]"
          ]
        },
        {
          "output_type": "stream",
          "name": "stdout",
          "text": [
            "Step: 474 \t Time: 1169.8342959880829\n",
            "Shift: 0.11706166820526123\n",
            "Current State: 601    0.418373\n",
            "Name: f, dtype: float64\n"
          ]
        },
        {
          "output_type": "stream",
          "name": "stderr",
          "text": [
            "\r 59%|█████▉    | 474/800 [18:43<09:07,  1.68s/it]"
          ]
        },
        {
          "output_type": "stream",
          "name": "stdout",
          "text": [
            "Step: 475 \t Time: 1171.0419092178345\n",
            "Shift: 0.1172118658065796\n",
            "Current State: 602    0.357708\n",
            "Name: f, dtype: float64\n"
          ]
        },
        {
          "output_type": "stream",
          "name": "stderr",
          "text": [
            "\r 59%|█████▉    | 475/800 [18:45<08:48,  1.63s/it]"
          ]
        },
        {
          "output_type": "stream",
          "name": "stdout",
          "text": [
            "Step: 476 \t Time: 1172.5442159175873\n",
            "Shift: 0.11743551363945008\n",
            "Current State: 603    0.211849\n",
            "Name: f, dtype: float64\n"
          ]
        },
        {
          "output_type": "stream",
          "name": "stderr",
          "text": [
            "\r 60%|█████▉    | 476/800 [18:47<10:00,  1.85s/it]"
          ]
        },
        {
          "output_type": "stream",
          "name": "stdout",
          "text": [
            "Step: 477 \t Time: 1174.9335730075836\n",
            "Shift: 0.11772814474105836\n",
            "Current State: 604    0.144638\n",
            "Name: f, dtype: float64\n"
          ]
        },
        {
          "output_type": "stream",
          "name": "stderr",
          "text": [
            "\r 60%|█████▉    | 477/800 [18:50<11:29,  2.13s/it]"
          ]
        },
        {
          "output_type": "stream",
          "name": "stdout",
          "text": [
            "Step: 478 \t Time: 1177.7227194309235\n",
            "Shift: 0.11795136759281159\n",
            "Current State: 605    0.30009\n",
            "Name: f, dtype: float64\n"
          ]
        },
        {
          "output_type": "stream",
          "name": "stderr",
          "text": [
            "\r 60%|█████▉    | 478/800 [18:52<11:37,  2.17s/it]"
          ]
        },
        {
          "output_type": "stream",
          "name": "stdout",
          "text": [
            "Step: 479 \t Time: 1179.9580261707306\n",
            "Shift: 0.11814926071166992\n",
            "Current State: 606    0.249499\n",
            "Name: f, dtype: float64\n"
          ]
        },
        {
          "output_type": "stream",
          "name": "stderr",
          "text": [
            "\r 60%|█████▉    | 479/800 [18:54<11:15,  2.10s/it]"
          ]
        },
        {
          "output_type": "stream",
          "name": "stdout",
          "text": [
            "Step: 480 \t Time: 1181.9212679862976\n",
            "Shift: 0.11833220508098603\n",
            "Current State: 607    0.226421\n",
            "Name: f, dtype: float64\n"
          ]
        },
        {
          "output_type": "stream",
          "name": "stderr",
          "text": [
            "\r 60%|██████    | 480/800 [18:56<10:46,  2.02s/it]"
          ]
        },
        {
          "output_type": "stream",
          "name": "stdout",
          "text": [
            "Step: 481 \t Time: 1183.743926525116\n",
            "Shift: 0.1186979458808899\n",
            "Current State: 608    0.157604\n",
            "Name: f, dtype: float64\n"
          ]
        },
        {
          "output_type": "stream",
          "name": "stderr",
          "text": [
            "\r 60%|██████    | 481/800 [19:00<13:30,  2.54s/it]"
          ]
        },
        {
          "output_type": "stream",
          "name": "stdout",
          "text": [
            "Step: 482 \t Time: 1187.4976851940155\n",
            "Shift: 0.11902440738677979\n",
            "Current State: 609    0.115206\n",
            "Name: f, dtype: float64\n"
          ]
        },
        {
          "output_type": "stream",
          "name": "stderr",
          "text": [
            "\r 60%|██████    | 482/800 [19:03<14:28,  2.73s/it]"
          ]
        },
        {
          "output_type": "stream",
          "name": "stdout",
          "text": [
            "Step: 483 \t Time: 1190.6718926429749\n",
            "Shift: 0.11924454777240753\n",
            "Current State: 610    0.066612\n",
            "Name: f, dtype: float64\n"
          ]
        },
        {
          "output_type": "stream",
          "name": "stderr",
          "text": [
            "\r 60%|██████    | 483/800 [19:05<13:34,  2.57s/it]"
          ]
        },
        {
          "output_type": "stream",
          "name": "stdout",
          "text": [
            "Step: 484 \t Time: 1192.8656208515167\n",
            "Shift: 0.11944780242443086\n",
            "Current State: 611    0.146786\n",
            "Name: f, dtype: float64\n"
          ]
        },
        {
          "output_type": "stream",
          "name": "stderr",
          "text": [
            "\r 60%|██████    | 484/800 [19:07<12:40,  2.41s/it]"
          ]
        },
        {
          "output_type": "stream",
          "name": "stdout",
          "text": [
            "Step: 485 \t Time: 1194.8928594589233\n",
            "Shift: 0.11969186680316926\n",
            "Current State: 612    0.070298\n",
            "Name: f, dtype: float64\n"
          ]
        },
        {
          "output_type": "stream",
          "name": "stderr",
          "text": [
            "\r 61%|██████    | 485/800 [19:10<12:43,  2.42s/it]"
          ]
        },
        {
          "output_type": "stream",
          "name": "stdout",
          "text": [
            "Step: 486 \t Time: 1197.3537261486053\n",
            "Shift: 0.11992930097579957\n",
            "Current State: 613    0.212786\n",
            "Name: f, dtype: float64\n"
          ]
        },
        {
          "output_type": "stream",
          "name": "stderr",
          "text": [
            "\r 61%|██████    | 486/800 [19:12<12:49,  2.45s/it]"
          ]
        },
        {
          "output_type": "stream",
          "name": "stdout",
          "text": [
            "Step: 487 \t Time: 1199.8681173324585\n",
            "Shift: 0.1202275961637497\n",
            "Current State: 614    0.149548\n",
            "Name: f, dtype: float64\n"
          ]
        },
        {
          "output_type": "stream",
          "name": "stderr",
          "text": [
            "\r 61%|██████    | 487/800 [19:15<13:23,  2.57s/it]"
          ]
        },
        {
          "output_type": "stream",
          "name": "stdout",
          "text": [
            "Step: 488 \t Time: 1202.7043526172638\n",
            "Shift: 0.12049976382255555\n",
            "Current State: 615    0.143302\n",
            "Name: f, dtype: float64\n"
          ]
        },
        {
          "output_type": "stream",
          "name": "stderr",
          "text": [
            "\r 61%|██████    | 488/800 [19:18<13:34,  2.61s/it]"
          ]
        },
        {
          "output_type": "stream",
          "name": "stdout",
          "text": [
            "Step: 489 \t Time: 1205.4194872379303\n",
            "Shift: 0.12068052213191986\n",
            "Current State: 616    0.140939\n",
            "Name: f, dtype: float64\n"
          ]
        },
        {
          "output_type": "stream",
          "name": "stderr",
          "text": [
            "\r 61%|██████    | 489/800 [19:19<12:16,  2.37s/it]"
          ]
        },
        {
          "output_type": "stream",
          "name": "stdout",
          "text": [
            "Step: 490 \t Time: 1207.2247786521912\n",
            "Shift: 0.12079603486061097\n",
            "Current State: 617    0.185375\n",
            "Name: f, dtype: float64\n"
          ]
        },
        {
          "output_type": "stream",
          "name": "stderr",
          "text": [
            "\r 61%|██████▏   | 490/800 [19:21<10:22,  2.01s/it]"
          ]
        },
        {
          "output_type": "stream",
          "name": "stdout",
          "text": [
            "Step: 491 \t Time: 1208.3925194740295\n",
            "Shift: 0.12108520138263704\n",
            "Current State: 618    0.17004\n",
            "Name: f, dtype: float64\n"
          ]
        },
        {
          "output_type": "stream",
          "name": "stderr",
          "text": [
            "\r 61%|██████▏   | 491/800 [19:24<11:48,  2.29s/it]"
          ]
        },
        {
          "output_type": "stream",
          "name": "stdout",
          "text": [
            "Step: 492 \t Time: 1211.346731185913\n",
            "Shift: 0.121588050198555\n",
            "Current State: 619    0.193632\n",
            "Name: f, dtype: float64\n"
          ]
        },
        {
          "output_type": "stream",
          "name": "stderr",
          "text": [
            "\r 62%|██████▏   | 492/800 [19:28<15:52,  3.09s/it]"
          ]
        },
        {
          "output_type": "stream",
          "name": "stdout",
          "text": [
            "Step: 493 \t Time: 1216.3114302158356\n",
            "Shift: 0.1217670893907547\n",
            "Current State: 620    0.228006\n",
            "Name: f, dtype: float64\n"
          ]
        },
        {
          "output_type": "stream",
          "name": "stderr",
          "text": [
            "\r 62%|██████▏   | 493/800 [19:30<13:51,  2.71s/it]"
          ]
        },
        {
          "output_type": "stream",
          "name": "stdout",
          "text": [
            "Step: 494 \t Time: 1218.123727798462\n",
            "Shift: 0.12219841074943542\n",
            "Current State: 621    0.206237\n",
            "Name: f, dtype: float64\n"
          ]
        },
        {
          "output_type": "stream",
          "name": "stderr",
          "text": [
            "\r 62%|██████▏   | 494/800 [19:35<16:14,  3.18s/it]"
          ]
        },
        {
          "output_type": "stream",
          "name": "stdout",
          "text": [
            "Step: 495 \t Time: 1222.4157786369324\n",
            "Shift: 0.12243044257164003\n",
            "Current State: 622    0.247769\n",
            "Name: f, dtype: float64\n"
          ]
        },
        {
          "output_type": "stream",
          "name": "stderr",
          "text": [
            "\r 62%|██████▏   | 495/800 [19:37<14:58,  2.95s/it]"
          ]
        },
        {
          "output_type": "stream",
          "name": "stdout",
          "text": [
            "Step: 496 \t Time: 1224.8037354946136\n",
            "Shift: 0.12280110654830934\n",
            "Current State: 623    0.22366\n",
            "Name: f, dtype: float64\n"
          ]
        },
        {
          "output_type": "stream",
          "name": "stderr",
          "text": [
            "\r 62%|██████▏   | 496/800 [19:41<15:57,  3.15s/it]"
          ]
        },
        {
          "output_type": "stream",
          "name": "stdout",
          "text": [
            "Step: 497 \t Time: 1228.433497428894\n",
            "Shift: 0.12296961402893067\n",
            "Current State: 624    0.23425\n",
            "Name: f, dtype: float64\n"
          ]
        },
        {
          "output_type": "stream",
          "name": "stderr",
          "text": [
            "\r 62%|██████▏   | 497/800 [19:42<13:43,  2.72s/it]"
          ]
        },
        {
          "output_type": "stream",
          "name": "stdout",
          "text": [
            "Step: 498 \t Time: 1230.14546251297\n",
            "Shift: 0.12319520750045777\n",
            "Current State: 625    0.261171\n",
            "Name: f, dtype: float64\n"
          ]
        },
        {
          "output_type": "stream",
          "name": "stderr",
          "text": [
            "\r 62%|██████▏   | 498/800 [19:45<12:57,  2.57s/it]"
          ]
        },
        {
          "output_type": "stream",
          "name": "stdout",
          "text": [
            "Step: 499 \t Time: 1232.381997346878\n",
            "Shift: 0.12332683925628662\n",
            "Current State: 626    0.316157\n",
            "Name: f, dtype: float64\n"
          ]
        },
        {
          "output_type": "stream",
          "name": "stderr",
          "text": [
            "\r 62%|██████▏   | 499/800 [19:46<11:01,  2.20s/it]"
          ]
        },
        {
          "output_type": "stream",
          "name": "stdout",
          "text": [
            "Step: 500 \t Time: 1233.7060391902924\n",
            "Shift: 0.12354388339519501\n",
            "Current State: 627    0.323211\n",
            "Name: f, dtype: float64\n"
          ]
        },
        {
          "output_type": "stream",
          "name": "stderr",
          "text": [
            "\r 62%|██████▎   | 500/800 [19:48<10:58,  2.19s/it]"
          ]
        },
        {
          "output_type": "stream",
          "name": "stdout",
          "text": [
            "Step: 501 \t Time: 1235.8878166675568\n",
            "Shift: 0.12373799989223482\n",
            "Current State: 628    0.329096\n",
            "Name: f, dtype: float64\n"
          ]
        },
        {
          "output_type": "stream",
          "name": "stderr",
          "text": [
            "\r 63%|██████▎   | 501/800 [19:50<10:40,  2.14s/it]"
          ]
        },
        {
          "output_type": "stream",
          "name": "stdout",
          "text": [
            "Step: 502 \t Time: 1237.9045124053955\n",
            "Shift: 0.12410515673160553\n",
            "Current State: 629    0.376789\n",
            "Name: f, dtype: float64\n"
          ]
        },
        {
          "output_type": "stream",
          "name": "stderr",
          "text": [
            "\r 63%|██████▎   | 502/800 [19:54<12:45,  2.57s/it]"
          ]
        },
        {
          "output_type": "stream",
          "name": "stdout",
          "text": [
            "Step: 503 \t Time: 1241.474941253662\n",
            "Shift: 0.12440067083835603\n",
            "Current State: 630    0.268176\n",
            "Name: f, dtype: float64\n"
          ]
        },
        {
          "output_type": "stream",
          "name": "stderr",
          "text": [
            "\r 63%|██████▎   | 503/800 [19:57<13:17,  2.69s/it]"
          ]
        },
        {
          "output_type": "stream",
          "name": "stdout",
          "text": [
            "Step: 504 \t Time: 1244.431135892868\n",
            "Shift: 0.12466512820720674\n",
            "Current State: 631    0.207764\n",
            "Name: f, dtype: float64\n"
          ]
        },
        {
          "output_type": "stream",
          "name": "stderr",
          "text": [
            "\r 63%|██████▎   | 504/800 [19:59<13:11,  2.68s/it]"
          ]
        },
        {
          "output_type": "stream",
          "name": "stdout",
          "text": [
            "Step: 505 \t Time: 1247.0830669403076\n",
            "Shift: 0.12499629089832306\n",
            "Current State: 632    0.216795\n",
            "Name: f, dtype: float64\n"
          ]
        },
        {
          "output_type": "stream",
          "name": "stderr",
          "text": [
            "\r 63%|██████▎   | 505/800 [20:03<14:21,  2.92s/it]"
          ]
        },
        {
          "output_type": "stream",
          "name": "stdout",
          "text": [
            "Step: 506 \t Time: 1250.5766291618347\n",
            "Shift: 0.12511975317001342\n",
            "Current State: 633    10.610092\n",
            "Name: f, dtype: float64\n"
          ]
        },
        {
          "output_type": "stream",
          "name": "stderr",
          "text": [
            "\r 63%|██████▎   | 506/800 [20:04<11:40,  2.38s/it]"
          ]
        },
        {
          "output_type": "stream",
          "name": "stdout",
          "text": [
            "Step: 507 \t Time: 1251.7016198635101\n",
            "Shift: 0.1253580335378647\n",
            "Current State: 634    0.188604\n",
            "Name: f, dtype: float64\n"
          ]
        },
        {
          "output_type": "stream",
          "name": "stderr",
          "text": [
            "\r 63%|██████▎   | 507/800 [20:06<11:31,  2.36s/it]"
          ]
        },
        {
          "output_type": "stream",
          "name": "stdout",
          "text": [
            "Step: 508 \t Time: 1254.0118923187256\n",
            "Shift: 0.12546066653728485\n",
            "Current State: 635    0.213915\n",
            "Name: f, dtype: float64\n"
          ]
        },
        {
          "output_type": "stream",
          "name": "stderr",
          "text": [
            "\r 64%|██████▎   | 508/800 [20:07<09:32,  1.96s/it]"
          ]
        },
        {
          "output_type": "stream",
          "name": "stdout",
          "text": [
            "Step: 509 \t Time: 1255.0414979457855\n",
            "Shift: 0.12565277748107911\n",
            "Current State: 636    0.185854\n",
            "Name: f, dtype: float64\n"
          ]
        },
        {
          "output_type": "stream",
          "name": "stderr",
          "text": [
            "\r 64%|██████▎   | 509/800 [20:09<09:26,  1.95s/it]"
          ]
        },
        {
          "output_type": "stream",
          "name": "stdout",
          "text": [
            "Step: 510 \t Time: 1256.9553458690643\n",
            "Shift: 0.12576909749507906\n",
            "Current State: 637    0.170559\n",
            "Name: f, dtype: float64\n"
          ]
        },
        {
          "output_type": "stream",
          "name": "stderr",
          "text": [
            "\r 64%|██████▍   | 510/800 [20:10<08:16,  1.71s/it]"
          ]
        },
        {
          "output_type": "stream",
          "name": "stdout",
          "text": [
            "Step: 511 \t Time: 1258.1180775165558\n",
            "Shift: 0.12604542169570923\n",
            "Current State: 638    0.295195\n",
            "Name: f, dtype: float64\n"
          ]
        },
        {
          "output_type": "stream",
          "name": "stderr",
          "text": [
            "\r 64%|██████▍   | 511/800 [20:13<09:47,  2.03s/it]"
          ]
        },
        {
          "output_type": "stream",
          "name": "stdout",
          "text": [
            "Step: 512 \t Time: 1260.8951184749603\n",
            "Shift: 0.12629443390369416\n",
            "Current State: 639    0.157251\n",
            "Name: f, dtype: float64\n"
          ]
        },
        {
          "output_type": "stream",
          "name": "stderr",
          "text": [
            "\r 64%|██████▍   | 512/800 [20:16<10:35,  2.21s/it]"
          ]
        },
        {
          "output_type": "stream",
          "name": "stdout",
          "text": [
            "Step: 513 \t Time: 1263.5149381160736\n",
            "Shift: 0.1264828750371933\n",
            "Current State: 640    0.104447\n",
            "Name: f, dtype: float64\n"
          ]
        },
        {
          "output_type": "stream",
          "name": "stderr",
          "text": [
            "\r 64%|██████▍   | 513/800 [20:17<09:54,  2.07s/it]"
          ]
        },
        {
          "output_type": "stream",
          "name": "stdout",
          "text": [
            "Step: 514 \t Time: 1265.2704305648804\n",
            "Shift: 0.12660409665107727\n",
            "Current State: 641    0.532995\n",
            "Name: f, dtype: float64\n"
          ]
        },
        {
          "output_type": "stream",
          "name": "stderr",
          "text": [
            "\r 64%|██████▍   | 514/800 [20:19<08:37,  1.81s/it]"
          ]
        },
        {
          "output_type": "stream",
          "name": "stdout",
          "text": [
            "Step: 515 \t Time: 1266.4712555408478\n",
            "Shift: 0.12672995665073394\n",
            "Current State: 642    0.097137\n",
            "Name: f, dtype: float64\n"
          ]
        },
        {
          "output_type": "stream",
          "name": "stderr",
          "text": [
            "\r 64%|██████▍   | 515/800 [20:20<07:48,  1.64s/it]"
          ]
        },
        {
          "output_type": "stream",
          "name": "stdout",
          "text": [
            "Step: 516 \t Time: 1267.7271783351898\n",
            "Shift: 0.12689178140163423\n",
            "Current State: 643    0.061499\n",
            "Name: f, dtype: float64\n"
          ]
        },
        {
          "output_type": "stream",
          "name": "stderr",
          "text": [
            "\r 64%|██████▍   | 516/800 [20:22<07:44,  1.64s/it]"
          ]
        },
        {
          "output_type": "stream",
          "name": "stdout",
          "text": [
            "Step: 517 \t Time: 1269.347356557846\n",
            "Shift: 0.12707007358074188\n",
            "Current State: 644    0.023725\n",
            "Name: f, dtype: float64\n"
          ]
        },
        {
          "output_type": "stream",
          "name": "stderr",
          "text": [
            "\r 65%|██████▍   | 517/800 [20:23<07:56,  1.68s/it]"
          ]
        },
        {
          "output_type": "stream",
          "name": "stdout",
          "text": [
            "Step: 518 \t Time: 1271.142456293106\n",
            "Shift: 0.12731773805618288\n",
            "Current State: 645    0.206651\n",
            "Name: f, dtype: float64\n"
          ]
        },
        {
          "output_type": "stream",
          "name": "stderr",
          "text": [
            "\r 65%|██████▍   | 518/800 [20:26<09:00,  1.92s/it]"
          ]
        },
        {
          "output_type": "stream",
          "name": "stdout",
          "text": [
            "Step: 519 \t Time: 1273.5998661518097\n",
            "Shift: 0.127533398604393\n",
            "Current State: 646    0.147942\n",
            "Name: f, dtype: float64\n"
          ]
        },
        {
          "output_type": "stream",
          "name": "stderr",
          "text": [
            "\r 65%|██████▍   | 519/800 [20:28<09:28,  2.02s/it]"
          ]
        },
        {
          "output_type": "stream",
          "name": "stdout",
          "text": [
            "Step: 520 \t Time: 1275.8694458007812\n",
            "Shift: 0.12779541432857514\n",
            "Current State: 647    0.428562\n",
            "Name: f, dtype: float64\n"
          ]
        },
        {
          "output_type": "stream",
          "name": "stderr",
          "text": [
            "\r 65%|██████▌   | 520/800 [20:31<10:09,  2.18s/it]"
          ]
        },
        {
          "output_type": "stream",
          "name": "stdout",
          "text": [
            "Step: 521 \t Time: 1278.405329465866\n",
            "Shift: 0.12800230300426485\n",
            "Current State: 648    0.130972\n",
            "Name: f, dtype: float64\n"
          ]
        },
        {
          "output_type": "stream",
          "name": "stderr",
          "text": [
            "\r 65%|██████▌   | 521/800 [20:33<09:56,  2.14s/it]"
          ]
        },
        {
          "output_type": "stream",
          "name": "stdout",
          "text": [
            "Step: 522 \t Time: 1280.4487097263336\n",
            "Shift: 0.12817421934604645\n",
            "Current State: 649    0.168912\n",
            "Name: f, dtype: float64\n"
          ]
        },
        {
          "output_type": "stream",
          "name": "stderr",
          "text": [
            "\r 65%|██████▌   | 522/800 [20:34<09:19,  2.01s/it]"
          ]
        },
        {
          "output_type": "stream",
          "name": "stdout",
          "text": [
            "Step: 523 \t Time: 1282.1718635559082\n",
            "Shift: 0.12853731634616852\n",
            "Current State: 650    0.10096\n",
            "Name: f, dtype: float64\n"
          ]
        },
        {
          "output_type": "stream",
          "name": "stderr",
          "text": [
            "\r 65%|██████▌   | 523/800 [20:38<11:32,  2.50s/it]"
          ]
        },
        {
          "output_type": "stream",
          "name": "stdout",
          "text": [
            "Step: 524 \t Time: 1285.8082144260406\n",
            "Shift: 0.12863632340431214\n",
            "Current State: 651    0.703898\n",
            "Name: f, dtype: float64\n"
          ]
        },
        {
          "output_type": "stream",
          "name": "stderr",
          "text": [
            "\r 66%|██████▌   | 524/800 [20:39<09:25,  2.05s/it]"
          ]
        },
        {
          "output_type": "stream",
          "name": "stdout",
          "text": [
            "Step: 525 \t Time: 1286.810730934143\n",
            "Shift: 0.1288822554588318\n",
            "Current State: 652    0.114866\n",
            "Name: f, dtype: float64\n"
          ]
        },
        {
          "output_type": "stream",
          "name": "stderr",
          "text": [
            "\r 66%|██████▌   | 525/800 [20:42<10:04,  2.20s/it]"
          ]
        },
        {
          "output_type": "stream",
          "name": "stdout",
          "text": [
            "Step: 526 \t Time: 1289.3475680351257\n",
            "Shift: 0.1290389075756073\n",
            "Current State: 653    0.091117\n",
            "Name: f, dtype: float64\n"
          ]
        },
        {
          "output_type": "stream",
          "name": "stderr",
          "text": [
            "\r 66%|██████▌   | 526/800 [20:43<09:02,  1.98s/it]"
          ]
        },
        {
          "output_type": "stream",
          "name": "stdout",
          "text": [
            "Step: 527 \t Time: 1290.8247337341309\n",
            "Shift: 0.12931581304073334\n",
            "Current State: 654    0.099301\n",
            "Name: f, dtype: float64\n"
          ]
        },
        {
          "output_type": "stream",
          "name": "stderr",
          "text": [
            "\r 66%|██████▌   | 527/800 [20:46<10:04,  2.21s/it]"
          ]
        },
        {
          "output_type": "stream",
          "name": "stdout",
          "text": [
            "Step: 528 \t Time: 1293.5849516391754\n",
            "Shift: 0.12946182856559754\n",
            "Current State: 655    0.605693\n",
            "Name: f, dtype: float64\n"
          ]
        },
        {
          "output_type": "stream",
          "name": "stderr",
          "text": [
            "\r 66%|██████▌   | 528/800 [20:47<09:01,  1.99s/it]"
          ]
        },
        {
          "output_type": "stream",
          "name": "stdout",
          "text": [
            "Step: 529 \t Time: 1295.0527176856995\n",
            "Shift: 0.1295792905330658\n",
            "Current State: 656    0.121175\n",
            "Name: f, dtype: float64\n"
          ]
        },
        {
          "output_type": "stream",
          "name": "stderr",
          "text": [
            "\r 66%|██████▌   | 529/800 [20:48<07:52,  1.75s/it]"
          ]
        },
        {
          "output_type": "stream",
          "name": "stdout",
          "text": [
            "Step: 530 \t Time: 1296.2249157428741\n",
            "Shift: 0.1297387318611145\n",
            "Current State: 657    0.120084\n",
            "Name: f, dtype: float64\n"
          ]
        },
        {
          "output_type": "stream",
          "name": "stderr",
          "text": [
            "\r 66%|██████▋   | 530/800 [20:50<07:38,  1.70s/it]"
          ]
        },
        {
          "output_type": "stream",
          "name": "stdout",
          "text": [
            "Step: 531 \t Time: 1297.8135075569153\n",
            "Shift: 0.12989291927814484\n",
            "Current State: 658    0.145691\n",
            "Name: f, dtype: float64\n"
          ]
        },
        {
          "output_type": "stream",
          "name": "stderr",
          "text": [
            "\r 66%|██████▋   | 531/800 [20:52<07:25,  1.66s/it]"
          ]
        },
        {
          "output_type": "stream",
          "name": "stdout",
          "text": [
            "Step: 532 \t Time: 1299.3702981472015\n",
            "Shift: 0.13011677913665773\n",
            "Current State: 659    0.136536\n",
            "Name: f, dtype: float64\n"
          ]
        },
        {
          "output_type": "stream",
          "name": "stderr",
          "text": [
            "\r 66%|██████▋   | 532/800 [20:54<08:21,  1.87s/it]"
          ]
        },
        {
          "output_type": "stream",
          "name": "stdout",
          "text": [
            "Step: 533 \t Time: 1301.7471685409546\n",
            "Shift: 0.1303354224920273\n",
            "Current State: 660    0.162322\n",
            "Name: f, dtype: float64\n"
          ]
        },
        {
          "output_type": "stream",
          "name": "stderr",
          "text": [
            "\r 67%|██████▋   | 533/800 [20:56<08:33,  1.92s/it]"
          ]
        },
        {
          "output_type": "stream",
          "name": "stdout",
          "text": [
            "Step: 534 \t Time: 1303.7875027656555\n",
            "Shift: 0.1305134395837784\n",
            "Current State: 661    0.185798\n",
            "Name: f, dtype: float64\n"
          ]
        },
        {
          "output_type": "stream",
          "name": "stderr",
          "text": [
            "\r 67%|██████▋   | 534/800 [20:58<08:19,  1.88s/it]"
          ]
        },
        {
          "output_type": "stream",
          "name": "stdout",
          "text": [
            "Step: 535 \t Time: 1305.5592949390411\n",
            "Shift: 0.1306188071012497\n",
            "Current State: 662    0.716995\n",
            "Name: f, dtype: float64\n"
          ]
        },
        {
          "output_type": "stream",
          "name": "stderr",
          "text": [
            "\r 67%|██████▋   | 535/800 [20:59<07:11,  1.63s/it]"
          ]
        },
        {
          "output_type": "stream",
          "name": "stdout",
          "text": [
            "Step: 536 \t Time: 1306.6122870445251\n",
            "Shift: 0.1307213175058365\n",
            "Current State: 663    0.148896\n",
            "Name: f, dtype: float64\n"
          ]
        },
        {
          "output_type": "stream",
          "name": "stderr",
          "text": [
            "\r 67%|██████▋   | 536/800 [21:00<06:22,  1.45s/it]"
          ]
        },
        {
          "output_type": "stream",
          "name": "stdout",
          "text": [
            "Step: 537 \t Time: 1307.6369519233704\n",
            "Shift: 0.130920849108696\n",
            "Current State: 664    0.203366\n",
            "Name: f, dtype: float64\n"
          ]
        },
        {
          "output_type": "stream",
          "name": "stderr",
          "text": [
            "\r 67%|██████▋   | 537/800 [21:02<07:05,  1.62s/it]"
          ]
        },
        {
          "output_type": "stream",
          "name": "stdout",
          "text": [
            "Step: 538 \t Time: 1309.6447911262512\n",
            "Shift: 0.13102052223682403\n",
            "Current State: 665    0.219035\n",
            "Name: f, dtype: float64\n"
          ]
        },
        {
          "output_type": "stream",
          "name": "stderr",
          "text": [
            "\r 67%|██████▋   | 538/800 [21:03<06:15,  1.43s/it]"
          ]
        },
        {
          "output_type": "stream",
          "name": "stdout",
          "text": [
            "Step: 539 \t Time: 1310.6514205932617\n",
            "Shift: 0.13125031774044038\n",
            "Current State: 666    0.241313\n",
            "Name: f, dtype: float64\n"
          ]
        },
        {
          "output_type": "stream",
          "name": "stderr",
          "text": [
            "\r 67%|██████▋   | 539/800 [21:05<07:26,  1.71s/it]"
          ]
        },
        {
          "output_type": "stream",
          "name": "stdout",
          "text": [
            "Step: 540 \t Time: 1313.0108363628387\n",
            "Shift: 0.13155273036956788\n",
            "Current State: 667    0.208425\n",
            "Name: f, dtype: float64\n"
          ]
        },
        {
          "output_type": "stream",
          "name": "stderr",
          "text": [
            "\r 68%|██████▊   | 540/800 [21:08<09:02,  2.09s/it]"
          ]
        },
        {
          "output_type": "stream",
          "name": "stdout",
          "text": [
            "Step: 541 \t Time: 1315.972424030304\n",
            "Shift: 0.13167885847091676\n",
            "Current State: 668    0.190799\n",
            "Name: f, dtype: float64\n"
          ]
        },
        {
          "output_type": "stream",
          "name": "stderr",
          "text": [
            "\r 68%|██████▊   | 541/800 [21:09<07:54,  1.83s/it]"
          ]
        },
        {
          "output_type": "stream",
          "name": "stdout",
          "text": [
            "Step: 542 \t Time: 1317.2147102355957\n",
            "Shift: 0.13192108659744264\n",
            "Current State: 669    0.176559\n",
            "Name: f, dtype: float64\n"
          ]
        },
        {
          "output_type": "stream",
          "name": "stderr",
          "text": [
            "\r 68%|██████▊   | 542/800 [21:12<08:38,  2.01s/it]"
          ]
        },
        {
          "output_type": "stream",
          "name": "stdout",
          "text": [
            "Step: 543 \t Time: 1319.6415781974792\n",
            "Shift: 0.13206819787025453\n",
            "Current State: 670    0.179989\n",
            "Name: f, dtype: float64\n"
          ]
        },
        {
          "output_type": "stream",
          "name": "stderr",
          "text": [
            "\r 68%|██████▊   | 543/800 [21:13<07:55,  1.85s/it]"
          ]
        },
        {
          "output_type": "stream",
          "name": "stdout",
          "text": [
            "Step: 544 \t Time: 1321.1147146224976\n",
            "Shift: 0.13231699919700624\n",
            "Current State: 671    0.194345\n",
            "Name: f, dtype: float64\n"
          ]
        },
        {
          "output_type": "stream",
          "name": "stderr",
          "text": [
            "\r 68%|██████▊   | 544/800 [21:16<08:42,  2.04s/it]"
          ]
        },
        {
          "output_type": "stream",
          "name": "stdout",
          "text": [
            "Step: 545 \t Time: 1323.6062774658203\n",
            "Shift: 0.13244570491313934\n",
            "Current State: 672    0.797047\n",
            "Name: f, dtype: float64\n"
          ]
        },
        {
          "output_type": "stream",
          "name": "stderr",
          "text": [
            "\r 68%|██████▊   | 545/800 [21:17<07:46,  1.83s/it]"
          ]
        },
        {
          "output_type": "stream",
          "name": "stdout",
          "text": [
            "Step: 546 \t Time: 1324.9356780052185\n",
            "Shift: 0.13267603621482849\n",
            "Current State: 673    0.177277\n",
            "Name: f, dtype: float64\n"
          ]
        },
        {
          "output_type": "stream",
          "name": "stderr",
          "text": [
            "\r 68%|██████▊   | 546/800 [21:19<08:25,  1.99s/it]"
          ]
        },
        {
          "output_type": "stream",
          "name": "stdout",
          "text": [
            "Step: 547 \t Time: 1327.3049743175507\n",
            "Shift: 0.13290635607242585\n",
            "Current State: 674    0.135291\n",
            "Name: f, dtype: float64\n"
          ]
        },
        {
          "output_type": "stream",
          "name": "stderr",
          "text": [
            "\r 68%|██████▊   | 547/800 [21:22<08:38,  2.05s/it]"
          ]
        },
        {
          "output_type": "stream",
          "name": "stdout",
          "text": [
            "Step: 548 \t Time: 1329.4916503429413\n",
            "Shift: 0.13303914253711702\n",
            "Current State: 675    0.598806\n",
            "Name: f, dtype: float64\n"
          ]
        },
        {
          "output_type": "stream",
          "name": "stderr",
          "text": [
            "\r 68%|██████▊   | 548/800 [21:23<07:42,  1.83s/it]"
          ]
        },
        {
          "output_type": "stream",
          "name": "stdout",
          "text": [
            "Step: 549 \t Time: 1330.8233380317688\n",
            "Shift: 0.1331477858066559\n",
            "Current State: 676    0.281192\n",
            "Name: f, dtype: float64\n"
          ]
        },
        {
          "output_type": "stream",
          "name": "stderr",
          "text": [
            "\r 69%|██████▊   | 549/800 [21:24<06:43,  1.61s/it]"
          ]
        },
        {
          "output_type": "stream",
          "name": "stdout",
          "text": [
            "Step: 550 \t Time: 1331.905298948288\n",
            "Shift: 0.13327855763435364\n",
            "Current State: 677    0.027764\n",
            "Name: f, dtype: float64\n"
          ]
        },
        {
          "output_type": "stream",
          "name": "stderr",
          "text": [
            "\r 69%|██████▉   | 550/800 [21:25<06:19,  1.52s/it]"
          ]
        },
        {
          "output_type": "stream",
          "name": "stdout",
          "text": [
            "Step: 551 \t Time: 1333.2095592021942\n",
            "Shift: 0.13339865939617157\n",
            "Current State: 678    0.758228\n",
            "Name: f, dtype: float64\n"
          ]
        },
        {
          "output_type": "stream",
          "name": "stderr",
          "text": [
            "\r 69%|██████▉   | 551/800 [21:27<05:54,  1.42s/it]"
          ]
        },
        {
          "output_type": "stream",
          "name": "stdout",
          "text": [
            "Step: 552 \t Time: 1334.410143852234\n",
            "Shift: 0.13351806025505067\n",
            "Current State: 679    0.801792\n",
            "Name: f, dtype: float64\n"
          ]
        },
        {
          "output_type": "stream",
          "name": "stderr",
          "text": [
            "\r 69%|██████▉   | 552/800 [21:28<05:36,  1.36s/it]"
          ]
        },
        {
          "output_type": "stream",
          "name": "stdout",
          "text": [
            "Step: 553 \t Time: 1335.6090428829193\n",
            "Shift: 0.13367624168395997\n",
            "Current State: 680    0.156996\n",
            "Name: f, dtype: float64\n"
          ]
        },
        {
          "output_type": "stream",
          "name": "stderr",
          "text": [
            "\r 69%|██████▉   | 553/800 [21:29<05:52,  1.43s/it]"
          ]
        },
        {
          "output_type": "stream",
          "name": "stdout",
          "text": [
            "Step: 554 \t Time: 1337.1973268985748\n",
            "Shift: 0.1338156308412552\n",
            "Current State: 681    0.643117\n",
            "Name: f, dtype: float64\n"
          ]
        },
        {
          "output_type": "stream",
          "name": "stderr",
          "text": [
            "\r 69%|██████▉   | 554/800 [21:31<05:53,  1.44s/it]"
          ]
        },
        {
          "output_type": "stream",
          "name": "stdout",
          "text": [
            "Step: 555 \t Time: 1338.6654188632965\n",
            "Shift: 0.13401316385269166\n",
            "Current State: 682    0.034173\n",
            "Name: f, dtype: float64\n"
          ]
        },
        {
          "output_type": "stream",
          "name": "stderr",
          "text": [
            "\r 69%|██████▉   | 555/800 [21:33<06:25,  1.57s/it]"
          ]
        },
        {
          "output_type": "stream",
          "name": "stdout",
          "text": [
            "Step: 556 \t Time: 1340.5586602687836\n",
            "Shift: 0.1342177077293396\n",
            "Current State: 683    0.674116\n",
            "Name: f, dtype: float64\n"
          ]
        },
        {
          "output_type": "stream",
          "name": "stderr",
          "text": [
            "\r 70%|██████▉   | 556/800 [21:35<06:59,  1.72s/it]"
          ]
        },
        {
          "output_type": "stream",
          "name": "stdout",
          "text": [
            "Step: 557 \t Time: 1342.6110589504242\n",
            "Shift: 0.1343612188577652\n",
            "Current State: 684    0.061434\n",
            "Name: f, dtype: float64\n"
          ]
        },
        {
          "output_type": "stream",
          "name": "stderr",
          "text": [
            "\r 70%|██████▉   | 557/800 [21:36<06:37,  1.64s/it]"
          ]
        },
        {
          "output_type": "stream",
          "name": "stdout",
          "text": [
            "Step: 558 \t Time: 1344.0598907470703\n",
            "Shift: 0.13448472089767458\n",
            "Current State: 685    0.633932\n",
            "Name: f, dtype: float64\n"
          ]
        },
        {
          "output_type": "stream",
          "name": "stderr",
          "text": [
            "\r 70%|██████▉   | 558/800 [21:37<06:05,  1.51s/it]"
          ]
        },
        {
          "output_type": "stream",
          "name": "stdout",
          "text": [
            "Step: 559 \t Time: 1345.2701466083527\n",
            "Shift: 0.1346256433725357\n",
            "Current State: 686    0.628132\n",
            "Name: f, dtype: float64\n"
          ]
        },
        {
          "output_type": "stream",
          "name": "stderr",
          "text": [
            "\r 70%|██████▉   | 559/800 [21:39<05:57,  1.48s/it]"
          ]
        },
        {
          "output_type": "stream",
          "name": "stdout",
          "text": [
            "Step: 560 \t Time: 1346.6897180080414\n",
            "Shift: 0.134734832406044\n",
            "Current State: 687    1.802841\n",
            "Name: f, dtype: float64\n"
          ]
        },
        {
          "output_type": "stream",
          "name": "stderr",
          "text": [
            "\r 70%|███████   | 560/800 [21:40<05:27,  1.37s/it]"
          ]
        },
        {
          "output_type": "stream",
          "name": "stdout",
          "text": [
            "Step: 561 \t Time: 1347.783378124237\n",
            "Shift: 0.13488173427581787\n",
            "Current State: 688    0.050152\n",
            "Name: f, dtype: float64\n"
          ]
        },
        {
          "output_type": "stream",
          "name": "stderr",
          "text": [
            "\r 70%|███████   | 561/800 [21:41<05:33,  1.40s/it]"
          ]
        },
        {
          "output_type": "stream",
          "name": "stdout",
          "text": [
            "Step: 562 \t Time: 1349.2512781620026\n",
            "Shift: 0.13500731341838837\n",
            "Current State: 689    0.66159\n",
            "Name: f, dtype: float64\n"
          ]
        },
        {
          "output_type": "stream",
          "name": "stderr",
          "text": [
            "\r 70%|███████   | 562/800 [21:43<05:33,  1.40s/it]"
          ]
        },
        {
          "output_type": "stream",
          "name": "stdout",
          "text": [
            "Step: 563 \t Time: 1350.6650040149689\n",
            "Shift: 0.13519428639411926\n",
            "Current State: 690    0.073756\n",
            "Name: f, dtype: float64\n"
          ]
        },
        {
          "output_type": "stream",
          "name": "stderr",
          "text": [
            "\r 70%|███████   | 563/800 [21:45<06:08,  1.55s/it]"
          ]
        },
        {
          "output_type": "stream",
          "name": "stdout",
          "text": [
            "Step: 564 \t Time: 1352.575974702835\n",
            "Shift: 0.13536577694416047\n",
            "Current State: 691    0.017519\n",
            "Name: f, dtype: float64\n"
          ]
        },
        {
          "output_type": "stream",
          "name": "stderr",
          "text": [
            "\r 70%|███████   | 564/800 [21:46<06:03,  1.54s/it]"
          ]
        },
        {
          "output_type": "stream",
          "name": "stdout",
          "text": [
            "Step: 565 \t Time: 1354.0850863456726\n",
            "Shift: 0.13549859504699707\n",
            "Current State: 692    0.062598\n",
            "Name: f, dtype: float64\n"
          ]
        },
        {
          "output_type": "stream",
          "name": "stderr",
          "text": [
            "\r 71%|███████   | 565/800 [21:48<05:47,  1.48s/it]"
          ]
        },
        {
          "output_type": "stream",
          "name": "stdout",
          "text": [
            "Step: 566 \t Time: 1355.424207687378\n",
            "Shift: 0.1356234407901764\n",
            "Current State: 693    0.546371\n",
            "Name: f, dtype: float64\n"
          ]
        },
        {
          "output_type": "stream",
          "name": "stderr",
          "text": [
            "\r 71%|███████   | 566/800 [21:49<05:29,  1.41s/it]"
          ]
        },
        {
          "output_type": "stream",
          "name": "stdout",
          "text": [
            "Step: 567 \t Time: 1356.662603855133\n",
            "Shift: 0.13575454478263857\n",
            "Current State: 694    0.085767\n",
            "Name: f, dtype: float64\n"
          ]
        },
        {
          "output_type": "stream",
          "name": "stderr",
          "text": [
            "\r 71%|███████   | 567/800 [21:50<05:21,  1.38s/it]"
          ]
        },
        {
          "output_type": "stream",
          "name": "stdout",
          "text": [
            "Step: 568 \t Time: 1357.9723370075226\n",
            "Shift: 0.13590486619472505\n",
            "Current State: 695    0.819798\n",
            "Name: f, dtype: float64\n"
          ]
        },
        {
          "output_type": "stream",
          "name": "stderr",
          "text": [
            "\r 71%|███████   | 568/800 [21:52<05:29,  1.42s/it]"
          ]
        },
        {
          "output_type": "stream",
          "name": "stdout",
          "text": [
            "Step: 569 \t Time: 1359.4946377277374\n",
            "Shift: 0.13608694269657134\n",
            "Current State: 696    0.03118\n",
            "Name: f, dtype: float64\n"
          ]
        },
        {
          "output_type": "stream",
          "name": "stderr",
          "text": [
            "\r 71%|███████   | 569/800 [21:53<05:54,  1.54s/it]"
          ]
        },
        {
          "output_type": "stream",
          "name": "stdout",
          "text": [
            "Step: 570 \t Time: 1361.2977530956268\n",
            "Shift: 0.13621172680854798\n",
            "Current State: 697    0.503248\n",
            "Name: f, dtype: float64\n"
          ]
        },
        {
          "output_type": "stream",
          "name": "stderr",
          "text": [
            "\r 71%|███████▏  | 570/800 [21:55<05:35,  1.46s/it]"
          ]
        },
        {
          "output_type": "stream",
          "name": "stdout",
          "text": [
            "Step: 571 \t Time: 1362.5732352733612\n",
            "Shift: 0.1363851121902466\n",
            "Current State: 698    0.064597\n",
            "Name: f, dtype: float64\n"
          ]
        },
        {
          "output_type": "stream",
          "name": "stderr",
          "text": [
            "\r 71%|███████▏  | 571/800 [21:57<06:02,  1.58s/it]"
          ]
        },
        {
          "output_type": "stream",
          "name": "stdout",
          "text": [
            "Step: 572 \t Time: 1364.4471566677094\n",
            "Shift: 0.13655373811721802\n",
            "Current State: 699    0.548804\n",
            "Name: f, dtype: float64\n"
          ]
        },
        {
          "output_type": "stream",
          "name": "stderr",
          "text": [
            "\r 72%|███████▏  | 572/800 [21:58<05:57,  1.57s/it]"
          ]
        },
        {
          "output_type": "stream",
          "name": "stdout",
          "text": [
            "Step: 573 \t Time: 1365.979548215866\n",
            "Shift: 0.13669310722351075\n",
            "Current State: 700    0.020905\n",
            "Name: f, dtype: float64\n"
          ]
        },
        {
          "output_type": "stream",
          "name": "stderr",
          "text": [
            "\r 72%|███████▏  | 573/800 [22:00<05:42,  1.51s/it]"
          ]
        },
        {
          "output_type": "stream",
          "name": "stdout",
          "text": [
            "Step: 574 \t Time: 1367.3510110378265\n",
            "Shift: 0.13681679050922393\n",
            "Current State: 701    0.017375\n",
            "Name: f, dtype: float64\n"
          ]
        },
        {
          "output_type": "stream",
          "name": "stderr",
          "text": [
            "\r 72%|███████▏  | 574/800 [22:01<05:23,  1.43s/it]"
          ]
        },
        {
          "output_type": "stream",
          "name": "stdout",
          "text": [
            "Step: 575 \t Time: 1368.5958743095398\n",
            "Shift: 0.13698760786056519\n",
            "Current State: 702    0.028433\n",
            "Name: f, dtype: float64\n"
          ]
        },
        {
          "output_type": "stream",
          "name": "stderr",
          "text": [
            "\r 72%|███████▏  | 575/800 [22:02<05:40,  1.51s/it]"
          ]
        },
        {
          "output_type": "stream",
          "name": "stdout",
          "text": [
            "Step: 576 \t Time: 1370.302013874054\n",
            "Shift: 0.13710485219955446\n",
            "Current State: 703    0.58963\n",
            "Name: f, dtype: float64\n"
          ]
        },
        {
          "output_type": "stream",
          "name": "stderr",
          "text": [
            "\r 72%|███████▏  | 576/800 [22:04<05:16,  1.41s/it]"
          ]
        },
        {
          "output_type": "stream",
          "name": "stdout",
          "text": [
            "Step: 577 \t Time: 1371.4846222400665\n",
            "Shift: 0.13727188618183137\n",
            "Current State: 704    0.037376\n",
            "Name: f, dtype: float64\n"
          ]
        },
        {
          "output_type": "stream",
          "name": "stderr",
          "text": [
            "\r 72%|███████▏  | 577/800 [22:05<05:32,  1.49s/it]"
          ]
        },
        {
          "output_type": "stream",
          "name": "stdout",
          "text": [
            "Step: 578 \t Time: 1373.1504220962524\n",
            "Shift: 0.137434135222435\n",
            "Current State: 705    0.047293\n",
            "Name: f, dtype: float64\n"
          ]
        },
        {
          "output_type": "stream",
          "name": "stderr",
          "text": [
            "\r 72%|███████▏  | 578/800 [22:07<05:39,  1.53s/it]"
          ]
        },
        {
          "output_type": "stream",
          "name": "stdout",
          "text": [
            "Step: 579 \t Time: 1374.7723870277405\n",
            "Shift: 0.1376512277364731\n",
            "Current State: 706    0.061266\n",
            "Name: f, dtype: float64\n"
          ]
        },
        {
          "output_type": "stream",
          "name": "stderr",
          "text": [
            "\r 72%|███████▏  | 579/800 [22:09<06:31,  1.77s/it]"
          ]
        },
        {
          "output_type": "stream",
          "name": "stdout",
          "text": [
            "Step: 580 \t Time: 1377.1118776798248\n",
            "Shift: 0.1378484318971634\n",
            "Current State: 707    0.057005\n",
            "Name: f, dtype: float64\n"
          ]
        },
        {
          "output_type": "stream",
          "name": "stderr",
          "text": [
            "\r 72%|███████▎  | 580/800 [22:11<06:31,  1.78s/it]"
          ]
        },
        {
          "output_type": "stream",
          "name": "stdout",
          "text": [
            "Step: 581 \t Time: 1378.916027545929\n",
            "Shift: 0.13797933304309845\n",
            "Current State: 708    1.999579\n",
            "Name: f, dtype: float64\n"
          ]
        },
        {
          "output_type": "stream",
          "name": "stderr",
          "text": [
            "\r 73%|███████▎  | 581/800 [22:12<05:59,  1.64s/it]"
          ]
        },
        {
          "output_type": "stream",
          "name": "stdout",
          "text": [
            "Step: 582 \t Time: 1380.2304136753082\n",
            "Shift: 0.1382763964891434\n",
            "Current State: 709    0.052119\n",
            "Name: f, dtype: float64\n"
          ]
        },
        {
          "output_type": "stream",
          "name": "stderr",
          "text": [
            "\r 73%|███████▎  | 582/800 [22:15<07:24,  2.04s/it]"
          ]
        },
        {
          "output_type": "stream",
          "name": "stdout",
          "text": [
            "Step: 583 \t Time: 1383.196854352951\n",
            "Shift: 0.13840093104839327\n",
            "Current State: 710    0.633629\n",
            "Name: f, dtype: float64\n"
          ]
        },
        {
          "output_type": "stream",
          "name": "stderr",
          "text": [
            "\r 73%|███████▎  | 583/800 [22:17<06:31,  1.80s/it]"
          ]
        },
        {
          "output_type": "stream",
          "name": "stdout",
          "text": [
            "Step: 584 \t Time: 1384.4556515216827\n",
            "Shift: 0.1385039608001709\n",
            "Current State: 711    0.580926\n",
            "Name: f, dtype: float64\n"
          ]
        },
        {
          "output_type": "stream",
          "name": "stderr",
          "text": [
            "\r 73%|███████▎  | 584/800 [22:18<05:40,  1.57s/it]"
          ]
        },
        {
          "output_type": "stream",
          "name": "stdout",
          "text": [
            "Step: 585 \t Time: 1385.4927697181702\n",
            "Shift: 0.13861418097019196\n",
            "Current State: 712    0.54784\n",
            "Name: f, dtype: float64\n"
          ]
        },
        {
          "output_type": "stream",
          "name": "stderr",
          "text": [
            "\r 73%|███████▎  | 585/800 [22:19<05:07,  1.43s/it]"
          ]
        },
        {
          "output_type": "stream",
          "name": "stdout",
          "text": [
            "Step: 586 \t Time: 1386.5851101875305\n",
            "Shift: 0.13875748021602632\n",
            "Current State: 713    0.089998\n",
            "Name: f, dtype: float64\n"
          ]
        },
        {
          "output_type": "stream",
          "name": "stderr",
          "text": [
            "\r 73%|███████▎  | 586/800 [22:20<05:11,  1.46s/it]"
          ]
        },
        {
          "output_type": "stream",
          "name": "stdout",
          "text": [
            "Step: 587 \t Time: 1388.1064693927765\n",
            "Shift: 0.13911522994041445\n",
            "Current State: 714    0.080578\n",
            "Name: f, dtype: float64\n"
          ]
        },
        {
          "output_type": "stream",
          "name": "stderr",
          "text": [
            "\r 73%|███████▎  | 587/800 [22:24<07:18,  2.06s/it]"
          ]
        },
        {
          "output_type": "stream",
          "name": "stdout",
          "text": [
            "Step: 588 \t Time: 1391.57377743721\n",
            "Shift: 0.13927321584224703\n",
            "Current State: 715    0.099943\n",
            "Name: f, dtype: float64\n"
          ]
        },
        {
          "output_type": "stream",
          "name": "stderr",
          "text": [
            "\r 74%|███████▎  | 588/800 [22:25<06:46,  1.92s/it]"
          ]
        },
        {
          "output_type": "stream",
          "name": "stdout",
          "text": [
            "Step: 589 \t Time: 1393.158972978592\n",
            "Shift: 0.1394027365922928\n",
            "Current State: 716    0.565571\n",
            "Name: f, dtype: float64\n"
          ]
        },
        {
          "output_type": "stream",
          "name": "stderr",
          "text": [
            "\r 74%|███████▎  | 589/800 [22:27<06:05,  1.73s/it]"
          ]
        },
        {
          "output_type": "stream",
          "name": "stdout",
          "text": [
            "Step: 590 \t Time: 1394.4570543766022\n",
            "Shift: 0.13952490720748903\n",
            "Current State: 717    0.579113\n",
            "Name: f, dtype: float64\n"
          ]
        },
        {
          "output_type": "stream",
          "name": "stderr",
          "text": [
            "\r 74%|███████▍  | 590/800 [22:28<05:31,  1.58s/it]"
          ]
        },
        {
          "output_type": "stream",
          "name": "stdout",
          "text": [
            "Step: 591 \t Time: 1395.6778995990753\n",
            "Shift: 0.13963486223220825\n",
            "Current State: 718    0.592211\n",
            "Name: f, dtype: float64\n"
          ]
        },
        {
          "output_type": "stream",
          "name": "stderr",
          "text": [
            "\r 74%|███████▍  | 591/800 [22:29<04:59,  1.43s/it]"
          ]
        },
        {
          "output_type": "stream",
          "name": "stdout",
          "text": [
            "Step: 592 \t Time: 1396.7769148349762\n",
            "Shift: 0.13974007682800293\n",
            "Current State: 719    2.096509\n",
            "Name: f, dtype: float64\n"
          ]
        },
        {
          "output_type": "stream",
          "name": "stderr",
          "text": [
            "\r 74%|███████▍  | 592/800 [22:30<04:35,  1.32s/it]"
          ]
        },
        {
          "output_type": "stream",
          "name": "stdout",
          "text": [
            "Step: 593 \t Time: 1397.837518453598\n",
            "Shift: 0.1398591250181198\n",
            "Current State: 720    0.128037\n",
            "Name: f, dtype: float64\n"
          ]
        },
        {
          "output_type": "stream",
          "name": "stderr",
          "text": [
            "\r 74%|███████▍  | 593/800 [22:31<04:26,  1.29s/it]"
          ]
        },
        {
          "output_type": "stream",
          "name": "stdout",
          "text": [
            "Step: 594 \t Time: 1399.0447397232056\n",
            "Shift: 0.14030987567901612\n",
            "Current State: 721    0.16477\n",
            "Name: f, dtype: float64\n"
          ]
        },
        {
          "output_type": "stream",
          "name": "stderr",
          "text": [
            "\r 74%|███████▍  | 594/800 [22:36<07:42,  2.25s/it]"
          ]
        },
        {
          "output_type": "stream",
          "name": "stdout",
          "text": [
            "Step: 595 \t Time: 1403.5230295658112\n",
            "Shift: 0.14046304743289947\n",
            "Current State: 722    0.110149\n",
            "Name: f, dtype: float64\n"
          ]
        },
        {
          "output_type": "stream",
          "name": "stderr",
          "text": [
            "\r 74%|███████▍  | 595/800 [22:37<06:57,  2.04s/it]"
          ]
        },
        {
          "output_type": "stream",
          "name": "stdout",
          "text": [
            "Step: 596 \t Time: 1405.0713393688202\n",
            "Shift: 0.1405891832828522\n",
            "Current State: 723    1.634282\n",
            "Name: f, dtype: float64\n"
          ]
        },
        {
          "output_type": "stream",
          "name": "stderr",
          "text": [
            "\r 74%|███████▍  | 596/800 [22:39<06:07,  1.80s/it]"
          ]
        },
        {
          "output_type": "stream",
          "name": "stdout",
          "text": [
            "Step: 597 \t Time: 1406.331772327423\n",
            "Shift: 0.1408692941427231\n",
            "Current State: 724    0.092839\n",
            "Name: f, dtype: float64\n"
          ]
        },
        {
          "output_type": "stream",
          "name": "stderr",
          "text": [
            "\r 75%|███████▍  | 597/800 [22:41<07:06,  2.10s/it]"
          ]
        },
        {
          "output_type": "stream",
          "name": "stdout",
          "text": [
            "Step: 598 \t Time: 1409.1248562335968\n",
            "Shift: 0.1411026932001114\n",
            "Current State: 725    0.247988\n",
            "Name: f, dtype: float64\n"
          ]
        },
        {
          "output_type": "stream",
          "name": "stderr",
          "text": [
            "\r 75%|███████▍  | 598/800 [22:44<07:19,  2.18s/it]"
          ]
        },
        {
          "output_type": "stream",
          "name": "stdout",
          "text": [
            "Step: 599 \t Time: 1411.4780480861664\n",
            "Shift: 0.14160454325675964\n",
            "Current State: 726    0.233267\n",
            "Name: f, dtype: float64\n"
          ]
        },
        {
          "output_type": "stream",
          "name": "stderr",
          "text": [
            "\r 75%|███████▍  | 599/800 [22:49<10:07,  3.02s/it]"
          ]
        },
        {
          "output_type": "stream",
          "name": "stdout",
          "text": [
            "Step: 600 \t Time: 1416.4721586704254\n",
            "Shift: 0.1417351463317871\n",
            "Current State: 727    0.657375\n",
            "Name: f, dtype: float64\n"
          ]
        },
        {
          "output_type": "stream",
          "name": "stderr",
          "text": [
            "\r 75%|███████▌  | 600/800 [22:50<08:23,  2.52s/it]"
          ]
        },
        {
          "output_type": "stream",
          "name": "stdout",
          "text": [
            "Step: 601 \t Time: 1417.8108201026917\n",
            "Shift: 0.14189930102825166\n",
            "Current State: 728    0.124086\n",
            "Name: f, dtype: float64\n"
          ]
        },
        {
          "output_type": "stream",
          "name": "stderr",
          "text": [
            "\r 75%|███████▌  | 601/800 [22:52<07:27,  2.25s/it]"
          ]
        },
        {
          "output_type": "stream",
          "name": "stdout",
          "text": [
            "Step: 602 \t Time: 1419.4424126148224\n",
            "Shift: 0.14204162704944612\n",
            "Current State: 729    0.641231\n",
            "Name: f, dtype: float64\n"
          ]
        },
        {
          "output_type": "stream",
          "name": "stderr",
          "text": [
            "\r 75%|███████▌  | 602/800 [22:53<06:36,  2.00s/it]"
          ]
        },
        {
          "output_type": "stream",
          "name": "stdout",
          "text": [
            "Step: 603 \t Time: 1420.862519979477\n",
            "Shift: 0.14222970490455628\n",
            "Current State: 730    0.620336\n",
            "Name: f, dtype: float64\n"
          ]
        },
        {
          "output_type": "stream",
          "name": "stderr",
          "text": [
            "\r 75%|███████▌  | 603/800 [22:55<06:25,  1.96s/it]"
          ]
        },
        {
          "output_type": "stream",
          "name": "stdout",
          "text": [
            "Step: 604 \t Time: 1422.7225320339203\n",
            "Shift: 0.1423774260044098\n",
            "Current State: 731    0.077885\n",
            "Name: f, dtype: float64\n"
          ]
        },
        {
          "output_type": "stream",
          "name": "stderr",
          "text": [
            "\r 76%|███████▌  | 604/800 [22:56<05:56,  1.82s/it]"
          ]
        },
        {
          "output_type": "stream",
          "name": "stdout",
          "text": [
            "Step: 605 \t Time: 1424.2116241455078\n",
            "Shift: 0.14255903956890106\n",
            "Current State: 732    0.066783\n",
            "Name: f, dtype: float64\n"
          ]
        },
        {
          "output_type": "stream",
          "name": "stderr",
          "text": [
            "\r 76%|███████▌  | 605/800 [22:58<06:02,  1.86s/it]"
          ]
        },
        {
          "output_type": "stream",
          "name": "stdout",
          "text": [
            "Step: 606 \t Time: 1426.163980960846\n",
            "Shift: 0.14279474360942843\n",
            "Current State: 733    0.044623\n",
            "Name: f, dtype: float64\n"
          ]
        },
        {
          "output_type": "stream",
          "name": "stderr",
          "text": [
            "\r 76%|███████▌  | 606/800 [23:01<06:21,  1.97s/it]"
          ]
        },
        {
          "output_type": "stream",
          "name": "stdout",
          "text": [
            "Step: 607 \t Time: 1428.3778367042542\n",
            "Shift: 0.14292595245838166\n",
            "Current State: 734    0.110767\n",
            "Name: f, dtype: float64\n"
          ]
        },
        {
          "output_type": "stream",
          "name": "stderr",
          "text": [
            "\r 76%|███████▌  | 607/800 [23:02<05:41,  1.77s/it]"
          ]
        },
        {
          "output_type": "stream",
          "name": "stdout",
          "text": [
            "Step: 608 \t Time: 1429.6965811252594\n",
            "Shift: 0.1430463266849518\n",
            "Current State: 735    0.656489\n",
            "Name: f, dtype: float64\n"
          ]
        },
        {
          "output_type": "stream",
          "name": "stderr",
          "text": [
            "\r 76%|███████▌  | 608/800 [23:03<05:06,  1.60s/it]"
          ]
        },
        {
          "output_type": "stream",
          "name": "stdout",
          "text": [
            "Step: 609 \t Time: 1430.8903782367706\n",
            "Shift: 0.14320692620277406\n",
            "Current State: 736    0.072706\n",
            "Name: f, dtype: float64\n"
          ]
        },
        {
          "output_type": "stream",
          "name": "stderr",
          "text": [
            "\r 76%|███████▌  | 609/800 [23:05<05:06,  1.60s/it]"
          ]
        },
        {
          "output_type": "stream",
          "name": "stdout",
          "text": [
            "Step: 610 \t Time: 1432.5086417198181\n",
            "Shift: 0.1433356916666031\n",
            "Current State: 737    0.687645\n",
            "Name: f, dtype: float64\n"
          ]
        },
        {
          "output_type": "stream",
          "name": "stderr",
          "text": [
            "\r 76%|███████▋  | 610/800 [23:06<04:45,  1.50s/it]"
          ]
        },
        {
          "output_type": "stream",
          "name": "stdout",
          "text": [
            "Step: 611 \t Time: 1433.7799685001373\n",
            "Shift: 0.14347528092861175\n",
            "Current State: 738    0.045485\n",
            "Name: f, dtype: float64\n"
          ]
        },
        {
          "output_type": "stream",
          "name": "stderr",
          "text": [
            "\r 76%|███████▋  | 611/800 [23:07<04:38,  1.47s/it]"
          ]
        },
        {
          "output_type": "stream",
          "name": "stdout",
          "text": [
            "Step: 612 \t Time: 1435.1785635948181\n",
            "Shift: 0.14361899235248565\n",
            "Current State: 739    0.692743\n",
            "Name: f, dtype: float64\n"
          ]
        },
        {
          "output_type": "stream",
          "name": "stderr",
          "text": [
            "\r 76%|███████▋  | 612/800 [23:09<04:35,  1.46s/it]"
          ]
        },
        {
          "output_type": "stream",
          "name": "stdout",
          "text": [
            "Step: 613 \t Time: 1436.6244904994965\n",
            "Shift: 0.14372701218128206\n",
            "Current State: 740    0.681966\n",
            "Name: f, dtype: float64\n"
          ]
        },
        {
          "output_type": "stream",
          "name": "stderr",
          "text": [
            "\r 77%|███████▋  | 613/800 [23:10<04:12,  1.35s/it]"
          ]
        },
        {
          "output_type": "stream",
          "name": "stdout",
          "text": [
            "Step: 614 \t Time: 1437.7099180221558\n",
            "Shift: 0.14390852065086365\n",
            "Current State: 741    0.047611\n",
            "Name: f, dtype: float64\n"
          ]
        },
        {
          "output_type": "stream",
          "name": "stderr",
          "text": [
            "\r 77%|███████▋  | 614/800 [23:12<04:40,  1.51s/it]"
          ]
        },
        {
          "output_type": "stream",
          "name": "stdout",
          "text": [
            "Step: 615 \t Time: 1439.5908586978912\n",
            "Shift: 0.14422922854423523\n",
            "Current State: 742    0.013891\n",
            "Name: f, dtype: float64\n"
          ]
        },
        {
          "output_type": "stream",
          "name": "stderr",
          "text": [
            "\r 77%|███████▋  | 615/800 [23:15<06:10,  2.00s/it]"
          ]
        },
        {
          "output_type": "stream",
          "name": "stdout",
          "text": [
            "Step: 616 \t Time: 1442.7345788478851\n",
            "Shift: 0.14436424343585968\n",
            "Current State: 743    0.128726\n",
            "Name: f, dtype: float64\n"
          ]
        },
        {
          "output_type": "stream",
          "name": "stderr",
          "text": [
            "\r 77%|███████▋  | 616/800 [23:16<05:32,  1.81s/it]"
          ]
        },
        {
          "output_type": "stream",
          "name": "stdout",
          "text": [
            "Step: 617 \t Time: 1444.0896258354187\n",
            "Shift: 0.14457351393699647\n",
            "Current State: 744    0.107346\n",
            "Name: f, dtype: float64\n"
          ]
        },
        {
          "output_type": "stream",
          "name": "stderr",
          "text": [
            "\r 77%|███████▋  | 617/800 [23:18<05:44,  1.88s/it]"
          ]
        },
        {
          "output_type": "stream",
          "name": "stdout",
          "text": [
            "Step: 618 \t Time: 1446.1557040214539\n",
            "Shift: 0.14473444390296936\n",
            "Current State: 745    0.046083\n",
            "Name: f, dtype: float64\n"
          ]
        },
        {
          "output_type": "stream",
          "name": "stderr",
          "text": [
            "\r 77%|███████▋  | 618/800 [23:20<05:28,  1.80s/it]"
          ]
        },
        {
          "output_type": "stream",
          "name": "stdout",
          "text": [
            "Step: 619 \t Time: 1447.7715473175049\n",
            "Shift: 0.14485574572086335\n",
            "Current State: 746    0.715946\n",
            "Name: f, dtype: float64\n"
          ]
        },
        {
          "output_type": "stream",
          "name": "stderr",
          "text": [
            "\r 77%|███████▋  | 619/800 [23:21<04:54,  1.63s/it]"
          ]
        },
        {
          "output_type": "stream",
          "name": "stdout",
          "text": [
            "Step: 620 \t Time: 1448.9845976829529\n",
            "Shift: 0.14497554490566256\n",
            "Current State: 747    0.030051\n",
            "Name: f, dtype: float64\n"
          ]
        },
        {
          "output_type": "stream",
          "name": "stderr",
          "text": [
            "\r 78%|███████▊  | 620/800 [23:22<04:29,  1.50s/it]"
          ]
        },
        {
          "output_type": "stream",
          "name": "stdout",
          "text": [
            "Step: 621 \t Time: 1450.1833307743073\n",
            "Shift: 0.1452031878232956\n",
            "Current State: 748    0.060853\n",
            "Name: f, dtype: float64\n"
          ]
        },
        {
          "output_type": "stream",
          "name": "stderr",
          "text": [
            "\r 78%|███████▊  | 621/800 [23:25<05:19,  1.78s/it]"
          ]
        },
        {
          "output_type": "stream",
          "name": "stdout",
          "text": [
            "Step: 622 \t Time: 1452.6326398849487\n",
            "Shift: 0.14533007781505586\n",
            "Current State: 749    37.646107\n",
            "Name: f, dtype: float64\n"
          ]
        },
        {
          "output_type": "stream",
          "name": "stderr",
          "text": [
            "\r 78%|███████▊  | 622/800 [23:26<04:40,  1.58s/it]"
          ]
        },
        {
          "output_type": "stream",
          "name": "stdout",
          "text": [
            "Step: 623 \t Time: 1453.7290542125702\n",
            "Shift: 0.14561748533248903\n",
            "Current State: 750    0.042616\n",
            "Name: f, dtype: float64\n"
          ]
        },
        {
          "output_type": "stream",
          "name": "stderr",
          "text": [
            "\r 78%|███████▊  | 623/800 [23:29<05:47,  1.96s/it]"
          ]
        },
        {
          "output_type": "stream",
          "name": "stdout",
          "text": [
            "Step: 624 \t Time: 1456.5975153446198\n",
            "Shift: 0.1458757850408554\n",
            "Current State: 751    0.036356\n",
            "Name: f, dtype: float64\n"
          ]
        },
        {
          "output_type": "stream",
          "name": "stderr",
          "text": [
            "\r 78%|███████▊  | 624/800 [23:31<06:18,  2.15s/it]"
          ]
        },
        {
          "output_type": "stream",
          "name": "stdout",
          "text": [
            "Step: 625 \t Time: 1459.18856549263\n",
            "Shift: 0.14625217459201814\n",
            "Current State: 752    0.112997\n",
            "Name: f, dtype: float64\n"
          ]
        },
        {
          "output_type": "stream",
          "name": "stderr",
          "text": [
            "\r 78%|███████▊  | 625/800 [23:35<07:41,  2.64s/it]"
          ]
        },
        {
          "output_type": "stream",
          "name": "stdout",
          "text": [
            "Step: 626 \t Time: 1462.9549815654755\n",
            "Shift: 0.14651091921329498\n",
            "Current State: 753    0.251341\n",
            "Name: f, dtype: float64\n"
          ]
        },
        {
          "output_type": "stream",
          "name": "stderr",
          "text": [
            "\r 78%|███████▊  | 626/800 [23:38<07:42,  2.66s/it]"
          ]
        },
        {
          "output_type": "stream",
          "name": "stdout",
          "text": [
            "Step: 627 \t Time: 1465.6643102169037\n",
            "Shift: 0.14673159606456757\n",
            "Current State: 754    0.130511\n",
            "Name: f, dtype: float64\n"
          ]
        },
        {
          "output_type": "stream",
          "name": "stderr",
          "text": [
            "\r 78%|███████▊  | 627/800 [23:40<07:10,  2.49s/it]"
          ]
        },
        {
          "output_type": "stream",
          "name": "stdout",
          "text": [
            "Step: 628 \t Time: 1467.761255979538\n",
            "Shift: 0.14694619216918947\n",
            "Current State: 755    0.091762\n",
            "Name: f, dtype: float64\n"
          ]
        },
        {
          "output_type": "stream",
          "name": "stderr",
          "text": [
            "\r 78%|███████▊  | 628/800 [23:42<06:50,  2.39s/it]"
          ]
        },
        {
          "output_type": "stream",
          "name": "stdout",
          "text": [
            "Step: 629 \t Time: 1469.9110074043274\n",
            "Shift: 0.14708869864940644\n",
            "Current State: 756    0.083817\n",
            "Name: f, dtype: float64\n"
          ]
        },
        {
          "output_type": "stream",
          "name": "stderr",
          "text": [
            "\r 79%|███████▊  | 629/800 [23:43<05:57,  2.09s/it]"
          ]
        },
        {
          "output_type": "stream",
          "name": "stdout",
          "text": [
            "Step: 630 \t Time: 1471.313755273819\n",
            "Shift: 0.14724146065711977\n",
            "Current State: 757    0.10335\n",
            "Name: f, dtype: float64\n"
          ]
        },
        {
          "output_type": "stream",
          "name": "stderr",
          "text": [
            "\r 79%|███████▉  | 630/800 [23:45<05:28,  1.93s/it]"
          ]
        },
        {
          "output_type": "stream",
          "name": "stdout",
          "text": [
            "Step: 631 \t Time: 1472.8645112514496\n",
            "Shift: 0.14744675676822663\n",
            "Current State: 758    0.106748\n",
            "Name: f, dtype: float64\n"
          ]
        },
        {
          "output_type": "stream",
          "name": "stderr",
          "text": [
            "\r 79%|███████▉  | 631/800 [23:47<05:32,  1.97s/it]"
          ]
        },
        {
          "output_type": "stream",
          "name": "stdout",
          "text": [
            "Step: 632 \t Time: 1474.912250995636\n",
            "Shift: 0.14777318065166475\n",
            "Current State: 759    0.047427\n",
            "Name: f, dtype: float64\n"
          ]
        },
        {
          "output_type": "stream",
          "name": "stderr",
          "text": [
            "\r 79%|███████▉  | 632/800 [23:51<06:43,  2.40s/it]"
          ]
        },
        {
          "output_type": "stream",
          "name": "stdout",
          "text": [
            "Step: 633 \t Time: 1478.3326704502106\n",
            "Shift: 0.1479400379419327\n",
            "Current State: 760    0.681236\n",
            "Name: f, dtype: float64\n"
          ]
        },
        {
          "output_type": "stream",
          "name": "stderr",
          "text": [
            "\r 79%|███████▉  | 633/800 [23:52<05:55,  2.13s/it]"
          ]
        },
        {
          "output_type": "stream",
          "name": "stdout",
          "text": [
            "Step: 634 \t Time: 1479.830332994461\n",
            "Shift: 0.14817277185916902\n",
            "Current State: 761    0.455427\n",
            "Name: f, dtype: float64\n"
          ]
        },
        {
          "output_type": "stream",
          "name": "stderr",
          "text": [
            "\r 79%|███████▉  | 634/800 [23:54<06:04,  2.19s/it]"
          ]
        },
        {
          "output_type": "stream",
          "name": "stdout",
          "text": [
            "Step: 635 \t Time: 1482.1727242469788\n",
            "Shift: 0.14861039106845855\n",
            "Current State: 762    0.145238\n",
            "Name: f, dtype: float64\n"
          ]
        },
        {
          "output_type": "stream",
          "name": "stderr",
          "text": [
            "\r 79%|███████▉  | 635/800 [23:59<07:49,  2.84s/it]"
          ]
        },
        {
          "output_type": "stream",
          "name": "stdout",
          "text": [
            "Step: 636 \t Time: 1486.5327303409576\n",
            "Shift: 0.14871790852546693\n",
            "Current State: 763    4.82744\n",
            "Name: f, dtype: float64\n"
          ]
        },
        {
          "output_type": "stream",
          "name": "stderr",
          "text": [
            "\r 80%|███████▉  | 636/800 [24:00<06:20,  2.32s/it]"
          ]
        },
        {
          "output_type": "stream",
          "name": "stdout",
          "text": [
            "Step: 637 \t Time: 1487.623966217041\n",
            "Shift: 0.14896609899997712\n",
            "Current State: 764    0.046602\n",
            "Name: f, dtype: float64\n"
          ]
        },
        {
          "output_type": "stream",
          "name": "stderr",
          "text": [
            "\r 80%|███████▉  | 637/800 [24:02<06:30,  2.40s/it]"
          ]
        },
        {
          "output_type": "stream",
          "name": "stdout",
          "text": [
            "Step: 638 \t Time: 1490.2046358585358\n",
            "Shift: 0.14931213428974152\n",
            "Current State: 765    0.091479\n",
            "Name: f, dtype: float64\n"
          ]
        },
        {
          "output_type": "stream",
          "name": "stderr",
          "text": [
            "\r 80%|███████▉  | 638/800 [24:06<07:14,  2.68s/it]"
          ]
        },
        {
          "output_type": "stream",
          "name": "stdout",
          "text": [
            "Step: 639 \t Time: 1493.5485622882843\n",
            "Shift: 0.14958558175563813\n",
            "Current State: 766    0.107063\n",
            "Name: f, dtype: float64\n"
          ]
        },
        {
          "output_type": "stream",
          "name": "stderr",
          "text": [
            "\r 80%|███████▉  | 639/800 [24:08<07:14,  2.70s/it]"
          ]
        },
        {
          "output_type": "stream",
          "name": "stdout",
          "text": [
            "Step: 640 \t Time: 1496.2794365882874\n",
            "Shift: 0.14983133165836335\n",
            "Current State: 767    0.163016\n",
            "Name: f, dtype: float64\n"
          ]
        },
        {
          "output_type": "stream",
          "name": "stderr",
          "text": [
            "\r 80%|████████  | 640/800 [24:11<07:00,  2.63s/it]"
          ]
        },
        {
          "output_type": "stream",
          "name": "stdout",
          "text": [
            "Step: 641 \t Time: 1498.744220495224\n",
            "Shift: 0.15008773231506348\n",
            "Current State: 768    0.169024\n",
            "Name: f, dtype: float64\n"
          ]
        },
        {
          "output_type": "stream",
          "name": "stderr",
          "text": [
            "\r 80%|████████  | 641/800 [24:14<06:58,  2.64s/it]"
          ]
        },
        {
          "output_type": "stream",
          "name": "stdout",
          "text": [
            "Step: 642 \t Time: 1501.3994743824005\n",
            "Shift: 0.15041019608974457\n",
            "Current State: 769    0.168879\n",
            "Name: f, dtype: float64\n"
          ]
        },
        {
          "output_type": "stream",
          "name": "stderr",
          "text": [
            "\r 80%|████████  | 642/800 [24:17<07:19,  2.78s/it]"
          ]
        },
        {
          "output_type": "stream",
          "name": "stdout",
          "text": [
            "Step: 643 \t Time: 1504.5251021385193\n",
            "Shift: 0.15073454468250275\n",
            "Current State: 770    0.165121\n",
            "Name: f, dtype: float64\n"
          ]
        },
        {
          "output_type": "stream",
          "name": "stderr",
          "text": [
            "\r 80%|████████  | 643/800 [24:20<07:38,  2.92s/it]"
          ]
        },
        {
          "output_type": "stream",
          "name": "stdout",
          "text": [
            "Step: 644 \t Time: 1507.768076658249\n",
            "Shift: 0.15092025775909423\n",
            "Current State: 771    0.200844\n",
            "Name: f, dtype: float64\n"
          ]
        },
        {
          "output_type": "stream",
          "name": "stderr",
          "text": [
            "\r 80%|████████  | 644/800 [24:22<06:46,  2.61s/it]"
          ]
        },
        {
          "output_type": "stream",
          "name": "stdout",
          "text": [
            "Step: 645 \t Time: 1509.637822151184\n",
            "Shift: 0.15124423277378082\n",
            "Current State: 772    0.20755\n",
            "Name: f, dtype: float64\n"
          ]
        },
        {
          "output_type": "stream",
          "name": "stderr",
          "text": [
            "\r 81%|████████  | 645/800 [24:25<07:13,  2.79s/it]"
          ]
        },
        {
          "output_type": "stream",
          "name": "stdout",
          "text": [
            "Step: 646 \t Time: 1512.8727238178253\n",
            "Shift: 0.15149386479854585\n",
            "Current State: 773    0.27411\n",
            "Name: f, dtype: float64\n"
          ]
        },
        {
          "output_type": "stream",
          "name": "stderr",
          "text": [
            "\r 81%|████████  | 646/800 [24:28<07:03,  2.75s/it]"
          ]
        },
        {
          "output_type": "stream",
          "name": "stdout",
          "text": [
            "Step: 647 \t Time: 1515.5103652477264\n",
            "Shift: 0.15177354578971863\n",
            "Current State: 774    0.200469\n",
            "Name: f, dtype: float64\n"
          ]
        },
        {
          "output_type": "stream",
          "name": "stderr",
          "text": [
            "\r 81%|████████  | 647/800 [24:30<06:55,  2.72s/it]"
          ]
        },
        {
          "output_type": "stream",
          "name": "stdout",
          "text": [
            "Step: 648 \t Time: 1518.159372806549\n",
            "Shift: 0.15203854784965515\n",
            "Current State: 775    0.270137\n",
            "Name: f, dtype: float64\n"
          ]
        },
        {
          "output_type": "stream",
          "name": "stderr",
          "text": [
            "\r 81%|████████  | 648/800 [24:33<06:50,  2.70s/it]"
          ]
        },
        {
          "output_type": "stream",
          "name": "stdout",
          "text": [
            "Step: 649 \t Time: 1520.8290555477142\n",
            "Shift: 0.15237547059059145\n",
            "Current State: 776    0.315687\n",
            "Name: f, dtype: float64\n"
          ]
        },
        {
          "output_type": "stream",
          "name": "stderr",
          "text": [
            "\r 81%|████████  | 649/800 [24:36<07:17,  2.90s/it]"
          ]
        },
        {
          "output_type": "stream",
          "name": "stdout",
          "text": [
            "Step: 650 \t Time: 1524.180739402771\n",
            "Shift: 0.15275112235546112\n",
            "Current State: 777    0.274195\n",
            "Name: f, dtype: float64\n"
          ]
        },
        {
          "output_type": "stream",
          "name": "stderr",
          "text": [
            "\r 81%|████████▏ | 650/800 [24:40<07:58,  3.19s/it]"
          ]
        },
        {
          "output_type": "stream",
          "name": "stdout",
          "text": [
            "Step: 651 \t Time: 1528.0492868423462\n",
            "Shift: 0.15310389995574952\n",
            "Current State: 778    0.284795\n",
            "Name: f, dtype: float64\n"
          ]
        },
        {
          "output_type": "stream",
          "name": "stderr",
          "text": [
            "\r 81%|████████▏ | 651/800 [24:44<08:05,  3.26s/it]"
          ]
        },
        {
          "output_type": "stream",
          "name": "stdout",
          "text": [
            "Step: 652 \t Time: 1531.4667637348175\n",
            "Shift: 0.1532843454360962\n",
            "Current State: 779    0.377453\n",
            "Name: f, dtype: float64\n"
          ]
        },
        {
          "output_type": "stream",
          "name": "stderr",
          "text": [
            "\r 82%|████████▏ | 652/800 [24:45<06:57,  2.82s/it]"
          ]
        },
        {
          "output_type": "stream",
          "name": "stdout",
          "text": [
            "Step: 653 \t Time: 1533.2734315395355\n",
            "Shift: 0.153532754778862\n",
            "Current State: 780    0.290675\n",
            "Name: f, dtype: float64\n"
          ]
        },
        {
          "output_type": "stream",
          "name": "stderr",
          "text": [
            "\r 82%|████████▏ | 653/800 [24:48<06:39,  2.72s/it]"
          ]
        },
        {
          "output_type": "stream",
          "name": "stdout",
          "text": [
            "Step: 654 \t Time: 1535.754248380661\n",
            "Shift: 0.15372044389247896\n",
            "Current State: 781    0.263418\n",
            "Name: f, dtype: float64\n"
          ]
        },
        {
          "output_type": "stream",
          "name": "stderr",
          "text": [
            "\r 82%|████████▏ | 654/800 [24:50<06:20,  2.61s/it]"
          ]
        },
        {
          "output_type": "stream",
          "name": "stdout",
          "text": [
            "Step: 655 \t Time: 1538.1029138565063\n",
            "Shift: 0.15398787796497346\n",
            "Current State: 782    0.18849\n",
            "Name: f, dtype: float64\n"
          ]
        },
        {
          "output_type": "stream",
          "name": "stderr",
          "text": [
            "\r 82%|████████▏ | 655/800 [24:53<06:08,  2.54s/it]"
          ]
        },
        {
          "output_type": "stream",
          "name": "stdout",
          "text": [
            "Step: 656 \t Time: 1540.480745792389\n",
            "Shift: 0.15436780676841735\n",
            "Current State: 783    0.34298\n",
            "Name: f, dtype: float64\n"
          ]
        },
        {
          "output_type": "stream",
          "name": "stderr",
          "text": [
            "\r 82%|████████▏ | 656/800 [24:56<06:52,  2.86s/it]"
          ]
        },
        {
          "output_type": "stream",
          "name": "stdout",
          "text": [
            "Step: 657 \t Time: 1544.1002960205078\n",
            "Shift: 0.15466684105396272\n",
            "Current State: 784    0.209914\n",
            "Name: f, dtype: float64\n"
          ]
        },
        {
          "output_type": "stream",
          "name": "stderr",
          "text": [
            "\r 82%|████████▏ | 657/800 [24:59<06:54,  2.90s/it]"
          ]
        },
        {
          "output_type": "stream",
          "name": "stdout",
          "text": [
            "Step: 658 \t Time: 1547.0878653526306\n",
            "Shift: 0.15498513715267181\n",
            "Current State: 785    0.194758\n",
            "Name: f, dtype: float64\n"
          ]
        },
        {
          "output_type": "stream",
          "name": "stderr",
          "text": [
            "\r 82%|████████▏ | 658/800 [25:02<07:04,  2.99s/it]"
          ]
        },
        {
          "output_type": "stream",
          "name": "stdout",
          "text": [
            "Step: 659 \t Time: 1550.2748594284058\n",
            "Shift: 0.15534961211681367\n",
            "Current State: 786    0.181976\n",
            "Name: f, dtype: float64\n"
          ]
        },
        {
          "output_type": "stream",
          "name": "stderr",
          "text": [
            "\r 82%|████████▏ | 659/800 [25:06<07:36,  3.24s/it]"
          ]
        },
        {
          "output_type": "stream",
          "name": "stdout",
          "text": [
            "Step: 660 \t Time: 1554.0934145450592\n",
            "Shift: 0.15573189449310304\n",
            "Current State: 787    0.1762\n",
            "Name: f, dtype: float64\n"
          ]
        },
        {
          "output_type": "stream",
          "name": "stderr",
          "text": [
            "\r 82%|████████▎ | 660/800 [25:10<07:50,  3.36s/it]"
          ]
        },
        {
          "output_type": "stream",
          "name": "stdout",
          "text": [
            "Step: 661 \t Time: 1557.7396266460419\n",
            "Shift: 0.1559346614599228\n",
            "Current State: 788    0.205701\n",
            "Name: f, dtype: float64\n"
          ]
        },
        {
          "output_type": "stream",
          "name": "stderr",
          "text": [
            "\r 83%|████████▎ | 661/800 [25:12<06:51,  2.96s/it]"
          ]
        },
        {
          "output_type": "stream",
          "name": "stdout",
          "text": [
            "Step: 662 \t Time: 1559.7639441490173\n",
            "Shift: 0.15616166372299195\n",
            "Current State: 789    0.15894\n",
            "Name: f, dtype: float64\n"
          ]
        },
        {
          "output_type": "stream",
          "name": "stderr",
          "text": [
            "\r 83%|████████▎ | 662/800 [25:14<06:20,  2.76s/it]"
          ]
        },
        {
          "output_type": "stream",
          "name": "stdout",
          "text": [
            "Step: 663 \t Time: 1562.0545327663422\n",
            "Shift: 0.15652112185955047\n",
            "Current State: 790    0.136194\n",
            "Name: f, dtype: float64\n"
          ]
        },
        {
          "output_type": "stream",
          "name": "stderr",
          "text": [
            "\r 83%|████████▎ | 663/800 [25:18<06:58,  3.06s/it]"
          ]
        },
        {
          "output_type": "stream",
          "name": "stdout",
          "text": [
            "Step: 664 \t Time: 1565.8029742240906\n",
            "Shift: 0.15686288948059082\n",
            "Current State: 791    0.149633\n",
            "Name: f, dtype: float64\n"
          ]
        },
        {
          "output_type": "stream",
          "name": "stderr",
          "text": [
            "\r 83%|████████▎ | 664/800 [25:21<07:03,  3.11s/it]"
          ]
        },
        {
          "output_type": "stream",
          "name": "stdout",
          "text": [
            "Step: 665 \t Time: 1569.0463466644287\n",
            "Shift: 0.15708172857761385\n",
            "Current State: 792    0.097256\n",
            "Name: f, dtype: float64\n"
          ]
        },
        {
          "output_type": "stream",
          "name": "stderr",
          "text": [
            "\r 83%|████████▎ | 665/800 [25:23<06:23,  2.84s/it]"
          ]
        },
        {
          "output_type": "stream",
          "name": "stdout",
          "text": [
            "Step: 666 \t Time: 1571.2472534179688\n",
            "Shift: 0.15730226001739503\n",
            "Current State: 793    0.154498\n",
            "Name: f, dtype: float64\n"
          ]
        },
        {
          "output_type": "stream",
          "name": "stderr",
          "text": [
            "\r 83%|████████▎ | 666/800 [25:26<05:54,  2.65s/it]"
          ]
        },
        {
          "output_type": "stream",
          "name": "stdout",
          "text": [
            "Step: 667 \t Time: 1573.443553686142\n",
            "Shift: 0.15760673868656158\n",
            "Current State: 794    0.132083\n",
            "Name: f, dtype: float64\n"
          ]
        },
        {
          "output_type": "stream",
          "name": "stderr",
          "text": [
            "\r 83%|████████▎ | 667/800 [25:29<06:07,  2.76s/it]"
          ]
        },
        {
          "output_type": "stream",
          "name": "stdout",
          "text": [
            "Step: 668 \t Time: 1576.4858059883118\n",
            "Shift: 0.15800581724643709\n",
            "Current State: 795    0.130237\n",
            "Name: f, dtype: float64\n"
          ]
        },
        {
          "output_type": "stream",
          "name": "stderr",
          "text": [
            "\r 84%|████████▎ | 668/800 [25:33<06:53,  3.13s/it]"
          ]
        },
        {
          "output_type": "stream",
          "name": "stdout",
          "text": [
            "Step: 669 \t Time: 1580.4815022945404\n",
            "Shift: 0.15822982585430145\n",
            "Current State: 796    0.206195\n",
            "Name: f, dtype: float64\n"
          ]
        },
        {
          "output_type": "stream",
          "name": "stderr",
          "text": [
            "\r 84%|████████▎ | 669/800 [25:35<06:15,  2.87s/it]"
          ]
        },
        {
          "output_type": "stream",
          "name": "stdout",
          "text": [
            "Step: 670 \t Time: 1582.7240903377533\n",
            "Shift: 0.15842048780918122\n",
            "Current State: 797    0.107839\n",
            "Name: f, dtype: float64\n"
          ]
        },
        {
          "output_type": "stream",
          "name": "stderr",
          "text": [
            "\r 84%|████████▍ | 670/800 [25:37<05:35,  2.58s/it]"
          ]
        },
        {
          "output_type": "stream",
          "name": "stdout",
          "text": [
            "Step: 671 \t Time: 1584.6363179683685\n",
            "Shift: 0.1587226852655411\n",
            "Current State: 798    0.327463\n",
            "Name: f, dtype: float64\n"
          ]
        },
        {
          "output_type": "stream",
          "name": "stderr",
          "text": [
            "\r 84%|████████▍ | 671/800 [25:40<05:49,  2.71s/it]"
          ]
        },
        {
          "output_type": "stream",
          "name": "stdout",
          "text": [
            "Step: 672 \t Time: 1587.6498296260834\n",
            "Shift: 0.15909775454998018\n",
            "Current State: 799    0.139188\n",
            "Name: f, dtype: float64\n"
          ]
        },
        {
          "output_type": "stream",
          "name": "stderr",
          "text": [
            "\r 84%|████████▍ | 672/800 [25:44<06:35,  3.09s/it]"
          ]
        },
        {
          "output_type": "stream",
          "name": "stdout",
          "text": [
            "Step: 673 \t Time: 1591.618173122406\n",
            "Shift: 0.1593508943796158\n",
            "Current State: 800    0.17382\n",
            "Name: f, dtype: float64\n"
          ]
        },
        {
          "output_type": "stream",
          "name": "stderr",
          "text": [
            "\r 84%|████████▍ | 673/800 [25:46<06:02,  2.86s/it]"
          ]
        },
        {
          "output_type": "stream",
          "name": "stdout",
          "text": [
            "Step: 674 \t Time: 1593.931496143341\n",
            "Shift: 0.15962572600841524\n",
            "Current State: 801    0.168316\n",
            "Name: f, dtype: float64\n"
          ]
        },
        {
          "output_type": "stream",
          "name": "stderr",
          "text": [
            "\r 84%|████████▍ | 674/800 [25:49<05:56,  2.83s/it]"
          ]
        },
        {
          "output_type": "stream",
          "name": "stdout",
          "text": [
            "Step: 675 \t Time: 1596.697482585907\n",
            "Shift: 0.1599137481212616\n",
            "Current State: 802    0.169932\n",
            "Name: f, dtype: float64\n"
          ]
        },
        {
          "output_type": "stream",
          "name": "stderr",
          "text": [
            "\r 84%|████████▍ | 675/800 [25:52<05:54,  2.84s/it]"
          ]
        },
        {
          "output_type": "stream",
          "name": "stdout",
          "text": [
            "Step: 676 \t Time: 1599.5644035339355\n",
            "Shift: 0.16021070230007173\n",
            "Current State: 803    0.169333\n",
            "Name: f, dtype: float64\n"
          ]
        },
        {
          "output_type": "stream",
          "name": "stderr",
          "text": [
            "\r 84%|████████▍ | 676/800 [25:55<06:04,  2.94s/it]"
          ]
        },
        {
          "output_type": "stream",
          "name": "stdout",
          "text": [
            "Step: 677 \t Time: 1602.7316327095032\n",
            "Shift: 0.16056570603847503\n",
            "Current State: 804    0.165236\n",
            "Name: f, dtype: float64\n"
          ]
        },
        {
          "output_type": "stream",
          "name": "stderr",
          "text": [
            "\r 85%|████████▍ | 677/800 [25:58<06:16,  3.06s/it]"
          ]
        },
        {
          "output_type": "stream",
          "name": "stdout",
          "text": [
            "Step: 678 \t Time: 1606.082543373108\n",
            "Shift: 0.16084359035491944\n",
            "Current State: 805    0.203924\n",
            "Name: f, dtype: float64\n"
          ]
        },
        {
          "output_type": "stream",
          "name": "stderr",
          "text": [
            "\r 85%|████████▍ | 678/800 [26:01<06:03,  2.98s/it]"
          ]
        },
        {
          "output_type": "stream",
          "name": "stdout",
          "text": [
            "Step: 679 \t Time: 1608.86155295372\n",
            "Shift: 0.1611475233078003\n",
            "Current State: 806    0.279849\n",
            "Name: f, dtype: float64\n"
          ]
        },
        {
          "output_type": "stream",
          "name": "stderr",
          "text": [
            "\r 85%|████████▍ | 679/800 [26:04<06:02,  2.99s/it]"
          ]
        },
        {
          "output_type": "stream",
          "name": "stdout",
          "text": [
            "Step: 680 \t Time: 1611.897662639618\n",
            "Shift: 0.1613941639661789\n",
            "Current State: 807    0.188624\n",
            "Name: f, dtype: float64\n"
          ]
        },
        {
          "output_type": "stream",
          "name": "stderr",
          "text": [
            "\r 85%|████████▌ | 680/800 [26:07<05:41,  2.84s/it]"
          ]
        },
        {
          "output_type": "stream",
          "name": "stdout",
          "text": [
            "Step: 681 \t Time: 1614.3892316818237\n",
            "Shift: 0.1617924350976944\n",
            "Current State: 808    0.110421\n",
            "Name: f, dtype: float64\n"
          ]
        },
        {
          "output_type": "stream",
          "name": "stderr",
          "text": [
            "\r 85%|████████▌ | 681/800 [26:11<06:19,  3.19s/it]"
          ]
        },
        {
          "output_type": "stream",
          "name": "stdout",
          "text": [
            "Step: 682 \t Time: 1618.3770167827606\n",
            "Shift: 0.16215618419647218\n",
            "Current State: 809    0.195883\n",
            "Name: f, dtype: float64\n"
          ]
        },
        {
          "output_type": "stream",
          "name": "stderr",
          "text": [
            "\r 85%|████████▌ | 682/800 [26:14<06:31,  3.32s/it]"
          ]
        },
        {
          "output_type": "stream",
          "name": "stdout",
          "text": [
            "Step: 683 \t Time: 1621.9948461055756\n",
            "Shift: 0.16235656192302705\n",
            "Current State: 810    0.066478\n",
            "Name: f, dtype: float64\n"
          ]
        },
        {
          "output_type": "stream",
          "name": "stderr",
          "text": [
            "\r 85%|████████▌ | 683/800 [26:16<05:41,  2.92s/it]"
          ]
        },
        {
          "output_type": "stream",
          "name": "stdout",
          "text": [
            "Step: 684 \t Time: 1623.9860081672668\n",
            "Shift: 0.16259969255924225\n",
            "Current State: 811    0.026748\n",
            "Name: f, dtype: float64\n"
          ]
        },
        {
          "output_type": "stream",
          "name": "stderr",
          "text": [
            "\r 86%|████████▌ | 684/800 [26:19<05:21,  2.78s/it]"
          ]
        },
        {
          "output_type": "stream",
          "name": "stdout",
          "text": [
            "Step: 685 \t Time: 1626.4265563488007\n",
            "Shift: 0.16297448070049286\n",
            "Current State: 812    0.163101\n",
            "Name: f, dtype: float64\n"
          ]
        },
        {
          "output_type": "stream",
          "name": "stderr",
          "text": [
            "\r 86%|████████▌ | 685/800 [26:22<05:52,  3.07s/it]"
          ]
        },
        {
          "output_type": "stream",
          "name": "stdout",
          "text": [
            "Step: 686 \t Time: 1630.1754298210144\n",
            "Shift: 0.16333258957862853\n",
            "Current State: 813    0.033995\n",
            "Name: f, dtype: float64\n"
          ]
        },
        {
          "output_type": "stream",
          "name": "stderr",
          "text": [
            "\r 86%|████████▌ | 686/800 [26:26<06:07,  3.22s/it]"
          ]
        },
        {
          "output_type": "stream",
          "name": "stdout",
          "text": [
            "Step: 687 \t Time: 1633.7578871250153\n",
            "Shift: 0.16370143492221834\n",
            "Current State: 814    0.142991\n",
            "Name: f, dtype: float64\n"
          ]
        },
        {
          "output_type": "stream",
          "name": "stderr",
          "text": [
            "\r 86%|████████▌ | 687/800 [26:30<06:19,  3.36s/it]"
          ]
        },
        {
          "output_type": "stream",
          "name": "stdout",
          "text": [
            "Step: 688 \t Time: 1637.4422912597656\n",
            "Shift: 0.16396509909629822\n",
            "Current State: 815    0.081687\n",
            "Name: f, dtype: float64\n"
          ]
        },
        {
          "output_type": "stream",
          "name": "stderr",
          "text": [
            "\r 86%|████████▌ | 688/800 [26:32<05:56,  3.18s/it]"
          ]
        },
        {
          "output_type": "stream",
          "name": "stdout",
          "text": [
            "Step: 689 \t Time: 1640.2138242721558\n",
            "Shift: 0.16443841509819032\n",
            "Current State: 816    0.134172\n",
            "Name: f, dtype: float64\n"
          ]
        },
        {
          "output_type": "stream",
          "name": "stderr",
          "text": [
            "\r 86%|████████▌ | 689/800 [26:37<06:40,  3.61s/it]"
          ]
        },
        {
          "output_type": "stream",
          "name": "stdout",
          "text": [
            "Step: 690 \t Time: 1644.8081395626068\n",
            "Shift: 0.1647493947029114\n",
            "Current State: 817    0.140345\n",
            "Name: f, dtype: float64\n"
          ]
        },
        {
          "output_type": "stream",
          "name": "stderr",
          "text": [
            "\r 86%|████████▋ | 690/800 [26:40<06:20,  3.46s/it]"
          ]
        },
        {
          "output_type": "stream",
          "name": "stdout",
          "text": [
            "Step: 691 \t Time: 1647.9285583496094\n",
            "Shift: 0.164969326543808\n",
            "Current State: 818    0.130963\n",
            "Name: f, dtype: float64\n"
          ]
        },
        {
          "output_type": "stream",
          "name": "stderr",
          "text": [
            "\r 86%|████████▋ | 691/800 [26:42<05:35,  3.08s/it]"
          ]
        },
        {
          "output_type": "stream",
          "name": "stdout",
          "text": [
            "Step: 692 \t Time: 1650.1139795780182\n",
            "Shift: 0.1653267335176468\n",
            "Current State: 819    0.193813\n",
            "Name: f, dtype: float64\n"
          ]
        },
        {
          "output_type": "stream",
          "name": "stderr",
          "text": [
            "\r 86%|████████▋ | 692/800 [26:46<05:54,  3.28s/it]"
          ]
        },
        {
          "output_type": "stream",
          "name": "stdout",
          "text": [
            "Step: 693 \t Time: 1653.8803181648254\n",
            "Shift: 0.16544518895149232\n",
            "Current State: 820    6.431602\n",
            "Name: f, dtype: float64\n"
          ]
        },
        {
          "output_type": "stream",
          "name": "stderr",
          "text": [
            "\r 87%|████████▋ | 693/800 [26:47<04:38,  2.60s/it]"
          ]
        },
        {
          "output_type": "stream",
          "name": "stdout",
          "text": [
            "Step: 694 \t Time: 1654.8961169719696\n",
            "Shift: 0.1655647282600403\n",
            "Current State: 821    0.12083\n",
            "Name: f, dtype: float64\n"
          ]
        },
        {
          "output_type": "stream",
          "name": "stderr",
          "text": [
            "\r 87%|████████▋ | 694/800 [26:48<03:50,  2.18s/it]"
          ]
        },
        {
          "output_type": "stream",
          "name": "stdout",
          "text": [
            "Step: 695 \t Time: 1656.0718350410461\n",
            "Shift: 0.1656433614253998\n",
            "Current State: 822    4.579222\n",
            "Name: f, dtype: float64\n"
          ]
        },
        {
          "output_type": "stream",
          "name": "stderr",
          "text": [
            "\r 87%|████████▋ | 695/800 [26:49<03:04,  1.76s/it]"
          ]
        },
        {
          "output_type": "stream",
          "name": "stdout",
          "text": [
            "Step: 696 \t Time: 1656.866277217865\n",
            "Shift: 0.16575394437313082\n",
            "Current State: 823    0.111862\n",
            "Name: f, dtype: float64\n"
          ]
        },
        {
          "output_type": "stream",
          "name": "stderr",
          "text": [
            "\r 87%|████████▋ | 696/800 [26:50<02:42,  1.56s/it]"
          ]
        },
        {
          "output_type": "stream",
          "name": "stdout",
          "text": [
            "Step: 697 \t Time: 1657.9717376232147\n",
            "Shift: 0.1658364872932434\n",
            "Current State: 824    17.989727\n",
            "Name: f, dtype: float64\n"
          ]
        },
        {
          "output_type": "stream",
          "name": "stderr",
          "text": [
            "\r 87%|████████▋ | 697/800 [26:51<02:18,  1.35s/it]"
          ]
        },
        {
          "output_type": "stream",
          "name": "stdout",
          "text": [
            "Step: 698 \t Time: 1658.8122386932373\n",
            "Shift: 0.1661156046628952\n",
            "Current State: 825    0.165255\n",
            "Name: f, dtype: float64\n"
          ]
        },
        {
          "output_type": "stream",
          "name": "stderr",
          "text": [
            "\r 87%|████████▋ | 698/800 [26:54<03:00,  1.77s/it]"
          ]
        },
        {
          "output_type": "stream",
          "name": "stdout",
          "text": [
            "Step: 699 \t Time: 1661.5766422748566\n",
            "Shift: 0.16649684002399445\n",
            "Current State: 826    0.095053\n",
            "Name: f, dtype: float64\n"
          ]
        },
        {
          "output_type": "stream",
          "name": "stderr",
          "text": [
            "\r 87%|████████▋ | 699/800 [26:58<04:03,  2.41s/it]"
          ]
        },
        {
          "output_type": "stream",
          "name": "stdout",
          "text": [
            "Step: 700 \t Time: 1665.4884052276611\n",
            "Shift: 0.1666440029859543\n",
            "Current State: 827    4.57588\n",
            "Name: f, dtype: float64\n"
          ]
        },
        {
          "output_type": "stream",
          "name": "stderr",
          "text": [
            "\r 88%|████████▊ | 700/800 [26:59<03:33,  2.14s/it]"
          ]
        },
        {
          "output_type": "stream",
          "name": "stdout",
          "text": [
            "Step: 701 \t Time: 1666.974752664566\n",
            "Shift: 0.16678651320934296\n",
            "Current State: 828    0.290384\n",
            "Name: f, dtype: float64\n"
          ]
        },
        {
          "output_type": "stream",
          "name": "stderr",
          "text": [
            "\r 88%|████████▊ | 701/800 [27:00<03:07,  1.89s/it]"
          ]
        },
        {
          "output_type": "stream",
          "name": "stdout",
          "text": [
            "Step: 702 \t Time: 1668.2920982837677\n",
            "Shift: 0.16714431960582735\n",
            "Current State: 829    0.155104\n",
            "Name: f, dtype: float64\n"
          ]
        },
        {
          "output_type": "stream",
          "name": "stderr",
          "text": [
            "\r 88%|████████▊ | 702/800 [27:04<03:54,  2.40s/it]"
          ]
        },
        {
          "output_type": "stream",
          "name": "stdout",
          "text": [
            "Step: 703 \t Time: 1671.8675940036774\n",
            "Shift: 0.16747845566272737\n",
            "Current State: 830    0.161898\n",
            "Name: f, dtype: float64\n"
          ]
        },
        {
          "output_type": "stream",
          "name": "stderr",
          "text": [
            "\r 88%|████████▊ | 703/800 [27:07<04:19,  2.68s/it]"
          ]
        },
        {
          "output_type": "stream",
          "name": "stdout",
          "text": [
            "Step: 704 \t Time: 1675.2058458328247\n",
            "Shift: 0.1676781246185303\n",
            "Current State: 831    0.171836\n",
            "Name: f, dtype: float64\n"
          ]
        },
        {
          "output_type": "stream",
          "name": "stderr",
          "text": [
            "\r 88%|████████▊ | 704/800 [27:09<03:59,  2.49s/it]"
          ]
        },
        {
          "output_type": "stream",
          "name": "stdout",
          "text": [
            "Step: 705 \t Time: 1677.269537448883\n",
            "Shift: 0.16799900264739992\n",
            "Current State: 832    0.167696\n",
            "Name: f, dtype: float64\n"
          ]
        },
        {
          "output_type": "stream",
          "name": "stderr",
          "text": [
            "\r 88%|████████▊ | 705/800 [27:13<04:15,  2.69s/it]"
          ]
        },
        {
          "output_type": "stream",
          "name": "stdout",
          "text": [
            "Step: 706 \t Time: 1680.4115762710571\n",
            "Shift: 0.1684061632871628\n",
            "Current State: 833    0.230426\n",
            "Name: f, dtype: float64\n"
          ]
        },
        {
          "output_type": "stream",
          "name": "stderr",
          "text": [
            "\r 88%|████████▊ | 706/800 [27:17<04:51,  3.11s/it]"
          ]
        },
        {
          "output_type": "stream",
          "name": "stdout",
          "text": [
            "Step: 707 \t Time: 1684.489211320877\n",
            "Shift: 0.1686161366224289\n",
            "Current State: 834    0.205345\n",
            "Name: f, dtype: float64\n"
          ]
        },
        {
          "output_type": "stream",
          "name": "stderr",
          "text": [
            "\r 88%|████████▊ | 707/800 [27:19<04:20,  2.80s/it]"
          ]
        },
        {
          "output_type": "stream",
          "name": "stdout",
          "text": [
            "Step: 708 \t Time: 1686.5798103809357\n",
            "Shift: 0.1688012101650238\n",
            "Current State: 835    0.200512\n",
            "Name: f, dtype: float64\n"
          ]
        },
        {
          "output_type": "stream",
          "name": "stderr",
          "text": [
            "\r 88%|████████▊ | 708/800 [27:21<03:51,  2.52s/it]"
          ]
        },
        {
          "output_type": "stream",
          "name": "stdout",
          "text": [
            "Step: 709 \t Time: 1688.4344182014465\n",
            "Shift: 0.1689785153388977\n",
            "Current State: 836    0.189961\n",
            "Name: f, dtype: float64\n"
          ]
        },
        {
          "output_type": "stream",
          "name": "stderr",
          "text": [
            "\r 89%|████████▊ | 709/800 [27:23<03:34,  2.36s/it]"
          ]
        },
        {
          "output_type": "stream",
          "name": "stdout",
          "text": [
            "Step: 710 \t Time: 1690.4354252815247\n",
            "Shift: 0.16919412121772767\n",
            "Current State: 837    4.511057\n",
            "Name: f, dtype: float64\n"
          ]
        },
        {
          "output_type": "stream",
          "name": "stderr",
          "text": [
            "\r 89%|████████▉ | 710/800 [27:25<03:23,  2.26s/it]"
          ]
        },
        {
          "output_type": "stream",
          "name": "stdout",
          "text": [
            "Step: 711 \t Time: 1692.4724853038788\n",
            "Shift: 0.1694836805343628\n",
            "Current State: 838    0.180988\n",
            "Name: f, dtype: float64\n"
          ]
        },
        {
          "output_type": "stream",
          "name": "stderr",
          "text": [
            "\r 89%|████████▉ | 711/800 [27:27<03:35,  2.43s/it]"
          ]
        },
        {
          "output_type": "stream",
          "name": "stdout",
          "text": [
            "Step: 712 \t Time: 1695.277292728424\n",
            "Shift: 0.16975424575805664\n",
            "Current State: 839    0.165866\n",
            "Name: f, dtype: float64\n"
          ]
        },
        {
          "output_type": "stream",
          "name": "stderr",
          "text": [
            "\r 89%|████████▉ | 712/800 [27:30<03:40,  2.50s/it]"
          ]
        },
        {
          "output_type": "stream",
          "name": "stdout",
          "text": [
            "Step: 713 \t Time: 1697.958768606186\n",
            "Shift: 0.1700969555616379\n",
            "Current State: 840    0.112589\n",
            "Name: f, dtype: float64\n"
          ]
        },
        {
          "output_type": "stream",
          "name": "stderr",
          "text": [
            "\r 89%|████████▉ | 713/800 [27:34<04:02,  2.79s/it]"
          ]
        },
        {
          "output_type": "stream",
          "name": "stdout",
          "text": [
            "Step: 714 \t Time: 1701.4049820899963\n",
            "Shift: 0.17056631021499635\n",
            "Current State: 841    0.214926\n",
            "Name: f, dtype: float64\n"
          ]
        },
        {
          "output_type": "stream",
          "name": "stderr",
          "text": [
            "\r 89%|████████▉ | 714/800 [27:38<04:48,  3.36s/it]"
          ]
        },
        {
          "output_type": "stream",
          "name": "stdout",
          "text": [
            "Step: 715 \t Time: 1706.0875635147095\n",
            "Shift: 0.17082366094589235\n",
            "Current State: 842    0.136216\n",
            "Name: f, dtype: float64\n"
          ]
        },
        {
          "output_type": "stream",
          "name": "stderr",
          "text": [
            "\r 89%|████████▉ | 715/800 [27:41<04:25,  3.12s/it]"
          ]
        },
        {
          "output_type": "stream",
          "name": "stdout",
          "text": [
            "Step: 716 \t Time: 1708.672532081604\n",
            "Shift: 0.17115045561790468\n",
            "Current State: 843    0.141222\n",
            "Name: f, dtype: float64\n"
          ]
        },
        {
          "output_type": "stream",
          "name": "stderr",
          "text": [
            "\r 90%|████████▉ | 716/800 [27:44<04:26,  3.18s/it]"
          ]
        },
        {
          "output_type": "stream",
          "name": "stdout",
          "text": [
            "Step: 717 \t Time: 1711.9760987758636\n",
            "Shift: 0.17138812692165376\n",
            "Current State: 844    0.198601\n",
            "Name: f, dtype: float64\n"
          ]
        },
        {
          "output_type": "stream",
          "name": "stderr",
          "text": [
            "\r 90%|████████▉ | 717/800 [27:46<04:02,  2.92s/it]"
          ]
        },
        {
          "output_type": "stream",
          "name": "stdout",
          "text": [
            "Step: 718 \t Time: 1714.3080625534058\n",
            "Shift: 0.17174983911514283\n",
            "Current State: 845    0.165231\n",
            "Name: f, dtype: float64\n"
          ]
        },
        {
          "output_type": "stream",
          "name": "stderr",
          "text": [
            "\r 90%|████████▉ | 718/800 [27:50<04:16,  3.13s/it]"
          ]
        },
        {
          "output_type": "stream",
          "name": "stdout",
          "text": [
            "Step: 719 \t Time: 1717.9293746948242\n",
            "Shift: 0.1720686286687851\n",
            "Current State: 846    0.196678\n",
            "Name: f, dtype: float64\n"
          ]
        },
        {
          "output_type": "stream",
          "name": "stderr",
          "text": [
            "\r 90%|████████▉ | 719/800 [27:53<04:14,  3.15s/it]"
          ]
        },
        {
          "output_type": "stream",
          "name": "stdout",
          "text": [
            "Step: 720 \t Time: 1721.110509634018\n",
            "Shift: 0.17240038387775422\n",
            "Current State: 847    0.207183\n",
            "Name: f, dtype: float64\n"
          ]
        },
        {
          "output_type": "stream",
          "name": "stderr",
          "text": [
            "\r 90%|█████████ | 720/800 [27:57<04:16,  3.20s/it]"
          ]
        },
        {
          "output_type": "stream",
          "name": "stdout",
          "text": [
            "Step: 721 \t Time: 1724.4410238265991\n",
            "Shift: 0.1726540869474411\n",
            "Current State: 848    0.203847\n",
            "Name: f, dtype: float64\n"
          ]
        },
        {
          "output_type": "stream",
          "name": "stderr",
          "text": [
            "\r 90%|█████████ | 721/800 [27:59<03:56,  3.00s/it]"
          ]
        },
        {
          "output_type": "stream",
          "name": "stdout",
          "text": [
            "Step: 722 \t Time: 1726.9626166820526\n",
            "Shift: 0.1728229324579239\n",
            "Current State: 849    0.253319\n",
            "Name: f, dtype: float64\n"
          ]
        },
        {
          "output_type": "stream",
          "name": "stderr",
          "text": [
            "\r 90%|█████████ | 722/800 [28:01<03:26,  2.65s/it]"
          ]
        },
        {
          "output_type": "stream",
          "name": "stdout",
          "text": [
            "Step: 723 \t Time: 1728.7960560321808\n",
            "Shift: 0.17307325224876405\n",
            "Current State: 850    0.266808\n",
            "Name: f, dtype: float64\n"
          ]
        },
        {
          "output_type": "stream",
          "name": "stderr",
          "text": [
            "\r 90%|█████████ | 723/800 [28:03<03:17,  2.56s/it]"
          ]
        },
        {
          "output_type": "stream",
          "name": "stdout",
          "text": [
            "Step: 724 \t Time: 1731.159518957138\n",
            "Shift: 0.17329578819274905\n",
            "Current State: 851    0.264137\n",
            "Name: f, dtype: float64\n"
          ]
        },
        {
          "output_type": "stream",
          "name": "stderr",
          "text": [
            "\r 90%|█████████ | 724/800 [28:06<03:06,  2.46s/it]"
          ]
        },
        {
          "output_type": "stream",
          "name": "stdout",
          "text": [
            "Step: 725 \t Time: 1733.3772447109222\n",
            "Shift: 0.17351921641826631\n",
            "Current State: 852    0.272879\n",
            "Name: f, dtype: float64\n"
          ]
        },
        {
          "output_type": "stream",
          "name": "stderr",
          "text": [
            "\r 91%|█████████ | 725/800 [28:08<02:59,  2.39s/it]"
          ]
        },
        {
          "output_type": "stream",
          "name": "stdout",
          "text": [
            "Step: 726 \t Time: 1735.6158430576324\n",
            "Shift: 0.1737657091140747\n",
            "Current State: 853    0.338363\n",
            "Name: f, dtype: float64\n"
          ]
        },
        {
          "output_type": "stream",
          "name": "stderr",
          "text": [
            "\r 91%|█████████ | 726/800 [28:10<02:58,  2.41s/it]"
          ]
        },
        {
          "output_type": "stream",
          "name": "stdout",
          "text": [
            "Step: 727 \t Time: 1738.078325510025\n",
            "Shift: 0.17395741274356843\n",
            "Current State: 854    0.287153\n",
            "Name: f, dtype: float64\n"
          ]
        },
        {
          "output_type": "stream",
          "name": "stderr",
          "text": [
            "\r 91%|█████████ | 727/800 [28:12<02:45,  2.27s/it]"
          ]
        },
        {
          "output_type": "stream",
          "name": "stdout",
          "text": [
            "Step: 728 \t Time: 1740.0011665821075\n",
            "Shift: 0.1742625081062317\n",
            "Current State: 855    0.343973\n",
            "Name: f, dtype: float64\n"
          ]
        },
        {
          "output_type": "stream",
          "name": "stderr",
          "text": [
            "\r 91%|█████████ | 728/800 [28:15<03:00,  2.51s/it]"
          ]
        },
        {
          "output_type": "stream",
          "name": "stdout",
          "text": [
            "Step: 729 \t Time: 1743.0704777240753\n",
            "Shift: 0.17450811190605164\n",
            "Current State: 856    0.350112\n",
            "Name: f, dtype: float64\n"
          ]
        },
        {
          "output_type": "stream",
          "name": "stderr",
          "text": [
            "\r 91%|█████████ | 729/800 [28:18<02:56,  2.48s/it]"
          ]
        },
        {
          "output_type": "stream",
          "name": "stdout",
          "text": [
            "Step: 730 \t Time: 1745.5010895729065\n",
            "Shift: 0.1747671214580536\n",
            "Current State: 857    0.326526\n",
            "Name: f, dtype: float64\n"
          ]
        },
        {
          "output_type": "stream",
          "name": "stderr",
          "text": [
            "\r 91%|█████████▏| 730/800 [28:20<02:56,  2.52s/it]"
          ]
        },
        {
          "output_type": "stream",
          "name": "stdout",
          "text": [
            "Step: 731 \t Time: 1748.113519191742\n",
            "Shift: 0.17498058886528017\n",
            "Current State: 858    0.392149\n",
            "Name: f, dtype: float64\n"
          ]
        },
        {
          "output_type": "stream",
          "name": "stderr",
          "text": [
            "\r 91%|█████████▏| 731/800 [28:22<02:45,  2.41s/it]"
          ]
        },
        {
          "output_type": "stream",
          "name": "stdout",
          "text": [
            "Step: 732 \t Time: 1750.2438595294952\n",
            "Shift: 0.17520554196834565\n",
            "Current State: 859    0.390558\n",
            "Name: f, dtype: float64\n"
          ]
        },
        {
          "output_type": "stream",
          "name": "stderr",
          "text": [
            "\r 92%|█████████▏| 732/800 [28:25<02:40,  2.36s/it]"
          ]
        },
        {
          "output_type": "stream",
          "name": "stdout",
          "text": [
            "Step: 733 \t Time: 1752.4932327270508\n",
            "Shift: 0.17557797973155975\n",
            "Current State: 860    0.363785\n",
            "Name: f, dtype: float64\n"
          ]
        },
        {
          "output_type": "stream",
          "name": "stderr",
          "text": [
            "\r 92%|█████████▏| 733/800 [28:28<03:05,  2.76s/it]"
          ]
        },
        {
          "output_type": "stream",
          "name": "stdout",
          "text": [
            "Step: 734 \t Time: 1756.1999278068542\n",
            "Shift: 0.1757951490879059\n",
            "Current State: 861    0.421719\n",
            "Name: f, dtype: float64\n"
          ]
        },
        {
          "output_type": "stream",
          "name": "stderr",
          "text": [
            "\r 92%|█████████▏| 734/800 [28:31<02:50,  2.59s/it]"
          ]
        },
        {
          "output_type": "stream",
          "name": "stdout",
          "text": [
            "Step: 735 \t Time: 1758.3786294460297\n",
            "Shift: 0.1761289952516556\n",
            "Current State: 862    0.45889\n",
            "Name: f, dtype: float64\n"
          ]
        },
        {
          "output_type": "stream",
          "name": "stderr",
          "text": [
            "\r 92%|█████████▏| 735/800 [28:34<03:03,  2.82s/it]"
          ]
        },
        {
          "output_type": "stream",
          "name": "stdout",
          "text": [
            "Step: 736 \t Time: 1761.7310786247253\n",
            "Shift: 0.1764172837972641\n",
            "Current State: 863    0.398698\n",
            "Name: f, dtype: float64\n"
          ]
        },
        {
          "output_type": "stream",
          "name": "stderr",
          "text": [
            "\r 92%|█████████▏| 736/800 [28:37<03:01,  2.84s/it]"
          ]
        },
        {
          "output_type": "stream",
          "name": "stdout",
          "text": [
            "Step: 737 \t Time: 1764.6084668636322\n",
            "Shift: 0.1766315055847168\n",
            "Current State: 864    0.484213\n",
            "Name: f, dtype: float64\n"
          ]
        },
        {
          "output_type": "stream",
          "name": "stderr",
          "text": [
            "\r 92%|█████████▏| 737/800 [28:39<02:47,  2.66s/it]"
          ]
        },
        {
          "output_type": "stream",
          "name": "stdout",
          "text": [
            "Step: 738 \t Time: 1766.8717284202576\n",
            "Shift: 0.176868901181221\n",
            "Current State: 865    0.496393\n",
            "Name: f, dtype: float64\n"
          ]
        },
        {
          "output_type": "stream",
          "name": "stderr",
          "text": [
            "\r 92%|█████████▏| 738/800 [28:41<02:37,  2.54s/it]"
          ]
        },
        {
          "output_type": "stream",
          "name": "stdout",
          "text": [
            "Step: 739 \t Time: 1769.1247100830078\n",
            "Shift: 0.1771488243341446\n",
            "Current State: 866    0.471445\n",
            "Name: f, dtype: float64\n"
          ]
        },
        {
          "output_type": "stream",
          "name": "stderr",
          "text": [
            "\r 92%|█████████▏| 739/800 [28:44<02:39,  2.62s/it]"
          ]
        },
        {
          "output_type": "stream",
          "name": "stdout",
          "text": [
            "Step: 740 \t Time: 1771.9171714782715\n",
            "Shift: 0.17735031752586367\n",
            "Current State: 867    0.449748\n",
            "Name: f, dtype: float64\n"
          ]
        },
        {
          "output_type": "stream",
          "name": "stderr",
          "text": [
            "\r 92%|█████████▎| 740/800 [28:46<02:26,  2.44s/it]"
          ]
        },
        {
          "output_type": "stream",
          "name": "stdout",
          "text": [
            "Step: 741 \t Time: 1773.9491090774536\n",
            "Shift: 0.17750770795345308\n",
            "Current State: 868    0.493533\n",
            "Name: f, dtype: float64\n"
          ]
        },
        {
          "output_type": "stream",
          "name": "stderr",
          "text": [
            "\r 93%|█████████▎| 741/800 [28:48<02:08,  2.18s/it]"
          ]
        },
        {
          "output_type": "stream",
          "name": "stdout",
          "text": [
            "Step: 742 \t Time: 1775.5035555362701\n",
            "Shift: 0.17786811568737032\n",
            "Current State: 869    0.438459\n",
            "Name: f, dtype: float64\n"
          ]
        },
        {
          "output_type": "stream",
          "name": "stderr",
          "text": [
            "\r 93%|█████████▎| 742/800 [28:51<02:34,  2.66s/it]"
          ]
        },
        {
          "output_type": "stream",
          "name": "stdout",
          "text": [
            "Step: 743 \t Time: 1779.2886130809784\n",
            "Shift: 0.17805772070884707\n",
            "Current State: 870    0.481307\n",
            "Name: f, dtype: float64\n"
          ]
        },
        {
          "output_type": "stream",
          "name": "stderr",
          "text": [
            "\r 93%|█████████▎| 743/800 [28:53<02:15,  2.38s/it]"
          ]
        },
        {
          "output_type": "stream",
          "name": "stdout",
          "text": [
            "Step: 744 \t Time: 1781.0068068504333\n",
            "Shift: 0.17833302485942842\n",
            "Current State: 871    0.443362\n",
            "Name: f, dtype: float64\n"
          ]
        },
        {
          "output_type": "stream",
          "name": "stderr",
          "text": [
            "\r 93%|█████████▎| 744/800 [28:56<02:19,  2.49s/it]"
          ]
        },
        {
          "output_type": "stream",
          "name": "stdout",
          "text": [
            "Step: 745 \t Time: 1783.7744443416595\n",
            "Shift: 0.1785398141384125\n",
            "Current State: 872    0.329423\n",
            "Name: f, dtype: float64\n"
          ]
        },
        {
          "output_type": "stream",
          "name": "stderr",
          "text": [
            "\r 93%|█████████▎| 745/800 [28:58<02:09,  2.36s/it]"
          ]
        },
        {
          "output_type": "stream",
          "name": "stdout",
          "text": [
            "Step: 746 \t Time: 1785.832431793213\n",
            "Shift: 0.17866348073482513\n",
            "Current State: 873    0.702172\n",
            "Name: f, dtype: float64\n"
          ]
        },
        {
          "output_type": "stream",
          "name": "stderr",
          "text": [
            "\r 93%|█████████▎| 746/800 [28:59<01:49,  2.02s/it]"
          ]
        },
        {
          "output_type": "stream",
          "name": "stdout",
          "text": [
            "Step: 747 \t Time: 1787.062804698944\n",
            "Shift: 0.17875990858078003\n",
            "Current State: 874    0.227842\n",
            "Name: f, dtype: float64\n"
          ]
        },
        {
          "output_type": "stream",
          "name": "stderr",
          "text": [
            "\r 93%|█████████▎| 747/800 [29:00<01:30,  1.70s/it]"
          ]
        },
        {
          "output_type": "stream",
          "name": "stdout",
          "text": [
            "Step: 748 \t Time: 1788.0215487480164\n",
            "Shift: 0.1789025041103363\n",
            "Current State: 875    0.264247\n",
            "Name: f, dtype: float64\n"
          ]
        },
        {
          "output_type": "stream",
          "name": "stderr",
          "text": [
            "\r 94%|█████████▎| 748/800 [29:02<01:24,  1.62s/it]"
          ]
        },
        {
          "output_type": "stream",
          "name": "stdout",
          "text": [
            "Step: 749 \t Time: 1789.4623811244965\n",
            "Shift: 0.17903730635643006\n",
            "Current State: 876    0.251095\n",
            "Name: f, dtype: float64\n"
          ]
        },
        {
          "output_type": "stream",
          "name": "stderr",
          "text": [
            "\r 94%|█████████▎| 749/800 [29:03<01:20,  1.58s/it]"
          ]
        },
        {
          "output_type": "stream",
          "name": "stdout",
          "text": [
            "Step: 750 \t Time: 1790.93617105484\n",
            "Shift: 0.17918276803493502\n",
            "Current State: 877    7.166057\n",
            "Name: f, dtype: float64\n"
          ]
        },
        {
          "output_type": "stream",
          "name": "stderr",
          "text": [
            "\r 94%|█████████▍| 750/800 [29:05<01:16,  1.53s/it]"
          ]
        },
        {
          "output_type": "stream",
          "name": "stdout",
          "text": [
            "Step: 751 \t Time: 1792.3503775596619\n",
            "Shift: 0.1793176409006119\n",
            "Current State: 878    7.260774\n",
            "Name: f, dtype: float64\n"
          ]
        },
        {
          "output_type": "stream",
          "name": "stderr",
          "text": [
            "\r 94%|█████████▍| 751/800 [29:06<01:10,  1.44s/it]"
          ]
        },
        {
          "output_type": "stream",
          "name": "stdout",
          "text": [
            "Step: 752 \t Time: 1793.5911178588867\n",
            "Shift: 0.17942427098751068\n",
            "Current State: 879    7.723856\n",
            "Name: f, dtype: float64\n"
          ]
        },
        {
          "output_type": "stream",
          "name": "stderr",
          "text": [
            "\r 94%|█████████▍| 752/800 [29:07<01:03,  1.33s/it]"
          ]
        },
        {
          "output_type": "stream",
          "name": "stdout",
          "text": [
            "Step: 753 \t Time: 1794.6642677783966\n",
            "Shift: 0.1795327700138092\n",
            "Current State: 880    0.261378\n",
            "Name: f, dtype: float64\n"
          ]
        },
        {
          "output_type": "stream",
          "name": "stderr",
          "text": [
            "\r 94%|█████████▍| 753/800 [29:08<00:59,  1.26s/it]"
          ]
        },
        {
          "output_type": "stream",
          "name": "stdout",
          "text": [
            "Step: 754 \t Time: 1795.753428220749\n",
            "Shift: 0.17963988361358643\n",
            "Current State: 881    0.30964\n",
            "Name: f, dtype: float64\n"
          ]
        },
        {
          "output_type": "stream",
          "name": "stderr",
          "text": [
            "\r 94%|█████████▍| 754/800 [29:09<00:55,  1.20s/it]"
          ]
        },
        {
          "output_type": "stream",
          "name": "stdout",
          "text": [
            "Step: 755 \t Time: 1796.8254609107971\n",
            "Shift: 0.17975080604553223\n",
            "Current State: 882    0.276969\n",
            "Name: f, dtype: float64\n"
          ]
        },
        {
          "output_type": "stream",
          "name": "stderr",
          "text": [
            "\r 94%|█████████▍| 755/800 [29:10<00:52,  1.18s/it]"
          ]
        },
        {
          "output_type": "stream",
          "name": "stdout",
          "text": [
            "Step: 756 \t Time: 1797.9394416809082\n",
            "Shift: 0.1798614359855652\n",
            "Current State: 883    0.284252\n",
            "Name: f, dtype: float64\n"
          ]
        },
        {
          "output_type": "stream",
          "name": "stderr",
          "text": [
            "\r 94%|█████████▍| 756/800 [29:11<00:50,  1.15s/it]"
          ]
        },
        {
          "output_type": "stream",
          "name": "stdout",
          "text": [
            "Step: 757 \t Time: 1799.0363574028015\n",
            "Shift: 0.18000220305919648\n",
            "Current State: 884    0.285655\n",
            "Name: f, dtype: float64\n"
          ]
        },
        {
          "output_type": "stream",
          "name": "stderr",
          "text": [
            "\r 95%|█████████▍| 757/800 [29:13<00:52,  1.23s/it]"
          ]
        },
        {
          "output_type": "stream",
          "name": "stdout",
          "text": [
            "Step: 758 \t Time: 1800.4416935443878\n",
            "Shift: 0.1801217669725418\n",
            "Current State: 885    0.3044\n",
            "Name: f, dtype: float64\n"
          ]
        },
        {
          "output_type": "stream",
          "name": "stderr",
          "text": [
            "\r 95%|█████████▍| 758/800 [29:14<00:51,  1.22s/it]"
          ]
        },
        {
          "output_type": "stream",
          "name": "stdout",
          "text": [
            "Step: 759 \t Time: 1801.6392912864685\n",
            "Shift: 0.18023646318912506\n",
            "Current State: 886    0.269431\n",
            "Name: f, dtype: float64\n"
          ]
        },
        {
          "output_type": "stream",
          "name": "stderr",
          "text": [
            "\r 95%|█████████▍| 759/800 [29:15<00:49,  1.20s/it]"
          ]
        },
        {
          "output_type": "stream",
          "name": "stdout",
          "text": [
            "Step: 760 \t Time: 1802.789793252945\n",
            "Shift: 0.18038498530387878\n",
            "Current State: 887    0.292204\n",
            "Name: f, dtype: float64\n"
          ]
        },
        {
          "output_type": "stream",
          "name": "stderr",
          "text": [
            "\r 95%|█████████▌| 760/800 [29:17<00:53,  1.33s/it]"
          ]
        },
        {
          "output_type": "stream",
          "name": "stdout",
          "text": [
            "Step: 761 \t Time: 1804.4130918979645\n",
            "Shift: 0.18058914122581482\n",
            "Current State: 888    0.281304\n",
            "Name: f, dtype: float64\n"
          ]
        },
        {
          "output_type": "stream",
          "name": "stderr",
          "text": [
            "\r 95%|█████████▌| 761/800 [29:18<00:58,  1.50s/it]"
          ]
        },
        {
          "output_type": "stream",
          "name": "stdout",
          "text": [
            "Step: 762 \t Time: 1806.310489654541\n",
            "Shift: 0.18068502004146578\n",
            "Current State: 889    4.203684\n",
            "Name: f, dtype: float64\n"
          ]
        },
        {
          "output_type": "stream",
          "name": "stderr",
          "text": [
            "\r 95%|█████████▌| 762/800 [29:19<00:50,  1.34s/it]"
          ]
        },
        {
          "output_type": "stream",
          "name": "stdout",
          "text": [
            "Step: 763 \t Time: 1807.2897372245789\n",
            "Shift: 0.18081159195899965\n",
            "Current State: 890    0.324005\n",
            "Name: f, dtype: float64\n"
          ]
        },
        {
          "output_type": "stream",
          "name": "stderr",
          "text": [
            "\r 95%|█████████▌| 763/800 [29:21<00:48,  1.32s/it]"
          ]
        },
        {
          "output_type": "stream",
          "name": "stdout",
          "text": [
            "Step: 764 \t Time: 1808.5443274974823\n",
            "Shift: 0.18090465292930605\n",
            "Current State: 891    4.064378\n",
            "Name: f, dtype: float64\n"
          ]
        },
        {
          "output_type": "stream",
          "name": "stderr",
          "text": [
            "\r 96%|█████████▌| 764/800 [29:22<00:43,  1.20s/it]"
          ]
        },
        {
          "output_type": "stream",
          "name": "stdout",
          "text": [
            "Step: 765 \t Time: 1809.4698781967163\n",
            "Shift: 0.1812178018808365\n",
            "Current State: 892    0.308224\n",
            "Name: f, dtype: float64\n"
          ]
        },
        {
          "output_type": "stream",
          "name": "stderr",
          "text": [
            "\r 96%|█████████▌| 765/800 [29:25<01:02,  1.78s/it]"
          ]
        },
        {
          "output_type": "stream",
          "name": "stdout",
          "text": [
            "Step: 766 \t Time: 1812.6149480342865\n",
            "Shift: 0.18132899692058563\n",
            "Current State: 893    0.34261\n",
            "Name: f, dtype: float64\n"
          ]
        },
        {
          "output_type": "stream",
          "name": "stderr",
          "text": [
            "\r 96%|█████████▌| 766/800 [29:26<00:53,  1.58s/it]"
          ]
        },
        {
          "output_type": "stream",
          "name": "stdout",
          "text": [
            "Step: 767 \t Time: 1813.730005979538\n",
            "Shift: 0.1814515973329544\n",
            "Current State: 894    3.815145\n",
            "Name: f, dtype: float64\n"
          ]
        },
        {
          "output_type": "stream",
          "name": "stderr",
          "text": [
            "\r 96%|█████████▌| 767/800 [29:27<00:48,  1.47s/it]"
          ]
        },
        {
          "output_type": "stream",
          "name": "stdout",
          "text": [
            "Step: 768 \t Time: 1814.9504511356354\n",
            "Shift: 0.1815505711555481\n",
            "Current State: 895    3.814984\n",
            "Name: f, dtype: float64\n"
          ]
        },
        {
          "output_type": "stream",
          "name": "stderr",
          "text": [
            "\r 96%|█████████▌| 768/800 [29:28<00:42,  1.33s/it]"
          ]
        },
        {
          "output_type": "stream",
          "name": "stdout",
          "text": [
            "Step: 769 \t Time: 1815.9526512622833\n",
            "Shift: 0.18167027542591097\n",
            "Current State: 896    3.829126\n",
            "Name: f, dtype: float64\n"
          ]
        },
        {
          "output_type": "stream",
          "name": "stderr",
          "text": [
            "\r 96%|█████████▌| 769/800 [29:29<00:41,  1.33s/it]"
          ]
        },
        {
          "output_type": "stream",
          "name": "stdout",
          "text": [
            "Step: 770 \t Time: 1817.266369342804\n",
            "Shift: 0.18181588706970217\n",
            "Current State: 897    3.769578\n",
            "Name: f, dtype: float64\n"
          ]
        },
        {
          "output_type": "stream",
          "name": "stderr",
          "text": [
            "\r 96%|█████████▋| 770/800 [29:31<00:40,  1.34s/it]"
          ]
        },
        {
          "output_type": "stream",
          "name": "stdout",
          "text": [
            "Step: 771 \t Time: 1818.6395118236542\n",
            "Shift: 0.18192110722064972\n",
            "Current State: 898    0.337581\n",
            "Name: f, dtype: float64\n"
          ]
        },
        {
          "output_type": "stream",
          "name": "stderr",
          "text": [
            "\r 96%|█████████▋| 771/800 [29:32<00:35,  1.24s/it]"
          ]
        },
        {
          "output_type": "stream",
          "name": "stdout",
          "text": [
            "Step: 772 \t Time: 1819.6330094337463\n",
            "Shift: 0.1820232157945633\n",
            "Current State: 899    3.483941\n",
            "Name: f, dtype: float64\n"
          ]
        },
        {
          "output_type": "stream",
          "name": "stderr",
          "text": [
            "\r 96%|█████████▋| 772/800 [29:33<00:32,  1.17s/it]"
          ]
        },
        {
          "output_type": "stream",
          "name": "stdout",
          "text": [
            "Step: 773 \t Time: 1820.650311946869\n",
            "Shift: 0.18216891357898712\n",
            "Current State: 900    0.342374\n",
            "Name: f, dtype: float64\n"
          ]
        },
        {
          "output_type": "stream",
          "name": "stderr",
          "text": [
            "\r 97%|█████████▋| 773/800 [29:34<00:34,  1.26s/it]"
          ]
        },
        {
          "output_type": "stream",
          "name": "stdout",
          "text": [
            "Step: 774 \t Time: 1822.1251571178436\n",
            "Shift: 0.18237389886379243\n",
            "Current State: 901    0.345553\n",
            "Name: f, dtype: float64\n"
          ]
        },
        {
          "output_type": "stream",
          "name": "stderr",
          "text": [
            "\r 97%|█████████▋| 774/800 [29:36<00:38,  1.50s/it]"
          ]
        },
        {
          "output_type": "stream",
          "name": "stdout",
          "text": [
            "Step: 775 \t Time: 1824.1730325222015\n",
            "Shift: 0.18251320865154266\n",
            "Current State: 902    0.379266\n",
            "Name: f, dtype: float64\n"
          ]
        },
        {
          "output_type": "stream",
          "name": "stderr",
          "text": [
            "\r 97%|█████████▋| 775/800 [29:38<00:36,  1.46s/it]"
          ]
        },
        {
          "output_type": "stream",
          "name": "stdout",
          "text": [
            "Step: 776 \t Time: 1825.5514960289001\n",
            "Shift: 0.18261870284080506\n",
            "Current State: 903    3.223166\n",
            "Name: f, dtype: float64\n"
          ]
        },
        {
          "output_type": "stream",
          "name": "stderr",
          "text": [
            "\r 97%|█████████▋| 776/800 [29:39<00:32,  1.34s/it]"
          ]
        },
        {
          "output_type": "stream",
          "name": "stdout",
          "text": [
            "Step: 777 \t Time: 1826.6097152233124\n",
            "Shift: 0.18273141572475435\n",
            "Current State: 904    0.35459\n",
            "Name: f, dtype: float64\n"
          ]
        },
        {
          "output_type": "stream",
          "name": "stderr",
          "text": [
            "\r 97%|█████████▋| 777/800 [29:40<00:29,  1.28s/it]"
          ]
        },
        {
          "output_type": "stream",
          "name": "stdout",
          "text": [
            "Step: 778 \t Time: 1827.7377223968506\n",
            "Shift: 0.18283523230552673\n",
            "Current State: 905    3.044496\n",
            "Name: f, dtype: float64\n"
          ]
        },
        {
          "output_type": "stream",
          "name": "stderr",
          "text": [
            "\r 97%|█████████▋| 778/800 [29:41<00:27,  1.24s/it]"
          ]
        },
        {
          "output_type": "stream",
          "name": "stdout",
          "text": [
            "Step: 779 \t Time: 1828.892735004425\n",
            "Shift: 0.18303126122951507\n",
            "Current State: 906    0.398877\n",
            "Name: f, dtype: float64\n"
          ]
        },
        {
          "output_type": "stream",
          "name": "stderr",
          "text": [
            "\r 97%|█████████▋| 779/800 [29:43<00:31,  1.48s/it]"
          ]
        },
        {
          "output_type": "stream",
          "name": "stdout",
          "text": [
            "Step: 780 \t Time: 1830.9463877677917\n",
            "Shift: 0.1832977953195572\n",
            "Current State: 907    0.365293\n",
            "Name: f, dtype: float64\n"
          ]
        },
        {
          "output_type": "stream",
          "name": "stderr",
          "text": [
            "\r 98%|█████████▊| 780/800 [29:46<00:35,  1.78s/it]"
          ]
        },
        {
          "output_type": "stream",
          "name": "stdout",
          "text": [
            "Step: 781 \t Time: 1833.4237885475159\n",
            "Shift: 0.18345780782699586\n",
            "Current State: 908    0.40749\n",
            "Name: f, dtype: float64\n"
          ]
        },
        {
          "output_type": "stream",
          "name": "stderr",
          "text": [
            "\r 98%|█████████▊| 781/800 [29:47<00:32,  1.72s/it]"
          ]
        },
        {
          "output_type": "stream",
          "name": "stdout",
          "text": [
            "Step: 782 \t Time: 1835.0059928894043\n",
            "Shift: 0.1835692640066147\n",
            "Current State: 909    0.361463\n",
            "Name: f, dtype: float64\n"
          ]
        },
        {
          "output_type": "stream",
          "name": "stderr",
          "text": [
            "\r 98%|█████████▊| 782/800 [29:48<00:27,  1.54s/it]"
          ]
        },
        {
          "output_type": "stream",
          "name": "stdout",
          "text": [
            "Step: 783 \t Time: 1836.1169044971466\n",
            "Shift: 0.18367772369384766\n",
            "Current State: 910    2.994435\n",
            "Name: f, dtype: float64\n"
          ]
        },
        {
          "output_type": "stream",
          "name": "stderr",
          "text": [
            "\r 98%|█████████▊| 783/800 [29:49<00:23,  1.40s/it]"
          ]
        },
        {
          "output_type": "stream",
          "name": "stdout",
          "text": [
            "Step: 784 \t Time: 1837.20649600029\n",
            "Shift: 0.18379391448497773\n",
            "Current State: 911    2.965792\n",
            "Name: f, dtype: float64\n"
          ]
        },
        {
          "output_type": "stream",
          "name": "stderr",
          "text": [
            "\r 98%|█████████▊| 784/800 [29:51<00:21,  1.33s/it]"
          ]
        },
        {
          "output_type": "stream",
          "name": "stdout",
          "text": [
            "Step: 785 \t Time: 1838.3657758235931\n",
            "Shift: 0.1839755606174469\n",
            "Current State: 912    0.454682\n",
            "Name: f, dtype: float64\n"
          ]
        },
        {
          "output_type": "stream",
          "name": "stderr",
          "text": [
            "\r 98%|█████████▊| 785/800 [29:52<00:22,  1.48s/it]"
          ]
        },
        {
          "output_type": "stream",
          "name": "stdout",
          "text": [
            "Step: 786 \t Time: 1840.190131187439\n",
            "Shift: 0.1840817342758179\n",
            "Current State: 913    3.031889\n",
            "Name: f, dtype: float64\n"
          ]
        },
        {
          "output_type": "stream",
          "name": "stderr",
          "text": [
            "\r 98%|█████████▊| 786/800 [29:53<00:18,  1.36s/it]"
          ]
        },
        {
          "output_type": "stream",
          "name": "stdout",
          "text": [
            "Step: 787 \t Time: 1841.2610297203064\n",
            "Shift: 0.1843160840511322\n",
            "Current State: 914    0.430893\n",
            "Name: f, dtype: float64\n"
          ]
        },
        {
          "output_type": "stream",
          "name": "stderr",
          "text": [
            "\r 98%|█████████▊| 787/800 [29:56<00:21,  1.69s/it]"
          ]
        },
        {
          "output_type": "stream",
          "name": "stdout",
          "text": [
            "Step: 788 \t Time: 1843.7328464984894\n",
            "Shift: 0.18446303424835206\n",
            "Current State: 915    2.951927\n",
            "Name: f, dtype: float64\n"
          ]
        },
        {
          "output_type": "stream",
          "name": "stderr",
          "text": [
            "\r 98%|█████████▊| 788/800 [29:57<00:19,  1.59s/it]"
          ]
        },
        {
          "output_type": "stream",
          "name": "stdout",
          "text": [
            "Step: 789 \t Time: 1845.0754992961884\n",
            "Shift: 0.1846175715684891\n",
            "Current State: 916    2.903052\n",
            "Name: f, dtype: float64\n"
          ]
        },
        {
          "output_type": "stream",
          "name": "stderr",
          "text": [
            "\r 99%|█████████▊| 789/800 [29:59<00:17,  1.57s/it]"
          ]
        },
        {
          "output_type": "stream",
          "name": "stdout",
          "text": [
            "Step: 790 \t Time: 1846.6036438941956\n",
            "Shift: 0.18484763817787173\n",
            "Current State: 917    0.443816\n",
            "Name: f, dtype: float64\n"
          ]
        },
        {
          "output_type": "stream",
          "name": "stderr",
          "text": [
            "\r 99%|█████████▉| 790/800 [30:01<00:17,  1.79s/it]"
          ]
        },
        {
          "output_type": "stream",
          "name": "stdout",
          "text": [
            "Step: 791 \t Time: 1848.9031925201416\n",
            "Shift: 0.1849770055770874\n",
            "Current State: 918    2.78033\n",
            "Name: f, dtype: float64\n"
          ]
        },
        {
          "output_type": "stream",
          "name": "stderr",
          "text": [
            "\r 99%|█████████▉| 791/800 [30:02<00:14,  1.64s/it]"
          ]
        },
        {
          "output_type": "stream",
          "name": "stdout",
          "text": [
            "Step: 792 \t Time: 1850.2018098831177\n",
            "Shift: 0.18508772909641266\n",
            "Current State: 919    2.625872\n",
            "Name: f, dtype: float64\n"
          ]
        },
        {
          "output_type": "stream",
          "name": "stderr",
          "text": [
            "\r 99%|█████████▉| 792/800 [30:03<00:11,  1.48s/it]"
          ]
        },
        {
          "output_type": "stream",
          "name": "stdout",
          "text": [
            "Step: 793 \t Time: 1851.3123352527618\n",
            "Shift: 0.1852475383758545\n",
            "Current State: 920    2.551281\n",
            "Name: f, dtype: float64\n"
          ]
        },
        {
          "output_type": "stream",
          "name": "stderr",
          "text": [
            "\r 99%|█████████▉| 793/800 [30:05<00:10,  1.52s/it]"
          ]
        },
        {
          "output_type": "stream",
          "name": "stdout",
          "text": [
            "Step: 794 \t Time: 1852.9127323627472\n",
            "Shift: 0.1853838718175888\n",
            "Current State: 921    0.473172\n",
            "Name: f, dtype: float64\n"
          ]
        },
        {
          "output_type": "stream",
          "name": "stderr",
          "text": [
            "\r 99%|█████████▉| 794/800 [30:07<00:09,  1.51s/it]"
          ]
        },
        {
          "output_type": "stream",
          "name": "stdout",
          "text": [
            "Step: 795 \t Time: 1854.418949842453\n",
            "Shift: 0.18563614172935486\n",
            "Current State: 922    0.460388\n",
            "Name: f, dtype: float64\n"
          ]
        },
        {
          "output_type": "stream",
          "name": "stderr",
          "text": [
            "\r 99%|█████████▉| 795/800 [30:09<00:08,  1.79s/it]"
          ]
        },
        {
          "output_type": "stream",
          "name": "stdout",
          "text": [
            "Step: 796 \t Time: 1856.8398296833038\n",
            "Shift: 0.18581300237178802\n",
            "Current State: 923    2.485421\n",
            "Name: f, dtype: float64\n"
          ]
        },
        {
          "output_type": "stream",
          "name": "stderr",
          "text": [
            "\r100%|█████████▉| 796/800 [30:11<00:07,  1.77s/it]"
          ]
        },
        {
          "output_type": "stream",
          "name": "stdout",
          "text": [
            "Step: 797 \t Time: 1858.564655303955\n",
            "Shift: 0.18590798900127412\n",
            "Current State: 924    4.486454\n",
            "Name: f, dtype: float64\n"
          ]
        },
        {
          "output_type": "stream",
          "name": "stderr",
          "text": [
            "\r100%|█████████▉| 797/800 [30:12<00:04,  1.52s/it]"
          ]
        },
        {
          "output_type": "stream",
          "name": "stdout",
          "text": [
            "Step: 798 \t Time: 1859.5171301364899\n",
            "Shift: 0.18606575741767883\n",
            "Current State: 925    0.442742\n",
            "Name: f, dtype: float64\n"
          ]
        },
        {
          "output_type": "stream",
          "name": "stderr",
          "text": [
            "\r100%|█████████▉| 798/800 [30:13<00:03,  1.54s/it]"
          ]
        },
        {
          "output_type": "stream",
          "name": "stdout",
          "text": [
            "Step: 799 \t Time: 1861.0809979438782\n",
            "Shift: 0.18619028778076172\n",
            "Current State: 926    0.489321\n",
            "Name: f, dtype: float64\n"
          ]
        },
        {
          "output_type": "stream",
          "name": "stderr",
          "text": [
            "\r100%|█████████▉| 799/800 [30:15<00:01,  1.45s/it]"
          ]
        },
        {
          "output_type": "stream",
          "name": "stdout",
          "text": [
            "Step: 800 \t Time: 1862.3258953094482\n",
            "Shift: 0.1863273874282837\n",
            "Current State: 927    0.425384\n",
            "Name: f, dtype: float64\n"
          ]
        },
        {
          "output_type": "stream",
          "name": "stderr",
          "text": [
            "100%|██████████| 800/800 [30:16<00:00,  2.27s/it]\n"
          ]
        }
      ]
    },
    {
      "cell_type": "code",
      "source": [
        "y1 = X.data[\"f\"]\n",
        "fig = plt.figure(figsize=(20,8))\n",
        "\n",
        "ax1 = fig.add_subplot(1,2,1)\n",
        "y1_maxs = np.minimum.accumulate(y1)\n",
        "ax1.plot(y1, 'ok')\n",
        "ax1.plot(y1_maxs, 'k')\n",
        "#plt.hlines(1, 0, len(y1_maxs), linestyles=\"dotted\")\n",
        "ax1.vlines(n_init, 0, 20, linestyles=\"dashed\")\n",
        "ax1.hlines(2, 0, len(y1), linestyles=\"dotted\")\n",
        "ax1.set_ylabel(\"BPE \\n(microns)\")\n",
        "ax1.set_xlabel(\"Sample #\")\n",
        "ax1.set_ylim(-0.1, 15)\n",
        "\n",
        "\n",
        "a=[0, len(y1)]\n",
        "b=[0, 10]\n",
        "for i in range(0, len(a), 2):\n",
        "    ax1.plot(a[i:i+2], b[i:i+2], 'ro-')\n",
        "\n",
        "ax2 = fig.add_subplot(1,2,2)\n",
        "ax2.hist(y1[n_init:], density=True, bins=[0, 1, 2, 3, 4, 5, 6, 7, 8, 9, 10, 11, 12, 13, 14, 15], facecolor='gray', alpha=0.75)\n",
        "ax2.set_ylabel(\"Scaled Frequency of Samples\")\n",
        "ax2.set_xlabel(\"BPE \\n(microns)\")\n",
        "ax2.grid()\n",
        "#plt.savefig(f'AnisotropicDriftCorrection_TDBO.png', dpi=200)\n",
        "plt.show()"
      ],
      "metadata": {
        "colab": {
          "base_uri": "https://localhost:8080/",
          "height": 679
        },
        "id": "hE_YJsD2WseL",
        "outputId": "eaafde7b-0cd7-463d-f08c-4b23aefd5fd5"
      },
      "execution_count": 109,
      "outputs": [
        {
          "output_type": "display_data",
          "data": {
            "text/plain": [
              "<Figure size 2000x800 with 2 Axes>"
            ],
            "image/png": "[encoded data removed]"
          },
          "metadata": {}
        }
      ]
    },
    {
      "cell_type": "code",
      "source": [
        "X.data.to_csv('history.csv', index=False)"
      ],
      "metadata": {
        "id": "v3drNID9mwgA"
      },
      "execution_count": 36,
      "outputs": []
    }
  ]
}
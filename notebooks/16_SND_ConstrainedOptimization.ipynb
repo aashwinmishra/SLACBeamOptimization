{
  "cells": [
    {
      "cell_type": "code",
      "execution_count": null,
      "metadata": {
        "id": "7BGc_5y5Q87E"
      },
      "outputs": [],
      "source": [
        "!git clone https://github.com/aashwinmishra/lcls_beamline_toolbox\n",
        "import os\n",
        "os.chdir('lcls_beamline_toolbox')\n",
        "!python3 -m pip install -e .\n",
        "!pip install xraydb -q"
      ]
    },
    {
      "cell_type": "code",
      "execution_count": null,
      "metadata": {
        "id": "REuzy-xaUovt"
      },
      "outputs": [],
      "source": [
        "!pip install xopt -q"
      ]
    },
    {
      "cell_type": "code",
      "execution_count": null,
      "metadata": {
        "id": "TAVlyBMxySr1"
      },
      "outputs": [],
      "source": [
        "!pip install scipy==1.10.0"
      ]
    },
    {
      "cell_type": "code",
      "execution_count": null,
      "metadata": {
        "id": "icXrkx7zRBru"
      },
      "outputs": [],
      "source": [
        "import numpy as np\n",
        "import pandas as pd\n",
        "import matplotlib.pyplot as plt\n",
        "import lcls_beamline_toolbox.xraywavetrace.beam1d as beam\n",
        "import lcls_beamline_toolbox.xraywavetrace.optics1d as optics\n",
        "import lcls_beamline_toolbox.xraywavetrace.beamline1d as beamline\n",
        "import scipy.optimize as optimize\n",
        "import copy\n",
        "import scipy.spatial.transform as transform\n",
        "from scipy.stats import qmc\n",
        "from split_and_delay import SND\n",
        "import torch\n",
        "import gpytorch\n",
        "import botorch\n",
        "import warnings\n",
        "warnings.filterwarnings(\"ignore\")\n",
        "from xopt import Xopt, Evaluator\n",
        "from xopt.generators.bayesian import MOBOGenerator\n",
        "from xopt.generators.bayesian import ExpectedImprovementGenerator, UpperConfidenceBoundGenerator\n",
        "from xopt.resources.test_functions.tnk import evaluate_TNK, tnk_vocs\n",
        "from xopt import VOCS\n",
        "from xopt import Xopt\n",
        "import math\n",
        "import pandas as pd"
      ]
    },
    {
      "cell_type": "code",
      "execution_count": null,
      "metadata": {
        "id": "ERW9T1J68jAs"
      },
      "outputs": [],
      "source": [
        "import xopt\n",
        "print(xopt.__version__)"
      ]
    },
    {
      "cell_type": "code",
      "execution_count": null,
      "metadata": {
        "id": "6aWyZmH7eAV6"
      },
      "outputs": [],
      "source": [
        "%%writefile utilfuncs.py\n",
        "import numpy as np\n",
        "import torch\n",
        "import matplotlib.pyplot as plt\n",
        "import pandas as pd\n",
        "from scipy.stats import qmc\n",
        "from split_and_delay import SND\n",
        "from xopt import Xopt, Evaluator\n",
        "from xopt.generators.bayesian import MOBOGenerator\n",
        "from xopt.generators.bayesian import ExpectedImprovementGenerator, UpperConfidenceBoundGenerator\n",
        "from xopt.resources.test_functions.tnk import evaluate_TNK, tnk_vocs\n",
        "from xopt import VOCS\n",
        "from xopt import Xopt\n",
        "\n",
        "\n",
        "def get_snd_outputs(inputs):\n",
        "  \"\"\"\n",
        "  Perturbs the Split & Delay to simulate outputs.\n",
        "  Takes a 8 dim array ( t1_th1, t1_th2, chi1, chi2, t4_th1, t4_th2, chi1, chi2)\n",
        "  The entries lie in the uniform unit interval.\n",
        "  They are scaled in the function to lie in [-100e-6, +100e-6].\n",
        "  Returns a torch tensor of dim 2 of (BPE(microns), Intensity/60000)\n",
        "  Args:\n",
        "    inputs: array of dim 8\n",
        "  Returns:\n",
        "    torch tensor of 2 dim\n",
        "  \"\"\"\n",
        "  inputs = inputs*200e-6 - 100e-6\n",
        "  result = []\n",
        "  for x in inputs:\n",
        "    snd = SND(9500)\n",
        "    x = np.array(x)\n",
        "    snd.mvr_t1_th1(x[0])\n",
        "    snd.mvr_t1_th2(x[1])\n",
        "    snd.mvr_t1_chi1(x[2])\n",
        "    snd.mvr_t1_chi2(x[3])\n",
        "    snd.mvr_t4_th1(x[4])\n",
        "    snd.mvr_t4_th2(x[5])\n",
        "    snd.mvr_t4_chi1(x[6])\n",
        "    snd.mvr_t4_chi2(x[7])\n",
        "    snd.propagate_delay()\n",
        "    dh1 = snd.get_t1_dh_sum()\n",
        "    dd = snd.get_dd_sum()\n",
        "    dh4 = snd.get_t4_dh_sum()\n",
        "    do = snd.get_do_sum()\n",
        "    my_IP_sum = snd.get_IP_sum()\n",
        "    my_intensity = dh1 + dd + dh4 + do + my_IP_sum\n",
        "    do_centroid = snd.get_IP_r()\n",
        "    result.append([do_centroid*1e6, my_intensity/60000])\n",
        "  return torch.tensor(result, dtype=torch.float)\n",
        "\n",
        "\n",
        "def eval_function_intensity(input_dict: dict) -> dict:\n",
        "  \"\"\"\n",
        "  Evaluates the SND function for input, returns the Intensity only.\n",
        "  Args:\n",
        "    inputs: array of dim 8\n",
        "  Returns:\n",
        "    Dictionary with key \"f\" mapping to current intensity/known optimum\n",
        "  \"\"\"\n",
        "  x1, x2, x3, x4, x5, x6, x7, x8 = input_dict[\"x1\"], input_dict[\"x2\"], input_dict[\"x3\"], input_dict[\"x4\"], input_dict[\"x5\"], input_dict[\"x6\"], input_dict[\"x7\"], input_dict[\"x8\"]\n",
        "  Xinp = np.expand_dims(np.array([x1, x2, x3, x4, x5, x6, x7, x8]), axis=0)\n",
        "  output = get_snd_outputs(Xinp)\n",
        "  f = output[0][1].item()\n",
        "  return {\"f\": f}\n",
        "\n",
        "\n",
        "def eval_function_bpe(input_dict: dict) -> dict:\n",
        "  \"\"\"\n",
        "  Evaluates the SND function for input, returns the Beam Position Error.\n",
        "  Args:\n",
        "    inputs: array of dim 8\n",
        "  Returns:\n",
        "    Dictionary with key \"f\" mapping to current Beam Position Error in microns.\n",
        "  \"\"\"\n",
        "  x1, x2, x3, x4, x5, x6, x7, x8 = input_dict[\"x1\"], input_dict[\"x2\"], input_dict[\"x3\"], input_dict[\"x4\"], input_dict[\"x5\"], input_dict[\"x6\"], input_dict[\"x7\"], input_dict[\"x8\"]\n",
        "  Xinp = np.expand_dims(np.array([x1, x2, x3, x4, x5, x6, x7, x8]), axis=0)\n",
        "  output = get_snd_outputs(Xinp)\n",
        "  f = output[0][0].item()\n",
        "  return {\"f\": f}\n",
        "\n",
        "\n",
        "def eval_function_constrained(input_dict: dict) -> dict:\n",
        "  \"\"\"\n",
        "  Evaluates the SND function for input, returns the Beam Position Error as\n",
        "  a constraint, and the Intensity as the objective.\n",
        "  Args:\n",
        "    inputs: array of dim 8\n",
        "  Returns:\n",
        "    Dictionary with key \"f\" mapping to current intensity/known optimum, and key\n",
        "    \"c\" mapping to Beam Position Error in microns.\n",
        "  \"\"\"\n",
        "  x1, x2, x3, x4, x5, x6, x7, x8 = input_dict[\"x1\"], input_dict[\"x2\"], input_dict[\"x3\"], input_dict[\"x4\"], input_dict[\"x5\"], input_dict[\"x6\"], input_dict[\"x7\"], input_dict[\"x8\"]\n",
        "  Xinp = np.expand_dims(np.array([x1, x2, x3, x4, x5, x6, x7, x8]), axis=0)\n",
        "  output = get_snd_outputs(Xinp)\n",
        "  f = output[0][1].item()*100.0\n",
        "  c = output[0][0].item()\n",
        "  return {\"f\": f, \"c\": c}\n",
        "\n",
        "\n",
        "def run_bo(eval_function,\n",
        "           objective:str=\"MAXIMIZE\",\n",
        "           init_samples: int=64,\n",
        "           len_chain: int=150):\n",
        "  \"\"\"\n",
        "  Runs BO chain on the eval function with objective,\n",
        "  with init_samples initial samples followed\n",
        "  by len_chain samples.\n",
        "  Returns the Xopt object.\n",
        "  Args:\n",
        "    eval_function: Function for SND outputs\n",
        "    objective: string to specify if to maximize or minimize\n",
        "    init_samples: Number of initial samples\n",
        "    len_chain: Length of BO chain\n",
        "  Returns:\n",
        "    Xopt object.\n",
        "  \"\"\"\n",
        "  low, high = 0.0, 1.0\n",
        "  vocs = VOCS(\n",
        "      variables = {\"x1\": [low, high],\n",
        "                  \"x2\": [low, high],\n",
        "                  \"x3\": [low, high],\n",
        "                  \"x4\": [low, high],\n",
        "                  \"x5\": [low, high],\n",
        "                  \"x6\": [low, high],\n",
        "                  \"x7\": [low, high],\n",
        "                  \"x8\": [low, high]\n",
        "                  },\n",
        "      objectives = {\"f\": objective},\n",
        "    )\n",
        "  evaluator = Evaluator(function=eval_function)\n",
        "  generator = ExpectedImprovementGenerator(vocs=vocs)\n",
        "  X = Xopt(evaluator=evaluator, generator=generator, vocs=vocs)\n",
        "  X.random_evaluate(n_samples=init_samples)\n",
        "  for i in range(len_chain):\n",
        "    X.step()\n",
        "  return X\n",
        "\n",
        "\n",
        "def run_turbo(eval_function=eval_function_intensity,\n",
        "              objective:str=\"MAXIMIZE\",\n",
        "              init_samples: int=32,\n",
        "              len_chain: int=50):\n",
        "  \"\"\"\n",
        "  Runs TurBO chain on the eval function with objective,\n",
        "  with init_samples initial samples followed by len_chain samples.\n",
        "  Returns the Xopt object.\n",
        "  Args:\n",
        "    eval_function: Function for SND outputs\n",
        "    objective: string to specify if to maximize or minimize\n",
        "    init_samples: Number of initial samples\n",
        "    len_chain: Length of BO chain\n",
        "  Returns:\n",
        "    Xopt object.\n",
        "  \"\"\"\n",
        "  low, high = 0.0, 1.0\n",
        "  n_init = init_samples\n",
        "  vocs = VOCS(\n",
        "      variables = {\"x1\": [low, high],\n",
        "                  \"x2\": [low, high],\n",
        "                  \"x3\": [low, high],\n",
        "                  \"x4\": [low, high],\n",
        "                  \"x5\": [low, high],\n",
        "                  \"x6\": [low, high],\n",
        "                  \"x7\": [low, high],\n",
        "                  \"x8\": [low, high]\n",
        "                  },\n",
        "      objectives = {\"f\": objective},\n",
        "    )\n",
        "  evaluator = Evaluator(function=eval_function)\n",
        "  generator = ExpectedImprovementGenerator(\n",
        "      vocs=vocs, turbo_controller=\"optimize\"\n",
        "  )\n",
        "  X = Xopt(evaluator=evaluator, generator=generator, vocs=vocs)\n",
        "  sampler = qmc.LatinHypercube(d=8)\n",
        "  xs = sampler.random(n=n_init)\n",
        "  init_samples = pd.DataFrame({f'x{i+1}': xs[:,i] for i in range(xs.shape[1])})\n",
        "  X.evaluate_data(init_samples)\n",
        "\n",
        "  for i in range(len_chain):\n",
        "    if i % 10 == 0:\n",
        "      print(f\"Step: {i+1}\")\n",
        "    X.step()\n",
        "  return X\n",
        "\n",
        "\n",
        "def run_turbo_constrained(eval_function,\n",
        "                          X_init,\n",
        "                          objective:str=\"MAXIMIZE\",\n",
        "                          len_chain: int=64):\n",
        "  \"\"\"\n",
        "  Runs constrained TurBO on the eval function with objective,\n",
        "  with X_init as initial samples followed by len_chain samples.\n",
        "  Returns the Xopt object.\n",
        "  Args:\n",
        "    eval_function: Function for SND outputs\n",
        "    objective: string to specify if to maximize or minimize\n",
        "    X_init: Pandas Dataframe of initial samples (input variables only)\n",
        "    len_chain: Length of BO chain\n",
        "  Returns:\n",
        "    Xopt object.\n",
        "  \"\"\"\n",
        "  low, high = 0.0, 1.0\n",
        "  vocs = VOCS(\n",
        "      variables = {\"x1\": [low, high],\n",
        "                  \"x2\": [low, high],\n",
        "                  \"x3\": [low, high],\n",
        "                  \"x4\": [low, high],\n",
        "                  \"x5\": [low, high],\n",
        "                  \"x6\": [low, high],\n",
        "                  \"x7\": [low, high],\n",
        "                  \"x8\": [low, high]\n",
        "                  },\n",
        "      objectives = {\"f\": objective},\n",
        "      constraints={\"c\": [\"LESS_THAN\", 10.0]},\n",
        "    )\n",
        "  evaluator = Evaluator(function=eval_function)\n",
        "  generator = ExpectedImprovementGenerator(\n",
        "      vocs=vocs, turbo_controller=\"safety\"\n",
        "  )\n",
        "  X = Xopt(evaluator=evaluator, generator=generator, vocs=vocs)\n",
        "  X.evaluate_data(X_init)\n",
        "\n",
        "\n",
        "  for i in range(len_chain):\n",
        "    if i % 10 == 0:\n",
        "      print(f\"Step: {i+1}\")\n",
        "    X.step()\n",
        "  return X\n",
        "\n",
        "\n",
        "def run_bo_constrained(eval_function,\n",
        "                       X_init,\n",
        "                       objective:str=\"MAXIMIZE\",\n",
        "                      len_chain=100):\n",
        "  \"\"\"\n",
        "  Runs constrained BO on the eval function with objective,\n",
        "  with X_init as initial samples followed by len_chain samples.\n",
        "  Returns the Xopt object.\n",
        "  \"\"\"\n",
        "  low, high = 0.0, 1.0\n",
        "  vocs = VOCS(\n",
        "      variables = {\"x1\": [low, high],\n",
        "                  \"x2\": [low, high],\n",
        "                  \"x3\": [low, high],\n",
        "                  \"x4\": [low, high],\n",
        "                  \"x5\": [low, high],\n",
        "                  \"x6\": [low, high],\n",
        "                  \"x7\": [low, high],\n",
        "                  \"x8\": [low, high]\n",
        "                  },\n",
        "      objectives = {\"f\": objective},\n",
        "      constraints={\"c\": [\"LESS_THAN\", 10.0]},\n",
        "    )\n",
        "  evaluator = Evaluator(function=eval_function)\n",
        "  generator = ExpectedImprovementGenerator(vocs=vocs)\n",
        "  X = Xopt(evaluator=evaluator, generator=generator, vocs=vocs)\n",
        "  X.evaluate_data(X_init)\n",
        "  for i in range(len_chain):\n",
        "    if i % 10 == 0:\n",
        "      print(f\"Step: {i}\")\n",
        "    X.step()\n",
        "  return X\n",
        "\n",
        "\n",
        "\n",
        "\n",
        "def plot_results(X, objective=\"MAXIMIZE\")->None:\n",
        "  y1 = X.generator.data[\"f\"]\n",
        "  if objective==\"MAXIMIZE\":\n",
        "    y1_optimum = np.maximum.accumulate(y1)\n",
        "  else:\n",
        "    y1_optimum = np.minimum.accumulate(y1)\n",
        "  idx = np.arange(len(y1_optimum))\n",
        "  fig, (ax0, ax1) = plt.subplots(1, 2, figsize=(12, 7))\n",
        "  ax0.scatter(idx, y1)\n",
        "  ax0.plot(idx, y1_optimum,'k')\n",
        "  ax0.grid()\n",
        "  ax0.set_xlabel(\"Sample Number\")\n",
        "  ax0.set_ylabel(\"Objective\")\n",
        "  ax1.plot(idx[-25:], y1_optimum[-25:],'k')\n",
        "  ax1.plot(idx[-25:], y1[-25:],'ok')\n",
        "  ax1.grid()\n",
        "  ax1.set_ylabel(\"Objective\");\n",
        "  plt.show()\n",
        "\n",
        "\n",
        "def plot_constrained(X, constrain:str=\"MINIMIZE\", objective:str=\"MAXIMIZE\"):\n",
        "  c = X.generator.data[\"c\"]\n",
        "  c_mins = np.minimum.accumulate(c)\n",
        "  f = X.generator.data[\"f\"]\n",
        "  f_opts = np.maximum.accumulate(f)\n",
        "  idx = np.arange(len(c))\n",
        "\n",
        "  fig, (ax0, ax1) = plt.subplots(1, 2, figsize=(12, 7))\n",
        "  ax0.scatter(idx, c)\n",
        "  ax0.plot(idx, c_mins,'k')\n",
        "  ax0.grid()\n",
        "  ax0.set_xlabel(\"Sample Number\")\n",
        "  ax0.set_ylabel(\"Constraint\")\n",
        "\n",
        "  ax1.plot(idx, f_opts,'k')\n",
        "  ax1.plot(idx, f,'ok')\n",
        "  ax1.grid()\n",
        "  ax1.set_ylabel(\"Objective\");\n",
        "  plt.show()\n",
        "\n",
        "\n",
        "\n",
        "def run_turbo_bpe(eval_function,\n",
        "                  thetas: list=[0.75, 0.75, 0.75, 0.75],\n",
        "                  objective:str=\"MINIMIZE\",\n",
        "                  n_init: int=16,\n",
        "                  len_chain=64):\n",
        "  low, high, eps = 0.0, 1.0, 1e-3\n",
        "  vocs = VOCS(\n",
        "      variables = {\n",
        "                  \"x1\": [thetas[0], thetas[0]+eps],\n",
        "                  \"x2\": [thetas[1], thetas[1]+eps],\n",
        "                  \"x3\": [low, high],\n",
        "                  \"x4\": [low, high],\n",
        "                  \"x5\": [thetas[2], thetas[2]+eps],\n",
        "                  \"x6\": [thetas[3], thetas[3]+eps],\n",
        "                  \"x7\": [low, high],\n",
        "                  \"x8\": [low, high]\n",
        "                  },\n",
        "      objectives = {\"f\": objective},\n",
        "    )\n",
        "  evaluator = Evaluator(function=eval_function)\n",
        "  generator = ExpectedImprovementGenerator(\n",
        "      vocs=vocs, turbo_controller=\"optimize\"\n",
        "  )\n",
        "  X = Xopt(evaluator=evaluator, generator=generator, vocs=vocs)\n",
        "  X.random_evaluate(n_samples=n_init)\n",
        "  # X.generator.train_model()\n",
        "  # X.generator.turbo_controller.update_state(X.generator.data)\n",
        "  # X.generator.turbo_controller.get_trust_region(X.generator.model)\n",
        "  for i in range(len_chain):\n",
        "    if i % 10 == 0:\n",
        "      print(f\"Step: {i+1}\")\n",
        "    X.step()\n",
        "  return X\n",
        "\n",
        "\n",
        "def run_turbo_intensity(eval_function,\n",
        "                        chis: list=[0.75, 0.75, 0.75, 0.75],\n",
        "                        objective:str=\"MAXIMIZE\",\n",
        "                        n_init: int=16,\n",
        "                        len_chain=64):\n",
        "  low, high, eps = 0.0, 1.0, 1e-1\n",
        "  vocs = VOCS(\n",
        "      variables = {\n",
        "                  \"x1\": [low, high],\n",
        "                  \"x2\": [low, high],\n",
        "                  \"x3\": [chis[0], chis[0]+eps],\n",
        "                  \"x4\": [chis[1], chis[1]+eps],\n",
        "                  \"x5\": [low, high],\n",
        "                  \"x6\": [low, high],\n",
        "                  \"x7\": [chis[2], chis[2]+eps],\n",
        "                  \"x8\": [chis[3], chis[3]+eps]\n",
        "                  },\n",
        "      objectives = {\"f\": objective},\n",
        "    )\n",
        "  evaluator = Evaluator(function=eval_function)\n",
        "  generator = ExpectedImprovementGenerator(\n",
        "      vocs=vocs, turbo_controller=\"optimize\"\n",
        "  )\n",
        "  X = Xopt(evaluator=evaluator, generator=generator, vocs=vocs)\n",
        "  X.random_evaluate(n_samples=n_init)\n",
        "  # X.generator.train_model()\n",
        "  # X.generator.turbo_controller.update_state(X.generator.data)\n",
        "  # X.generator.turbo_controller.get_trust_region(X.generator.model)\n",
        "  for i in range(len_chain):\n",
        "    if i % 10 == 0:\n",
        "      print(f\"Step: {i+1}\")\n",
        "    X.step()\n",
        "  return X\n",
        "\n"
      ]
    },
    {
      "cell_type": "code",
      "execution_count": null,
      "metadata": {
        "id": "F-REpOHT8MzF"
      },
      "outputs": [],
      "source": [
        "from utilfuncs import *"
      ]
    },
    {
      "cell_type": "code",
      "execution_count": null,
      "metadata": {
        "id": "ui214xT_5aGy"
      },
      "outputs": [],
      "source": [
        "print(get_snd_outputs(np.array([[0.5, 0.5, 0.5, 0.5, 0.5, 0.5, 0.5, 0.5]])))\n",
        "print(get_snd_outputs(np.array([[0.9, 0.9, 0.5, 0.5, 0.5, 0.5, 0.5, 0.5]])))\n",
        "print(get_snd_outputs(np.array([[0.5, 0.5, 0.5, 0.5, 0.9, 0.9, 0.5, 0.5]])))\n",
        "print(get_snd_outputs(np.array([[0.75, 0.75, 0.5, 0.5, 0.75, 0.75, 0.5, 0.5]])))\n",
        "print(\"-----\")\n",
        "print(get_snd_outputs(np.array([[0.5, 0.5, 0.5, 0.5, 0.5, 0.5, 0.5, 0.5]])))\n",
        "print(get_snd_outputs(np.array([[0.5, 0.5, 0.7, 0.7, 0.5, 0.5, 0.5, 0.5]])))\n",
        "print(get_snd_outputs(np.array([[0.5, 0.5, 0.5, 0.5, 0.5, 0.5, 0.7, 0.7]])))\n",
        "print(get_snd_outputs(np.array([[0.5, 0.5, 0.56, 0.24, 0.5, 0.5, 0.24, 0.95]])))"
      ]
    },
    {
      "cell_type": "code",
      "execution_count": null,
      "metadata": {
        "id": "9JFa9B_a_OsI"
      },
      "outputs": [],
      "source": [
        "X = run_turbo_bpe(eval_function_bpe)\n",
        "plot_results(X, \"MINIMIZE\")"
      ]
    },
    {
      "cell_type": "code",
      "execution_count": null,
      "metadata": {
        "id": "Yyifkq3SHm4-"
      },
      "outputs": [],
      "source": [
        "min_idx = np.argmin(X.generator.data[\"f\"])\n",
        "min_val = X.generator.data[\"f\"][min_idx]\n",
        "X_min = [X.generator.data[\"x1\"][min_idx],\n",
        "          X.generator.data[\"x2\"][min_idx],\n",
        "            X.generator.data[\"x3\"][min_idx],\n",
        "          X.generator.data[\"x4\"][min_idx],\n",
        "          X.generator.data[\"x5\"][min_idx],\n",
        "          X.generator.data[\"x6\"][min_idx],\n",
        "            X.generator.data[\"x7\"][min_idx],\n",
        "            X.generator.data[\"x8\"][min_idx]\n",
        "          ]\n",
        "print(X_min)\n",
        "print(min_val)"
      ]
    },
    {
      "cell_type": "code",
      "execution_count": null,
      "metadata": {
        "id": "a9SLHhM0KxTB"
      },
      "outputs": [],
      "source": [
        "chis = [X_min[2], X_min[3], X_min[6], X_min[7]]\n",
        "print(chis)"
      ]
    },
    {
      "cell_type": "code",
      "execution_count": null,
      "metadata": {
        "id": "bZsdhTHq_3ce"
      },
      "outputs": [],
      "source": [
        "X = run_turbo_intensity(eval_function_intensity, chis=chis)\n",
        "plot_results(X, \"MAXIMIZE\")"
      ]
    },
    {
      "cell_type": "code",
      "execution_count": null,
      "metadata": {
        "id": "F_XzTQLUJUDj"
      },
      "outputs": [],
      "source": [
        "min_idx = np.argmax(X.generator.data[\"f\"])\n",
        "min_val = X.generator.data[\"f\"][min_idx]\n",
        "X_min = [X.generator.data[\"x1\"][min_idx],\n",
        "          X.generator.data[\"x2\"][min_idx],\n",
        "            X.generator.data[\"x3\"][min_idx],\n",
        "          X.generator.data[\"x4\"][min_idx],\n",
        "          X.generator.data[\"x5\"][min_idx],\n",
        "          X.generator.data[\"x6\"][min_idx],\n",
        "            X.generator.data[\"x7\"][min_idx],\n",
        "            X.generator.data[\"x8\"][min_idx]\n",
        "          ]\n",
        "print(X_min)\n",
        "print(min_val)"
      ]
    },
    {
      "cell_type": "code",
      "execution_count": null,
      "metadata": {
        "id": "M7CnPk1oMs1R"
      },
      "outputs": [],
      "source": [
        "print(get_snd_outputs(np.array([X_min])))\n",
        "# print(get_snd_outputs(np.array([[0.75, 0.75, 0.48, 0.04, 0.75, 0.75, 0.99, 0.48]])))"
      ]
    },
    {
      "cell_type": "code",
      "execution_count": null,
      "metadata": {
        "id": "PGVHqBsC8RxR"
      },
      "outputs": [],
      "source": [
        "X = run_turbo(eval_function=eval_function_bpe, objective=\"MINIMIZE\",init_samples=8, len_chain=64)\n",
        "plot_results(X, objective=\"MINIMIZE\")"
      ]
    },
    {
      "cell_type": "code",
      "source": [
        "X.generator.turbo_controller.restrict_model_data=False\n",
        "X.generator.train_model()\n",
        "X.generator.visualize_model(variable_names=[\"x3\", \"x4\"])"
      ],
      "metadata": {
        "id": "5uDl3CVcFaon"
      },
      "execution_count": null,
      "outputs": []
    },
    {
      "cell_type": "code",
      "execution_count": null,
      "metadata": {
        "id": "roz-UlMF9mNS"
      },
      "outputs": [],
      "source": [
        "init_samples = pd.DataFrame({f'x{i+1}': X.generator.data[f\"x{i+1}\"] for i in range(8)})\n",
        "init_samples"
      ]
    },
    {
      "cell_type": "code",
      "execution_count": null,
      "metadata": {
        "id": "1k1VvsUxlpsm"
      },
      "outputs": [],
      "source": [
        "X = run_turbo_constrained(eval_function_constrained, init_samples, \"MAXIMIZE\", 100)\n",
        "plot_constrained(X)"
      ]
    },
    {
      "cell_type": "code",
      "execution_count": null,
      "metadata": {
        "id": "QF1IkHWBeHrB"
      },
      "outputs": [],
      "source": [
        "X = run_bo_constrained(eval_function_constrained, init_samples, \"MAXIMIZE\", 50)\n",
        "plot_constrained(X)"
      ]
    },
    {
      "cell_type": "code",
      "execution_count": null,
      "metadata": {
        "id": "gO3B7FkHynN8"
      },
      "outputs": [],
      "source": [
        "X = run_turbo(eval_function_intensity, \"MAXIMIZE\", 16, 84)\n",
        "plot_results(X)"
      ]
    },
    {
      "cell_type": "code",
      "execution_count": null,
      "metadata": {
        "id": "L4guzRQD0etP"
      },
      "outputs": [],
      "source": [
        "X = run_turbo(eval_function_bpe, \"MINIMIZE\", 16, 84)\n",
        "plot_results(X, \"MINIMIZE\")"
      ]
    },
    {
      "cell_type": "code",
      "execution_count": null,
      "metadata": {
        "id": "3vg2tKtp8yN9"
      },
      "outputs": [],
      "source": [
        "def run_turbo_constrained(eval_function,\n",
        "                          X_init,\n",
        "                          objective:str=\"MAXIMIZE\",\n",
        "                          len_chain=64):\n",
        "  \"\"\"\n",
        "  Runs TurBO chain on the eval function with objective,\n",
        "  with init_samples initial samples followed by len_chain samples.\n",
        "  Returns the Xopt object.\n",
        "  \"\"\"\n",
        "  low, high = 0.0, 1.0\n",
        "  n_init = init_samples\n",
        "  vocs = VOCS(\n",
        "      variables = {\"x1\": [low, high],\n",
        "                  \"x2\": [low, high],\n",
        "                  \"x3\": [low, high],\n",
        "                  \"x4\": [low, high],\n",
        "                  \"x5\": [low, high],\n",
        "                  \"x6\": [low, high],\n",
        "                  \"x7\": [low, high],\n",
        "                  \"x8\": [low, high]\n",
        "                  },\n",
        "      objectives = {\"f\": objective},\n",
        "      constraints={\"c\": [\"LESS_THAN\", 10.0]},\n",
        "    )\n",
        "  evaluator = Evaluator(function=eval_function)\n",
        "  generator = ExpectedImprovementGenerator(\n",
        "      vocs=vocs, turbo_controller=\"safety\"\n",
        "  )\n",
        "  X = Xopt(evaluator=evaluator, generator=generator, vocs=vocs)\n",
        "  X.evaluate_data(X_init)\n",
        "  X.generator.train_model()\n",
        "  X.generator.turbo_controller.update_state(X.generator.data)\n",
        "  X.generator.turbo_controller.get_trust_region(X.generator.model)\n",
        "\n",
        "  for i in range(len_chain):\n",
        "    if i % 10 == 0:\n",
        "      print(f\"Step: {i+1}\")\n",
        "    X.step()\n",
        "  return X\n",
        "\n"
      ]
    },
    {
      "cell_type": "code",
      "execution_count": null,
      "metadata": {
        "id": "8PQtDvxLN6KE"
      },
      "outputs": [],
      "source": [
        "def run_bo_constrained(eval_function,\n",
        "                       X_init,\n",
        "                       objective:str=\"MAXIMIZE\",\n",
        "                      len_chain=100):\n",
        "  \"\"\"\n",
        "  Runs BO chain on the eval function with objective,\n",
        "  with init_samples initial samples followed\n",
        "  by len_chain samples.\n",
        "  Returns the Xopt object.\n",
        "  \"\"\"\n",
        "  low, high = 0.0, 1.0\n",
        "  vocs = VOCS(\n",
        "      variables = {\"x1\": [low, high],\n",
        "                  \"x2\": [low, high],\n",
        "                  \"x3\": [low, high],\n",
        "                  \"x4\": [low, high],\n",
        "                  \"x5\": [low, high],\n",
        "                  \"x6\": [low, high],\n",
        "                  \"x7\": [low, high],\n",
        "                  \"x8\": [low, high]\n",
        "                  },\n",
        "      objectives = {\"f\": objective},\n",
        "      constraints={\"c\": [\"LESS_THAN\", 10.0]},\n",
        "    )\n",
        "  evaluator = Evaluator(function=eval_function)\n",
        "  generator = ExpectedImprovementGenerator(vocs=vocs)\n",
        "  X = Xopt(evaluator=evaluator, generator=generator, vocs=vocs)\n",
        "  X.evaluate_data(X_init)\n",
        "  for i in range(len_chain):\n",
        "    X.step()\n",
        "  return X"
      ]
    },
    {
      "cell_type": "code",
      "execution_count": null,
      "metadata": {
        "id": "gUk6W3bu_vqF"
      },
      "outputs": [],
      "source": [
        "X = run_turbo_constrained(eval_function_constrained, init_samples, \"MAXIMIZE\", 100)\n",
        "plot_results(X)"
      ]
    },
    {
      "cell_type": "code",
      "execution_count": null,
      "metadata": {
        "id": "efDgootnA--0"
      },
      "outputs": [],
      "source": [
        "def plot_constrained(X, constrain:str=\"MINIMIZE\", objective:str=\"MAXIMIZE\"):\n",
        "\n",
        "  c = X.generator.data[\"c\"]\n",
        "  c_mins = np.minimum.accumulate(c)\n",
        "  f = X.generator.data[\"f\"]\n",
        "  f_opts = np.maximum.accumulate(f)\n",
        "  idx = np.arange(len(c))\n",
        "\n",
        "  print(len(c), len(f), len(idx))\n",
        "\n",
        "  fig, (ax0, ax1) = plt.subplots(1, 2, figsize=(12, 7))\n",
        "  ax0.scatter(idx, c)\n",
        "  ax0.plot(idx, c_mins,'k')\n",
        "  ax0.grid()\n",
        "  ax0.set_xlabel(\"Sample Number\")\n",
        "  ax0.set_ylabel(\"Constraint\")\n",
        "\n",
        "  ax1.plot(idx, f_opts,'k')\n",
        "  ax1.plot(idx, f,'ok')\n",
        "  ax1.grid()\n",
        "  ax1.set_ylabel(\"Intensity\");\n",
        "  plt.show()"
      ]
    },
    {
      "cell_type": "code",
      "execution_count": null,
      "metadata": {
        "id": "AYtjS3EGA-l-"
      },
      "outputs": [],
      "source": [
        "plot_constrained(X)"
      ]
    },
    {
      "cell_type": "code",
      "execution_count": null,
      "metadata": {
        "id": "bWOAEZ9FA-Kz"
      },
      "outputs": [],
      "source": []
    },
    {
      "cell_type": "code",
      "execution_count": null,
      "metadata": {
        "id": "8uxzST1RqPe1"
      },
      "outputs": [],
      "source": [
        "def get_snd_outputs(inputs):\n",
        "  \"\"\"\n",
        "  Study 1 Objective function. Takes an [n, 8] dim np array of\n",
        "  [samples, ( t1_th1, t1_th2, chi1, chi2, t4_th1, t4_th2, chi1, chi2)].\n",
        "  The entries lie in the uniform unit interval.\n",
        "  They are scaled to lie in [-100e-6, +100e-6].\n",
        "  Returns a torch tensor of dim [n, 2] of\n",
        "  [samples, (do_sum_objective, IP_r_objective)]\n",
        "  \"\"\"\n",
        "  inputs = inputs*200e-6 - 100e-6\n",
        "  result = []\n",
        "\n",
        "  for x in inputs:\n",
        "    snd = SND(9500)\n",
        "    x = np.array(x)\n",
        "\n",
        "    snd.mvr_t1_th1(x[0])\n",
        "    snd.mvr_t1_th2(x[1])\n",
        "    snd.mvr_t1_chi1(x[2])\n",
        "    snd.mvr_t1_chi2(x[3])\n",
        "    snd.mvr_t4_th1(x[4])\n",
        "    snd.mvr_t4_th2(x[5])\n",
        "    snd.mvr_t4_chi1(x[6])\n",
        "    snd.mvr_t4_chi2(x[7])\n",
        "\n",
        "    snd.propagate_delay()\n",
        "\n",
        "    dh1 = snd.get_t1_dh_sum()\n",
        "    dd = snd.get_dd_sum()\n",
        "    dh4 = snd.get_t4_dh_sum()\n",
        "    do = snd.get_do_sum()\n",
        "    my_IP_sum = snd.get_IP_sum()\n",
        "    my_intensity = dh1 + dd + dh4 + do + my_IP_sum\n",
        "    #my_intensity *= (1.0 + np.random.rand() * 0.01)\n",
        "\n",
        "    do_centroid = snd.get_IP_r()\n",
        "    #do_centroid *= (1.0 + np.random.rand() * 0.01)\n",
        "    # do_centroid_x = snd.get_IP_cx()\n",
        "    # do_centroid_y = snd.get_IP_cy()\n",
        "\n",
        "\n",
        "    result.append([do_centroid*1e6, my_intensity/60000])\n",
        "\n",
        "  return torch.tensor(result, dtype=torch.float)"
      ]
    },
    {
      "cell_type": "code",
      "execution_count": null,
      "metadata": {
        "id": "eWj-p13T_6Rs"
      },
      "outputs": [],
      "source": [
        "def get_snd_outputs_detailed(inputs):\n",
        "  \"\"\"\n",
        "  Takes the X opt features, returns the values of the Beam Position Error and\n",
        "  Intensity at each sample.\n",
        "  \"\"\"\n",
        "  inputs = inputs*200e-6 - 100e-6\n",
        "  result = []\n",
        "\n",
        "  for x in inputs:\n",
        "    snd = SND(9500)\n",
        "    x = np.array(x)\n",
        "\n",
        "    snd.mvr_t1_th1(x[0])\n",
        "    snd.mvr_t1_th2(x[1])\n",
        "    snd.mvr_t1_chi1(x[2])\n",
        "    snd.mvr_t1_chi2(x[3])\n",
        "    snd.mvr_t4_th1(x[4])\n",
        "    snd.mvr_t4_th2(x[5])\n",
        "    snd.mvr_t4_chi1(x[6])\n",
        "    snd.mvr_t4_chi2(x[7])\n",
        "\n",
        "    snd.propagate_delay()\n",
        "\n",
        "    dh1 = snd.get_t1_dh_sum()\n",
        "    dd = snd.get_dd_sum()\n",
        "    dh4 = snd.get_t4_dh_sum()\n",
        "    do = snd.get_do_sum()\n",
        "    my_IP_sum = snd.get_IP_sum()\n",
        "    my_intensity = dh1 + dd + dh4 + do + my_IP_sum\n",
        "\n",
        "    do_centroid = snd.get_IP_r()\n",
        "    do_centroid_x = snd.get_IP_cx()\n",
        "    do_centroid_y = snd.get_IP_cy()\n",
        "\n",
        "    result.append([do_centroid*1e6, my_intensity])\n",
        "\n",
        "  return torch.tensor(result, dtype=torch.float)"
      ]
    },
    {
      "cell_type": "code",
      "execution_count": null,
      "metadata": {
        "id": "CHPbUdEPCdUF"
      },
      "outputs": [],
      "source": [
        "def eval_function_intensity(input_dict: dict) -> dict:\n",
        "  x1, x2, x3, x4, x5, x6, x7, x8 = input_dict[\"x1\"], input_dict[\"x2\"], input_dict[\"x3\"], input_dict[\"x4\"], input_dict[\"x5\"], input_dict[\"x6\"], input_dict[\"x7\"], input_dict[\"x8\"]\n",
        "  Xinp = np.expand_dims(np.array([x1, x2, x3, x4, x5, x6, x7, x8]), axis=0)\n",
        "  output = get_snd_outputs(Xinp)\n",
        "  f = output[0][1].item()\n",
        "  return {\"f\": f}"
      ]
    },
    {
      "cell_type": "code",
      "execution_count": null,
      "metadata": {
        "id": "xQkQHeoAc9vE"
      },
      "outputs": [],
      "source": [
        "def eval_function_bpe(input_dict: dict) -> dict:\n",
        "  x1, x2, x3, x4, x5, x6, x7, x8 = input_dict[\"x1\"], input_dict[\"x2\"], input_dict[\"x3\"], input_dict[\"x4\"], input_dict[\"x5\"], input_dict[\"x6\"], input_dict[\"x7\"], input_dict[\"x8\"]\n",
        "  Xinp = np.expand_dims(np.array([x1, x2, x3, x4, x5, x6, x7, x8]), axis=0)\n",
        "  output = get_snd_outputs(Xinp)\n",
        "  f = output[0][0].item()\n",
        "  return {\"f\": f}"
      ]
    },
    {
      "cell_type": "code",
      "execution_count": null,
      "metadata": {
        "id": "2pIc7RfEqlt-"
      },
      "outputs": [],
      "source": [
        "def eval_function(input_dict: dict) -> dict:\n",
        "  x1, x2, x3, x4, x5, x6, x7, x8 = input_dict[\"x1\"], input_dict[\"x2\"], input_dict[\"x3\"], input_dict[\"x4\"], input_dict[\"x5\"], input_dict[\"x6\"], input_dict[\"x7\"], input_dict[\"x8\"]\n",
        "  Xinp = np.expand_dims(np.array([x1, x2, x3, x4, x5, x6, x7, x8]), axis=0)\n",
        "  output = get_snd_outputs(Xinp)\n",
        "  f = output[0][0].item()\n",
        "  c = output[0][1].item()\n",
        "  return {\"f\": f, \"c\": c}"
      ]
    },
    {
      "cell_type": "code",
      "execution_count": null,
      "metadata": {
        "id": "p9edM03DwusO"
      },
      "outputs": [],
      "source": [
        "def run_bo(eval_function=eval_function,\n",
        "           objective:str=\"MAXIMIZE\",\n",
        "           init_samples=64,\n",
        "           len_chain=150):\n",
        "  \"\"\"\n",
        "  Runs BO chain on the eval function, with init_samples initial samples followed\n",
        "  by len_chain samples. c acts as the constraining variable\n",
        "  Returns the Xopt object.\n",
        "  \"\"\"\n",
        "  low = 0.0\n",
        "  high = 1.0\n",
        "  vocs = VOCS(\n",
        "      variables = {\"x1\": [low, high],\n",
        "                  \"x2\": [low, high],\n",
        "                  \"x3\": [low, high],\n",
        "                  \"x4\": [low, high],\n",
        "                  \"x5\": [low, high],\n",
        "                  \"x6\": [low, high],\n",
        "                  \"x7\": [low, high],\n",
        "                  \"x8\": [low, high]\n",
        "                  },\n",
        "      objectives = {\"f\": objective},\n",
        "#      constraints={\"c\": [\"GREATER_THAN\", 0.8]},\n",
        "    )\n",
        "  evaluator = Evaluator(function=eval_function)\n",
        "  generator = ExpectedImprovementGenerator(vocs=vocs)\n",
        "  X = Xopt(evaluator=evaluator, generator=generator, vocs=vocs)\n",
        "  X.random_evaluate(n_samples=init_samples)\n",
        "  for i in range(len_chain):\n",
        "    X.step()\n",
        "  return X"
      ]
    },
    {
      "cell_type": "code",
      "execution_count": null,
      "metadata": {
        "id": "ptDQFhteEPKt"
      },
      "outputs": [],
      "source": [
        "def run_bo_intensity(eval_function=eval_function_intensity, init_samples=16, len_chain=50):\n",
        "  \"\"\"\n",
        "  Runs BO chain on the eval function, with init_samples initial samples followed\n",
        "  by len_chain samples. c acts as the constraining variable\n",
        "  Returns the Xopt object.\n",
        "  \"\"\"\n",
        "  low = 0.0\n",
        "  high = 1.0\n",
        "  vocs = VOCS(\n",
        "      variables = {\"x1\": [low, high],\n",
        "                  \"x2\": [low, high],\n",
        "                  \"x3\": [low, high],\n",
        "                  \"x4\": [low, high],\n",
        "                  \"x5\": [low, high],\n",
        "                  \"x6\": [low, high],\n",
        "                  \"x7\": [low, high],\n",
        "                  \"x8\": [low, high]\n",
        "                  },\n",
        "      objectives = {\"f\": \"MAXIMIZE\"},\n",
        "    )\n",
        "  evaluator = Evaluator(function=eval_function)\n",
        "  generator = ExpectedImprovementGenerator(vocs=vocs)\n",
        "  X = Xopt(evaluator=evaluator, generator=generator, vocs=vocs)\n",
        "  X.random_evaluate(n_samples=init_samples)\n",
        "  for i in range(len_chain):\n",
        "    X.step()\n",
        "  return X"
      ]
    },
    {
      "cell_type": "code",
      "execution_count": null,
      "metadata": {
        "id": "pyXDT7y8mld0"
      },
      "outputs": [],
      "source": [
        "def run_turbo(eval_function=eval_function_intensity,\n",
        "              objective:str=\"MAXIMIZE\",\n",
        "              init_samples=32,\n",
        "              len_chain=50):\n",
        "  \"\"\"\n",
        "  Runs TurBO chain on the eval function, with init_samples initial samples followed\n",
        "  by len_chain samples.\n",
        "  Returns the Xopt object.\n",
        "  \"\"\"\n",
        "  low = 0.0\n",
        "  high = 1.0\n",
        "  n_init = init_samples\n",
        "  vocs = VOCS(\n",
        "      variables = {\"x1\": [low, high],\n",
        "                  \"x2\": [low, high],\n",
        "                  \"x3\": [low, high],\n",
        "                  \"x4\": [low, high],\n",
        "                  \"x5\": [low, high],\n",
        "                  \"x6\": [low, high],\n",
        "                  \"x7\": [low, high],\n",
        "                  \"x8\": [low, high]\n",
        "                  },\n",
        "      objectives = {\"f\": objective},\n",
        "    )\n",
        "  evaluator = Evaluator(function=eval_function)\n",
        "  generator = ExpectedImprovementGenerator(\n",
        "      vocs=vocs, turbo_controller=\"optimize\"\n",
        "  )\n",
        "  X = Xopt(evaluator=evaluator, generator=generator, vocs=vocs)\n",
        "  # X.generator.turbo_controller.scale_factor = 1.5\n",
        "  # X.generator.turbo_controller.success_tolerance = 10\n",
        "  # X.generator.turbo_controller.failure_tolerance = 10\n",
        "  # X.generator.turbo_controller.length = 1.0\n",
        "\n",
        "  sampler = qmc.LatinHypercube(d=8)\n",
        "  xs = sampler.random(n=n_init)\n",
        "  init_samples = pd.DataFrame({f'x{i+1}': xs[:,i] for i in range(xs.shape[1])})\n",
        "  X.evaluate_data(init_samples)\n",
        "\n",
        "  X.generator.train_model()\n",
        "  X.generator.turbo_controller.update_state(X.generator.data)\n",
        "  X.generator.turbo_controller.get_trust_region(X.generator.model)\n",
        "\n",
        "  for i in range(len_chain):\n",
        "    if i % 10 == 0:\n",
        "      print(f\"Step: {i+1}\")\n",
        "    model = X.generator.train_model()\n",
        "    trust_region = X.generator.turbo_controller.get_trust_region(generator.model)\\\n",
        "          .squeeze()\n",
        "    scale_factor = X.generator.turbo_controller.length\n",
        "    region_width = trust_region[1] - trust_region[0]\n",
        "    best_value = X.generator.turbo_controller.best_value\n",
        "\n",
        "    n_successes = X.generator.turbo_controller.success_counter\n",
        "    n_failures = X.generator.turbo_controller.failure_counter\n",
        "\n",
        "    acq = X.generator.get_acquisition(model)\n",
        "\n",
        "    X.step()\n",
        "\n",
        "  X.generator.turbo_controller\n",
        "\n",
        "  return X"
      ]
    },
    {
      "cell_type": "code",
      "execution_count": null,
      "metadata": {
        "id": "ETNfOTmM-_91"
      },
      "outputs": [],
      "source": [
        "def get_optimum_details(X, plot=True):\n",
        "  \"\"\"\n",
        "  Takes Xopt object, finds the sample with the minimum and prints the settings\n",
        "  of this sample, the beam position error and the inensity at this setting.\n",
        "  \"\"\"\n",
        "  min_idx = np.argmin(X.generator.data[\"f\"])\n",
        "  min_val = X.generator.data[\"f\"][min_idx]\n",
        "  X_min = [X.generator.data[\"x1\"][min_idx],\n",
        "          X.generator.data[\"x2\"][min_idx],\n",
        "            X.generator.data[\"x3\"][min_idx],\n",
        "          X.generator.data[\"x4\"][min_idx],\n",
        "          X.generator.data[\"x5\"][min_idx],\n",
        "          X.generator.data[\"x6\"][min_idx],\n",
        "            X.generator.data[\"x7\"][min_idx],\n",
        "            X.generator.data[\"x8\"][min_idx]\n",
        "          ]\n",
        "  inputs = np.array(X_min)\n",
        "  inputs = inputs[np.newaxis,:]\n",
        "  outs = get_snd_outputs_detailed(inputs)\n",
        "  print(\"Optimum Inputs: \", X_min)\n",
        "  print(\"BPE: \", outs[0][0].item())\n",
        "  print(\"Intensity:\", outs[0][1].item())\n",
        "\n",
        "  if plot:\n",
        "    y1 = X.generator.data[\"f\"]\n",
        "    y1_mins = np.minimum.accumulate(y1)\n",
        "\n",
        "    idx = np.arange(len(y1_mins))\n",
        "    fig, (ax0, ax1) = plt.subplots(1, 2, figsize=(12, 7))\n",
        "    ax0.plot(idx, y1_mins,'k')\n",
        "    ax0.grid()\n",
        "    ax0.set_xlabel(\"Sample Number\")\n",
        "    ax0.set_ylabel(\"Objective\")\n",
        "    ax1.plot(idx[-50:], y1_mins[-50:],'k')\n",
        "    ax1.grid()\n",
        "    ax1.set_ylabel(\"Objective\");\n",
        "    plt.show()\n"
      ]
    },
    {
      "cell_type": "code",
      "execution_count": null,
      "metadata": {
        "id": "h8ma78RZddtf"
      },
      "outputs": [],
      "source": [
        "X = run_turbo(eval_function_bpe, \"MINIMIZE\", 16, 96)\n",
        "X.data"
      ]
    },
    {
      "cell_type": "code",
      "execution_count": null,
      "metadata": {
        "id": "NAgmzKpkxsUO"
      },
      "outputs": [],
      "source": [
        "X = run_bo_intensity()\n",
        "X.data"
      ]
    },
    {
      "cell_type": "code",
      "execution_count": null,
      "metadata": {
        "id": "HTKtGj28C3bk"
      },
      "outputs": [],
      "source": [
        "X = run_turbo(eval_function_intensity, \"MAXIMIZE\", init_samples=16, len_chain=80)\n",
        "X.data"
      ]
    },
    {
      "cell_type": "code",
      "execution_count": null,
      "metadata": {
        "id": "vYHrIYJxN930"
      },
      "outputs": [],
      "source": [
        "y1 = X.generator.data[\"f\"]\n",
        "y1_mins = np.maximum.accumulate(y1)\n",
        "\n",
        "\n",
        "idx = np.arange(len(y1_mins))\n",
        "\n",
        "fig, (ax0, ax1) = plt.subplots(1, 2, figsize=(12, 7))\n",
        "ax0.scatter(idx, y1)\n",
        "ax0.plot(idx, y1_mins,'k')\n",
        "ax0.grid()\n",
        "ax0.set_xlabel(\"Sample Number\")\n",
        "ax0.set_ylabel(\"Objective\")\n",
        "\n",
        "ax1.plot(idx[-25:], y1_mins[-25:],'k')\n",
        "ax1.plot(idx[-25:], y1[-25:],'ok')\n",
        "ax1.grid()\n",
        "ax1.set_ylabel(\"Objective\");"
      ]
    },
    {
      "cell_type": "code",
      "execution_count": null,
      "metadata": {
        "id": "NvWNIT5zatIp"
      },
      "outputs": [],
      "source": [
        "y1 = X.generator.data[\"f\"]\n",
        "y1_mins = np.minimum.accumulate(y1)\n",
        "\n",
        "\n",
        "idx = np.arange(len(y1_mins))\n",
        "\n",
        "fig, (ax0, ax1) = plt.subplots(1, 2, figsize=(12, 7))\n",
        "ax0.scatter(idx, y1)\n",
        "ax0.plot(idx, y1_mins,'k')\n",
        "ax0.grid()\n",
        "ax0.set_xlabel(\"Sample Number\")\n",
        "ax0.set_ylabel(\"Objective\")\n",
        "\n",
        "ax1.plot(idx[-25:], y1_mins[-25:],'k')\n",
        "ax1.plot(idx[-25:], y1[-25:],'ok')\n",
        "ax1.grid()\n",
        "ax1.set_ylabel(\"Objective\");"
      ]
    },
    {
      "cell_type": "code",
      "execution_count": null,
      "metadata": {
        "id": "Qcceoz9cThIC"
      },
      "outputs": [],
      "source": [
        "def plot_optima_from_generator_data(X, plot=True):\n",
        "  \"\"\"\n",
        "  Takes Xopt object, returns and plots the (noise-less) data for\n",
        "  beam position error and intensity.\n",
        "  Args:\n",
        "    X: Xopt object\n",
        "    plot: boolean to plot or not\n",
        "  Returns:\n",
        "    tuple of beam position error sample and intensity sample histories.\n",
        "  \"\"\"\n",
        "  features = [\"x1\",  \"x2\", \"x3\", \"x4\", \"x5\",  \"x6\", \"x7\", \"x8\"]\n",
        "  points = X.generator.data[features].to_numpy()\n",
        "  outs = get_snd_outputs_detailed(points).numpy()\n",
        "  bpe_vals,  intensity_vals =   outs[:,0], outs[:,1]\n",
        "  bpe_optima = np.minimum.accumulate(bpe_vals)\n",
        "  intensity_optima = np.maximum.accumulate(intensity_vals)\n",
        "\n",
        "  if plot:\n",
        "    fig, [ax1, ax2] = plt.subplots(nrows=2, ncols=1, figsize=(7,10))\n",
        "    ax1.plot(bpe_optima, 'k')\n",
        "    ax1.scatter(np.arange(len(bpe_optima)), bpe_vals)\n",
        "    ax1.set_xlabel(\"Sample Number\")\n",
        "    ax1.set_ylabel(\"BPE (microns)\")\n",
        "\n",
        "\n",
        "    ax2.plot(intensity_optima, 'k')\n",
        "    ax2.scatter(np.arange(len(intensity_optima)), intensity_vals)\n",
        "    ax2.set_xlabel(\"Sample Number\")\n",
        "    ax2.set_ylabel(\"Intensity\")\n",
        "    plt.show()\n",
        "\n",
        "  return bpe_vals,  intensity_vals"
      ]
    },
    {
      "cell_type": "code",
      "execution_count": null,
      "metadata": {
        "id": "Aa_01BZpkLI8"
      },
      "outputs": [],
      "source": [
        "vocs = VOCS(\n",
        "    variables={\"x\": [0, 2 * math.pi]},\n",
        "    objectives={\"f\": \"MINIMIZE\"},\n",
        "    constraints={\"c\": [\"LESS_THAN\", 0]},\n",
        ")"
      ]
    },
    {
      "cell_type": "code",
      "execution_count": null,
      "metadata": {
        "id": "NRgJadhtkOD-"
      },
      "outputs": [],
      "source": [
        "def test_function(input_dict):\n",
        "    return {\"f\": np.sin(input_dict[\"x\"]), \"c\": np.cos(input_dict[\"x\"])}"
      ]
    },
    {
      "cell_type": "code",
      "execution_count": null,
      "metadata": {
        "id": "zWcZHQwqkQaV"
      },
      "outputs": [],
      "source": [
        "evaluator = Evaluator(function=test_function)\n",
        "generator = ExpectedImprovementGenerator(vocs=vocs)\n",
        "X = Xopt(evaluator=evaluator, generator=generator, vocs=vocs)"
      ]
    },
    {
      "cell_type": "code",
      "execution_count": null,
      "metadata": {
        "id": "XFs14uFWkTZy"
      },
      "outputs": [],
      "source": [
        "X.random_evaluate(n_samples=2)\n",
        "\n",
        "# inspect the gathered data\n",
        "X.data"
      ]
    },
    {
      "cell_type": "code",
      "execution_count": null,
      "metadata": {
        "id": "xKIXrjgdkVqs"
      },
      "outputs": [],
      "source": [
        "n_steps = 50\n",
        "\n",
        "# test points for plotting\n",
        "\n",
        "for i in range(n_steps):\n",
        "\n",
        "    # do the optimization step\n",
        "    X.step()"
      ]
    },
    {
      "cell_type": "code",
      "execution_count": null,
      "metadata": {
        "id": "K30CGWEukbMx"
      },
      "outputs": [],
      "source": [
        "plt.plot(X.data[\"f\"], \"ok\")"
      ]
    },
    {
      "cell_type": "code",
      "execution_count": null,
      "metadata": {
        "id": "ZZx1jtuhkv48"
      },
      "outputs": [],
      "source": [
        "plt.plot(X.data[\"c\"], \"ok\")"
      ]
    },
    {
      "cell_type": "code",
      "execution_count": null,
      "metadata": {
        "id": "K2ppGyySkyF9"
      },
      "outputs": [],
      "source": []
    }
  ],
  "metadata": {
    "colab": {
      "provenance": [],
      "authorship_tag": "ABX9TyNBTZKsHHdKtdXgA/VMdI8Y"
    },
    "kernelspec": {
      "display_name": "Python 3",
      "name": "python3"
    },
    "language_info": {
      "name": "python"
    }
  },
  "nbformat": 4,
  "nbformat_minor": 0
}
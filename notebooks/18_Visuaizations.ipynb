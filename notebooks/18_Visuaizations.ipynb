{
  "cells": [
    {
      "cell_type": "code",
      "execution_count": 1,
      "metadata": {
        "colab": {
          "base_uri": "https://localhost:8080/"
        },
        "id": "7BGc_5y5Q87E",
        "outputId": "106b2e9d-ef25-48b1-a110-c345551221e0"
      },
      "outputs": [
        {
          "output_type": "stream",
          "name": "stdout",
          "text": [
            "Cloning into 'lcls_beamline_toolbox'...\n",
            "remote: Enumerating objects: 3480, done.\u001b[K\n",
            "remote: Counting objects: 100% (297/297), done.\u001b[K\n",
            "remote: Compressing objects: 100% (36/36), done.\u001b[K\n",
            "remote: Total 3480 (delta 285), reused 264 (delta 261), pack-reused 3183 (from 2)\u001b[K\n",
            "Receiving objects: 100% (3480/3480), 233.25 MiB | 24.15 MiB/s, done.\n",
            "Resolving deltas: 100% (2685/2685), done.\n",
            "Updating files: 100% (144/144), done.\n",
            "Obtaining file:///content/lcls_beamline_toolbox\n",
            "  Preparing metadata (setup.py) ... \u001b[?25l\u001b[?25hdone\n",
            "Requirement already satisfied: numpy>=1.17 in /usr/local/lib/python3.11/dist-packages (from lcls_beamline_toolbox==0.0.1) (2.0.2)\n",
            "Requirement already satisfied: scipy>=1.4.1 in /usr/local/lib/python3.11/dist-packages (from lcls_beamline_toolbox==0.0.1) (1.15.2)\n",
            "Requirement already satisfied: matplotlib>=3.2.1 in /usr/local/lib/python3.11/dist-packages (from lcls_beamline_toolbox==0.0.1) (3.10.0)\n",
            "Collecting jupyter>=1.0.0 (from lcls_beamline_toolbox==0.0.1)\n",
            "  Downloading jupyter-1.1.1-py2.py3-none-any.whl.metadata (2.0 kB)\n",
            "Requirement already satisfied: scikit-image>=0.16.2 in /usr/local/lib/python3.11/dist-packages (from lcls_beamline_toolbox==0.0.1) (0.25.2)\n",
            "Collecting xrt (from lcls_beamline_toolbox==0.0.1)\n",
            "  Downloading xrt-1.6.1.zip (9.5 MB)\n",
            "\u001b[2K     \u001b[90m━━━━━━━━━━━━━━━━━━━━━━━━━━━━━━━━━━━━━━━━\u001b[0m \u001b[32m9.5/9.5 MB\u001b[0m \u001b[31m28.5 MB/s\u001b[0m eta \u001b[36m0:00:00\u001b[0m\n",
            "\u001b[?25h  Preparing metadata (setup.py) ... \u001b[?25l\u001b[?25hdone\n",
            "Requirement already satisfied: notebook in /usr/local/lib/python3.11/dist-packages (from jupyter>=1.0.0->lcls_beamline_toolbox==0.0.1) (6.5.7)\n",
            "Requirement already satisfied: jupyter-console in /usr/local/lib/python3.11/dist-packages (from jupyter>=1.0.0->lcls_beamline_toolbox==0.0.1) (6.1.0)\n",
            "Requirement already satisfied: nbconvert in /usr/local/lib/python3.11/dist-packages (from jupyter>=1.0.0->lcls_beamline_toolbox==0.0.1) (7.16.6)\n",
            "Requirement already satisfied: ipykernel in /usr/local/lib/python3.11/dist-packages (from jupyter>=1.0.0->lcls_beamline_toolbox==0.0.1) (6.17.1)\n",
            "Requirement already satisfied: ipywidgets in /usr/local/lib/python3.11/dist-packages (from jupyter>=1.0.0->lcls_beamline_toolbox==0.0.1) (7.7.1)\n",
            "Collecting jupyterlab (from jupyter>=1.0.0->lcls_beamline_toolbox==0.0.1)\n",
            "  Downloading jupyterlab-4.4.1-py3-none-any.whl.metadata (16 kB)\n",
            "Requirement already satisfied: contourpy>=1.0.1 in /usr/local/lib/python3.11/dist-packages (from matplotlib>=3.2.1->lcls_beamline_toolbox==0.0.1) (1.3.2)\n",
            "Requirement already satisfied: cycler>=0.10 in /usr/local/lib/python3.11/dist-packages (from matplotlib>=3.2.1->lcls_beamline_toolbox==0.0.1) (0.12.1)\n",
            "Requirement already satisfied: fonttools>=4.22.0 in /usr/local/lib/python3.11/dist-packages (from matplotlib>=3.2.1->lcls_beamline_toolbox==0.0.1) (4.57.0)\n",
            "Requirement already satisfied: kiwisolver>=1.3.1 in /usr/local/lib/python3.11/dist-packages (from matplotlib>=3.2.1->lcls_beamline_toolbox==0.0.1) (1.4.8)\n",
            "Requirement already satisfied: packaging>=20.0 in /usr/local/lib/python3.11/dist-packages (from matplotlib>=3.2.1->lcls_beamline_toolbox==0.0.1) (24.2)\n",
            "Requirement already satisfied: pillow>=8 in /usr/local/lib/python3.11/dist-packages (from matplotlib>=3.2.1->lcls_beamline_toolbox==0.0.1) (11.2.1)\n",
            "Requirement already satisfied: pyparsing>=2.3.1 in /usr/local/lib/python3.11/dist-packages (from matplotlib>=3.2.1->lcls_beamline_toolbox==0.0.1) (3.2.3)\n",
            "Requirement already satisfied: python-dateutil>=2.7 in /usr/local/lib/python3.11/dist-packages (from matplotlib>=3.2.1->lcls_beamline_toolbox==0.0.1) (2.9.0.post0)\n",
            "Requirement already satisfied: networkx>=3.0 in /usr/local/lib/python3.11/dist-packages (from scikit-image>=0.16.2->lcls_beamline_toolbox==0.0.1) (3.4.2)\n",
            "Requirement already satisfied: imageio!=2.35.0,>=2.33 in /usr/local/lib/python3.11/dist-packages (from scikit-image>=0.16.2->lcls_beamline_toolbox==0.0.1) (2.37.0)\n",
            "Requirement already satisfied: tifffile>=2022.8.12 in /usr/local/lib/python3.11/dist-packages (from scikit-image>=0.16.2->lcls_beamline_toolbox==0.0.1) (2025.3.30)\n",
            "Requirement already satisfied: lazy-loader>=0.4 in /usr/local/lib/python3.11/dist-packages (from scikit-image>=0.16.2->lcls_beamline_toolbox==0.0.1) (0.4)\n",
            "Requirement already satisfied: sphinx>=1.6.2 in /usr/local/lib/python3.11/dist-packages (from xrt->lcls_beamline_toolbox==0.0.1) (8.2.3)\n",
            "Collecting sphinxcontrib-jquery (from xrt->lcls_beamline_toolbox==0.0.1)\n",
            "  Downloading sphinxcontrib_jquery-4.1-py2.py3-none-any.whl.metadata (2.6 kB)\n",
            "Requirement already satisfied: distro in /usr/local/lib/python3.11/dist-packages (from xrt->lcls_beamline_toolbox==0.0.1) (1.9.0)\n",
            "Collecting colorama (from xrt->lcls_beamline_toolbox==0.0.1)\n",
            "  Downloading colorama-0.4.6-py2.py3-none-any.whl.metadata (17 kB)\n",
            "Collecting pyopencl (from xrt->lcls_beamline_toolbox==0.0.1)\n",
            "  Downloading pyopencl-2025.1-cp311-cp311-manylinux_2_17_x86_64.manylinux2014_x86_64.whl.metadata (4.8 kB)\n",
            "Requirement already satisfied: pyopengl in /usr/local/lib/python3.11/dist-packages (from xrt->lcls_beamline_toolbox==0.0.1) (3.1.9)\n",
            "Collecting siphash24 (from xrt->lcls_beamline_toolbox==0.0.1)\n",
            "  Downloading siphash24-1.7-cp311-cp311-manylinux_2_17_x86_64.manylinux2014_x86_64.whl.metadata (3.3 kB)\n",
            "Requirement already satisfied: six>=1.5 in /usr/local/lib/python3.11/dist-packages (from python-dateutil>=2.7->matplotlib>=3.2.1->lcls_beamline_toolbox==0.0.1) (1.17.0)\n",
            "Requirement already satisfied: sphinxcontrib-applehelp>=1.0.7 in /usr/local/lib/python3.11/dist-packages (from sphinx>=1.6.2->xrt->lcls_beamline_toolbox==0.0.1) (2.0.0)\n",
            "Requirement already satisfied: sphinxcontrib-devhelp>=1.0.6 in /usr/local/lib/python3.11/dist-packages (from sphinx>=1.6.2->xrt->lcls_beamline_toolbox==0.0.1) (2.0.0)\n",
            "Requirement already satisfied: sphinxcontrib-htmlhelp>=2.0.6 in /usr/local/lib/python3.11/dist-packages (from sphinx>=1.6.2->xrt->lcls_beamline_toolbox==0.0.1) (2.1.0)\n",
            "Requirement already satisfied: sphinxcontrib-jsmath>=1.0.1 in /usr/local/lib/python3.11/dist-packages (from sphinx>=1.6.2->xrt->lcls_beamline_toolbox==0.0.1) (1.0.1)\n",
            "Requirement already satisfied: sphinxcontrib-qthelp>=1.0.6 in /usr/local/lib/python3.11/dist-packages (from sphinx>=1.6.2->xrt->lcls_beamline_toolbox==0.0.1) (2.0.0)\n",
            "Requirement already satisfied: sphinxcontrib-serializinghtml>=1.1.9 in /usr/local/lib/python3.11/dist-packages (from sphinx>=1.6.2->xrt->lcls_beamline_toolbox==0.0.1) (2.0.0)\n",
            "Requirement already satisfied: Jinja2>=3.1 in /usr/local/lib/python3.11/dist-packages (from sphinx>=1.6.2->xrt->lcls_beamline_toolbox==0.0.1) (3.1.6)\n",
            "Requirement already satisfied: Pygments>=2.17 in /usr/local/lib/python3.11/dist-packages (from sphinx>=1.6.2->xrt->lcls_beamline_toolbox==0.0.1) (2.19.1)\n",
            "Requirement already satisfied: docutils<0.22,>=0.20 in /usr/local/lib/python3.11/dist-packages (from sphinx>=1.6.2->xrt->lcls_beamline_toolbox==0.0.1) (0.21.2)\n",
            "Requirement already satisfied: snowballstemmer>=2.2 in /usr/local/lib/python3.11/dist-packages (from sphinx>=1.6.2->xrt->lcls_beamline_toolbox==0.0.1) (2.2.0)\n",
            "Requirement already satisfied: babel>=2.13 in /usr/local/lib/python3.11/dist-packages (from sphinx>=1.6.2->xrt->lcls_beamline_toolbox==0.0.1) (2.17.0)\n",
            "Requirement already satisfied: alabaster>=0.7.14 in /usr/local/lib/python3.11/dist-packages (from sphinx>=1.6.2->xrt->lcls_beamline_toolbox==0.0.1) (1.0.0)\n",
            "Requirement already satisfied: imagesize>=1.3 in /usr/local/lib/python3.11/dist-packages (from sphinx>=1.6.2->xrt->lcls_beamline_toolbox==0.0.1) (1.4.1)\n",
            "Requirement already satisfied: requests>=2.30.0 in /usr/local/lib/python3.11/dist-packages (from sphinx>=1.6.2->xrt->lcls_beamline_toolbox==0.0.1) (2.32.3)\n",
            "Requirement already satisfied: roman-numerals-py>=1.0.0 in /usr/local/lib/python3.11/dist-packages (from sphinx>=1.6.2->xrt->lcls_beamline_toolbox==0.0.1) (3.1.0)\n",
            "Requirement already satisfied: debugpy>=1.0 in /usr/local/lib/python3.11/dist-packages (from ipykernel->jupyter>=1.0.0->lcls_beamline_toolbox==0.0.1) (1.8.0)\n",
            "Requirement already satisfied: ipython>=7.23.1 in /usr/local/lib/python3.11/dist-packages (from ipykernel->jupyter>=1.0.0->lcls_beamline_toolbox==0.0.1) (7.34.0)\n",
            "Requirement already satisfied: jupyter-client>=6.1.12 in /usr/local/lib/python3.11/dist-packages (from ipykernel->jupyter>=1.0.0->lcls_beamline_toolbox==0.0.1) (6.1.12)\n",
            "Requirement already satisfied: matplotlib-inline>=0.1 in /usr/local/lib/python3.11/dist-packages (from ipykernel->jupyter>=1.0.0->lcls_beamline_toolbox==0.0.1) (0.1.7)\n",
            "Requirement already satisfied: nest-asyncio in /usr/local/lib/python3.11/dist-packages (from ipykernel->jupyter>=1.0.0->lcls_beamline_toolbox==0.0.1) (1.6.0)\n",
            "Requirement already satisfied: psutil in /usr/local/lib/python3.11/dist-packages (from ipykernel->jupyter>=1.0.0->lcls_beamline_toolbox==0.0.1) (5.9.5)\n",
            "Requirement already satisfied: pyzmq>=17 in /usr/local/lib/python3.11/dist-packages (from ipykernel->jupyter>=1.0.0->lcls_beamline_toolbox==0.0.1) (24.0.1)\n",
            "Requirement already satisfied: tornado>=6.1 in /usr/local/lib/python3.11/dist-packages (from ipykernel->jupyter>=1.0.0->lcls_beamline_toolbox==0.0.1) (6.4.2)\n",
            "Requirement already satisfied: traitlets>=5.1.0 in /usr/local/lib/python3.11/dist-packages (from ipykernel->jupyter>=1.0.0->lcls_beamline_toolbox==0.0.1) (5.7.1)\n",
            "Requirement already satisfied: ipython-genutils~=0.2.0 in /usr/local/lib/python3.11/dist-packages (from ipywidgets->jupyter>=1.0.0->lcls_beamline_toolbox==0.0.1) (0.2.0)\n",
            "Requirement already satisfied: widgetsnbextension~=3.6.0 in /usr/local/lib/python3.11/dist-packages (from ipywidgets->jupyter>=1.0.0->lcls_beamline_toolbox==0.0.1) (3.6.10)\n",
            "Requirement already satisfied: jupyterlab-widgets>=1.0.0 in /usr/local/lib/python3.11/dist-packages (from ipywidgets->jupyter>=1.0.0->lcls_beamline_toolbox==0.0.1) (3.0.14)\n",
            "Requirement already satisfied: prompt-toolkit!=3.0.0,!=3.0.1,<3.1.0,>=2.0.0 in /usr/local/lib/python3.11/dist-packages (from jupyter-console->jupyter>=1.0.0->lcls_beamline_toolbox==0.0.1) (3.0.51)\n",
            "Collecting async-lru>=1.0.0 (from jupyterlab->jupyter>=1.0.0->lcls_beamline_toolbox==0.0.1)\n",
            "  Downloading async_lru-2.0.5-py3-none-any.whl.metadata (4.5 kB)\n",
            "Requirement already satisfied: httpx>=0.25.0 in /usr/local/lib/python3.11/dist-packages (from jupyterlab->jupyter>=1.0.0->lcls_beamline_toolbox==0.0.1) (0.28.1)\n",
            "Requirement already satisfied: jupyter-core in /usr/local/lib/python3.11/dist-packages (from jupyterlab->jupyter>=1.0.0->lcls_beamline_toolbox==0.0.1) (5.7.2)\n",
            "Collecting jupyter-lsp>=2.0.0 (from jupyterlab->jupyter>=1.0.0->lcls_beamline_toolbox==0.0.1)\n",
            "  Downloading jupyter_lsp-2.2.5-py3-none-any.whl.metadata (1.8 kB)\n",
            "Collecting jupyter-server<3,>=2.4.0 (from jupyterlab->jupyter>=1.0.0->lcls_beamline_toolbox==0.0.1)\n",
            "  Downloading jupyter_server-2.15.0-py3-none-any.whl.metadata (8.4 kB)\n",
            "Collecting jupyterlab-server<3,>=2.27.1 (from jupyterlab->jupyter>=1.0.0->lcls_beamline_toolbox==0.0.1)\n",
            "  Downloading jupyterlab_server-2.27.3-py3-none-any.whl.metadata (5.9 kB)\n",
            "Requirement already satisfied: notebook-shim>=0.2 in /usr/local/lib/python3.11/dist-packages (from jupyterlab->jupyter>=1.0.0->lcls_beamline_toolbox==0.0.1) (0.2.4)\n",
            "Requirement already satisfied: setuptools>=41.1.0 in /usr/local/lib/python3.11/dist-packages (from jupyterlab->jupyter>=1.0.0->lcls_beamline_toolbox==0.0.1) (75.2.0)\n",
            "Requirement already satisfied: beautifulsoup4 in /usr/local/lib/python3.11/dist-packages (from nbconvert->jupyter>=1.0.0->lcls_beamline_toolbox==0.0.1) (4.13.4)\n",
            "Requirement already satisfied: bleach!=5.0.0 in /usr/local/lib/python3.11/dist-packages (from bleach[css]!=5.0.0->nbconvert->jupyter>=1.0.0->lcls_beamline_toolbox==0.0.1) (6.2.0)\n",
            "Requirement already satisfied: defusedxml in /usr/local/lib/python3.11/dist-packages (from nbconvert->jupyter>=1.0.0->lcls_beamline_toolbox==0.0.1) (0.7.1)\n",
            "Requirement already satisfied: jupyterlab-pygments in /usr/local/lib/python3.11/dist-packages (from nbconvert->jupyter>=1.0.0->lcls_beamline_toolbox==0.0.1) (0.3.0)\n",
            "Requirement already satisfied: markupsafe>=2.0 in /usr/local/lib/python3.11/dist-packages (from nbconvert->jupyter>=1.0.0->lcls_beamline_toolbox==0.0.1) (3.0.2)\n",
            "Requirement already satisfied: mistune<4,>=2.0.3 in /usr/local/lib/python3.11/dist-packages (from nbconvert->jupyter>=1.0.0->lcls_beamline_toolbox==0.0.1) (3.1.3)\n",
            "Requirement already satisfied: nbclient>=0.5.0 in /usr/local/lib/python3.11/dist-packages (from nbconvert->jupyter>=1.0.0->lcls_beamline_toolbox==0.0.1) (0.10.2)\n",
            "Requirement already satisfied: nbformat>=5.7 in /usr/local/lib/python3.11/dist-packages (from nbconvert->jupyter>=1.0.0->lcls_beamline_toolbox==0.0.1) (5.10.4)\n",
            "Requirement already satisfied: pandocfilters>=1.4.1 in /usr/local/lib/python3.11/dist-packages (from nbconvert->jupyter>=1.0.0->lcls_beamline_toolbox==0.0.1) (1.5.1)\n",
            "Requirement already satisfied: argon2-cffi in /usr/local/lib/python3.11/dist-packages (from notebook->jupyter>=1.0.0->lcls_beamline_toolbox==0.0.1) (23.1.0)\n",
            "Requirement already satisfied: Send2Trash>=1.8.0 in /usr/local/lib/python3.11/dist-packages (from notebook->jupyter>=1.0.0->lcls_beamline_toolbox==0.0.1) (1.8.3)\n",
            "Requirement already satisfied: terminado>=0.8.3 in /usr/local/lib/python3.11/dist-packages (from notebook->jupyter>=1.0.0->lcls_beamline_toolbox==0.0.1) (0.18.1)\n",
            "Requirement already satisfied: prometheus-client in /usr/local/lib/python3.11/dist-packages (from notebook->jupyter>=1.0.0->lcls_beamline_toolbox==0.0.1) (0.21.1)\n",
            "Requirement already satisfied: nbclassic>=0.4.7 in /usr/local/lib/python3.11/dist-packages (from notebook->jupyter>=1.0.0->lcls_beamline_toolbox==0.0.1) (1.3.0)\n",
            "Requirement already satisfied: platformdirs>=2.2 in /usr/local/lib/python3.11/dist-packages (from pyopencl->xrt->lcls_beamline_toolbox==0.0.1) (4.3.7)\n",
            "Collecting pytools>=2024.1.5 (from pyopencl->xrt->lcls_beamline_toolbox==0.0.1)\n",
            "  Downloading pytools-2025.1.2-py3-none-any.whl.metadata (3.0 kB)\n",
            "Requirement already satisfied: webencodings in /usr/local/lib/python3.11/dist-packages (from bleach!=5.0.0->bleach[css]!=5.0.0->nbconvert->jupyter>=1.0.0->lcls_beamline_toolbox==0.0.1) (0.5.1)\n",
            "Requirement already satisfied: tinycss2<1.5,>=1.1.0 in /usr/local/lib/python3.11/dist-packages (from bleach[css]!=5.0.0->nbconvert->jupyter>=1.0.0->lcls_beamline_toolbox==0.0.1) (1.4.0)\n",
            "Requirement already satisfied: anyio in /usr/local/lib/python3.11/dist-packages (from httpx>=0.25.0->jupyterlab->jupyter>=1.0.0->lcls_beamline_toolbox==0.0.1) (4.9.0)\n",
            "Requirement already satisfied: certifi in /usr/local/lib/python3.11/dist-packages (from httpx>=0.25.0->jupyterlab->jupyter>=1.0.0->lcls_beamline_toolbox==0.0.1) (2025.4.26)\n",
            "Requirement already satisfied: httpcore==1.* in /usr/local/lib/python3.11/dist-packages (from httpx>=0.25.0->jupyterlab->jupyter>=1.0.0->lcls_beamline_toolbox==0.0.1) (1.0.9)\n",
            "Requirement already satisfied: idna in /usr/local/lib/python3.11/dist-packages (from httpx>=0.25.0->jupyterlab->jupyter>=1.0.0->lcls_beamline_toolbox==0.0.1) (3.10)\n",
            "Requirement already satisfied: h11>=0.16 in /usr/local/lib/python3.11/dist-packages (from httpcore==1.*->httpx>=0.25.0->jupyterlab->jupyter>=1.0.0->lcls_beamline_toolbox==0.0.1) (0.16.0)\n",
            "Collecting jedi>=0.16 (from ipython>=7.23.1->ipykernel->jupyter>=1.0.0->lcls_beamline_toolbox==0.0.1)\n",
            "  Downloading jedi-0.19.2-py2.py3-none-any.whl.metadata (22 kB)\n",
            "Requirement already satisfied: decorator in /usr/local/lib/python3.11/dist-packages (from ipython>=7.23.1->ipykernel->jupyter>=1.0.0->lcls_beamline_toolbox==0.0.1) (4.4.2)\n",
            "Requirement already satisfied: pickleshare in /usr/local/lib/python3.11/dist-packages (from ipython>=7.23.1->ipykernel->jupyter>=1.0.0->lcls_beamline_toolbox==0.0.1) (0.7.5)\n",
            "Requirement already satisfied: backcall in /usr/local/lib/python3.11/dist-packages (from ipython>=7.23.1->ipykernel->jupyter>=1.0.0->lcls_beamline_toolbox==0.0.1) (0.2.0)\n",
            "Requirement already satisfied: pexpect>4.3 in /usr/local/lib/python3.11/dist-packages (from ipython>=7.23.1->ipykernel->jupyter>=1.0.0->lcls_beamline_toolbox==0.0.1) (4.9.0)\n",
            "Collecting jupyter-client>=6.1.12 (from ipykernel->jupyter>=1.0.0->lcls_beamline_toolbox==0.0.1)\n",
            "  Downloading jupyter_client-7.4.9-py3-none-any.whl.metadata (8.5 kB)\n",
            "Collecting jupyter-events>=0.11.0 (from jupyter-server<3,>=2.4.0->jupyterlab->jupyter>=1.0.0->lcls_beamline_toolbox==0.0.1)\n",
            "  Downloading jupyter_events-0.12.0-py3-none-any.whl.metadata (5.8 kB)\n",
            "Collecting jupyter-server-terminals>=0.4.4 (from jupyter-server<3,>=2.4.0->jupyterlab->jupyter>=1.0.0->lcls_beamline_toolbox==0.0.1)\n",
            "  Downloading jupyter_server_terminals-0.5.3-py3-none-any.whl.metadata (5.6 kB)\n",
            "Collecting overrides>=5.0 (from jupyter-server<3,>=2.4.0->jupyterlab->jupyter>=1.0.0->lcls_beamline_toolbox==0.0.1)\n",
            "  Downloading overrides-7.7.0-py3-none-any.whl.metadata (5.8 kB)\n",
            "Requirement already satisfied: websocket-client>=1.7 in /usr/local/lib/python3.11/dist-packages (from jupyter-server<3,>=2.4.0->jupyterlab->jupyter>=1.0.0->lcls_beamline_toolbox==0.0.1) (1.8.0)\n",
            "Requirement already satisfied: argon2-cffi-bindings in /usr/local/lib/python3.11/dist-packages (from argon2-cffi->notebook->jupyter>=1.0.0->lcls_beamline_toolbox==0.0.1) (21.2.0)\n",
            "Requirement already satisfied: entrypoints in /usr/local/lib/python3.11/dist-packages (from jupyter-client>=6.1.12->ipykernel->jupyter>=1.0.0->lcls_beamline_toolbox==0.0.1) (0.4)\n",
            "Collecting json5>=0.9.0 (from jupyterlab-server<3,>=2.27.1->jupyterlab->jupyter>=1.0.0->lcls_beamline_toolbox==0.0.1)\n",
            "  Downloading json5-0.12.0-py3-none-any.whl.metadata (36 kB)\n",
            "Requirement already satisfied: jsonschema>=4.18.0 in /usr/local/lib/python3.11/dist-packages (from jupyterlab-server<3,>=2.27.1->jupyterlab->jupyter>=1.0.0->lcls_beamline_toolbox==0.0.1) (4.23.0)\n",
            "Requirement already satisfied: fastjsonschema>=2.15 in /usr/local/lib/python3.11/dist-packages (from nbformat>=5.7->nbconvert->jupyter>=1.0.0->lcls_beamline_toolbox==0.0.1) (2.21.1)\n",
            "Requirement already satisfied: wcwidth in /usr/local/lib/python3.11/dist-packages (from prompt-toolkit!=3.0.0,!=3.0.1,<3.1.0,>=2.0.0->jupyter-console->jupyter>=1.0.0->lcls_beamline_toolbox==0.0.1) (0.2.13)\n",
            "Requirement already satisfied: typing-extensions>=4.5 in /usr/local/lib/python3.11/dist-packages (from pytools>=2024.1.5->pyopencl->xrt->lcls_beamline_toolbox==0.0.1) (4.13.2)\n",
            "Requirement already satisfied: charset-normalizer<4,>=2 in /usr/local/lib/python3.11/dist-packages (from requests>=2.30.0->sphinx>=1.6.2->xrt->lcls_beamline_toolbox==0.0.1) (3.4.1)\n",
            "Requirement already satisfied: urllib3<3,>=1.21.1 in /usr/local/lib/python3.11/dist-packages (from requests>=2.30.0->sphinx>=1.6.2->xrt->lcls_beamline_toolbox==0.0.1) (2.4.0)\n",
            "Requirement already satisfied: ptyprocess in /usr/local/lib/python3.11/dist-packages (from terminado>=0.8.3->notebook->jupyter>=1.0.0->lcls_beamline_toolbox==0.0.1) (0.7.0)\n",
            "Requirement already satisfied: soupsieve>1.2 in /usr/local/lib/python3.11/dist-packages (from beautifulsoup4->nbconvert->jupyter>=1.0.0->lcls_beamline_toolbox==0.0.1) (2.7)\n",
            "Requirement already satisfied: sniffio>=1.1 in /usr/local/lib/python3.11/dist-packages (from anyio->httpx>=0.25.0->jupyterlab->jupyter>=1.0.0->lcls_beamline_toolbox==0.0.1) (1.3.1)\n",
            "Requirement already satisfied: parso<0.9.0,>=0.8.4 in /usr/local/lib/python3.11/dist-packages (from jedi>=0.16->ipython>=7.23.1->ipykernel->jupyter>=1.0.0->lcls_beamline_toolbox==0.0.1) (0.8.4)\n",
            "Requirement already satisfied: attrs>=22.2.0 in /usr/local/lib/python3.11/dist-packages (from jsonschema>=4.18.0->jupyterlab-server<3,>=2.27.1->jupyterlab->jupyter>=1.0.0->lcls_beamline_toolbox==0.0.1) (25.3.0)\n",
            "Requirement already satisfied: jsonschema-specifications>=2023.03.6 in /usr/local/lib/python3.11/dist-packages (from jsonschema>=4.18.0->jupyterlab-server<3,>=2.27.1->jupyterlab->jupyter>=1.0.0->lcls_beamline_toolbox==0.0.1) (2025.4.1)\n",
            "Requirement already satisfied: referencing>=0.28.4 in /usr/local/lib/python3.11/dist-packages (from jsonschema>=4.18.0->jupyterlab-server<3,>=2.27.1->jupyterlab->jupyter>=1.0.0->lcls_beamline_toolbox==0.0.1) (0.36.2)\n",
            "Requirement already satisfied: rpds-py>=0.7.1 in /usr/local/lib/python3.11/dist-packages (from jsonschema>=4.18.0->jupyterlab-server<3,>=2.27.1->jupyterlab->jupyter>=1.0.0->lcls_beamline_toolbox==0.0.1) (0.24.0)\n",
            "Collecting python-json-logger>=2.0.4 (from jupyter-events>=0.11.0->jupyter-server<3,>=2.4.0->jupyterlab->jupyter>=1.0.0->lcls_beamline_toolbox==0.0.1)\n",
            "  Downloading python_json_logger-3.3.0-py3-none-any.whl.metadata (4.0 kB)\n",
            "Requirement already satisfied: pyyaml>=5.3 in /usr/local/lib/python3.11/dist-packages (from jupyter-events>=0.11.0->jupyter-server<3,>=2.4.0->jupyterlab->jupyter>=1.0.0->lcls_beamline_toolbox==0.0.1) (6.0.2)\n",
            "Collecting rfc3339-validator (from jupyter-events>=0.11.0->jupyter-server<3,>=2.4.0->jupyterlab->jupyter>=1.0.0->lcls_beamline_toolbox==0.0.1)\n",
            "  Downloading rfc3339_validator-0.1.4-py2.py3-none-any.whl.metadata (1.5 kB)\n",
            "Collecting rfc3986-validator>=0.1.1 (from jupyter-events>=0.11.0->jupyter-server<3,>=2.4.0->jupyterlab->jupyter>=1.0.0->lcls_beamline_toolbox==0.0.1)\n",
            "  Downloading rfc3986_validator-0.1.1-py2.py3-none-any.whl.metadata (1.7 kB)\n",
            "Requirement already satisfied: cffi>=1.0.1 in /usr/local/lib/python3.11/dist-packages (from argon2-cffi-bindings->argon2-cffi->notebook->jupyter>=1.0.0->lcls_beamline_toolbox==0.0.1) (1.17.1)\n",
            "Requirement already satisfied: pycparser in /usr/local/lib/python3.11/dist-packages (from cffi>=1.0.1->argon2-cffi-bindings->argon2-cffi->notebook->jupyter>=1.0.0->lcls_beamline_toolbox==0.0.1) (2.22)\n",
            "Collecting fqdn (from jsonschema[format-nongpl]>=4.18.0->jupyter-events>=0.11.0->jupyter-server<3,>=2.4.0->jupyterlab->jupyter>=1.0.0->lcls_beamline_toolbox==0.0.1)\n",
            "  Downloading fqdn-1.5.1-py3-none-any.whl.metadata (1.4 kB)\n",
            "Collecting isoduration (from jsonschema[format-nongpl]>=4.18.0->jupyter-events>=0.11.0->jupyter-server<3,>=2.4.0->jupyterlab->jupyter>=1.0.0->lcls_beamline_toolbox==0.0.1)\n",
            "  Downloading isoduration-20.11.0-py3-none-any.whl.metadata (5.7 kB)\n",
            "Requirement already satisfied: jsonpointer>1.13 in /usr/local/lib/python3.11/dist-packages (from jsonschema[format-nongpl]>=4.18.0->jupyter-events>=0.11.0->jupyter-server<3,>=2.4.0->jupyterlab->jupyter>=1.0.0->lcls_beamline_toolbox==0.0.1) (3.0.0)\n",
            "Collecting uri-template (from jsonschema[format-nongpl]>=4.18.0->jupyter-events>=0.11.0->jupyter-server<3,>=2.4.0->jupyterlab->jupyter>=1.0.0->lcls_beamline_toolbox==0.0.1)\n",
            "  Downloading uri_template-1.3.0-py3-none-any.whl.metadata (8.8 kB)\n",
            "Requirement already satisfied: webcolors>=24.6.0 in /usr/local/lib/python3.11/dist-packages (from jsonschema[format-nongpl]>=4.18.0->jupyter-events>=0.11.0->jupyter-server<3,>=2.4.0->jupyterlab->jupyter>=1.0.0->lcls_beamline_toolbox==0.0.1) (24.11.1)\n",
            "Collecting arrow>=0.15.0 (from isoduration->jsonschema[format-nongpl]>=4.18.0->jupyter-events>=0.11.0->jupyter-server<3,>=2.4.0->jupyterlab->jupyter>=1.0.0->lcls_beamline_toolbox==0.0.1)\n",
            "  Downloading arrow-1.3.0-py3-none-any.whl.metadata (7.5 kB)\n",
            "Collecting types-python-dateutil>=2.8.10 (from arrow>=0.15.0->isoduration->jsonschema[format-nongpl]>=4.18.0->jupyter-events>=0.11.0->jupyter-server<3,>=2.4.0->jupyterlab->jupyter>=1.0.0->lcls_beamline_toolbox==0.0.1)\n",
            "  Downloading types_python_dateutil-2.9.0.20241206-py3-none-any.whl.metadata (2.1 kB)\n",
            "Downloading jupyter-1.1.1-py2.py3-none-any.whl (2.7 kB)\n",
            "Downloading colorama-0.4.6-py2.py3-none-any.whl (25 kB)\n",
            "Downloading jupyterlab-4.4.1-py3-none-any.whl (12.3 MB)\n",
            "\u001b[2K   \u001b[90m━━━━━━━━━━━━━━━━━━━━━━━━━━━━━━━━━━━━━━━━\u001b[0m \u001b[32m12.3/12.3 MB\u001b[0m \u001b[31m43.6 MB/s\u001b[0m eta \u001b[36m0:00:00\u001b[0m\n",
            "\u001b[?25hDownloading pyopencl-2025.1-cp311-cp311-manylinux_2_17_x86_64.manylinux2014_x86_64.whl (724 kB)\n",
            "\u001b[2K   \u001b[90m━━━━━━━━━━━━━━━━━━━━━━━━━━━━━━━━━━━━━━━━\u001b[0m \u001b[32m724.6/724.6 kB\u001b[0m \u001b[31m41.5 MB/s\u001b[0m eta \u001b[36m0:00:00\u001b[0m\n",
            "\u001b[?25hDownloading siphash24-1.7-cp311-cp311-manylinux_2_17_x86_64.manylinux2014_x86_64.whl (105 kB)\n",
            "\u001b[2K   \u001b[90m━━━━━━━━━━━━━━━━━━━━━━━━━━━━━━━━━━━━━━━━\u001b[0m \u001b[32m105.6/105.6 kB\u001b[0m \u001b[31m8.2 MB/s\u001b[0m eta \u001b[36m0:00:00\u001b[0m\n",
            "\u001b[?25hDownloading sphinxcontrib_jquery-4.1-py2.py3-none-any.whl (121 kB)\n",
            "\u001b[2K   \u001b[90m━━━━━━━━━━━━━━━━━━━━━━━━━━━━━━━━━━━━━━━━\u001b[0m \u001b[32m121.1/121.1 kB\u001b[0m \u001b[31m9.7 MB/s\u001b[0m eta \u001b[36m0:00:00\u001b[0m\n",
            "\u001b[?25hDownloading async_lru-2.0.5-py3-none-any.whl (6.1 kB)\n",
            "Downloading jupyter_lsp-2.2.5-py3-none-any.whl (69 kB)\n",
            "\u001b[2K   \u001b[90m━━━━━━━━━━━━━━━━━━━━━━━━━━━━━━━━━━━━━━━━\u001b[0m \u001b[32m69.1/69.1 kB\u001b[0m \u001b[31m5.1 MB/s\u001b[0m eta \u001b[36m0:00:00\u001b[0m\n",
            "\u001b[?25hDownloading jupyter_server-2.15.0-py3-none-any.whl (385 kB)\n",
            "\u001b[2K   \u001b[90m━━━━━━━━━━━━━━━━━━━━━━━━━━━━━━━━━━━━━━━━\u001b[0m \u001b[32m385.8/385.8 kB\u001b[0m \u001b[31m19.3 MB/s\u001b[0m eta \u001b[36m0:00:00\u001b[0m\n",
            "\u001b[?25hDownloading jupyter_client-7.4.9-py3-none-any.whl (133 kB)\n",
            "\u001b[2K   \u001b[90m━━━━━━━━━━━━━━━━━━━━━━━━━━━━━━━━━━━━━━━━\u001b[0m \u001b[32m133.5/133.5 kB\u001b[0m \u001b[31m10.6 MB/s\u001b[0m eta \u001b[36m0:00:00\u001b[0m\n",
            "\u001b[?25hDownloading jupyterlab_server-2.27.3-py3-none-any.whl (59 kB)\n",
            "\u001b[2K   \u001b[90m━━━━━━━━━━━━━━━━━━━━━━━━━━━━━━━━━━━━━━━━\u001b[0m \u001b[32m59.7/59.7 kB\u001b[0m \u001b[31m4.7 MB/s\u001b[0m eta \u001b[36m0:00:00\u001b[0m\n",
            "\u001b[?25hDownloading pytools-2025.1.2-py3-none-any.whl (92 kB)\n",
            "\u001b[2K   \u001b[90m━━━━━━━━━━━━━━━━━━━━━━━━━━━━━━━━━━━━━━━━\u001b[0m \u001b[32m92.9/92.9 kB\u001b[0m \u001b[31m6.9 MB/s\u001b[0m eta \u001b[36m0:00:00\u001b[0m\n",
            "\u001b[?25hDownloading jedi-0.19.2-py2.py3-none-any.whl (1.6 MB)\n",
            "\u001b[2K   \u001b[90m━━━━━━━━━━━━━━━━━━━━━━━━━━━━━━━━━━━━━━━━\u001b[0m \u001b[32m1.6/1.6 MB\u001b[0m \u001b[31m36.0 MB/s\u001b[0m eta \u001b[36m0:00:00\u001b[0m\n",
            "\u001b[?25hDownloading json5-0.12.0-py3-none-any.whl (36 kB)\n",
            "Downloading jupyter_events-0.12.0-py3-none-any.whl (19 kB)\n",
            "Downloading jupyter_server_terminals-0.5.3-py3-none-any.whl (13 kB)\n",
            "Downloading overrides-7.7.0-py3-none-any.whl (17 kB)\n",
            "Downloading python_json_logger-3.3.0-py3-none-any.whl (15 kB)\n",
            "Downloading rfc3986_validator-0.1.1-py2.py3-none-any.whl (4.2 kB)\n",
            "Downloading rfc3339_validator-0.1.4-py2.py3-none-any.whl (3.5 kB)\n",
            "Downloading fqdn-1.5.1-py3-none-any.whl (9.1 kB)\n",
            "Downloading isoduration-20.11.0-py3-none-any.whl (11 kB)\n",
            "Downloading uri_template-1.3.0-py3-none-any.whl (11 kB)\n",
            "Downloading arrow-1.3.0-py3-none-any.whl (66 kB)\n",
            "\u001b[2K   \u001b[90m━━━━━━━━━━━━━━━━━━━━━━━━━━━━━━━━━━━━━━━━\u001b[0m \u001b[32m66.4/66.4 kB\u001b[0m \u001b[31m4.6 MB/s\u001b[0m eta \u001b[36m0:00:00\u001b[0m\n",
            "\u001b[?25hDownloading types_python_dateutil-2.9.0.20241206-py3-none-any.whl (14 kB)\n",
            "Building wheels for collected packages: xrt\n",
            "  Building wheel for xrt (setup.py) ... \u001b[?25l\u001b[?25hdone\n",
            "  Created wheel for xrt: filename=xrt-1.6.1-py3-none-any.whl size=5465435 sha256=3d68b7d6662d98bbb58789f01f8dc6fcd53579001fc647a6b99e085f8c9d2092\n",
            "  Stored in directory: /root/.cache/pip/wheels/a8/73/bf/57c1a21696e03a98775c432da6d6f4ce1a43989f327d0db47c\n",
            "Successfully built xrt\n",
            "Installing collected packages: uri-template, types-python-dateutil, siphash24, rfc3986-validator, rfc3339-validator, pytools, python-json-logger, overrides, json5, jedi, fqdn, colorama, async-lru, pyopencl, jupyter-server-terminals, jupyter-client, arrow, sphinxcontrib-jquery, isoduration, xrt, jupyter-events, jupyter-server, jupyterlab-server, jupyter-lsp, jupyterlab, jupyter, lcls_beamline_toolbox\n",
            "  Attempting uninstall: jupyter-client\n",
            "    Found existing installation: jupyter-client 6.1.12\n",
            "    Uninstalling jupyter-client-6.1.12:\n",
            "      Successfully uninstalled jupyter-client-6.1.12\n",
            "  Attempting uninstall: jupyter-server\n",
            "    Found existing installation: jupyter-server 1.16.0\n",
            "    Uninstalling jupyter-server-1.16.0:\n",
            "      Successfully uninstalled jupyter-server-1.16.0\n",
            "  Running setup.py develop for lcls_beamline_toolbox\n",
            "Successfully installed arrow-1.3.0 async-lru-2.0.5 colorama-0.4.6 fqdn-1.5.1 isoduration-20.11.0 jedi-0.19.2 json5-0.12.0 jupyter-1.1.1 jupyter-client-7.4.9 jupyter-events-0.12.0 jupyter-lsp-2.2.5 jupyter-server-2.15.0 jupyter-server-terminals-0.5.3 jupyterlab-4.4.1 jupyterlab-server-2.27.3 lcls_beamline_toolbox-0.0.1 overrides-7.7.0 pyopencl-2025.1 python-json-logger-3.3.0 pytools-2025.1.2 rfc3339-validator-0.1.4 rfc3986-validator-0.1.1 siphash24-1.7 sphinxcontrib-jquery-4.1 types-python-dateutil-2.9.0.20241206 uri-template-1.3.0 xrt-1.6.1\n",
            "\u001b[2K   \u001b[90m━━━━━━━━━━━━━━━━━━━━━━━━━━━━━━━━━━━━━━━━\u001b[0m \u001b[32m3.9/3.9 MB\u001b[0m \u001b[31m31.6 MB/s\u001b[0m eta \u001b[36m0:00:00\u001b[0m\n",
            "\u001b[2K     \u001b[90m━━━━━━━━━━━━━━━━━━━━━━━━━━━━━━━━━━━━━━\u001b[0m \u001b[32m950.0/950.0 kB\u001b[0m \u001b[31m13.0 MB/s\u001b[0m eta \u001b[36m0:00:00\u001b[0m\n",
            "\u001b[?25h  Installing build dependencies ... \u001b[?25l\u001b[?25hdone\n",
            "  Getting requirements to build wheel ... \u001b[?25l\u001b[?25hdone\n",
            "  Preparing metadata (pyproject.toml) ... \u001b[?25l\u001b[?25hdone\n",
            "\u001b[2K   \u001b[90m━━━━━━━━━━━━━━━━━━━━━━━━━━━━━━━━━━━━━━━━\u001b[0m \u001b[32m706.8/706.8 kB\u001b[0m \u001b[31m42.6 MB/s\u001b[0m eta \u001b[36m0:00:00\u001b[0m\n",
            "\u001b[2K   \u001b[90m━━━━━━━━━━━━━━━━━━━━━━━━━━━━━━━━━━━━━━━━\u001b[0m \u001b[32m277.7/277.7 kB\u001b[0m \u001b[31m21.2 MB/s\u001b[0m eta \u001b[36m0:00:00\u001b[0m\n",
            "\u001b[2K   \u001b[90m━━━━━━━━━━━━━━━━━━━━━━━━━━━━━━━━━━━━━━━━\u001b[0m \u001b[32m176.3/176.3 kB\u001b[0m \u001b[31m13.5 MB/s\u001b[0m eta \u001b[36m0:00:00\u001b[0m\n",
            "\u001b[2K   \u001b[90m━━━━━━━━━━━━━━━━━━━━━━━━━━━━━━━━━━━━━━━━\u001b[0m \u001b[32m135.4/135.4 kB\u001b[0m \u001b[31m11.7 MB/s\u001b[0m eta \u001b[36m0:00:00\u001b[0m\n",
            "\u001b[2K   \u001b[90m━━━━━━━━━━━━━━━━━━━━━━━━━━━━━━━━━━━━━━━━\u001b[0m \u001b[32m756.0/756.0 kB\u001b[0m \u001b[31m44.2 MB/s\u001b[0m eta \u001b[36m0:00:00\u001b[0m\n",
            "\u001b[2K   \u001b[90m━━━━━━━━━━━━━━━━━━━━━━━━━━━━━━━━━━━━━━━━\u001b[0m \u001b[32m363.4/363.4 MB\u001b[0m \u001b[31m4.6 MB/s\u001b[0m eta \u001b[36m0:00:00\u001b[0m\n",
            "\u001b[2K   \u001b[90m━━━━━━━━━━━━━━━━━━━━━━━━━━━━━━━━━━━━━━━━\u001b[0m \u001b[32m13.8/13.8 MB\u001b[0m \u001b[31m35.0 MB/s\u001b[0m eta \u001b[36m0:00:00\u001b[0m\n",
            "\u001b[2K   \u001b[90m━━━━━━━━━━━━━━━━━━━━━━━━━━━━━━━━━━━━━━━━\u001b[0m \u001b[32m24.6/24.6 MB\u001b[0m \u001b[31m23.1 MB/s\u001b[0m eta \u001b[36m0:00:00\u001b[0m\n",
            "\u001b[2K   \u001b[90m━━━━━━━━━━━━━━━━━━━━━━━━━━━━━━━━━━━━━━━━\u001b[0m \u001b[32m883.7/883.7 kB\u001b[0m \u001b[31m24.5 MB/s\u001b[0m eta \u001b[36m0:00:00\u001b[0m\n",
            "\u001b[2K   \u001b[90m━━━━━━━━━━━━━━━━━━━━━━━━━━━━━━━━━━━━━━━\u001b[0m \u001b[32m664.8/664.8 MB\u001b[0m \u001b[31m743.0 kB/s\u001b[0m eta \u001b[36m0:00:00\u001b[0m\n",
            "\u001b[2K   \u001b[90m━━━━━━━━━━━━━━━━━━━━━━━━━━━━━━━━━━━━━━━━\u001b[0m \u001b[32m211.5/211.5 MB\u001b[0m \u001b[31m4.4 MB/s\u001b[0m eta \u001b[36m0:00:00\u001b[0m\n",
            "\u001b[2K   \u001b[90m━━━━━━━━━━━━━━━━━━━━━━━━━━━━━━━━━━━━━━━━\u001b[0m \u001b[32m56.3/56.3 MB\u001b[0m \u001b[31m10.7 MB/s\u001b[0m eta \u001b[36m0:00:00\u001b[0m\n",
            "\u001b[2K   \u001b[90m━━━━━━━━━━━━━━━━━━━━━━━━━━━━━━━━━━━━━━━━\u001b[0m \u001b[32m127.9/127.9 MB\u001b[0m \u001b[31m7.6 MB/s\u001b[0m eta \u001b[36m0:00:00\u001b[0m\n",
            "\u001b[2K   \u001b[90m━━━━━━━━━━━━━━━━━━━━━━━━━━━━━━━━━━━━━━━━\u001b[0m \u001b[32m207.5/207.5 MB\u001b[0m \u001b[31m4.7 MB/s\u001b[0m eta \u001b[36m0:00:00\u001b[0m\n",
            "\u001b[2K   \u001b[90m━━━━━━━━━━━━━━━━━━━━━━━━━━━━━━━━━━━━━━━━\u001b[0m \u001b[32m21.1/21.1 MB\u001b[0m \u001b[31m66.6 MB/s\u001b[0m eta \u001b[36m0:00:00\u001b[0m\n",
            "\u001b[2K   \u001b[90m━━━━━━━━━━━━━━━━━━━━━━━━━━━━━━━━━━━━━━━━\u001b[0m \u001b[32m55.4/55.4 kB\u001b[0m \u001b[31m4.6 MB/s\u001b[0m eta \u001b[36m0:00:00\u001b[0m\n",
            "\u001b[?25h  Building wheel for xopt (pyproject.toml) ... \u001b[?25l\u001b[?25hdone\n",
            "\u001b[2K     \u001b[90m━━━━━━━━━━━━━━━━━━━━━━━━━━━━━━━━━━━━━━━━\u001b[0m \u001b[32m58.9/58.9 kB\u001b[0m \u001b[31m2.6 MB/s\u001b[0m eta \u001b[36m0:00:00\u001b[0m\n",
            "\u001b[2K     \u001b[90m━━━━━━━━━━━━━━━━━━━━━━━━━━━━━━━━━━━━━━━━\u001b[0m \u001b[32m61.0/61.0 kB\u001b[0m \u001b[31m4.5 MB/s\u001b[0m eta \u001b[36m0:00:00\u001b[0m\n",
            "\u001b[2K   \u001b[90m━━━━━━━━━━━━━━━━━━━━━━━━━━━━━━━━━━━━━━━━\u001b[0m \u001b[32m34.1/34.1 MB\u001b[0m \u001b[31m20.6 MB/s\u001b[0m eta \u001b[36m0:00:00\u001b[0m\n",
            "\u001b[2K   \u001b[90m━━━━━━━━━━━━━━━━━━━━━━━━━━━━━━━━━━━━━━━━\u001b[0m \u001b[32m18.3/18.3 MB\u001b[0m \u001b[31m62.8 MB/s\u001b[0m eta \u001b[36m0:00:00\u001b[0m\n",
            "\u001b[?25h\u001b[31mERROR: pip's dependency resolver does not currently take into account all the packages that are installed. This behaviour is the source of the following dependency conflicts.\n",
            "xopt 2.6.1 requires scipy>=1.10.1, but you have scipy 1.10.0 which is incompatible.\n",
            "scikit-image 0.25.2 requires scipy>=1.11.4, but you have scipy 1.10.0 which is incompatible.\n",
            "imbalanced-learn 0.13.0 requires scipy<2,>=1.10.1, but you have scipy 1.10.0 which is incompatible.\n",
            "jax 0.5.2 requires scipy>=1.11.1, but you have scipy 1.10.0 which is incompatible.\n",
            "jaxlib 0.5.1 requires scipy>=1.11.1, but you have scipy 1.10.0 which is incompatible.\n",
            "cvxpy 1.6.5 requires scipy>=1.11.0, but you have scipy 1.10.0 which is incompatible.\n",
            "thinc 8.3.6 requires numpy<3.0.0,>=2.0.0, but you have numpy 1.26.4 which is incompatible.\u001b[0m\u001b[31m\n",
            "\u001b[0m"
          ]
        }
      ],
      "source": [
        "!git clone https://github.com/mseaberg/lcls_beamline_toolbox\n",
        "import os\n",
        "os.chdir('lcls_beamline_toolbox')\n",
        "!python3 -m pip install -e .\n",
        "!pip install xraydb -q\n",
        "!pip install xopt -q\n",
        "!pip install scipy==1.10.0 -q"
      ]
    },
    {
      "cell_type": "code",
      "source": [
        "from google.colab import drive\n",
        "from google.colab import files\n",
        "drive.mount(\"/content/gdrive\")"
      ],
      "metadata": {
        "colab": {
          "base_uri": "https://localhost:8080/"
        },
        "id": "_yxbVsI8l80U",
        "outputId": "ffbaefd7-8526-4067-c4c1-ef632f28721d"
      },
      "execution_count": 10,
      "outputs": [
        {
          "output_type": "stream",
          "name": "stdout",
          "text": [
            "Drive already mounted at /content/gdrive; to attempt to forcibly remount, call drive.mount(\"/content/gdrive\", force_remount=True).\n"
          ]
        }
      ]
    },
    {
      "cell_type": "code",
      "execution_count": 1,
      "metadata": {
        "id": "icXrkx7zRBru"
      },
      "outputs": [],
      "source": [
        "import numpy as np\n",
        "import pandas as pd\n",
        "import matplotlib.pyplot as plt\n",
        "import lcls_beamline_toolbox.xraywavetrace.beam1d as beam\n",
        "import lcls_beamline_toolbox.xraywavetrace.optics1d as optics\n",
        "import lcls_beamline_toolbox.xraywavetrace.beamline1d as beamline\n",
        "import scipy.optimize as optimize\n",
        "import copy\n",
        "import scipy.spatial.transform as transform\n",
        "from scipy.stats import qmc\n",
        "from split_and_delay import SND\n",
        "import torch\n",
        "import gpytorch\n",
        "import botorch\n",
        "import warnings\n",
        "warnings.filterwarnings(\"ignore\")\n",
        "from xopt import Xopt, Evaluator\n",
        "from xopt.generators.bayesian import MOBOGenerator\n",
        "from xopt.generators.bayesian import ExpectedImprovementGenerator, UpperConfidenceBoundGenerator\n",
        "from xopt.resources.test_functions.tnk import evaluate_TNK, tnk_vocs\n",
        "from xopt import VOCS\n",
        "from xopt import Xopt\n",
        "import math\n",
        "import pandas as pd\n",
        "\n",
        "from utilfuncs import *"
      ]
    },
    {
      "cell_type": "code",
      "source": [
        "#TODOs:\n",
        "#1. Add utility to get inputs for minimum point\n",
        "#2. Reverse the objective and constraint behaviors.\n",
        "#3. Add utility to get raw outputs based on an input dataframe\n",
        "#4. Repeat chains for set number of runs, save data and plot."
      ],
      "metadata": {
        "id": "Z93rOcSkrG5E"
      },
      "execution_count": null,
      "outputs": []
    },
    {
      "cell_type": "code",
      "source": [
        "get_snd_outputs(0.5*np.ones((1,8)))"
      ],
      "metadata": {
        "colab": {
          "base_uri": "https://localhost:8080/"
        },
        "id": "Sm2_QIHwkA-i",
        "outputId": "3209e66c-1383-4209-e9b1-dba73ddb5dd4"
      },
      "execution_count": 5,
      "outputs": [
        {
          "output_type": "execute_result",
          "data": {
            "text/plain": [
              "tensor([[0.0284, 1.0240]])"
            ]
          },
          "metadata": {},
          "execution_count": 5
        }
      ]
    },
    {
      "cell_type": "code",
      "source": [
        "def run_turbo(eval_function=eval_function_intensity,\n",
        "              objective:str=\"MAXIMIZE\",\n",
        "              init_samples=64,\n",
        "              len_chain=150):\n",
        "  \"\"\"\n",
        "  Runs TurBO chain on the eval function with objective,\n",
        "  with init_samples initial samples followed by len_chain samples.\n",
        "  Returns the Xopt object.\n",
        "  \"\"\"\n",
        "  low, high = 0.0, 1.0\n",
        "  n_init = init_samples\n",
        "  vocs = VOCS(\n",
        "      variables = {\"x1\": [low, high],\n",
        "                  \"x2\": [low, high],\n",
        "                  \"x3\": [low, high],\n",
        "                  \"x4\": [low, high],\n",
        "                  \"x5\": [low, high],\n",
        "                  \"x6\": [low, high],\n",
        "                  \"x7\": [low, high],\n",
        "                  \"x8\": [low, high]\n",
        "                  },\n",
        "      objectives = {\"f\": objective},\n",
        "    )\n",
        "  evaluator = Evaluator(function=eval_function)\n",
        "  generator = ExpectedImprovementGenerator(\n",
        "      vocs=vocs, turbo_controller=\"optimize\"\n",
        "  )\n",
        "  X = Xopt(evaluator=evaluator, generator=generator, vocs=vocs)\n",
        "  # sampler = qmc.LatinHypercube(d=8)\n",
        "  # xs = sampler.random(n=n_init)\n",
        "  # init_samples = pd.DataFrame({f'x{i+1}': xs[:,i] for i in range(xs.shape[1])})\n",
        "  # X.evaluate_data(init_samples)\n",
        "  X.random_evaluate(n_samples=init_samples)\n",
        "\n",
        "  for i in range(len_chain):\n",
        "    if i % 10 == 0:\n",
        "      print(f\"Step: {i+1}\")\n",
        "    X.step()\n",
        "  return X\n",
        "\n"
      ],
      "metadata": {
        "id": "RrY74PSrsCVr"
      },
      "execution_count": 16,
      "outputs": []
    },
    {
      "cell_type": "code",
      "source": [
        "def run_bo(eval_function,\n",
        "           objective:str=\"MAXIMIZE\",\n",
        "           init_samples=64,\n",
        "           len_chain=150):\n",
        "  \"\"\"\n",
        "  Runs BO chain on the eval function with objective,\n",
        "  with init_samples initial samples followed\n",
        "  by len_chain samples.\n",
        "  Returns the Xopt object.\n",
        "  \"\"\"\n",
        "  low, high = 0.0, 1.0\n",
        "  vocs = VOCS(\n",
        "      variables = {\"x1\": [low, high],\n",
        "                  \"x2\": [low, high],\n",
        "                  \"x3\": [low, high],\n",
        "                  \"x4\": [low, high],\n",
        "                  \"x5\": [low, high],\n",
        "                  \"x6\": [low, high],\n",
        "                  \"x7\": [low, high],\n",
        "                  \"x8\": [low, high]\n",
        "                  },\n",
        "      objectives = {\"f\": objective},\n",
        "    )\n",
        "  evaluator = Evaluator(function=eval_function)\n",
        "  generator = ExpectedImprovementGenerator(vocs=vocs)\n",
        "  X = Xopt(evaluator=evaluator, generator=generator, vocs=vocs)\n",
        "  X.random_evaluate(n_samples=init_samples)\n",
        "  for i in range(len_chain):\n",
        "    if i % 10 == 0:\n",
        "      print(f\"Step: {i+1}\")\n",
        "    X.step()\n",
        "  return X"
      ],
      "metadata": {
        "id": "mR4STT-BBoqe"
      },
      "execution_count": 7,
      "outputs": []
    },
    {
      "cell_type": "code",
      "source": [],
      "metadata": {
        "id": "ymmQkMt8tt2_"
      },
      "execution_count": 7,
      "outputs": []
    },
    {
      "cell_type": "code",
      "execution_count": null,
      "metadata": {
        "colab": {
          "base_uri": "https://localhost:8080/"
        },
        "id": "9JFa9B_a_OsI",
        "outputId": "86fa27cd-ebf0-4e38-eea2-dcd9255caa71"
      },
      "outputs": [
        {
          "output_type": "stream",
          "name": "stdout",
          "text": [
            "Step: 1\n",
            "Step: 11\n",
            "Step: 21\n",
            "Step: 31\n",
            "Step: 41\n",
            "Step: 51\n",
            "Step: 61\n"
          ]
        }
      ],
      "source": [
        "X = run_turbo(eval_function_intensity, objective=\"MAXIMIZE\")\n",
        "plot_results(X, \"MAXIMIZE\")"
      ]
    },
    {
      "cell_type": "code",
      "source": [
        "X.generator.data.to_csv('data5.csv', index=False)"
      ],
      "metadata": {
        "id": "Pz3VLjZImYyt"
      },
      "execution_count": 29,
      "outputs": []
    },
    {
      "cell_type": "code",
      "source": [
        "X = run_bo(eval_function_intensity, objective=\"MAXIMIZE\")\n",
        "plot_results(X, \"MAXIMIZE\")"
      ],
      "metadata": {
        "colab": {
          "base_uri": "https://localhost:8080/",
          "height": 898
        },
        "id": "enAD9Ca6mYtl",
        "outputId": "c938aa32-ce4e-4fdf-cddc-a4fcee465735"
      },
      "execution_count": 20,
      "outputs": [
        {
          "output_type": "stream",
          "name": "stdout",
          "text": [
            "Step: 1\n",
            "Step: 11\n",
            "Step: 21\n",
            "Step: 31\n",
            "Step: 41\n",
            "Step: 51\n",
            "Step: 61\n",
            "Step: 71\n",
            "Step: 81\n",
            "Step: 91\n",
            "Step: 101\n",
            "Step: 111\n",
            "Step: 121\n",
            "Step: 131\n",
            "Step: 141\n"
          ]
        },
        {
          "output_type": "display_data",
          "data": {
            "text/plain": [
              "<Figure size 1200x700 with 2 Axes>"
            ],
            "image/png": "[encoded data removed]"
          },
          "metadata": {}
        }
      ]
    },
    {
      "cell_type": "code",
      "source": [],
      "metadata": {
        "id": "Q8S_ZKxKmYoe"
      },
      "execution_count": null,
      "outputs": []
    },
    {
      "cell_type": "code",
      "source": [],
      "metadata": {
        "id": "uqIhgTMNmYfH"
      },
      "execution_count": null,
      "outputs": []
    },
    {
      "cell_type": "code",
      "source": [
        "init_samples = pd.DataFrame({f'x{i+1}': X.generator.data[f\"x{i+1}\"] for i in range(8)})\n",
        "init_samples"
      ],
      "metadata": {
        "colab": {
          "base_uri": "https://localhost:8080/",
          "height": 424
        },
        "id": "UAR97cfYt_OT",
        "outputId": "e53b2f1c-d3c4-4654-ddd9-75d6f38f1056"
      },
      "execution_count": null,
      "outputs": [
        {
          "output_type": "execute_result",
          "data": {
            "text/plain": [
              "           x1        x2        x3        x4        x5        x6        x7  \\\n",
              "0    0.475091  0.276110  0.299358  0.087078  0.123683  0.394124  0.416350   \n",
              "1    0.537866  0.829535  0.495254  0.900441  0.344809  0.426889  0.310677   \n",
              "2    0.723264  0.992088  0.954653  0.736567  0.664077  0.353316  0.198652   \n",
              "3    0.360814  0.493507  0.465303  0.432073  0.695778  0.615628  0.101006   \n",
              "4    0.569709  0.580932  0.256024  0.361901  0.168695  0.649898  0.988138   \n",
              "..        ...       ...       ...       ...       ...       ...       ...   \n",
              "111  0.541511  0.524983  0.794936  1.000000  0.080395  0.612953  0.211786   \n",
              "112  0.538302  0.532785  0.805152  1.000000  0.100977  0.626232  0.204151   \n",
              "113  0.537956  0.525361  0.806706  1.000000  0.081448  0.606093  0.209692   \n",
              "114  0.538350  0.526591  0.819509  1.000000  0.075043  0.567331  0.194089   \n",
              "115  0.538405  0.526984  0.823753  1.000000  0.072988  0.562113  0.189047   \n",
              "\n",
              "           x8  \n",
              "0    0.733819  \n",
              "1    0.532300  \n",
              "2    0.289429  \n",
              "3    0.062506  \n",
              "4    0.325822  \n",
              "..        ...  \n",
              "111  0.808487  \n",
              "112  0.777234  \n",
              "113  0.807436  \n",
              "114  0.795037  \n",
              "115  0.791400  \n",
              "\n",
              "[116 rows x 8 columns]"
            ],
            "text/html": [
              "\n",
              "  <div id=\"df-853a5867-1a75-44d3-9ace-1a424e99bc6c\" class=\"colab-df-container\">\n",
              "    <div>\n",
              "<style scoped>\n",
              "    .dataframe tbody tr th:only-of-type {\n",
              "        vertical-align: middle;\n",
              "    }\n",
              "\n",
              "    .dataframe tbody tr th {\n",
              "        vertical-align: top;\n",
              "    }\n",
              "\n",
              "    .dataframe thead th {\n",
              "        text-align: right;\n",
              "    }\n",
              "</style>\n",
              "<table border=\"1\" class=\"dataframe\">\n",
              "  <thead>\n",
              "    <tr style=\"text-align: right;\">\n",
              "      <th></th>\n",
              "      <th>x1</th>\n",
              "      <th>x2</th>\n",
              "      <th>x3</th>\n",
              "      <th>x4</th>\n",
              "      <th>x5</th>\n",
              "      <th>x6</th>\n",
              "      <th>x7</th>\n",
              "      <th>x8</th>\n",
              "    </tr>\n",
              "  </thead>\n",
              "  <tbody>\n",
              "    <tr>\n",
              "      <th>0</th>\n",
              "      <td>0.475091</td>\n",
              "      <td>0.276110</td>\n",
              "      <td>0.299358</td>\n",
              "      <td>0.087078</td>\n",
              "      <td>0.123683</td>\n",
              "      <td>0.394124</td>\n",
              "      <td>0.416350</td>\n",
              "      <td>0.733819</td>\n",
              "    </tr>\n",
              "    <tr>\n",
              "      <th>1</th>\n",
              "      <td>0.537866</td>\n",
              "      <td>0.829535</td>\n",
              "      <td>0.495254</td>\n",
              "      <td>0.900441</td>\n",
              "      <td>0.344809</td>\n",
              "      <td>0.426889</td>\n",
              "      <td>0.310677</td>\n",
              "      <td>0.532300</td>\n",
              "    </tr>\n",
              "    <tr>\n",
              "      <th>2</th>\n",
              "      <td>0.723264</td>\n",
              "      <td>0.992088</td>\n",
              "      <td>0.954653</td>\n",
              "      <td>0.736567</td>\n",
              "      <td>0.664077</td>\n",
              "      <td>0.353316</td>\n",
              "      <td>0.198652</td>\n",
              "      <td>0.289429</td>\n",
              "    </tr>\n",
              "    <tr>\n",
              "      <th>3</th>\n",
              "      <td>0.360814</td>\n",
              "      <td>0.493507</td>\n",
              "      <td>0.465303</td>\n",
              "      <td>0.432073</td>\n",
              "      <td>0.695778</td>\n",
              "      <td>0.615628</td>\n",
              "      <td>0.101006</td>\n",
              "      <td>0.062506</td>\n",
              "    </tr>\n",
              "    <tr>\n",
              "      <th>4</th>\n",
              "      <td>0.569709</td>\n",
              "      <td>0.580932</td>\n",
              "      <td>0.256024</td>\n",
              "      <td>0.361901</td>\n",
              "      <td>0.168695</td>\n",
              "      <td>0.649898</td>\n",
              "      <td>0.988138</td>\n",
              "      <td>0.325822</td>\n",
              "    </tr>\n",
              "    <tr>\n",
              "      <th>...</th>\n",
              "      <td>...</td>\n",
              "      <td>...</td>\n",
              "      <td>...</td>\n",
              "      <td>...</td>\n",
              "      <td>...</td>\n",
              "      <td>...</td>\n",
              "      <td>...</td>\n",
              "      <td>...</td>\n",
              "    </tr>\n",
              "    <tr>\n",
              "      <th>111</th>\n",
              "      <td>0.541511</td>\n",
              "      <td>0.524983</td>\n",
              "      <td>0.794936</td>\n",
              "      <td>1.000000</td>\n",
              "      <td>0.080395</td>\n",
              "      <td>0.612953</td>\n",
              "      <td>0.211786</td>\n",
              "      <td>0.808487</td>\n",
              "    </tr>\n",
              "    <tr>\n",
              "      <th>112</th>\n",
              "      <td>0.538302</td>\n",
              "      <td>0.532785</td>\n",
              "      <td>0.805152</td>\n",
              "      <td>1.000000</td>\n",
              "      <td>0.100977</td>\n",
              "      <td>0.626232</td>\n",
              "      <td>0.204151</td>\n",
              "      <td>0.777234</td>\n",
              "    </tr>\n",
              "    <tr>\n",
              "      <th>113</th>\n",
              "      <td>0.537956</td>\n",
              "      <td>0.525361</td>\n",
              "      <td>0.806706</td>\n",
              "      <td>1.000000</td>\n",
              "      <td>0.081448</td>\n",
              "      <td>0.606093</td>\n",
              "      <td>0.209692</td>\n",
              "      <td>0.807436</td>\n",
              "    </tr>\n",
              "    <tr>\n",
              "      <th>114</th>\n",
              "      <td>0.538350</td>\n",
              "      <td>0.526591</td>\n",
              "      <td>0.819509</td>\n",
              "      <td>1.000000</td>\n",
              "      <td>0.075043</td>\n",
              "      <td>0.567331</td>\n",
              "      <td>0.194089</td>\n",
              "      <td>0.795037</td>\n",
              "    </tr>\n",
              "    <tr>\n",
              "      <th>115</th>\n",
              "      <td>0.538405</td>\n",
              "      <td>0.526984</td>\n",
              "      <td>0.823753</td>\n",
              "      <td>1.000000</td>\n",
              "      <td>0.072988</td>\n",
              "      <td>0.562113</td>\n",
              "      <td>0.189047</td>\n",
              "      <td>0.791400</td>\n",
              "    </tr>\n",
              "  </tbody>\n",
              "</table>\n",
              "<p>116 rows × 8 columns</p>\n",
              "</div>\n",
              "    <div class=\"colab-df-buttons\">\n",
              "\n",
              "  <div class=\"colab-df-container\">\n",
              "    <button class=\"colab-df-convert\" onclick=\"convertToInteractive('df-853a5867-1a75-44d3-9ace-1a424e99bc6c')\"\n",
              "            title=\"Convert this dataframe to an interactive table.\"\n",
              "            style=\"display:none;\">\n",
              "\n",
              "  <svg xmlns=\"http://www.w3.org/2000/svg\" height=\"24px\" viewBox=\"0 -960 960 960\">\n",
              "    <path d=\"M120-120v-720h720v720H120Zm60-500h600v-160H180v160Zm220 220h160v-160H400v160Zm0 220h160v-160H400v160ZM180-400h160v-160H180v160Zm440 0h160v-160H620v160ZM180-180h160v-160H180v160Zm440 0h160v-160H620v160Z\"/>\n",
              "  </svg>\n",
              "    </button>\n",
              "\n",
              "  <style>\n",
              "    .colab-df-container {\n",
              "      display:flex;\n",
              "      gap: 12px;\n",
              "    }\n",
              "\n",
              "    .colab-df-convert {\n",
              "      background-color: #E8F0FE;\n",
              "      border: none;\n",
              "      border-radius: 50%;\n",
              "      cursor: pointer;\n",
              "      display: none;\n",
              "      fill: #1967D2;\n",
              "      height: 32px;\n",
              "      padding: 0 0 0 0;\n",
              "      width: 32px;\n",
              "    }\n",
              "\n",
              "    .colab-df-convert:hover {\n",
              "      background-color: #E2EBFA;\n",
              "      box-shadow: 0px 1px 2px rgba(60, 64, 67, 0.3), 0px 1px 3px 1px rgba(60, 64, 67, 0.15);\n",
              "      fill: #174EA6;\n",
              "    }\n",
              "\n",
              "    .colab-df-buttons div {\n",
              "      margin-bottom: 4px;\n",
              "    }\n",
              "\n",
              "    [theme=dark] .colab-df-convert {\n",
              "      background-color: #3B4455;\n",
              "      fill: #D2E3FC;\n",
              "    }\n",
              "\n",
              "    [theme=dark] .colab-df-convert:hover {\n",
              "      background-color: #434B5C;\n",
              "      box-shadow: 0px 1px 3px 1px rgba(0, 0, 0, 0.15);\n",
              "      filter: drop-shadow(0px 1px 2px rgba(0, 0, 0, 0.3));\n",
              "      fill: #FFFFFF;\n",
              "    }\n",
              "  </style>\n",
              "\n",
              "    <script>\n",
              "      const buttonEl =\n",
              "        document.querySelector('#df-853a5867-1a75-44d3-9ace-1a424e99bc6c button.colab-df-convert');\n",
              "      buttonEl.style.display =\n",
              "        google.colab.kernel.accessAllowed ? 'block' : 'none';\n",
              "\n",
              "      async function convertToInteractive(key) {\n",
              "        const element = document.querySelector('#df-853a5867-1a75-44d3-9ace-1a424e99bc6c');\n",
              "        const dataTable =\n",
              "          await google.colab.kernel.invokeFunction('convertToInteractive',\n",
              "                                                    [key], {});\n",
              "        if (!dataTable) return;\n",
              "\n",
              "        const docLinkHtml = 'Like what you see? Visit the ' +\n",
              "          '<a target=\"_blank\" href=https://colab.research.google.com/notebooks/data_table.ipynb>data table notebook</a>'\n",
              "          + ' to learn more about interactive tables.';\n",
              "        element.innerHTML = '';\n",
              "        dataTable['output_type'] = 'display_data';\n",
              "        await google.colab.output.renderOutput(dataTable, element);\n",
              "        const docLink = document.createElement('div');\n",
              "        docLink.innerHTML = docLinkHtml;\n",
              "        element.appendChild(docLink);\n",
              "      }\n",
              "    </script>\n",
              "  </div>\n",
              "\n",
              "\n",
              "<div id=\"df-d9aa7db3-4461-414a-acfb-41ceb5594cc2\">\n",
              "  <button class=\"colab-df-quickchart\" onclick=\"quickchart('df-d9aa7db3-4461-414a-acfb-41ceb5594cc2')\"\n",
              "            title=\"Suggest charts\"\n",
              "            style=\"display:none;\">\n",
              "\n",
              "<svg xmlns=\"http://www.w3.org/2000/svg\" height=\"24px\"viewBox=\"0 0 24 24\"\n",
              "     width=\"24px\">\n",
              "    <g>\n",
              "        <path d=\"M19 3H5c-1.1 0-2 .9-2 2v14c0 1.1.9 2 2 2h14c1.1 0 2-.9 2-2V5c0-1.1-.9-2-2-2zM9 17H7v-7h2v7zm4 0h-2V7h2v10zm4 0h-2v-4h2v4z\"/>\n",
              "    </g>\n",
              "</svg>\n",
              "  </button>\n",
              "\n",
              "<style>\n",
              "  .colab-df-quickchart {\n",
              "      --bg-color: #E8F0FE;\n",
              "      --fill-color: #1967D2;\n",
              "      --hover-bg-color: #E2EBFA;\n",
              "      --hover-fill-color: #174EA6;\n",
              "      --disabled-fill-color: #AAA;\n",
              "      --disabled-bg-color: #DDD;\n",
              "  }\n",
              "\n",
              "  [theme=dark] .colab-df-quickchart {\n",
              "      --bg-color: #3B4455;\n",
              "      --fill-color: #D2E3FC;\n",
              "      --hover-bg-color: #434B5C;\n",
              "      --hover-fill-color: #FFFFFF;\n",
              "      --disabled-bg-color: #3B4455;\n",
              "      --disabled-fill-color: #666;\n",
              "  }\n",
              "\n",
              "  .colab-df-quickchart {\n",
              "    background-color: var(--bg-color);\n",
              "    border: none;\n",
              "    border-radius: 50%;\n",
              "    cursor: pointer;\n",
              "    display: none;\n",
              "    fill: var(--fill-color);\n",
              "    height: 32px;\n",
              "    padding: 0;\n",
              "    width: 32px;\n",
              "  }\n",
              "\n",
              "  .colab-df-quickchart:hover {\n",
              "    background-color: var(--hover-bg-color);\n",
              "    box-shadow: 0 1px 2px rgba(60, 64, 67, 0.3), 0 1px 3px 1px rgba(60, 64, 67, 0.15);\n",
              "    fill: var(--button-hover-fill-color);\n",
              "  }\n",
              "\n",
              "  .colab-df-quickchart-complete:disabled,\n",
              "  .colab-df-quickchart-complete:disabled:hover {\n",
              "    background-color: var(--disabled-bg-color);\n",
              "    fill: var(--disabled-fill-color);\n",
              "    box-shadow: none;\n",
              "  }\n",
              "\n",
              "  .colab-df-spinner {\n",
              "    border: 2px solid var(--fill-color);\n",
              "    border-color: transparent;\n",
              "    border-bottom-color: var(--fill-color);\n",
              "    animation:\n",
              "      spin 1s steps(1) infinite;\n",
              "  }\n",
              "\n",
              "  @keyframes spin {\n",
              "    0% {\n",
              "      border-color: transparent;\n",
              "      border-bottom-color: var(--fill-color);\n",
              "      border-left-color: var(--fill-color);\n",
              "    }\n",
              "    20% {\n",
              "      border-color: transparent;\n",
              "      border-left-color: var(--fill-color);\n",
              "      border-top-color: var(--fill-color);\n",
              "    }\n",
              "    30% {\n",
              "      border-color: transparent;\n",
              "      border-left-color: var(--fill-color);\n",
              "      border-top-color: var(--fill-color);\n",
              "      border-right-color: var(--fill-color);\n",
              "    }\n",
              "    40% {\n",
              "      border-color: transparent;\n",
              "      border-right-color: var(--fill-color);\n",
              "      border-top-color: var(--fill-color);\n",
              "    }\n",
              "    60% {\n",
              "      border-color: transparent;\n",
              "      border-right-color: var(--fill-color);\n",
              "    }\n",
              "    80% {\n",
              "      border-color: transparent;\n",
              "      border-right-color: var(--fill-color);\n",
              "      border-bottom-color: var(--fill-color);\n",
              "    }\n",
              "    90% {\n",
              "      border-color: transparent;\n",
              "      border-bottom-color: var(--fill-color);\n",
              "    }\n",
              "  }\n",
              "</style>\n",
              "\n",
              "  <script>\n",
              "    async function quickchart(key) {\n",
              "      const quickchartButtonEl =\n",
              "        document.querySelector('#' + key + ' button');\n",
              "      quickchartButtonEl.disabled = true;  // To prevent multiple clicks.\n",
              "      quickchartButtonEl.classList.add('colab-df-spinner');\n",
              "      try {\n",
              "        const charts = await google.colab.kernel.invokeFunction(\n",
              "            'suggestCharts', [key], {});\n",
              "      } catch (error) {\n",
              "        console.error('Error during call to suggestCharts:', error);\n",
              "      }\n",
              "      quickchartButtonEl.classList.remove('colab-df-spinner');\n",
              "      quickchartButtonEl.classList.add('colab-df-quickchart-complete');\n",
              "    }\n",
              "    (() => {\n",
              "      let quickchartButtonEl =\n",
              "        document.querySelector('#df-d9aa7db3-4461-414a-acfb-41ceb5594cc2 button');\n",
              "      quickchartButtonEl.style.display =\n",
              "        google.colab.kernel.accessAllowed ? 'block' : 'none';\n",
              "    })();\n",
              "  </script>\n",
              "</div>\n",
              "\n",
              "  <div id=\"id_17a576b7-a155-4cfe-b83a-ee683b39b72f\">\n",
              "    <style>\n",
              "      .colab-df-generate {\n",
              "        background-color: #E8F0FE;\n",
              "        border: none;\n",
              "        border-radius: 50%;\n",
              "        cursor: pointer;\n",
              "        display: none;\n",
              "        fill: #1967D2;\n",
              "        height: 32px;\n",
              "        padding: 0 0 0 0;\n",
              "        width: 32px;\n",
              "      }\n",
              "\n",
              "      .colab-df-generate:hover {\n",
              "        background-color: #E2EBFA;\n",
              "        box-shadow: 0px 1px 2px rgba(60, 64, 67, 0.3), 0px 1px 3px 1px rgba(60, 64, 67, 0.15);\n",
              "        fill: #174EA6;\n",
              "      }\n",
              "\n",
              "      [theme=dark] .colab-df-generate {\n",
              "        background-color: #3B4455;\n",
              "        fill: #D2E3FC;\n",
              "      }\n",
              "\n",
              "      [theme=dark] .colab-df-generate:hover {\n",
              "        background-color: #434B5C;\n",
              "        box-shadow: 0px 1px 3px 1px rgba(0, 0, 0, 0.15);\n",
              "        filter: drop-shadow(0px 1px 2px rgba(0, 0, 0, 0.3));\n",
              "        fill: #FFFFFF;\n",
              "      }\n",
              "    </style>\n",
              "    <button class=\"colab-df-generate\" onclick=\"generateWithVariable('init_samples')\"\n",
              "            title=\"Generate code using this dataframe.\"\n",
              "            style=\"display:none;\">\n",
              "\n",
              "  <svg xmlns=\"http://www.w3.org/2000/svg\" height=\"24px\"viewBox=\"0 0 24 24\"\n",
              "       width=\"24px\">\n",
              "    <path d=\"M7,19H8.4L18.45,9,17,7.55,7,17.6ZM5,21V16.75L18.45,3.32a2,2,0,0,1,2.83,0l1.4,1.43a1.91,1.91,0,0,1,.58,1.4,1.91,1.91,0,0,1-.58,1.4L9.25,21ZM18.45,9,17,7.55Zm-12,3A5.31,5.31,0,0,0,4.9,8.1,5.31,5.31,0,0,0,1,6.5,5.31,5.31,0,0,0,4.9,4.9,5.31,5.31,0,0,0,6.5,1,5.31,5.31,0,0,0,8.1,4.9,5.31,5.31,0,0,0,12,6.5,5.46,5.46,0,0,0,6.5,12Z\"/>\n",
              "  </svg>\n",
              "    </button>\n",
              "    <script>\n",
              "      (() => {\n",
              "      const buttonEl =\n",
              "        document.querySelector('#id_17a576b7-a155-4cfe-b83a-ee683b39b72f button.colab-df-generate');\n",
              "      buttonEl.style.display =\n",
              "        google.colab.kernel.accessAllowed ? 'block' : 'none';\n",
              "\n",
              "      buttonEl.onclick = () => {\n",
              "        google.colab.notebook.generateWithVariable('init_samples');\n",
              "      }\n",
              "      })();\n",
              "    </script>\n",
              "  </div>\n",
              "\n",
              "    </div>\n",
              "  </div>\n"
            ],
            "application/vnd.google.colaboratory.intrinsic+json": {
              "type": "dataframe",
              "variable_name": "init_samples",
              "summary": "{\n  \"name\": \"init_samples\",\n  \"rows\": 116,\n  \"fields\": [\n    {\n      \"column\": \"x1\",\n      \"properties\": {\n        \"dtype\": \"number\",\n        \"std\": 0.1540098550932255,\n        \"min\": 0.020214431512899738,\n        \"max\": 0.9814919611913652,\n        \"num_unique_values\": 116,\n        \"samples\": [\n          0.5372684657403695,\n          0.5697085122273645,\n          0.5262580560883175\n        ],\n        \"semantic_type\": \"\",\n        \"description\": \"\"\n      }\n    },\n    {\n      \"column\": \"x2\",\n      \"properties\": {\n        \"dtype\": \"number\",\n        \"std\": 0.15251438837578069,\n        \"min\": 0.018185324275696694,\n        \"max\": 0.9920880843178982,\n        \"num_unique_values\": 116,\n        \"samples\": [\n          0.5270248762128154,\n          0.5809322528462085,\n          0.5317729764070508\n        ],\n        \"semantic_type\": \"\",\n        \"description\": \"\"\n      }\n    },\n    {\n      \"column\": \"x3\",\n      \"properties\": {\n        \"dtype\": \"number\",\n        \"std\": 0.199162670822427,\n        \"min\": 7.203737724923234e-05,\n        \"max\": 0.9932187403763406,\n        \"num_unique_values\": 116,\n        \"samples\": [\n          0.7841386758986414,\n          0.2560244926155909,\n          0.7694599059317815\n        ],\n        \"semantic_type\": \"\",\n        \"description\": \"\"\n      }\n    },\n    {\n      \"column\": \"x4\",\n      \"properties\": {\n        \"dtype\": \"number\",\n        \"std\": 0.27052674007925626,\n        \"min\": 0.02947033755871707,\n        \"max\": 1.0,\n        \"num_unique_values\": 37,\n        \"samples\": [\n          0.4739888482232146,\n          0.23736016787941772,\n          0.36190098378266716\n        ],\n        \"semantic_type\": \"\",\n        \"description\": \"\"\n      }\n    },\n    {\n      \"column\": \"x5\",\n      \"properties\": {\n        \"dtype\": \"number\",\n        \"std\": 0.23914090667063287,\n        \"min\": 0.0,\n        \"max\": 0.9687638578468694,\n        \"num_unique_values\": 116,\n        \"samples\": [\n          0.08911765294520235,\n          0.16869516992272943,\n          0.09802026856547352\n        ],\n        \"semantic_type\": \"\",\n        \"description\": \"\"\n      }\n    },\n    {\n      \"column\": \"x6\",\n      \"properties\": {\n        \"dtype\": \"number\",\n        \"std\": 0.16658573057108292,\n        \"min\": 0.0021885342436889672,\n        \"max\": 0.9718407780331021,\n        \"num_unique_values\": 116,\n        \"samples\": [\n          0.642044231890925,\n          0.6498982168094546,\n          0.6472223301999708\n        ],\n        \"semantic_type\": \"\",\n        \"description\": \"\"\n      }\n    },\n    {\n      \"column\": \"x7\",\n      \"properties\": {\n        \"dtype\": \"number\",\n        \"std\": 0.19888266956619763,\n        \"min\": 0.0006632636972239668,\n        \"max\": 0.9881382445441778,\n        \"num_unique_values\": 116,\n        \"samples\": [\n          0.22209959355772718,\n          0.9881382445441778,\n          0.2371822184246548\n        ],\n        \"semantic_type\": \"\",\n        \"description\": \"\"\n      }\n    },\n    {\n      \"column\": \"x8\",\n      \"properties\": {\n        \"dtype\": \"number\",\n        \"std\": 0.20808737255115164,\n        \"min\": 0.029226502712216985,\n        \"max\": 0.9943389796961247,\n        \"num_unique_values\": 116,\n        \"samples\": [\n          0.8113120833182643,\n          0.32582236850128243,\n          0.7888904511407581\n        ],\n        \"semantic_type\": \"\",\n        \"description\": \"\"\n      }\n    }\n  ]\n}"
            }
          },
          "metadata": {},
          "execution_count": 15
        }
      ]
    },
    {
      "cell_type": "code",
      "source": [
        "X = run_turbo_constrained(eval_function_constrained_intensity, X_init=init_samples, objective=\"MINIMIZE\", len_chain=100)"
      ],
      "metadata": {
        "colab": {
          "base_uri": "https://localhost:8080/"
        },
        "id": "Z-gPww15uBVi",
        "outputId": "c339e7d6-af59-4425-f55a-922cf9364ea8"
      },
      "execution_count": null,
      "outputs": [
        {
          "output_type": "stream",
          "name": "stdout",
          "text": [
            "Step: 1\n",
            "Step: 11\n",
            "Step: 21\n",
            "Step: 31\n",
            "Step: 41\n",
            "Step: 51\n",
            "Step: 61\n",
            "Step: 71\n",
            "Step: 81\n",
            "Step: 91\n"
          ]
        }
      ]
    },
    {
      "cell_type": "code",
      "source": [
        "plt.plot(X.generator.data[\"c\"], 'ok')"
      ],
      "metadata": {
        "colab": {
          "base_uri": "https://localhost:8080/",
          "height": 449
        },
        "id": "T98uPsgqwUA0",
        "outputId": "9e57a005-1e05-4f86-e312-8070ae9c09d4"
      },
      "execution_count": null,
      "outputs": [
        {
          "output_type": "execute_result",
          "data": {
            "text/plain": [
              "[<matplotlib.lines.Line2D at 0x7cb94817cf90>]"
            ]
          },
          "metadata": {},
          "execution_count": 27
        },
        {
          "output_type": "display_data",
          "data": {
            "text/plain": [
              "<Figure size 640x480 with 1 Axes>"
            ],
            "image/png": "[encoded data removed]"
          },
          "metadata": {}
        }
      ]
    },
    {
      "cell_type": "code",
      "source": [
        "plt.plot(X.generator.data[\"f\"], 'ok')"
      ],
      "metadata": {
        "colab": {
          "base_uri": "https://localhost:8080/",
          "height": 449
        },
        "id": "bk7ce-kcwf6C",
        "outputId": "29d50ad2-d93c-4e05-9adb-9bf6c88f277f"
      },
      "execution_count": null,
      "outputs": [
        {
          "output_type": "execute_result",
          "data": {
            "text/plain": [
              "[<matplotlib.lines.Line2D at 0x7cb9400ab710>]"
            ]
          },
          "metadata": {},
          "execution_count": 28
        },
        {
          "output_type": "display_data",
          "data": {
            "text/plain": [
              "<Figure size 640x480 with 1 Axes>"
            ],
            "image/png": "[encoded data removed]"
          },
          "metadata": {}
        }
      ]
    },
    {
      "cell_type": "code",
      "execution_count": null,
      "metadata": {
        "id": "Yyifkq3SHm4-"
      },
      "outputs": [],
      "source": [
        "min_idx = np.argmin(X.generator.data[\"f\"])\n",
        "min_val = X.generator.data[\"f\"][min_idx]\n",
        "X_min = [X.generator.data[\"x1\"][min_idx],\n",
        "          X.generator.data[\"x2\"][min_idx],\n",
        "            X.generator.data[\"x3\"][min_idx],\n",
        "          X.generator.data[\"x4\"][min_idx],\n",
        "          X.generator.data[\"x5\"][min_idx],\n",
        "          X.generator.data[\"x6\"][min_idx],\n",
        "            X.generator.data[\"x7\"][min_idx],\n",
        "            X.generator.data[\"x8\"][min_idx]\n",
        "          ]\n",
        "print(X_min)\n",
        "print(min_val)"
      ]
    },
    {
      "cell_type": "code",
      "execution_count": null,
      "metadata": {
        "id": "a9SLHhM0KxTB"
      },
      "outputs": [],
      "source": [
        "chis = [X_min[2], X_min[3], X_min[6], X_min[7]]\n",
        "print(chis)"
      ]
    },
    {
      "cell_type": "code",
      "execution_count": null,
      "metadata": {
        "id": "bZsdhTHq_3ce"
      },
      "outputs": [],
      "source": [
        "X = run_turbo_intensity(eval_function_intensity, chis=chis)\n",
        "plot_results(X, \"MAXIMIZE\")"
      ]
    },
    {
      "cell_type": "code",
      "execution_count": null,
      "metadata": {
        "id": "F_XzTQLUJUDj"
      },
      "outputs": [],
      "source": [
        "min_idx = np.argmax(X.generator.data[\"f\"])\n",
        "min_val = X.generator.data[\"f\"][min_idx]\n",
        "X_min = [X.generator.data[\"x1\"][min_idx],\n",
        "          X.generator.data[\"x2\"][min_idx],\n",
        "            X.generator.data[\"x3\"][min_idx],\n",
        "          X.generator.data[\"x4\"][min_idx],\n",
        "          X.generator.data[\"x5\"][min_idx],\n",
        "          X.generator.data[\"x6\"][min_idx],\n",
        "            X.generator.data[\"x7\"][min_idx],\n",
        "            X.generator.data[\"x8\"][min_idx]\n",
        "          ]\n",
        "print(X_min)\n",
        "print(min_val)"
      ]
    },
    {
      "cell_type": "code",
      "execution_count": null,
      "metadata": {
        "id": "M7CnPk1oMs1R"
      },
      "outputs": [],
      "source": [
        "print(get_snd_outputs(np.array([X_min])))\n",
        "# print(get_snd_outputs(np.array([[0.75, 0.75, 0.48, 0.04, 0.75, 0.75, 0.99, 0.48]])))"
      ]
    },
    {
      "cell_type": "code",
      "execution_count": null,
      "metadata": {
        "id": "PGVHqBsC8RxR"
      },
      "outputs": [],
      "source": [
        "X = run_turbo(eval_function=eval_function_bpe, objective=\"MINIMIZE\",init_samples=8, len_chain=64)\n",
        "plot_results(X, objective=\"MINIMIZE\")"
      ]
    },
    {
      "cell_type": "code",
      "source": [
        "X.generator.turbo_controller.restrict_model_data=False\n",
        "X.generator.train_model()\n",
        "X.generator.visualize_model(variable_names=[\"x3\", \"x4\"])"
      ],
      "metadata": {
        "id": "5uDl3CVcFaon"
      },
      "execution_count": null,
      "outputs": []
    },
    {
      "cell_type": "code",
      "execution_count": null,
      "metadata": {
        "id": "roz-UlMF9mNS"
      },
      "outputs": [],
      "source": [
        "init_samples = pd.DataFrame({f'x{i+1}': X.generator.data[f\"x{i+1}\"] for i in range(8)})\n",
        "init_samples"
      ]
    },
    {
      "cell_type": "code",
      "execution_count": null,
      "metadata": {
        "id": "1k1VvsUxlpsm"
      },
      "outputs": [],
      "source": [
        "X = run_turbo_constrained(eval_function_constrained, init_samples, \"MAXIMIZE\", 100)\n",
        "plot_constrained(X)"
      ]
    },
    {
      "cell_type": "code",
      "execution_count": null,
      "metadata": {
        "id": "QF1IkHWBeHrB"
      },
      "outputs": [],
      "source": [
        "X = run_bo_constrained(eval_function_constrained, init_samples, \"MAXIMIZE\", 50)\n",
        "plot_constrained(X)"
      ]
    },
    {
      "cell_type": "code",
      "execution_count": null,
      "metadata": {
        "id": "gO3B7FkHynN8"
      },
      "outputs": [],
      "source": [
        "X = run_turbo(eval_function_intensity, \"MAXIMIZE\", 16, 84)\n",
        "plot_results(X)"
      ]
    },
    {
      "cell_type": "code",
      "execution_count": null,
      "metadata": {
        "id": "L4guzRQD0etP"
      },
      "outputs": [],
      "source": [
        "X = run_turbo(eval_function_bpe, \"MINIMIZE\", 16, 84)\n",
        "plot_results(X, \"MINIMIZE\")"
      ]
    },
    {
      "cell_type": "code",
      "execution_count": null,
      "metadata": {
        "id": "3vg2tKtp8yN9"
      },
      "outputs": [],
      "source": [
        "def run_turbo_constrained(eval_function,\n",
        "                          X_init,\n",
        "                          objective:str=\"MAXIMIZE\",\n",
        "                          len_chain=64):\n",
        "  \"\"\"\n",
        "  Runs TurBO chain on the eval function with objective,\n",
        "  with init_samples initial samples followed by len_chain samples.\n",
        "  Returns the Xopt object.\n",
        "  \"\"\"\n",
        "  low, high = 0.0, 1.0\n",
        "  n_init = init_samples\n",
        "  vocs = VOCS(\n",
        "      variables = {\"x1\": [low, high],\n",
        "                  \"x2\": [low, high],\n",
        "                  \"x3\": [low, high],\n",
        "                  \"x4\": [low, high],\n",
        "                  \"x5\": [low, high],\n",
        "                  \"x6\": [low, high],\n",
        "                  \"x7\": [low, high],\n",
        "                  \"x8\": [low, high]\n",
        "                  },\n",
        "      objectives = {\"f\": objective},\n",
        "      constraints={\"c\": [\"LESS_THAN\", 10.0]},\n",
        "    )\n",
        "  evaluator = Evaluator(function=eval_function)\n",
        "  generator = ExpectedImprovementGenerator(\n",
        "      vocs=vocs, turbo_controller=\"safety\"\n",
        "  )\n",
        "  X = Xopt(evaluator=evaluator, generator=generator, vocs=vocs)\n",
        "  X.evaluate_data(X_init)\n",
        "  X.generator.train_model()\n",
        "  X.generator.turbo_controller.update_state(X.generator.data)\n",
        "  X.generator.turbo_controller.get_trust_region(X.generator.model)\n",
        "\n",
        "  for i in range(len_chain):\n",
        "    if i % 10 == 0:\n",
        "      print(f\"Step: {i+1}\")\n",
        "    X.step()\n",
        "  return X\n",
        "\n"
      ]
    },
    {
      "cell_type": "code",
      "execution_count": null,
      "metadata": {
        "id": "8PQtDvxLN6KE"
      },
      "outputs": [],
      "source": [
        "def run_bo_constrained(eval_function,\n",
        "                       X_init,\n",
        "                       objective:str=\"MAXIMIZE\",\n",
        "                      len_chain=100):\n",
        "  \"\"\"\n",
        "  Runs BO chain on the eval function with objective,\n",
        "  with init_samples initial samples followed\n",
        "  by len_chain samples.\n",
        "  Returns the Xopt object.\n",
        "  \"\"\"\n",
        "  low, high = 0.0, 1.0\n",
        "  vocs = VOCS(\n",
        "      variables = {\"x1\": [low, high],\n",
        "                  \"x2\": [low, high],\n",
        "                  \"x3\": [low, high],\n",
        "                  \"x4\": [low, high],\n",
        "                  \"x5\": [low, high],\n",
        "                  \"x6\": [low, high],\n",
        "                  \"x7\": [low, high],\n",
        "                  \"x8\": [low, high]\n",
        "                  },\n",
        "      objectives = {\"f\": objective},\n",
        "      constraints={\"c\": [\"LESS_THAN\", 10.0]},\n",
        "    )\n",
        "  evaluator = Evaluator(function=eval_function)\n",
        "  generator = ExpectedImprovementGenerator(vocs=vocs)\n",
        "  X = Xopt(evaluator=evaluator, generator=generator, vocs=vocs)\n",
        "  X.evaluate_data(X_init)\n",
        "  for i in range(len_chain):\n",
        "    X.step()\n",
        "  return X"
      ]
    },
    {
      "cell_type": "code",
      "execution_count": null,
      "metadata": {
        "id": "gUk6W3bu_vqF"
      },
      "outputs": [],
      "source": [
        "X = run_turbo_constrained(eval_function_constrained, init_samples, \"MAXIMIZE\", 100)\n",
        "plot_results(X)"
      ]
    },
    {
      "cell_type": "code",
      "execution_count": null,
      "metadata": {
        "id": "efDgootnA--0"
      },
      "outputs": [],
      "source": [
        "def plot_constrained(X, constrain:str=\"MINIMIZE\", objective:str=\"MAXIMIZE\"):\n",
        "\n",
        "  c = X.generator.data[\"c\"]\n",
        "  c_mins = np.minimum.accumulate(c)\n",
        "  f = X.generator.data[\"f\"]\n",
        "  f_opts = np.maximum.accumulate(f)\n",
        "  idx = np.arange(len(c))\n",
        "\n",
        "  print(len(c), len(f), len(idx))\n",
        "\n",
        "  fig, (ax0, ax1) = plt.subplots(1, 2, figsize=(12, 7))\n",
        "  ax0.scatter(idx, c)\n",
        "  ax0.plot(idx, c_mins,'k')\n",
        "  ax0.grid()\n",
        "  ax0.set_xlabel(\"Sample Number\")\n",
        "  ax0.set_ylabel(\"Constraint\")\n",
        "\n",
        "  ax1.plot(idx, f_opts,'k')\n",
        "  ax1.plot(idx, f,'ok')\n",
        "  ax1.grid()\n",
        "  ax1.set_ylabel(\"Intensity\");\n",
        "  plt.show()"
      ]
    },
    {
      "cell_type": "code",
      "execution_count": null,
      "metadata": {
        "id": "AYtjS3EGA-l-"
      },
      "outputs": [],
      "source": [
        "plot_constrained(X)"
      ]
    },
    {
      "cell_type": "code",
      "execution_count": null,
      "metadata": {
        "id": "bWOAEZ9FA-Kz"
      },
      "outputs": [],
      "source": []
    },
    {
      "cell_type": "code",
      "execution_count": null,
      "metadata": {
        "id": "8uxzST1RqPe1"
      },
      "outputs": [],
      "source": [
        "def get_snd_outputs(inputs):\n",
        "  \"\"\"\n",
        "  Study 1 Objective function. Takes an [n, 8] dim np array of\n",
        "  [samples, ( t1_th1, t1_th2, chi1, chi2, t4_th1, t4_th2, chi1, chi2)].\n",
        "  The entries lie in the uniform unit interval.\n",
        "  They are scaled to lie in [-100e-6, +100e-6].\n",
        "  Returns a torch tensor of dim [n, 2] of\n",
        "  [samples, (do_sum_objective, IP_r_objective)]\n",
        "  \"\"\"\n",
        "  inputs = inputs*200e-6 - 100e-6\n",
        "  result = []\n",
        "\n",
        "  for x in inputs:\n",
        "    snd = SND(9500)\n",
        "    x = np.array(x)\n",
        "\n",
        "    snd.mvr_t1_th1(x[0])\n",
        "    snd.mvr_t1_th2(x[1])\n",
        "    snd.mvr_t1_chi1(x[2])\n",
        "    snd.mvr_t1_chi2(x[3])\n",
        "    snd.mvr_t4_th1(x[4])\n",
        "    snd.mvr_t4_th2(x[5])\n",
        "    snd.mvr_t4_chi1(x[6])\n",
        "    snd.mvr_t4_chi2(x[7])\n",
        "\n",
        "    snd.propagate_delay()\n",
        "\n",
        "    dh1 = snd.get_t1_dh_sum()\n",
        "    dd = snd.get_dd_sum()\n",
        "    dh4 = snd.get_t4_dh_sum()\n",
        "    do = snd.get_do_sum()\n",
        "    my_IP_sum = snd.get_IP_sum()\n",
        "    my_intensity = dh1 + dd + dh4 + do + my_IP_sum\n",
        "    #my_intensity *= (1.0 + np.random.rand() * 0.01)\n",
        "\n",
        "    do_centroid = snd.get_IP_r()\n",
        "    #do_centroid *= (1.0 + np.random.rand() * 0.01)\n",
        "    # do_centroid_x = snd.get_IP_cx()\n",
        "    # do_centroid_y = snd.get_IP_cy()\n",
        "\n",
        "\n",
        "    result.append([do_centroid*1e6, my_intensity/60000])\n",
        "\n",
        "  return torch.tensor(result, dtype=torch.float)"
      ]
    },
    {
      "cell_type": "code",
      "execution_count": null,
      "metadata": {
        "id": "eWj-p13T_6Rs"
      },
      "outputs": [],
      "source": [
        "def get_snd_outputs_detailed(inputs):\n",
        "  \"\"\"\n",
        "  Takes the X opt features, returns the values of the Beam Position Error and\n",
        "  Intensity at each sample.\n",
        "  \"\"\"\n",
        "  inputs = inputs*200e-6 - 100e-6\n",
        "  result = []\n",
        "\n",
        "  for x in inputs:\n",
        "    snd = SND(9500)\n",
        "    x = np.array(x)\n",
        "\n",
        "    snd.mvr_t1_th1(x[0])\n",
        "    snd.mvr_t1_th2(x[1])\n",
        "    snd.mvr_t1_chi1(x[2])\n",
        "    snd.mvr_t1_chi2(x[3])\n",
        "    snd.mvr_t4_th1(x[4])\n",
        "    snd.mvr_t4_th2(x[5])\n",
        "    snd.mvr_t4_chi1(x[6])\n",
        "    snd.mvr_t4_chi2(x[7])\n",
        "\n",
        "    snd.propagate_delay()\n",
        "\n",
        "    dh1 = snd.get_t1_dh_sum()\n",
        "    dd = snd.get_dd_sum()\n",
        "    dh4 = snd.get_t4_dh_sum()\n",
        "    do = snd.get_do_sum()\n",
        "    my_IP_sum = snd.get_IP_sum()\n",
        "    my_intensity = dh1 + dd + dh4 + do + my_IP_sum\n",
        "\n",
        "    do_centroid = snd.get_IP_r()\n",
        "    do_centroid_x = snd.get_IP_cx()\n",
        "    do_centroid_y = snd.get_IP_cy()\n",
        "\n",
        "    result.append([do_centroid*1e6, my_intensity])\n",
        "\n",
        "  return torch.tensor(result, dtype=torch.float)"
      ]
    },
    {
      "cell_type": "code",
      "execution_count": null,
      "metadata": {
        "id": "CHPbUdEPCdUF"
      },
      "outputs": [],
      "source": [
        "def eval_function_intensity(input_dict: dict) -> dict:\n",
        "  x1, x2, x3, x4, x5, x6, x7, x8 = input_dict[\"x1\"], input_dict[\"x2\"], input_dict[\"x3\"], input_dict[\"x4\"], input_dict[\"x5\"], input_dict[\"x6\"], input_dict[\"x7\"], input_dict[\"x8\"]\n",
        "  Xinp = np.expand_dims(np.array([x1, x2, x3, x4, x5, x6, x7, x8]), axis=0)\n",
        "  output = get_snd_outputs(Xinp)\n",
        "  f = output[0][1].item()\n",
        "  return {\"f\": f}"
      ]
    },
    {
      "cell_type": "code",
      "execution_count": null,
      "metadata": {
        "id": "xQkQHeoAc9vE"
      },
      "outputs": [],
      "source": [
        "def eval_function_bpe(input_dict: dict) -> dict:\n",
        "  x1, x2, x3, x4, x5, x6, x7, x8 = input_dict[\"x1\"], input_dict[\"x2\"], input_dict[\"x3\"], input_dict[\"x4\"], input_dict[\"x5\"], input_dict[\"x6\"], input_dict[\"x7\"], input_dict[\"x8\"]\n",
        "  Xinp = np.expand_dims(np.array([x1, x2, x3, x4, x5, x6, x7, x8]), axis=0)\n",
        "  output = get_snd_outputs(Xinp)\n",
        "  f = output[0][0].item()\n",
        "  return {\"f\": f}"
      ]
    },
    {
      "cell_type": "code",
      "execution_count": null,
      "metadata": {
        "id": "2pIc7RfEqlt-"
      },
      "outputs": [],
      "source": [
        "def eval_function(input_dict: dict) -> dict:\n",
        "  x1, x2, x3, x4, x5, x6, x7, x8 = input_dict[\"x1\"], input_dict[\"x2\"], input_dict[\"x3\"], input_dict[\"x4\"], input_dict[\"x5\"], input_dict[\"x6\"], input_dict[\"x7\"], input_dict[\"x8\"]\n",
        "  Xinp = np.expand_dims(np.array([x1, x2, x3, x4, x5, x6, x7, x8]), axis=0)\n",
        "  output = get_snd_outputs(Xinp)\n",
        "  f = output[0][0].item()\n",
        "  c = output[0][1].item()\n",
        "  return {\"f\": f, \"c\": c}"
      ]
    },
    {
      "cell_type": "code",
      "execution_count": null,
      "metadata": {
        "id": "p9edM03DwusO"
      },
      "outputs": [],
      "source": [
        "def run_bo(eval_function=eval_function,\n",
        "           objective:str=\"MAXIMIZE\",\n",
        "           init_samples=64,\n",
        "           len_chain=150):\n",
        "  \"\"\"\n",
        "  Runs BO chain on the eval function, with init_samples initial samples followed\n",
        "  by len_chain samples. c acts as the constraining variable\n",
        "  Returns the Xopt object.\n",
        "  \"\"\"\n",
        "  low = 0.0\n",
        "  high = 1.0\n",
        "  vocs = VOCS(\n",
        "      variables = {\"x1\": [low, high],\n",
        "                  \"x2\": [low, high],\n",
        "                  \"x3\": [low, high],\n",
        "                  \"x4\": [low, high],\n",
        "                  \"x5\": [low, high],\n",
        "                  \"x6\": [low, high],\n",
        "                  \"x7\": [low, high],\n",
        "                  \"x8\": [low, high]\n",
        "                  },\n",
        "      objectives = {\"f\": objective},\n",
        "#      constraints={\"c\": [\"GREATER_THAN\", 0.8]},\n",
        "    )\n",
        "  evaluator = Evaluator(function=eval_function)\n",
        "  generator = ExpectedImprovementGenerator(vocs=vocs)\n",
        "  X = Xopt(evaluator=evaluator, generator=generator, vocs=vocs)\n",
        "  X.random_evaluate(n_samples=init_samples)\n",
        "  for i in range(len_chain):\n",
        "    X.step()\n",
        "  return X"
      ]
    },
    {
      "cell_type": "code",
      "execution_count": null,
      "metadata": {
        "id": "ptDQFhteEPKt"
      },
      "outputs": [],
      "source": [
        "def run_bo_intensity(eval_function=eval_function_intensity, init_samples=16, len_chain=50):\n",
        "  \"\"\"\n",
        "  Runs BO chain on the eval function, with init_samples initial samples followed\n",
        "  by len_chain samples. c acts as the constraining variable\n",
        "  Returns the Xopt object.\n",
        "  \"\"\"\n",
        "  low = 0.0\n",
        "  high = 1.0\n",
        "  vocs = VOCS(\n",
        "      variables = {\"x1\": [low, high],\n",
        "                  \"x2\": [low, high],\n",
        "                  \"x3\": [low, high],\n",
        "                  \"x4\": [low, high],\n",
        "                  \"x5\": [low, high],\n",
        "                  \"x6\": [low, high],\n",
        "                  \"x7\": [low, high],\n",
        "                  \"x8\": [low, high]\n",
        "                  },\n",
        "      objectives = {\"f\": \"MAXIMIZE\"},\n",
        "    )\n",
        "  evaluator = Evaluator(function=eval_function)\n",
        "  generator = ExpectedImprovementGenerator(vocs=vocs)\n",
        "  X = Xopt(evaluator=evaluator, generator=generator, vocs=vocs)\n",
        "  X.random_evaluate(n_samples=init_samples)\n",
        "  for i in range(len_chain):\n",
        "    X.step()\n",
        "  return X"
      ]
    },
    {
      "cell_type": "code",
      "execution_count": null,
      "metadata": {
        "id": "pyXDT7y8mld0"
      },
      "outputs": [],
      "source": [
        "def run_turbo(eval_function=eval_function_intensity,\n",
        "              objective:str=\"MAXIMIZE\",\n",
        "              init_samples=32,\n",
        "              len_chain=50):\n",
        "  \"\"\"\n",
        "  Runs TurBO chain on the eval function, with init_samples initial samples followed\n",
        "  by len_chain samples.\n",
        "  Returns the Xopt object.\n",
        "  \"\"\"\n",
        "  low = 0.0\n",
        "  high = 1.0\n",
        "  n_init = init_samples\n",
        "  vocs = VOCS(\n",
        "      variables = {\"x1\": [low, high],\n",
        "                  \"x2\": [low, high],\n",
        "                  \"x3\": [low, high],\n",
        "                  \"x4\": [low, high],\n",
        "                  \"x5\": [low, high],\n",
        "                  \"x6\": [low, high],\n",
        "                  \"x7\": [low, high],\n",
        "                  \"x8\": [low, high]\n",
        "                  },\n",
        "      objectives = {\"f\": objective},\n",
        "    )\n",
        "  evaluator = Evaluator(function=eval_function)\n",
        "  generator = ExpectedImprovementGenerator(\n",
        "      vocs=vocs, turbo_controller=\"optimize\"\n",
        "  )\n",
        "  X = Xopt(evaluator=evaluator, generator=generator, vocs=vocs)\n",
        "  # X.generator.turbo_controller.scale_factor = 1.5\n",
        "  # X.generator.turbo_controller.success_tolerance = 10\n",
        "  # X.generator.turbo_controller.failure_tolerance = 10\n",
        "  # X.generator.turbo_controller.length = 1.0\n",
        "\n",
        "  sampler = qmc.LatinHypercube(d=8)\n",
        "  xs = sampler.random(n=n_init)\n",
        "  init_samples = pd.DataFrame({f'x{i+1}': xs[:,i] for i in range(xs.shape[1])})\n",
        "  X.evaluate_data(init_samples)\n",
        "\n",
        "  X.generator.train_model()\n",
        "  X.generator.turbo_controller.update_state(X.generator.data)\n",
        "  X.generator.turbo_controller.get_trust_region(X.generator.model)\n",
        "\n",
        "  for i in range(len_chain):\n",
        "    if i % 10 == 0:\n",
        "      print(f\"Step: {i+1}\")\n",
        "    model = X.generator.train_model()\n",
        "    trust_region = X.generator.turbo_controller.get_trust_region(generator.model)\\\n",
        "          .squeeze()\n",
        "    scale_factor = X.generator.turbo_controller.length\n",
        "    region_width = trust_region[1] - trust_region[0]\n",
        "    best_value = X.generator.turbo_controller.best_value\n",
        "\n",
        "    n_successes = X.generator.turbo_controller.success_counter\n",
        "    n_failures = X.generator.turbo_controller.failure_counter\n",
        "\n",
        "    acq = X.generator.get_acquisition(model)\n",
        "\n",
        "    X.step()\n",
        "\n",
        "  X.generator.turbo_controller\n",
        "\n",
        "  return X"
      ]
    },
    {
      "cell_type": "code",
      "execution_count": null,
      "metadata": {
        "id": "ETNfOTmM-_91"
      },
      "outputs": [],
      "source": [
        "def get_optimum_details(X, plot=True):\n",
        "  \"\"\"\n",
        "  Takes Xopt object, finds the sample with the minimum and prints the settings\n",
        "  of this sample, the beam position error and the inensity at this setting.\n",
        "  \"\"\"\n",
        "  min_idx = np.argmin(X.generator.data[\"f\"])\n",
        "  min_val = X.generator.data[\"f\"][min_idx]\n",
        "  X_min = [X.generator.data[\"x1\"][min_idx],\n",
        "          X.generator.data[\"x2\"][min_idx],\n",
        "            X.generator.data[\"x3\"][min_idx],\n",
        "          X.generator.data[\"x4\"][min_idx],\n",
        "          X.generator.data[\"x5\"][min_idx],\n",
        "          X.generator.data[\"x6\"][min_idx],\n",
        "            X.generator.data[\"x7\"][min_idx],\n",
        "            X.generator.data[\"x8\"][min_idx]\n",
        "          ]\n",
        "  inputs = np.array(X_min)\n",
        "  inputs = inputs[np.newaxis,:]\n",
        "  outs = get_snd_outputs_detailed(inputs)\n",
        "  print(\"Optimum Inputs: \", X_min)\n",
        "  print(\"BPE: \", outs[0][0].item())\n",
        "  print(\"Intensity:\", outs[0][1].item())\n",
        "\n",
        "  if plot:\n",
        "    y1 = X.generator.data[\"f\"]\n",
        "    y1_mins = np.minimum.accumulate(y1)\n",
        "\n",
        "    idx = np.arange(len(y1_mins))\n",
        "    fig, (ax0, ax1) = plt.subplots(1, 2, figsize=(12, 7))\n",
        "    ax0.plot(idx, y1_mins,'k')\n",
        "    ax0.grid()\n",
        "    ax0.set_xlabel(\"Sample Number\")\n",
        "    ax0.set_ylabel(\"Objective\")\n",
        "    ax1.plot(idx[-50:], y1_mins[-50:],'k')\n",
        "    ax1.grid()\n",
        "    ax1.set_ylabel(\"Objective\");\n",
        "    plt.show()\n"
      ]
    },
    {
      "cell_type": "code",
      "execution_count": null,
      "metadata": {
        "id": "h8ma78RZddtf"
      },
      "outputs": [],
      "source": [
        "X = run_turbo(eval_function_bpe, \"MINIMIZE\", 16, 96)\n",
        "X.data"
      ]
    },
    {
      "cell_type": "code",
      "execution_count": null,
      "metadata": {
        "id": "NAgmzKpkxsUO"
      },
      "outputs": [],
      "source": [
        "X = run_bo_intensity()\n",
        "X.data"
      ]
    },
    {
      "cell_type": "code",
      "execution_count": null,
      "metadata": {
        "id": "HTKtGj28C3bk"
      },
      "outputs": [],
      "source": [
        "X = run_turbo(eval_function_intensity, \"MAXIMIZE\", init_samples=16, len_chain=80)\n",
        "X.data"
      ]
    },
    {
      "cell_type": "code",
      "execution_count": null,
      "metadata": {
        "id": "vYHrIYJxN930"
      },
      "outputs": [],
      "source": [
        "y1 = X.generator.data[\"f\"]\n",
        "y1_mins = np.maximum.accumulate(y1)\n",
        "\n",
        "\n",
        "idx = np.arange(len(y1_mins))\n",
        "\n",
        "fig, (ax0, ax1) = plt.subplots(1, 2, figsize=(12, 7))\n",
        "ax0.scatter(idx, y1)\n",
        "ax0.plot(idx, y1_mins,'k')\n",
        "ax0.grid()\n",
        "ax0.set_xlabel(\"Sample Number\")\n",
        "ax0.set_ylabel(\"Objective\")\n",
        "\n",
        "ax1.plot(idx[-25:], y1_mins[-25:],'k')\n",
        "ax1.plot(idx[-25:], y1[-25:],'ok')\n",
        "ax1.grid()\n",
        "ax1.set_ylabel(\"Objective\");"
      ]
    },
    {
      "cell_type": "code",
      "execution_count": null,
      "metadata": {
        "id": "NvWNIT5zatIp"
      },
      "outputs": [],
      "source": [
        "y1 = X.generator.data[\"f\"]\n",
        "y1_mins = np.minimum.accumulate(y1)\n",
        "\n",
        "\n",
        "idx = np.arange(len(y1_mins))\n",
        "\n",
        "fig, (ax0, ax1) = plt.subplots(1, 2, figsize=(12, 7))\n",
        "ax0.scatter(idx, y1)\n",
        "ax0.plot(idx, y1_mins,'k')\n",
        "ax0.grid()\n",
        "ax0.set_xlabel(\"Sample Number\")\n",
        "ax0.set_ylabel(\"Objective\")\n",
        "\n",
        "ax1.plot(idx[-25:], y1_mins[-25:],'k')\n",
        "ax1.plot(idx[-25:], y1[-25:],'ok')\n",
        "ax1.grid()\n",
        "ax1.set_ylabel(\"Objective\");"
      ]
    },
    {
      "cell_type": "code",
      "execution_count": null,
      "metadata": {
        "id": "Qcceoz9cThIC"
      },
      "outputs": [],
      "source": [
        "def plot_optima_from_generator_data(X, plot=True):\n",
        "  \"\"\"\n",
        "  Takes Xopt object, returns and plots the (noise-less) data for\n",
        "  beam position error and intensity.\n",
        "  Args:\n",
        "    X: Xopt object\n",
        "    plot: boolean to plot or not\n",
        "  Returns:\n",
        "    tuple of beam position error sample and intensity sample histories.\n",
        "  \"\"\"\n",
        "  features = [\"x1\",  \"x2\", \"x3\", \"x4\", \"x5\",  \"x6\", \"x7\", \"x8\"]\n",
        "  points = X.generator.data[features].to_numpy()\n",
        "  outs = get_snd_outputs_detailed(points).numpy()\n",
        "  bpe_vals,  intensity_vals =   outs[:,0], outs[:,1]\n",
        "  bpe_optima = np.minimum.accumulate(bpe_vals)\n",
        "  intensity_optima = np.maximum.accumulate(intensity_vals)\n",
        "\n",
        "  if plot:\n",
        "    fig, [ax1, ax2] = plt.subplots(nrows=2, ncols=1, figsize=(7,10))\n",
        "    ax1.plot(bpe_optima, 'k')\n",
        "    ax1.scatter(np.arange(len(bpe_optima)), bpe_vals)\n",
        "    ax1.set_xlabel(\"Sample Number\")\n",
        "    ax1.set_ylabel(\"BPE (microns)\")\n",
        "\n",
        "\n",
        "    ax2.plot(intensity_optima, 'k')\n",
        "    ax2.scatter(np.arange(len(intensity_optima)), intensity_vals)\n",
        "    ax2.set_xlabel(\"Sample Number\")\n",
        "    ax2.set_ylabel(\"Intensity\")\n",
        "    plt.show()\n",
        "\n",
        "  return bpe_vals,  intensity_vals"
      ]
    },
    {
      "cell_type": "code",
      "execution_count": null,
      "metadata": {
        "id": "Aa_01BZpkLI8"
      },
      "outputs": [],
      "source": [
        "vocs = VOCS(\n",
        "    variables={\"x\": [0, 2 * math.pi]},\n",
        "    objectives={\"f\": \"MINIMIZE\"},\n",
        "    constraints={\"c\": [\"LESS_THAN\", 0]},\n",
        ")"
      ]
    },
    {
      "cell_type": "code",
      "execution_count": null,
      "metadata": {
        "id": "NRgJadhtkOD-"
      },
      "outputs": [],
      "source": [
        "def test_function(input_dict):\n",
        "    return {\"f\": np.sin(input_dict[\"x\"]), \"c\": np.cos(input_dict[\"x\"])}"
      ]
    },
    {
      "cell_type": "code",
      "execution_count": null,
      "metadata": {
        "id": "zWcZHQwqkQaV"
      },
      "outputs": [],
      "source": [
        "evaluator = Evaluator(function=test_function)\n",
        "generator = ExpectedImprovementGenerator(vocs=vocs)\n",
        "X = Xopt(evaluator=evaluator, generator=generator, vocs=vocs)"
      ]
    },
    {
      "cell_type": "code",
      "execution_count": null,
      "metadata": {
        "id": "XFs14uFWkTZy"
      },
      "outputs": [],
      "source": [
        "X.random_evaluate(n_samples=2)\n",
        "\n",
        "# inspect the gathered data\n",
        "X.data"
      ]
    },
    {
      "cell_type": "code",
      "execution_count": null,
      "metadata": {
        "id": "xKIXrjgdkVqs"
      },
      "outputs": [],
      "source": [
        "n_steps = 50\n",
        "\n",
        "# test points for plotting\n",
        "\n",
        "for i in range(n_steps):\n",
        "\n",
        "    # do the optimization step\n",
        "    X.step()"
      ]
    },
    {
      "cell_type": "code",
      "execution_count": null,
      "metadata": {
        "id": "K30CGWEukbMx"
      },
      "outputs": [],
      "source": [
        "plt.plot(X.data[\"f\"], \"ok\")"
      ]
    },
    {
      "cell_type": "code",
      "execution_count": null,
      "metadata": {
        "id": "ZZx1jtuhkv48"
      },
      "outputs": [],
      "source": [
        "plt.plot(X.data[\"c\"], \"ok\")"
      ]
    },
    {
      "cell_type": "code",
      "execution_count": null,
      "metadata": {
        "id": "K2ppGyySkyF9"
      },
      "outputs": [],
      "source": []
    }
  ],
  "metadata": {
    "colab": {
      "provenance": [],
      "authorship_tag": "ABX9TyNU2zVnGFajE9giuXXYUDYN"
    },
    "kernelspec": {
      "display_name": "Python 3",
      "name": "python3"
    },
    "language_info": {
      "name": "python"
    }
  },
  "nbformat": 4,
  "nbformat_minor": 0
}
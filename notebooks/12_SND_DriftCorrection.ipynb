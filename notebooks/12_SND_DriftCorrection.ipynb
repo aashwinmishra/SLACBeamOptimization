{
  "nbformat": 4,
  "nbformat_minor": 0,
  "metadata": {
    "colab": {
      "provenance": [],
      "authorship_tag": "ABX9TyMOuGF797kEqNf8px4w+U2X"
    },
    "kernelspec": {
      "name": "python3",
      "display_name": "Python 3"
    },
    "language_info": {
      "name": "python"
    }
  },
  "cells": [
    {
      "cell_type": "code",
      "execution_count": 1,
      "metadata": {
        "colab": {
          "base_uri": "https://localhost:8080/"
        },
        "id": "Q6_PaM521l-L",
        "outputId": "dcbc6260-55d3-4a46-cf9e-c6d8087e4223"
      },
      "outputs": [
        {
          "output_type": "stream",
          "name": "stdout",
          "text": [
            "Cloning into 'lcls_beamline_toolbox'...\n",
            "remote: Enumerating objects: 3341, done.\u001b[K\n",
            "remote: Counting objects: 100% (612/612), done.\u001b[K\n",
            "remote: Compressing objects: 100% (225/225), done.\u001b[K\n",
            "remote: Total 3341 (delta 531), reused 458 (delta 387), pack-reused 2729 (from 1)\u001b[K\n",
            "Receiving objects: 100% (3341/3341), 233.19 MiB | 9.28 MiB/s, done.\n",
            "Resolving deltas: 100% (2581/2581), done.\n",
            "Updating files: 100% (144/144), done.\n"
          ]
        }
      ],
      "source": [
        "!git clone https://github.com/mseaberg/lcls_beamline_toolbox"
      ]
    },
    {
      "cell_type": "code",
      "source": [
        "import os\n",
        "os.chdir('lcls_beamline_toolbox')\n",
        "!python3 -m pip install -e . -q\n",
        "!pip install xraydb -q\n",
        "!pip install xopt -q"
      ],
      "metadata": {
        "colab": {
          "base_uri": "https://localhost:8080/"
        },
        "id": "hVU7hWtJ1r5C",
        "outputId": "ba04ded2-e9d2-4475-da3c-2e7de5d2bbef"
      },
      "execution_count": 2,
      "outputs": [
        {
          "output_type": "stream",
          "name": "stdout",
          "text": [
            "  Preparing metadata (setup.py) ... \u001b[?25l\u001b[?25hdone\n",
            "\u001b[2K     \u001b[90m━━━━━━━━━━━━━━━━━━━━━━━━━━━━━━━━━━━━━━━━\u001b[0m \u001b[32m9.5/9.5 MB\u001b[0m \u001b[31m19.5 MB/s\u001b[0m eta \u001b[36m0:00:00\u001b[0m\n",
            "\u001b[?25h  Preparing metadata (setup.py) ... \u001b[?25l\u001b[?25hdone\n",
            "\u001b[2K   \u001b[90m━━━━━━━━━━━━━━━━━━━━━━━━━━━━━━━━━━━━━━━━\u001b[0m \u001b[32m11.7/11.7 MB\u001b[0m \u001b[31m93.1 MB/s\u001b[0m eta \u001b[36m0:00:00\u001b[0m\n",
            "\u001b[2K   \u001b[90m━━━━━━━━━━━━━━━━━━━━━━━━━━━━━━━━━━━━━━━━\u001b[0m \u001b[32m724.6/724.6 kB\u001b[0m \u001b[31m46.1 MB/s\u001b[0m eta \u001b[36m0:00:00\u001b[0m\n",
            "\u001b[2K   \u001b[90m━━━━━━━━━━━━━━━━━━━━━━━━━━━━━━━━━━━━━━━━\u001b[0m \u001b[32m105.6/105.6 kB\u001b[0m \u001b[31m10.5 MB/s\u001b[0m eta \u001b[36m0:00:00\u001b[0m\n",
            "\u001b[2K   \u001b[90m━━━━━━━━━━━━━━━━━━━━━━━━━━━━━━━━━━━━━━━━\u001b[0m \u001b[32m121.1/121.1 kB\u001b[0m \u001b[31m8.2 MB/s\u001b[0m eta \u001b[36m0:00:00\u001b[0m\n",
            "\u001b[2K   \u001b[90m━━━━━━━━━━━━━━━━━━━━━━━━━━━━━━━━━━━━━━━━\u001b[0m \u001b[32m69.1/69.1 kB\u001b[0m \u001b[31m6.0 MB/s\u001b[0m eta \u001b[36m0:00:00\u001b[0m\n",
            "\u001b[2K   \u001b[90m━━━━━━━━━━━━━━━━━━━━━━━━━━━━━━━━━━━━━━━━\u001b[0m \u001b[32m385.8/385.8 kB\u001b[0m \u001b[31m29.8 MB/s\u001b[0m eta \u001b[36m0:00:00\u001b[0m\n",
            "\u001b[2K   \u001b[90m━━━━━━━━━━━━━━━━━━━━━━━━━━━━━━━━━━━━━━━━\u001b[0m \u001b[32m133.5/133.5 kB\u001b[0m \u001b[31m12.4 MB/s\u001b[0m eta \u001b[36m0:00:00\u001b[0m\n",
            "\u001b[2K   \u001b[90m━━━━━━━━━━━━━━━━━━━━━━━━━━━━━━━━━━━━━━━━\u001b[0m \u001b[32m59.7/59.7 kB\u001b[0m \u001b[31m5.7 MB/s\u001b[0m eta \u001b[36m0:00:00\u001b[0m\n",
            "\u001b[2K   \u001b[90m━━━━━━━━━━━━━━━━━━━━━━━━━━━━━━━━━━━━━━━━\u001b[0m \u001b[32m92.8/92.8 kB\u001b[0m \u001b[31m7.9 MB/s\u001b[0m eta \u001b[36m0:00:00\u001b[0m\n",
            "\u001b[2K   \u001b[90m━━━━━━━━━━━━━━━━━━━━━━━━━━━━━━━━━━━━━━━━\u001b[0m \u001b[32m1.6/1.6 MB\u001b[0m \u001b[31m60.2 MB/s\u001b[0m eta \u001b[36m0:00:00\u001b[0m\n",
            "\u001b[2K   \u001b[90m━━━━━━━━━━━━━━━━━━━━━━━━━━━━━━━━━━━━━━━━\u001b[0m \u001b[32m66.4/66.4 kB\u001b[0m \u001b[31m5.9 MB/s\u001b[0m eta \u001b[36m0:00:00\u001b[0m\n",
            "\u001b[?25h  Building wheel for xrt (setup.py) ... \u001b[?25l\u001b[?25hdone\n",
            "\u001b[2K   \u001b[90m━━━━━━━━━━━━━━━━━━━━━━━━━━━━━━━━━━━━━━━━\u001b[0m \u001b[32m3.9/3.9 MB\u001b[0m \u001b[31m39.4 MB/s\u001b[0m eta \u001b[36m0:00:00\u001b[0m\n",
            "\u001b[2K     \u001b[90m━━━━━━━━━━━━━━━━━━━━━━━━━━━━━━━━━━━━━━━━\u001b[0m \u001b[32m924.2/924.2 kB\u001b[0m \u001b[31m18.6 MB/s\u001b[0m eta \u001b[36m0:00:00\u001b[0m\n",
            "\u001b[?25h  Installing build dependencies ... \u001b[?25l\u001b[?25hdone\n",
            "  Getting requirements to build wheel ... \u001b[?25l\u001b[?25hdone\n",
            "  Preparing metadata (pyproject.toml) ... \u001b[?25l\u001b[?25hdone\n",
            "\u001b[2K   \u001b[90m━━━━━━━━━━━━━━━━━━━━━━━━━━━━━━━━━━━━━━━━\u001b[0m \u001b[32m706.8/706.8 kB\u001b[0m \u001b[31m45.0 MB/s\u001b[0m eta \u001b[36m0:00:00\u001b[0m\n",
            "\u001b[2K   \u001b[90m━━━━━━━━━━━━━━━━━━━━━━━━━━━━━━━━━━━━━━━━\u001b[0m \u001b[32m277.7/277.7 kB\u001b[0m \u001b[31m22.9 MB/s\u001b[0m eta \u001b[36m0:00:00\u001b[0m\n",
            "\u001b[2K   \u001b[90m━━━━━━━━━━━━━━━━━━━━━━━━━━━━━━━━━━━━━━━━\u001b[0m \u001b[32m176.3/176.3 kB\u001b[0m \u001b[31m14.9 MB/s\u001b[0m eta \u001b[36m0:00:00\u001b[0m\n",
            "\u001b[2K   \u001b[90m━━━━━━━━━━━━━━━━━━━━━━━━━━━━━━━━━━━━━━━━\u001b[0m \u001b[32m135.4/135.4 kB\u001b[0m \u001b[31m13.0 MB/s\u001b[0m eta \u001b[36m0:00:00\u001b[0m\n",
            "\u001b[2K   \u001b[90m━━━━━━━━━━━━━━━━━━━━━━━━━━━━━━━━━━━━━━━━\u001b[0m \u001b[32m756.0/756.0 kB\u001b[0m \u001b[31m46.1 MB/s\u001b[0m eta \u001b[36m0:00:00\u001b[0m\n",
            "\u001b[2K   \u001b[90m━━━━━━━━━━━━━━━━━━━━━━━━━━━━━━━━━━━━━━━━\u001b[0m \u001b[32m363.4/363.4 MB\u001b[0m \u001b[31m1.3 MB/s\u001b[0m eta \u001b[36m0:00:00\u001b[0m\n",
            "\u001b[2K   \u001b[90m━━━━━━━━━━━━━━━━━━━━━━━━━━━━━━━━━━━━━━━━\u001b[0m \u001b[32m13.8/13.8 MB\u001b[0m \u001b[31m88.3 MB/s\u001b[0m eta \u001b[36m0:00:00\u001b[0m\n",
            "\u001b[2K   \u001b[90m━━━━━━━━━━━━━━━━━━━━━━━━━━━━━━━━━━━━━━━━\u001b[0m \u001b[32m24.6/24.6 MB\u001b[0m \u001b[31m70.7 MB/s\u001b[0m eta \u001b[36m0:00:00\u001b[0m\n",
            "\u001b[2K   \u001b[90m━━━━━━━━━━━━━━━━━━━━━━━━━━━━━━━━━━━━━━━━\u001b[0m \u001b[32m883.7/883.7 kB\u001b[0m \u001b[31m51.9 MB/s\u001b[0m eta \u001b[36m0:00:00\u001b[0m\n",
            "\u001b[2K   \u001b[90m━━━━━━━━━━━━━━━━━━━━━━━━━━━━━━━━━━━━━━━━\u001b[0m \u001b[32m664.8/664.8 MB\u001b[0m \u001b[31m2.5 MB/s\u001b[0m eta \u001b[36m0:00:00\u001b[0m\n",
            "\u001b[2K   \u001b[90m━━━━━━━━━━━━━━━━━━━━━━━━━━━━━━━━━━━━━━━━\u001b[0m \u001b[32m211.5/211.5 MB\u001b[0m \u001b[31m6.0 MB/s\u001b[0m eta \u001b[36m0:00:00\u001b[0m\n",
            "\u001b[2K   \u001b[90m━━━━━━━━━━━━━━━━━━━━━━━━━━━━━━━━━━━━━━━━\u001b[0m \u001b[32m56.3/56.3 MB\u001b[0m \u001b[31m13.2 MB/s\u001b[0m eta \u001b[36m0:00:00\u001b[0m\n",
            "\u001b[2K   \u001b[90m━━━━━━━━━━━━━━━━━━━━━━━━━━━━━━━━━━━━━━━━\u001b[0m \u001b[32m127.9/127.9 MB\u001b[0m \u001b[31m7.3 MB/s\u001b[0m eta \u001b[36m0:00:00\u001b[0m\n",
            "\u001b[2K   \u001b[90m━━━━━━━━━━━━━━━━━━━━━━━━━━━━━━━━━━━━━━━━\u001b[0m \u001b[32m207.5/207.5 MB\u001b[0m \u001b[31m6.0 MB/s\u001b[0m eta \u001b[36m0:00:00\u001b[0m\n",
            "\u001b[2K   \u001b[90m━━━━━━━━━━━━━━━━━━━━━━━━━━━━━━━━━━━━━━━━\u001b[0m \u001b[32m21.1/21.1 MB\u001b[0m \u001b[31m52.8 MB/s\u001b[0m eta \u001b[36m0:00:00\u001b[0m\n",
            "\u001b[2K   \u001b[90m━━━━━━━━━━━━━━━━━━━━━━━━━━━━━━━━━━━━━━━━\u001b[0m \u001b[32m56.4/56.4 kB\u001b[0m \u001b[31m4.7 MB/s\u001b[0m eta \u001b[36m0:00:00\u001b[0m\n",
            "\u001b[?25h  Building wheel for xopt (pyproject.toml) ... \u001b[?25l\u001b[?25hdone\n"
          ]
        }
      ]
    },
    {
      "cell_type": "code",
      "source": [
        "import warnings\n",
        "warnings.filterwarnings(\"ignore\")\n",
        "from tqdm import trange\n",
        "import time\n",
        "import numpy as np\n",
        "import pandas as pd\n",
        "import matplotlib.pyplot as plt\n",
        "import lcls_beamline_toolbox.xraywavetrace.beam1d as beam\n",
        "import lcls_beamline_toolbox.xraywavetrace.optics1d as optics\n",
        "import lcls_beamline_toolbox.xraywavetrace.beamline1d as beamline\n",
        "import scipy.optimize as optimize\n",
        "import copy\n",
        "import scipy.spatial.transform as transform\n",
        "from split_and_delay import SND\n",
        "\n",
        "import torch\n",
        "import gpytorch\n",
        "import botorch\n",
        "from xopt import Xopt, Evaluator\n",
        "from xopt.generators.bayesian import MOBOGenerator, ExpectedImprovementGenerator, TDUpperConfidenceBoundGenerator, TDExpectedImprovementGenerator\n",
        "from xopt.resources.test_functions.tnk import evaluate_TNK, tnk_vocs\n",
        "from xopt import VOCS\n",
        "from xopt import Xopt"
      ],
      "metadata": {
        "id": "Elx3U8ZN1vRs"
      },
      "execution_count": 4,
      "outputs": []
    },
    {
      "cell_type": "code",
      "source": [
        "def get_snd_outputs(inputs):\n",
        "  \"\"\"\n",
        "  Study 1 Objective function. Takes an [n, 8] dim np array of\n",
        "  [samples, ( t1_th1, t1_th2, chi1, chi2, t4_th1, t4_th2, chi1, chi2)].\n",
        "  The entries lie in the uniform unit interval.\n",
        "  They are scaled to lie in [-100e-6, +100e-6].\n",
        "  Returns a torch tensor of dim [n, 2] of\n",
        "  [samples, (do_sum_objective, IP_r_objective)]\n",
        "  \"\"\"\n",
        "  inputs = inputs*20e-6 - 10e-6\n",
        "  result = []\n",
        "\n",
        "  for x in inputs:\n",
        "    snd = SND(9500)\n",
        "    x = np.array(x)\n",
        "\n",
        "    snd.mvr_t1_th1(x[0])\n",
        "    snd.mvr_t1_th2(x[1])\n",
        "    snd.mvr_t4_th1(x[2])\n",
        "    snd.mvr_t4_th2(x[3])\n",
        "\n",
        "\n",
        "    snd.propagate_delay()\n",
        "\n",
        "    dh1 = snd.get_t1_dh_sum()\n",
        "    dd = snd.get_dd_sum()\n",
        "    dh4 = snd.get_t4_dh_sum()\n",
        "    do = snd.get_do_sum()\n",
        "    my_IP_sum = snd.get_IP_sum()\n",
        "    my_intensity = dh1 + dd + dh4 + do + my_IP_sum\n",
        "\n",
        "    do_centroid = snd.get_IP_r()\n",
        "    do_centroid_x = snd.get_IP_cx()\n",
        "    do_centroid_y = snd.get_IP_cy()\n",
        "\n",
        "\n",
        "\n",
        "    result.append((my_intensity)/(61441.4336))\n",
        "    del snd\n",
        "  return torch.tensor(result, dtype=torch.float)"
      ],
      "metadata": {
        "id": "fN0oMzxV2u98"
      },
      "execution_count": 52,
      "outputs": []
    },
    {
      "cell_type": "code",
      "source": [
        "input = np.ones((1,4)) * 1.0\n",
        "get_snd_outputs(input)"
      ],
      "metadata": {
        "colab": {
          "base_uri": "https://localhost:8080/"
        },
        "id": "1frb-SpP8r31",
        "outputId": "6a49734d-dc15-4188-c572-46b0d8f57f5d"
      },
      "execution_count": 27,
      "outputs": [
        {
          "output_type": "execute_result",
          "data": {
            "text/plain": [
              "tensor([0.0230])"
            ]
          },
          "metadata": {},
          "execution_count": 27
        }
      ]
    },
    {
      "cell_type": "code",
      "source": [],
      "metadata": {
        "id": "mNpi8qywU5gm"
      },
      "execution_count": 5,
      "outputs": []
    },
    {
      "cell_type": "code",
      "source": [
        "def f(input_dict: dict) -> dict:\n",
        "  current_time = time.time()\n",
        "  t = current_time - start_time\n",
        "  drift = 0.001\n",
        "  print(t*drift)\n",
        "  if t > 20:\n",
        "    x1, x2, x3, x4 = input_dict[\"x1\"] + t*drift, input_dict[\"x2\"] + t*drift, input_dict[\"x3\"] + t*drift, input_dict[\"x4\"] + t*drift\n",
        "  else:\n",
        "    x1, x2, x3, x4 = input_dict[\"x1\"], input_dict[\"x2\"], input_dict[\"x3\"], input_dict[\"x4\"]\n",
        "  Xinp = np.expand_dims(np.array([x1, x2, x3, x4]), axis=0)\n",
        "  output = get_snd_outputs(Xinp).squeeze()\n",
        "  f = output.item()\n",
        "  return {\"f\": f, \"time\": float(current_time)}"
      ],
      "metadata": {
        "id": "Iot6iNAY-cKv"
      },
      "execution_count": 24,
      "outputs": []
    },
    {
      "cell_type": "code",
      "source": [
        "def eval_function(input_dict: dict) -> dict:\n",
        "  drift = 0.01\n",
        "  if time > 20:\n",
        "    x1, x2, x3, x4 = input_dict[\"x1\"] + time*drift, input_dict[\"x2\"] + time*drift, input_dict[\"x3\"] + time*drift, input_dict[\"x4\"] + time*drift\n",
        "  else:\n",
        "    x1, x2, x3, x4 = input_dict[\"x1\"], input_dict[\"x2\"], input_dict[\"x3\"], input_dict[\"x4\"]\n",
        "  Xinp = np.expand_dims(np.array([x1, x2, x3, x4]), axis=0)\n",
        "  output = get_snd_outputs(Xinp).squeeze()\n",
        "  f = output.item()\n",
        "  return {\"f\": f}"
      ],
      "metadata": {
        "id": "NfymWPDodmv5"
      },
      "execution_count": 7,
      "outputs": []
    },
    {
      "cell_type": "code",
      "source": [
        "low = 0.0\n",
        "high = 1.0\n",
        "n_init = 64\n",
        "vocs = VOCS(\n",
        "    variables = {\"x1\": [low, high],\n",
        "                \"x2\": [low, high],\n",
        "                \"x3\": [low, high],\n",
        "                \"x4\": [low, high]\n",
        "                 },\n",
        "    objectives = {\"f\": \"MAXIMIZE\"},\n",
        "  )"
      ],
      "metadata": {
        "id": "jjCPvtTr9dWE"
      },
      "execution_count": 46,
      "outputs": []
    },
    {
      "cell_type": "code",
      "source": [
        "evaluator = Evaluator(function=eval_function)\n",
        "generator = ExpectedImprovementGenerator(vocs=vocs)\n",
        "\n",
        "X = Xopt(evaluator=evaluator, generator=generator, vocs=vocs)\n",
        "X.random_evaluate(4)"
      ],
      "metadata": {
        "colab": {
          "base_uri": "https://localhost:8080/",
          "height": 175
        },
        "id": "L513VQeR-kFy",
        "outputId": "b2630f66-922d-4b1d-e533-c1ab42ddb545"
      },
      "execution_count": 50,
      "outputs": [
        {
          "output_type": "execute_result",
          "data": {
            "text/plain": [
              "         x1        x2        x3        x4  ...        x8         f  xopt_runtime  xopt_error\n",
              "0  0.666116  0.737309  0.838618  0.681321  ...  0.488172  0.011611      0.313689       False\n",
              "1  0.876356  0.324308  0.477965  0.533109  ...  0.406813  0.006161      0.309167       False\n",
              "2  0.684171  0.245515  0.702164  0.504574  ...  0.506692  0.010519      0.321579       False\n",
              "3  0.713939  0.892013  0.778083  0.400686  ...  0.133333  0.010136      0.315112       False\n",
              "\n",
              "[4 rows x 11 columns]"
            ],
            "text/html": [
              "\n",
              "  <div id=\"df-a3d56d72-32c9-4a11-966b-42cd6ab6b04d\" class=\"colab-df-container\">\n",
              "    <div>\n",
              "<style scoped>\n",
              "    .dataframe tbody tr th:only-of-type {\n",
              "        vertical-align: middle;\n",
              "    }\n",
              "\n",
              "    .dataframe tbody tr th {\n",
              "        vertical-align: top;\n",
              "    }\n",
              "\n",
              "    .dataframe thead th {\n",
              "        text-align: right;\n",
              "    }\n",
              "</style>\n",
              "<table border=\"1\" class=\"dataframe\">\n",
              "  <thead>\n",
              "    <tr style=\"text-align: right;\">\n",
              "      <th></th>\n",
              "      <th>x1</th>\n",
              "      <th>x2</th>\n",
              "      <th>x3</th>\n",
              "      <th>x4</th>\n",
              "      <th>x5</th>\n",
              "      <th>x6</th>\n",
              "      <th>x7</th>\n",
              "      <th>x8</th>\n",
              "      <th>f</th>\n",
              "      <th>xopt_runtime</th>\n",
              "      <th>xopt_error</th>\n",
              "    </tr>\n",
              "  </thead>\n",
              "  <tbody>\n",
              "    <tr>\n",
              "      <th>0</th>\n",
              "      <td>0.666116</td>\n",
              "      <td>0.737309</td>\n",
              "      <td>0.838618</td>\n",
              "      <td>0.681321</td>\n",
              "      <td>0.476079</td>\n",
              "      <td>0.125754</td>\n",
              "      <td>0.542166</td>\n",
              "      <td>0.488172</td>\n",
              "      <td>0.011611</td>\n",
              "      <td>0.313689</td>\n",
              "      <td>False</td>\n",
              "    </tr>\n",
              "    <tr>\n",
              "      <th>1</th>\n",
              "      <td>0.876356</td>\n",
              "      <td>0.324308</td>\n",
              "      <td>0.477965</td>\n",
              "      <td>0.533109</td>\n",
              "      <td>0.194772</td>\n",
              "      <td>0.742806</td>\n",
              "      <td>0.731870</td>\n",
              "      <td>0.406813</td>\n",
              "      <td>0.006161</td>\n",
              "      <td>0.309167</td>\n",
              "      <td>False</td>\n",
              "    </tr>\n",
              "    <tr>\n",
              "      <th>2</th>\n",
              "      <td>0.684171</td>\n",
              "      <td>0.245515</td>\n",
              "      <td>0.702164</td>\n",
              "      <td>0.504574</td>\n",
              "      <td>0.667648</td>\n",
              "      <td>0.246021</td>\n",
              "      <td>0.449139</td>\n",
              "      <td>0.506692</td>\n",
              "      <td>0.010519</td>\n",
              "      <td>0.321579</td>\n",
              "      <td>False</td>\n",
              "    </tr>\n",
              "    <tr>\n",
              "      <th>3</th>\n",
              "      <td>0.713939</td>\n",
              "      <td>0.892013</td>\n",
              "      <td>0.778083</td>\n",
              "      <td>0.400686</td>\n",
              "      <td>0.929600</td>\n",
              "      <td>0.503280</td>\n",
              "      <td>0.101058</td>\n",
              "      <td>0.133333</td>\n",
              "      <td>0.010136</td>\n",
              "      <td>0.315112</td>\n",
              "      <td>False</td>\n",
              "    </tr>\n",
              "  </tbody>\n",
              "</table>\n",
              "</div>\n",
              "    <div class=\"colab-df-buttons\">\n",
              "\n",
              "  <div class=\"colab-df-container\">\n",
              "    <button class=\"colab-df-convert\" onclick=\"convertToInteractive('df-a3d56d72-32c9-4a11-966b-42cd6ab6b04d')\"\n",
              "            title=\"Convert this dataframe to an interactive table.\"\n",
              "            style=\"display:none;\">\n",
              "\n",
              "  <svg xmlns=\"http://www.w3.org/2000/svg\" height=\"24px\" viewBox=\"0 -960 960 960\">\n",
              "    <path d=\"M120-120v-720h720v720H120Zm60-500h600v-160H180v160Zm220 220h160v-160H400v160Zm0 220h160v-160H400v160ZM180-400h160v-160H180v160Zm440 0h160v-160H620v160ZM180-180h160v-160H180v160Zm440 0h160v-160H620v160Z\"/>\n",
              "  </svg>\n",
              "    </button>\n",
              "\n",
              "  <style>\n",
              "    .colab-df-container {\n",
              "      display:flex;\n",
              "      gap: 12px;\n",
              "    }\n",
              "\n",
              "    .colab-df-convert {\n",
              "      background-color: #E8F0FE;\n",
              "      border: none;\n",
              "      border-radius: 50%;\n",
              "      cursor: pointer;\n",
              "      display: none;\n",
              "      fill: #1967D2;\n",
              "      height: 32px;\n",
              "      padding: 0 0 0 0;\n",
              "      width: 32px;\n",
              "    }\n",
              "\n",
              "    .colab-df-convert:hover {\n",
              "      background-color: #E2EBFA;\n",
              "      box-shadow: 0px 1px 2px rgba(60, 64, 67, 0.3), 0px 1px 3px 1px rgba(60, 64, 67, 0.15);\n",
              "      fill: #174EA6;\n",
              "    }\n",
              "\n",
              "    .colab-df-buttons div {\n",
              "      margin-bottom: 4px;\n",
              "    }\n",
              "\n",
              "    [theme=dark] .colab-df-convert {\n",
              "      background-color: #3B4455;\n",
              "      fill: #D2E3FC;\n",
              "    }\n",
              "\n",
              "    [theme=dark] .colab-df-convert:hover {\n",
              "      background-color: #434B5C;\n",
              "      box-shadow: 0px 1px 3px 1px rgba(0, 0, 0, 0.15);\n",
              "      filter: drop-shadow(0px 1px 2px rgba(0, 0, 0, 0.3));\n",
              "      fill: #FFFFFF;\n",
              "    }\n",
              "  </style>\n",
              "\n",
              "    <script>\n",
              "      const buttonEl =\n",
              "        document.querySelector('#df-a3d56d72-32c9-4a11-966b-42cd6ab6b04d button.colab-df-convert');\n",
              "      buttonEl.style.display =\n",
              "        google.colab.kernel.accessAllowed ? 'block' : 'none';\n",
              "\n",
              "      async function convertToInteractive(key) {\n",
              "        const element = document.querySelector('#df-a3d56d72-32c9-4a11-966b-42cd6ab6b04d');\n",
              "        const dataTable =\n",
              "          await google.colab.kernel.invokeFunction('convertToInteractive',\n",
              "                                                    [key], {});\n",
              "        if (!dataTable) return;\n",
              "\n",
              "        const docLinkHtml = 'Like what you see? Visit the ' +\n",
              "          '<a target=\"_blank\" href=https://colab.research.google.com/notebooks/data_table.ipynb>data table notebook</a>'\n",
              "          + ' to learn more about interactive tables.';\n",
              "        element.innerHTML = '';\n",
              "        dataTable['output_type'] = 'display_data';\n",
              "        await google.colab.output.renderOutput(dataTable, element);\n",
              "        const docLink = document.createElement('div');\n",
              "        docLink.innerHTML = docLinkHtml;\n",
              "        element.appendChild(docLink);\n",
              "      }\n",
              "    </script>\n",
              "  </div>\n",
              "\n",
              "\n",
              "<div id=\"df-a9bb79f1-a055-4aea-b29f-62354935482c\">\n",
              "  <button class=\"colab-df-quickchart\" onclick=\"quickchart('df-a9bb79f1-a055-4aea-b29f-62354935482c')\"\n",
              "            title=\"Suggest charts\"\n",
              "            style=\"display:none;\">\n",
              "\n",
              "<svg xmlns=\"http://www.w3.org/2000/svg\" height=\"24px\"viewBox=\"0 0 24 24\"\n",
              "     width=\"24px\">\n",
              "    <g>\n",
              "        <path d=\"M19 3H5c-1.1 0-2 .9-2 2v14c0 1.1.9 2 2 2h14c1.1 0 2-.9 2-2V5c0-1.1-.9-2-2-2zM9 17H7v-7h2v7zm4 0h-2V7h2v10zm4 0h-2v-4h2v4z\"/>\n",
              "    </g>\n",
              "</svg>\n",
              "  </button>\n",
              "\n",
              "<style>\n",
              "  .colab-df-quickchart {\n",
              "      --bg-color: #E8F0FE;\n",
              "      --fill-color: #1967D2;\n",
              "      --hover-bg-color: #E2EBFA;\n",
              "      --hover-fill-color: #174EA6;\n",
              "      --disabled-fill-color: #AAA;\n",
              "      --disabled-bg-color: #DDD;\n",
              "  }\n",
              "\n",
              "  [theme=dark] .colab-df-quickchart {\n",
              "      --bg-color: #3B4455;\n",
              "      --fill-color: #D2E3FC;\n",
              "      --hover-bg-color: #434B5C;\n",
              "      --hover-fill-color: #FFFFFF;\n",
              "      --disabled-bg-color: #3B4455;\n",
              "      --disabled-fill-color: #666;\n",
              "  }\n",
              "\n",
              "  .colab-df-quickchart {\n",
              "    background-color: var(--bg-color);\n",
              "    border: none;\n",
              "    border-radius: 50%;\n",
              "    cursor: pointer;\n",
              "    display: none;\n",
              "    fill: var(--fill-color);\n",
              "    height: 32px;\n",
              "    padding: 0;\n",
              "    width: 32px;\n",
              "  }\n",
              "\n",
              "  .colab-df-quickchart:hover {\n",
              "    background-color: var(--hover-bg-color);\n",
              "    box-shadow: 0 1px 2px rgba(60, 64, 67, 0.3), 0 1px 3px 1px rgba(60, 64, 67, 0.15);\n",
              "    fill: var(--button-hover-fill-color);\n",
              "  }\n",
              "\n",
              "  .colab-df-quickchart-complete:disabled,\n",
              "  .colab-df-quickchart-complete:disabled:hover {\n",
              "    background-color: var(--disabled-bg-color);\n",
              "    fill: var(--disabled-fill-color);\n",
              "    box-shadow: none;\n",
              "  }\n",
              "\n",
              "  .colab-df-spinner {\n",
              "    border: 2px solid var(--fill-color);\n",
              "    border-color: transparent;\n",
              "    border-bottom-color: var(--fill-color);\n",
              "    animation:\n",
              "      spin 1s steps(1) infinite;\n",
              "  }\n",
              "\n",
              "  @keyframes spin {\n",
              "    0% {\n",
              "      border-color: transparent;\n",
              "      border-bottom-color: var(--fill-color);\n",
              "      border-left-color: var(--fill-color);\n",
              "    }\n",
              "    20% {\n",
              "      border-color: transparent;\n",
              "      border-left-color: var(--fill-color);\n",
              "      border-top-color: var(--fill-color);\n",
              "    }\n",
              "    30% {\n",
              "      border-color: transparent;\n",
              "      border-left-color: var(--fill-color);\n",
              "      border-top-color: var(--fill-color);\n",
              "      border-right-color: var(--fill-color);\n",
              "    }\n",
              "    40% {\n",
              "      border-color: transparent;\n",
              "      border-right-color: var(--fill-color);\n",
              "      border-top-color: var(--fill-color);\n",
              "    }\n",
              "    60% {\n",
              "      border-color: transparent;\n",
              "      border-right-color: var(--fill-color);\n",
              "    }\n",
              "    80% {\n",
              "      border-color: transparent;\n",
              "      border-right-color: var(--fill-color);\n",
              "      border-bottom-color: var(--fill-color);\n",
              "    }\n",
              "    90% {\n",
              "      border-color: transparent;\n",
              "      border-bottom-color: var(--fill-color);\n",
              "    }\n",
              "  }\n",
              "</style>\n",
              "\n",
              "  <script>\n",
              "    async function quickchart(key) {\n",
              "      const quickchartButtonEl =\n",
              "        document.querySelector('#' + key + ' button');\n",
              "      quickchartButtonEl.disabled = true;  // To prevent multiple clicks.\n",
              "      quickchartButtonEl.classList.add('colab-df-spinner');\n",
              "      try {\n",
              "        const charts = await google.colab.kernel.invokeFunction(\n",
              "            'suggestCharts', [key], {});\n",
              "      } catch (error) {\n",
              "        console.error('Error during call to suggestCharts:', error);\n",
              "      }\n",
              "      quickchartButtonEl.classList.remove('colab-df-spinner');\n",
              "      quickchartButtonEl.classList.add('colab-df-quickchart-complete');\n",
              "    }\n",
              "    (() => {\n",
              "      let quickchartButtonEl =\n",
              "        document.querySelector('#df-a9bb79f1-a055-4aea-b29f-62354935482c button');\n",
              "      quickchartButtonEl.style.display =\n",
              "        google.colab.kernel.accessAllowed ? 'block' : 'none';\n",
              "    })();\n",
              "  </script>\n",
              "</div>\n",
              "\n",
              "    </div>\n",
              "  </div>\n"
            ],
            "application/vnd.google.colaboratory.intrinsic+json": {
              "type": "dataframe",
              "summary": "{\n  \"name\": \"X\",\n  \"rows\": 4,\n  \"fields\": [\n    {\n      \"column\": \"x1\",\n      \"properties\": {\n        \"dtype\": \"number\",\n        \"std\": 0.09618328112771973,\n        \"min\": 0.6661159628966825,\n        \"max\": 0.8763560467990551,\n        \"num_unique_values\": 4,\n        \"samples\": [\n          0.8763560467990551,\n          0.7139387035455765,\n          0.6661159628966825\n        ],\n        \"semantic_type\": \"\",\n        \"description\": \"\"\n      }\n    },\n    {\n      \"column\": \"x2\",\n      \"properties\": {\n        \"dtype\": \"number\",\n        \"std\": 0.31395653439227855,\n        \"min\": 0.24551459152153987,\n        \"max\": 0.8920132670489438,\n        \"num_unique_values\": 4,\n        \"samples\": [\n          0.3243075847354203,\n          0.8920132670489438,\n          0.7373093542348997\n        ],\n        \"semantic_type\": \"\",\n        \"description\": \"\"\n      }\n    },\n    {\n      \"column\": \"x3\",\n      \"properties\": {\n        \"dtype\": \"number\",\n        \"std\": 0.15770614813909384,\n        \"min\": 0.47796502470728663,\n        \"max\": 0.838618274746242,\n        \"num_unique_values\": 4,\n        \"samples\": [\n          0.47796502470728663,\n          0.7780830285133266,\n          0.838618274746242\n        ],\n        \"semantic_type\": \"\",\n        \"description\": \"\"\n      }\n    },\n    {\n      \"column\": \"x4\",\n      \"properties\": {\n        \"dtype\": \"number\",\n        \"std\": 0.11586812080275036,\n        \"min\": 0.4006860337322281,\n        \"max\": 0.6813209691407821,\n        \"num_unique_values\": 4,\n        \"samples\": [\n          0.5331087477496952,\n          0.4006860337322281,\n          0.6813209691407821\n        ],\n        \"semantic_type\": \"\",\n        \"description\": \"\"\n      }\n    },\n    {\n      \"column\": \"x5\",\n      \"properties\": {\n        \"dtype\": \"number\",\n        \"std\": 0.31006936995385753,\n        \"min\": 0.1947719349294299,\n        \"max\": 0.9295999203887927,\n        \"num_unique_values\": 4,\n        \"samples\": [\n          0.1947719349294299,\n          0.9295999203887927,\n          0.4760793629797868\n        ],\n        \"semantic_type\": \"\",\n        \"description\": \"\"\n      }\n    },\n    {\n      \"column\": \"x6\",\n      \"properties\": {\n        \"dtype\": \"number\",\n        \"std\": 0.275089494858564,\n        \"min\": 0.12575443251127116,\n        \"max\": 0.7428057240546025,\n        \"num_unique_values\": 4,\n        \"samples\": [\n          0.7428057240546025,\n          0.5032795618231214,\n          0.12575443251127116\n        ],\n        \"semantic_type\": \"\",\n        \"description\": \"\"\n      }\n    },\n    {\n      \"column\": \"x7\",\n      \"properties\": {\n        \"dtype\": \"number\",\n        \"std\": 0.26429771248598577,\n        \"min\": 0.10105818225041074,\n        \"max\": 0.7318704272493752,\n        \"num_unique_values\": 4,\n        \"samples\": [\n          0.7318704272493752,\n          0.10105818225041074,\n          0.542166132081304\n        ],\n        \"semantic_type\": \"\",\n        \"description\": \"\"\n      }\n    },\n    {\n      \"column\": \"x8\",\n      \"properties\": {\n        \"dtype\": \"number\",\n        \"std\": 0.17249076206615863,\n        \"min\": 0.13333286748022533,\n        \"max\": 0.506691749257037,\n        \"num_unique_values\": 4,\n        \"samples\": [\n          0.4068134992174519,\n          0.13333286748022533,\n          0.48817150186459735\n        ],\n        \"semantic_type\": \"\",\n        \"description\": \"\"\n      }\n    },\n    {\n      \"column\": \"f\",\n      \"properties\": {\n        \"dtype\": \"number\",\n        \"std\": 0.0023806031832974877,\n        \"min\": 0.006161349825561047,\n        \"max\": 0.011611271649599075,\n        \"num_unique_values\": 4,\n        \"samples\": [\n          0.006161349825561047,\n          0.010135982185602188,\n          0.011611271649599075\n        ],\n        \"semantic_type\": \"\",\n        \"description\": \"\"\n      }\n    },\n    {\n      \"column\": \"xopt_runtime\",\n      \"properties\": {\n        \"dtype\": \"number\",\n        \"std\": 0.005131154924950195,\n        \"min\": 0.3091666839991376,\n        \"max\": 0.3215787350000028,\n        \"num_unique_values\": 4,\n        \"samples\": [\n          0.3091666839991376,\n          0.31511241299995163,\n          0.3136894569997821\n        ],\n        \"semantic_type\": \"\",\n        \"description\": \"\"\n      }\n    },\n    {\n      \"column\": \"xopt_error\",\n      \"properties\": {\n        \"dtype\": \"boolean\",\n        \"num_unique_values\": 1,\n        \"samples\": [\n          false\n        ],\n        \"semantic_type\": \"\",\n        \"description\": \"\"\n      }\n    }\n  ]\n}"
            }
          },
          "metadata": {},
          "execution_count": 50
        }
      ]
    },
    {
      "cell_type": "code",
      "source": [
        "time = 0\n",
        "for i in range(100):\n",
        "  print(f\"Step: {i+1} \\t Time: {time}\")\n",
        "  X.step()\n",
        "  time += 1"
      ],
      "metadata": {
        "colab": {
          "base_uri": "https://localhost:8080/"
        },
        "id": "phjm9apP-qHO",
        "outputId": "addc701a-d3a9-4d87-cf78-ca4b6e7b7229"
      },
      "execution_count": 51,
      "outputs": [
        {
          "output_type": "stream",
          "name": "stdout",
          "text": [
            "Step: 1 \t Time: 0\n",
            "Step: 2 \t Time: 1\n",
            "Step: 3 \t Time: 2\n",
            "Step: 4 \t Time: 3\n",
            "Step: 5 \t Time: 4\n",
            "Step: 6 \t Time: 5\n",
            "Step: 7 \t Time: 6\n",
            "Step: 8 \t Time: 7\n",
            "Step: 9 \t Time: 8\n",
            "Step: 10 \t Time: 9\n",
            "Step: 11 \t Time: 10\n",
            "Step: 12 \t Time: 11\n",
            "Step: 13 \t Time: 12\n",
            "Step: 14 \t Time: 13\n",
            "Step: 15 \t Time: 14\n",
            "Step: 16 \t Time: 15\n",
            "Step: 17 \t Time: 16\n",
            "Step: 18 \t Time: 17\n",
            "Step: 19 \t Time: 18\n",
            "Step: 20 \t Time: 19\n",
            "Step: 21 \t Time: 20\n",
            "Step: 22 \t Time: 21\n",
            "Step: 23 \t Time: 22\n",
            "Step: 24 \t Time: 23\n",
            "Step: 25 \t Time: 24\n",
            "Step: 26 \t Time: 25\n",
            "Step: 27 \t Time: 26\n",
            "Step: 28 \t Time: 27\n",
            "Step: 29 \t Time: 28\n",
            "Step: 30 \t Time: 29\n",
            "Step: 31 \t Time: 30\n",
            "Step: 32 \t Time: 31\n",
            "Step: 33 \t Time: 32\n",
            "Step: 34 \t Time: 33\n",
            "Step: 35 \t Time: 34\n",
            "Step: 36 \t Time: 35\n",
            "Step: 37 \t Time: 36\n",
            "Step: 38 \t Time: 37\n",
            "Step: 39 \t Time: 38\n",
            "Step: 40 \t Time: 39\n",
            "Step: 41 \t Time: 40\n",
            "Step: 42 \t Time: 41\n",
            "Step: 43 \t Time: 42\n",
            "Step: 44 \t Time: 43\n",
            "Step: 45 \t Time: 44\n",
            "Step: 46 \t Time: 45\n",
            "Step: 47 \t Time: 46\n",
            "Step: 48 \t Time: 47\n",
            "Step: 49 \t Time: 48\n",
            "Step: 50 \t Time: 49\n",
            "Step: 51 \t Time: 50\n",
            "Step: 52 \t Time: 51\n",
            "Step: 53 \t Time: 52\n",
            "Step: 54 \t Time: 53\n",
            "Step: 55 \t Time: 54\n",
            "Step: 56 \t Time: 55\n",
            "Step: 57 \t Time: 56\n",
            "Step: 58 \t Time: 57\n",
            "Step: 59 \t Time: 58\n",
            "Step: 60 \t Time: 59\n",
            "Step: 61 \t Time: 60\n",
            "Step: 62 \t Time: 61\n",
            "Step: 63 \t Time: 62\n",
            "Step: 64 \t Time: 63\n",
            "Step: 65 \t Time: 64\n",
            "Step: 66 \t Time: 65\n",
            "Step: 67 \t Time: 66\n",
            "Step: 68 \t Time: 67\n",
            "Step: 69 \t Time: 68\n",
            "Step: 70 \t Time: 69\n",
            "Step: 71 \t Time: 70\n",
            "Step: 72 \t Time: 71\n",
            "Step: 73 \t Time: 72\n",
            "Step: 74 \t Time: 73\n",
            "Step: 75 \t Time: 74\n",
            "Step: 76 \t Time: 75\n",
            "Step: 77 \t Time: 76\n",
            "Step: 78 \t Time: 77\n",
            "Step: 79 \t Time: 78\n",
            "Step: 80 \t Time: 79\n",
            "Step: 81 \t Time: 80\n",
            "Step: 82 \t Time: 81\n",
            "Step: 83 \t Time: 82\n",
            "Step: 84 \t Time: 83\n",
            "Step: 85 \t Time: 84\n",
            "Step: 86 \t Time: 85\n",
            "Step: 87 \t Time: 86\n",
            "Step: 88 \t Time: 87\n",
            "Step: 89 \t Time: 88\n",
            "Step: 90 \t Time: 89\n",
            "Step: 91 \t Time: 90\n",
            "Step: 92 \t Time: 91\n",
            "Step: 93 \t Time: 92\n",
            "Step: 94 \t Time: 93\n",
            "Step: 95 \t Time: 94\n",
            "Step: 96 \t Time: 95\n",
            "Step: 97 \t Time: 96\n",
            "Step: 98 \t Time: 97\n",
            "Step: 99 \t Time: 98\n",
            "Step: 100 \t Time: 99\n"
          ]
        }
      ]
    },
    {
      "cell_type": "code",
      "source": [
        "y1 = X.generator.data[\"f\"]\n",
        "plt.figure(figsize=(8,5))\n",
        "\n",
        "\n",
        "y1_maxs = np.maximum.accumulate(y1)\n",
        "plt.plot(y1, 'ok')\n",
        "plt.plot(y1_maxs, 'k')\n",
        "plt.hlines(1, 0, len(y1_maxs), linestyles=\"dotted\")\n",
        "plt.show()"
      ],
      "metadata": {
        "colab": {
          "base_uri": "https://localhost:8080/",
          "height": 445
        },
        "id": "GSjhi5Jz_HuJ",
        "outputId": "dea2961f-f7f3-40e8-8bfd-0440e4f39f42"
      },
      "execution_count": 52,
      "outputs": [
        {
          "output_type": "display_data",
          "data": {
            "text/plain": [
              "<Figure size 800x500 with 1 Axes>"
            ],
            "image/png": "[encoded data removed]"
          },
          "metadata": {}
        }
      ]
    },
    {
      "cell_type": "code",
      "source": [
        "low = 0.0\n",
        "high = 1.0\n",
        "\n",
        "vocs = VOCS(\n",
        "    variables = {\"x1\": [low, high],\n",
        "                \"x2\": [low, high],\n",
        "                \"x3\": [low, high],\n",
        "                \"x4\": [low, high]\n",
        "                 },\n",
        "    objectives = {\"f\": \"MAXIMIZE\"},\n",
        "  )\n",
        "\n",
        "evaluator = Evaluator(function=f)\n",
        "\n",
        "generator = TDUpperConfidenceBoundGenerator(\n",
        "    vocs=vocs,\n",
        "    beta=0.001,\n",
        "    added_time=0.1,\n",
        "    forgetting_time=25.0,\n",
        ")\n",
        "generator.n_monte_carlo_samples = 128\n",
        "generator.numerical_optimizer.n_restarts = 20\n",
        "generator.max_travel_distances = [1.0] * 4\n",
        "\n",
        "start_time = time.time()\n",
        "X = Xopt(evaluator=evaluator, generator=generator, vocs=vocs)\n",
        "X.random_evaluate(32)\n",
        "\n",
        "for i in trange(100):\n",
        "  print(f\"Step: {i+1} \\t Time: {time.time() - start_time}\")\n",
        "  X.step()\n",
        "  time.sleep(0.1)"
      ],
      "metadata": {
        "colab": {
          "base_uri": "https://localhost:8080/"
        },
        "id": "xLSR8itj_3-i",
        "outputId": "08b8245d-e321-4c31-df08-898cce066839"
      },
      "execution_count": null,
      "outputs": [
        {
          "output_type": "stream",
          "name": "stdout",
          "text": [
            "3.581523895263672e-06\n",
            "0.0003838765621185303\n",
            "0.0007121512889862061\n",
            "0.0010248985290527343\n",
            "0.0013392374515533447\n",
            "0.0016647677421569825\n",
            "0.0019776875972747805\n",
            "0.002285845518112183\n",
            "0.0026009809970855714\n",
            "0.0029109997749328614\n",
            "0.0032199530601501464\n",
            "0.003533997058868408\n",
            "0.0038367884159088137\n",
            "0.004145174264907837\n",
            "0.004471184492111206\n",
            "0.004780854940414429\n",
            "0.005097412586212159\n",
            "0.005413716316223145\n",
            "0.005731792688369751\n",
            "0.006041719675064087\n",
            "0.006350425958633423\n",
            "0.006667555332183838\n",
            "0.007127586603164673\n",
            "0.007658645629882813\n",
            "0.008807661294937133\n",
            "0.009532578706741334\n",
            "0.010125797748565674\n",
            "0.010485443592071533\n",
            "0.01081972122192383\n",
            "0.011133440494537353\n",
            "0.011441065788269044\n",
            "0.011741965293884278\n"
          ]
        },
        {
          "output_type": "stream",
          "name": "stderr",
          "text": [
            "\r  0%|          | 0/100 [00:00<?, ?it/s]"
          ]
        },
        {
          "output_type": "stream",
          "name": "stdout",
          "text": [
            "Step: 1 \t Time: 12.077725887298584\n",
            "0.012569627046585083\n"
          ]
        },
        {
          "output_type": "stream",
          "name": "stderr",
          "text": [
            "\r  1%|          | 1/100 [00:00<01:30,  1.09it/s]"
          ]
        },
        {
          "output_type": "stream",
          "name": "stdout",
          "text": [
            "Step: 2 \t Time: 12.992671728134155\n",
            "0.013553779602050781\n"
          ]
        },
        {
          "output_type": "stream",
          "name": "stderr",
          "text": [
            "\r  2%|▏         | 2/100 [00:01<01:33,  1.05it/s]"
          ]
        },
        {
          "output_type": "stream",
          "name": "stdout",
          "text": [
            "Step: 3 \t Time: 13.972649097442627\n",
            "0.014545329570770264\n"
          ]
        },
        {
          "output_type": "stream",
          "name": "stderr",
          "text": [
            "\r  3%|▎         | 3/100 [00:02<01:33,  1.04it/s]"
          ]
        },
        {
          "output_type": "stream",
          "name": "stdout",
          "text": [
            "Step: 4 \t Time: 14.946465730667114\n",
            "0.015446935653686523\n"
          ]
        },
        {
          "output_type": "stream",
          "name": "stderr",
          "text": [
            "\r  4%|▍         | 4/100 [00:03<01:29,  1.07it/s]"
          ]
        },
        {
          "output_type": "stream",
          "name": "stdout",
          "text": [
            "Step: 5 \t Time: 15.837045907974243\n",
            "0.016361175775527953\n"
          ]
        },
        {
          "output_type": "stream",
          "name": "stderr",
          "text": [
            "\r  5%|▌         | 5/100 [00:04<01:28,  1.07it/s]"
          ]
        },
        {
          "output_type": "stream",
          "name": "stdout",
          "text": [
            "Step: 6 \t Time: 16.764477968215942\n",
            "0.017292975664138795\n"
          ]
        },
        {
          "output_type": "stream",
          "name": "stderr",
          "text": [
            "\r  6%|▌         | 6/100 [00:05<01:27,  1.07it/s]"
          ]
        },
        {
          "output_type": "stream",
          "name": "stdout",
          "text": [
            "Step: 7 \t Time: 17.697344303131104\n",
            "0.0182291522026062\n"
          ]
        },
        {
          "output_type": "stream",
          "name": "stderr",
          "text": [
            "\r  7%|▋         | 7/100 [00:06<01:26,  1.07it/s]"
          ]
        },
        {
          "output_type": "stream",
          "name": "stdout",
          "text": [
            "Step: 8 \t Time: 18.628153085708618\n",
            "0.01923789381980896\n"
          ]
        },
        {
          "output_type": "stream",
          "name": "stderr",
          "text": [
            "\r  8%|▊         | 8/100 [00:07<01:27,  1.05it/s]"
          ]
        },
        {
          "output_type": "stream",
          "name": "stdout",
          "text": [
            "Step: 9 \t Time: 19.63493323326111\n",
            "0.02026881527900696\n"
          ]
        },
        {
          "output_type": "stream",
          "name": "stderr",
          "text": [
            "\r  9%|▉         | 9/100 [00:08<01:34,  1.04s/it]"
          ]
        },
        {
          "output_type": "stream",
          "name": "stdout",
          "text": [
            "Step: 10 \t Time: 20.854193210601807\n",
            "0.021724905014038086\n"
          ]
        },
        {
          "output_type": "stream",
          "name": "stderr",
          "text": [
            "\r 10%|█         | 10/100 [00:10<01:43,  1.14s/it]"
          ]
        },
        {
          "output_type": "stream",
          "name": "stdout",
          "text": [
            "Step: 11 \t Time: 22.23797631263733\n",
            "0.022886291027069093\n"
          ]
        },
        {
          "output_type": "stream",
          "name": "stderr",
          "text": [
            "\r 11%|█         | 11/100 [00:11<01:39,  1.12s/it]"
          ]
        },
        {
          "output_type": "stream",
          "name": "stdout",
          "text": [
            "Step: 12 \t Time: 23.29272699356079\n",
            "0.023807658433914185\n"
          ]
        },
        {
          "output_type": "stream",
          "name": "stderr",
          "text": [
            "\r 12%|█▏        | 12/100 [00:12<01:32,  1.06s/it]"
          ]
        },
        {
          "output_type": "stream",
          "name": "stdout",
          "text": [
            "Step: 13 \t Time: 24.209024667739868\n",
            "0.02479804587364197\n"
          ]
        },
        {
          "output_type": "stream",
          "name": "stderr",
          "text": [
            "\r 13%|█▎        | 13/100 [00:13<01:30,  1.04s/it]"
          ]
        },
        {
          "output_type": "stream",
          "name": "stdout",
          "text": [
            "Step: 14 \t Time: 25.19948720932007\n",
            "0.02581966495513916\n"
          ]
        },
        {
          "output_type": "stream",
          "name": "stderr",
          "text": [
            "\r 14%|█▍        | 14/100 [00:14<01:28,  1.03s/it]"
          ]
        },
        {
          "output_type": "stream",
          "name": "stdout",
          "text": [
            "Step: 15 \t Time: 26.217775583267212\n",
            "0.026913219928741454\n"
          ]
        },
        {
          "output_type": "stream",
          "name": "stderr",
          "text": [
            "\r 15%|█▌        | 15/100 [00:15<01:29,  1.05s/it]"
          ]
        },
        {
          "output_type": "stream",
          "name": "stdout",
          "text": [
            "Step: 16 \t Time: 27.31495189666748\n",
            "0.027897151708602907\n"
          ]
        },
        {
          "output_type": "stream",
          "name": "stderr",
          "text": [
            "\r 16%|█▌        | 16/100 [00:16<01:26,  1.03s/it]"
          ]
        },
        {
          "output_type": "stream",
          "name": "stdout",
          "text": [
            "Step: 17 \t Time: 28.299405813217163\n",
            "0.028778708934783938\n"
          ]
        },
        {
          "output_type": "stream",
          "name": "stderr",
          "text": [
            "\r 17%|█▋        | 17/100 [00:17<01:21,  1.01it/s]"
          ]
        },
        {
          "output_type": "stream",
          "name": "stdout",
          "text": [
            "Step: 18 \t Time: 29.180946826934814\n",
            "0.02966463351249695\n"
          ]
        },
        {
          "output_type": "stream",
          "name": "stderr",
          "text": [
            "\r 18%|█▊        | 18/100 [00:17<01:18,  1.05it/s]"
          ]
        },
        {
          "output_type": "stream",
          "name": "stdout",
          "text": [
            "Step: 19 \t Time: 30.065844535827637\n",
            "0.030591469287872316\n"
          ]
        },
        {
          "output_type": "stream",
          "name": "stderr",
          "text": [
            "\r 19%|█▉        | 19/100 [00:18<01:16,  1.06it/s]"
          ]
        },
        {
          "output_type": "stream",
          "name": "stdout",
          "text": [
            "Step: 20 \t Time: 30.989774227142334\n",
            "0.031707939386367796\n"
          ]
        },
        {
          "output_type": "stream",
          "name": "stderr",
          "text": [
            "\r 20%|██        | 20/100 [00:20<01:19,  1.00it/s]"
          ]
        },
        {
          "output_type": "stream",
          "name": "stdout",
          "text": [
            "Step: 21 \t Time: 32.102843284606934\n",
            "0.032521000623703\n"
          ]
        },
        {
          "output_type": "stream",
          "name": "stderr",
          "text": [
            "\r 21%|██        | 21/100 [00:20<01:15,  1.05it/s]"
          ]
        },
        {
          "output_type": "stream",
          "name": "stdout",
          "text": [
            "Step: 22 \t Time: 32.95948910713196\n",
            "0.033506025314331056\n"
          ]
        },
        {
          "output_type": "stream",
          "name": "stderr",
          "text": [
            "\r 22%|██▏       | 22/100 [00:21<01:17,  1.00it/s]"
          ]
        },
        {
          "output_type": "stream",
          "name": "stdout",
          "text": [
            "Step: 23 \t Time: 34.06357979774475\n",
            "0.03499947214126587\n"
          ]
        },
        {
          "output_type": "stream",
          "name": "stderr",
          "text": [
            "\r 23%|██▎       | 23/100 [00:23<01:26,  1.12s/it]"
          ]
        },
        {
          "output_type": "stream",
          "name": "stdout",
          "text": [
            "Step: 24 \t Time: 35.455092430114746\n",
            "0.03612536859512329\n"
          ]
        },
        {
          "output_type": "stream",
          "name": "stderr",
          "text": [
            "\r 24%|██▍       | 24/100 [00:24<01:23,  1.10s/it]"
          ]
        },
        {
          "output_type": "stream",
          "name": "stdout",
          "text": [
            "Step: 25 \t Time: 36.525439500808716\n",
            "0.03738299179077149\n"
          ]
        },
        {
          "output_type": "stream",
          "name": "stderr",
          "text": [
            "\r 25%|██▌       | 25/100 [00:25<01:26,  1.15s/it]"
          ]
        },
        {
          "output_type": "stream",
          "name": "stdout",
          "text": [
            "Step: 26 \t Time: 37.781686544418335\n",
            "0.038445447206497195\n"
          ]
        },
        {
          "output_type": "stream",
          "name": "stderr",
          "text": [
            "\r 26%|██▌       | 26/100 [00:26<01:23,  1.13s/it]"
          ]
        },
        {
          "output_type": "stream",
          "name": "stdout",
          "text": [
            "Step: 27 \t Time: 38.86302042007446\n",
            "0.039251959800720215\n"
          ]
        },
        {
          "output_type": "stream",
          "name": "stderr",
          "text": [
            "\r 27%|██▋       | 27/100 [00:27<01:14,  1.03s/it]"
          ]
        },
        {
          "output_type": "stream",
          "name": "stdout",
          "text": [
            "Step: 28 \t Time: 39.65070962905884\n",
            "0.040491371154785155\n"
          ]
        },
        {
          "output_type": "stream",
          "name": "stderr",
          "text": [
            "\r 28%|██▊       | 28/100 [00:28<01:18,  1.09s/it]"
          ]
        },
        {
          "output_type": "stream",
          "name": "stdout",
          "text": [
            "Step: 29 \t Time: 40.89719772338867\n",
            "0.04152709650993347\n"
          ]
        },
        {
          "output_type": "stream",
          "name": "stderr",
          "text": [
            "\r 29%|██▉       | 29/100 [00:29<01:16,  1.08s/it]"
          ]
        },
        {
          "output_type": "stream",
          "name": "stdout",
          "text": [
            "Step: 30 \t Time: 41.93877339363098\n",
            "0.042667027473449706\n"
          ]
        },
        {
          "output_type": "stream",
          "name": "stderr",
          "text": [
            "\r 30%|███       | 30/100 [00:30<01:16,  1.10s/it]"
          ]
        },
        {
          "output_type": "stream",
          "name": "stdout",
          "text": [
            "Step: 31 \t Time: 43.076931953430176\n",
            "0.043521819591522216\n"
          ]
        },
        {
          "output_type": "stream",
          "name": "stderr",
          "text": [
            "\r 31%|███       | 31/100 [00:31<01:10,  1.02s/it]"
          ]
        },
        {
          "output_type": "stream",
          "name": "stdout",
          "text": [
            "Step: 32 \t Time: 43.915651082992554\n",
            "0.044276320934295656\n"
          ]
        },
        {
          "output_type": "stream",
          "name": "stderr",
          "text": [
            "\r 32%|███▏      | 32/100 [00:32<01:04,  1.06it/s]"
          ]
        },
        {
          "output_type": "stream",
          "name": "stdout",
          "text": [
            "Step: 33 \t Time: 44.67996335029602\n",
            "0.045091769456863405\n"
          ]
        },
        {
          "output_type": "stream",
          "name": "stderr",
          "text": [
            "\r 33%|███▎      | 33/100 [00:33<01:02,  1.08it/s]"
          ]
        },
        {
          "output_type": "stream",
          "name": "stdout",
          "text": [
            "Step: 34 \t Time: 45.5670382976532\n",
            "0.04709884881973267\n"
          ]
        },
        {
          "output_type": "stream",
          "name": "stderr",
          "text": [
            "\r 34%|███▍      | 34/100 [00:35<01:24,  1.28s/it]"
          ]
        },
        {
          "output_type": "stream",
          "name": "stdout",
          "text": [
            "Step: 35 \t Time: 47.67592740058899\n",
            "0.04846898221969605\n"
          ]
        },
        {
          "output_type": "stream",
          "name": "stderr",
          "text": [
            "\r 35%|███▌      | 35/100 [00:36<01:21,  1.25s/it]"
          ]
        },
        {
          "output_type": "stream",
          "name": "stdout",
          "text": [
            "Step: 36 \t Time: 48.86779975891113\n",
            "0.050062695264816284\n"
          ]
        },
        {
          "output_type": "stream",
          "name": "stderr",
          "text": [
            "\r 36%|███▌      | 36/100 [00:38<01:27,  1.36s/it]"
          ]
        },
        {
          "output_type": "stream",
          "name": "stdout",
          "text": [
            "Step: 37 \t Time: 50.4762237071991\n",
            "0.05124127888679505\n"
          ]
        },
        {
          "output_type": "stream",
          "name": "stderr",
          "text": [
            "\r 37%|███▋      | 37/100 [00:39<01:22,  1.30s/it]"
          ]
        },
        {
          "output_type": "stream",
          "name": "stdout",
          "text": [
            "Step: 38 \t Time: 51.64752721786499\n",
            "0.052394495725631714\n"
          ]
        },
        {
          "output_type": "stream",
          "name": "stderr",
          "text": [
            "\r 38%|███▊      | 38/100 [00:40<01:17,  1.26s/it]"
          ]
        },
        {
          "output_type": "stream",
          "name": "stdout",
          "text": [
            "Step: 39 \t Time: 52.795437812805176\n",
            "0.05338153672218323\n"
          ]
        },
        {
          "output_type": "stream",
          "name": "stderr",
          "text": [
            "\r 39%|███▉      | 39/100 [00:41<01:11,  1.18s/it]"
          ]
        },
        {
          "output_type": "stream",
          "name": "stdout",
          "text": [
            "Step: 40 \t Time: 53.77997374534607\n",
            "0.05454599404335022\n"
          ]
        },
        {
          "output_type": "stream",
          "name": "stderr",
          "text": [
            "\r 40%|████      | 40/100 [00:42<01:10,  1.17s/it]"
          ]
        },
        {
          "output_type": "stream",
          "name": "stdout",
          "text": [
            "Step: 41 \t Time: 54.94987201690674\n",
            "0.05559874200820923\n"
          ]
        },
        {
          "output_type": "stream",
          "name": "stderr",
          "text": [
            "\r 41%|████      | 41/100 [00:43<01:07,  1.14s/it]"
          ]
        },
        {
          "output_type": "stream",
          "name": "stdout",
          "text": [
            "Step: 42 \t Time: 56.0196635723114\n",
            "0.05703049898147583\n"
          ]
        },
        {
          "output_type": "stream",
          "name": "stderr",
          "text": [
            "\r 42%|████▏     | 42/100 [00:45<01:11,  1.23s/it]"
          ]
        },
        {
          "output_type": "stream",
          "name": "stdout",
          "text": [
            "Step: 43 \t Time: 57.44120717048645\n",
            "0.058871933460235594\n"
          ]
        },
        {
          "output_type": "stream",
          "name": "stderr",
          "text": [
            "\r 43%|████▎     | 43/100 [00:47<01:22,  1.45s/it]"
          ]
        },
        {
          "output_type": "stream",
          "name": "stdout",
          "text": [
            "Step: 44 \t Time: 59.41223931312561\n",
            "0.060485579252243044\n"
          ]
        },
        {
          "output_type": "stream",
          "name": "stderr",
          "text": [
            "\r 44%|████▍     | 44/100 [00:48<01:21,  1.46s/it]"
          ]
        },
        {
          "output_type": "stream",
          "name": "stdout",
          "text": [
            "Step: 45 \t Time: 60.898088455200195\n",
            "0.06173147177696228\n"
          ]
        },
        {
          "output_type": "stream",
          "name": "stderr",
          "text": [
            "\r 45%|████▌     | 45/100 [00:50<01:16,  1.39s/it]"
          ]
        },
        {
          "output_type": "stream",
          "name": "stdout",
          "text": [
            "Step: 46 \t Time: 62.13218402862549\n",
            "0.06288747572898865\n"
          ]
        },
        {
          "output_type": "stream",
          "name": "stderr",
          "text": [
            "\r 46%|████▌     | 46/100 [00:51<01:11,  1.32s/it]"
          ]
        },
        {
          "output_type": "stream",
          "name": "stdout",
          "text": [
            "Step: 47 \t Time: 63.29169678688049\n",
            "0.06420003724098206\n"
          ]
        },
        {
          "output_type": "stream",
          "name": "stderr",
          "text": [
            "\r 47%|████▋     | 47/100 [00:52<01:09,  1.32s/it]"
          ]
        },
        {
          "output_type": "stream",
          "name": "stdout",
          "text": [
            "Step: 48 \t Time: 64.60121035575867\n",
            "0.06558147835731507\n"
          ]
        },
        {
          "output_type": "stream",
          "name": "stderr",
          "text": [
            "\r 48%|████▊     | 48/100 [00:53<01:09,  1.34s/it]"
          ]
        },
        {
          "output_type": "stream",
          "name": "stdout",
          "text": [
            "Step: 49 \t Time: 65.98828887939453\n",
            "0.06699158573150635\n"
          ]
        },
        {
          "output_type": "stream",
          "name": "stderr",
          "text": [
            "\r 49%|████▉     | 49/100 [00:55<01:09,  1.36s/it]"
          ]
        },
        {
          "output_type": "stream",
          "name": "stdout",
          "text": [
            "Step: 50 \t Time: 67.3976182937622\n",
            "0.0682132625579834\n"
          ]
        },
        {
          "output_type": "stream",
          "name": "stderr",
          "text": [
            "\r 50%|█████     | 50/100 [00:56<01:05,  1.32s/it]"
          ]
        },
        {
          "output_type": "stream",
          "name": "stdout",
          "text": [
            "Step: 51 \t Time: 68.60963892936707\n",
            "0.06959730648994446\n"
          ]
        },
        {
          "output_type": "stream",
          "name": "stderr",
          "text": [
            "\r 51%|█████     | 51/100 [00:57<01:05,  1.34s/it]"
          ]
        },
        {
          "output_type": "stream",
          "name": "stdout",
          "text": [
            "Step: 52 \t Time: 69.99902582168579\n",
            "0.07092414689064026\n"
          ]
        },
        {
          "output_type": "stream",
          "name": "stderr",
          "text": [
            "\r 52%|█████▏    | 52/100 [00:59<01:06,  1.38s/it]"
          ]
        },
        {
          "output_type": "stream",
          "name": "stdout",
          "text": [
            "Step: 53 \t Time: 71.48879623413086\n",
            "0.07256133437156677\n"
          ]
        },
        {
          "output_type": "stream",
          "name": "stderr",
          "text": [
            "\r 53%|█████▎    | 53/100 [01:00<01:06,  1.41s/it]"
          ]
        },
        {
          "output_type": "stream",
          "name": "stdout",
          "text": [
            "Step: 54 \t Time: 72.95668578147888\n",
            "0.07416897249221802\n"
          ]
        },
        {
          "output_type": "stream",
          "name": "stderr",
          "text": [
            "\r 54%|█████▍    | 54/100 [01:02<01:07,  1.47s/it]"
          ]
        },
        {
          "output_type": "stream",
          "name": "stdout",
          "text": [
            "Step: 55 \t Time: 74.56669044494629\n",
            "0.07560648274421693\n"
          ]
        },
        {
          "output_type": "stream",
          "name": "stderr",
          "text": [
            "\r 55%|█████▌    | 55/100 [01:03<01:05,  1.46s/it]"
          ]
        },
        {
          "output_type": "stream",
          "name": "stdout",
          "text": [
            "Step: 56 \t Time: 76.00621223449707\n",
            "0.07679733514785766\n"
          ]
        },
        {
          "output_type": "stream",
          "name": "stderr",
          "text": [
            "\r 56%|█████▌    | 56/100 [01:05<01:00,  1.39s/it]"
          ]
        },
        {
          "output_type": "stream",
          "name": "stdout",
          "text": [
            "Step: 57 \t Time: 77.21563935279846\n",
            "0.07826133441925048\n"
          ]
        },
        {
          "output_type": "stream",
          "name": "stderr",
          "text": [
            "\r 57%|█████▋    | 57/100 [01:06<01:00,  1.40s/it]"
          ]
        },
        {
          "output_type": "stream",
          "name": "stdout",
          "text": [
            "Step: 58 \t Time: 78.66463232040405\n",
            "0.07954360008239746\n"
          ]
        },
        {
          "output_type": "stream",
          "name": "stderr",
          "text": [
            "\r 58%|█████▊    | 58/100 [01:07<00:57,  1.37s/it]"
          ]
        },
        {
          "output_type": "stream",
          "name": "stdout",
          "text": [
            "Step: 59 \t Time: 79.9413845539093\n",
            "0.08162666606903077\n"
          ]
        },
        {
          "output_type": "stream",
          "name": "stderr",
          "text": [
            "\r 59%|█████▉    | 59/100 [01:09<01:04,  1.58s/it]"
          ]
        },
        {
          "output_type": "stream",
          "name": "stdout",
          "text": [
            "Step: 60 \t Time: 82.02423906326294\n",
            "0.08433647656440735\n"
          ]
        },
        {
          "output_type": "stream",
          "name": "stderr",
          "text": [
            "\r 60%|██████    | 60/100 [01:12<01:18,  1.96s/it]"
          ]
        },
        {
          "output_type": "stream",
          "name": "stdout",
          "text": [
            "Step: 61 \t Time: 84.85798954963684\n",
            "0.08653312349319459\n"
          ]
        },
        {
          "output_type": "stream",
          "name": "stderr",
          "text": [
            "\r 61%|██████    | 61/100 [01:14<01:17,  2.00s/it]"
          ]
        },
        {
          "output_type": "stream",
          "name": "stdout",
          "text": [
            "Step: 62 \t Time: 86.95160865783691\n",
            "0.08907078385353089\n"
          ]
        },
        {
          "output_type": "stream",
          "name": "stderr",
          "text": [
            "\r 62%|██████▏   | 62/100 [01:17<01:21,  2.16s/it]"
          ]
        },
        {
          "output_type": "stream",
          "name": "stdout",
          "text": [
            "Step: 63 \t Time: 89.48201203346252\n",
            "0.09133702778816223\n"
          ]
        },
        {
          "output_type": "stream",
          "name": "stderr",
          "text": [
            "\r 63%|██████▎   | 63/100 [01:19<01:21,  2.19s/it]"
          ]
        },
        {
          "output_type": "stream",
          "name": "stdout",
          "text": [
            "Step: 64 \t Time: 91.75821781158447\n",
            "0.09335696077346801\n"
          ]
        },
        {
          "output_type": "stream",
          "name": "stderr",
          "text": [
            "\r 64%|██████▍   | 64/100 [01:21<01:16,  2.13s/it]"
          ]
        },
        {
          "output_type": "stream",
          "name": "stdout",
          "text": [
            "Step: 65 \t Time: 93.75637578964233\n",
            "0.09625797772407532\n"
          ]
        },
        {
          "output_type": "stream",
          "name": "stderr",
          "text": [
            "\r 65%|██████▌   | 65/100 [01:24<01:24,  2.41s/it]"
          ]
        },
        {
          "output_type": "stream",
          "name": "stdout",
          "text": [
            "Step: 66 \t Time: 96.82479000091553\n",
            "0.09808840107917786\n"
          ]
        },
        {
          "output_type": "stream",
          "name": "stderr",
          "text": [
            "\r 66%|██████▌   | 66/100 [01:26<01:14,  2.19s/it]"
          ]
        },
        {
          "output_type": "stream",
          "name": "stdout",
          "text": [
            "Step: 67 \t Time: 98.48556613922119\n",
            "0.0989460735321045\n"
          ]
        },
        {
          "output_type": "stream",
          "name": "stderr",
          "text": [
            "\r 67%|██████▋   | 67/100 [01:27<00:59,  1.79s/it]"
          ]
        },
        {
          "output_type": "stream",
          "name": "stdout",
          "text": [
            "Step: 68 \t Time: 99.35091614723206\n",
            "0.0997493336200714\n"
          ]
        },
        {
          "output_type": "stream",
          "name": "stderr",
          "text": [
            "\r 68%|██████▊   | 68/100 [01:28<00:47,  1.50s/it]"
          ]
        },
        {
          "output_type": "stream",
          "name": "stdout",
          "text": [
            "Step: 69 \t Time: 100.16205644607544\n"
          ]
        }
      ]
    },
    {
      "cell_type": "code",
      "source": [
        "y1 = X.generator.data[\"f\"]\n",
        "plt.figure(figsize=(8,5))\n",
        "\n",
        "\n",
        "y1_maxs = np.maximum.accumulate(y1)\n",
        "plt.plot(y1, 'ok')\n",
        "plt.plot(y1_maxs, 'k')\n",
        "plt.hlines(1, 0, len(y1_maxs), linestyles=\"dotted\")\n",
        "plt.vlines(32, 0, 1.05, linestyles=\"dashed\")\n",
        "plt.show()"
      ],
      "metadata": {
        "colab": {
          "base_uri": "https://localhost:8080/",
          "height": 445
        },
        "id": "m7hDobGea-mh",
        "outputId": "e533c08f-a79c-4a1c-fb2a-94be62e9360d"
      },
      "execution_count": 51,
      "outputs": [
        {
          "output_type": "display_data",
          "data": {
            "text/plain": [
              "<Figure size 800x500 with 1 Axes>"
            ],
            "image/png": "[encoded data removed]"
          },
          "metadata": {}
        }
      ]
    },
    {
      "cell_type": "code",
      "source": [
        "X.data"
      ],
      "metadata": {
        "colab": {
          "base_uri": "https://localhost:8080/",
          "height": 424
        },
        "id": "oBGFGBsmff6E",
        "outputId": "c1e8b6a3-5981-4360-984e-060be4f0d83c"
      },
      "execution_count": 10,
      "outputs": [
        {
          "output_type": "execute_result",
          "data": {
            "text/plain": [
              "           x1        x2        x3        x4         f          time  \\\n",
              "0    0.328212  0.617073  0.519231  0.096890  0.287619  1.739939e+09   \n",
              "1    0.462747  0.771904  0.418003  0.720094  0.275862  1.739939e+09   \n",
              "2    0.459043  0.872212  0.726375  0.215628  0.252078  1.739939e+09   \n",
              "3    0.473153  0.135931  0.285710  0.987502  0.383119  1.739939e+09   \n",
              "4    0.473386  0.100250  0.276396  1.000000  0.324811  1.739939e+09   \n",
              "..        ...       ...       ...       ...       ...           ...   \n",
              "99   0.000000  0.768604  0.843395  0.247899  0.015643  1.739939e+09   \n",
              "100  0.000000  0.746202  0.804714  0.292799  0.015240  1.739939e+09   \n",
              "101  0.000000  0.751853  0.844432  0.301884  0.014742  1.739939e+09   \n",
              "102  0.000000  0.784328  0.817761  0.305403  0.014235  1.739939e+09   \n",
              "103  0.000000  0.781487  0.821048  0.287320  0.013785  1.739939e+09   \n",
              "\n",
              "     xopt_runtime  xopt_error  \n",
              "0        0.782393       False  \n",
              "1        0.330180       False  \n",
              "2        0.327629       False  \n",
              "3        0.318023       False  \n",
              "4        0.352898       False  \n",
              "..            ...         ...  \n",
              "99       0.308220       False  \n",
              "100      0.360932       False  \n",
              "101      0.445893       False  \n",
              "102      0.297801       False  \n",
              "103      0.309762       False  \n",
              "\n",
              "[104 rows x 8 columns]"
            ],
            "text/html": [
              "\n",
              "  <div id=\"df-38ed4ae0-fb3e-41a4-a4a2-1cc6212cf802\" class=\"colab-df-container\">\n",
              "    <div>\n",
              "<style scoped>\n",
              "    .dataframe tbody tr th:only-of-type {\n",
              "        vertical-align: middle;\n",
              "    }\n",
              "\n",
              "    .dataframe tbody tr th {\n",
              "        vertical-align: top;\n",
              "    }\n",
              "\n",
              "    .dataframe thead th {\n",
              "        text-align: right;\n",
              "    }\n",
              "</style>\n",
              "<table border=\"1\" class=\"dataframe\">\n",
              "  <thead>\n",
              "    <tr style=\"text-align: right;\">\n",
              "      <th></th>\n",
              "      <th>x1</th>\n",
              "      <th>x2</th>\n",
              "      <th>x3</th>\n",
              "      <th>x4</th>\n",
              "      <th>f</th>\n",
              "      <th>time</th>\n",
              "      <th>xopt_runtime</th>\n",
              "      <th>xopt_error</th>\n",
              "    </tr>\n",
              "  </thead>\n",
              "  <tbody>\n",
              "    <tr>\n",
              "      <th>0</th>\n",
              "      <td>0.328212</td>\n",
              "      <td>0.617073</td>\n",
              "      <td>0.519231</td>\n",
              "      <td>0.096890</td>\n",
              "      <td>0.287619</td>\n",
              "      <td>1.739939e+09</td>\n",
              "      <td>0.782393</td>\n",
              "      <td>False</td>\n",
              "    </tr>\n",
              "    <tr>\n",
              "      <th>1</th>\n",
              "      <td>0.462747</td>\n",
              "      <td>0.771904</td>\n",
              "      <td>0.418003</td>\n",
              "      <td>0.720094</td>\n",
              "      <td>0.275862</td>\n",
              "      <td>1.739939e+09</td>\n",
              "      <td>0.330180</td>\n",
              "      <td>False</td>\n",
              "    </tr>\n",
              "    <tr>\n",
              "      <th>2</th>\n",
              "      <td>0.459043</td>\n",
              "      <td>0.872212</td>\n",
              "      <td>0.726375</td>\n",
              "      <td>0.215628</td>\n",
              "      <td>0.252078</td>\n",
              "      <td>1.739939e+09</td>\n",
              "      <td>0.327629</td>\n",
              "      <td>False</td>\n",
              "    </tr>\n",
              "    <tr>\n",
              "      <th>3</th>\n",
              "      <td>0.473153</td>\n",
              "      <td>0.135931</td>\n",
              "      <td>0.285710</td>\n",
              "      <td>0.987502</td>\n",
              "      <td>0.383119</td>\n",
              "      <td>1.739939e+09</td>\n",
              "      <td>0.318023</td>\n",
              "      <td>False</td>\n",
              "    </tr>\n",
              "    <tr>\n",
              "      <th>4</th>\n",
              "      <td>0.473386</td>\n",
              "      <td>0.100250</td>\n",
              "      <td>0.276396</td>\n",
              "      <td>1.000000</td>\n",
              "      <td>0.324811</td>\n",
              "      <td>1.739939e+09</td>\n",
              "      <td>0.352898</td>\n",
              "      <td>False</td>\n",
              "    </tr>\n",
              "    <tr>\n",
              "      <th>...</th>\n",
              "      <td>...</td>\n",
              "      <td>...</td>\n",
              "      <td>...</td>\n",
              "      <td>...</td>\n",
              "      <td>...</td>\n",
              "      <td>...</td>\n",
              "      <td>...</td>\n",
              "      <td>...</td>\n",
              "    </tr>\n",
              "    <tr>\n",
              "      <th>99</th>\n",
              "      <td>0.000000</td>\n",
              "      <td>0.768604</td>\n",
              "      <td>0.843395</td>\n",
              "      <td>0.247899</td>\n",
              "      <td>0.015643</td>\n",
              "      <td>1.739939e+09</td>\n",
              "      <td>0.308220</td>\n",
              "      <td>False</td>\n",
              "    </tr>\n",
              "    <tr>\n",
              "      <th>100</th>\n",
              "      <td>0.000000</td>\n",
              "      <td>0.746202</td>\n",
              "      <td>0.804714</td>\n",
              "      <td>0.292799</td>\n",
              "      <td>0.015240</td>\n",
              "      <td>1.739939e+09</td>\n",
              "      <td>0.360932</td>\n",
              "      <td>False</td>\n",
              "    </tr>\n",
              "    <tr>\n",
              "      <th>101</th>\n",
              "      <td>0.000000</td>\n",
              "      <td>0.751853</td>\n",
              "      <td>0.844432</td>\n",
              "      <td>0.301884</td>\n",
              "      <td>0.014742</td>\n",
              "      <td>1.739939e+09</td>\n",
              "      <td>0.445893</td>\n",
              "      <td>False</td>\n",
              "    </tr>\n",
              "    <tr>\n",
              "      <th>102</th>\n",
              "      <td>0.000000</td>\n",
              "      <td>0.784328</td>\n",
              "      <td>0.817761</td>\n",
              "      <td>0.305403</td>\n",
              "      <td>0.014235</td>\n",
              "      <td>1.739939e+09</td>\n",
              "      <td>0.297801</td>\n",
              "      <td>False</td>\n",
              "    </tr>\n",
              "    <tr>\n",
              "      <th>103</th>\n",
              "      <td>0.000000</td>\n",
              "      <td>0.781487</td>\n",
              "      <td>0.821048</td>\n",
              "      <td>0.287320</td>\n",
              "      <td>0.013785</td>\n",
              "      <td>1.739939e+09</td>\n",
              "      <td>0.309762</td>\n",
              "      <td>False</td>\n",
              "    </tr>\n",
              "  </tbody>\n",
              "</table>\n",
              "<p>104 rows × 8 columns</p>\n",
              "</div>\n",
              "    <div class=\"colab-df-buttons\">\n",
              "\n",
              "  <div class=\"colab-df-container\">\n",
              "    <button class=\"colab-df-convert\" onclick=\"convertToInteractive('df-38ed4ae0-fb3e-41a4-a4a2-1cc6212cf802')\"\n",
              "            title=\"Convert this dataframe to an interactive table.\"\n",
              "            style=\"display:none;\">\n",
              "\n",
              "  <svg xmlns=\"http://www.w3.org/2000/svg\" height=\"24px\" viewBox=\"0 -960 960 960\">\n",
              "    <path d=\"M120-120v-720h720v720H120Zm60-500h600v-160H180v160Zm220 220h160v-160H400v160Zm0 220h160v-160H400v160ZM180-400h160v-160H180v160Zm440 0h160v-160H620v160ZM180-180h160v-160H180v160Zm440 0h160v-160H620v160Z\"/>\n",
              "  </svg>\n",
              "    </button>\n",
              "\n",
              "  <style>\n",
              "    .colab-df-container {\n",
              "      display:flex;\n",
              "      gap: 12px;\n",
              "    }\n",
              "\n",
              "    .colab-df-convert {\n",
              "      background-color: #E8F0FE;\n",
              "      border: none;\n",
              "      border-radius: 50%;\n",
              "      cursor: pointer;\n",
              "      display: none;\n",
              "      fill: #1967D2;\n",
              "      height: 32px;\n",
              "      padding: 0 0 0 0;\n",
              "      width: 32px;\n",
              "    }\n",
              "\n",
              "    .colab-df-convert:hover {\n",
              "      background-color: #E2EBFA;\n",
              "      box-shadow: 0px 1px 2px rgba(60, 64, 67, 0.3), 0px 1px 3px 1px rgba(60, 64, 67, 0.15);\n",
              "      fill: #174EA6;\n",
              "    }\n",
              "\n",
              "    .colab-df-buttons div {\n",
              "      margin-bottom: 4px;\n",
              "    }\n",
              "\n",
              "    [theme=dark] .colab-df-convert {\n",
              "      background-color: #3B4455;\n",
              "      fill: #D2E3FC;\n",
              "    }\n",
              "\n",
              "    [theme=dark] .colab-df-convert:hover {\n",
              "      background-color: #434B5C;\n",
              "      box-shadow: 0px 1px 3px 1px rgba(0, 0, 0, 0.15);\n",
              "      filter: drop-shadow(0px 1px 2px rgba(0, 0, 0, 0.3));\n",
              "      fill: #FFFFFF;\n",
              "    }\n",
              "  </style>\n",
              "\n",
              "    <script>\n",
              "      const buttonEl =\n",
              "        document.querySelector('#df-38ed4ae0-fb3e-41a4-a4a2-1cc6212cf802 button.colab-df-convert');\n",
              "      buttonEl.style.display =\n",
              "        google.colab.kernel.accessAllowed ? 'block' : 'none';\n",
              "\n",
              "      async function convertToInteractive(key) {\n",
              "        const element = document.querySelector('#df-38ed4ae0-fb3e-41a4-a4a2-1cc6212cf802');\n",
              "        const dataTable =\n",
              "          await google.colab.kernel.invokeFunction('convertToInteractive',\n",
              "                                                    [key], {});\n",
              "        if (!dataTable) return;\n",
              "\n",
              "        const docLinkHtml = 'Like what you see? Visit the ' +\n",
              "          '<a target=\"_blank\" href=https://colab.research.google.com/notebooks/data_table.ipynb>data table notebook</a>'\n",
              "          + ' to learn more about interactive tables.';\n",
              "        element.innerHTML = '';\n",
              "        dataTable['output_type'] = 'display_data';\n",
              "        await google.colab.output.renderOutput(dataTable, element);\n",
              "        const docLink = document.createElement('div');\n",
              "        docLink.innerHTML = docLinkHtml;\n",
              "        element.appendChild(docLink);\n",
              "      }\n",
              "    </script>\n",
              "  </div>\n",
              "\n",
              "\n",
              "<div id=\"df-aafd5401-130d-4eca-bd6a-56a423d9e4d3\">\n",
              "  <button class=\"colab-df-quickchart\" onclick=\"quickchart('df-aafd5401-130d-4eca-bd6a-56a423d9e4d3')\"\n",
              "            title=\"Suggest charts\"\n",
              "            style=\"display:none;\">\n",
              "\n",
              "<svg xmlns=\"http://www.w3.org/2000/svg\" height=\"24px\"viewBox=\"0 0 24 24\"\n",
              "     width=\"24px\">\n",
              "    <g>\n",
              "        <path d=\"M19 3H5c-1.1 0-2 .9-2 2v14c0 1.1.9 2 2 2h14c1.1 0 2-.9 2-2V5c0-1.1-.9-2-2-2zM9 17H7v-7h2v7zm4 0h-2V7h2v10zm4 0h-2v-4h2v4z\"/>\n",
              "    </g>\n",
              "</svg>\n",
              "  </button>\n",
              "\n",
              "<style>\n",
              "  .colab-df-quickchart {\n",
              "      --bg-color: #E8F0FE;\n",
              "      --fill-color: #1967D2;\n",
              "      --hover-bg-color: #E2EBFA;\n",
              "      --hover-fill-color: #174EA6;\n",
              "      --disabled-fill-color: #AAA;\n",
              "      --disabled-bg-color: #DDD;\n",
              "  }\n",
              "\n",
              "  [theme=dark] .colab-df-quickchart {\n",
              "      --bg-color: #3B4455;\n",
              "      --fill-color: #D2E3FC;\n",
              "      --hover-bg-color: #434B5C;\n",
              "      --hover-fill-color: #FFFFFF;\n",
              "      --disabled-bg-color: #3B4455;\n",
              "      --disabled-fill-color: #666;\n",
              "  }\n",
              "\n",
              "  .colab-df-quickchart {\n",
              "    background-color: var(--bg-color);\n",
              "    border: none;\n",
              "    border-radius: 50%;\n",
              "    cursor: pointer;\n",
              "    display: none;\n",
              "    fill: var(--fill-color);\n",
              "    height: 32px;\n",
              "    padding: 0;\n",
              "    width: 32px;\n",
              "  }\n",
              "\n",
              "  .colab-df-quickchart:hover {\n",
              "    background-color: var(--hover-bg-color);\n",
              "    box-shadow: 0 1px 2px rgba(60, 64, 67, 0.3), 0 1px 3px 1px rgba(60, 64, 67, 0.15);\n",
              "    fill: var(--button-hover-fill-color);\n",
              "  }\n",
              "\n",
              "  .colab-df-quickchart-complete:disabled,\n",
              "  .colab-df-quickchart-complete:disabled:hover {\n",
              "    background-color: var(--disabled-bg-color);\n",
              "    fill: var(--disabled-fill-color);\n",
              "    box-shadow: none;\n",
              "  }\n",
              "\n",
              "  .colab-df-spinner {\n",
              "    border: 2px solid var(--fill-color);\n",
              "    border-color: transparent;\n",
              "    border-bottom-color: var(--fill-color);\n",
              "    animation:\n",
              "      spin 1s steps(1) infinite;\n",
              "  }\n",
              "\n",
              "  @keyframes spin {\n",
              "    0% {\n",
              "      border-color: transparent;\n",
              "      border-bottom-color: var(--fill-color);\n",
              "      border-left-color: var(--fill-color);\n",
              "    }\n",
              "    20% {\n",
              "      border-color: transparent;\n",
              "      border-left-color: var(--fill-color);\n",
              "      border-top-color: var(--fill-color);\n",
              "    }\n",
              "    30% {\n",
              "      border-color: transparent;\n",
              "      border-left-color: var(--fill-color);\n",
              "      border-top-color: var(--fill-color);\n",
              "      border-right-color: var(--fill-color);\n",
              "    }\n",
              "    40% {\n",
              "      border-color: transparent;\n",
              "      border-right-color: var(--fill-color);\n",
              "      border-top-color: var(--fill-color);\n",
              "    }\n",
              "    60% {\n",
              "      border-color: transparent;\n",
              "      border-right-color: var(--fill-color);\n",
              "    }\n",
              "    80% {\n",
              "      border-color: transparent;\n",
              "      border-right-color: var(--fill-color);\n",
              "      border-bottom-color: var(--fill-color);\n",
              "    }\n",
              "    90% {\n",
              "      border-color: transparent;\n",
              "      border-bottom-color: var(--fill-color);\n",
              "    }\n",
              "  }\n",
              "</style>\n",
              "\n",
              "  <script>\n",
              "    async function quickchart(key) {\n",
              "      const quickchartButtonEl =\n",
              "        document.querySelector('#' + key + ' button');\n",
              "      quickchartButtonEl.disabled = true;  // To prevent multiple clicks.\n",
              "      quickchartButtonEl.classList.add('colab-df-spinner');\n",
              "      try {\n",
              "        const charts = await google.colab.kernel.invokeFunction(\n",
              "            'suggestCharts', [key], {});\n",
              "      } catch (error) {\n",
              "        console.error('Error during call to suggestCharts:', error);\n",
              "      }\n",
              "      quickchartButtonEl.classList.remove('colab-df-spinner');\n",
              "      quickchartButtonEl.classList.add('colab-df-quickchart-complete');\n",
              "    }\n",
              "    (() => {\n",
              "      let quickchartButtonEl =\n",
              "        document.querySelector('#df-aafd5401-130d-4eca-bd6a-56a423d9e4d3 button');\n",
              "      quickchartButtonEl.style.display =\n",
              "        google.colab.kernel.accessAllowed ? 'block' : 'none';\n",
              "    })();\n",
              "  </script>\n",
              "</div>\n",
              "\n",
              "    </div>\n",
              "  </div>\n"
            ],
            "application/vnd.google.colaboratory.intrinsic+json": {
              "type": "dataframe",
              "summary": "{\n  \"name\": \"X\",\n  \"rows\": 104,\n  \"fields\": [\n    {\n      \"column\": \"x1\",\n      \"properties\": {\n        \"dtype\": \"number\",\n        \"std\": 0.3540277647969183,\n        \"min\": 0.0,\n        \"max\": 1.0,\n        \"num_unique_values\": 50,\n        \"samples\": [\n          0.6050826126865197,\n          0.05828771635993783,\n          0.057295497626573905\n        ],\n        \"semantic_type\": \"\",\n        \"description\": \"\"\n      }\n    },\n    {\n      \"column\": \"x2\",\n      \"properties\": {\n        \"dtype\": \"number\",\n        \"std\": 0.37838077683688476,\n        \"min\": 0.0,\n        \"max\": 1.0,\n        \"num_unique_values\": 75,\n        \"samples\": [\n          0.1002499875287232,\n          0.4313987551878694,\n          0.21373768690699327\n        ],\n        \"semantic_type\": \"\",\n        \"description\": \"\"\n      }\n    },\n    {\n      \"column\": \"x3\",\n      \"properties\": {\n        \"dtype\": \"number\",\n        \"std\": 0.3612563856969775,\n        \"min\": 0.0,\n        \"max\": 1.0,\n        \"num_unique_values\": 72,\n        \"samples\": [\n          0.2763963132852141,\n          0.816489363194974,\n          0.39058549805000364\n        ],\n        \"semantic_type\": \"\",\n        \"description\": \"\"\n      }\n    },\n    {\n      \"column\": \"x4\",\n      \"properties\": {\n        \"dtype\": \"number\",\n        \"std\": 0.3511206581503634,\n        \"min\": 0.0,\n        \"max\": 1.0,\n        \"num_unique_values\": 75,\n        \"samples\": [\n          1.0,\n          0.2622810819130829,\n          0.7835809546353265\n        ],\n        \"semantic_type\": \"\",\n        \"description\": \"\"\n      }\n    },\n    {\n      \"column\": \"f\",\n      \"properties\": {\n        \"dtype\": \"number\",\n        \"std\": 0.2933632010456727,\n        \"min\": 0.0015670213615521789,\n        \"max\": 0.9704317450523376,\n        \"num_unique_values\": 104,\n        \"samples\": [\n          0.6930420398712158,\n          0.0022853175178170204,\n          0.0028630539309233427\n        ],\n        \"semantic_type\": \"\",\n        \"description\": \"\"\n      }\n    },\n    {\n      \"column\": \"time\",\n      \"properties\": {\n        \"dtype\": \"number\",\n        \"std\": 38.44937133480793,\n        \"min\": 1739939045.1176527,\n        \"max\": 1739939176.889825,\n        \"num_unique_values\": 104,\n        \"samples\": [\n          1739939089.82322,\n          1739939136.2844703,\n          1739939135.1889312\n        ],\n        \"semantic_type\": \"\",\n        \"description\": \"\"\n      }\n    },\n    {\n      \"column\": \"xopt_runtime\",\n      \"properties\": {\n        \"dtype\": \"number\",\n        \"std\": 0.16310037400105312,\n        \"min\": 0.29337546700025996,\n        \"max\": 1.5413717369997357,\n        \"num_unique_values\": 104,\n        \"samples\": [\n          0.3233086909999656,\n          0.4831024109998907,\n          0.37249673999986044\n        ],\n        \"semantic_type\": \"\",\n        \"description\": \"\"\n      }\n    },\n    {\n      \"column\": \"xopt_error\",\n      \"properties\": {\n        \"dtype\": \"boolean\",\n        \"num_unique_values\": 1,\n        \"samples\": [\n          false\n        ],\n        \"semantic_type\": \"\",\n        \"description\": \"\"\n      }\n    }\n  ]\n}"
            }
          },
          "metadata": {},
          "execution_count": 10
        }
      ]
    },
    {
      "cell_type": "code",
      "source": [],
      "metadata": {
        "id": "1oDiaKRhdlcg"
      },
      "execution_count": null,
      "outputs": []
    }
  ]
}
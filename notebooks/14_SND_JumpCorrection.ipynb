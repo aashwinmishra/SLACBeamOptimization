{
  "nbformat": 4,
  "nbformat_minor": 0,
  "metadata": {
    "colab": {
      "provenance": [],
      "authorship_tag": "ABX9TyM8uoLqeVi/gO+QF+KrioOd"
    },
    "kernelspec": {
      "name": "python3",
      "display_name": "Python 3"
    },
    "language_info": {
      "name": "python"
    }
  },
  "cells": [
    {
      "cell_type": "code",
      "execution_count": 1,
      "metadata": {
        "colab": {
          "base_uri": "https://localhost:8080/"
        },
        "id": "Q6_PaM521l-L",
        "outputId": "adad7226-41a9-4826-aa8e-c3ba08f9b333"
      },
      "outputs": [
        {
          "output_type": "stream",
          "name": "stdout",
          "text": [
            "Cloning into 'lcls_beamline_toolbox'...\n",
            "remote: Enumerating objects: 3341, done.\u001b[K\n",
            "remote: Counting objects: 100% (612/612), done.\u001b[K\n",
            "remote: Compressing objects: 100% (225/225), done.\u001b[K\n",
            "remote: Total 3341 (delta 531), reused 458 (delta 387), pack-reused 2729 (from 1)\u001b[K\n",
            "Receiving objects: 100% (3341/3341), 233.19 MiB | 8.45 MiB/s, done.\n",
            "Resolving deltas: 100% (2581/2581), done.\n",
            "Updating files: 100% (144/144), done.\n"
          ]
        }
      ],
      "source": [
        "!git clone https://github.com/mseaberg/lcls_beamline_toolbox"
      ]
    },
    {
      "cell_type": "code",
      "source": [
        "import os\n",
        "os.chdir('lcls_beamline_toolbox')\n",
        "!python3 -m pip install -e . -q\n",
        "!pip install xraydb -q\n",
        "!pip install xopt -q"
      ],
      "metadata": {
        "colab": {
          "base_uri": "https://localhost:8080/"
        },
        "id": "hVU7hWtJ1r5C",
        "outputId": "63417c28-6677-4387-f7ac-047692a53ca2"
      },
      "execution_count": 2,
      "outputs": [
        {
          "output_type": "stream",
          "name": "stdout",
          "text": [
            "  Preparing metadata (setup.py) ... \u001b[?25l\u001b[?25hdone\n",
            "\u001b[2K     \u001b[90m━━━━━━━━━━━━━━━━━━━━━━━━━━━━━━━━━━━━━━━━\u001b[0m \u001b[32m9.5/9.5 MB\u001b[0m \u001b[31m34.0 MB/s\u001b[0m eta \u001b[36m0:00:00\u001b[0m\n",
            "\u001b[?25h  Preparing metadata (setup.py) ... \u001b[?25l\u001b[?25hdone\n",
            "\u001b[2K   \u001b[90m━━━━━━━━━━━━━━━━━━━━━━━━━━━━━━━━━━━━━━━━\u001b[0m \u001b[32m11.7/11.7 MB\u001b[0m \u001b[31m54.2 MB/s\u001b[0m eta \u001b[36m0:00:00\u001b[0m\n",
            "\u001b[2K   \u001b[90m━━━━━━━━━━━━━━━━━━━━━━━━━━━━━━━━━━━━━━━━\u001b[0m \u001b[32m724.6/724.6 kB\u001b[0m \u001b[31m29.4 MB/s\u001b[0m eta \u001b[36m0:00:00\u001b[0m\n",
            "\u001b[2K   \u001b[90m━━━━━━━━━━━━━━━━━━━━━━━━━━━━━━━━━━━━━━━━\u001b[0m \u001b[32m105.6/105.6 kB\u001b[0m \u001b[31m7.5 MB/s\u001b[0m eta \u001b[36m0:00:00\u001b[0m\n",
            "\u001b[2K   \u001b[90m━━━━━━━━━━━━━━━━━━━━━━━━━━━━━━━━━━━━━━━━\u001b[0m \u001b[32m121.1/121.1 kB\u001b[0m \u001b[31m12.1 MB/s\u001b[0m eta \u001b[36m0:00:00\u001b[0m\n",
            "\u001b[2K   \u001b[90m━━━━━━━━━━━━━━━━━━━━━━━━━━━━━━━━━━━━━━━━\u001b[0m \u001b[32m69.1/69.1 kB\u001b[0m \u001b[31m6.9 MB/s\u001b[0m eta \u001b[36m0:00:00\u001b[0m\n",
            "\u001b[2K   \u001b[90m━━━━━━━━━━━━━━━━━━━━━━━━━━━━━━━━━━━━━━━━\u001b[0m \u001b[32m385.8/385.8 kB\u001b[0m \u001b[31m23.9 MB/s\u001b[0m eta \u001b[36m0:00:00\u001b[0m\n",
            "\u001b[2K   \u001b[90m━━━━━━━━━━━━━━━━━━━━━━━━━━━━━━━━━━━━━━━━\u001b[0m \u001b[32m133.5/133.5 kB\u001b[0m \u001b[31m11.4 MB/s\u001b[0m eta \u001b[36m0:00:00\u001b[0m\n",
            "\u001b[2K   \u001b[90m━━━━━━━━━━━━━━━━━━━━━━━━━━━━━━━━━━━━━━━━\u001b[0m \u001b[32m59.7/59.7 kB\u001b[0m \u001b[31m4.5 MB/s\u001b[0m eta \u001b[36m0:00:00\u001b[0m\n",
            "\u001b[2K   \u001b[90m━━━━━━━━━━━━━━━━━━━━━━━━━━━━━━━━━━━━━━━━\u001b[0m \u001b[32m92.8/92.8 kB\u001b[0m \u001b[31m5.5 MB/s\u001b[0m eta \u001b[36m0:00:00\u001b[0m\n",
            "\u001b[2K   \u001b[90m━━━━━━━━━━━━━━━━━━━━━━━━━━━━━━━━━━━━━━━━\u001b[0m \u001b[32m1.6/1.6 MB\u001b[0m \u001b[31m32.6 MB/s\u001b[0m eta \u001b[36m0:00:00\u001b[0m\n",
            "\u001b[2K   \u001b[90m━━━━━━━━━━━━━━━━━━━━━━━━━━━━━━━━━━━━━━━━\u001b[0m \u001b[32m66.4/66.4 kB\u001b[0m \u001b[31m6.1 MB/s\u001b[0m eta \u001b[36m0:00:00\u001b[0m\n",
            "\u001b[?25h  Building wheel for xrt (setup.py) ... \u001b[?25l\u001b[?25hdone\n",
            "\u001b[2K   \u001b[90m━━━━━━━━━━━━━━━━━━━━━━━━━━━━━━━━━━━━━━━━\u001b[0m \u001b[32m3.9/3.9 MB\u001b[0m \u001b[31m26.3 MB/s\u001b[0m eta \u001b[36m0:00:00\u001b[0m\n",
            "\u001b[2K     \u001b[90m━━━━━━━━━━━━━━━━━━━━━━━━━━━━━━━━━━━━━━━━\u001b[0m \u001b[32m924.2/924.2 kB\u001b[0m \u001b[31m10.2 MB/s\u001b[0m eta \u001b[36m0:00:00\u001b[0m\n",
            "\u001b[?25h  Installing build dependencies ... \u001b[?25l\u001b[?25hdone\n",
            "  Getting requirements to build wheel ... \u001b[?25l\u001b[?25hdone\n",
            "  Preparing metadata (pyproject.toml) ... \u001b[?25l\u001b[?25hdone\n",
            "\u001b[2K   \u001b[90m━━━━━━━━━━━━━━━━━━━━━━━━━━━━━━━━━━━━━━━━\u001b[0m \u001b[32m706.8/706.8 kB\u001b[0m \u001b[31m38.8 MB/s\u001b[0m eta \u001b[36m0:00:00\u001b[0m\n",
            "\u001b[2K   \u001b[90m━━━━━━━━━━━━━━━━━━━━━━━━━━━━━━━━━━━━━━━━\u001b[0m \u001b[32m277.7/277.7 kB\u001b[0m \u001b[31m24.0 MB/s\u001b[0m eta \u001b[36m0:00:00\u001b[0m\n",
            "\u001b[2K   \u001b[90m━━━━━━━━━━━━━━━━━━━━━━━━━━━━━━━━━━━━━━━━\u001b[0m \u001b[32m176.3/176.3 kB\u001b[0m \u001b[31m17.0 MB/s\u001b[0m eta \u001b[36m0:00:00\u001b[0m\n",
            "\u001b[2K   \u001b[90m━━━━━━━━━━━━━━━━━━━━━━━━━━━━━━━━━━━━━━━━\u001b[0m \u001b[32m135.4/135.4 kB\u001b[0m \u001b[31m12.4 MB/s\u001b[0m eta \u001b[36m0:00:00\u001b[0m\n",
            "\u001b[2K   \u001b[90m━━━━━━━━━━━━━━━━━━━━━━━━━━━━━━━━━━━━━━━━\u001b[0m \u001b[32m756.0/756.0 kB\u001b[0m \u001b[31m46.4 MB/s\u001b[0m eta \u001b[36m0:00:00\u001b[0m\n",
            "\u001b[2K   \u001b[90m━━━━━━━━━━━━━━━━━━━━━━━━━━━━━━━━━━━━━━━━\u001b[0m \u001b[32m363.4/363.4 MB\u001b[0m \u001b[31m4.3 MB/s\u001b[0m eta \u001b[36m0:00:00\u001b[0m\n",
            "\u001b[2K   \u001b[90m━━━━━━━━━━━━━━━━━━━━━━━━━━━━━━━━━━━━━━━━\u001b[0m \u001b[32m13.8/13.8 MB\u001b[0m \u001b[31m92.2 MB/s\u001b[0m eta \u001b[36m0:00:00\u001b[0m\n",
            "\u001b[2K   \u001b[90m━━━━━━━━━━━━━━━━━━━━━━━━━━━━━━━━━━━━━━━━\u001b[0m \u001b[32m24.6/24.6 MB\u001b[0m \u001b[31m78.5 MB/s\u001b[0m eta \u001b[36m0:00:00\u001b[0m\n",
            "\u001b[2K   \u001b[90m━━━━━━━━━━━━━━━━━━━━━━━━━━━━━━━━━━━━━━━━\u001b[0m \u001b[32m883.7/883.7 kB\u001b[0m \u001b[31m47.0 MB/s\u001b[0m eta \u001b[36m0:00:00\u001b[0m\n",
            "\u001b[2K   \u001b[90m━━━━━━━━━━━━━━━━━━━━━━━━━━━━━━━━━━━━━━━━\u001b[0m \u001b[32m664.8/664.8 MB\u001b[0m \u001b[31m2.1 MB/s\u001b[0m eta \u001b[36m0:00:00\u001b[0m\n",
            "\u001b[2K   \u001b[90m━━━━━━━━━━━━━━━━━━━━━━━━━━━━━━━━━━━━━━━━\u001b[0m \u001b[32m211.5/211.5 MB\u001b[0m \u001b[31m5.7 MB/s\u001b[0m eta \u001b[36m0:00:00\u001b[0m\n",
            "\u001b[2K   \u001b[90m━━━━━━━━━━━━━━━━━━━━━━━━━━━━━━━━━━━━━━━━\u001b[0m \u001b[32m56.3/56.3 MB\u001b[0m \u001b[31m11.2 MB/s\u001b[0m eta \u001b[36m0:00:00\u001b[0m\n",
            "\u001b[2K   \u001b[90m━━━━━━━━━━━━━━━━━━━━━━━━━━━━━━━━━━━━━━━━\u001b[0m \u001b[32m127.9/127.9 MB\u001b[0m \u001b[31m7.6 MB/s\u001b[0m eta \u001b[36m0:00:00\u001b[0m\n",
            "\u001b[2K   \u001b[90m━━━━━━━━━━━━━━━━━━━━━━━━━━━━━━━━━━━━━━━━\u001b[0m \u001b[32m207.5/207.5 MB\u001b[0m \u001b[31m6.3 MB/s\u001b[0m eta \u001b[36m0:00:00\u001b[0m\n",
            "\u001b[2K   \u001b[90m━━━━━━━━━━━━━━━━━━━━━━━━━━━━━━━━━━━━━━━━\u001b[0m \u001b[32m21.1/21.1 MB\u001b[0m \u001b[31m80.1 MB/s\u001b[0m eta \u001b[36m0:00:00\u001b[0m\n",
            "\u001b[2K   \u001b[90m━━━━━━━━━━━━━━━━━━━━━━━━━━━━━━━━━━━━━━━━\u001b[0m \u001b[32m56.4/56.4 kB\u001b[0m \u001b[31m5.0 MB/s\u001b[0m eta \u001b[36m0:00:00\u001b[0m\n",
            "\u001b[?25h  Building wheel for xopt (pyproject.toml) ... \u001b[?25l\u001b[?25hdone\n"
          ]
        }
      ]
    },
    {
      "cell_type": "code",
      "source": [
        "!pip install scipy==1.10.0"
      ],
      "metadata": {
        "colab": {
          "base_uri": "https://localhost:8080/"
        },
        "id": "DbctvF5hmwn2",
        "outputId": "4fa5d727-ec36-4163-8b97-a536a15b4305"
      },
      "execution_count": 3,
      "outputs": [
        {
          "output_type": "stream",
          "name": "stdout",
          "text": [
            "Collecting scipy==1.10.0\n",
            "  Downloading scipy-1.10.0-cp311-cp311-manylinux_2_17_x86_64.manylinux2014_x86_64.whl.metadata (58 kB)\n",
            "\u001b[?25l     \u001b[90m━━━━━━━━━━━━━━━━━━━━━━━━━━━━━━━━━━━━━━━━\u001b[0m \u001b[32m0.0/58.9 kB\u001b[0m \u001b[31m?\u001b[0m eta \u001b[36m-:--:--\u001b[0m\r\u001b[2K     \u001b[90m━━━━━━━━━━━━━━━━━━━━━━━━━━━━━━━━━━━━━━━━\u001b[0m \u001b[32m58.9/58.9 kB\u001b[0m \u001b[31m2.0 MB/s\u001b[0m eta \u001b[36m0:00:00\u001b[0m\n",
            "\u001b[?25hRequirement already satisfied: numpy<1.27.0,>=1.19.5 in /usr/local/lib/python3.11/dist-packages (from scipy==1.10.0) (1.26.4)\n",
            "Downloading scipy-1.10.0-cp311-cp311-manylinux_2_17_x86_64.manylinux2014_x86_64.whl (34.1 MB)\n",
            "\u001b[2K   \u001b[90m━━━━━━━━━━━━━━━━━━━━━━━━━━━━━━━━━━━━━━━━\u001b[0m \u001b[32m34.1/34.1 MB\u001b[0m \u001b[31m12.8 MB/s\u001b[0m eta \u001b[36m0:00:00\u001b[0m\n",
            "\u001b[?25hInstalling collected packages: scipy\n",
            "  Attempting uninstall: scipy\n",
            "    Found existing installation: scipy 1.14.1\n",
            "    Uninstalling scipy-1.14.1:\n",
            "      Successfully uninstalled scipy-1.14.1\n",
            "\u001b[31mERROR: pip's dependency resolver does not currently take into account all the packages that are installed. This behaviour is the source of the following dependency conflicts.\n",
            "xopt 2.5.5 requires scipy>=1.10.1, but you have scipy 1.10.0 which is incompatible.\n",
            "scikit-image 0.25.2 requires scipy>=1.11.4, but you have scipy 1.10.0 which is incompatible.\n",
            "imbalanced-learn 0.13.0 requires scipy<2,>=1.10.1, but you have scipy 1.10.0 which is incompatible.\n",
            "cvxpy 1.6.2 requires scipy>=1.11.0, but you have scipy 1.10.0 which is incompatible.\n",
            "jaxlib 0.5.1 requires scipy>=1.11.1, but you have scipy 1.10.0 which is incompatible.\n",
            "jax 0.5.2 requires scipy>=1.11.1, but you have scipy 1.10.0 which is incompatible.\u001b[0m\u001b[31m\n",
            "\u001b[0mSuccessfully installed scipy-1.10.0\n"
          ]
        }
      ]
    },
    {
      "cell_type": "code",
      "source": [
        "import warnings\n",
        "warnings.filterwarnings(\"ignore\")\n",
        "from tqdm import trange\n",
        "import time\n",
        "import numpy as np\n",
        "import pandas as pd\n",
        "import matplotlib.pyplot as plt\n",
        "import lcls_beamline_toolbox.xraywavetrace.beam1d as beam\n",
        "import lcls_beamline_toolbox.xraywavetrace.optics1d as optics\n",
        "import lcls_beamline_toolbox.xraywavetrace.beamline1d as beamline\n",
        "import scipy.optimize as optimize\n",
        "import copy\n",
        "import scipy.spatial.transform as transform\n",
        "from scipy.stats import qmc\n",
        "from split_and_delay import SND\n",
        "\n",
        "import torch\n",
        "import gpytorch\n",
        "import botorch\n",
        "from xopt import Xopt, Evaluator\n",
        "from xopt.generators.bayesian import MOBOGenerator, ExpectedImprovementGenerator, TDUpperConfidenceBoundGenerator, TDExpectedImprovementGenerator\n",
        "from xopt.resources.test_functions.tnk import evaluate_TNK, tnk_vocs\n",
        "from xopt import VOCS\n",
        "from xopt import Xopt"
      ],
      "metadata": {
        "id": "Elx3U8ZN1vRs"
      },
      "execution_count": 4,
      "outputs": []
    },
    {
      "cell_type": "code",
      "source": [
        "def get_snd_outputs(inputs):\n",
        "  \"\"\"\n",
        "  Study 1 Objective function. Takes an [n, 8] dim np array of\n",
        "  [samples, ( t1_th1, t1_th2, chi1, chi2, t4_th1, t4_th2, chi1, chi2)].\n",
        "  The entries lie in the uniform unit interval.\n",
        "  They are scaled to lie in [-100e-6, +100e-6].\n",
        "  Returns a torch tensor of dim [n, 2] of\n",
        "  [samples, (do_sum_objective, IP_r_objective)]\n",
        "  \"\"\"\n",
        "  inputs = inputs*5e-6 - 2.5e-6\n",
        "  result = []\n",
        "\n",
        "  for x in inputs:\n",
        "    snd = SND(9500)\n",
        "    x = np.array(x)\n",
        "\n",
        "    snd.mvr_t1_th1(x[0])\n",
        "    snd.mvr_t1_th2(x[1])\n",
        "    snd.mvr_t1_chi1(x[2])\n",
        "    snd.mvr_t1_chi2(x[3])\n",
        "    snd.mvr_t4_th1(x[4])\n",
        "    snd.mvr_t4_th2(x[5])\n",
        "    snd.mvr_t4_chi1(x[6])\n",
        "    snd.mvr_t4_chi2(x[7])\n",
        "\n",
        "\n",
        "\n",
        "    snd.propagate_delay()\n",
        "\n",
        "    dh1 = snd.get_t1_dh_sum()\n",
        "    dd = snd.get_dd_sum()\n",
        "    dh4 = snd.get_t4_dh_sum()\n",
        "    do = snd.get_do_sum()\n",
        "    my_IP_sum = snd.get_IP_sum()\n",
        "    my_intensity = dh1 + dd + dh4 + do + my_IP_sum\n",
        "\n",
        "    do_centroid = snd.get_IP_r()\n",
        "    do_centroid_x = snd.get_IP_cx()\n",
        "    do_centroid_y = snd.get_IP_cy()\n",
        "\n",
        "\n",
        "\n",
        "    result.append((do_centroid)*1e6)#my_intensity)/(61441.4336))\n",
        "    del snd\n",
        "  return torch.tensor(result, dtype=torch.float)"
      ],
      "metadata": {
        "id": "fN0oMzxV2u98"
      },
      "execution_count": 5,
      "outputs": []
    },
    {
      "cell_type": "code",
      "source": [
        "input = np.ones((1,8)) * 0.58\n",
        "get_snd_outputs(input)"
      ],
      "metadata": {
        "colab": {
          "base_uri": "https://localhost:8080/"
        },
        "id": "1frb-SpP8r31",
        "outputId": "2d2bdf63-ce40-4aa7-b41c-639891c51048"
      },
      "execution_count": 22,
      "outputs": [
        {
          "output_type": "execute_result",
          "data": {
            "text/plain": [
              "tensor([3.2590])"
            ]
          },
          "metadata": {},
          "execution_count": 22
        }
      ]
    },
    {
      "cell_type": "code",
      "source": [
        "def f(input_dict: dict) -> dict:\n",
        "  current_time = time.time()\n",
        "  temp = current_time - start_time\n",
        "  if temp > 200:\n",
        "    t = current_time - start_time\n",
        "  else:\n",
        "    t = 0.0\n",
        "  drift_mag = 0.0001\n",
        "  print(f\"Shift: {t*drift_mag}\")\n",
        "  drift_dir = np.array([1, -1, -1, 1, 1, 1, -1, -1])\n",
        "  noise = np.random.rand(8) * drift_mag * 0.01\n",
        "  drift_vec = drift_mag * drift_dir + noise\n",
        "  drift = t * drift_vec\n",
        "\n",
        "  x1, x2, x3, x4, x5, x6, x7, x8 = input_dict[\"x1\"] + drift[0], input_dict[\"x2\"] + drift[1], input_dict[\"x3\"] + drift[2], input_dict[\"x4\"] + drift[3], input_dict[\"x5\"] + drift[4], input_dict[\"x6\"] + drift[5], input_dict[\"x7\"] + drift[6], input_dict[\"x8\"] + drift[7]\n",
        "\n",
        "  Xinp = np.expand_dims(np.array([x1, x2, x3, x4, x5, x6, x7, x8]), axis=0)\n",
        "  output = get_snd_outputs(Xinp).squeeze()\n",
        "  f = output.item()\n",
        "  return {\"f\": f, \"time\": float(current_time)}"
      ],
      "metadata": {
        "id": "Iot6iNAY-cKv"
      },
      "execution_count": 7,
      "outputs": []
    },
    {
      "cell_type": "code",
      "source": [
        "def eval_function(input_dict: dict) -> dict:\n",
        "  drift = 0.01\n",
        "  if time > 20:\n",
        "    x1, x2, x3, x4 = input_dict[\"x1\"] + time*drift, input_dict[\"x2\"] + time*drift, input_dict[\"x3\"] + time*drift, input_dict[\"x4\"] + time*drift\n",
        "  else:\n",
        "    x1, x2, x3, x4 = input_dict[\"x1\"], input_dict[\"x2\"], input_dict[\"x3\"], input_dict[\"x4\"]\n",
        "  Xinp = np.expand_dims(np.array([x1, x2, x3, x4]), axis=0)\n",
        "  output = get_snd_outputs(Xinp).squeeze()\n",
        "  f = output.item()\n",
        "  return {\"f\": f}"
      ],
      "metadata": {
        "id": "NfymWPDodmv5"
      },
      "execution_count": 8,
      "outputs": []
    },
    {
      "cell_type": "code",
      "source": [
        "low =  0.0\n",
        "high = 1.0\n",
        "n_init = 128\n",
        "\n",
        "vocs = VOCS(\n",
        "    variables = {\"x1\": [low, high],\n",
        "                \"x2\": [low, high],\n",
        "                \"x3\": [low, high],\n",
        "                \"x4\": [low, high],\n",
        "                 \"x5\": [low, high],\n",
        "                \"x6\": [low, high],\n",
        "                \"x7\": [low, high],\n",
        "                \"x8\": [low, high],\n",
        "                 },\n",
        "    objectives = {\"f\": \"MINIMIZE\"},\n",
        "  )\n",
        "\n",
        "evaluator = Evaluator(function=f)\n",
        "\n",
        "generator = TDUpperConfidenceBoundGenerator(\n",
        "    vocs=vocs,\n",
        "    beta=0.00001,\n",
        "    added_time=0.1,\n",
        "    forgetting_time=50.0, #change this from 100\n",
        ")\n",
        "generator.n_monte_carlo_samples = 128\n",
        "generator.numerical_optimizer.n_restarts = 20\n",
        "generator.max_travel_distances = [4.0] * 8\n",
        "\n",
        "start_time = time.time()\n",
        "X = Xopt(evaluator=evaluator, generator=generator, vocs=vocs)\n",
        "#X.random_evaluate(128)\n",
        "sampler = qmc.LatinHypercube(d=8)\n",
        "xs = sampler.random(n=n_init)\n",
        "xs -= 0.5\n",
        "xs /= 10\n",
        "xs += 0.5\n",
        "\n",
        "init_samples = pd.DataFrame({f'x{i+1}': xs[:,i] for i in range(xs.shape[1])})\n",
        "X.evaluate_data(init_samples)\n",
        "\n",
        "for i in trange(400):\n",
        "  print(f\"Step: {i+1} \\t Time: {time.time() - start_time}\")\n",
        "  X.step()\n",
        "  currentstate = X.generator.data[\"f\"][-1:]\n",
        "  print(f\"Current State: {currentstate}\")\n",
        "  time.sleep(0.1)"
      ],
      "metadata": {
        "colab": {
          "base_uri": "https://localhost:8080/"
        },
        "id": "xLSR8itj_3-i",
        "outputId": "dfaadcfe-c881-49b5-e0a3-e470a1b19fd5"
      },
      "execution_count": 20,
      "outputs": [
        {
          "output_type": "stream",
          "name": "stdout",
          "text": [
            "Shift: 0.0\n",
            "Shift: 0.0\n",
            "Shift: 0.0\n",
            "Shift: 0.0\n",
            "Shift: 0.0\n",
            "Shift: 0.0\n",
            "Shift: 0.0\n",
            "Shift: 0.0\n",
            "Shift: 0.0\n",
            "Shift: 0.0\n",
            "Shift: 0.0\n",
            "Shift: 0.0\n",
            "Shift: 0.0\n",
            "Shift: 0.0\n",
            "Shift: 0.0\n",
            "Shift: 0.0\n",
            "Shift: 0.0\n",
            "Shift: 0.0\n",
            "Shift: 0.0\n",
            "Shift: 0.0\n",
            "Shift: 0.0\n",
            "Shift: 0.0\n",
            "Shift: 0.0\n",
            "Shift: 0.0\n",
            "Shift: 0.0\n",
            "Shift: 0.0\n",
            "Shift: 0.0\n",
            "Shift: 0.0\n",
            "Shift: 0.0\n",
            "Shift: 0.0\n",
            "Shift: 0.0\n",
            "Shift: 0.0\n",
            "Shift: 0.0\n",
            "Shift: 0.0\n",
            "Shift: 0.0\n",
            "Shift: 0.0\n",
            "Shift: 0.0\n",
            "Shift: 0.0\n",
            "Shift: 0.0\n",
            "Shift: 0.0\n",
            "Shift: 0.0\n",
            "Shift: 0.0\n",
            "Shift: 0.0\n",
            "Shift: 0.0\n",
            "Shift: 0.0\n",
            "Shift: 0.0\n",
            "Shift: 0.0\n",
            "Shift: 0.0\n",
            "Shift: 0.0\n",
            "Shift: 0.0\n",
            "Shift: 0.0\n",
            "Shift: 0.0\n",
            "Shift: 0.0\n",
            "Shift: 0.0\n",
            "Shift: 0.0\n",
            "Shift: 0.0\n",
            "Shift: 0.0\n",
            "Shift: 0.0\n",
            "Shift: 0.0\n",
            "Shift: 0.0\n",
            "Shift: 0.0\n",
            "Shift: 0.0\n",
            "Shift: 0.0\n",
            "Shift: 0.0\n",
            "Shift: 0.0\n",
            "Shift: 0.0\n",
            "Shift: 0.0\n",
            "Shift: 0.0\n",
            "Shift: 0.0\n",
            "Shift: 0.0\n",
            "Shift: 0.0\n",
            "Shift: 0.0\n",
            "Shift: 0.0\n",
            "Shift: 0.0\n",
            "Shift: 0.0\n",
            "Shift: 0.0\n",
            "Shift: 0.0\n",
            "Shift: 0.0\n",
            "Shift: 0.0\n",
            "Shift: 0.0\n",
            "Shift: 0.0\n",
            "Shift: 0.0\n",
            "Shift: 0.0\n",
            "Shift: 0.0\n",
            "Shift: 0.0\n",
            "Shift: 0.0\n",
            "Shift: 0.0\n",
            "Shift: 0.0\n",
            "Shift: 0.0\n",
            "Shift: 0.0\n",
            "Shift: 0.0\n",
            "Shift: 0.0\n",
            "Shift: 0.0\n",
            "Shift: 0.0\n",
            "Shift: 0.0\n",
            "Shift: 0.0\n",
            "Shift: 0.0\n",
            "Shift: 0.0\n",
            "Shift: 0.0\n",
            "Shift: 0.0\n",
            "Shift: 0.0\n",
            "Shift: 0.0\n",
            "Shift: 0.0\n",
            "Shift: 0.0\n",
            "Shift: 0.0\n",
            "Shift: 0.0\n",
            "Shift: 0.0\n",
            "Shift: 0.0\n",
            "Shift: 0.0\n",
            "Shift: 0.0\n",
            "Shift: 0.0\n",
            "Shift: 0.0\n",
            "Shift: 0.0\n",
            "Shift: 0.0\n",
            "Shift: 0.0\n",
            "Shift: 0.0\n",
            "Shift: 0.0\n",
            "Shift: 0.0\n",
            "Shift: 0.0\n",
            "Shift: 0.0\n",
            "Shift: 0.0\n",
            "Shift: 0.0\n",
            "Shift: 0.0\n",
            "Shift: 0.0\n",
            "Shift: 0.0\n",
            "Shift: 0.0\n",
            "Shift: 0.0\n",
            "Shift: 0.0\n"
          ]
        },
        {
          "output_type": "stream",
          "name": "stderr",
          "text": [
            "\r  0%|          | 0/400 [00:00<?, ?it/s]"
          ]
        },
        {
          "output_type": "stream",
          "name": "stdout",
          "text": [
            "Step: 1 \t Time: 43.02979516983032\n",
            "Shift: 0.0\n",
            "Current State: 128    0.189346\n",
            "Name: f, dtype: float64\n"
          ]
        },
        {
          "output_type": "stream",
          "name": "stderr",
          "text": [
            "\r  0%|          | 1/400 [00:04<28:25,  4.27s/it]"
          ]
        },
        {
          "output_type": "stream",
          "name": "stdout",
          "text": [
            "Step: 2 \t Time: 47.3056104183197\n",
            "Shift: 0.0\n",
            "Current State: 129    0.103137\n",
            "Name: f, dtype: float64\n"
          ]
        },
        {
          "output_type": "stream",
          "name": "stderr",
          "text": [
            "\r  0%|          | 2/400 [00:09<31:03,  4.68s/it]"
          ]
        },
        {
          "output_type": "stream",
          "name": "stdout",
          "text": [
            "Step: 3 \t Time: 52.27449941635132\n",
            "Shift: 0.0\n",
            "Current State: 130    0.112062\n",
            "Name: f, dtype: float64\n"
          ]
        },
        {
          "output_type": "stream",
          "name": "stderr",
          "text": [
            "\r  1%|          | 3/400 [00:14<32:14,  4.87s/it]"
          ]
        },
        {
          "output_type": "stream",
          "name": "stdout",
          "text": [
            "Step: 4 \t Time: 57.37319755554199\n",
            "Shift: 0.0\n",
            "Current State: 131    0.30951\n",
            "Name: f, dtype: float64\n"
          ]
        },
        {
          "output_type": "stream",
          "name": "stderr",
          "text": [
            "\r  1%|          | 4/400 [00:19<33:45,  5.11s/it]"
          ]
        },
        {
          "output_type": "stream",
          "name": "stdout",
          "text": [
            "Step: 5 \t Time: 62.85637307167053\n",
            "Shift: 0.0\n",
            "Current State: 132    0.163905\n",
            "Name: f, dtype: float64\n"
          ]
        },
        {
          "output_type": "stream",
          "name": "stderr",
          "text": [
            "\r  1%|▏         | 5/400 [00:24<31:54,  4.85s/it]"
          ]
        },
        {
          "output_type": "stream",
          "name": "stdout",
          "text": [
            "Step: 6 \t Time: 67.22929358482361\n",
            "Shift: 0.0\n",
            "Current State: 133    0.079333\n",
            "Name: f, dtype: float64\n"
          ]
        },
        {
          "output_type": "stream",
          "name": "stderr",
          "text": [
            "\r  2%|▏         | 6/400 [00:29<32:11,  4.90s/it]"
          ]
        },
        {
          "output_type": "stream",
          "name": "stdout",
          "text": [
            "Step: 7 \t Time: 72.2384557723999\n",
            "Shift: 0.0\n",
            "Current State: 134    1.31131\n",
            "Name: f, dtype: float64\n"
          ]
        },
        {
          "output_type": "stream",
          "name": "stderr",
          "text": [
            "\r  2%|▏         | 7/400 [00:32<28:07,  4.29s/it]"
          ]
        },
        {
          "output_type": "stream",
          "name": "stdout",
          "text": [
            "Step: 8 \t Time: 75.27964520454407\n",
            "Shift: 0.0\n",
            "Current State: 135    0.306491\n",
            "Name: f, dtype: float64\n"
          ]
        },
        {
          "output_type": "stream",
          "name": "stderr",
          "text": [
            "\r  2%|▏         | 8/400 [00:36<27:00,  4.13s/it]"
          ]
        },
        {
          "output_type": "stream",
          "name": "stdout",
          "text": [
            "Step: 9 \t Time: 79.07309412956238\n",
            "Shift: 0.0\n",
            "Current State: 136    0.187825\n",
            "Name: f, dtype: float64\n"
          ]
        },
        {
          "output_type": "stream",
          "name": "stderr",
          "text": [
            "\r  2%|▏         | 9/400 [00:36<20:15,  3.11s/it]"
          ]
        },
        {
          "output_type": "stream",
          "name": "stdout",
          "text": [
            "Step: 10 \t Time: 79.93041372299194\n",
            "Shift: 0.0\n",
            "Current State: 137    0.110277\n",
            "Name: f, dtype: float64\n"
          ]
        },
        {
          "output_type": "stream",
          "name": "stderr",
          "text": [
            "\r  2%|▎         | 10/400 [00:37<16:05,  2.48s/it]"
          ]
        },
        {
          "output_type": "stream",
          "name": "stdout",
          "text": [
            "Step: 11 \t Time: 80.98389863967896\n",
            "Shift: 0.0\n",
            "Current State: 138    0.628506\n",
            "Name: f, dtype: float64\n"
          ]
        },
        {
          "output_type": "stream",
          "name": "stderr",
          "text": [
            "\r  3%|▎         | 11/400 [00:38<12:54,  1.99s/it]"
          ]
        },
        {
          "output_type": "stream",
          "name": "stdout",
          "text": [
            "Step: 12 \t Time: 81.88151025772095\n",
            "Shift: 0.0\n",
            "Current State: 139    0.655005\n",
            "Name: f, dtype: float64\n"
          ]
        },
        {
          "output_type": "stream",
          "name": "stderr",
          "text": [
            "\r  3%|▎         | 12/400 [00:39<11:11,  1.73s/it]"
          ]
        },
        {
          "output_type": "stream",
          "name": "stdout",
          "text": [
            "Step: 13 \t Time: 83.01418042182922\n",
            "Shift: 0.0\n",
            "Current State: 140    1.308151\n",
            "Name: f, dtype: float64\n"
          ]
        },
        {
          "output_type": "stream",
          "name": "stderr",
          "text": [
            "\r  3%|▎         | 13/400 [00:41<10:39,  1.65s/it]"
          ]
        },
        {
          "output_type": "stream",
          "name": "stdout",
          "text": [
            "Step: 14 \t Time: 84.49246120452881\n",
            "Shift: 0.0\n",
            "Current State: 141    0.417551\n",
            "Name: f, dtype: float64\n"
          ]
        },
        {
          "output_type": "stream",
          "name": "stderr",
          "text": [
            "\r  4%|▎         | 14/400 [00:43<10:34,  1.64s/it]"
          ]
        },
        {
          "output_type": "stream",
          "name": "stdout",
          "text": [
            "Step: 15 \t Time: 86.10999774932861\n",
            "Shift: 0.0\n",
            "Current State: 142    0.416619\n",
            "Name: f, dtype: float64\n"
          ]
        },
        {
          "output_type": "stream",
          "name": "stderr",
          "text": [
            "\r  4%|▍         | 15/400 [00:44<09:15,  1.44s/it]"
          ]
        },
        {
          "output_type": "stream",
          "name": "stdout",
          "text": [
            "Step: 16 \t Time: 87.08383297920227\n",
            "Shift: 0.0\n",
            "Current State: 143    1.8573\n",
            "Name: f, dtype: float64\n"
          ]
        },
        {
          "output_type": "stream",
          "name": "stderr",
          "text": [
            "\r  4%|▍         | 16/400 [00:46<11:17,  1.77s/it]"
          ]
        },
        {
          "output_type": "stream",
          "name": "stdout",
          "text": [
            "Step: 17 \t Time: 89.60156679153442\n",
            "Shift: 0.0\n",
            "Current State: 144    7.979259\n",
            "Name: f, dtype: float64\n"
          ]
        },
        {
          "output_type": "stream",
          "name": "stderr",
          "text": [
            "\r  4%|▍         | 17/400 [00:47<09:16,  1.45s/it]"
          ]
        },
        {
          "output_type": "stream",
          "name": "stdout",
          "text": [
            "Step: 18 \t Time: 90.32854962348938\n",
            "Shift: 0.0\n",
            "Current State: 145    0.500105\n",
            "Name: f, dtype: float64\n"
          ]
        },
        {
          "output_type": "stream",
          "name": "stderr",
          "text": [
            "\r  4%|▍         | 18/400 [00:49<10:40,  1.68s/it]"
          ]
        },
        {
          "output_type": "stream",
          "name": "stdout",
          "text": [
            "Step: 19 \t Time: 92.52641463279724\n",
            "Shift: 0.0\n",
            "Current State: 146    0.399543\n",
            "Name: f, dtype: float64\n"
          ]
        },
        {
          "output_type": "stream",
          "name": "stderr",
          "text": [
            "\r  5%|▍         | 19/400 [00:51<11:43,  1.85s/it]"
          ]
        },
        {
          "output_type": "stream",
          "name": "stdout",
          "text": [
            "Step: 20 \t Time: 94.77110433578491\n",
            "Shift: 0.0\n",
            "Current State: 147    0.880813\n",
            "Name: f, dtype: float64\n"
          ]
        },
        {
          "output_type": "stream",
          "name": "stderr",
          "text": [
            "\r  5%|▌         | 20/400 [00:54<13:51,  2.19s/it]"
          ]
        },
        {
          "output_type": "stream",
          "name": "stdout",
          "text": [
            "Step: 21 \t Time: 97.75284957885742\n",
            "Shift: 0.0\n",
            "Current State: 148    1.106076\n",
            "Name: f, dtype: float64\n"
          ]
        },
        {
          "output_type": "stream",
          "name": "stderr",
          "text": [
            "\r  5%|▌         | 21/400 [00:57<14:46,  2.34s/it]"
          ]
        },
        {
          "output_type": "stream",
          "name": "stdout",
          "text": [
            "Step: 22 \t Time: 100.4423611164093\n",
            "Shift: 0.0\n",
            "Current State: 149    0.613945\n",
            "Name: f, dtype: float64\n"
          ]
        },
        {
          "output_type": "stream",
          "name": "stderr",
          "text": [
            "\r  6%|▌         | 22/400 [00:59<15:02,  2.39s/it]"
          ]
        },
        {
          "output_type": "stream",
          "name": "stdout",
          "text": [
            "Step: 23 \t Time: 102.94640231132507\n",
            "Shift: 0.0\n",
            "Current State: 150    0.386603\n",
            "Name: f, dtype: float64\n"
          ]
        },
        {
          "output_type": "stream",
          "name": "stderr",
          "text": [
            "\r  6%|▌         | 23/400 [01:02<14:31,  2.31s/it]"
          ]
        },
        {
          "output_type": "stream",
          "name": "stdout",
          "text": [
            "Step: 24 \t Time: 105.07855796813965\n",
            "Shift: 0.0\n",
            "Current State: 151    0.234565\n",
            "Name: f, dtype: float64\n"
          ]
        },
        {
          "output_type": "stream",
          "name": "stderr",
          "text": [
            "\r  6%|▌         | 24/400 [01:05<16:15,  2.60s/it]"
          ]
        },
        {
          "output_type": "stream",
          "name": "stdout",
          "text": [
            "Step: 25 \t Time: 108.33719611167908\n",
            "Shift: 0.0\n",
            "Current State: 152    0.385339\n",
            "Name: f, dtype: float64\n"
          ]
        },
        {
          "output_type": "stream",
          "name": "stderr",
          "text": [
            "\r  6%|▋         | 25/400 [01:08<17:24,  2.79s/it]"
          ]
        },
        {
          "output_type": "stream",
          "name": "stdout",
          "text": [
            "Step: 26 \t Time: 111.56764554977417\n",
            "Shift: 0.0\n",
            "Current State: 153    0.360557\n",
            "Name: f, dtype: float64\n"
          ]
        },
        {
          "output_type": "stream",
          "name": "stderr",
          "text": [
            "\r  6%|▋         | 26/400 [01:11<17:04,  2.74s/it]"
          ]
        },
        {
          "output_type": "stream",
          "name": "stdout",
          "text": [
            "Step: 27 \t Time: 114.19353914260864\n",
            "Shift: 0.0\n",
            "Current State: 154    0.205211\n",
            "Name: f, dtype: float64\n"
          ]
        },
        {
          "output_type": "stream",
          "name": "stderr",
          "text": [
            "\r  7%|▋         | 27/400 [01:13<15:30,  2.50s/it]"
          ]
        },
        {
          "output_type": "stream",
          "name": "stdout",
          "text": [
            "Step: 28 \t Time: 116.12466979026794\n",
            "Shift: 0.0\n",
            "Current State: 155    0.169519\n",
            "Name: f, dtype: float64\n"
          ]
        },
        {
          "output_type": "stream",
          "name": "stderr",
          "text": [
            "\r  7%|▋         | 28/400 [01:15<14:55,  2.41s/it]"
          ]
        },
        {
          "output_type": "stream",
          "name": "stdout",
          "text": [
            "Step: 29 \t Time: 118.32945036888123\n",
            "Shift: 0.0\n",
            "Current State: 156    0.281899\n",
            "Name: f, dtype: float64\n"
          ]
        },
        {
          "output_type": "stream",
          "name": "stderr",
          "text": [
            "\r  7%|▋         | 29/400 [01:17<15:01,  2.43s/it]"
          ]
        },
        {
          "output_type": "stream",
          "name": "stdout",
          "text": [
            "Step: 30 \t Time: 120.80512523651123\n",
            "Shift: 0.0\n",
            "Current State: 157    1.362666\n",
            "Name: f, dtype: float64\n"
          ]
        },
        {
          "output_type": "stream",
          "name": "stderr",
          "text": [
            "\r  8%|▊         | 30/400 [01:21<16:30,  2.68s/it]"
          ]
        },
        {
          "output_type": "stream",
          "name": "stdout",
          "text": [
            "Step: 31 \t Time: 124.05662488937378\n",
            "Shift: 0.0\n",
            "Current State: 158    2.653361\n",
            "Name: f, dtype: float64\n"
          ]
        },
        {
          "output_type": "stream",
          "name": "stderr",
          "text": [
            "\r  8%|▊         | 31/400 [01:22<14:44,  2.40s/it]"
          ]
        },
        {
          "output_type": "stream",
          "name": "stdout",
          "text": [
            "Step: 32 \t Time: 125.80531072616577\n",
            "Shift: 0.0\n",
            "Current State: 159    0.612983\n",
            "Name: f, dtype: float64\n"
          ]
        },
        {
          "output_type": "stream",
          "name": "stderr",
          "text": [
            "\r  8%|▊         | 32/400 [01:24<14:11,  2.31s/it]"
          ]
        },
        {
          "output_type": "stream",
          "name": "stdout",
          "text": [
            "Step: 33 \t Time: 127.92191290855408\n",
            "Shift: 0.0\n",
            "Current State: 160    0.525424\n",
            "Name: f, dtype: float64\n"
          ]
        },
        {
          "output_type": "stream",
          "name": "stderr",
          "text": [
            "\r  8%|▊         | 33/400 [01:26<12:53,  2.11s/it]"
          ]
        },
        {
          "output_type": "stream",
          "name": "stdout",
          "text": [
            "Step: 34 \t Time: 129.55365681648254\n",
            "Shift: 0.0\n",
            "Current State: 161    0.452225\n",
            "Name: f, dtype: float64\n"
          ]
        },
        {
          "output_type": "stream",
          "name": "stderr",
          "text": [
            "\r  8%|▊         | 34/400 [01:28<12:24,  2.03s/it]"
          ]
        },
        {
          "output_type": "stream",
          "name": "stdout",
          "text": [
            "Step: 35 \t Time: 131.40913653373718\n",
            "Shift: 0.0\n",
            "Current State: 162    0.881535\n",
            "Name: f, dtype: float64\n"
          ]
        },
        {
          "output_type": "stream",
          "name": "stderr",
          "text": [
            "\r  9%|▉         | 35/400 [01:29<11:16,  1.85s/it]"
          ]
        },
        {
          "output_type": "stream",
          "name": "stdout",
          "text": [
            "Step: 36 \t Time: 132.84857535362244\n",
            "Shift: 0.0\n",
            "Current State: 163    0.881831\n",
            "Name: f, dtype: float64\n"
          ]
        },
        {
          "output_type": "stream",
          "name": "stderr",
          "text": [
            "\r  9%|▉         | 36/400 [01:33<13:49,  2.28s/it]"
          ]
        },
        {
          "output_type": "stream",
          "name": "stdout",
          "text": [
            "Step: 37 \t Time: 136.1179120540619\n",
            "Shift: 0.0\n",
            "Current State: 164    0.473003\n",
            "Name: f, dtype: float64\n"
          ]
        },
        {
          "output_type": "stream",
          "name": "stderr",
          "text": [
            "\r  9%|▉         | 37/400 [01:34<12:28,  2.06s/it]"
          ]
        },
        {
          "output_type": "stream",
          "name": "stdout",
          "text": [
            "Step: 38 \t Time: 137.67360281944275\n",
            "Shift: 0.0\n",
            "Current State: 165    0.977143\n",
            "Name: f, dtype: float64\n"
          ]
        },
        {
          "output_type": "stream",
          "name": "stderr",
          "text": [
            "\r 10%|▉         | 38/400 [01:36<12:08,  2.01s/it]"
          ]
        },
        {
          "output_type": "stream",
          "name": "stdout",
          "text": [
            "Step: 39 \t Time: 139.56681656837463\n",
            "Shift: 0.0\n",
            "Current State: 166    0.487436\n",
            "Name: f, dtype: float64\n"
          ]
        },
        {
          "output_type": "stream",
          "name": "stderr",
          "text": [
            "\r 10%|▉         | 39/400 [01:37<10:44,  1.79s/it]"
          ]
        },
        {
          "output_type": "stream",
          "name": "stdout",
          "text": [
            "Step: 40 \t Time: 140.82729935646057\n",
            "Shift: 0.0\n",
            "Current State: 167    2.650421\n",
            "Name: f, dtype: float64\n"
          ]
        },
        {
          "output_type": "stream",
          "name": "stderr",
          "text": [
            "\r 10%|█         | 40/400 [01:38<08:56,  1.49s/it]"
          ]
        },
        {
          "output_type": "stream",
          "name": "stdout",
          "text": [
            "Step: 41 \t Time: 141.6269781589508\n",
            "Shift: 0.0\n",
            "Current State: 168    14.942955\n",
            "Name: f, dtype: float64\n"
          ]
        },
        {
          "output_type": "stream",
          "name": "stderr",
          "text": [
            "\r 10%|█         | 41/400 [01:39<07:27,  1.25s/it]"
          ]
        },
        {
          "output_type": "stream",
          "name": "stdout",
          "text": [
            "Step: 42 \t Time: 142.30316495895386\n",
            "Shift: 0.0\n",
            "Current State: 169    0.542244\n",
            "Name: f, dtype: float64\n"
          ]
        },
        {
          "output_type": "stream",
          "name": "stderr",
          "text": [
            "\r 10%|█         | 42/400 [01:41<09:46,  1.64s/it]"
          ]
        },
        {
          "output_type": "stream",
          "name": "stdout",
          "text": [
            "Step: 43 \t Time: 144.86049723625183\n",
            "Shift: 0.0\n",
            "Current State: 170    0.634375\n",
            "Name: f, dtype: float64\n"
          ]
        },
        {
          "output_type": "stream",
          "name": "stderr",
          "text": [
            "\r 11%|█         | 43/400 [01:44<12:25,  2.09s/it]"
          ]
        },
        {
          "output_type": "stream",
          "name": "stdout",
          "text": [
            "Step: 44 \t Time: 147.99247694015503\n",
            "Shift: 0.0\n",
            "Current State: 171    0.532767\n",
            "Name: f, dtype: float64\n"
          ]
        },
        {
          "output_type": "stream",
          "name": "stderr",
          "text": [
            "\r 11%|█         | 44/400 [01:46<12:06,  2.04s/it]"
          ]
        },
        {
          "output_type": "stream",
          "name": "stdout",
          "text": [
            "Step: 45 \t Time: 149.9217827320099\n",
            "Shift: 0.0\n",
            "Current State: 172    0.652046\n",
            "Name: f, dtype: float64\n"
          ]
        },
        {
          "output_type": "stream",
          "name": "stderr",
          "text": [
            "\r 11%|█▏        | 45/400 [01:50<14:02,  2.37s/it]"
          ]
        },
        {
          "output_type": "stream",
          "name": "stdout",
          "text": [
            "Step: 46 \t Time: 153.0753152370453\n",
            "Shift: 0.0\n",
            "Current State: 173    0.331096\n",
            "Name: f, dtype: float64\n"
          ]
        },
        {
          "output_type": "stream",
          "name": "stderr",
          "text": [
            "\r 12%|█▏        | 46/400 [01:52<14:03,  2.38s/it]"
          ]
        },
        {
          "output_type": "stream",
          "name": "stdout",
          "text": [
            "Step: 47 \t Time: 155.4775402545929\n",
            "Shift: 0.0\n",
            "Current State: 174    0.396189\n",
            "Name: f, dtype: float64\n"
          ]
        },
        {
          "output_type": "stream",
          "name": "stderr",
          "text": [
            "\r 12%|█▏        | 47/400 [01:54<13:18,  2.26s/it]"
          ]
        },
        {
          "output_type": "stream",
          "name": "stdout",
          "text": [
            "Step: 48 \t Time: 157.45925283432007\n",
            "Shift: 0.0\n",
            "Current State: 175    0.364739\n",
            "Name: f, dtype: float64\n"
          ]
        },
        {
          "output_type": "stream",
          "name": "stderr",
          "text": [
            "\r 12%|█▏        | 48/400 [01:57<14:55,  2.54s/it]"
          ]
        },
        {
          "output_type": "stream",
          "name": "stdout",
          "text": [
            "Step: 49 \t Time: 160.65827250480652\n",
            "Shift: 0.0\n",
            "Current State: 176    0.382668\n",
            "Name: f, dtype: float64\n"
          ]
        },
        {
          "output_type": "stream",
          "name": "stderr",
          "text": [
            "\r 12%|█▏        | 49/400 [01:59<13:47,  2.36s/it]"
          ]
        },
        {
          "output_type": "stream",
          "name": "stdout",
          "text": [
            "Step: 50 \t Time: 162.58512592315674\n",
            "Shift: 0.0\n",
            "Current State: 177    0.363018\n",
            "Name: f, dtype: float64\n"
          ]
        },
        {
          "output_type": "stream",
          "name": "stderr",
          "text": [
            "\r 12%|█▎        | 50/400 [02:01<13:11,  2.26s/it]"
          ]
        },
        {
          "output_type": "stream",
          "name": "stdout",
          "text": [
            "Step: 51 \t Time: 164.61879992485046\n",
            "Shift: 0.0\n",
            "Current State: 178    0.251485\n",
            "Name: f, dtype: float64\n"
          ]
        },
        {
          "output_type": "stream",
          "name": "stderr",
          "text": [
            "\r 13%|█▎        | 51/400 [02:03<13:21,  2.30s/it]"
          ]
        },
        {
          "output_type": "stream",
          "name": "stdout",
          "text": [
            "Step: 52 \t Time: 166.9977467060089\n",
            "Shift: 0.0\n",
            "Current State: 179    0.160678\n",
            "Name: f, dtype: float64\n"
          ]
        },
        {
          "output_type": "stream",
          "name": "stderr",
          "text": [
            "\r 13%|█▎        | 52/400 [02:05<12:39,  2.18s/it]"
          ]
        },
        {
          "output_type": "stream",
          "name": "stdout",
          "text": [
            "Step: 53 \t Time: 168.9121196269989\n",
            "Shift: 0.0\n",
            "Current State: 180    0.096147\n",
            "Name: f, dtype: float64\n"
          ]
        },
        {
          "output_type": "stream",
          "name": "stderr",
          "text": [
            "\r 13%|█▎        | 53/400 [02:09<14:38,  2.53s/it]"
          ]
        },
        {
          "output_type": "stream",
          "name": "stdout",
          "text": [
            "Step: 54 \t Time: 172.26302552223206\n",
            "Shift: 0.0\n",
            "Current State: 181    0.514031\n",
            "Name: f, dtype: float64\n"
          ]
        },
        {
          "output_type": "stream",
          "name": "stderr",
          "text": [
            "\r 14%|█▎        | 54/400 [02:11<14:40,  2.55s/it]"
          ]
        },
        {
          "output_type": "stream",
          "name": "stdout",
          "text": [
            "Step: 55 \t Time: 174.83743524551392\n",
            "Shift: 0.0\n",
            "Current State: 182    0.742329\n",
            "Name: f, dtype: float64\n"
          ]
        },
        {
          "output_type": "stream",
          "name": "stderr",
          "text": [
            "\r 14%|█▍        | 55/400 [02:14<14:14,  2.48s/it]"
          ]
        },
        {
          "output_type": "stream",
          "name": "stdout",
          "text": [
            "Step: 56 \t Time: 177.15018367767334\n",
            "Shift: 0.0\n",
            "Current State: 183    0.536176\n",
            "Name: f, dtype: float64\n"
          ]
        },
        {
          "output_type": "stream",
          "name": "stderr",
          "text": [
            "\r 14%|█▍        | 56/400 [02:16<13:13,  2.31s/it]"
          ]
        },
        {
          "output_type": "stream",
          "name": "stdout",
          "text": [
            "Step: 57 \t Time: 179.0670347213745\n",
            "Shift: 0.0\n",
            "Current State: 184    0.822532\n",
            "Name: f, dtype: float64\n"
          ]
        },
        {
          "output_type": "stream",
          "name": "stderr",
          "text": [
            "\r 14%|█▍        | 57/400 [02:18<13:23,  2.34s/it]"
          ]
        },
        {
          "output_type": "stream",
          "name": "stdout",
          "text": [
            "Step: 58 \t Time: 181.4938142299652\n",
            "Shift: 0.0\n",
            "Current State: 185    0.260994\n",
            "Name: f, dtype: float64\n"
          ]
        },
        {
          "output_type": "stream",
          "name": "stderr",
          "text": [
            "\r 14%|█▍        | 58/400 [02:19<11:02,  1.94s/it]"
          ]
        },
        {
          "output_type": "stream",
          "name": "stdout",
          "text": [
            "Step: 59 \t Time: 182.48407340049744\n",
            "Shift: 0.0\n",
            "Current State: 186    1.154672\n",
            "Name: f, dtype: float64\n"
          ]
        },
        {
          "output_type": "stream",
          "name": "stderr",
          "text": [
            "\r 15%|█▍        | 59/400 [02:20<09:54,  1.74s/it]"
          ]
        },
        {
          "output_type": "stream",
          "name": "stdout",
          "text": [
            "Step: 60 \t Time: 183.77366733551025\n",
            "Shift: 0.0\n",
            "Current State: 187    1.561615\n",
            "Name: f, dtype: float64\n"
          ]
        },
        {
          "output_type": "stream",
          "name": "stderr",
          "text": [
            "\r 15%|█▌        | 60/400 [02:22<09:07,  1.61s/it]"
          ]
        },
        {
          "output_type": "stream",
          "name": "stdout",
          "text": [
            "Step: 61 \t Time: 185.07519364356995\n",
            "Shift: 0.0\n",
            "Current State: 188    3.391526\n",
            "Name: f, dtype: float64\n"
          ]
        },
        {
          "output_type": "stream",
          "name": "stderr",
          "text": [
            "\r 15%|█▌        | 61/400 [02:24<10:45,  1.90s/it]"
          ]
        },
        {
          "output_type": "stream",
          "name": "stdout",
          "text": [
            "Step: 62 \t Time: 187.6628339290619\n",
            "Shift: 0.0\n",
            "Current State: 189    1.808292\n",
            "Name: f, dtype: float64\n"
          ]
        },
        {
          "output_type": "stream",
          "name": "stderr",
          "text": [
            "\r 16%|█▌        | 62/400 [02:25<09:41,  1.72s/it]"
          ]
        },
        {
          "output_type": "stream",
          "name": "stdout",
          "text": [
            "Step: 63 \t Time: 188.9513885974884\n",
            "Shift: 0.0\n",
            "Current State: 190    2.244541\n",
            "Name: f, dtype: float64\n"
          ]
        },
        {
          "output_type": "stream",
          "name": "stderr",
          "text": [
            "\r 16%|█▌        | 63/400 [02:26<08:21,  1.49s/it]"
          ]
        },
        {
          "output_type": "stream",
          "name": "stdout",
          "text": [
            "Step: 64 \t Time: 189.90173602104187\n",
            "Shift: 0.0\n",
            "Current State: 191    1.508465\n",
            "Name: f, dtype: float64\n"
          ]
        },
        {
          "output_type": "stream",
          "name": "stderr",
          "text": [
            "\r 16%|█▌        | 64/400 [02:28<08:04,  1.44s/it]"
          ]
        },
        {
          "output_type": "stream",
          "name": "stdout",
          "text": [
            "Step: 65 \t Time: 191.23204898834229\n",
            "Shift: 0.0\n",
            "Current State: 192    0.756201\n",
            "Name: f, dtype: float64\n"
          ]
        },
        {
          "output_type": "stream",
          "name": "stderr",
          "text": [
            "\r 16%|█▋        | 65/400 [02:30<08:44,  1.57s/it]"
          ]
        },
        {
          "output_type": "stream",
          "name": "stdout",
          "text": [
            "Step: 66 \t Time: 193.0905339717865\n",
            "Shift: 0.0\n",
            "Current State: 193    3.190456\n",
            "Name: f, dtype: float64\n"
          ]
        },
        {
          "output_type": "stream",
          "name": "stderr",
          "text": [
            "\r 16%|█▋        | 66/400 [02:33<12:08,  2.18s/it]"
          ]
        },
        {
          "output_type": "stream",
          "name": "stdout",
          "text": [
            "Step: 67 \t Time: 196.7110776901245\n",
            "Shift: 0.0\n",
            "Current State: 194    4.067173\n",
            "Name: f, dtype: float64\n"
          ]
        },
        {
          "output_type": "stream",
          "name": "stderr",
          "text": [
            "\r 17%|█▋        | 67/400 [02:34<09:57,  1.79s/it]"
          ]
        },
        {
          "output_type": "stream",
          "name": "stdout",
          "text": [
            "Step: 68 \t Time: 197.59767723083496\n",
            "Shift: 0.0\n",
            "Current State: 195    0.871072\n",
            "Name: f, dtype: float64\n"
          ]
        },
        {
          "output_type": "stream",
          "name": "stderr",
          "text": [
            "\r 17%|█▋        | 68/400 [02:35<09:10,  1.66s/it]"
          ]
        },
        {
          "output_type": "stream",
          "name": "stdout",
          "text": [
            "Step: 69 \t Time: 198.9363453388214\n",
            "Shift: 0.0\n",
            "Current State: 196    0.480478\n",
            "Name: f, dtype: float64\n"
          ]
        },
        {
          "output_type": "stream",
          "name": "stderr",
          "text": [
            "\r 17%|█▋        | 69/400 [02:36<07:51,  1.42s/it]"
          ]
        },
        {
          "output_type": "stream",
          "name": "stdout",
          "text": [
            "Step: 70 \t Time: 199.81315755844116\n",
            "Shift: 0.020023556709289552\n",
            "Current State: 197    1.089782\n",
            "Name: f, dtype: float64\n"
          ]
        },
        {
          "output_type": "stream",
          "name": "stderr",
          "text": [
            "\r 18%|█▊        | 70/400 [02:37<06:49,  1.24s/it]"
          ]
        },
        {
          "output_type": "stream",
          "name": "stdout",
          "text": [
            "Step: 71 \t Time: 200.63010120391846\n",
            "Shift: 0.020179365158081056\n",
            "Current State: 198    0.561601\n",
            "Name: f, dtype: float64\n"
          ]
        },
        {
          "output_type": "stream",
          "name": "stderr",
          "text": [
            "\r 18%|█▊        | 71/400 [02:39<07:19,  1.34s/it]"
          ]
        },
        {
          "output_type": "stream",
          "name": "stdout",
          "text": [
            "Step: 72 \t Time: 202.18608927726746\n",
            "Shift: 0.02030582745075226\n",
            "Current State: 199    0.841914\n",
            "Name: f, dtype: float64\n"
          ]
        },
        {
          "output_type": "stream",
          "name": "stderr",
          "text": [
            "\r 18%|█▊        | 72/400 [02:40<07:12,  1.32s/it]"
          ]
        },
        {
          "output_type": "stream",
          "name": "stdout",
          "text": [
            "Step: 73 \t Time: 203.4627242088318\n",
            "Shift: 0.020516183543205262\n",
            "Current State: 200    0.246274\n",
            "Name: f, dtype: float64\n"
          ]
        },
        {
          "output_type": "stream",
          "name": "stderr",
          "text": [
            "\r 18%|█▊        | 73/400 [02:42<08:28,  1.55s/it]"
          ]
        },
        {
          "output_type": "stream",
          "name": "stdout",
          "text": [
            "Step: 74 \t Time: 205.56766200065613\n",
            "Shift: 0.02060291805267334\n",
            "Current State: 201    0.120148\n",
            "Name: f, dtype: float64\n"
          ]
        },
        {
          "output_type": "stream",
          "name": "stderr",
          "text": [
            "\r 18%|█▊        | 74/400 [02:43<07:19,  1.35s/it]"
          ]
        },
        {
          "output_type": "stream",
          "name": "stdout",
          "text": [
            "Step: 75 \t Time: 206.44043803215027\n",
            "Shift: 0.02068812026977539\n",
            "Current State: 202    0.121275\n",
            "Name: f, dtype: float64\n"
          ]
        },
        {
          "output_type": "stream",
          "name": "stderr",
          "text": [
            "\r 19%|█▉        | 75/400 [02:44<06:27,  1.19s/it]"
          ]
        },
        {
          "output_type": "stream",
          "name": "stdout",
          "text": [
            "Step: 76 \t Time: 207.26967358589172\n",
            "Shift: 0.02081495876312256\n",
            "Current State: 203    0.139279\n",
            "Name: f, dtype: float64\n"
          ]
        },
        {
          "output_type": "stream",
          "name": "stderr",
          "text": [
            "\r 19%|█▉        | 76/400 [02:45<06:52,  1.27s/it]"
          ]
        },
        {
          "output_type": "stream",
          "name": "stdout",
          "text": [
            "Step: 77 \t Time: 208.7261619567871\n",
            "Shift: 0.02095131666660309\n",
            "Current State: 204    0.154922\n",
            "Name: f, dtype: float64\n"
          ]
        },
        {
          "output_type": "stream",
          "name": "stderr",
          "text": [
            "\r 19%|█▉        | 77/400 [02:46<06:44,  1.25s/it]"
          ]
        },
        {
          "output_type": "stream",
          "name": "stdout",
          "text": [
            "Step: 78 \t Time: 209.92670488357544\n",
            "Shift: 0.02106183922290802\n",
            "Current State: 205    0.189448\n",
            "Name: f, dtype: float64\n"
          ]
        },
        {
          "output_type": "stream",
          "name": "stderr",
          "text": [
            "\r 20%|█▉        | 78/400 [02:47<06:27,  1.20s/it]"
          ]
        },
        {
          "output_type": "stream",
          "name": "stdout",
          "text": [
            "Step: 79 \t Time: 211.0144021511078\n",
            "Shift: 0.021173908710479736\n",
            "Current State: 206    0.214855\n",
            "Name: f, dtype: float64\n"
          ]
        },
        {
          "output_type": "stream",
          "name": "stderr",
          "text": [
            "\r 20%|█▉        | 79/400 [02:49<06:17,  1.18s/it]"
          ]
        },
        {
          "output_type": "stream",
          "name": "stdout",
          "text": [
            "Step: 80 \t Time: 212.12930369377136\n",
            "Shift: 0.021333297896385193\n",
            "Current State: 207    0.163348\n",
            "Name: f, dtype: float64\n"
          ]
        },
        {
          "output_type": "stream",
          "name": "stderr",
          "text": [
            "\r 20%|██        | 80/400 [02:50<06:57,  1.31s/it]"
          ]
        },
        {
          "output_type": "stream",
          "name": "stdout",
          "text": [
            "Step: 81 \t Time: 213.73862671852112\n",
            "Shift: 0.021412877440452577\n",
            "Current State: 208    0.423846\n",
            "Name: f, dtype: float64\n"
          ]
        },
        {
          "output_type": "stream",
          "name": "stderr",
          "text": [
            "\r 20%|██        | 81/400 [02:51<06:06,  1.15s/it]"
          ]
        },
        {
          "output_type": "stream",
          "name": "stdout",
          "text": [
            "Step: 82 \t Time: 214.5247929096222\n",
            "Shift: 0.02148953814506531\n",
            "Current State: 209    0.34645\n",
            "Name: f, dtype: float64\n"
          ]
        },
        {
          "output_type": "stream",
          "name": "stderr",
          "text": [
            "\r 20%|██        | 82/400 [02:52<05:28,  1.03s/it]"
          ]
        },
        {
          "output_type": "stream",
          "name": "stdout",
          "text": [
            "Step: 83 \t Time: 215.2891731262207\n",
            "Shift: 0.021587146520614626\n",
            "Current State: 210    0.282532\n",
            "Name: f, dtype: float64\n"
          ]
        },
        {
          "output_type": "stream",
          "name": "stderr",
          "text": [
            "\r 21%|██        | 83/400 [02:53<05:22,  1.02s/it]"
          ]
        },
        {
          "output_type": "stream",
          "name": "stdout",
          "text": [
            "Step: 84 \t Time: 216.26979231834412\n",
            "Shift: 0.021673419117927552\n",
            "Current State: 211    0.152148\n",
            "Name: f, dtype: float64\n"
          ]
        },
        {
          "output_type": "stream",
          "name": "stderr",
          "text": [
            "\r 21%|██        | 84/400 [02:54<05:07,  1.03it/s]"
          ]
        },
        {
          "output_type": "stream",
          "name": "stdout",
          "text": [
            "Step: 85 \t Time: 217.137615442276\n",
            "Shift: 0.021754752945899965\n",
            "Current State: 212    0.148843\n",
            "Name: f, dtype: float64\n"
          ]
        },
        {
          "output_type": "stream",
          "name": "stderr",
          "text": [
            "\r 21%|██▏       | 85/400 [02:54<04:51,  1.08it/s]"
          ]
        },
        {
          "output_type": "stream",
          "name": "stdout",
          "text": [
            "Step: 86 \t Time: 217.9489507675171\n",
            "Shift: 0.021844992113113405\n",
            "Current State: 213    0.186897\n",
            "Name: f, dtype: float64\n"
          ]
        },
        {
          "output_type": "stream",
          "name": "stderr",
          "text": [
            "\r 22%|██▏       | 86/400 [02:55<04:48,  1.09it/s]"
          ]
        },
        {
          "output_type": "stream",
          "name": "stdout",
          "text": [
            "Step: 87 \t Time: 218.85095357894897\n",
            "Shift: 0.02192699706554413\n",
            "Current State: 214    0.125185\n",
            "Name: f, dtype: float64\n"
          ]
        },
        {
          "output_type": "stream",
          "name": "stderr",
          "text": [
            "\r 22%|██▏       | 87/400 [02:56<04:37,  1.13it/s]"
          ]
        },
        {
          "output_type": "stream",
          "name": "stdout",
          "text": [
            "Step: 88 \t Time: 219.66760349273682\n",
            "Shift: 0.022097230315208435\n",
            "Current State: 215    0.093437\n",
            "Name: f, dtype: float64\n"
          ]
        },
        {
          "output_type": "stream",
          "name": "stderr",
          "text": [
            "\r 22%|██▏       | 88/400 [02:58<06:06,  1.17s/it]"
          ]
        },
        {
          "output_type": "stream",
          "name": "stdout",
          "text": [
            "Step: 89 \t Time: 221.51205110549927\n",
            "Shift: 0.022226585149765016\n",
            "Current State: 216    0.12128\n",
            "Name: f, dtype: float64\n"
          ]
        },
        {
          "output_type": "stream",
          "name": "stderr",
          "text": [
            "\r 22%|██▏       | 89/400 [02:59<06:03,  1.17s/it]"
          ]
        },
        {
          "output_type": "stream",
          "name": "stdout",
          "text": [
            "Step: 90 \t Time: 222.6728208065033\n",
            "Shift: 0.022321744537353517\n",
            "Current State: 217    0.187497\n",
            "Name: f, dtype: float64\n"
          ]
        },
        {
          "output_type": "stream",
          "name": "stderr",
          "text": [
            "\r 22%|██▎       | 90/400 [03:00<05:41,  1.10s/it]"
          ]
        },
        {
          "output_type": "stream",
          "name": "stdout",
          "text": [
            "Step: 91 \t Time: 223.61134243011475\n",
            "Shift: 0.022405016398429872\n",
            "Current State: 218    0.293228\n",
            "Name: f, dtype: float64\n"
          ]
        },
        {
          "output_type": "stream",
          "name": "stderr",
          "text": [
            "\r 23%|██▎       | 91/400 [03:01<05:15,  1.02s/it]"
          ]
        },
        {
          "output_type": "stream",
          "name": "stdout",
          "text": [
            "Step: 92 \t Time: 224.4439148902893\n",
            "Shift: 0.022497041893005373\n",
            "Current State: 219    0.66168\n",
            "Name: f, dtype: float64\n"
          ]
        },
        {
          "output_type": "stream",
          "name": "stderr",
          "text": [
            "\r 23%|██▎       | 92/400 [03:02<05:05,  1.01it/s]"
          ]
        },
        {
          "output_type": "stream",
          "name": "stdout",
          "text": [
            "Step: 93 \t Time: 225.37327766418457\n",
            "Shift: 0.022679767513275148\n",
            "Current State: 220    2.039188\n",
            "Name: f, dtype: float64\n"
          ]
        },
        {
          "output_type": "stream",
          "name": "stderr",
          "text": [
            "\r 23%|██▎       | 93/400 [03:04<06:23,  1.25s/it]"
          ]
        },
        {
          "output_type": "stream",
          "name": "stdout",
          "text": [
            "Step: 94 \t Time: 227.21987652778625\n",
            "Shift: 0.022881884717941284\n",
            "Current State: 221    0.503334\n",
            "Name: f, dtype: float64\n"
          ]
        },
        {
          "output_type": "stream",
          "name": "stderr",
          "text": [
            "\r 24%|██▎       | 94/400 [03:06<07:30,  1.47s/it]"
          ]
        },
        {
          "output_type": "stream",
          "name": "stdout",
          "text": [
            "Step: 95 \t Time: 229.2180986404419\n",
            "Shift: 0.022987953066825866\n",
            "Current State: 222    0.072646\n",
            "Name: f, dtype: float64\n"
          ]
        },
        {
          "output_type": "stream",
          "name": "stderr",
          "text": [
            "\r 24%|██▍       | 95/400 [03:07<06:51,  1.35s/it]"
          ]
        },
        {
          "output_type": "stream",
          "name": "stdout",
          "text": [
            "Step: 96 \t Time: 230.2786350250244\n",
            "Shift: 0.023058229207992553\n",
            "Current State: 223    9.681314\n",
            "Name: f, dtype: float64\n"
          ]
        },
        {
          "output_type": "stream",
          "name": "stderr",
          "text": [
            "\r 24%|██▍       | 96/400 [03:07<05:50,  1.15s/it]"
          ]
        },
        {
          "output_type": "stream",
          "name": "stdout",
          "text": [
            "Step: 97 \t Time: 230.97455716133118\n",
            "Shift: 0.023167638683319093\n",
            "Current State: 224    0.897686\n",
            "Name: f, dtype: float64\n"
          ]
        },
        {
          "output_type": "stream",
          "name": "stderr",
          "text": [
            "\r 24%|██▍       | 97/400 [03:09<05:44,  1.14s/it]"
          ]
        },
        {
          "output_type": "stream",
          "name": "stdout",
          "text": [
            "Step: 98 \t Time: 232.07096433639526\n",
            "Shift: 0.02329619734287262\n",
            "Current State: 225    0.39605\n",
            "Name: f, dtype: float64\n"
          ]
        },
        {
          "output_type": "stream",
          "name": "stderr",
          "text": [
            "\r 24%|██▍       | 98/400 [03:10<06:12,  1.23s/it]"
          ]
        },
        {
          "output_type": "stream",
          "name": "stdout",
          "text": [
            "Step: 99 \t Time: 233.53525185585022\n",
            "Shift: 0.02358219373226166\n",
            "Current State: 226    0.598202\n",
            "Name: f, dtype: float64\n"
          ]
        },
        {
          "output_type": "stream",
          "name": "stderr",
          "text": [
            "\r 25%|██▍       | 99/400 [03:13<08:22,  1.67s/it]"
          ]
        },
        {
          "output_type": "stream",
          "name": "stdout",
          "text": [
            "Step: 100 \t Time: 236.21752548217773\n",
            "Shift: 0.02368823890686035\n",
            "Current State: 227    0.492323\n",
            "Name: f, dtype: float64\n"
          ]
        },
        {
          "output_type": "stream",
          "name": "stderr",
          "text": [
            "\r 25%|██▌       | 100/400 [03:14<07:26,  1.49s/it]"
          ]
        },
        {
          "output_type": "stream",
          "name": "stdout",
          "text": [
            "Step: 101 \t Time: 237.28619074821472\n",
            "Shift: 0.02399374899864197\n",
            "Current State: 228    1.132687\n",
            "Name: f, dtype: float64\n"
          ]
        },
        {
          "output_type": "stream",
          "name": "stderr",
          "text": [
            "\r 25%|██▌       | 101/400 [03:17<09:45,  1.96s/it]"
          ]
        },
        {
          "output_type": "stream",
          "name": "stdout",
          "text": [
            "Step: 102 \t Time: 240.3380184173584\n",
            "Shift: 0.02410054340362549\n",
            "Current State: 229    0.402205\n",
            "Name: f, dtype: float64\n"
          ]
        },
        {
          "output_type": "stream",
          "name": "stderr",
          "text": [
            "\r 26%|██▌       | 102/400 [03:18<08:23,  1.69s/it]"
          ]
        },
        {
          "output_type": "stream",
          "name": "stdout",
          "text": [
            "Step: 103 \t Time: 241.4052243232727\n",
            "Shift: 0.02419786756038666\n",
            "Current State: 230    0.139785\n",
            "Name: f, dtype: float64\n"
          ]
        },
        {
          "output_type": "stream",
          "name": "stderr",
          "text": [
            "\r 26%|██▌       | 103/400 [03:19<07:17,  1.47s/it]"
          ]
        },
        {
          "output_type": "stream",
          "name": "stdout",
          "text": [
            "Step: 104 \t Time: 242.37188005447388\n",
            "Shift: 0.02432694230079651\n",
            "Current State: 231    0.120837\n",
            "Name: f, dtype: float64\n"
          ]
        },
        {
          "output_type": "stream",
          "name": "stderr",
          "text": [
            "\r 26%|██▌       | 104/400 [03:20<07:00,  1.42s/it]"
          ]
        },
        {
          "output_type": "stream",
          "name": "stdout",
          "text": [
            "Step: 105 \t Time: 243.66471815109253\n",
            "Shift: 0.02443689105510712\n",
            "Current State: 232    0.126754\n",
            "Name: f, dtype: float64\n"
          ]
        },
        {
          "output_type": "stream",
          "name": "stderr",
          "text": [
            "\r 26%|██▋       | 105/400 [03:21<06:40,  1.36s/it]"
          ]
        },
        {
          "output_type": "stream",
          "name": "stdout",
          "text": [
            "Step: 106 \t Time: 244.87857389450073\n",
            "Shift: 0.024644220232963563\n",
            "Current State: 233    0.122059\n",
            "Name: f, dtype: float64\n"
          ]
        },
        {
          "output_type": "stream",
          "name": "stderr",
          "text": [
            "\r 26%|██▋       | 106/400 [03:23<07:46,  1.59s/it]"
          ]
        },
        {
          "output_type": "stream",
          "name": "stdout",
          "text": [
            "Step: 107 \t Time: 246.99605298042297\n",
            "Shift: 0.024750761818885806\n",
            "Current State: 234    1.049393\n",
            "Name: f, dtype: float64\n"
          ]
        },
        {
          "output_type": "stream",
          "name": "stderr",
          "text": [
            "\r 27%|██▋       | 107/400 [03:24<06:45,  1.38s/it]"
          ]
        },
        {
          "output_type": "stream",
          "name": "stdout",
          "text": [
            "Step: 108 \t Time: 247.9092676639557\n",
            "Shift: 0.024900662231445315\n",
            "Current State: 235    0.060137\n",
            "Name: f, dtype: float64\n"
          ]
        },
        {
          "output_type": "stream",
          "name": "stderr",
          "text": [
            "\r 27%|██▋       | 108/400 [03:26<06:54,  1.42s/it]"
          ]
        },
        {
          "output_type": "stream",
          "name": "stdout",
          "text": [
            "Step: 109 \t Time: 249.4162974357605\n",
            "Shift: 0.02503895163536072\n",
            "Current State: 236    0.153408\n",
            "Name: f, dtype: float64\n"
          ]
        },
        {
          "output_type": "stream",
          "name": "stderr",
          "text": [
            "\r 27%|██▋       | 109/400 [03:27<06:49,  1.41s/it]"
          ]
        },
        {
          "output_type": "stream",
          "name": "stdout",
          "text": [
            "Step: 110 \t Time: 250.79166769981384\n",
            "Shift: 0.025198211646080017\n",
            "Current State: 237    0.098804\n",
            "Name: f, dtype: float64\n"
          ]
        },
        {
          "output_type": "stream",
          "name": "stderr",
          "text": [
            "\r 28%|██▊       | 110/400 [03:29<07:04,  1.46s/it]"
          ]
        },
        {
          "output_type": "stream",
          "name": "stdout",
          "text": [
            "Step: 111 \t Time: 252.3819580078125\n",
            "Shift: 0.025290384054183962\n",
            "Current State: 238    1.381455\n",
            "Name: f, dtype: float64\n"
          ]
        },
        {
          "output_type": "stream",
          "name": "stderr",
          "text": [
            "\r 28%|██▊       | 111/400 [03:30<06:16,  1.30s/it]"
          ]
        },
        {
          "output_type": "stream",
          "name": "stdout",
          "text": [
            "Step: 112 \t Time: 253.31552171707153\n",
            "Shift: 0.025402216625213626\n",
            "Current State: 239    0.113566\n",
            "Name: f, dtype: float64\n"
          ]
        },
        {
          "output_type": "stream",
          "name": "stderr",
          "text": [
            "\r 28%|██▊       | 112/400 [03:31<05:59,  1.25s/it]"
          ]
        },
        {
          "output_type": "stream",
          "name": "stdout",
          "text": [
            "Step: 113 \t Time: 254.43164801597595\n",
            "Shift: 0.02582283754348755\n",
            "Current State: 240    0.014278\n",
            "Name: f, dtype: float64\n"
          ]
        },
        {
          "output_type": "stream",
          "name": "stderr",
          "text": [
            "\r 28%|██▊       | 113/400 [03:35<10:23,  2.17s/it]"
          ]
        },
        {
          "output_type": "stream",
          "name": "stdout",
          "text": [
            "Step: 114 \t Time: 258.7612056732178\n",
            "Shift: 0.026309085512161257\n",
            "Current State: 241    0.057872\n",
            "Name: f, dtype: float64\n"
          ]
        },
        {
          "output_type": "stream",
          "name": "stderr",
          "text": [
            "\r 28%|██▊       | 114/400 [03:40<14:01,  2.94s/it]"
          ]
        },
        {
          "output_type": "stream",
          "name": "stdout",
          "text": [
            "Step: 115 \t Time: 263.5069115161896\n",
            "Shift: 0.026480162858963013\n",
            "Current State: 242    0.143353\n",
            "Name: f, dtype: float64\n"
          ]
        },
        {
          "output_type": "stream",
          "name": "stderr",
          "text": [
            "\r 29%|██▉       | 115/400 [03:42<12:12,  2.57s/it]"
          ]
        },
        {
          "output_type": "stream",
          "name": "stdout",
          "text": [
            "Step: 116 \t Time: 265.20522809028625\n",
            "Shift: 0.026794827580451968\n",
            "Current State: 243    0.182604\n",
            "Name: f, dtype: float64\n"
          ]
        },
        {
          "output_type": "stream",
          "name": "stderr",
          "text": [
            "\r 29%|██▉       | 116/400 [03:45<12:59,  2.74s/it]"
          ]
        },
        {
          "output_type": "stream",
          "name": "stdout",
          "text": [
            "Step: 117 \t Time: 268.35602045059204\n",
            "Shift: 0.027217437887191775\n",
            "Current State: 244    0.337549\n",
            "Name: f, dtype: float64\n"
          ]
        },
        {
          "output_type": "stream",
          "name": "stderr",
          "text": [
            "\r 29%|██▉       | 117/400 [03:49<15:02,  3.19s/it]"
          ]
        },
        {
          "output_type": "stream",
          "name": "stdout",
          "text": [
            "Step: 118 \t Time: 272.5763671398163\n",
            "Shift: 0.027529287981987\n",
            "Current State: 245    0.149311\n",
            "Name: f, dtype: float64\n"
          ]
        },
        {
          "output_type": "stream",
          "name": "stderr",
          "text": [
            "\r 30%|██▉       | 118/400 [03:52<14:53,  3.17s/it]"
          ]
        },
        {
          "output_type": "stream",
          "name": "stdout",
          "text": [
            "Step: 119 \t Time: 275.69764018058777\n",
            "Shift: 0.027758781671524048\n",
            "Current State: 246    3.546751\n",
            "Name: f, dtype: float64\n"
          ]
        },
        {
          "output_type": "stream",
          "name": "stderr",
          "text": [
            "\r 30%|██▉       | 119/400 [03:54<13:37,  2.91s/it]"
          ]
        },
        {
          "output_type": "stream",
          "name": "stdout",
          "text": [
            "Step: 120 \t Time: 278.00878953933716\n",
            "Shift: 0.027966517567634585\n",
            "Current State: 247    0.80397\n",
            "Name: f, dtype: float64\n"
          ]
        },
        {
          "output_type": "stream",
          "name": "stderr",
          "text": [
            "\r 30%|███       | 120/400 [03:57<12:24,  2.66s/it]"
          ]
        },
        {
          "output_type": "stream",
          "name": "stdout",
          "text": [
            "Step: 121 \t Time: 280.0808596611023\n",
            "Shift: 0.028245039129257205\n",
            "Current State: 248    0.798868\n",
            "Name: f, dtype: float64\n"
          ]
        },
        {
          "output_type": "stream",
          "name": "stderr",
          "text": [
            "\r 30%|███       | 121/400 [03:59<12:42,  2.73s/it]"
          ]
        },
        {
          "output_type": "stream",
          "name": "stdout",
          "text": [
            "Step: 122 \t Time: 282.9867539405823\n",
            "Shift: 0.028358522605895997\n",
            "Current State: 249    0.842363\n",
            "Name: f, dtype: float64\n"
          ]
        },
        {
          "output_type": "stream",
          "name": "stderr",
          "text": [
            "\r 30%|███       | 122/400 [04:01<10:22,  2.24s/it]"
          ]
        },
        {
          "output_type": "stream",
          "name": "stdout",
          "text": [
            "Step: 123 \t Time: 284.0771110057831\n",
            "Shift: 0.02845088176727295\n",
            "Current State: 250    0.847405\n",
            "Name: f, dtype: float64\n"
          ]
        },
        {
          "output_type": "stream",
          "name": "stderr",
          "text": [
            "\r 31%|███       | 123/400 [04:01<08:23,  1.82s/it]"
          ]
        },
        {
          "output_type": "stream",
          "name": "stdout",
          "text": [
            "Step: 124 \t Time: 284.90916299819946\n",
            "Shift: 0.028533485007286072\n",
            "Current State: 251    0.840722\n",
            "Name: f, dtype: float64\n"
          ]
        },
        {
          "output_type": "stream",
          "name": "stderr",
          "text": [
            "\r 31%|███       | 124/400 [04:02<06:59,  1.52s/it]"
          ]
        },
        {
          "output_type": "stream",
          "name": "stdout",
          "text": [
            "Step: 125 \t Time: 285.7330415248871\n",
            "Shift: 0.028629058146476746\n",
            "Current State: 252    0.830342\n",
            "Name: f, dtype: float64\n"
          ]
        },
        {
          "output_type": "stream",
          "name": "stderr",
          "text": [
            "\r 31%|███▏      | 125/400 [04:03<06:12,  1.35s/it]"
          ]
        },
        {
          "output_type": "stream",
          "name": "stdout",
          "text": [
            "Step: 126 \t Time: 286.6968014240265\n",
            "Shift: 0.028720755314826967\n",
            "Current State: 253    0.129803\n",
            "Name: f, dtype: float64\n"
          ]
        },
        {
          "output_type": "stream",
          "name": "stderr",
          "text": [
            "\r 32%|███▏      | 126/400 [04:04<05:36,  1.23s/it]"
          ]
        },
        {
          "output_type": "stream",
          "name": "stdout",
          "text": [
            "Step: 127 \t Time: 287.62856554985046\n",
            "Shift: 0.028824622011184693\n",
            "Current State: 254    0.113118\n",
            "Name: f, dtype: float64\n"
          ]
        },
        {
          "output_type": "stream",
          "name": "stderr",
          "text": [
            "\r 32%|███▏      | 127/400 [04:05<05:18,  1.17s/it]"
          ]
        },
        {
          "output_type": "stream",
          "name": "stdout",
          "text": [
            "Step: 128 \t Time: 288.6573009490967\n",
            "Shift: 0.02891545879840851\n",
            "Current State: 255    9.146191\n",
            "Name: f, dtype: float64\n"
          ]
        },
        {
          "output_type": "stream",
          "name": "stderr",
          "text": [
            "\r 32%|███▏      | 128/400 [04:06<04:56,  1.09s/it]"
          ]
        },
        {
          "output_type": "stream",
          "name": "stdout",
          "text": [
            "Step: 129 \t Time: 289.57145738601685\n",
            "Shift: 0.029158336210250855\n",
            "Current State: 256    0.236489\n",
            "Name: f, dtype: float64\n"
          ]
        },
        {
          "output_type": "stream",
          "name": "stderr",
          "text": [
            "\r 32%|███▏      | 129/400 [04:08<06:42,  1.49s/it]"
          ]
        },
        {
          "output_type": "stream",
          "name": "stdout",
          "text": [
            "Step: 130 \t Time: 291.9794125556946\n",
            "Shift: 0.02944925973415375\n",
            "Current State: 257    0.240296\n",
            "Name: f, dtype: float64\n"
          ]
        },
        {
          "output_type": "stream",
          "name": "stderr",
          "text": [
            "\r 32%|███▎      | 130/400 [04:11<08:43,  1.94s/it]"
          ]
        },
        {
          "output_type": "stream",
          "name": "stdout",
          "text": [
            "Step: 131 \t Time: 294.977578163147\n",
            "Shift: 0.02980019419193268\n",
            "Current State: 258    0.125978\n",
            "Name: f, dtype: float64\n"
          ]
        },
        {
          "output_type": "stream",
          "name": "stderr",
          "text": [
            "\r 33%|███▎      | 131/400 [04:15<10:41,  2.39s/it]"
          ]
        },
        {
          "output_type": "stream",
          "name": "stdout",
          "text": [
            "Step: 132 \t Time: 298.4009745121002\n",
            "Shift: 0.029979505920410158\n",
            "Current State: 259    0.427822\n",
            "Name: f, dtype: float64\n"
          ]
        },
        {
          "output_type": "stream",
          "name": "stderr",
          "text": [
            "\r 33%|███▎      | 132/400 [04:17<09:51,  2.21s/it]"
          ]
        },
        {
          "output_type": "stream",
          "name": "stdout",
          "text": [
            "Step: 133 \t Time: 300.1913871765137\n",
            "Shift: 0.030187624216079713\n",
            "Current State: 260    0.33452\n",
            "Name: f, dtype: float64\n"
          ]
        },
        {
          "output_type": "stream",
          "name": "stderr",
          "text": [
            "\r 33%|███▎      | 133/400 [04:19<09:38,  2.17s/it]"
          ]
        },
        {
          "output_type": "stream",
          "name": "stdout",
          "text": [
            "Step: 134 \t Time: 302.2699406147003\n",
            "Shift: 0.03046683123111725\n",
            "Current State: 261    0.55169\n",
            "Name: f, dtype: float64\n"
          ]
        },
        {
          "output_type": "stream",
          "name": "stderr",
          "text": [
            "\r 34%|███▎      | 134/400 [04:22<10:27,  2.36s/it]"
          ]
        },
        {
          "output_type": "stream",
          "name": "stdout",
          "text": [
            "Step: 135 \t Time: 305.0742585659027\n",
            "Shift: 0.03078072545528412\n",
            "Current State: 262    0.543912\n",
            "Name: f, dtype: float64\n"
          ]
        },
        {
          "output_type": "stream",
          "name": "stderr",
          "text": [
            "\r 34%|███▍      | 135/400 [04:25<11:37,  2.63s/it]"
          ]
        },
        {
          "output_type": "stream",
          "name": "stdout",
          "text": [
            "Step: 136 \t Time: 308.33818435668945\n",
            "Shift: 0.030900419473648074\n",
            "Current State: 263    0.838171\n",
            "Name: f, dtype: float64\n"
          ]
        },
        {
          "output_type": "stream",
          "name": "stderr",
          "text": [
            "\r 34%|███▍      | 136/400 [04:26<09:30,  2.16s/it]"
          ]
        },
        {
          "output_type": "stream",
          "name": "stdout",
          "text": [
            "Step: 137 \t Time: 309.40783858299255\n",
            "Shift: 0.030991899728775026\n",
            "Current State: 264    0.132861\n",
            "Name: f, dtype: float64\n"
          ]
        },
        {
          "output_type": "stream",
          "name": "stderr",
          "text": [
            "\r 34%|███▍      | 137/400 [04:27<07:50,  1.79s/it]"
          ]
        },
        {
          "output_type": "stream",
          "name": "stdout",
          "text": [
            "Step: 138 \t Time: 310.32883286476135\n",
            "Shift: 0.031164880299568178\n",
            "Current State: 265    0.12213\n",
            "Name: f, dtype: float64\n"
          ]
        },
        {
          "output_type": "stream",
          "name": "stderr",
          "text": [
            "\r 34%|███▍      | 138/400 [04:29<07:45,  1.77s/it]"
          ]
        },
        {
          "output_type": "stream",
          "name": "stdout",
          "text": [
            "Step: 139 \t Time: 312.06827449798584\n",
            "Shift: 0.03138341567516327\n",
            "Current State: 266    0.377011\n",
            "Name: f, dtype: float64\n"
          ]
        },
        {
          "output_type": "stream",
          "name": "stderr",
          "text": [
            "\r 35%|███▍      | 139/400 [04:31<08:14,  1.89s/it]"
          ]
        },
        {
          "output_type": "stream",
          "name": "stdout",
          "text": [
            "Step: 140 \t Time: 314.2437789440155\n",
            "Shift: 0.031593777465820316\n",
            "Current State: 267    0.131482\n",
            "Name: f, dtype: float64\n"
          ]
        },
        {
          "output_type": "stream",
          "name": "stderr",
          "text": [
            "\r 35%|███▌      | 140/400 [04:33<08:28,  1.96s/it]"
          ]
        },
        {
          "output_type": "stream",
          "name": "stdout",
          "text": [
            "Step: 141 \t Time: 316.34434270858765\n",
            "Shift: 0.03168255610466004\n",
            "Current State: 268    0.913103\n",
            "Name: f, dtype: float64\n"
          ]
        },
        {
          "output_type": "stream",
          "name": "stderr",
          "text": [
            "\r 35%|███▌      | 141/400 [04:34<07:03,  1.63s/it]"
          ]
        },
        {
          "output_type": "stream",
          "name": "stdout",
          "text": [
            "Step: 142 \t Time: 317.22713136672974\n",
            "Shift: 0.031769767618179325\n",
            "Current State: 269    0.517567\n",
            "Name: f, dtype: float64\n"
          ]
        },
        {
          "output_type": "stream",
          "name": "stderr",
          "text": [
            "\r 36%|███▌      | 142/400 [04:35<06:01,  1.40s/it]"
          ]
        },
        {
          "output_type": "stream",
          "name": "stdout",
          "text": [
            "Step: 143 \t Time: 318.08965492248535\n",
            "Shift: 0.03187594199180603\n",
            "Current State: 270    0.072172\n",
            "Name: f, dtype: float64\n"
          ]
        },
        {
          "output_type": "stream",
          "name": "stderr",
          "text": [
            "\r 36%|███▌      | 143/400 [04:36<05:36,  1.31s/it]"
          ]
        },
        {
          "output_type": "stream",
          "name": "stdout",
          "text": [
            "Step: 144 \t Time: 319.17649364471436\n",
            "Shift: 0.03212266848087311\n",
            "Current State: 271    0.247876\n",
            "Name: f, dtype: float64\n"
          ]
        },
        {
          "output_type": "stream",
          "name": "stderr",
          "text": [
            "\r 36%|███▌      | 144/400 [04:38<07:05,  1.66s/it]"
          ]
        },
        {
          "output_type": "stream",
          "name": "stdout",
          "text": [
            "Step: 145 \t Time: 321.6664912700653\n",
            "Shift: 0.032274891138076786\n",
            "Current State: 272    0.252086\n",
            "Name: f, dtype: float64\n"
          ]
        },
        {
          "output_type": "stream",
          "name": "stderr",
          "text": [
            "\r 36%|███▋      | 145/400 [04:40<06:49,  1.61s/it]"
          ]
        },
        {
          "output_type": "stream",
          "name": "stdout",
          "text": [
            "Step: 146 \t Time: 323.1441812515259\n",
            "Shift: 0.03241806735992432\n",
            "Current State: 273    0.396272\n",
            "Name: f, dtype: float64\n"
          ]
        },
        {
          "output_type": "stream",
          "name": "stderr",
          "text": [
            "\r 36%|███▋      | 146/400 [04:41<06:35,  1.56s/it]"
          ]
        },
        {
          "output_type": "stream",
          "name": "stdout",
          "text": [
            "Step: 147 \t Time: 324.5785779953003\n",
            "Shift: 0.03260428750514984\n",
            "Current State: 274    0.06755\n",
            "Name: f, dtype: float64\n"
          ]
        },
        {
          "output_type": "stream",
          "name": "stderr",
          "text": [
            "\r 37%|███▋      | 147/400 [04:43<06:56,  1.65s/it]"
          ]
        },
        {
          "output_type": "stream",
          "name": "stdout",
          "text": [
            "Step: 148 \t Time: 326.43703985214233\n",
            "Shift: 0.032699429464340214\n",
            "Current State: 275    0.487026\n",
            "Name: f, dtype: float64\n"
          ]
        },
        {
          "output_type": "stream",
          "name": "stderr",
          "text": [
            "\r 37%|███▋      | 148/400 [04:44<06:02,  1.44s/it]"
          ]
        },
        {
          "output_type": "stream",
          "name": "stdout",
          "text": [
            "Step: 149 \t Time: 327.3874189853668\n",
            "Shift: 0.03279331548213959\n",
            "Current State: 276    0.453602\n",
            "Name: f, dtype: float64\n"
          ]
        },
        {
          "output_type": "stream",
          "name": "stderr",
          "text": [
            "\r 37%|███▋      | 149/400 [04:45<05:23,  1.29s/it]"
          ]
        },
        {
          "output_type": "stream",
          "name": "stdout",
          "text": [
            "Step: 150 \t Time: 328.3254859447479\n",
            "Shift: 0.03296972982883453\n",
            "Current State: 277    1.791405\n",
            "Name: f, dtype: float64\n"
          ]
        },
        {
          "output_type": "stream",
          "name": "stderr",
          "text": [
            "\r 38%|███▊      | 150/400 [04:47<05:57,  1.43s/it]"
          ]
        },
        {
          "output_type": "stream",
          "name": "stdout",
          "text": [
            "Step: 151 \t Time: 330.09153842926025\n",
            "Shift: 0.03304941363334656\n",
            "Current State: 278    0.357615\n",
            "Name: f, dtype: float64\n"
          ]
        },
        {
          "output_type": "stream",
          "name": "stderr",
          "text": [
            "\r 38%|███▊      | 151/400 [04:47<05:11,  1.25s/it]"
          ]
        },
        {
          "output_type": "stream",
          "name": "stdout",
          "text": [
            "Step: 152 \t Time: 330.9162368774414\n",
            "Shift: 0.03318191514015198\n",
            "Current State: 279    0.32213\n",
            "Name: f, dtype: float64\n"
          ]
        },
        {
          "output_type": "stream",
          "name": "stderr",
          "text": [
            "\r 38%|███▊      | 152/400 [04:49<05:23,  1.30s/it]"
          ]
        },
        {
          "output_type": "stream",
          "name": "stdout",
          "text": [
            "Step: 153 \t Time: 332.3477337360382\n",
            "Shift: 0.033339258146286015\n",
            "Current State: 280    0.181707\n",
            "Name: f, dtype: float64\n"
          ]
        },
        {
          "output_type": "stream",
          "name": "stderr",
          "text": [
            "\r 38%|███▊      | 153/400 [04:50<05:45,  1.40s/it]"
          ]
        },
        {
          "output_type": "stream",
          "name": "stdout",
          "text": [
            "Step: 154 \t Time: 333.96319675445557\n",
            "Shift: 0.03344126465320588\n",
            "Current State: 281    0.208251\n",
            "Name: f, dtype: float64\n"
          ]
        },
        {
          "output_type": "stream",
          "name": "stderr",
          "text": [
            "\r 38%|███▊      | 154/400 [04:51<05:04,  1.24s/it]"
          ]
        },
        {
          "output_type": "stream",
          "name": "stdout",
          "text": [
            "Step: 155 \t Time: 334.8272213935852\n",
            "Shift: 0.03364605441093445\n",
            "Current State: 282    0.135382\n",
            "Name: f, dtype: float64\n"
          ]
        },
        {
          "output_type": "stream",
          "name": "stderr",
          "text": [
            "\r 39%|███▉      | 155/400 [04:53<06:03,  1.48s/it]"
          ]
        },
        {
          "output_type": "stream",
          "name": "stdout",
          "text": [
            "Step: 156 \t Time: 336.88608860969543\n",
            "Shift: 0.03380359959602356\n",
            "Current State: 283    0.156913\n",
            "Name: f, dtype: float64\n"
          ]
        },
        {
          "output_type": "stream",
          "name": "stderr",
          "text": [
            "\r 39%|███▉      | 156/400 [04:55<06:09,  1.51s/it]"
          ]
        },
        {
          "output_type": "stream",
          "name": "stdout",
          "text": [
            "Step: 157 \t Time: 338.4693820476532\n",
            "Shift: 0.034063714265823365\n",
            "Current State: 284    0.061333\n",
            "Name: f, dtype: float64\n"
          ]
        },
        {
          "output_type": "stream",
          "name": "stderr",
          "text": [
            "\r 39%|███▉      | 157/400 [04:58<07:26,  1.84s/it]"
          ]
        },
        {
          "output_type": "stream",
          "name": "stdout",
          "text": [
            "Step: 158 \t Time: 341.06281876564026\n",
            "Shift: 0.0341356066942215\n",
            "Current State: 285    2.902391\n",
            "Name: f, dtype: float64\n"
          ]
        },
        {
          "output_type": "stream",
          "name": "stderr",
          "text": [
            "\r 40%|███▉      | 158/400 [04:58<06:03,  1.50s/it]"
          ]
        },
        {
          "output_type": "stream",
          "name": "stdout",
          "text": [
            "Step: 159 \t Time: 341.7837772369385\n",
            "Shift: 0.03422640163898468\n",
            "Current State: 286    0.088027\n",
            "Name: f, dtype: float64\n"
          ]
        },
        {
          "output_type": "stream",
          "name": "stderr",
          "text": [
            "\r 40%|███▉      | 159/400 [04:59<05:19,  1.33s/it]"
          ]
        },
        {
          "output_type": "stream",
          "name": "stdout",
          "text": [
            "Step: 160 \t Time: 342.7008376121521\n",
            "Shift: 0.034308619856834414\n",
            "Current State: 287    15.57439\n",
            "Name: f, dtype: float64\n"
          ]
        },
        {
          "output_type": "stream",
          "name": "stderr",
          "text": [
            "\r 40%|████      | 160/400 [05:00<04:42,  1.18s/it]"
          ]
        },
        {
          "output_type": "stream",
          "name": "stdout",
          "text": [
            "Step: 161 \t Time: 343.5219519138336\n",
            "Shift: 0.03455796937942505\n",
            "Current State: 288    0.137978\n",
            "Name: f, dtype: float64\n"
          ]
        },
        {
          "output_type": "stream",
          "name": "stderr",
          "text": [
            "\r 40%|████      | 161/400 [05:03<06:24,  1.61s/it]"
          ]
        },
        {
          "output_type": "stream",
          "name": "stdout",
          "text": [
            "Step: 162 \t Time: 346.13733744621277\n",
            "Shift: 0.03483671426773072\n",
            "Current State: 289    0.175073\n",
            "Name: f, dtype: float64\n"
          ]
        },
        {
          "output_type": "stream",
          "name": "stderr",
          "text": [
            "\r 40%|████      | 162/400 [05:05<07:37,  1.92s/it]"
          ]
        },
        {
          "output_type": "stream",
          "name": "stdout",
          "text": [
            "Step: 163 \t Time: 348.79754757881165\n",
            "Shift: 0.03512639901638031\n",
            "Current State: 290    0.049053\n",
            "Name: f, dtype: float64\n"
          ]
        },
        {
          "output_type": "stream",
          "name": "stderr",
          "text": [
            "\r 41%|████      | 163/400 [05:08<08:45,  2.22s/it]"
          ]
        },
        {
          "output_type": "stream",
          "name": "stdout",
          "text": [
            "Step: 164 \t Time: 351.70816135406494\n",
            "Shift: 0.03530462522506714\n",
            "Current State: 291    0.314922\n",
            "Name: f, dtype: float64\n"
          ]
        },
        {
          "output_type": "stream",
          "name": "stderr",
          "text": [
            "\r 41%|████      | 164/400 [05:10<08:12,  2.09s/it]"
          ]
        },
        {
          "output_type": "stream",
          "name": "stdout",
          "text": [
            "Step: 165 \t Time: 353.4825122356415\n",
            "Shift: 0.03553760805130005\n",
            "Current State: 292    0.295023\n",
            "Name: f, dtype: float64\n"
          ]
        },
        {
          "output_type": "stream",
          "name": "stderr",
          "text": [
            "\r 41%|████▏     | 165/400 [05:12<08:25,  2.15s/it]"
          ]
        },
        {
          "output_type": "stream",
          "name": "stdout",
          "text": [
            "Step: 166 \t Time: 355.78924536705017\n",
            "Shift: 0.03573892371654511\n",
            "Current State: 293    0.30553\n",
            "Name: f, dtype: float64\n"
          ]
        },
        {
          "output_type": "stream",
          "name": "stderr",
          "text": [
            "\r 42%|████▏     | 166/400 [05:14<08:20,  2.14s/it]"
          ]
        },
        {
          "output_type": "stream",
          "name": "stdout",
          "text": [
            "Step: 167 \t Time: 357.9010000228882\n",
            "Shift: 0.03592845761775971\n",
            "Current State: 294    2.876267\n",
            "Name: f, dtype: float64\n"
          ]
        },
        {
          "output_type": "stream",
          "name": "stderr",
          "text": [
            "\r 42%|████▏     | 167/400 [05:16<07:54,  2.03s/it]"
          ]
        },
        {
          "output_type": "stream",
          "name": "stdout",
          "text": [
            "Step: 168 \t Time: 359.69025206565857\n",
            "Shift: 0.0361937019109726\n",
            "Current State: 295    0.343396\n",
            "Name: f, dtype: float64\n"
          ]
        },
        {
          "output_type": "stream",
          "name": "stderr",
          "text": [
            "\r 42%|████▏     | 168/400 [05:19<08:34,  2.22s/it]"
          ]
        },
        {
          "output_type": "stream",
          "name": "stdout",
          "text": [
            "Step: 169 \t Time: 362.34145498275757\n",
            "Shift: 0.03646490120887756\n",
            "Current State: 296    0.563467\n",
            "Name: f, dtype: float64\n"
          ]
        },
        {
          "output_type": "stream",
          "name": "stderr",
          "text": [
            "\r 42%|████▏     | 169/400 [05:22<09:06,  2.36s/it]"
          ]
        },
        {
          "output_type": "stream",
          "name": "stdout",
          "text": [
            "Step: 170 \t Time: 365.04353976249695\n",
            "Shift: 0.036718931102752685\n",
            "Current State: 297    1.893163\n",
            "Name: f, dtype: float64\n"
          ]
        },
        {
          "output_type": "stream",
          "name": "stderr",
          "text": [
            "\r 42%|████▎     | 170/400 [05:24<09:16,  2.42s/it]"
          ]
        },
        {
          "output_type": "stream",
          "name": "stdout",
          "text": [
            "Step: 171 \t Time: 367.5877959728241\n",
            "Shift: 0.03691521248817444\n",
            "Current State: 298    1.721182\n",
            "Name: f, dtype: float64\n"
          ]
        },
        {
          "output_type": "stream",
          "name": "stderr",
          "text": [
            "\r 43%|████▎     | 171/400 [05:26<08:48,  2.31s/it]"
          ]
        },
        {
          "output_type": "stream",
          "name": "stdout",
          "text": [
            "Step: 172 \t Time: 369.64493346214294\n",
            "Shift: 0.037190956807136535\n",
            "Current State: 299    0.856574\n",
            "Name: f, dtype: float64\n"
          ]
        },
        {
          "output_type": "stream",
          "name": "stderr",
          "text": [
            "\r 43%|████▎     | 172/400 [05:29<09:11,  2.42s/it]"
          ]
        },
        {
          "output_type": "stream",
          "name": "stdout",
          "text": [
            "Step: 173 \t Time: 372.31611466407776\n",
            "Shift: 0.03739096276760102\n",
            "Current State: 300    0.655706\n",
            "Name: f, dtype: float64\n"
          ]
        },
        {
          "output_type": "stream",
          "name": "stderr",
          "text": [
            "\r 43%|████▎     | 173/400 [05:31<08:40,  2.29s/it]"
          ]
        },
        {
          "output_type": "stream",
          "name": "stdout",
          "text": [
            "Step: 174 \t Time: 374.31847190856934\n",
            "Shift: 0.03766646976470948\n",
            "Current State: 301    0.354477\n",
            "Name: f, dtype: float64\n"
          ]
        },
        {
          "output_type": "stream",
          "name": "stderr",
          "text": [
            "\r 44%|████▎     | 174/400 [05:34<09:08,  2.43s/it]"
          ]
        },
        {
          "output_type": "stream",
          "name": "stdout",
          "text": [
            "Step: 175 \t Time: 377.0599935054779\n",
            "Shift: 0.037930821204185484\n",
            "Current State: 302    0.55147\n",
            "Name: f, dtype: float64\n"
          ]
        },
        {
          "output_type": "stream",
          "name": "stderr",
          "text": [
            "\r 44%|████▍     | 175/400 [05:36<09:22,  2.50s/it]"
          ]
        },
        {
          "output_type": "stream",
          "name": "stdout",
          "text": [
            "Step: 176 \t Time: 379.72453355789185\n",
            "Shift: 0.03824166038036347\n",
            "Current State: 303    0.640748\n",
            "Name: f, dtype: float64\n"
          ]
        },
        {
          "output_type": "stream",
          "name": "stderr",
          "text": [
            "\r 44%|████▍     | 176/400 [05:39<10:08,  2.72s/it]"
          ]
        },
        {
          "output_type": "stream",
          "name": "stdout",
          "text": [
            "Step: 177 \t Time: 382.95338678359985\n",
            "Shift: 0.0385087785243988\n",
            "Current State: 304    0.404342\n",
            "Name: f, dtype: float64\n"
          ]
        },
        {
          "output_type": "stream",
          "name": "stderr",
          "text": [
            "\r 44%|████▍     | 177/400 [05:42<09:53,  2.66s/it]"
          ]
        },
        {
          "output_type": "stream",
          "name": "stdout",
          "text": [
            "Step: 178 \t Time: 385.4869349002838\n",
            "Shift: 0.038756149673461915\n",
            "Current State: 305    1.240262\n",
            "Name: f, dtype: float64\n"
          ]
        },
        {
          "output_type": "stream",
          "name": "stderr",
          "text": [
            "\r 44%|████▍     | 178/400 [05:44<09:39,  2.61s/it]"
          ]
        },
        {
          "output_type": "stream",
          "name": "stdout",
          "text": [
            "Step: 179 \t Time: 387.9688444137573\n",
            "Shift: 0.038951227021217345\n",
            "Current State: 306    0.208084\n",
            "Name: f, dtype: float64\n"
          ]
        },
        {
          "output_type": "stream",
          "name": "stderr",
          "text": [
            "\r 45%|████▍     | 179/400 [05:46<08:52,  2.41s/it]"
          ]
        },
        {
          "output_type": "stream",
          "name": "stdout",
          "text": [
            "Step: 180 \t Time: 389.9094076156616\n",
            "Shift: 0.03914541184902191\n",
            "Current State: 307    0.111662\n",
            "Name: f, dtype: float64\n"
          ]
        },
        {
          "output_type": "stream",
          "name": "stderr",
          "text": [
            "\r 45%|████▌     | 180/400 [05:48<08:18,  2.27s/it]"
          ]
        },
        {
          "output_type": "stream",
          "name": "stdout",
          "text": [
            "Step: 181 \t Time: 391.8468933105469\n",
            "Shift: 0.03938661530017853\n",
            "Current State: 308    0.118403\n",
            "Name: f, dtype: float64\n"
          ]
        },
        {
          "output_type": "stream",
          "name": "stderr",
          "text": [
            "\r 45%|████▌     | 181/400 [05:51<08:32,  2.34s/it]"
          ]
        },
        {
          "output_type": "stream",
          "name": "stdout",
          "text": [
            "Step: 182 \t Time: 394.35534286499023\n",
            "Shift: 0.03948956439495087\n",
            "Current State: 309    0.85223\n",
            "Name: f, dtype: float64\n"
          ]
        },
        {
          "output_type": "stream",
          "name": "stderr",
          "text": [
            "\r 46%|████▌     | 182/400 [05:52<07:04,  1.95s/it]"
          ]
        },
        {
          "output_type": "stream",
          "name": "stdout",
          "text": [
            "Step: 183 \t Time: 395.396009683609\n",
            "Shift: 0.039581980776786804\n",
            "Current State: 310    7.740057\n",
            "Name: f, dtype: float64\n"
          ]
        },
        {
          "output_type": "stream",
          "name": "stderr",
          "text": [
            "\r 46%|████▌     | 183/400 [05:53<05:58,  1.65s/it]"
          ]
        },
        {
          "output_type": "stream",
          "name": "stdout",
          "text": [
            "Step: 184 \t Time: 396.3576126098633\n",
            "Shift: 0.03981254966259003\n",
            "Current State: 311    0.253421\n",
            "Name: f, dtype: float64\n"
          ]
        },
        {
          "output_type": "stream",
          "name": "stderr",
          "text": [
            "\r 46%|████▌     | 184/400 [05:55<06:31,  1.81s/it]"
          ]
        },
        {
          "output_type": "stream",
          "name": "stdout",
          "text": [
            "Step: 185 \t Time: 398.53659296035767\n",
            "Shift: 0.040040888452529906\n",
            "Current State: 312    0.325966\n",
            "Name: f, dtype: float64\n"
          ]
        },
        {
          "output_type": "stream",
          "name": "stderr",
          "text": [
            "\r 46%|████▋     | 185/400 [05:57<06:59,  1.95s/it]"
          ]
        },
        {
          "output_type": "stream",
          "name": "stdout",
          "text": [
            "Step: 186 \t Time: 400.8107199668884\n",
            "Shift: 0.04028254802227021\n",
            "Current State: 313    0.397865\n",
            "Name: f, dtype: float64\n"
          ]
        },
        {
          "output_type": "stream",
          "name": "stderr",
          "text": [
            "\r 46%|████▋     | 186/400 [06:00<07:27,  2.09s/it]"
          ]
        },
        {
          "output_type": "stream",
          "name": "stdout",
          "text": [
            "Step: 187 \t Time: 403.23667097091675\n",
            "Shift: 0.040502232623100286\n",
            "Current State: 314    0.707933\n",
            "Name: f, dtype: float64\n"
          ]
        },
        {
          "output_type": "stream",
          "name": "stderr",
          "text": [
            "\r 47%|████▋     | 187/400 [06:02<07:31,  2.12s/it]"
          ]
        },
        {
          "output_type": "stream",
          "name": "stdout",
          "text": [
            "Step: 188 \t Time: 405.4263529777527\n",
            "Shift: 0.04071401834487915\n",
            "Current State: 315    1.346842\n",
            "Name: f, dtype: float64\n"
          ]
        },
        {
          "output_type": "stream",
          "name": "stderr",
          "text": [
            "\r 47%|████▋     | 188/400 [06:04<07:38,  2.16s/it]"
          ]
        },
        {
          "output_type": "stream",
          "name": "stdout",
          "text": [
            "Step: 189 \t Time: 407.6898412704468\n",
            "Shift: 0.041013219881057744\n",
            "Current State: 316    0.772925\n",
            "Name: f, dtype: float64\n"
          ]
        },
        {
          "output_type": "stream",
          "name": "stderr",
          "text": [
            "\r 47%|████▋     | 189/400 [06:07<08:19,  2.37s/it]"
          ]
        },
        {
          "output_type": "stream",
          "name": "stdout",
          "text": [
            "Step: 190 \t Time: 410.5358645915985\n",
            "Shift: 0.04122315905094147\n",
            "Current State: 317    0.711455\n",
            "Name: f, dtype: float64\n"
          ]
        },
        {
          "output_type": "stream",
          "name": "stderr",
          "text": [
            "\r 48%|████▊     | 190/400 [06:09<07:59,  2.28s/it]"
          ]
        },
        {
          "output_type": "stream",
          "name": "stdout",
          "text": [
            "Step: 191 \t Time: 412.62418723106384\n",
            "Shift: 0.041435438203811646\n",
            "Current State: 318    0.454729\n",
            "Name: f, dtype: float64\n"
          ]
        },
        {
          "output_type": "stream",
          "name": "stderr",
          "text": [
            "\r 48%|████▊     | 191/400 [06:11<07:47,  2.24s/it]"
          ]
        },
        {
          "output_type": "stream",
          "name": "stdout",
          "text": [
            "Step: 192 \t Time: 414.75521993637085\n",
            "Shift: 0.04170328862667084\n",
            "Current State: 319    0.343323\n",
            "Name: f, dtype: float64\n"
          ]
        },
        {
          "output_type": "stream",
          "name": "stderr",
          "text": [
            "\r 48%|████▊     | 192/400 [06:14<08:12,  2.37s/it]"
          ]
        },
        {
          "output_type": "stream",
          "name": "stdout",
          "text": [
            "Step: 193 \t Time: 417.43041133880615\n",
            "Shift: 0.0419582070350647\n",
            "Current State: 320    0.993674\n",
            "Name: f, dtype: float64\n"
          ]
        },
        {
          "output_type": "stream",
          "name": "stderr",
          "text": [
            "\r 48%|████▊     | 193/400 [06:17<08:30,  2.47s/it]"
          ]
        },
        {
          "output_type": "stream",
          "name": "stdout",
          "text": [
            "Step: 194 \t Time: 420.1281723976135\n",
            "Shift: 0.04231508836746216\n",
            "Current State: 321    2.515075\n",
            "Name: f, dtype: float64\n"
          ]
        },
        {
          "output_type": "stream",
          "name": "stderr",
          "text": [
            "\r 48%|████▊     | 194/400 [06:20<09:27,  2.75s/it]"
          ]
        },
        {
          "output_type": "stream",
          "name": "stdout",
          "text": [
            "Step: 195 \t Time: 423.5458252429962\n",
            "Shift: 0.04249111042022705\n",
            "Current State: 322    0.959525\n",
            "Name: f, dtype: float64\n"
          ]
        },
        {
          "output_type": "stream",
          "name": "stderr",
          "text": [
            "\r 49%|████▉     | 195/400 [06:22<08:23,  2.46s/it]"
          ]
        },
        {
          "output_type": "stream",
          "name": "stdout",
          "text": [
            "Step: 196 \t Time: 425.3117485046387\n",
            "Shift: 0.04266383774280548\n",
            "Current State: 323    0.430211\n",
            "Name: f, dtype: float64\n"
          ]
        },
        {
          "output_type": "stream",
          "name": "stderr",
          "text": [
            "\r 49%|████▉     | 196/400 [06:24<07:36,  2.24s/it]"
          ]
        },
        {
          "output_type": "stream",
          "name": "stdout",
          "text": [
            "Step: 197 \t Time: 427.03282833099365\n",
            "Shift: 0.04282503752708435\n",
            "Current State: 324    0.573056\n",
            "Name: f, dtype: float64\n"
          ]
        },
        {
          "output_type": "stream",
          "name": "stderr",
          "text": [
            "\r 49%|████▉     | 197/400 [06:25<06:56,  2.05s/it]"
          ]
        },
        {
          "output_type": "stream",
          "name": "stdout",
          "text": [
            "Step: 198 \t Time: 428.6536226272583\n",
            "Shift: 0.042935795044898986\n",
            "Current State: 325    0.505405\n",
            "Name: f, dtype: float64\n"
          ]
        },
        {
          "output_type": "stream",
          "name": "stderr",
          "text": [
            "\r 50%|████▉     | 198/400 [06:26<05:56,  1.77s/it]"
          ]
        },
        {
          "output_type": "stream",
          "name": "stdout",
          "text": [
            "Step: 199 \t Time: 429.75502824783325\n",
            "Shift: 0.043117982935905456\n",
            "Current State: 326    0.724292\n",
            "Name: f, dtype: float64\n"
          ]
        },
        {
          "output_type": "stream",
          "name": "stderr",
          "text": [
            "\r 50%|████▉     | 199/400 [06:28<06:05,  1.82s/it]"
          ]
        },
        {
          "output_type": "stream",
          "name": "stdout",
          "text": [
            "Step: 200 \t Time: 431.7029621601105\n",
            "Shift: 0.043390916085243224\n",
            "Current State: 327    0.122522\n",
            "Name: f, dtype: float64\n"
          ]
        },
        {
          "output_type": "stream",
          "name": "stderr",
          "text": [
            "\r 50%|█████     | 200/400 [06:31<06:51,  2.06s/it]"
          ]
        },
        {
          "output_type": "stream",
          "name": "stdout",
          "text": [
            "Step: 201 \t Time: 434.3109540939331\n",
            "Shift: 0.043557000994682314\n",
            "Current State: 328    0.491396\n",
            "Name: f, dtype: float64\n"
          ]
        },
        {
          "output_type": "stream",
          "name": "stderr",
          "text": [
            "\r 50%|█████     | 201/400 [06:32<06:25,  1.94s/it]"
          ]
        },
        {
          "output_type": "stream",
          "name": "stdout",
          "text": [
            "Step: 202 \t Time: 435.96591544151306\n",
            "Shift: 0.04363992848396302\n",
            "Current State: 329    0.618886\n",
            "Name: f, dtype: float64\n"
          ]
        },
        {
          "output_type": "stream",
          "name": "stderr",
          "text": [
            "\r 50%|█████     | 202/400 [06:33<05:18,  1.61s/it]"
          ]
        },
        {
          "output_type": "stream",
          "name": "stdout",
          "text": [
            "Step: 203 \t Time: 436.80469131469727\n",
            "Shift: 0.043786253690719604\n",
            "Current State: 330    0.30462\n",
            "Name: f, dtype: float64\n"
          ]
        },
        {
          "output_type": "stream",
          "name": "stderr",
          "text": [
            "\r 51%|█████     | 203/400 [06:35<05:07,  1.56s/it]"
          ]
        },
        {
          "output_type": "stream",
          "name": "stdout",
          "text": [
            "Step: 204 \t Time: 438.2572731971741\n",
            "Shift: 0.04388466355800629\n",
            "Current State: 331    0.233294\n",
            "Name: f, dtype: float64\n"
          ]
        },
        {
          "output_type": "stream",
          "name": "stderr",
          "text": [
            "\r 51%|█████     | 204/400 [06:36<04:32,  1.39s/it]"
          ]
        },
        {
          "output_type": "stream",
          "name": "stdout",
          "text": [
            "Step: 205 \t Time: 439.24616503715515\n",
            "Shift: 0.04409821126461029\n",
            "Current State: 332    0.142828\n",
            "Name: f, dtype: float64\n"
          ]
        },
        {
          "output_type": "stream",
          "name": "stderr",
          "text": [
            "\r 51%|█████▏    | 205/400 [06:38<05:14,  1.61s/it]"
          ]
        },
        {
          "output_type": "stream",
          "name": "stdout",
          "text": [
            "Step: 206 \t Time: 441.3757436275482\n",
            "Shift: 0.0442552237033844\n",
            "Current State: 333    0.141898\n",
            "Name: f, dtype: float64\n"
          ]
        },
        {
          "output_type": "stream",
          "name": "stderr",
          "text": [
            "\r 52%|█████▏    | 206/400 [06:39<05:10,  1.60s/it]"
          ]
        },
        {
          "output_type": "stream",
          "name": "stdout",
          "text": [
            "Step: 207 \t Time: 442.9584140777588\n",
            "Shift: 0.04434132406711579\n",
            "Current State: 334    0.197334\n",
            "Name: f, dtype: float64\n"
          ]
        },
        {
          "output_type": "stream",
          "name": "stderr",
          "text": [
            "\r 52%|█████▏    | 207/400 [06:40<04:26,  1.38s/it]"
          ]
        },
        {
          "output_type": "stream",
          "name": "stdout",
          "text": [
            "Step: 208 \t Time: 443.8143792152405\n",
            "Shift: 0.04453163676261902\n",
            "Current State: 335    0.176659\n",
            "Name: f, dtype: float64\n"
          ]
        },
        {
          "output_type": "stream",
          "name": "stderr",
          "text": [
            "\r 52%|█████▏    | 208/400 [06:42<05:05,  1.59s/it]"
          ]
        },
        {
          "output_type": "stream",
          "name": "stdout",
          "text": [
            "Step: 209 \t Time: 445.9061963558197\n",
            "Shift: 0.04462725911140442\n",
            "Current State: 336    6.41404\n",
            "Name: f, dtype: float64\n"
          ]
        },
        {
          "output_type": "stream",
          "name": "stderr",
          "text": [
            "\r 52%|█████▏    | 209/400 [06:43<04:17,  1.35s/it]"
          ]
        },
        {
          "output_type": "stream",
          "name": "stdout",
          "text": [
            "Step: 210 \t Time: 446.67802000045776\n",
            "Shift: 0.04471935925483704\n",
            "Current State: 337    0.149372\n",
            "Name: f, dtype: float64\n"
          ]
        },
        {
          "output_type": "stream",
          "name": "stderr",
          "text": [
            "\r 52%|█████▎    | 210/400 [06:44<03:51,  1.22s/it]"
          ]
        },
        {
          "output_type": "stream",
          "name": "stdout",
          "text": [
            "Step: 211 \t Time: 447.5936391353607\n",
            "Shift: 0.04490813577175141\n",
            "Current State: 338    0.148992\n",
            "Name: f, dtype: float64\n"
          ]
        },
        {
          "output_type": "stream",
          "name": "stderr",
          "text": [
            "\r 53%|█████▎    | 211/400 [06:46<04:28,  1.42s/it]"
          ]
        },
        {
          "output_type": "stream",
          "name": "stdout",
          "text": [
            "Step: 212 \t Time: 449.4857347011566\n",
            "Shift: 0.04502761178016663\n",
            "Current State: 339    0.111007\n",
            "Name: f, dtype: float64\n"
          ]
        },
        {
          "output_type": "stream",
          "name": "stderr",
          "text": [
            "\r 53%|█████▎    | 212/400 [06:47<04:14,  1.35s/it]"
          ]
        },
        {
          "output_type": "stream",
          "name": "stdout",
          "text": [
            "Step: 213 \t Time: 450.68943786621094\n",
            "Shift: 0.045159513902664185\n",
            "Current State: 340    0.080594\n",
            "Name: f, dtype: float64\n"
          ]
        },
        {
          "output_type": "stream",
          "name": "stderr",
          "text": [
            "\r 53%|█████▎    | 213/400 [06:48<04:10,  1.34s/it]"
          ]
        },
        {
          "output_type": "stream",
          "name": "stdout",
          "text": [
            "Step: 214 \t Time: 451.99550437927246\n",
            "Shift: 0.04526633553504944\n",
            "Current State: 341    0.056975\n",
            "Name: f, dtype: float64\n"
          ]
        },
        {
          "output_type": "stream",
          "name": "stderr",
          "text": [
            "\r 54%|█████▎    | 214/400 [06:50<03:55,  1.26s/it]"
          ]
        },
        {
          "output_type": "stream",
          "name": "stdout",
          "text": [
            "Step: 215 \t Time: 453.08112812042236\n",
            "Shift: 0.04536191458702088\n",
            "Current State: 342    0.122014\n",
            "Name: f, dtype: float64\n"
          ]
        },
        {
          "output_type": "stream",
          "name": "stderr",
          "text": [
            "\r 54%|█████▍    | 215/400 [06:50<03:35,  1.16s/it]"
          ]
        },
        {
          "output_type": "stream",
          "name": "stdout",
          "text": [
            "Step: 216 \t Time: 454.0143632888794\n",
            "Shift: 0.04552154493331909\n",
            "Current State: 343    0.305995\n",
            "Name: f, dtype: float64\n"
          ]
        },
        {
          "output_type": "stream",
          "name": "stderr",
          "text": [
            "\r 54%|█████▍    | 216/400 [06:52<03:58,  1.29s/it]"
          ]
        },
        {
          "output_type": "stream",
          "name": "stdout",
          "text": [
            "Step: 217 \t Time: 455.612820148468\n",
            "Shift: 0.045609419584274294\n",
            "Current State: 344    0.63745\n",
            "Name: f, dtype: float64\n"
          ]
        },
        {
          "output_type": "stream",
          "name": "stderr",
          "text": [
            "\r 54%|█████▍    | 217/400 [06:53<03:45,  1.23s/it]"
          ]
        },
        {
          "output_type": "stream",
          "name": "stdout",
          "text": [
            "Step: 218 \t Time: 456.6959614753723\n",
            "Shift: 0.045751508188247685\n",
            "Current State: 345    0.20784\n",
            "Name: f, dtype: float64\n"
          ]
        },
        {
          "output_type": "stream",
          "name": "stderr",
          "text": [
            "\r 55%|█████▍    | 218/400 [06:55<03:54,  1.29s/it]"
          ]
        },
        {
          "output_type": "stream",
          "name": "stdout",
          "text": [
            "Step: 219 \t Time: 458.12086248397827\n",
            "Shift: 0.04588651826381684\n",
            "Current State: 346    0.226472\n",
            "Name: f, dtype: float64\n"
          ]
        },
        {
          "output_type": "stream",
          "name": "stderr",
          "text": [
            "\r 55%|█████▍    | 219/400 [06:56<03:45,  1.24s/it]"
          ]
        },
        {
          "output_type": "stream",
          "name": "stdout",
          "text": [
            "Step: 220 \t Time: 459.2597951889038\n",
            "Shift: 0.04599595935344696\n",
            "Current State: 347    0.3336\n",
            "Name: f, dtype: float64\n"
          ]
        },
        {
          "output_type": "stream",
          "name": "stderr",
          "text": [
            "\r 55%|█████▌    | 220/400 [06:57<03:36,  1.20s/it]"
          ]
        },
        {
          "output_type": "stream",
          "name": "stdout",
          "text": [
            "Step: 221 \t Time: 460.371710062027\n",
            "Shift: 0.04609934861660004\n",
            "Current State: 348    0.23343\n",
            "Name: f, dtype: float64\n"
          ]
        },
        {
          "output_type": "stream",
          "name": "stderr",
          "text": [
            "\r 55%|█████▌    | 221/400 [06:58<03:26,  1.15s/it]"
          ]
        },
        {
          "output_type": "stream",
          "name": "stdout",
          "text": [
            "Step: 222 \t Time: 461.4042844772339\n",
            "Shift: 0.04619018740653992\n",
            "Current State: 349    0.288696\n",
            "Name: f, dtype: float64\n"
          ]
        },
        {
          "output_type": "stream",
          "name": "stderr",
          "text": [
            "\r 56%|█████▌    | 222/400 [06:59<03:12,  1.08s/it]"
          ]
        },
        {
          "output_type": "stream",
          "name": "stdout",
          "text": [
            "Step: 223 \t Time: 462.32216238975525\n",
            "Shift: 0.04627999448776245\n",
            "Current State: 350    0.184783\n",
            "Name: f, dtype: float64\n"
          ]
        },
        {
          "output_type": "stream",
          "name": "stderr",
          "text": [
            "\r 56%|█████▌    | 223/400 [07:00<03:00,  1.02s/it]"
          ]
        },
        {
          "output_type": "stream",
          "name": "stdout",
          "text": [
            "Step: 224 \t Time: 463.1960771083832\n",
            "Shift: 0.046406358766555786\n",
            "Current State: 351    0.214651\n",
            "Name: f, dtype: float64\n"
          ]
        },
        {
          "output_type": "stream",
          "name": "stderr",
          "text": [
            "\r 56%|█████▌    | 224/400 [07:01<03:12,  1.09s/it]"
          ]
        },
        {
          "output_type": "stream",
          "name": "stdout",
          "text": [
            "Step: 225 \t Time: 464.46039938926697\n",
            "Shift: 0.04651779308319092\n",
            "Current State: 352    0.172323\n",
            "Name: f, dtype: float64\n"
          ]
        },
        {
          "output_type": "stream",
          "name": "stderr",
          "text": [
            "\r 56%|█████▋    | 225/400 [07:02<03:13,  1.11s/it]"
          ]
        },
        {
          "output_type": "stream",
          "name": "stdout",
          "text": [
            "Step: 226 \t Time: 465.60122776031494\n",
            "Shift: 0.046601964616775515\n",
            "Current State: 353    7.662078\n",
            "Name: f, dtype: float64\n"
          ]
        },
        {
          "output_type": "stream",
          "name": "stderr",
          "text": [
            "\r 56%|█████▋    | 226/400 [07:03<02:57,  1.02s/it]"
          ]
        },
        {
          "output_type": "stream",
          "name": "stdout",
          "text": [
            "Step: 227 \t Time: 466.42384910583496\n",
            "Shift: 0.0466978128194809\n",
            "Current State: 354    0.218355\n",
            "Name: f, dtype: float64\n"
          ]
        },
        {
          "output_type": "stream",
          "name": "stderr",
          "text": [
            "\r 57%|█████▋    | 227/400 [07:04<02:53,  1.00s/it]"
          ]
        },
        {
          "output_type": "stream",
          "name": "stdout",
          "text": [
            "Step: 228 \t Time: 467.3764171600342\n",
            "Shift: 0.04681396436691285\n",
            "Current State: 355    0.383555\n",
            "Name: f, dtype: float64\n"
          ]
        },
        {
          "output_type": "stream",
          "name": "stderr",
          "text": [
            "\r 57%|█████▋    | 228/400 [07:05<03:00,  1.05s/it]"
          ]
        },
        {
          "output_type": "stream",
          "name": "stdout",
          "text": [
            "Step: 229 \t Time: 468.54273223876953\n",
            "Shift: 0.04693640127182007\n",
            "Current State: 356    0.216537\n",
            "Name: f, dtype: float64\n"
          ]
        },
        {
          "output_type": "stream",
          "name": "stderr",
          "text": [
            "\r 57%|█████▋    | 229/400 [07:06<03:17,  1.15s/it]"
          ]
        },
        {
          "output_type": "stream",
          "name": "stdout",
          "text": [
            "Step: 230 \t Time: 469.93568754196167\n",
            "Shift: 0.04709641964435578\n",
            "Current State: 357    0.19118\n",
            "Name: f, dtype: float64\n"
          ]
        },
        {
          "output_type": "stream",
          "name": "stderr",
          "text": [
            "\r 57%|█████▊    | 230/400 [07:08<03:29,  1.23s/it]"
          ]
        },
        {
          "output_type": "stream",
          "name": "stdout",
          "text": [
            "Step: 231 \t Time: 471.3584666252136\n",
            "Shift: 0.04725421335697174\n",
            "Current State: 358    0.144844\n",
            "Name: f, dtype: float64\n"
          ]
        },
        {
          "output_type": "stream",
          "name": "stderr",
          "text": [
            "\r 58%|█████▊    | 231/400 [07:09<03:46,  1.34s/it]"
          ]
        },
        {
          "output_type": "stream",
          "name": "stdout",
          "text": [
            "Step: 232 \t Time: 472.94919514656067\n",
            "Shift: 0.04741507060527802\n",
            "Current State: 359    0.164164\n",
            "Name: f, dtype: float64\n"
          ]
        },
        {
          "output_type": "stream",
          "name": "stderr",
          "text": [
            "\r 58%|█████▊    | 232/400 [07:11<03:59,  1.42s/it]"
          ]
        },
        {
          "output_type": "stream",
          "name": "stdout",
          "text": [
            "Step: 233 \t Time: 474.5639691352844\n",
            "Shift: 0.04751979293823243\n",
            "Current State: 360    0.162274\n",
            "Name: f, dtype: float64\n"
          ]
        },
        {
          "output_type": "stream",
          "name": "stderr",
          "text": [
            "\r 58%|█████▊    | 233/400 [07:12<03:38,  1.31s/it]"
          ]
        },
        {
          "output_type": "stream",
          "name": "stdout",
          "text": [
            "Step: 234 \t Time: 475.6054222583771\n",
            "Shift: 0.047724907684326176\n",
            "Current State: 361    0.164086\n",
            "Name: f, dtype: float64\n"
          ]
        },
        {
          "output_type": "stream",
          "name": "stderr",
          "text": [
            "\r 58%|█████▊    | 234/400 [07:14<04:13,  1.53s/it]"
          ]
        },
        {
          "output_type": "stream",
          "name": "stdout",
          "text": [
            "Step: 235 \t Time: 477.64373660087585\n",
            "Shift: 0.047873355698585515\n",
            "Current State: 362    0.188234\n",
            "Name: f, dtype: float64\n"
          ]
        },
        {
          "output_type": "stream",
          "name": "stderr",
          "text": [
            "\r 59%|█████▉    | 235/400 [07:16<04:10,  1.52s/it]"
          ]
        },
        {
          "output_type": "stream",
          "name": "stdout",
          "text": [
            "Step: 236 \t Time: 479.1409595012665\n",
            "Shift: 0.04796312425136567\n",
            "Current State: 363    0.184521\n",
            "Name: f, dtype: float64\n"
          ]
        },
        {
          "output_type": "stream",
          "name": "stderr",
          "text": [
            "\r 59%|█████▉    | 236/400 [07:17<03:38,  1.33s/it]"
          ]
        },
        {
          "output_type": "stream",
          "name": "stdout",
          "text": [
            "Step: 237 \t Time: 480.0367388725281\n",
            "Shift: 0.048049740076065064\n",
            "Current State: 364    1.282656\n",
            "Name: f, dtype: float64\n"
          ]
        },
        {
          "output_type": "stream",
          "name": "stderr",
          "text": [
            "\r 59%|█████▉    | 237/400 [07:17<03:14,  1.19s/it]"
          ]
        },
        {
          "output_type": "stream",
          "name": "stdout",
          "text": [
            "Step: 238 \t Time: 480.89947485923767\n",
            "Shift: 0.04819041225910187\n",
            "Current State: 365    0.259834\n",
            "Name: f, dtype: float64\n"
          ]
        },
        {
          "output_type": "stream",
          "name": "stderr",
          "text": [
            "\r 60%|█████▉    | 238/400 [07:19<03:31,  1.31s/it]"
          ]
        },
        {
          "output_type": "stream",
          "name": "stdout",
          "text": [
            "Step: 239 \t Time: 482.47088623046875\n",
            "Shift: 0.048346450209617614\n",
            "Current State: 366    0.235676\n",
            "Name: f, dtype: float64\n"
          ]
        },
        {
          "output_type": "stream",
          "name": "stderr",
          "text": [
            "\r 60%|█████▉    | 239/400 [07:20<03:34,  1.33s/it]"
          ]
        },
        {
          "output_type": "stream",
          "name": "stdout",
          "text": [
            "Step: 240 \t Time: 483.8600573539734\n",
            "Shift: 0.048435008573532105\n",
            "Current State: 367    0.221584\n",
            "Name: f, dtype: float64\n"
          ]
        },
        {
          "output_type": "stream",
          "name": "stderr",
          "text": [
            "\r 60%|██████    | 240/400 [07:21<03:11,  1.20s/it]"
          ]
        },
        {
          "output_type": "stream",
          "name": "stdout",
          "text": [
            "Step: 241 \t Time: 484.74857449531555\n",
            "Shift: 0.04851386721134186\n",
            "Current State: 368    1.130373\n",
            "Name: f, dtype: float64\n"
          ]
        },
        {
          "output_type": "stream",
          "name": "stderr",
          "text": [
            "\r 60%|██████    | 241/400 [07:22<02:51,  1.08s/it]"
          ]
        },
        {
          "output_type": "stream",
          "name": "stdout",
          "text": [
            "Step: 242 \t Time: 485.54886984825134\n",
            "Shift: 0.04861184568405152\n",
            "Current State: 369    0.162547\n",
            "Name: f, dtype: float64\n"
          ]
        },
        {
          "output_type": "stream",
          "name": "stderr",
          "text": [
            "\r 60%|██████    | 242/400 [07:23<02:46,  1.05s/it]"
          ]
        },
        {
          "output_type": "stream",
          "name": "stdout",
          "text": [
            "Step: 243 \t Time: 486.5392792224884\n",
            "Shift: 0.048713942480087286\n",
            "Current State: 370    0.155985\n",
            "Name: f, dtype: float64\n"
          ]
        },
        {
          "output_type": "stream",
          "name": "stderr",
          "text": [
            "\r 61%|██████    | 243/400 [07:24<02:42,  1.04s/it]"
          ]
        },
        {
          "output_type": "stream",
          "name": "stdout",
          "text": [
            "Step: 244 \t Time: 487.54388904571533\n",
            "Shift: 0.04880784983634949\n",
            "Current State: 371    0.141536\n",
            "Name: f, dtype: float64\n"
          ]
        },
        {
          "output_type": "stream",
          "name": "stderr",
          "text": [
            "\r 61%|██████    | 244/400 [07:25<02:37,  1.01s/it]"
          ]
        },
        {
          "output_type": "stream",
          "name": "stdout",
          "text": [
            "Step: 245 \t Time: 488.4857532978058\n",
            "Shift: 0.048899401807785035\n",
            "Current State: 372    0.143126\n",
            "Name: f, dtype: float64\n"
          ]
        },
        {
          "output_type": "stream",
          "name": "stderr",
          "text": [
            "\r 61%|██████▏   | 245/400 [07:26<02:32,  1.02it/s]"
          ]
        },
        {
          "output_type": "stream",
          "name": "stdout",
          "text": [
            "Step: 246 \t Time: 489.4079611301422\n",
            "Shift: 0.049032009840011596\n",
            "Current State: 373    0.155674\n",
            "Name: f, dtype: float64\n"
          ]
        },
        {
          "output_type": "stream",
          "name": "stderr",
          "text": [
            "\r 62%|██████▏   | 246/400 [07:27<02:46,  1.08s/it]"
          ]
        },
        {
          "output_type": "stream",
          "name": "stdout",
          "text": [
            "Step: 247 \t Time: 490.71815848350525\n",
            "Shift: 0.049133710408210754\n",
            "Current State: 374    0.159372\n",
            "Name: f, dtype: float64\n"
          ]
        },
        {
          "output_type": "stream",
          "name": "stderr",
          "text": [
            "\r 62%|██████▏   | 247/400 [07:28<02:42,  1.06s/it]"
          ]
        },
        {
          "output_type": "stream",
          "name": "stdout",
          "text": [
            "Step: 248 \t Time: 491.7322611808777\n",
            "Shift: 0.0492304226398468\n",
            "Current State: 375    0.162163\n",
            "Name: f, dtype: float64\n"
          ]
        },
        {
          "output_type": "stream",
          "name": "stderr",
          "text": [
            "\r 62%|██████▏   | 248/400 [07:29<02:37,  1.04s/it]"
          ]
        },
        {
          "output_type": "stream",
          "name": "stdout",
          "text": [
            "Step: 249 \t Time: 492.7137522697449\n",
            "Shift: 0.04930236184597016\n",
            "Current State: 376    6.478223\n",
            "Name: f, dtype: float64\n"
          ]
        },
        {
          "output_type": "stream",
          "name": "stderr",
          "text": [
            "\r 62%|██████▏   | 249/400 [07:30<02:24,  1.04it/s]"
          ]
        },
        {
          "output_type": "stream",
          "name": "stdout",
          "text": [
            "Step: 250 \t Time: 493.4900577068329\n",
            "Shift: 0.049421728038787846\n",
            "Current State: 377    0.365448\n",
            "Name: f, dtype: float64\n"
          ]
        },
        {
          "output_type": "stream",
          "name": "stderr",
          "text": [
            "\r 62%|██████▎   | 250/400 [07:31<02:39,  1.06s/it]"
          ]
        },
        {
          "output_type": "stream",
          "name": "stdout",
          "text": [
            "Step: 251 \t Time: 494.79038310050964\n",
            "Shift: 0.04953382058143616\n",
            "Current State: 378    7.786848\n",
            "Name: f, dtype: float64\n"
          ]
        },
        {
          "output_type": "stream",
          "name": "stderr",
          "text": [
            "\r 63%|██████▎   | 251/400 [07:32<02:38,  1.06s/it]"
          ]
        },
        {
          "output_type": "stream",
          "name": "stdout",
          "text": [
            "Step: 252 \t Time: 495.85243463516235\n",
            "Shift: 0.049652367472648624\n",
            "Current State: 379    0.184672\n",
            "Name: f, dtype: float64\n"
          ]
        },
        {
          "output_type": "stream",
          "name": "stderr",
          "text": [
            "\r 63%|██████▎   | 252/400 [07:33<02:37,  1.07s/it]"
          ]
        },
        {
          "output_type": "stream",
          "name": "stdout",
          "text": [
            "Step: 253 \t Time: 496.9296131134033\n",
            "Shift: 0.049747580575942994\n",
            "Current State: 380    0.181382\n",
            "Name: f, dtype: float64\n"
          ]
        },
        {
          "output_type": "stream",
          "name": "stderr",
          "text": [
            "\r 63%|██████▎   | 253/400 [07:34<02:31,  1.03s/it]"
          ]
        },
        {
          "output_type": "stream",
          "name": "stdout",
          "text": [
            "Step: 254 \t Time: 497.88194274902344\n",
            "Shift: 0.04985175471305847\n",
            "Current State: 381    0.169517\n",
            "Name: f, dtype: float64\n"
          ]
        },
        {
          "output_type": "stream",
          "name": "stderr",
          "text": [
            "\r 64%|██████▎   | 254/400 [07:35<02:31,  1.04s/it]"
          ]
        },
        {
          "output_type": "stream",
          "name": "stdout",
          "text": [
            "Step: 255 \t Time: 498.925954580307\n",
            "Shift: 0.05001314768791199\n",
            "Current State: 382    0.154478\n",
            "Name: f, dtype: float64\n"
          ]
        },
        {
          "output_type": "stream",
          "name": "stderr",
          "text": [
            "\r 64%|██████▍   | 255/400 [07:37<02:54,  1.21s/it]"
          ]
        },
        {
          "output_type": "stream",
          "name": "stdout",
          "text": [
            "Step: 256 \t Time: 500.5261676311493\n",
            "Shift: 0.050114911103248595\n",
            "Current State: 383    0.113902\n",
            "Name: f, dtype: float64\n"
          ]
        },
        {
          "output_type": "stream",
          "name": "stderr",
          "text": [
            "\r 64%|██████▍   | 256/400 [07:38<02:45,  1.15s/it]"
          ]
        },
        {
          "output_type": "stream",
          "name": "stdout",
          "text": [
            "Step: 257 \t Time: 501.5495800971985\n",
            "Shift: 0.050226908516883856\n",
            "Current State: 384    0.115148\n",
            "Name: f, dtype: float64\n"
          ]
        },
        {
          "output_type": "stream",
          "name": "stderr",
          "text": [
            "\r 64%|██████▍   | 257/400 [07:39<02:43,  1.14s/it]"
          ]
        },
        {
          "output_type": "stream",
          "name": "stdout",
          "text": [
            "Step: 258 \t Time: 502.68144273757935\n",
            "Shift: 0.05030852587223053\n",
            "Current State: 385    0.227871\n",
            "Name: f, dtype: float64\n"
          ]
        },
        {
          "output_type": "stream",
          "name": "stderr",
          "text": [
            "\r 64%|██████▍   | 258/400 [07:40<02:28,  1.05s/it]"
          ]
        },
        {
          "output_type": "stream",
          "name": "stdout",
          "text": [
            "Step: 259 \t Time: 503.495543718338\n",
            "Shift: 0.050392834901809694\n",
            "Current State: 386    0.138268\n",
            "Name: f, dtype: float64\n"
          ]
        },
        {
          "output_type": "stream",
          "name": "stderr",
          "text": [
            "\r 65%|██████▍   | 259/400 [07:41<02:18,  1.02it/s]"
          ]
        },
        {
          "output_type": "stream",
          "name": "stdout",
          "text": [
            "Step: 260 \t Time: 504.3273091316223\n",
            "Shift: 0.0505389532327652\n",
            "Current State: 387    0.042438\n",
            "Name: f, dtype: float64\n"
          ]
        },
        {
          "output_type": "stream",
          "name": "stderr",
          "text": [
            "\r 65%|██████▌   | 260/400 [07:42<02:38,  1.13s/it]"
          ]
        },
        {
          "output_type": "stream",
          "name": "stdout",
          "text": [
            "Step: 261 \t Time: 505.8001208305359\n",
            "Shift: 0.0506444543838501\n",
            "Current State: 388    0.785403\n",
            "Name: f, dtype: float64\n"
          ]
        },
        {
          "output_type": "stream",
          "name": "stderr",
          "text": [
            "\r 65%|██████▌   | 261/400 [07:44<02:55,  1.26s/it]"
          ]
        },
        {
          "output_type": "stream",
          "name": "stdout",
          "text": [
            "Step: 262 \t Time: 507.3813433647156\n",
            "Shift: 0.050806708836555484\n",
            "Current State: 389    0.434271\n",
            "Name: f, dtype: float64\n"
          ]
        },
        {
          "output_type": "stream",
          "name": "stderr",
          "text": [
            "\r 66%|██████▌   | 262/400 [07:45<02:47,  1.21s/it]"
          ]
        },
        {
          "output_type": "stream",
          "name": "stdout",
          "text": [
            "Step: 263 \t Time: 508.4711709022522\n",
            "Shift: 0.050893238306045537\n",
            "Current State: 390    0.04196\n",
            "Name: f, dtype: float64\n"
          ]
        },
        {
          "output_type": "stream",
          "name": "stderr",
          "text": [
            "\r 66%|██████▌   | 263/400 [07:46<02:32,  1.11s/it]"
          ]
        },
        {
          "output_type": "stream",
          "name": "stdout",
          "text": [
            "Step: 264 \t Time: 509.3438513278961\n",
            "Shift: 0.05097978599071503\n",
            "Current State: 391    0.089603\n",
            "Name: f, dtype: float64\n"
          ]
        },
        {
          "output_type": "stream",
          "name": "stderr",
          "text": [
            "\r 66%|██████▌   | 264/400 [07:47<02:21,  1.04s/it]"
          ]
        },
        {
          "output_type": "stream",
          "name": "stdout",
          "text": [
            "Step: 265 \t Time: 510.21871995925903\n",
            "Shift: 0.05119486718177796\n",
            "Current State: 392    0.051997\n",
            "Name: f, dtype: float64\n"
          ]
        },
        {
          "output_type": "stream",
          "name": "stderr",
          "text": [
            "\r 66%|██████▋   | 265/400 [07:49<03:04,  1.37s/it]"
          ]
        },
        {
          "output_type": "stream",
          "name": "stdout",
          "text": [
            "Step: 266 \t Time: 512.3541893959045\n",
            "Shift: 0.051263930869102484\n",
            "Current State: 393    7.297946\n",
            "Name: f, dtype: float64\n"
          ]
        },
        {
          "output_type": "stream",
          "name": "stderr",
          "text": [
            "\r 66%|██████▋   | 266/400 [07:50<02:36,  1.16s/it]"
          ]
        },
        {
          "output_type": "stream",
          "name": "stdout",
          "text": [
            "Step: 267 \t Time: 513.0419154167175\n",
            "Shift: 0.05136568944454194\n",
            "Current State: 394    0.043996\n",
            "Name: f, dtype: float64\n"
          ]
        },
        {
          "output_type": "stream",
          "name": "stderr",
          "text": [
            "\r 67%|██████▋   | 267/400 [07:51<02:28,  1.12s/it]"
          ]
        },
        {
          "output_type": "stream",
          "name": "stdout",
          "text": [
            "Step: 268 \t Time: 514.0564467906952\n",
            "Shift: 0.051459265470504764\n",
            "Current State: 395    0.072113\n",
            "Name: f, dtype: float64\n"
          ]
        },
        {
          "output_type": "stream",
          "name": "stderr",
          "text": [
            "\r 67%|██████▋   | 268/400 [07:51<02:20,  1.06s/it]"
          ]
        },
        {
          "output_type": "stream",
          "name": "stdout",
          "text": [
            "Step: 269 \t Time: 514.985748052597\n",
            "Shift: 0.05157854940891266\n",
            "Current State: 396    0.047515\n",
            "Name: f, dtype: float64\n"
          ]
        },
        {
          "output_type": "stream",
          "name": "stderr",
          "text": [
            "\r 67%|██████▋   | 269/400 [07:53<02:24,  1.10s/it]"
          ]
        },
        {
          "output_type": "stream",
          "name": "stdout",
          "text": [
            "Step: 270 \t Time: 516.186482667923\n",
            "Shift: 0.05166960024833679\n",
            "Current State: 397    0.049065\n",
            "Name: f, dtype: float64\n"
          ]
        },
        {
          "output_type": "stream",
          "name": "stderr",
          "text": [
            "\r 68%|██████▊   | 270/400 [07:54<02:16,  1.05s/it]"
          ]
        },
        {
          "output_type": "stream",
          "name": "stdout",
          "text": [
            "Step: 271 \t Time: 517.0996222496033\n",
            "Shift: 0.05176416599750519\n",
            "Current State: 398    0.063316\n",
            "Name: f, dtype: float64\n"
          ]
        },
        {
          "output_type": "stream",
          "name": "stderr",
          "text": [
            "\r 68%|██████▊   | 271/400 [07:55<02:11,  1.02s/it]"
          ]
        },
        {
          "output_type": "stream",
          "name": "stdout",
          "text": [
            "Step: 272 \t Time: 518.0425605773926\n",
            "Shift: 0.051871404170989996\n",
            "Current State: 399    0.05708\n",
            "Name: f, dtype: float64\n"
          ]
        },
        {
          "output_type": "stream",
          "name": "stderr",
          "text": [
            "\r 68%|██████▊   | 272/400 [07:56<02:17,  1.07s/it]"
          ]
        },
        {
          "output_type": "stream",
          "name": "stdout",
          "text": [
            "Step: 273 \t Time: 519.2518334388733\n",
            "Shift: 0.05198139922618866\n",
            "Current State: 400    0.046288\n",
            "Name: f, dtype: float64\n"
          ]
        },
        {
          "output_type": "stream",
          "name": "stderr",
          "text": [
            "\r 68%|██████▊   | 273/400 [07:57<02:16,  1.08s/it]"
          ]
        },
        {
          "output_type": "stream",
          "name": "stdout",
          "text": [
            "Step: 274 \t Time: 520.3388357162476\n",
            "Shift: 0.05212141742706299\n",
            "Current State: 401    0.060223\n",
            "Name: f, dtype: float64\n"
          ]
        },
        {
          "output_type": "stream",
          "name": "stderr",
          "text": [
            "\r 68%|██████▊   | 274/400 [07:58<02:23,  1.14s/it]"
          ]
        },
        {
          "output_type": "stream",
          "name": "stdout",
          "text": [
            "Step: 275 \t Time: 521.6287894248962\n",
            "Shift: 0.05221983222961426\n",
            "Current State: 402    0.061281\n",
            "Name: f, dtype: float64\n"
          ]
        },
        {
          "output_type": "stream",
          "name": "stderr",
          "text": [
            "\r 69%|██████▉   | 275/400 [07:59<02:17,  1.10s/it]"
          ]
        },
        {
          "output_type": "stream",
          "name": "stdout",
          "text": [
            "Step: 276 \t Time: 522.6436674594879\n",
            "Shift: 0.052322911858558654\n",
            "Current State: 403    0.048259\n",
            "Name: f, dtype: float64\n"
          ]
        },
        {
          "output_type": "stream",
          "name": "stderr",
          "text": [
            "\r 69%|██████▉   | 276/400 [08:00<02:12,  1.07s/it]"
          ]
        },
        {
          "output_type": "stream",
          "name": "stdout",
          "text": [
            "Step: 277 \t Time: 523.6390085220337\n",
            "Shift: 0.05242111985683441\n",
            "Current State: 404    0.083751\n",
            "Name: f, dtype: float64\n"
          ]
        },
        {
          "output_type": "stream",
          "name": "stderr",
          "text": [
            "\r 69%|██████▉   | 277/400 [08:01<02:08,  1.04s/it]"
          ]
        },
        {
          "output_type": "stream",
          "name": "stdout",
          "text": [
            "Step: 278 \t Time: 524.6134920120239\n",
            "Shift: 0.05252024879455567\n",
            "Current State: 405    0.059263\n",
            "Name: f, dtype: float64\n"
          ]
        },
        {
          "output_type": "stream",
          "name": "stderr",
          "text": [
            "\r 70%|██████▉   | 278/400 [08:02<02:05,  1.03s/it]"
          ]
        },
        {
          "output_type": "stream",
          "name": "stdout",
          "text": [
            "Step: 279 \t Time: 525.600310087204\n",
            "Shift: 0.05260223519802094\n",
            "Current State: 406    0.218091\n",
            "Name: f, dtype: float64\n"
          ]
        },
        {
          "output_type": "stream",
          "name": "stderr",
          "text": [
            "\r 70%|██████▉   | 279/400 [08:03<01:56,  1.04it/s]"
          ]
        },
        {
          "output_type": "stream",
          "name": "stdout",
          "text": [
            "Step: 280 \t Time: 526.4271438121796\n",
            "Shift: 0.052697215509414676\n",
            "Current State: 407    0.045935\n",
            "Name: f, dtype: float64\n"
          ]
        },
        {
          "output_type": "stream",
          "name": "stderr",
          "text": [
            "\r 70%|███████   | 280/400 [08:04<01:55,  1.04it/s]"
          ]
        },
        {
          "output_type": "stream",
          "name": "stdout",
          "text": [
            "Step: 281 \t Time: 527.3694550991058\n",
            "Shift: 0.05278910474777222\n",
            "Current State: 408    0.099879\n",
            "Name: f, dtype: float64\n"
          ]
        },
        {
          "output_type": "stream",
          "name": "stderr",
          "text": [
            "\r 70%|███████   | 281/400 [08:05<01:52,  1.05it/s]"
          ]
        },
        {
          "output_type": "stream",
          "name": "stdout",
          "text": [
            "Step: 282 \t Time: 528.2968311309814\n",
            "Shift: 0.05288758871555329\n",
            "Current State: 409    0.028125\n",
            "Name: f, dtype: float64\n"
          ]
        },
        {
          "output_type": "stream",
          "name": "stderr",
          "text": [
            "\r 70%|███████   | 282/400 [08:06<01:53,  1.04it/s]"
          ]
        },
        {
          "output_type": "stream",
          "name": "stdout",
          "text": [
            "Step: 283 \t Time: 529.2815775871277\n",
            "Shift: 0.052978405499458314\n",
            "Current State: 410    0.030476\n",
            "Name: f, dtype: float64\n"
          ]
        },
        {
          "output_type": "stream",
          "name": "stderr",
          "text": [
            "\r 71%|███████   | 283/400 [08:07<01:50,  1.06it/s]"
          ]
        },
        {
          "output_type": "stream",
          "name": "stdout",
          "text": [
            "Step: 284 \t Time: 530.1901502609253\n",
            "Shift: 0.053101543235778814\n",
            "Current State: 411    0.032819\n",
            "Name: f, dtype: float64\n"
          ]
        },
        {
          "output_type": "stream",
          "name": "stderr",
          "text": [
            "\r 71%|███████   | 284/400 [08:08<02:06,  1.09s/it]"
          ]
        },
        {
          "output_type": "stream",
          "name": "stdout",
          "text": [
            "Step: 285 \t Time: 531.60888504982\n",
            "Shift: 0.05323380105495453\n",
            "Current State: 412    0.034923\n",
            "Name: f, dtype: float64\n"
          ]
        },
        {
          "output_type": "stream",
          "name": "stderr",
          "text": [
            "\r 71%|███████▏  | 285/400 [08:09<02:10,  1.13s/it]"
          ]
        },
        {
          "output_type": "stream",
          "name": "stdout",
          "text": [
            "Step: 286 \t Time: 532.845869064331\n",
            "Shift: 0.05334005587100983\n",
            "Current State: 413    0.059609\n",
            "Name: f, dtype: float64\n"
          ]
        },
        {
          "output_type": "stream",
          "name": "stderr",
          "text": [
            "\r 72%|███████▏  | 286/400 [08:10<02:03,  1.08s/it]"
          ]
        },
        {
          "output_type": "stream",
          "name": "stdout",
          "text": [
            "Step: 287 \t Time: 533.8058619499207\n",
            "Shift: 0.053420346331596376\n",
            "Current State: 414    0.00713\n",
            "Name: f, dtype: float64\n"
          ]
        },
        {
          "output_type": "stream",
          "name": "stderr",
          "text": [
            "\r 72%|███████▏  | 287/400 [08:11<01:52,  1.00it/s]"
          ]
        },
        {
          "output_type": "stream",
          "name": "stdout",
          "text": [
            "Step: 288 \t Time: 534.6093130111694\n",
            "Shift: 0.05348805277347565\n",
            "Current State: 415    1.485403\n",
            "Name: f, dtype: float64\n"
          ]
        },
        {
          "output_type": "stream",
          "name": "stderr",
          "text": [
            "\r 72%|███████▏  | 288/400 [08:12<01:40,  1.11it/s]"
          ]
        },
        {
          "output_type": "stream",
          "name": "stdout",
          "text": [
            "Step: 289 \t Time: 535.284417629242\n",
            "Shift: 0.05356633293628693\n",
            "Current State: 416    0.022102\n",
            "Name: f, dtype: float64\n"
          ]
        },
        {
          "output_type": "stream",
          "name": "stderr",
          "text": [
            "\r 72%|███████▏  | 289/400 [08:13<01:36,  1.15it/s]"
          ]
        },
        {
          "output_type": "stream",
          "name": "stdout",
          "text": [
            "Step: 290 \t Time: 536.0704746246338\n",
            "Shift: 0.053647234773635866\n",
            "Current State: 417    0.024211\n",
            "Name: f, dtype: float64\n"
          ]
        },
        {
          "output_type": "stream",
          "name": "stderr",
          "text": [
            "\r 72%|███████▎  | 290/400 [08:13<01:33,  1.18it/s]"
          ]
        },
        {
          "output_type": "stream",
          "name": "stdout",
          "text": [
            "Step: 291 \t Time: 536.8701827526093\n",
            "Shift: 0.05372169435024262\n",
            "Current State: 418    0.387212\n",
            "Name: f, dtype: float64\n"
          ]
        },
        {
          "output_type": "stream",
          "name": "stderr",
          "text": [
            "\r 73%|███████▎  | 291/400 [08:14<01:29,  1.22it/s]"
          ]
        },
        {
          "output_type": "stream",
          "name": "stdout",
          "text": [
            "Step: 292 \t Time: 537.6249492168427\n",
            "Shift: 0.05382044734954834\n",
            "Current State: 419    0.032589\n",
            "Name: f, dtype: float64\n"
          ]
        },
        {
          "output_type": "stream",
          "name": "stderr",
          "text": [
            "\r 73%|███████▎  | 292/400 [08:15<01:33,  1.15it/s]"
          ]
        },
        {
          "output_type": "stream",
          "name": "stdout",
          "text": [
            "Step: 293 \t Time: 538.6102063655853\n",
            "Shift: 0.05391464855670929\n",
            "Current State: 420    0.051096\n",
            "Name: f, dtype: float64\n"
          ]
        },
        {
          "output_type": "stream",
          "name": "stderr",
          "text": [
            "\r 73%|███████▎  | 293/400 [08:16<01:35,  1.12it/s]"
          ]
        },
        {
          "output_type": "stream",
          "name": "stdout",
          "text": [
            "Step: 294 \t Time: 539.5534934997559\n",
            "Shift: 0.05397654216289521\n",
            "Current State: 421    5.309341\n",
            "Name: f, dtype: float64\n"
          ]
        },
        {
          "output_type": "stream",
          "name": "stderr",
          "text": [
            "\r 74%|███████▎  | 294/400 [08:17<01:26,  1.23it/s]"
          ]
        },
        {
          "output_type": "stream",
          "name": "stdout",
          "text": [
            "Step: 295 \t Time: 540.1793963909149\n",
            "Shift: 0.05407220051288605\n",
            "Current State: 422    1.032156\n",
            "Name: f, dtype: float64\n"
          ]
        },
        {
          "output_type": "stream",
          "name": "stderr",
          "text": [
            "\r 74%|███████▍  | 295/400 [08:18<01:29,  1.17it/s]"
          ]
        },
        {
          "output_type": "stream",
          "name": "stdout",
          "text": [
            "Step: 296 \t Time: 541.1239817142487\n",
            "Shift: 0.05414254496097565\n",
            "Current State: 423    6.709838\n",
            "Name: f, dtype: float64\n"
          ]
        },
        {
          "output_type": "stream",
          "name": "stderr",
          "text": [
            "\r 74%|███████▍  | 296/400 [08:18<01:24,  1.24it/s]"
          ]
        },
        {
          "output_type": "stream",
          "name": "stdout",
          "text": [
            "Step: 297 \t Time: 541.8351738452911\n",
            "Shift: 0.054231643915176396\n",
            "Current State: 424    0.05031\n",
            "Name: f, dtype: float64\n"
          ]
        },
        {
          "output_type": "stream",
          "name": "stderr",
          "text": [
            "\r 74%|███████▍  | 297/400 [08:19<01:25,  1.20it/s]"
          ]
        },
        {
          "output_type": "stream",
          "name": "stdout",
          "text": [
            "Step: 298 \t Time: 542.7281997203827\n",
            "Shift: 0.054334304618835455\n",
            "Current State: 425    0.071474\n",
            "Name: f, dtype: float64\n"
          ]
        },
        {
          "output_type": "stream",
          "name": "stderr",
          "text": [
            "\r 74%|███████▍  | 298/400 [08:20<01:35,  1.07it/s]"
          ]
        },
        {
          "output_type": "stream",
          "name": "stdout",
          "text": [
            "Step: 299 \t Time: 543.8982043266296\n",
            "Shift: 0.05449926273822785\n",
            "Current State: 426    0.069304\n",
            "Name: f, dtype: float64\n"
          ]
        },
        {
          "output_type": "stream",
          "name": "stderr",
          "text": [
            "\r 75%|███████▍  | 299/400 [08:22<01:54,  1.14s/it]"
          ]
        },
        {
          "output_type": "stream",
          "name": "stdout",
          "text": [
            "Step: 300 \t Time: 545.50217461586\n",
            "Shift: 0.05460217127799988\n",
            "Current State: 427    0.081124\n",
            "Name: f, dtype: float64\n"
          ]
        },
        {
          "output_type": "stream",
          "name": "stderr",
          "text": [
            "\r 75%|███████▌  | 300/400 [08:23<01:47,  1.08s/it]"
          ]
        },
        {
          "output_type": "stream",
          "name": "stdout",
          "text": [
            "Step: 301 \t Time: 546.4507248401642\n",
            "Shift: 0.054692519140243534\n",
            "Current State: 428    0.090749\n",
            "Name: f, dtype: float64\n"
          ]
        },
        {
          "output_type": "stream",
          "name": "stderr",
          "text": [
            "\r 75%|███████▌  | 301/400 [08:24<01:40,  1.02s/it]"
          ]
        },
        {
          "output_type": "stream",
          "name": "stdout",
          "text": [
            "Step: 302 \t Time: 547.3276596069336\n",
            "Shift: 0.054764602851867676\n",
            "Current State: 429    14.358259\n",
            "Name: f, dtype: float64\n"
          ]
        },
        {
          "output_type": "stream",
          "name": "stderr",
          "text": [
            "\r 76%|███████▌  | 302/400 [08:25<01:31,  1.08it/s]"
          ]
        },
        {
          "output_type": "stream",
          "name": "stdout",
          "text": [
            "Step: 303 \t Time: 548.0476467609406\n",
            "Shift: 0.054871132135391236\n",
            "Current State: 430    0.172339\n",
            "Name: f, dtype: float64\n"
          ]
        },
        {
          "output_type": "stream",
          "name": "stderr",
          "text": [
            "\r 76%|███████▌  | 303/400 [08:26<01:34,  1.03it/s]"
          ]
        },
        {
          "output_type": "stream",
          "name": "stdout",
          "text": [
            "Step: 304 \t Time: 549.1115243434906\n",
            "Shift: 0.05500402116775513\n",
            "Current State: 431    0.073836\n",
            "Name: f, dtype: float64\n"
          ]
        },
        {
          "output_type": "stream",
          "name": "stderr",
          "text": [
            "\r 76%|███████▌  | 304/400 [08:27<01:43,  1.08s/it]"
          ]
        },
        {
          "output_type": "stream",
          "name": "stdout",
          "text": [
            "Step: 305 \t Time: 550.4481253623962\n",
            "Shift: 0.05531666090488434\n",
            "Current State: 432    0.874961\n",
            "Name: f, dtype: float64\n"
          ]
        },
        {
          "output_type": "stream",
          "name": "stderr",
          "text": [
            "\r 76%|███████▋  | 305/400 [08:30<02:40,  1.69s/it]"
          ]
        },
        {
          "output_type": "stream",
          "name": "stdout",
          "text": [
            "Step: 306 \t Time: 553.5695693492889\n",
            "Shift: 0.05539813714027405\n",
            "Current State: 433    0.160456\n",
            "Name: f, dtype: float64\n"
          ]
        },
        {
          "output_type": "stream",
          "name": "stderr",
          "text": [
            "\r 76%|███████▋  | 306/400 [08:31<02:14,  1.43s/it]"
          ]
        },
        {
          "output_type": "stream",
          "name": "stdout",
          "text": [
            "Step: 307 \t Time: 554.3824436664581\n",
            "Shift: 0.05552995841503144\n",
            "Current State: 434    0.3173\n",
            "Name: f, dtype: float64\n"
          ]
        },
        {
          "output_type": "stream",
          "name": "stderr",
          "text": [
            "\r 77%|███████▋  | 307/400 [08:32<02:10,  1.40s/it]"
          ]
        },
        {
          "output_type": "stream",
          "name": "stdout",
          "text": [
            "Step: 308 \t Time: 555.7324652671814\n",
            "Shift: 0.055729542255401616\n",
            "Current State: 435    0.170327\n",
            "Name: f, dtype: float64\n"
          ]
        },
        {
          "output_type": "stream",
          "name": "stderr",
          "text": [
            "\r 77%|███████▋  | 308/400 [08:34<02:28,  1.61s/it]"
          ]
        },
        {
          "output_type": "stream",
          "name": "stdout",
          "text": [
            "Step: 309 \t Time: 557.8306519985199\n",
            "Shift: 0.05601805722713471\n",
            "Current State: 436    0.590686\n",
            "Name: f, dtype: float64\n"
          ]
        },
        {
          "output_type": "stream",
          "name": "stderr",
          "text": [
            "\r 77%|███████▋  | 309/400 [08:37<02:57,  1.95s/it]"
          ]
        },
        {
          "output_type": "stream",
          "name": "stdout",
          "text": [
            "Step: 310 \t Time: 560.5814566612244\n",
            "Shift: 0.05629597442150116\n",
            "Current State: 437    0.153587\n",
            "Name: f, dtype: float64\n"
          ]
        },
        {
          "output_type": "stream",
          "name": "stderr",
          "text": [
            "\r 78%|███████▊  | 310/400 [08:40<03:18,  2.20s/it]"
          ]
        },
        {
          "output_type": "stream",
          "name": "stdout",
          "text": [
            "Step: 311 \t Time: 563.3664247989655\n",
            "Shift: 0.05653244953155518\n",
            "Current State: 438    0.16692\n",
            "Name: f, dtype: float64\n"
          ]
        },
        {
          "output_type": "stream",
          "name": "stderr",
          "text": [
            "\r 78%|███████▊  | 311/400 [08:42<03:20,  2.25s/it]"
          ]
        },
        {
          "output_type": "stream",
          "name": "stdout",
          "text": [
            "Step: 312 \t Time: 565.7287755012512\n",
            "Shift: 0.05674907903671265\n",
            "Current State: 439    0.1666\n",
            "Name: f, dtype: float64\n"
          ]
        },
        {
          "output_type": "stream",
          "name": "stderr",
          "text": [
            "\r 78%|███████▊  | 312/400 [08:44<03:15,  2.23s/it]"
          ]
        },
        {
          "output_type": "stream",
          "name": "stdout",
          "text": [
            "Step: 313 \t Time: 567.8989253044128\n",
            "Shift: 0.05704383420944214\n",
            "Current State: 440    0.185871\n",
            "Name: f, dtype: float64\n"
          ]
        },
        {
          "output_type": "stream",
          "name": "stderr",
          "text": [
            "\r 78%|███████▊  | 313/400 [08:47<03:32,  2.44s/it]"
          ]
        },
        {
          "output_type": "stream",
          "name": "stdout",
          "text": [
            "Step: 314 \t Time: 570.8413321971893\n",
            "Shift: 0.057261189556121826\n",
            "Current State: 441    0.220167\n",
            "Name: f, dtype: float64\n"
          ]
        },
        {
          "output_type": "stream",
          "name": "stderr",
          "text": [
            "\r 78%|███████▊  | 314/400 [08:49<03:23,  2.36s/it]"
          ]
        },
        {
          "output_type": "stream",
          "name": "stdout",
          "text": [
            "Step: 315 \t Time: 573.0223879814148\n",
            "Shift: 0.05749218332767487\n",
            "Current State: 442    0.209324\n",
            "Name: f, dtype: float64\n"
          ]
        },
        {
          "output_type": "stream",
          "name": "stderr",
          "text": [
            "\r 79%|███████▉  | 315/400 [08:52<03:19,  2.35s/it]"
          ]
        },
        {
          "output_type": "stream",
          "name": "stdout",
          "text": [
            "Step: 316 \t Time: 575.3323893547058\n",
            "Shift: 0.05778291695117951\n",
            "Current State: 443    0.223304\n",
            "Name: f, dtype: float64\n"
          ]
        },
        {
          "output_type": "stream",
          "name": "stderr",
          "text": [
            "\r 79%|███████▉  | 316/400 [08:55<03:30,  2.51s/it]"
          ]
        },
        {
          "output_type": "stream",
          "name": "stdout",
          "text": [
            "Step: 317 \t Time: 578.227053642273\n",
            "Shift: 0.05808022737503052\n",
            "Current State: 444    0.212067\n",
            "Name: f, dtype: float64\n"
          ]
        },
        {
          "output_type": "stream",
          "name": "stderr",
          "text": [
            "\r 79%|███████▉  | 317/400 [08:58<03:44,  2.70s/it]"
          ]
        },
        {
          "output_type": "stream",
          "name": "stdout",
          "text": [
            "Step: 318 \t Time: 581.3677351474762\n",
            "Shift: 0.05842847301959992\n",
            "Current State: 445    0.159809\n",
            "Name: f, dtype: float64\n"
          ]
        },
        {
          "output_type": "stream",
          "name": "stderr",
          "text": [
            "\r 80%|███████▉  | 318/400 [09:01<03:56,  2.88s/it]"
          ]
        },
        {
          "output_type": "stream",
          "name": "stdout",
          "text": [
            "Step: 319 \t Time: 584.6832611560822\n",
            "Shift: 0.05873196156024933\n",
            "Current State: 446    0.22201\n",
            "Name: f, dtype: float64\n"
          ]
        },
        {
          "output_type": "stream",
          "name": "stderr",
          "text": [
            "\r 80%|███████▉  | 319/400 [09:04<03:57,  2.93s/it]"
          ]
        },
        {
          "output_type": "stream",
          "name": "stdout",
          "text": [
            "Step: 320 \t Time: 587.7315018177032\n",
            "Shift: 0.05899568083286286\n",
            "Current State: 447    0.851765\n",
            "Name: f, dtype: float64\n"
          ]
        },
        {
          "output_type": "stream",
          "name": "stderr",
          "text": [
            "\r 80%|████████  | 320/400 [09:07<03:47,  2.84s/it]"
          ]
        },
        {
          "output_type": "stream",
          "name": "stdout",
          "text": [
            "Step: 321 \t Time: 590.3635656833649\n",
            "Shift: 0.05914890687465668\n",
            "Current State: 448    0.152202\n",
            "Name: f, dtype: float64\n"
          ]
        },
        {
          "output_type": "stream",
          "name": "stderr",
          "text": [
            "\r 80%|████████  | 321/400 [09:08<03:13,  2.45s/it]"
          ]
        },
        {
          "output_type": "stream",
          "name": "stdout",
          "text": [
            "Step: 322 \t Time: 591.8865261077881\n",
            "Shift: 0.059473124504089356\n",
            "Current State: 449    0.239114\n",
            "Name: f, dtype: float64\n"
          ]
        },
        {
          "output_type": "stream",
          "name": "stderr",
          "text": [
            "\r 80%|████████  | 322/400 [09:12<03:33,  2.74s/it]"
          ]
        },
        {
          "output_type": "stream",
          "name": "stdout",
          "text": [
            "Step: 323 \t Time: 595.3150985240936\n",
            "Shift: 0.059687584972381594\n",
            "Current State: 450    0.163519\n",
            "Name: f, dtype: float64\n"
          ]
        },
        {
          "output_type": "stream",
          "name": "stderr",
          "text": [
            "\r 81%|████████  | 323/400 [09:14<03:13,  2.51s/it]"
          ]
        },
        {
          "output_type": "stream",
          "name": "stdout",
          "text": [
            "Step: 324 \t Time: 597.2920560836792\n",
            "Shift: 0.05984557046890259\n",
            "Current State: 451    0.315647\n",
            "Name: f, dtype: float64\n"
          ]
        },
        {
          "output_type": "stream",
          "name": "stderr",
          "text": [
            "\r 81%|████████  | 324/400 [09:15<02:49,  2.23s/it]"
          ]
        },
        {
          "output_type": "stream",
          "name": "stdout",
          "text": [
            "Step: 325 \t Time: 598.8545784950256\n",
            "Shift: 0.05992038357257843\n",
            "Current State: 452    7.788726\n",
            "Name: f, dtype: float64\n"
          ]
        },
        {
          "output_type": "stream",
          "name": "stderr",
          "text": [
            "\r 81%|████████▏ | 325/400 [09:16<02:13,  1.79s/it]"
          ]
        },
        {
          "output_type": "stream",
          "name": "stdout",
          "text": [
            "Step: 326 \t Time: 599.6117422580719\n",
            "Shift: 0.06002993159294129\n",
            "Current State: 453    0.096113\n",
            "Name: f, dtype: float64\n"
          ]
        },
        {
          "output_type": "stream",
          "name": "stderr",
          "text": [
            "\r 82%|████████▏ | 326/400 [09:17<01:57,  1.58s/it]"
          ]
        },
        {
          "output_type": "stream",
          "name": "stdout",
          "text": [
            "Step: 327 \t Time: 600.7178776264191\n",
            "Shift: 0.06013113102912903\n",
            "Current State: 454    0.063064\n",
            "Name: f, dtype: float64\n"
          ]
        },
        {
          "output_type": "stream",
          "name": "stderr",
          "text": [
            "\r 82%|████████▏ | 327/400 [09:18<01:42,  1.41s/it]"
          ]
        },
        {
          "output_type": "stream",
          "name": "stdout",
          "text": [
            "Step: 328 \t Time: 601.719336271286\n",
            "Shift: 0.06020467855930329\n",
            "Current State: 455    0.128941\n",
            "Name: f, dtype: float64\n"
          ]
        },
        {
          "output_type": "stream",
          "name": "stderr",
          "text": [
            "\r 82%|████████▏ | 328/400 [09:19<01:27,  1.21s/it]"
          ]
        },
        {
          "output_type": "stream",
          "name": "stdout",
          "text": [
            "Step: 329 \t Time: 602.4694480895996\n",
            "Shift: 0.0602854789018631\n",
            "Current State: 456    0.143561\n",
            "Name: f, dtype: float64\n"
          ]
        },
        {
          "output_type": "stream",
          "name": "stderr",
          "text": [
            "\r 82%|████████▏ | 329/400 [09:20<01:16,  1.08s/it]"
          ]
        },
        {
          "output_type": "stream",
          "name": "stdout",
          "text": [
            "Step: 330 \t Time: 603.255529165268\n",
            "Shift: 0.06044693584442139\n",
            "Current State: 457    0.097713\n",
            "Name: f, dtype: float64\n"
          ]
        },
        {
          "output_type": "stream",
          "name": "stderr",
          "text": [
            "\r 82%|████████▎ | 330/400 [09:21<01:27,  1.24s/it]"
          ]
        },
        {
          "output_type": "stream",
          "name": "stdout",
          "text": [
            "Step: 331 \t Time: 604.8736169338226\n",
            "Shift: 0.06059061682224274\n",
            "Current State: 458    0.176313\n",
            "Name: f, dtype: float64\n"
          ]
        },
        {
          "output_type": "stream",
          "name": "stderr",
          "text": [
            "\r 83%|████████▎ | 331/400 [09:23<01:32,  1.33s/it]"
          ]
        },
        {
          "output_type": "stream",
          "name": "stdout",
          "text": [
            "Step: 332 \t Time: 606.42120885849\n",
            "Shift: 0.0609297208070755\n",
            "Current State: 459    1.09269\n",
            "Name: f, dtype: float64\n"
          ]
        },
        {
          "output_type": "stream",
          "name": "stderr",
          "text": [
            "\r 83%|████████▎ | 332/400 [09:26<02:10,  1.92s/it]"
          ]
        },
        {
          "output_type": "stream",
          "name": "stdout",
          "text": [
            "Step: 333 \t Time: 609.7165043354034\n",
            "Shift: 0.061048291587829595\n",
            "Current State: 460    0.191567\n",
            "Name: f, dtype: float64\n"
          ]
        },
        {
          "output_type": "stream",
          "name": "stderr",
          "text": [
            "\r 83%|████████▎ | 333/400 [09:27<01:53,  1.70s/it]"
          ]
        },
        {
          "output_type": "stream",
          "name": "stdout",
          "text": [
            "Step: 334 \t Time: 610.8938183784485\n",
            "Shift: 0.061145046114921574\n",
            "Current State: 461    0.149036\n",
            "Name: f, dtype: float64\n"
          ]
        },
        {
          "output_type": "stream",
          "name": "stderr",
          "text": [
            "\r 84%|████████▎ | 334/400 [09:28<01:37,  1.48s/it]"
          ]
        },
        {
          "output_type": "stream",
          "name": "stdout",
          "text": [
            "Step: 335 \t Time: 611.8577072620392\n",
            "Shift: 0.061242279171943664\n",
            "Current State: 462    0.185283\n",
            "Name: f, dtype: float64\n"
          ]
        },
        {
          "output_type": "stream",
          "name": "stderr",
          "text": [
            "\r 84%|████████▍ | 335/400 [09:29<01:26,  1.34s/it]"
          ]
        },
        {
          "output_type": "stream",
          "name": "stdout",
          "text": [
            "Step: 336 \t Time: 612.8647918701172\n",
            "Shift: 0.06134782447814942\n",
            "Current State: 463    0.122051\n",
            "Name: f, dtype: float64\n"
          ]
        },
        {
          "output_type": "stream",
          "name": "stderr",
          "text": [
            "\r 84%|████████▍ | 336/400 [09:30<01:19,  1.24s/it]"
          ]
        },
        {
          "output_type": "stream",
          "name": "stdout",
          "text": [
            "Step: 337 \t Time: 613.888649225235\n",
            "Shift: 0.06149167068004609\n",
            "Current State: 464    0.087422\n",
            "Name: f, dtype: float64\n"
          ]
        },
        {
          "output_type": "stream",
          "name": "stderr",
          "text": [
            "\r 84%|████████▍ | 337/400 [09:32<01:21,  1.30s/it]"
          ]
        },
        {
          "output_type": "stream",
          "name": "stdout",
          "text": [
            "Step: 338 \t Time: 615.3200089931488\n",
            "Shift: 0.06160278594493866\n",
            "Current State: 465    0.128206\n",
            "Name: f, dtype: float64\n"
          ]
        },
        {
          "output_type": "stream",
          "name": "stderr",
          "text": [
            "\r 84%|████████▍ | 338/400 [09:33<01:17,  1.24s/it]"
          ]
        },
        {
          "output_type": "stream",
          "name": "stdout",
          "text": [
            "Step: 339 \t Time: 616.4342386722565\n",
            "Shift: 0.061685885834693914\n",
            "Current State: 466    0.098103\n",
            "Name: f, dtype: float64\n"
          ]
        },
        {
          "output_type": "stream",
          "name": "stderr",
          "text": [
            "\r 85%|████████▍ | 339/400 [09:34<01:08,  1.12s/it]"
          ]
        },
        {
          "output_type": "stream",
          "name": "stdout",
          "text": [
            "Step: 340 \t Time: 617.2634541988373\n",
            "Shift: 0.0617742865562439\n",
            "Current State: 467    0.099421\n",
            "Name: f, dtype: float64\n"
          ]
        },
        {
          "output_type": "stream",
          "name": "stderr",
          "text": [
            "\r 85%|████████▌ | 340/400 [09:35<01:05,  1.10s/it]"
          ]
        },
        {
          "output_type": "stream",
          "name": "stdout",
          "text": [
            "Step: 341 \t Time: 618.3046033382416\n",
            "Shift: 0.06188905789852143\n",
            "Current State: 468    0.099593\n",
            "Name: f, dtype: float64\n"
          ]
        },
        {
          "output_type": "stream",
          "name": "stderr",
          "text": [
            "\r 85%|████████▌ | 341/400 [09:36<01:05,  1.10s/it]"
          ]
        },
        {
          "output_type": "stream",
          "name": "stdout",
          "text": [
            "Step: 342 \t Time: 619.4223062992096\n",
            "Shift: 0.062028026056289674\n",
            "Current State: 469    0.109286\n",
            "Name: f, dtype: float64\n"
          ]
        },
        {
          "output_type": "stream",
          "name": "stderr",
          "text": [
            "\r 86%|████████▌ | 342/400 [09:37<01:06,  1.15s/it]"
          ]
        },
        {
          "output_type": "stream",
          "name": "stdout",
          "text": [
            "Step: 343 \t Time: 620.6838674545288\n",
            "Shift: 0.062086890554428106\n",
            "Current State: 470    5.139576\n",
            "Name: f, dtype: float64\n"
          ]
        },
        {
          "output_type": "stream",
          "name": "stderr",
          "text": [
            "\r 86%|████████▌ | 343/400 [09:38<00:56,  1.02it/s]"
          ]
        },
        {
          "output_type": "stream",
          "name": "stdout",
          "text": [
            "Step: 344 \t Time: 621.2804865837097\n",
            "Shift: 0.062191849374771124\n",
            "Current State: 471    0.142413\n",
            "Name: f, dtype: float64\n"
          ]
        },
        {
          "output_type": "stream",
          "name": "stderr",
          "text": [
            "\r 86%|████████▌ | 344/400 [09:39<00:56,  1.01s/it]"
          ]
        },
        {
          "output_type": "stream",
          "name": "stdout",
          "text": [
            "Step: 345 \t Time: 622.3366522789001\n",
            "Shift: 0.062278293251991274\n",
            "Current State: 472    0.107474\n",
            "Name: f, dtype: float64\n"
          ]
        },
        {
          "output_type": "stream",
          "name": "stderr",
          "text": [
            "\r 86%|████████▋ | 345/400 [09:40<00:53,  1.04it/s]"
          ]
        },
        {
          "output_type": "stream",
          "name": "stdout",
          "text": [
            "Step: 346 \t Time: 623.2048630714417\n",
            "Shift: 0.062369494295120245\n",
            "Current State: 473    0.12464\n",
            "Name: f, dtype: float64\n"
          ]
        },
        {
          "output_type": "stream",
          "name": "stderr",
          "text": [
            "\r 86%|████████▋ | 346/400 [09:41<00:51,  1.06it/s]"
          ]
        },
        {
          "output_type": "stream",
          "name": "stdout",
          "text": [
            "Step: 347 \t Time: 624.1024806499481\n",
            "Shift: 0.06244508173465729\n",
            "Current State: 474    0.109344\n",
            "Name: f, dtype: float64\n"
          ]
        },
        {
          "output_type": "stream",
          "name": "stderr",
          "text": [
            "\r 87%|████████▋ | 347/400 [09:41<00:46,  1.13it/s]"
          ]
        },
        {
          "output_type": "stream",
          "name": "stdout",
          "text": [
            "Step: 348 \t Time: 624.8533041477203\n",
            "Shift: 0.0625277491569519\n",
            "Current State: 475    0.13115\n",
            "Name: f, dtype: float64\n"
          ]
        },
        {
          "output_type": "stream",
          "name": "stderr",
          "text": [
            "\r 87%|████████▋ | 348/400 [09:42<00:45,  1.15it/s]"
          ]
        },
        {
          "output_type": "stream",
          "name": "stdout",
          "text": [
            "Step: 349 \t Time: 625.6790769100189\n",
            "Shift: 0.06260728182792664\n",
            "Current State: 476    0.127219\n",
            "Name: f, dtype: float64\n"
          ]
        },
        {
          "output_type": "stream",
          "name": "stderr",
          "text": [
            "\r 87%|████████▋ | 349/400 [09:43<00:43,  1.18it/s]"
          ]
        },
        {
          "output_type": "stream",
          "name": "stdout",
          "text": [
            "Step: 350 \t Time: 626.4775857925415\n",
            "Shift: 0.06275233590602874\n",
            "Current State: 477    0.136197\n",
            "Name: f, dtype: float64\n"
          ]
        },
        {
          "output_type": "stream",
          "name": "stderr",
          "text": [
            "\r 88%|████████▊ | 350/400 [09:44<00:51,  1.03s/it]"
          ]
        },
        {
          "output_type": "stream",
          "name": "stdout",
          "text": [
            "Step: 351 \t Time: 627.9224503040314\n",
            "Shift: 0.06283481502532959\n",
            "Current State: 478    9.164703\n",
            "Name: f, dtype: float64\n"
          ]
        },
        {
          "output_type": "stream",
          "name": "stderr",
          "text": [
            "\r 88%|████████▊ | 351/400 [09:45<00:47,  1.03it/s]"
          ]
        },
        {
          "output_type": "stream",
          "name": "stdout",
          "text": [
            "Step: 352 \t Time: 628.7529242038727\n",
            "Shift: 0.06292869791984558\n",
            "Current State: 479    0.136578\n",
            "Name: f, dtype: float64\n"
          ]
        },
        {
          "output_type": "stream",
          "name": "stderr",
          "text": [
            "\r 88%|████████▊ | 352/400 [09:46<00:45,  1.04it/s]"
          ]
        },
        {
          "output_type": "stream",
          "name": "stdout",
          "text": [
            "Step: 353 \t Time: 629.6864845752716\n",
            "Shift: 0.06300210783481598\n",
            "Current State: 480    0.146169\n",
            "Name: f, dtype: float64\n"
          ]
        },
        {
          "output_type": "stream",
          "name": "stderr",
          "text": [
            "\r 88%|████████▊ | 353/400 [09:47<00:42,  1.10it/s]"
          ]
        },
        {
          "output_type": "stream",
          "name": "stdout",
          "text": [
            "Step: 354 \t Time: 630.4807119369507\n",
            "Shift: 0.06313680002689362\n",
            "Current State: 481    0.150564\n",
            "Name: f, dtype: float64\n"
          ]
        },
        {
          "output_type": "stream",
          "name": "stderr",
          "text": [
            "\r 88%|████████▊ | 354/400 [09:48<00:49,  1.07s/it]"
          ]
        },
        {
          "output_type": "stream",
          "name": "stdout",
          "text": [
            "Step: 355 \t Time: 631.9295079708099\n",
            "Shift: 0.06326413185596466\n",
            "Current State: 482    5.212451\n",
            "Name: f, dtype: float64\n"
          ]
        },
        {
          "output_type": "stream",
          "name": "stderr",
          "text": [
            "\r 89%|████████▉ | 355/400 [09:50<00:48,  1.08s/it]"
          ]
        },
        {
          "output_type": "stream",
          "name": "stdout",
          "text": [
            "Step: 356 \t Time: 633.0388598442078\n",
            "Shift: 0.06335506308078766\n",
            "Current State: 483    0.179441\n",
            "Name: f, dtype: float64\n"
          ]
        },
        {
          "output_type": "stream",
          "name": "stderr",
          "text": [
            "\r 89%|████████▉ | 356/400 [09:50<00:45,  1.03s/it]"
          ]
        },
        {
          "output_type": "stream",
          "name": "stdout",
          "text": [
            "Step: 357 \t Time: 633.9519662857056\n",
            "Shift: 0.06344626889228822\n",
            "Current State: 484    0.144584\n",
            "Name: f, dtype: float64\n"
          ]
        },
        {
          "output_type": "stream",
          "name": "stderr",
          "text": [
            "\r 89%|████████▉ | 357/400 [09:51<00:42,  1.00it/s]"
          ]
        },
        {
          "output_type": "stream",
          "name": "stdout",
          "text": [
            "Step: 358 \t Time: 634.8698575496674\n",
            "Shift: 0.0636058896780014\n",
            "Current State: 485    0.135867\n",
            "Name: f, dtype: float64\n"
          ]
        },
        {
          "output_type": "stream",
          "name": "stderr",
          "text": [
            "\r 90%|████████▉ | 358/400 [09:53<00:49,  1.18s/it]"
          ]
        },
        {
          "output_type": "stream",
          "name": "stdout",
          "text": [
            "Step: 359 \t Time: 636.4636929035187\n",
            "Shift: 0.06371162178516389\n",
            "Current State: 486    0.104431\n",
            "Name: f, dtype: float64\n"
          ]
        },
        {
          "output_type": "stream",
          "name": "stderr",
          "text": [
            "\r 90%|████████▉ | 359/400 [09:54<00:46,  1.14s/it]"
          ]
        },
        {
          "output_type": "stream",
          "name": "stdout",
          "text": [
            "Step: 360 \t Time: 637.5156733989716\n",
            "Shift: 0.06379873106479646\n",
            "Current State: 487    0.093065\n",
            "Name: f, dtype: float64\n"
          ]
        },
        {
          "output_type": "stream",
          "name": "stderr",
          "text": [
            "\r 90%|█████████ | 360/400 [09:55<00:42,  1.06s/it]"
          ]
        },
        {
          "output_type": "stream",
          "name": "stdout",
          "text": [
            "Step: 361 \t Time: 638.3870966434479\n",
            "Shift: 0.06388727016448975\n",
            "Current State: 488    0.075651\n",
            "Name: f, dtype: float64\n"
          ]
        },
        {
          "output_type": "stream",
          "name": "stderr",
          "text": [
            "\r 90%|█████████ | 361/400 [09:56<00:39,  1.01s/it]"
          ]
        },
        {
          "output_type": "stream",
          "name": "stdout",
          "text": [
            "Step: 362 \t Time: 639.2761776447296\n",
            "Shift: 0.06401980936527253\n",
            "Current State: 489    0.072397\n",
            "Name: f, dtype: float64\n"
          ]
        },
        {
          "output_type": "stream",
          "name": "stderr",
          "text": [
            "\r 90%|█████████ | 362/400 [09:57<00:41,  1.10s/it]"
          ]
        },
        {
          "output_type": "stream",
          "name": "stdout",
          "text": [
            "Step: 363 \t Time: 640.5933213233948\n",
            "Shift: 0.06410887880325318\n",
            "Current State: 490    0.096518\n",
            "Name: f, dtype: float64\n"
          ]
        },
        {
          "output_type": "stream",
          "name": "stderr",
          "text": [
            "\r 91%|█████████ | 363/400 [09:58<00:38,  1.04s/it]"
          ]
        },
        {
          "output_type": "stream",
          "name": "stdout",
          "text": [
            "Step: 364 \t Time: 641.497088432312\n",
            "Shift: 0.06419268805980682\n",
            "Current State: 491    0.070056\n",
            "Name: f, dtype: float64\n"
          ]
        },
        {
          "output_type": "stream",
          "name": "stderr",
          "text": [
            "\r 91%|█████████ | 364/400 [09:59<00:35,  1.02it/s]"
          ]
        },
        {
          "output_type": "stream",
          "name": "stdout",
          "text": [
            "Step: 365 \t Time: 642.3241584300995\n",
            "Shift: 0.064340220785141\n",
            "Current State: 492    0.095847\n",
            "Name: f, dtype: float64\n"
          ]
        },
        {
          "output_type": "stream",
          "name": "stderr",
          "text": [
            "\r 91%|█████████▏| 365/400 [10:00<00:40,  1.15s/it]"
          ]
        },
        {
          "output_type": "stream",
          "name": "stdout",
          "text": [
            "Step: 366 \t Time: 643.8866939544678\n",
            "Shift: 0.0644910216331482\n",
            "Current State: 493    0.055869\n",
            "Name: f, dtype: float64\n"
          ]
        },
        {
          "output_type": "stream",
          "name": "stderr",
          "text": [
            "\r 92%|█████████▏| 366/400 [10:02<00:42,  1.26s/it]"
          ]
        },
        {
          "output_type": "stream",
          "name": "stdout",
          "text": [
            "Step: 367 \t Time: 645.3835005760193\n",
            "Shift: 0.06459521424770355\n",
            "Current State: 494    0.06059\n",
            "Name: f, dtype: float64\n"
          ]
        },
        {
          "output_type": "stream",
          "name": "stderr",
          "text": [
            "\r 92%|█████████▏| 367/400 [10:03<00:38,  1.17s/it]"
          ]
        },
        {
          "output_type": "stream",
          "name": "stdout",
          "text": [
            "Step: 368 \t Time: 646.3618845939636\n",
            "Shift: 0.06466865003108979\n",
            "Current State: 495    9.40766\n",
            "Name: f, dtype: float64\n"
          ]
        },
        {
          "output_type": "stream",
          "name": "stderr",
          "text": [
            "\r 92%|█████████▏| 368/400 [10:04<00:33,  1.04s/it]"
          ]
        },
        {
          "output_type": "stream",
          "name": "stdout",
          "text": [
            "Step: 369 \t Time: 647.0995688438416\n",
            "Shift: 0.06476962435245515\n",
            "Current State: 496    0.080764\n",
            "Name: f, dtype: float64\n"
          ]
        },
        {
          "output_type": "stream",
          "name": "stderr",
          "text": [
            "\r 92%|█████████▏| 369/400 [10:05<00:32,  1.04s/it]"
          ]
        },
        {
          "output_type": "stream",
          "name": "stdout",
          "text": [
            "Step: 370 \t Time: 648.1189093589783\n",
            "Shift: 0.06486677083969117\n",
            "Current State: 497    0.042197\n",
            "Name: f, dtype: float64\n"
          ]
        },
        {
          "output_type": "stream",
          "name": "stderr",
          "text": [
            "\r 92%|█████████▎| 370/400 [10:06<00:30,  1.01s/it]"
          ]
        },
        {
          "output_type": "stream",
          "name": "stdout",
          "text": [
            "Step: 371 \t Time: 649.0801270008087\n",
            "Shift: 0.0649664342880249\n",
            "Current State: 498    0.081556\n",
            "Name: f, dtype: float64\n"
          ]
        },
        {
          "output_type": "stream",
          "name": "stderr",
          "text": [
            "\r 93%|█████████▎| 371/400 [10:07<00:29,  1.01s/it]"
          ]
        },
        {
          "output_type": "stream",
          "name": "stdout",
          "text": [
            "Step: 372 \t Time: 650.0728175640106\n",
            "Shift: 0.06505314455032349\n",
            "Current State: 499    0.061946\n",
            "Name: f, dtype: float64\n"
          ]
        },
        {
          "output_type": "stream",
          "name": "stderr",
          "text": [
            "\r 93%|█████████▎| 372/400 [10:07<00:26,  1.04it/s]"
          ]
        },
        {
          "output_type": "stream",
          "name": "stdout",
          "text": [
            "Step: 373 \t Time: 650.9263572692871\n",
            "Shift: 0.0651345857143402\n",
            "Current State: 500    0.107043\n",
            "Name: f, dtype: float64\n"
          ]
        },
        {
          "output_type": "stream",
          "name": "stderr",
          "text": [
            "\r 93%|█████████▎| 373/400 [10:08<00:24,  1.09it/s]"
          ]
        },
        {
          "output_type": "stream",
          "name": "stdout",
          "text": [
            "Step: 374 \t Time: 651.742329120636\n",
            "Shift: 0.06520654466152191\n",
            "Current State: 501    0.065432\n",
            "Name: f, dtype: float64\n"
          ]
        },
        {
          "output_type": "stream",
          "name": "stderr",
          "text": [
            "\r 94%|█████████▎| 374/400 [10:09<00:22,  1.16it/s]"
          ]
        },
        {
          "output_type": "stream",
          "name": "stdout",
          "text": [
            "Step: 375 \t Time: 652.466080904007\n",
            "Shift: 0.06527741987705231\n",
            "Current State: 502    0.101816\n",
            "Name: f, dtype: float64\n"
          ]
        },
        {
          "output_type": "stream",
          "name": "stderr",
          "text": [
            "\r 94%|█████████▍| 375/400 [10:10<00:20,  1.22it/s]"
          ]
        },
        {
          "output_type": "stream",
          "name": "stdout",
          "text": [
            "Step: 376 \t Time: 653.194568157196\n",
            "Shift: 0.06539689230918884\n",
            "Current State: 503    0.149535\n",
            "Name: f, dtype: float64\n"
          ]
        },
        {
          "output_type": "stream",
          "name": "stderr",
          "text": [
            "\r 94%|█████████▍| 376/400 [10:11<00:22,  1.08it/s]"
          ]
        },
        {
          "output_type": "stream",
          "name": "stdout",
          "text": [
            "Step: 377 \t Time: 654.3783922195435\n",
            "Shift: 0.06560760021209718\n",
            "Current State: 504    0.065342\n",
            "Name: f, dtype: float64\n"
          ]
        },
        {
          "output_type": "stream",
          "name": "stderr",
          "text": [
            "\r 94%|█████████▍| 377/400 [10:13<00:30,  1.33s/it]"
          ]
        },
        {
          "output_type": "stream",
          "name": "stdout",
          "text": [
            "Step: 378 \t Time: 656.6569662094116\n",
            "Shift: 0.06573761885166168\n",
            "Current State: 505    0.137152\n",
            "Name: f, dtype: float64\n"
          ]
        },
        {
          "output_type": "stream",
          "name": "stderr",
          "text": [
            "\r 94%|█████████▍| 378/400 [10:14<00:28,  1.29s/it]"
          ]
        },
        {
          "output_type": "stream",
          "name": "stdout",
          "text": [
            "Step: 379 \t Time: 657.8384971618652\n",
            "Shift: 0.06582896122932434\n",
            "Current State: 506    0.036524\n",
            "Name: f, dtype: float64\n"
          ]
        },
        {
          "output_type": "stream",
          "name": "stderr",
          "text": [
            "\r 95%|█████████▍| 379/400 [10:15<00:24,  1.16s/it]"
          ]
        },
        {
          "output_type": "stream",
          "name": "stdout",
          "text": [
            "Step: 380 \t Time: 658.7086548805237\n",
            "Shift: 0.06595213191509247\n",
            "Current State: 507    0.051122\n",
            "Name: f, dtype: float64\n"
          ]
        },
        {
          "output_type": "stream",
          "name": "stderr",
          "text": [
            "\r 95%|█████████▌| 380/400 [10:16<00:23,  1.18s/it]"
          ]
        },
        {
          "output_type": "stream",
          "name": "stdout",
          "text": [
            "Step: 381 \t Time: 659.9221305847168\n",
            "Shift: 0.06614845952987672\n",
            "Current State: 508    0.197509\n",
            "Name: f, dtype: float64\n"
          ]
        },
        {
          "output_type": "stream",
          "name": "stderr",
          "text": [
            "\r 95%|█████████▌| 381/400 [10:18<00:26,  1.41s/it]"
          ]
        },
        {
          "output_type": "stream",
          "name": "stdout",
          "text": [
            "Step: 382 \t Time: 661.8851382732391\n",
            "Shift: 0.06628713893890381\n",
            "Current State: 509    1.209974\n",
            "Name: f, dtype: float64\n"
          ]
        },
        {
          "output_type": "stream",
          "name": "stderr",
          "text": [
            "\r 96%|█████████▌| 382/400 [10:20<00:25,  1.41s/it]"
          ]
        },
        {
          "output_type": "stream",
          "name": "stdout",
          "text": [
            "Step: 383 \t Time: 663.2774028778076\n",
            "Shift: 0.06636556553840638\n",
            "Current State: 510    0.105457\n",
            "Name: f, dtype: float64\n"
          ]
        },
        {
          "output_type": "stream",
          "name": "stderr",
          "text": [
            "\r 96%|█████████▌| 383/400 [10:21<00:20,  1.22s/it]"
          ]
        },
        {
          "output_type": "stream",
          "name": "stdout",
          "text": [
            "Step: 384 \t Time: 664.0540075302124\n",
            "Shift: 0.06645441155433655\n",
            "Current State: 511    0.079777\n",
            "Name: f, dtype: float64\n"
          ]
        },
        {
          "output_type": "stream",
          "name": "stderr",
          "text": [
            "\r 96%|█████████▌| 384/400 [10:21<00:17,  1.12s/it]"
          ]
        },
        {
          "output_type": "stream",
          "name": "stdout",
          "text": [
            "Step: 385 \t Time: 664.9445924758911\n",
            "Shift: 0.06654241514205933\n",
            "Current State: 512    0.061537\n",
            "Name: f, dtype: float64\n"
          ]
        },
        {
          "output_type": "stream",
          "name": "stderr",
          "text": [
            "\r 96%|█████████▋| 385/400 [10:22<00:15,  1.05s/it]"
          ]
        },
        {
          "output_type": "stream",
          "name": "stdout",
          "text": [
            "Step: 386 \t Time: 665.8483657836914\n",
            "Shift: 0.06670151145458222\n",
            "Current State: 513    0.065164\n",
            "Name: f, dtype: float64\n"
          ]
        },
        {
          "output_type": "stream",
          "name": "stderr",
          "text": [
            "\r 96%|█████████▋| 386/400 [10:24<00:16,  1.21s/it]"
          ]
        },
        {
          "output_type": "stream",
          "name": "stdout",
          "text": [
            "Step: 387 \t Time: 667.4261486530304\n",
            "Shift: 0.06684377088546753\n",
            "Current State: 514    0.065484\n",
            "Name: f, dtype: float64\n"
          ]
        },
        {
          "output_type": "stream",
          "name": "stderr",
          "text": [
            "\r 97%|█████████▋| 387/400 [10:25<00:17,  1.31s/it]"
          ]
        },
        {
          "output_type": "stream",
          "name": "stdout",
          "text": [
            "Step: 388 \t Time: 668.9592187404633\n",
            "Shift: 0.06696821460723877\n",
            "Current State: 515    0.09138\n",
            "Name: f, dtype: float64\n"
          ]
        },
        {
          "output_type": "stream",
          "name": "stderr",
          "text": [
            "\r 97%|█████████▋| 388/400 [10:27<00:15,  1.29s/it]"
          ]
        },
        {
          "output_type": "stream",
          "name": "stdout",
          "text": [
            "Step: 389 \t Time: 670.2182803153992\n",
            "Shift: 0.06706954712867737\n",
            "Current State: 516    0.061981\n",
            "Name: f, dtype: float64\n"
          ]
        },
        {
          "output_type": "stream",
          "name": "stderr",
          "text": [
            "\r 97%|█████████▋| 389/400 [10:28<00:12,  1.17s/it]"
          ]
        },
        {
          "output_type": "stream",
          "name": "stdout",
          "text": [
            "Step: 390 \t Time: 671.1034309864044\n",
            "Shift: 0.06714025778770447\n",
            "Current State: 517    5.417732\n",
            "Name: f, dtype: float64\n"
          ]
        },
        {
          "output_type": "stream",
          "name": "stderr",
          "text": [
            "\r 98%|█████████▊| 390/400 [10:28<00:10,  1.03s/it]"
          ]
        },
        {
          "output_type": "stream",
          "name": "stdout",
          "text": [
            "Step: 391 \t Time: 671.8197138309479\n",
            "Shift: 0.06722889790534974\n",
            "Current State: 518    1.346074\n",
            "Name: f, dtype: float64\n"
          ]
        },
        {
          "output_type": "stream",
          "name": "stderr",
          "text": [
            "\r 98%|█████████▊| 391/400 [10:29<00:08,  1.01it/s]"
          ]
        },
        {
          "output_type": "stream",
          "name": "stdout",
          "text": [
            "Step: 392 \t Time: 672.7059469223022\n",
            "Shift: 0.06744566125869751\n",
            "Current State: 519    0.095482\n",
            "Name: f, dtype: float64\n"
          ]
        },
        {
          "output_type": "stream",
          "name": "stderr",
          "text": [
            "\r 98%|█████████▊| 392/400 [10:31<00:10,  1.34s/it]"
          ]
        },
        {
          "output_type": "stream",
          "name": "stdout",
          "text": [
            "Step: 393 \t Time: 674.8563258647919\n",
            "Shift: 0.06753765256404877\n",
            "Current State: 520    2.318293\n",
            "Name: f, dtype: float64\n"
          ]
        },
        {
          "output_type": "stream",
          "name": "stderr",
          "text": [
            "\r 98%|█████████▊| 393/400 [10:32<00:08,  1.21s/it]"
          ]
        },
        {
          "output_type": "stream",
          "name": "stdout",
          "text": [
            "Step: 394 \t Time: 675.7810685634613\n",
            "Shift: 0.0676830738067627\n",
            "Current State: 521    0.119584\n",
            "Name: f, dtype: float64\n"
          ]
        },
        {
          "output_type": "stream",
          "name": "stderr",
          "text": [
            "\r 98%|█████████▊| 394/400 [10:34<00:07,  1.29s/it]"
          ]
        },
        {
          "output_type": "stream",
          "name": "stdout",
          "text": [
            "Step: 395 \t Time: 677.2633144855499\n",
            "Shift: 0.06775812757015229\n",
            "Current State: 522    0.117409\n",
            "Name: f, dtype: float64\n"
          ]
        },
        {
          "output_type": "stream",
          "name": "stderr",
          "text": [
            "\r 99%|█████████▉| 395/400 [10:34<00:05,  1.12s/it]"
          ]
        },
        {
          "output_type": "stream",
          "name": "stdout",
          "text": [
            "Step: 396 \t Time: 677.9904346466064\n",
            "Shift: 0.06784175517559052\n",
            "Current State: 523    0.116152\n",
            "Name: f, dtype: float64\n"
          ]
        },
        {
          "output_type": "stream",
          "name": "stderr",
          "text": [
            "\r 99%|█████████▉| 396/400 [10:35<00:04,  1.04s/it]"
          ]
        },
        {
          "output_type": "stream",
          "name": "stdout",
          "text": [
            "Step: 397 \t Time: 678.8213431835175\n",
            "Shift: 0.06792195634841919\n",
            "Current State: 524    11.323407\n",
            "Name: f, dtype: float64\n"
          ]
        },
        {
          "output_type": "stream",
          "name": "stderr",
          "text": [
            "\r 99%|█████████▉| 397/400 [10:36<00:02,  1.03it/s]"
          ]
        },
        {
          "output_type": "stream",
          "name": "stdout",
          "text": [
            "Step: 398 \t Time: 679.6290278434753\n",
            "Shift: 0.06799719314575195\n",
            "Current State: 525    0.130773\n",
            "Name: f, dtype: float64\n"
          ]
        },
        {
          "output_type": "stream",
          "name": "stderr",
          "text": [
            "\r100%|█████████▉| 398/400 [10:37<00:01,  1.07it/s]"
          ]
        },
        {
          "output_type": "stream",
          "name": "stdout",
          "text": [
            "Step: 399 \t Time: 680.4811692237854\n",
            "Shift: 0.06815268223285675\n",
            "Current State: 526    0.13947\n",
            "Name: f, dtype: float64\n"
          ]
        },
        {
          "output_type": "stream",
          "name": "stderr",
          "text": [
            "\r100%|█████████▉| 399/400 [10:39<00:01,  1.13s/it]"
          ]
        },
        {
          "output_type": "stream",
          "name": "stdout",
          "text": [
            "Step: 400 \t Time: 682.0691950321198\n",
            "Shift: 0.06828055212497712\n",
            "Current State: 527    0.158659\n",
            "Name: f, dtype: float64\n"
          ]
        },
        {
          "output_type": "stream",
          "name": "stderr",
          "text": [
            "100%|██████████| 400/400 [10:40<00:00,  1.60s/it]\n"
          ]
        }
      ]
    },
    {
      "cell_type": "code",
      "source": [
        "y1 = X.data[\"f\"]\n",
        "fig = plt.figure(figsize=(20,8))\n",
        "\n",
        "ax1 = fig.add_subplot(1,2,1)\n",
        "y1_maxs = np.minimum.accumulate(y1)\n",
        "ax1.plot(y1, 'ok')\n",
        "ax1.plot(y1_maxs, 'k')\n",
        "#plt.hlines(1, 0, len(y1_maxs), linestyles=\"dotted\")\n",
        "ax1.vlines(196, 0, 20, linestyles=\"dashed\")\n",
        "ax1.hlines(2, 0, len(y1), linestyles=\"dotted\")\n",
        "ax1.set_ylabel(\"BPE \\n(microns)\")\n",
        "ax1.set_xlabel(\"Sample #\")\n",
        "ax1.set_ylim(-0.1, 15)\n",
        "\n",
        "\n",
        "a=[0, len(y1)]\n",
        "b=[0, 3.26]\n",
        "for i in range(0, len(a), 2):\n",
        "    ax1.plot(a[i:i+2], b[i:i+2], 'ro-')\n",
        "\n",
        "ax2 = fig.add_subplot(1,2,2)\n",
        "ax2.hist(y1[196:], density=True, bins=[0, 1, 2, 3, 4, 5, 6, 7, 8, 9, 10, 11, 12, 13, 14, 15, 16, 17, 18, 19, 20], facecolor='gray', alpha=0.75)\n",
        "ax2.set_ylabel(\"Scaled Frequency of Samples\")\n",
        "ax2.set_xlabel(\"BPE \\n(microns)\")\n",
        "ax2.grid()\n",
        "#plt.savefig(f'AnisotropicDriftCorrection_TDBO.png', dpi=200)\n",
        "plt.show()"
      ],
      "metadata": {
        "colab": {
          "base_uri": "https://localhost:8080/",
          "height": 679
        },
        "id": "hE_YJsD2WseL",
        "outputId": "ff903a2c-65af-46fd-9ce6-211205073a51"
      },
      "execution_count": 25,
      "outputs": [
        {
          "output_type": "display_data",
          "data": {
            "text/plain": [
              "<Figure size 2000x800 with 2 Axes>"
            ],
            "image/png": "[encoded data removed]"
          },
          "metadata": {}
        }
      ]
    },
    {
      "cell_type": "code",
      "source": [
        "X.data.to_csv('history.csv', index=False)"
      ],
      "metadata": {
        "id": "v3drNID9mwgA"
      },
      "execution_count": null,
      "outputs": []
    }
  ]
}
{
  "cells": [
    {
      "cell_type": "code",
      "execution_count": 1,
      "metadata": {
        "colab": {
          "base_uri": "https://localhost:8080/"
        },
        "id": "vPNCZEmnC4WQ",
        "outputId": "688ce5d9-e0da-4569-e359-becc19041ec0"
      },
      "outputs": [
        {
          "output_type": "stream",
          "name": "stdout",
          "text": [
            "Cloning into 'lcls_beamline_toolbox'...\n",
            "remote: Enumerating objects: 3287, done.\u001b[K\n",
            "remote: Counting objects: 100% (558/558), done.\u001b[K\n",
            "remote: Compressing objects: 100% (193/193), done.\u001b[K\n",
            "remote: Total 3287 (delta 487), reused 427 (delta 365), pack-reused 2729\u001b[K\n",
            "Receiving objects: 100% (3287/3287), 232.16 MiB | 11.43 MiB/s, done.\n",
            "Resolving deltas: 100% (2537/2537), done.\n",
            "Updating files: 100% (144/144), done.\n"
          ]
        }
      ],
      "source": [
        "!git clone https://github.com/mseaberg/lcls_beamline_toolbox #https://github.com/aashwinmishra/lcls_beamline_optimization"
      ]
    },
    {
      "cell_type": "code",
      "execution_count": 2,
      "metadata": {
        "colab": {
          "base_uri": "https://localhost:8080/"
        },
        "id": "GLGDSO8kYynb",
        "outputId": "ac49e9df-98fc-4536-88d4-51ffa7e307ab"
      },
      "outputs": [
        {
          "output_type": "stream",
          "name": "stdout",
          "text": [
            "Obtaining file:///content/lcls_beamline_toolbox\n",
            "  Preparing metadata (setup.py) ... \u001b[?25l\u001b[?25hdone\n",
            "Requirement already satisfied: numpy>=1.17 in /usr/local/lib/python3.10/dist-packages (from lcls-beamline-toolbox==0.0.1) (1.25.2)\n",
            "Requirement already satisfied: scipy>=1.4.1 in /usr/local/lib/python3.10/dist-packages (from lcls-beamline-toolbox==0.0.1) (1.11.4)\n",
            "Requirement already satisfied: matplotlib>=3.2.1 in /usr/local/lib/python3.10/dist-packages (from lcls-beamline-toolbox==0.0.1) (3.7.1)\n",
            "Collecting jupyter>=1.0.0 (from lcls-beamline-toolbox==0.0.1)\n",
            "  Downloading jupyter-1.0.0-py2.py3-none-any.whl (2.7 kB)\n",
            "Requirement already satisfied: scikit-image>=0.16.2 in /usr/local/lib/python3.10/dist-packages (from lcls-beamline-toolbox==0.0.1) (0.19.3)\n",
            "Collecting xrt (from lcls-beamline-toolbox==0.0.1)\n",
            "  Downloading xrt-1.6.0.zip (11.7 MB)\n",
            "\u001b[2K     \u001b[90m━━━━━━━━━━━━━━━━━━━━━━━━━━━━━━━━━━━━━━━━\u001b[0m \u001b[32m11.7/11.7 MB\u001b[0m \u001b[31m27.6 MB/s\u001b[0m eta \u001b[36m0:00:00\u001b[0m\n",
            "\u001b[?25h  Preparing metadata (setup.py) ... \u001b[?25l\u001b[?25hdone\n",
            "Requirement already satisfied: notebook in /usr/local/lib/python3.10/dist-packages (from jupyter>=1.0.0->lcls-beamline-toolbox==0.0.1) (6.5.5)\n",
            "Collecting qtconsole (from jupyter>=1.0.0->lcls-beamline-toolbox==0.0.1)\n",
            "  Downloading qtconsole-5.5.2-py3-none-any.whl (123 kB)\n",
            "\u001b[2K     \u001b[90m━━━━━━━━━━━━━━━━━━━━━━━━━━━━━━━━━━━━━━━━\u001b[0m \u001b[32m123.4/123.4 kB\u001b[0m \u001b[31m13.8 MB/s\u001b[0m eta \u001b[36m0:00:00\u001b[0m\n",
            "\u001b[?25hRequirement already satisfied: jupyter-console in /usr/local/lib/python3.10/dist-packages (from jupyter>=1.0.0->lcls-beamline-toolbox==0.0.1) (6.1.0)\n",
            "Requirement already satisfied: nbconvert in /usr/local/lib/python3.10/dist-packages (from jupyter>=1.0.0->lcls-beamline-toolbox==0.0.1) (6.5.4)\n",
            "Requirement already satisfied: ipykernel in /usr/local/lib/python3.10/dist-packages (from jupyter>=1.0.0->lcls-beamline-toolbox==0.0.1) (5.5.6)\n",
            "Requirement already satisfied: ipywidgets in /usr/local/lib/python3.10/dist-packages (from jupyter>=1.0.0->lcls-beamline-toolbox==0.0.1) (7.7.1)\n",
            "Requirement already satisfied: contourpy>=1.0.1 in /usr/local/lib/python3.10/dist-packages (from matplotlib>=3.2.1->lcls-beamline-toolbox==0.0.1) (1.2.1)\n",
            "Requirement already satisfied: cycler>=0.10 in /usr/local/lib/python3.10/dist-packages (from matplotlib>=3.2.1->lcls-beamline-toolbox==0.0.1) (0.12.1)\n",
            "Requirement already satisfied: fonttools>=4.22.0 in /usr/local/lib/python3.10/dist-packages (from matplotlib>=3.2.1->lcls-beamline-toolbox==0.0.1) (4.51.0)\n",
            "Requirement already satisfied: kiwisolver>=1.0.1 in /usr/local/lib/python3.10/dist-packages (from matplotlib>=3.2.1->lcls-beamline-toolbox==0.0.1) (1.4.5)\n",
            "Requirement already satisfied: packaging>=20.0 in /usr/local/lib/python3.10/dist-packages (from matplotlib>=3.2.1->lcls-beamline-toolbox==0.0.1) (24.0)\n",
            "Requirement already satisfied: pillow>=6.2.0 in /usr/local/lib/python3.10/dist-packages (from matplotlib>=3.2.1->lcls-beamline-toolbox==0.0.1) (9.4.0)\n",
            "Requirement already satisfied: pyparsing>=2.3.1 in /usr/local/lib/python3.10/dist-packages (from matplotlib>=3.2.1->lcls-beamline-toolbox==0.0.1) (3.1.2)\n",
            "Requirement already satisfied: python-dateutil>=2.7 in /usr/local/lib/python3.10/dist-packages (from matplotlib>=3.2.1->lcls-beamline-toolbox==0.0.1) (2.8.2)\n",
            "Requirement already satisfied: networkx>=2.2 in /usr/local/lib/python3.10/dist-packages (from scikit-image>=0.16.2->lcls-beamline-toolbox==0.0.1) (3.3)\n",
            "Requirement already satisfied: imageio>=2.4.1 in /usr/local/lib/python3.10/dist-packages (from scikit-image>=0.16.2->lcls-beamline-toolbox==0.0.1) (2.31.6)\n",
            "Requirement already satisfied: tifffile>=2019.7.26 in /usr/local/lib/python3.10/dist-packages (from scikit-image>=0.16.2->lcls-beamline-toolbox==0.0.1) (2024.5.22)\n",
            "Requirement already satisfied: PyWavelets>=1.1.1 in /usr/local/lib/python3.10/dist-packages (from scikit-image>=0.16.2->lcls-beamline-toolbox==0.0.1) (1.6.0)\n",
            "Requirement already satisfied: sphinx>=1.6.2 in /usr/local/lib/python3.10/dist-packages (from xrt->lcls-beamline-toolbox==0.0.1) (5.0.2)\n",
            "Collecting sphinxcontrib-jquery (from xrt->lcls-beamline-toolbox==0.0.1)\n",
            "  Downloading sphinxcontrib_jquery-4.1-py2.py3-none-any.whl (121 kB)\n",
            "\u001b[2K     \u001b[90m━━━━━━━━━━━━━━━━━━━━━━━━━━━━━━━━━━━━━━━━\u001b[0m \u001b[32m121.1/121.1 kB\u001b[0m \u001b[31m15.0 MB/s\u001b[0m eta \u001b[36m0:00:00\u001b[0m\n",
            "\u001b[?25hRequirement already satisfied: distro in /usr/lib/python3/dist-packages (from xrt->lcls-beamline-toolbox==0.0.1) (1.7.0)\n",
            "Collecting colorama (from xrt->lcls-beamline-toolbox==0.0.1)\n",
            "  Downloading colorama-0.4.6-py2.py3-none-any.whl (25 kB)\n",
            "Requirement already satisfied: six>=1.5 in /usr/local/lib/python3.10/dist-packages (from python-dateutil>=2.7->matplotlib>=3.2.1->lcls-beamline-toolbox==0.0.1) (1.16.0)\n",
            "Requirement already satisfied: sphinxcontrib-applehelp in /usr/local/lib/python3.10/dist-packages (from sphinx>=1.6.2->xrt->lcls-beamline-toolbox==0.0.1) (1.0.8)\n",
            "Requirement already satisfied: sphinxcontrib-devhelp in /usr/local/lib/python3.10/dist-packages (from sphinx>=1.6.2->xrt->lcls-beamline-toolbox==0.0.1) (1.0.6)\n",
            "Requirement already satisfied: sphinxcontrib-jsmath in /usr/local/lib/python3.10/dist-packages (from sphinx>=1.6.2->xrt->lcls-beamline-toolbox==0.0.1) (1.0.1)\n",
            "Requirement already satisfied: sphinxcontrib-htmlhelp>=2.0.0 in /usr/local/lib/python3.10/dist-packages (from sphinx>=1.6.2->xrt->lcls-beamline-toolbox==0.0.1) (2.0.5)\n",
            "Requirement already satisfied: sphinxcontrib-serializinghtml>=1.1.5 in /usr/local/lib/python3.10/dist-packages (from sphinx>=1.6.2->xrt->lcls-beamline-toolbox==0.0.1) (1.1.10)\n",
            "Requirement already satisfied: sphinxcontrib-qthelp in /usr/local/lib/python3.10/dist-packages (from sphinx>=1.6.2->xrt->lcls-beamline-toolbox==0.0.1) (1.0.7)\n",
            "Requirement already satisfied: Jinja2>=2.3 in /usr/local/lib/python3.10/dist-packages (from sphinx>=1.6.2->xrt->lcls-beamline-toolbox==0.0.1) (3.1.4)\n",
            "Requirement already satisfied: Pygments>=2.0 in /usr/local/lib/python3.10/dist-packages (from sphinx>=1.6.2->xrt->lcls-beamline-toolbox==0.0.1) (2.16.1)\n",
            "Requirement already satisfied: docutils<0.19,>=0.14 in /usr/local/lib/python3.10/dist-packages (from sphinx>=1.6.2->xrt->lcls-beamline-toolbox==0.0.1) (0.18.1)\n",
            "Requirement already satisfied: snowballstemmer>=1.1 in /usr/local/lib/python3.10/dist-packages (from sphinx>=1.6.2->xrt->lcls-beamline-toolbox==0.0.1) (2.2.0)\n",
            "Requirement already satisfied: babel>=1.3 in /usr/local/lib/python3.10/dist-packages (from sphinx>=1.6.2->xrt->lcls-beamline-toolbox==0.0.1) (2.15.0)\n",
            "Requirement already satisfied: alabaster<0.8,>=0.7 in /usr/local/lib/python3.10/dist-packages (from sphinx>=1.6.2->xrt->lcls-beamline-toolbox==0.0.1) (0.7.16)\n",
            "Requirement already satisfied: imagesize in /usr/local/lib/python3.10/dist-packages (from sphinx>=1.6.2->xrt->lcls-beamline-toolbox==0.0.1) (1.4.1)\n",
            "Requirement already satisfied: requests>=2.5.0 in /usr/local/lib/python3.10/dist-packages (from sphinx>=1.6.2->xrt->lcls-beamline-toolbox==0.0.1) (2.31.0)\n",
            "Requirement already satisfied: ipython-genutils in /usr/local/lib/python3.10/dist-packages (from ipykernel->jupyter>=1.0.0->lcls-beamline-toolbox==0.0.1) (0.2.0)\n",
            "Requirement already satisfied: ipython>=5.0.0 in /usr/local/lib/python3.10/dist-packages (from ipykernel->jupyter>=1.0.0->lcls-beamline-toolbox==0.0.1) (7.34.0)\n",
            "Requirement already satisfied: traitlets>=4.1.0 in /usr/local/lib/python3.10/dist-packages (from ipykernel->jupyter>=1.0.0->lcls-beamline-toolbox==0.0.1) (5.7.1)\n",
            "Requirement already satisfied: jupyter-client in /usr/local/lib/python3.10/dist-packages (from ipykernel->jupyter>=1.0.0->lcls-beamline-toolbox==0.0.1) (6.1.12)\n",
            "Requirement already satisfied: tornado>=4.2 in /usr/local/lib/python3.10/dist-packages (from ipykernel->jupyter>=1.0.0->lcls-beamline-toolbox==0.0.1) (6.3.3)\n",
            "Requirement already satisfied: widgetsnbextension~=3.6.0 in /usr/local/lib/python3.10/dist-packages (from ipywidgets->jupyter>=1.0.0->lcls-beamline-toolbox==0.0.1) (3.6.6)\n",
            "Requirement already satisfied: jupyterlab-widgets>=1.0.0 in /usr/local/lib/python3.10/dist-packages (from ipywidgets->jupyter>=1.0.0->lcls-beamline-toolbox==0.0.1) (3.0.10)\n",
            "Requirement already satisfied: prompt-toolkit!=3.0.0,!=3.0.1,<3.1.0,>=2.0.0 in /usr/local/lib/python3.10/dist-packages (from jupyter-console->jupyter>=1.0.0->lcls-beamline-toolbox==0.0.1) (3.0.43)\n",
            "Requirement already satisfied: lxml in /usr/local/lib/python3.10/dist-packages (from nbconvert->jupyter>=1.0.0->lcls-beamline-toolbox==0.0.1) (4.9.4)\n",
            "Requirement already satisfied: beautifulsoup4 in /usr/local/lib/python3.10/dist-packages (from nbconvert->jupyter>=1.0.0->lcls-beamline-toolbox==0.0.1) (4.12.3)\n",
            "Requirement already satisfied: bleach in /usr/local/lib/python3.10/dist-packages (from nbconvert->jupyter>=1.0.0->lcls-beamline-toolbox==0.0.1) (6.1.0)\n",
            "Requirement already satisfied: defusedxml in /usr/local/lib/python3.10/dist-packages (from nbconvert->jupyter>=1.0.0->lcls-beamline-toolbox==0.0.1) (0.7.1)\n",
            "Requirement already satisfied: entrypoints>=0.2.2 in /usr/local/lib/python3.10/dist-packages (from nbconvert->jupyter>=1.0.0->lcls-beamline-toolbox==0.0.1) (0.4)\n",
            "Requirement already satisfied: jupyter-core>=4.7 in /usr/local/lib/python3.10/dist-packages (from nbconvert->jupyter>=1.0.0->lcls-beamline-toolbox==0.0.1) (5.7.2)\n",
            "Requirement already satisfied: jupyterlab-pygments in /usr/local/lib/python3.10/dist-packages (from nbconvert->jupyter>=1.0.0->lcls-beamline-toolbox==0.0.1) (0.3.0)\n",
            "Requirement already satisfied: MarkupSafe>=2.0 in /usr/local/lib/python3.10/dist-packages (from nbconvert->jupyter>=1.0.0->lcls-beamline-toolbox==0.0.1) (2.1.5)\n",
            "Requirement already satisfied: mistune<2,>=0.8.1 in /usr/local/lib/python3.10/dist-packages (from nbconvert->jupyter>=1.0.0->lcls-beamline-toolbox==0.0.1) (0.8.4)\n",
            "Requirement already satisfied: nbclient>=0.5.0 in /usr/local/lib/python3.10/dist-packages (from nbconvert->jupyter>=1.0.0->lcls-beamline-toolbox==0.0.1) (0.10.0)\n",
            "Requirement already satisfied: nbformat>=5.1 in /usr/local/lib/python3.10/dist-packages (from nbconvert->jupyter>=1.0.0->lcls-beamline-toolbox==0.0.1) (5.10.4)\n",
            "Requirement already satisfied: pandocfilters>=1.4.1 in /usr/local/lib/python3.10/dist-packages (from nbconvert->jupyter>=1.0.0->lcls-beamline-toolbox==0.0.1) (1.5.1)\n",
            "Requirement already satisfied: tinycss2 in /usr/local/lib/python3.10/dist-packages (from nbconvert->jupyter>=1.0.0->lcls-beamline-toolbox==0.0.1) (1.3.0)\n",
            "Requirement already satisfied: pyzmq<25,>=17 in /usr/local/lib/python3.10/dist-packages (from notebook->jupyter>=1.0.0->lcls-beamline-toolbox==0.0.1) (24.0.1)\n",
            "Requirement already satisfied: argon2-cffi in /usr/local/lib/python3.10/dist-packages (from notebook->jupyter>=1.0.0->lcls-beamline-toolbox==0.0.1) (23.1.0)\n",
            "Requirement already satisfied: nest-asyncio>=1.5 in /usr/local/lib/python3.10/dist-packages (from notebook->jupyter>=1.0.0->lcls-beamline-toolbox==0.0.1) (1.6.0)\n",
            "Requirement already satisfied: Send2Trash>=1.8.0 in /usr/local/lib/python3.10/dist-packages (from notebook->jupyter>=1.0.0->lcls-beamline-toolbox==0.0.1) (1.8.3)\n",
            "Requirement already satisfied: terminado>=0.8.3 in /usr/local/lib/python3.10/dist-packages (from notebook->jupyter>=1.0.0->lcls-beamline-toolbox==0.0.1) (0.18.1)\n",
            "Requirement already satisfied: prometheus-client in /usr/local/lib/python3.10/dist-packages (from notebook->jupyter>=1.0.0->lcls-beamline-toolbox==0.0.1) (0.20.0)\n",
            "Requirement already satisfied: nbclassic>=0.4.7 in /usr/local/lib/python3.10/dist-packages (from notebook->jupyter>=1.0.0->lcls-beamline-toolbox==0.0.1) (1.0.0)\n",
            "Collecting qtpy>=2.4.0 (from qtconsole->jupyter>=1.0.0->lcls-beamline-toolbox==0.0.1)\n",
            "  Downloading QtPy-2.4.1-py3-none-any.whl (93 kB)\n",
            "\u001b[2K     \u001b[90m━━━━━━━━━━━━━━━━━━━━━━━━━━━━━━━━━━━━━━━━\u001b[0m \u001b[32m93.5/93.5 kB\u001b[0m \u001b[31m459.8 kB/s\u001b[0m eta \u001b[36m0:00:00\u001b[0m\n",
            "\u001b[?25hRequirement already satisfied: setuptools>=18.5 in /usr/local/lib/python3.10/dist-packages (from ipython>=5.0.0->ipykernel->jupyter>=1.0.0->lcls-beamline-toolbox==0.0.1) (67.7.2)\n",
            "Collecting jedi>=0.16 (from ipython>=5.0.0->ipykernel->jupyter>=1.0.0->lcls-beamline-toolbox==0.0.1)\n",
            "  Downloading jedi-0.19.1-py2.py3-none-any.whl (1.6 MB)\n",
            "\u001b[2K     \u001b[90m━━━━━━━━━━━━━━━━━━━━━━━━━━━━━━━━━━━━━━━━\u001b[0m \u001b[32m1.6/1.6 MB\u001b[0m \u001b[31m54.4 MB/s\u001b[0m eta \u001b[36m0:00:00\u001b[0m\n",
            "\u001b[?25hRequirement already satisfied: decorator in /usr/local/lib/python3.10/dist-packages (from ipython>=5.0.0->ipykernel->jupyter>=1.0.0->lcls-beamline-toolbox==0.0.1) (4.4.2)\n",
            "Requirement already satisfied: pickleshare in /usr/local/lib/python3.10/dist-packages (from ipython>=5.0.0->ipykernel->jupyter>=1.0.0->lcls-beamline-toolbox==0.0.1) (0.7.5)\n",
            "Requirement already satisfied: backcall in /usr/local/lib/python3.10/dist-packages (from ipython>=5.0.0->ipykernel->jupyter>=1.0.0->lcls-beamline-toolbox==0.0.1) (0.2.0)\n",
            "Requirement already satisfied: matplotlib-inline in /usr/local/lib/python3.10/dist-packages (from ipython>=5.0.0->ipykernel->jupyter>=1.0.0->lcls-beamline-toolbox==0.0.1) (0.1.7)\n",
            "Requirement already satisfied: pexpect>4.3 in /usr/local/lib/python3.10/dist-packages (from ipython>=5.0.0->ipykernel->jupyter>=1.0.0->lcls-beamline-toolbox==0.0.1) (4.9.0)\n",
            "Requirement already satisfied: platformdirs>=2.5 in /usr/local/lib/python3.10/dist-packages (from jupyter-core>=4.7->nbconvert->jupyter>=1.0.0->lcls-beamline-toolbox==0.0.1) (4.2.2)\n",
            "Requirement already satisfied: jupyter-server>=1.8 in /usr/local/lib/python3.10/dist-packages (from nbclassic>=0.4.7->notebook->jupyter>=1.0.0->lcls-beamline-toolbox==0.0.1) (1.24.0)\n",
            "Requirement already satisfied: notebook-shim>=0.2.3 in /usr/local/lib/python3.10/dist-packages (from nbclassic>=0.4.7->notebook->jupyter>=1.0.0->lcls-beamline-toolbox==0.0.1) (0.2.4)\n",
            "Requirement already satisfied: fastjsonschema>=2.15 in /usr/local/lib/python3.10/dist-packages (from nbformat>=5.1->nbconvert->jupyter>=1.0.0->lcls-beamline-toolbox==0.0.1) (2.19.1)\n",
            "Requirement already satisfied: jsonschema>=2.6 in /usr/local/lib/python3.10/dist-packages (from nbformat>=5.1->nbconvert->jupyter>=1.0.0->lcls-beamline-toolbox==0.0.1) (4.19.2)\n",
            "Requirement already satisfied: wcwidth in /usr/local/lib/python3.10/dist-packages (from prompt-toolkit!=3.0.0,!=3.0.1,<3.1.0,>=2.0.0->jupyter-console->jupyter>=1.0.0->lcls-beamline-toolbox==0.0.1) (0.2.13)\n",
            "Requirement already satisfied: charset-normalizer<4,>=2 in /usr/local/lib/python3.10/dist-packages (from requests>=2.5.0->sphinx>=1.6.2->xrt->lcls-beamline-toolbox==0.0.1) (3.3.2)\n",
            "Requirement already satisfied: idna<4,>=2.5 in /usr/local/lib/python3.10/dist-packages (from requests>=2.5.0->sphinx>=1.6.2->xrt->lcls-beamline-toolbox==0.0.1) (3.7)\n",
            "Requirement already satisfied: urllib3<3,>=1.21.1 in /usr/local/lib/python3.10/dist-packages (from requests>=2.5.0->sphinx>=1.6.2->xrt->lcls-beamline-toolbox==0.0.1) (2.0.7)\n",
            "Requirement already satisfied: certifi>=2017.4.17 in /usr/local/lib/python3.10/dist-packages (from requests>=2.5.0->sphinx>=1.6.2->xrt->lcls-beamline-toolbox==0.0.1) (2024.2.2)\n",
            "Requirement already satisfied: ptyprocess in /usr/local/lib/python3.10/dist-packages (from terminado>=0.8.3->notebook->jupyter>=1.0.0->lcls-beamline-toolbox==0.0.1) (0.7.0)\n",
            "Requirement already satisfied: argon2-cffi-bindings in /usr/local/lib/python3.10/dist-packages (from argon2-cffi->notebook->jupyter>=1.0.0->lcls-beamline-toolbox==0.0.1) (21.2.0)\n",
            "Requirement already satisfied: soupsieve>1.2 in /usr/local/lib/python3.10/dist-packages (from beautifulsoup4->nbconvert->jupyter>=1.0.0->lcls-beamline-toolbox==0.0.1) (2.5)\n",
            "Requirement already satisfied: webencodings in /usr/local/lib/python3.10/dist-packages (from bleach->nbconvert->jupyter>=1.0.0->lcls-beamline-toolbox==0.0.1) (0.5.1)\n",
            "Requirement already satisfied: parso<0.9.0,>=0.8.3 in /usr/local/lib/python3.10/dist-packages (from jedi>=0.16->ipython>=5.0.0->ipykernel->jupyter>=1.0.0->lcls-beamline-toolbox==0.0.1) (0.8.4)\n",
            "Requirement already satisfied: attrs>=22.2.0 in /usr/local/lib/python3.10/dist-packages (from jsonschema>=2.6->nbformat>=5.1->nbconvert->jupyter>=1.0.0->lcls-beamline-toolbox==0.0.1) (23.2.0)\n",
            "Requirement already satisfied: jsonschema-specifications>=2023.03.6 in /usr/local/lib/python3.10/dist-packages (from jsonschema>=2.6->nbformat>=5.1->nbconvert->jupyter>=1.0.0->lcls-beamline-toolbox==0.0.1) (2023.12.1)\n",
            "Requirement already satisfied: referencing>=0.28.4 in /usr/local/lib/python3.10/dist-packages (from jsonschema>=2.6->nbformat>=5.1->nbconvert->jupyter>=1.0.0->lcls-beamline-toolbox==0.0.1) (0.35.1)\n",
            "Requirement already satisfied: rpds-py>=0.7.1 in /usr/local/lib/python3.10/dist-packages (from jsonschema>=2.6->nbformat>=5.1->nbconvert->jupyter>=1.0.0->lcls-beamline-toolbox==0.0.1) (0.18.1)\n",
            "Requirement already satisfied: anyio<4,>=3.1.0 in /usr/local/lib/python3.10/dist-packages (from jupyter-server>=1.8->nbclassic>=0.4.7->notebook->jupyter>=1.0.0->lcls-beamline-toolbox==0.0.1) (3.7.1)\n",
            "Requirement already satisfied: websocket-client in /usr/local/lib/python3.10/dist-packages (from jupyter-server>=1.8->nbclassic>=0.4.7->notebook->jupyter>=1.0.0->lcls-beamline-toolbox==0.0.1) (1.8.0)\n",
            "Requirement already satisfied: cffi>=1.0.1 in /usr/local/lib/python3.10/dist-packages (from argon2-cffi-bindings->argon2-cffi->notebook->jupyter>=1.0.0->lcls-beamline-toolbox==0.0.1) (1.16.0)\n",
            "Requirement already satisfied: sniffio>=1.1 in /usr/local/lib/python3.10/dist-packages (from anyio<4,>=3.1.0->jupyter-server>=1.8->nbclassic>=0.4.7->notebook->jupyter>=1.0.0->lcls-beamline-toolbox==0.0.1) (1.3.1)\n",
            "Requirement already satisfied: exceptiongroup in /usr/local/lib/python3.10/dist-packages (from anyio<4,>=3.1.0->jupyter-server>=1.8->nbclassic>=0.4.7->notebook->jupyter>=1.0.0->lcls-beamline-toolbox==0.0.1) (1.2.1)\n",
            "Requirement already satisfied: pycparser in /usr/local/lib/python3.10/dist-packages (from cffi>=1.0.1->argon2-cffi-bindings->argon2-cffi->notebook->jupyter>=1.0.0->lcls-beamline-toolbox==0.0.1) (2.22)\n",
            "Building wheels for collected packages: xrt\n",
            "  Building wheel for xrt (setup.py) ... \u001b[?25l\u001b[?25hdone\n",
            "  Created wheel for xrt: filename=xrt-1.6.0-py3-none-any.whl size=5455911 sha256=0693800062913e7c5d32a0ac06f80f16c0da058167fc20a767f30ab0eac4287d\n",
            "  Stored in directory: /root/.cache/pip/wheels/1c/47/52/d81d20e573b667bde10001744414b40202bef04daae4b2081d\n",
            "Successfully built xrt\n",
            "Installing collected packages: qtpy, jedi, colorama, sphinxcontrib-jquery, xrt, qtconsole, jupyter, lcls-beamline-toolbox\n",
            "  Running setup.py develop for lcls-beamline-toolbox\n",
            "Successfully installed colorama-0.4.6 jedi-0.19.1 jupyter-1.0.0 lcls-beamline-toolbox qtconsole-5.5.2 qtpy-2.4.1 sphinxcontrib-jquery-4.1 xrt-1.6.0\n",
            "\u001b[2K     \u001b[90m━━━━━━━━━━━━━━━━━━━━━━━━━━━━━━━━━━━━━━━━\u001b[0m \u001b[32m3.9/3.9 MB\u001b[0m \u001b[31m35.1 MB/s\u001b[0m eta \u001b[36m0:00:00\u001b[0m\n",
            "\u001b[2K     \u001b[90m━━━━━━━━━━━━━━━━━━━━━━━━━━━━━━━━━━━━━━━━\u001b[0m \u001b[32m4.1/4.1 MB\u001b[0m \u001b[31m14.9 MB/s\u001b[0m eta \u001b[36m0:00:00\u001b[0m\n",
            "\u001b[2K     \u001b[90m━━━━━━━━━━━━━━━━━━━━━━━━━━━━━━━━━━━━━━━━\u001b[0m \u001b[32m249.1/249.1 kB\u001b[0m \u001b[31m14.4 MB/s\u001b[0m eta \u001b[36m0:00:00\u001b[0m\n",
            "\u001b[2K     \u001b[90m━━━━━━━━━━━━━━━━━━━━━━━━━━━━━━━━━━━━━━━━\u001b[0m \u001b[32m76.0/76.0 kB\u001b[0m \u001b[31m7.9 MB/s\u001b[0m eta \u001b[36m0:00:00\u001b[0m\n",
            "\u001b[2K     \u001b[90m━━━━━━━━━━━━━━━━━━━━━━━━━━━━━━━━━━━━━━━━\u001b[0m \u001b[32m116.3/116.3 kB\u001b[0m \u001b[31m10.3 MB/s\u001b[0m eta \u001b[36m0:00:00\u001b[0m\n",
            "\u001b[2K     \u001b[90m━━━━━━━━━━━━━━━━━━━━━━━━━━━━━━━━━━━━━━━━\u001b[0m \u001b[32m207.3/207.3 kB\u001b[0m \u001b[31m17.7 MB/s\u001b[0m eta \u001b[36m0:00:00\u001b[0m\n",
            "\u001b[?25h  Preparing metadata (setup.py) ... \u001b[?25l\u001b[?25hdone\n",
            "  Building wheel for grapheme (setup.py) ... \u001b[?25l\u001b[?25hdone\n"
          ]
        }
      ],
      "source": [
        "import os\n",
        "os.chdir('lcls_beamline_toolbox')\n",
        "!python3 -m pip install -e .\n",
        "!pip install xraydb -q\n",
        "!pip install pymoo -q"
      ]
    },
    {
      "cell_type": "code",
      "execution_count": 3,
      "metadata": {
        "id": "mc87jE2OC9GY"
      },
      "outputs": [],
      "source": [
        "import numpy as np\n",
        "import pandas as pd\n",
        "import matplotlib.pyplot as plt\n",
        "import lcls_beamline_toolbox.xraywavetrace.beam1d as beam\n",
        "import lcls_beamline_toolbox.xraywavetrace.optics1d as optics\n",
        "import lcls_beamline_toolbox.xraywavetrace.beamline1d as beamline\n",
        "import scipy.optimize as optimize\n",
        "import copy\n",
        "import scipy.spatial.transform as transform\n",
        "from split_and_delay import SND\n",
        "\n",
        "import torch\n",
        "\n",
        "\n",
        "import warnings\n",
        "warnings.filterwarnings(\"ignore\")\n",
        "\n",
        "\n",
        "\n",
        "from pymoo.core.problem import ElementwiseProblem\n",
        "\n",
        "from pymoo.algorithms.moo.nsga2 import NSGA2\n",
        "from pymoo.operators.crossover.sbx import SBX\n",
        "from pymoo.operators.mutation.pm import PM\n",
        "from pymoo.operators.sampling.rnd import FloatRandomSampling\n",
        "from pymoo.termination import get_termination\n",
        "\n",
        "from pymoo.optimize import minimize\n",
        "\n",
        "from pymoo.indicators.hv import Hypervolume"
      ]
    },
    {
      "cell_type": "code",
      "execution_count": 4,
      "metadata": {
        "id": "sULnym9-EER7"
      },
      "outputs": [],
      "source": [
        "def get_snd_outputs(inputs):\n",
        "  \"\"\"\n",
        "  Study 1 Objective function. Takes an [n, 8] dim np array of\n",
        "  [samples, ( t1_th1, t1_th2, chi1, chi2, t4_th1, t4_th2, chi1, chi2)].\n",
        "  The entries lie in the uniform unit interval.\n",
        "  They are scaled to lie in [-100e-6, +100e-6].\n",
        "  Returns a torch tensor of dim [n, 2] of\n",
        "  [samples, (do_sum_objective, IP_r_objective)]\n",
        "  \"\"\"\n",
        "  inputs = inputs*200e-6 - 100e-6\n",
        "  inputs = inputs.reshape(1,-1)\n",
        "  result = []\n",
        "\n",
        "  for x in inputs:\n",
        "    snd = SND(9500)\n",
        "    x = np.array(x)\n",
        "\n",
        "    snd.mvr_t1_th1(x[0])\n",
        "    snd.mvr_t1_th2(x[1])\n",
        "    snd.mvr_t1_chi1(x[2])#not in study 1\n",
        "    snd.mvr_t1_chi2(x[3])#not in study 1\n",
        "    snd.mvr_t4_th1(x[4])\n",
        "    snd.mvr_t4_th2(x[5])\n",
        "    snd.mvr_t4_chi1(x[6])#not in study 1\n",
        "    snd.mvr_t4_chi2(x[7])#not in study 1\n",
        "\n",
        "    # snd.mvr_t1_th1(x[0])\n",
        "    # snd.mvr_t1_th2(x[1])\n",
        "    # snd.mvr_t4_th1(x[2])\n",
        "    # snd.mvr_t4_th2(x[3])\n",
        "\n",
        "    snd.propagate_delay()\n",
        "\n",
        "    dh1 = snd.get_t1_dh_sum()\n",
        "    dd = snd.get_dd_sum()\n",
        "    dh4 = snd.get_t4_dh_sum()\n",
        "    do = snd.get_do_sum()\n",
        "    my_IP_sum = snd.get_IP_sum()\n",
        "    my_intensity = dh1 + dd + dh4 + do #+ my_IP_sum\n",
        "\n",
        "    do_centroid = snd.get_IP_r()\n",
        "    do_centroid_x = snd.get_IP_cx()\n",
        "    do_centroid_y = snd.get_IP_cy()\n",
        "\n",
        "\n",
        "\n",
        "    result.append([(my_intensity)/(62186.2678), np.log(np.abs(do_centroid_x))/(-16.86781883239746), np.log(np.abs(do_centroid_y))/(-17.84674644470215)])\n",
        "    del snd\n",
        "  return np.array(result)"
      ]
    },
    {
      "cell_type": "code",
      "source": [],
      "metadata": {
        "id": "gYQSfjsstL2x"
      },
      "execution_count": 4,
      "outputs": []
    },
    {
      "cell_type": "code",
      "source": [],
      "metadata": {
        "id": "XEIRNG0MALUZ"
      },
      "execution_count": null,
      "outputs": []
    },
    {
      "cell_type": "code",
      "source": [
        "class MyProblem(ElementwiseProblem):\n",
        "  def __init__(self):\n",
        "    super().__init__(n_var=8,\n",
        "                      n_obj=2,\n",
        "                      n_ieq_constr=0,\n",
        "                      xl=np.zeros(8),\n",
        "                      xu=np.ones(8))\n",
        "\n",
        "  def _evaluate(self, x, out, *args, **kwargs):\n",
        "    f1, f2, f3 = get_snd_outputs(x).squeeze()\n",
        "\n",
        "    out[\"F\"] = [-f1, -f2]\n",
        "    # out[\"G\"] = [g1, g2]"
      ],
      "metadata": {
        "id": "XEWA7H26G7nB"
      },
      "execution_count": 5,
      "outputs": []
    },
    {
      "cell_type": "code",
      "source": [
        "problem = MyProblem()"
      ],
      "metadata": {
        "id": "QP5YRDv2Hxr1"
      },
      "execution_count": 6,
      "outputs": []
    },
    {
      "cell_type": "code",
      "source": [
        "algorithm = NSGA2(\n",
        "    pop_size=100,\n",
        "    n_offsprings=50,\n",
        "    sampling=FloatRandomSampling(),\n",
        "    crossover=SBX(prob=0.9, eta=15),\n",
        "    mutation=PM(eta=20),\n",
        "    eliminate_duplicates=True\n",
        ")"
      ],
      "metadata": {
        "id": "qdqtFUAIHxw5"
      },
      "execution_count": 7,
      "outputs": []
    },
    {
      "cell_type": "code",
      "source": [
        "termination = get_termination(\"n_gen\", 100)"
      ],
      "metadata": {
        "id": "WQMrI9YfHx1C"
      },
      "execution_count": 8,
      "outputs": []
    },
    {
      "cell_type": "code",
      "source": [
        "res = minimize(problem,\n",
        "               algorithm,\n",
        "               termination,\n",
        "               seed=1,\n",
        "               save_history=True,\n",
        "               verbose=True)"
      ],
      "metadata": {
        "colab": {
          "base_uri": "https://localhost:8080/"
        },
        "id": "vyHxg2ZLHx5r",
        "outputId": "bb69b397-a16f-4dc3-e7ad-3c670b37f5cb"
      },
      "execution_count": 9,
      "outputs": [
        {
          "output_type": "stream",
          "name": "stdout",
          "text": [
            "==========================================================\n",
            "n_gen  |  n_eval  | n_nds  |      eps      |   indicator  \n",
            "==========================================================\n",
            "     1 |      100 |      2 |             - |             -\n",
            "     2 |      150 |      3 |  0.0673684752 |         ideal\n",
            "     3 |      200 |      2 |  0.6651830430 |         ideal\n",
            "     4 |      250 |      4 |  0.0110984053 |         nadir\n",
            "     5 |      300 |      5 |  0.1097507761 |         ideal\n",
            "     6 |      350 |      5 |  0.0885686696 |         ideal\n",
            "     7 |      400 |      6 |  0.0818002004 |         ideal\n",
            "     8 |      450 |      2 |  0.9232757643 |         ideal\n",
            "     9 |      500 |      3 |  0.1251635636 |             f\n",
            "    10 |      550 |      3 |  0.000000E+00 |             f\n",
            "    11 |      600 |      2 |  0.1903994891 |         ideal\n",
            "    12 |      650 |      3 |  0.1416800938 |         ideal\n",
            "    13 |      700 |      5 |  0.1799498007 |             f\n",
            "    14 |      750 |      6 |  0.0011936203 |             f\n",
            "    15 |      800 |      8 |  0.0216804370 |             f\n",
            "    16 |      850 |      6 |  0.0239529247 |             f\n",
            "    17 |      900 |      6 |  0.0353386655 |             f\n",
            "    18 |      950 |      9 |  0.0817812250 |         ideal\n",
            "    19 |     1000 |      8 |  0.1399752550 |         ideal\n",
            "    20 |     1050 |     11 |  0.0161291983 |             f\n",
            "    21 |     1100 |      9 |  0.0207345237 |             f\n",
            "    22 |     1150 |      8 |  0.0242829824 |         ideal\n",
            "    23 |     1200 |      8 |  0.000000E+00 |             f\n",
            "    24 |     1250 |      8 |  0.000000E+00 |             f\n",
            "    25 |     1300 |      7 |  0.0820915888 |         ideal\n",
            "    26 |     1350 |      8 |  0.0023272151 |             f\n",
            "    27 |     1400 |      8 |  0.0070768017 |             f\n",
            "    28 |     1450 |      9 |  0.0244986314 |             f\n",
            "    29 |     1500 |     10 |  0.4279340766 |         ideal\n",
            "    30 |     1550 |     10 |  0.0197800823 |             f\n",
            "    31 |     1600 |     12 |  0.0084156036 |             f\n",
            "    32 |     1650 |     10 |  0.0487630081 |             f\n",
            "    33 |     1700 |      9 |  0.0128818795 |             f\n",
            "    34 |     1750 |      8 |  0.0103157483 |             f\n",
            "    35 |     1800 |      5 |  0.0034564555 |         ideal\n",
            "    36 |     1850 |      8 |  0.0379363770 |             f\n",
            "    37 |     1900 |      9 |  0.0060755050 |             f\n",
            "    38 |     1950 |      7 |  0.0659517108 |             f\n",
            "    39 |     2000 |      8 |  0.1201497640 |         ideal\n",
            "    40 |     2050 |      8 |  0.000000E+00 |             f\n",
            "    41 |     2100 |      9 |  0.0000394030 |             f\n",
            "    42 |     2150 |      9 |  0.0081147614 |             f\n",
            "    43 |     2200 |     10 |  0.2090738218 |         nadir\n",
            "    44 |     2250 |     10 |  0.0051699838 |             f\n",
            "    45 |     2300 |     10 |  0.0130319858 |             f\n",
            "    46 |     2350 |     11 |  0.0031820296 |             f\n",
            "    47 |     2400 |     11 |  0.000000E+00 |             f\n",
            "    48 |     2450 |     10 |  0.0091822973 |             f\n",
            "    49 |     2500 |     11 |  0.0110753270 |             f\n",
            "    50 |     2550 |     13 |  0.0023524960 |             f\n",
            "    51 |     2600 |     13 |  0.0039124465 |             f\n",
            "    52 |     2650 |      7 |  0.3415653829 |         nadir\n",
            "    53 |     2700 |      9 |  0.0321244501 |         ideal\n",
            "    54 |     2750 |      9 |  0.0330329144 |         ideal\n",
            "    55 |     2800 |     10 |  0.0081193893 |             f\n",
            "    56 |     2850 |     11 |  0.2645289175 |         nadir\n",
            "    57 |     2900 |     13 |  0.0066518663 |             f\n",
            "    58 |     2950 |      8 |  1.4905878585 |         nadir\n",
            "    59 |     3000 |      8 |  0.0042761472 |         ideal\n",
            "    60 |     3050 |      9 |  0.0008167972 |             f\n",
            "    61 |     3100 |     10 |  0.0009593385 |             f\n",
            "    62 |     3150 |     10 |  0.0009593385 |             f\n",
            "    63 |     3200 |     10 |  0.0009593385 |             f\n",
            "    64 |     3250 |      6 |  0.2237208602 |         ideal\n",
            "    65 |     3300 |      9 |  0.0389756149 |         ideal\n",
            "    66 |     3350 |     10 |  0.0020555243 |             f\n",
            "    67 |     3400 |     10 |  0.0020555243 |             f\n",
            "    68 |     3450 |      5 |  0.0597777333 |             f\n",
            "    69 |     3500 |      5 |  0.2137590746 |         ideal\n",
            "    70 |     3550 |      5 |  0.000000E+00 |             f\n",
            "    71 |     3600 |      6 |  0.0092626327 |             f\n",
            "    72 |     3650 |      6 |  0.000000E+00 |             f\n",
            "    73 |     3700 |      5 |  0.3309030191 |         ideal\n",
            "    74 |     3750 |      5 |  0.000000E+00 |             f\n",
            "    75 |     3800 |      6 |  0.0878818416 |             f\n",
            "    76 |     3850 |      7 |  0.2849834638 |         ideal\n",
            "    77 |     3900 |      7 |  0.000000E+00 |             f\n",
            "    78 |     3950 |      8 |  0.0369518785 |             f\n",
            "    79 |     4000 |      9 |  0.0512342310 |             f\n",
            "    80 |     4050 |     11 |  0.0079633096 |             f\n",
            "    81 |     4100 |     11 |  0.0239405367 |         ideal\n",
            "    82 |     4150 |     13 |  0.0124976812 |             f\n",
            "    83 |     4200 |     15 |  0.0793290490 |         ideal\n",
            "    84 |     4250 |     15 |  0.0139938808 |             f\n",
            "    85 |     4300 |     15 |  0.000000E+00 |             f\n",
            "    86 |     4350 |     15 |  0.0044052298 |         ideal\n",
            "    87 |     4400 |     16 |  0.0136723620 |             f\n",
            "    88 |     4450 |     12 |  0.1041081102 |         ideal\n",
            "    89 |     4500 |      9 |  0.0160951315 |             f\n",
            "    90 |     4550 |      9 |  0.000000E+00 |             f\n",
            "    91 |     4600 |     11 |  0.0088838984 |             f\n",
            "    92 |     4650 |     11 |  0.000000E+00 |             f\n",
            "    93 |     4700 |     12 |  0.0281000014 |         ideal\n",
            "    94 |     4750 |     12 |  0.000000E+00 |             f\n",
            "    95 |     4800 |     13 |  0.0001194389 |             f\n",
            "    96 |     4850 |     12 |  0.0029621744 |             f\n",
            "    97 |     4900 |     14 |  0.0139016855 |             f\n",
            "    98 |     4950 |     18 |  0.0110060526 |             f\n",
            "    99 |     5000 |     16 |  0.0084184216 |             f\n",
            "   100 |     5050 |     16 |  0.000000E+00 |             f\n"
          ]
        }
      ]
    },
    {
      "cell_type": "code",
      "source": [
        "X = res.X\n",
        "F = res.F"
      ],
      "metadata": {
        "id": "s8eEp5ENHx-f"
      },
      "execution_count": 10,
      "outputs": []
    },
    {
      "cell_type": "code",
      "source": [
        "plt.figure(figsize=(7, 5))\n",
        "plt.scatter(-F[:, 0], -F[:, 1], s=30, facecolors='none', edgecolors='blue')\n",
        "plt.xlabel(\"Intensity\")\n",
        "plt.ylabel(\"BPE X\")\n",
        "plt.title(\"Objective Space\")\n",
        "plt.grid()\n",
        "plt.show()"
      ],
      "metadata": {
        "colab": {
          "base_uri": "https://localhost:8080/",
          "height": 487
        },
        "id": "wJklQN1tIip9",
        "outputId": "b87995d5-fe60-4d4d-8fdb-a4103b9a8c3f"
      },
      "execution_count": 11,
      "outputs": [
        {
          "output_type": "display_data",
          "data": {
            "text/plain": [
              "<Figure size 700x500 with 1 Axes>"
            ],
            "image/png": "[encoded data removed]"
          },
          "metadata": {}
        }
      ]
    },
    {
      "cell_type": "code",
      "source": [
        "X.shape"
      ],
      "metadata": {
        "colab": {
          "base_uri": "https://localhost:8080/"
        },
        "id": "p4Cr8RtaIjEj",
        "outputId": "9f16a438-86a7-435b-de09-5ff9e536fb75"
      },
      "execution_count": 12,
      "outputs": [
        {
          "output_type": "execute_result",
          "data": {
            "text/plain": [
              "(16, 8)"
            ]
          },
          "metadata": {},
          "execution_count": 12
        }
      ]
    },
    {
      "cell_type": "code",
      "source": [
        "for x in X:\n",
        "  print(get_snd_outputs(x))"
      ],
      "metadata": {
        "colab": {
          "base_uri": "https://localhost:8080/"
        },
        "id": "-AY6ZYVUIjKi",
        "outputId": "2b83f017-d89d-48dd-f34a-9c5f0853fcb2"
      },
      "execution_count": 13,
      "outputs": [
        {
          "output_type": "stream",
          "name": "stdout",
          "text": [
            "[[0.95155629 0.68769399 0.47074873]]\n",
            "[[0.94656674 0.96383163 0.46484405]]\n",
            "[[0.93838997 1.36883244 0.49161806]]\n",
            "[[0.94927965 0.72487643 0.46541709]]\n",
            "[[0.9515374  0.69013391 0.47079768]]\n",
            "[[0.94613047 1.05718054 0.67854835]]\n",
            "[[0.95193696 0.68687793 0.46552813]]\n",
            "[[0.94881321 0.73089905 0.47056681]]\n",
            "[[0.95145784 0.69026162 0.47099462]]\n",
            "[[0.94817615 0.75946093 0.46497876]]\n",
            "[[0.93980441 1.11800678 0.48362672]]\n",
            "[[0.95011833 0.6916542  0.46509152]]\n",
            "[[0.94811086 0.78434352 0.4648943 ]]\n",
            "[[0.93946757 1.12437229 0.51046906]]\n",
            "[[0.94561907 1.08407977 0.69109984]]\n",
            "[[0.94757649 0.94383498 0.46772621]]\n"
          ]
        }
      ]
    },
    {
      "cell_type": "code",
      "source": [],
      "metadata": {
        "id": "-R0VZAw3Den5"
      },
      "execution_count": null,
      "outputs": []
    }
  ],
  "metadata": {
    "colab": {
      "provenance": [],
      "authorship_tag": "ABX9TyMZKPaEn8QtC86Y+2nTCiNG"
    },
    "kernelspec": {
      "display_name": "Python 3",
      "name": "python3"
    },
    "language_info": {
      "name": "python"
    }
  },
  "nbformat": 4,
  "nbformat_minor": 0
}
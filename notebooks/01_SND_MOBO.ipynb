{
  "cells": [
    {
      "cell_type": "code",
      "execution_count": 1,
      "metadata": {
        "colab": {
          "base_uri": "https://localhost:8080/"
        },
        "id": "vPNCZEmnC4WQ",
        "outputId": "371fbe26-e808-4ca9-c883-ce3a4eda5196"
      },
      "outputs": [
        {
          "output_type": "stream",
          "name": "stdout",
          "text": [
            "Cloning into 'lcls_beamline_toolbox'...\n",
            "remote: Enumerating objects: 3287, done.\u001b[K\n",
            "remote: Counting objects: 100% (558/558), done.\u001b[K\n",
            "remote: Compressing objects: 100% (193/193), done.\u001b[K\n",
            "remote: Total 3287 (delta 487), reused 427 (delta 365), pack-reused 2729\u001b[K\n",
            "Receiving objects: 100% (3287/3287), 232.16 MiB | 13.04 MiB/s, done.\n",
            "Resolving deltas: 100% (2537/2537), done.\n",
            "Updating files: 100% (144/144), done.\n"
          ]
        }
      ],
      "source": [
        "!git clone https://github.com/mseaberg/lcls_beamline_toolbox #https://github.com/aashwinmishra/lcls_beamline_optimization"
      ]
    },
    {
      "cell_type": "code",
      "execution_count": 2,
      "metadata": {
        "colab": {
          "base_uri": "https://localhost:8080/"
        },
        "id": "GLGDSO8kYynb",
        "outputId": "91ce2dc6-8f05-4097-d72e-59808188e65e"
      },
      "outputs": [
        {
          "output_type": "stream",
          "name": "stdout",
          "text": [
            "Obtaining file:///content/lcls_beamline_toolbox\n",
            "  Preparing metadata (setup.py) ... \u001b[?25l\u001b[?25hdone\n",
            "Requirement already satisfied: numpy>=1.17 in /usr/local/lib/python3.10/dist-packages (from lcls-beamline-toolbox==0.0.1) (1.25.2)\n",
            "Requirement already satisfied: scipy>=1.4.1 in /usr/local/lib/python3.10/dist-packages (from lcls-beamline-toolbox==0.0.1) (1.11.4)\n",
            "Requirement already satisfied: matplotlib>=3.2.1 in /usr/local/lib/python3.10/dist-packages (from lcls-beamline-toolbox==0.0.1) (3.7.1)\n",
            "Collecting jupyter>=1.0.0 (from lcls-beamline-toolbox==0.0.1)\n",
            "  Downloading jupyter-1.0.0-py2.py3-none-any.whl (2.7 kB)\n",
            "Requirement already satisfied: scikit-image>=0.16.2 in /usr/local/lib/python3.10/dist-packages (from lcls-beamline-toolbox==0.0.1) (0.19.3)\n",
            "Collecting xrt (from lcls-beamline-toolbox==0.0.1)\n",
            "  Downloading xrt-1.6.0.zip (11.7 MB)\n",
            "\u001b[2K     \u001b[90m━━━━━━━━━━━━━━━━━━━━━━━━━━━━━━━━━━━━━━━━\u001b[0m \u001b[32m11.7/11.7 MB\u001b[0m \u001b[31m11.8 MB/s\u001b[0m eta \u001b[36m0:00:00\u001b[0m\n",
            "\u001b[?25h  Preparing metadata (setup.py) ... \u001b[?25l\u001b[?25hdone\n",
            "Requirement already satisfied: notebook in /usr/local/lib/python3.10/dist-packages (from jupyter>=1.0.0->lcls-beamline-toolbox==0.0.1) (6.5.5)\n",
            "Collecting qtconsole (from jupyter>=1.0.0->lcls-beamline-toolbox==0.0.1)\n",
            "  Downloading qtconsole-5.5.2-py3-none-any.whl (123 kB)\n",
            "\u001b[2K     \u001b[90m━━━━━━━━━━━━━━━━━━━━━━━━━━━━━━━━━━━━━━━━\u001b[0m \u001b[32m123.4/123.4 kB\u001b[0m \u001b[31m14.0 MB/s\u001b[0m eta \u001b[36m0:00:00\u001b[0m\n",
            "\u001b[?25hRequirement already satisfied: jupyter-console in /usr/local/lib/python3.10/dist-packages (from jupyter>=1.0.0->lcls-beamline-toolbox==0.0.1) (6.1.0)\n",
            "Requirement already satisfied: nbconvert in /usr/local/lib/python3.10/dist-packages (from jupyter>=1.0.0->lcls-beamline-toolbox==0.0.1) (6.5.4)\n",
            "Requirement already satisfied: ipykernel in /usr/local/lib/python3.10/dist-packages (from jupyter>=1.0.0->lcls-beamline-toolbox==0.0.1) (5.5.6)\n",
            "Requirement already satisfied: ipywidgets in /usr/local/lib/python3.10/dist-packages (from jupyter>=1.0.0->lcls-beamline-toolbox==0.0.1) (7.7.1)\n",
            "Requirement already satisfied: contourpy>=1.0.1 in /usr/local/lib/python3.10/dist-packages (from matplotlib>=3.2.1->lcls-beamline-toolbox==0.0.1) (1.2.1)\n",
            "Requirement already satisfied: cycler>=0.10 in /usr/local/lib/python3.10/dist-packages (from matplotlib>=3.2.1->lcls-beamline-toolbox==0.0.1) (0.12.1)\n",
            "Requirement already satisfied: fonttools>=4.22.0 in /usr/local/lib/python3.10/dist-packages (from matplotlib>=3.2.1->lcls-beamline-toolbox==0.0.1) (4.51.0)\n",
            "Requirement already satisfied: kiwisolver>=1.0.1 in /usr/local/lib/python3.10/dist-packages (from matplotlib>=3.2.1->lcls-beamline-toolbox==0.0.1) (1.4.5)\n",
            "Requirement already satisfied: packaging>=20.0 in /usr/local/lib/python3.10/dist-packages (from matplotlib>=3.2.1->lcls-beamline-toolbox==0.0.1) (24.0)\n",
            "Requirement already satisfied: pillow>=6.2.0 in /usr/local/lib/python3.10/dist-packages (from matplotlib>=3.2.1->lcls-beamline-toolbox==0.0.1) (9.4.0)\n",
            "Requirement already satisfied: pyparsing>=2.3.1 in /usr/local/lib/python3.10/dist-packages (from matplotlib>=3.2.1->lcls-beamline-toolbox==0.0.1) (3.1.2)\n",
            "Requirement already satisfied: python-dateutil>=2.7 in /usr/local/lib/python3.10/dist-packages (from matplotlib>=3.2.1->lcls-beamline-toolbox==0.0.1) (2.8.2)\n",
            "Requirement already satisfied: networkx>=2.2 in /usr/local/lib/python3.10/dist-packages (from scikit-image>=0.16.2->lcls-beamline-toolbox==0.0.1) (3.3)\n",
            "Requirement already satisfied: imageio>=2.4.1 in /usr/local/lib/python3.10/dist-packages (from scikit-image>=0.16.2->lcls-beamline-toolbox==0.0.1) (2.31.6)\n",
            "Requirement already satisfied: tifffile>=2019.7.26 in /usr/local/lib/python3.10/dist-packages (from scikit-image>=0.16.2->lcls-beamline-toolbox==0.0.1) (2024.5.22)\n",
            "Requirement already satisfied: PyWavelets>=1.1.1 in /usr/local/lib/python3.10/dist-packages (from scikit-image>=0.16.2->lcls-beamline-toolbox==0.0.1) (1.6.0)\n",
            "Requirement already satisfied: sphinx>=1.6.2 in /usr/local/lib/python3.10/dist-packages (from xrt->lcls-beamline-toolbox==0.0.1) (5.0.2)\n",
            "Collecting sphinxcontrib-jquery (from xrt->lcls-beamline-toolbox==0.0.1)\n",
            "  Downloading sphinxcontrib_jquery-4.1-py2.py3-none-any.whl (121 kB)\n",
            "\u001b[2K     \u001b[90m━━━━━━━━━━━━━━━━━━━━━━━━━━━━━━━━━━━━━━━━\u001b[0m \u001b[32m121.1/121.1 kB\u001b[0m \u001b[31m13.9 MB/s\u001b[0m eta \u001b[36m0:00:00\u001b[0m\n",
            "\u001b[?25hRequirement already satisfied: distro in /usr/lib/python3/dist-packages (from xrt->lcls-beamline-toolbox==0.0.1) (1.7.0)\n",
            "Collecting colorama (from xrt->lcls-beamline-toolbox==0.0.1)\n",
            "  Downloading colorama-0.4.6-py2.py3-none-any.whl (25 kB)\n",
            "Requirement already satisfied: six>=1.5 in /usr/local/lib/python3.10/dist-packages (from python-dateutil>=2.7->matplotlib>=3.2.1->lcls-beamline-toolbox==0.0.1) (1.16.0)\n",
            "Requirement already satisfied: sphinxcontrib-applehelp in /usr/local/lib/python3.10/dist-packages (from sphinx>=1.6.2->xrt->lcls-beamline-toolbox==0.0.1) (1.0.8)\n",
            "Requirement already satisfied: sphinxcontrib-devhelp in /usr/local/lib/python3.10/dist-packages (from sphinx>=1.6.2->xrt->lcls-beamline-toolbox==0.0.1) (1.0.6)\n",
            "Requirement already satisfied: sphinxcontrib-jsmath in /usr/local/lib/python3.10/dist-packages (from sphinx>=1.6.2->xrt->lcls-beamline-toolbox==0.0.1) (1.0.1)\n",
            "Requirement already satisfied: sphinxcontrib-htmlhelp>=2.0.0 in /usr/local/lib/python3.10/dist-packages (from sphinx>=1.6.2->xrt->lcls-beamline-toolbox==0.0.1) (2.0.5)\n",
            "Requirement already satisfied: sphinxcontrib-serializinghtml>=1.1.5 in /usr/local/lib/python3.10/dist-packages (from sphinx>=1.6.2->xrt->lcls-beamline-toolbox==0.0.1) (1.1.10)\n",
            "Requirement already satisfied: sphinxcontrib-qthelp in /usr/local/lib/python3.10/dist-packages (from sphinx>=1.6.2->xrt->lcls-beamline-toolbox==0.0.1) (1.0.7)\n",
            "Requirement already satisfied: Jinja2>=2.3 in /usr/local/lib/python3.10/dist-packages (from sphinx>=1.6.2->xrt->lcls-beamline-toolbox==0.0.1) (3.1.4)\n",
            "Requirement already satisfied: Pygments>=2.0 in /usr/local/lib/python3.10/dist-packages (from sphinx>=1.6.2->xrt->lcls-beamline-toolbox==0.0.1) (2.16.1)\n",
            "Requirement already satisfied: docutils<0.19,>=0.14 in /usr/local/lib/python3.10/dist-packages (from sphinx>=1.6.2->xrt->lcls-beamline-toolbox==0.0.1) (0.18.1)\n",
            "Requirement already satisfied: snowballstemmer>=1.1 in /usr/local/lib/python3.10/dist-packages (from sphinx>=1.6.2->xrt->lcls-beamline-toolbox==0.0.1) (2.2.0)\n",
            "Requirement already satisfied: babel>=1.3 in /usr/local/lib/python3.10/dist-packages (from sphinx>=1.6.2->xrt->lcls-beamline-toolbox==0.0.1) (2.15.0)\n",
            "Requirement already satisfied: alabaster<0.8,>=0.7 in /usr/local/lib/python3.10/dist-packages (from sphinx>=1.6.2->xrt->lcls-beamline-toolbox==0.0.1) (0.7.16)\n",
            "Requirement already satisfied: imagesize in /usr/local/lib/python3.10/dist-packages (from sphinx>=1.6.2->xrt->lcls-beamline-toolbox==0.0.1) (1.4.1)\n",
            "Requirement already satisfied: requests>=2.5.0 in /usr/local/lib/python3.10/dist-packages (from sphinx>=1.6.2->xrt->lcls-beamline-toolbox==0.0.1) (2.31.0)\n",
            "Requirement already satisfied: ipython-genutils in /usr/local/lib/python3.10/dist-packages (from ipykernel->jupyter>=1.0.0->lcls-beamline-toolbox==0.0.1) (0.2.0)\n",
            "Requirement already satisfied: ipython>=5.0.0 in /usr/local/lib/python3.10/dist-packages (from ipykernel->jupyter>=1.0.0->lcls-beamline-toolbox==0.0.1) (7.34.0)\n",
            "Requirement already satisfied: traitlets>=4.1.0 in /usr/local/lib/python3.10/dist-packages (from ipykernel->jupyter>=1.0.0->lcls-beamline-toolbox==0.0.1) (5.7.1)\n",
            "Requirement already satisfied: jupyter-client in /usr/local/lib/python3.10/dist-packages (from ipykernel->jupyter>=1.0.0->lcls-beamline-toolbox==0.0.1) (6.1.12)\n",
            "Requirement already satisfied: tornado>=4.2 in /usr/local/lib/python3.10/dist-packages (from ipykernel->jupyter>=1.0.0->lcls-beamline-toolbox==0.0.1) (6.3.3)\n",
            "Requirement already satisfied: widgetsnbextension~=3.6.0 in /usr/local/lib/python3.10/dist-packages (from ipywidgets->jupyter>=1.0.0->lcls-beamline-toolbox==0.0.1) (3.6.6)\n",
            "Requirement already satisfied: jupyterlab-widgets>=1.0.0 in /usr/local/lib/python3.10/dist-packages (from ipywidgets->jupyter>=1.0.0->lcls-beamline-toolbox==0.0.1) (3.0.10)\n",
            "Requirement already satisfied: prompt-toolkit!=3.0.0,!=3.0.1,<3.1.0,>=2.0.0 in /usr/local/lib/python3.10/dist-packages (from jupyter-console->jupyter>=1.0.0->lcls-beamline-toolbox==0.0.1) (3.0.43)\n",
            "Requirement already satisfied: lxml in /usr/local/lib/python3.10/dist-packages (from nbconvert->jupyter>=1.0.0->lcls-beamline-toolbox==0.0.1) (4.9.4)\n",
            "Requirement already satisfied: beautifulsoup4 in /usr/local/lib/python3.10/dist-packages (from nbconvert->jupyter>=1.0.0->lcls-beamline-toolbox==0.0.1) (4.12.3)\n",
            "Requirement already satisfied: bleach in /usr/local/lib/python3.10/dist-packages (from nbconvert->jupyter>=1.0.0->lcls-beamline-toolbox==0.0.1) (6.1.0)\n",
            "Requirement already satisfied: defusedxml in /usr/local/lib/python3.10/dist-packages (from nbconvert->jupyter>=1.0.0->lcls-beamline-toolbox==0.0.1) (0.7.1)\n",
            "Requirement already satisfied: entrypoints>=0.2.2 in /usr/local/lib/python3.10/dist-packages (from nbconvert->jupyter>=1.0.0->lcls-beamline-toolbox==0.0.1) (0.4)\n",
            "Requirement already satisfied: jupyter-core>=4.7 in /usr/local/lib/python3.10/dist-packages (from nbconvert->jupyter>=1.0.0->lcls-beamline-toolbox==0.0.1) (5.7.2)\n",
            "Requirement already satisfied: jupyterlab-pygments in /usr/local/lib/python3.10/dist-packages (from nbconvert->jupyter>=1.0.0->lcls-beamline-toolbox==0.0.1) (0.3.0)\n",
            "Requirement already satisfied: MarkupSafe>=2.0 in /usr/local/lib/python3.10/dist-packages (from nbconvert->jupyter>=1.0.0->lcls-beamline-toolbox==0.0.1) (2.1.5)\n",
            "Requirement already satisfied: mistune<2,>=0.8.1 in /usr/local/lib/python3.10/dist-packages (from nbconvert->jupyter>=1.0.0->lcls-beamline-toolbox==0.0.1) (0.8.4)\n",
            "Requirement already satisfied: nbclient>=0.5.0 in /usr/local/lib/python3.10/dist-packages (from nbconvert->jupyter>=1.0.0->lcls-beamline-toolbox==0.0.1) (0.10.0)\n",
            "Requirement already satisfied: nbformat>=5.1 in /usr/local/lib/python3.10/dist-packages (from nbconvert->jupyter>=1.0.0->lcls-beamline-toolbox==0.0.1) (5.10.4)\n",
            "Requirement already satisfied: pandocfilters>=1.4.1 in /usr/local/lib/python3.10/dist-packages (from nbconvert->jupyter>=1.0.0->lcls-beamline-toolbox==0.0.1) (1.5.1)\n",
            "Requirement already satisfied: tinycss2 in /usr/local/lib/python3.10/dist-packages (from nbconvert->jupyter>=1.0.0->lcls-beamline-toolbox==0.0.1) (1.3.0)\n",
            "Requirement already satisfied: pyzmq<25,>=17 in /usr/local/lib/python3.10/dist-packages (from notebook->jupyter>=1.0.0->lcls-beamline-toolbox==0.0.1) (24.0.1)\n",
            "Requirement already satisfied: argon2-cffi in /usr/local/lib/python3.10/dist-packages (from notebook->jupyter>=1.0.0->lcls-beamline-toolbox==0.0.1) (23.1.0)\n",
            "Requirement already satisfied: nest-asyncio>=1.5 in /usr/local/lib/python3.10/dist-packages (from notebook->jupyter>=1.0.0->lcls-beamline-toolbox==0.0.1) (1.6.0)\n",
            "Requirement already satisfied: Send2Trash>=1.8.0 in /usr/local/lib/python3.10/dist-packages (from notebook->jupyter>=1.0.0->lcls-beamline-toolbox==0.0.1) (1.8.3)\n",
            "Requirement already satisfied: terminado>=0.8.3 in /usr/local/lib/python3.10/dist-packages (from notebook->jupyter>=1.0.0->lcls-beamline-toolbox==0.0.1) (0.18.1)\n",
            "Requirement already satisfied: prometheus-client in /usr/local/lib/python3.10/dist-packages (from notebook->jupyter>=1.0.0->lcls-beamline-toolbox==0.0.1) (0.20.0)\n",
            "Requirement already satisfied: nbclassic>=0.4.7 in /usr/local/lib/python3.10/dist-packages (from notebook->jupyter>=1.0.0->lcls-beamline-toolbox==0.0.1) (1.0.0)\n",
            "Collecting qtpy>=2.4.0 (from qtconsole->jupyter>=1.0.0->lcls-beamline-toolbox==0.0.1)\n",
            "  Downloading QtPy-2.4.1-py3-none-any.whl (93 kB)\n",
            "\u001b[2K     \u001b[90m━━━━━━━━━━━━━━━━━━━━━━━━━━━━━━━━━━━━━━━━\u001b[0m \u001b[32m93.5/93.5 kB\u001b[0m \u001b[31m12.1 MB/s\u001b[0m eta \u001b[36m0:00:00\u001b[0m\n",
            "\u001b[?25hRequirement already satisfied: setuptools>=18.5 in /usr/local/lib/python3.10/dist-packages (from ipython>=5.0.0->ipykernel->jupyter>=1.0.0->lcls-beamline-toolbox==0.0.1) (67.7.2)\n",
            "Collecting jedi>=0.16 (from ipython>=5.0.0->ipykernel->jupyter>=1.0.0->lcls-beamline-toolbox==0.0.1)\n",
            "  Downloading jedi-0.19.1-py2.py3-none-any.whl (1.6 MB)\n",
            "\u001b[2K     \u001b[90m━━━━━━━━━━━━━━━━━━━━━━━━━━━━━━━━━━━━━━━━\u001b[0m \u001b[32m1.6/1.6 MB\u001b[0m \u001b[31m52.4 MB/s\u001b[0m eta \u001b[36m0:00:00\u001b[0m\n",
            "\u001b[?25hRequirement already satisfied: decorator in /usr/local/lib/python3.10/dist-packages (from ipython>=5.0.0->ipykernel->jupyter>=1.0.0->lcls-beamline-toolbox==0.0.1) (4.4.2)\n",
            "Requirement already satisfied: pickleshare in /usr/local/lib/python3.10/dist-packages (from ipython>=5.0.0->ipykernel->jupyter>=1.0.0->lcls-beamline-toolbox==0.0.1) (0.7.5)\n",
            "Requirement already satisfied: backcall in /usr/local/lib/python3.10/dist-packages (from ipython>=5.0.0->ipykernel->jupyter>=1.0.0->lcls-beamline-toolbox==0.0.1) (0.2.0)\n",
            "Requirement already satisfied: matplotlib-inline in /usr/local/lib/python3.10/dist-packages (from ipython>=5.0.0->ipykernel->jupyter>=1.0.0->lcls-beamline-toolbox==0.0.1) (0.1.7)\n",
            "Requirement already satisfied: pexpect>4.3 in /usr/local/lib/python3.10/dist-packages (from ipython>=5.0.0->ipykernel->jupyter>=1.0.0->lcls-beamline-toolbox==0.0.1) (4.9.0)\n",
            "Requirement already satisfied: platformdirs>=2.5 in /usr/local/lib/python3.10/dist-packages (from jupyter-core>=4.7->nbconvert->jupyter>=1.0.0->lcls-beamline-toolbox==0.0.1) (4.2.2)\n",
            "Requirement already satisfied: jupyter-server>=1.8 in /usr/local/lib/python3.10/dist-packages (from nbclassic>=0.4.7->notebook->jupyter>=1.0.0->lcls-beamline-toolbox==0.0.1) (1.24.0)\n",
            "Requirement already satisfied: notebook-shim>=0.2.3 in /usr/local/lib/python3.10/dist-packages (from nbclassic>=0.4.7->notebook->jupyter>=1.0.0->lcls-beamline-toolbox==0.0.1) (0.2.4)\n",
            "Requirement already satisfied: fastjsonschema>=2.15 in /usr/local/lib/python3.10/dist-packages (from nbformat>=5.1->nbconvert->jupyter>=1.0.0->lcls-beamline-toolbox==0.0.1) (2.19.1)\n",
            "Requirement already satisfied: jsonschema>=2.6 in /usr/local/lib/python3.10/dist-packages (from nbformat>=5.1->nbconvert->jupyter>=1.0.0->lcls-beamline-toolbox==0.0.1) (4.19.2)\n",
            "Requirement already satisfied: wcwidth in /usr/local/lib/python3.10/dist-packages (from prompt-toolkit!=3.0.0,!=3.0.1,<3.1.0,>=2.0.0->jupyter-console->jupyter>=1.0.0->lcls-beamline-toolbox==0.0.1) (0.2.13)\n",
            "Requirement already satisfied: charset-normalizer<4,>=2 in /usr/local/lib/python3.10/dist-packages (from requests>=2.5.0->sphinx>=1.6.2->xrt->lcls-beamline-toolbox==0.0.1) (3.3.2)\n",
            "Requirement already satisfied: idna<4,>=2.5 in /usr/local/lib/python3.10/dist-packages (from requests>=2.5.0->sphinx>=1.6.2->xrt->lcls-beamline-toolbox==0.0.1) (3.7)\n",
            "Requirement already satisfied: urllib3<3,>=1.21.1 in /usr/local/lib/python3.10/dist-packages (from requests>=2.5.0->sphinx>=1.6.2->xrt->lcls-beamline-toolbox==0.0.1) (2.0.7)\n",
            "Requirement already satisfied: certifi>=2017.4.17 in /usr/local/lib/python3.10/dist-packages (from requests>=2.5.0->sphinx>=1.6.2->xrt->lcls-beamline-toolbox==0.0.1) (2024.2.2)\n",
            "Requirement already satisfied: ptyprocess in /usr/local/lib/python3.10/dist-packages (from terminado>=0.8.3->notebook->jupyter>=1.0.0->lcls-beamline-toolbox==0.0.1) (0.7.0)\n",
            "Requirement already satisfied: argon2-cffi-bindings in /usr/local/lib/python3.10/dist-packages (from argon2-cffi->notebook->jupyter>=1.0.0->lcls-beamline-toolbox==0.0.1) (21.2.0)\n",
            "Requirement already satisfied: soupsieve>1.2 in /usr/local/lib/python3.10/dist-packages (from beautifulsoup4->nbconvert->jupyter>=1.0.0->lcls-beamline-toolbox==0.0.1) (2.5)\n",
            "Requirement already satisfied: webencodings in /usr/local/lib/python3.10/dist-packages (from bleach->nbconvert->jupyter>=1.0.0->lcls-beamline-toolbox==0.0.1) (0.5.1)\n",
            "Requirement already satisfied: parso<0.9.0,>=0.8.3 in /usr/local/lib/python3.10/dist-packages (from jedi>=0.16->ipython>=5.0.0->ipykernel->jupyter>=1.0.0->lcls-beamline-toolbox==0.0.1) (0.8.4)\n",
            "Requirement already satisfied: attrs>=22.2.0 in /usr/local/lib/python3.10/dist-packages (from jsonschema>=2.6->nbformat>=5.1->nbconvert->jupyter>=1.0.0->lcls-beamline-toolbox==0.0.1) (23.2.0)\n",
            "Requirement already satisfied: jsonschema-specifications>=2023.03.6 in /usr/local/lib/python3.10/dist-packages (from jsonschema>=2.6->nbformat>=5.1->nbconvert->jupyter>=1.0.0->lcls-beamline-toolbox==0.0.1) (2023.12.1)\n",
            "Requirement already satisfied: referencing>=0.28.4 in /usr/local/lib/python3.10/dist-packages (from jsonschema>=2.6->nbformat>=5.1->nbconvert->jupyter>=1.0.0->lcls-beamline-toolbox==0.0.1) (0.35.1)\n",
            "Requirement already satisfied: rpds-py>=0.7.1 in /usr/local/lib/python3.10/dist-packages (from jsonschema>=2.6->nbformat>=5.1->nbconvert->jupyter>=1.0.0->lcls-beamline-toolbox==0.0.1) (0.18.1)\n",
            "Requirement already satisfied: anyio<4,>=3.1.0 in /usr/local/lib/python3.10/dist-packages (from jupyter-server>=1.8->nbclassic>=0.4.7->notebook->jupyter>=1.0.0->lcls-beamline-toolbox==0.0.1) (3.7.1)\n",
            "Requirement already satisfied: websocket-client in /usr/local/lib/python3.10/dist-packages (from jupyter-server>=1.8->nbclassic>=0.4.7->notebook->jupyter>=1.0.0->lcls-beamline-toolbox==0.0.1) (1.8.0)\n",
            "Requirement already satisfied: cffi>=1.0.1 in /usr/local/lib/python3.10/dist-packages (from argon2-cffi-bindings->argon2-cffi->notebook->jupyter>=1.0.0->lcls-beamline-toolbox==0.0.1) (1.16.0)\n",
            "Requirement already satisfied: sniffio>=1.1 in /usr/local/lib/python3.10/dist-packages (from anyio<4,>=3.1.0->jupyter-server>=1.8->nbclassic>=0.4.7->notebook->jupyter>=1.0.0->lcls-beamline-toolbox==0.0.1) (1.3.1)\n",
            "Requirement already satisfied: exceptiongroup in /usr/local/lib/python3.10/dist-packages (from anyio<4,>=3.1.0->jupyter-server>=1.8->nbclassic>=0.4.7->notebook->jupyter>=1.0.0->lcls-beamline-toolbox==0.0.1) (1.2.1)\n",
            "Requirement already satisfied: pycparser in /usr/local/lib/python3.10/dist-packages (from cffi>=1.0.1->argon2-cffi-bindings->argon2-cffi->notebook->jupyter>=1.0.0->lcls-beamline-toolbox==0.0.1) (2.22)\n",
            "Building wheels for collected packages: xrt\n",
            "  Building wheel for xrt (setup.py) ... \u001b[?25l\u001b[?25hdone\n",
            "  Created wheel for xrt: filename=xrt-1.6.0-py3-none-any.whl size=5455911 sha256=7e556fa8ebff7de5de91c577012195b5bd2dcccfe43cfd75e562ea8693694a02\n",
            "  Stored in directory: /root/.cache/pip/wheels/1c/47/52/d81d20e573b667bde10001744414b40202bef04daae4b2081d\n",
            "Successfully built xrt\n",
            "Installing collected packages: qtpy, jedi, colorama, sphinxcontrib-jquery, xrt, qtconsole, jupyter, lcls-beamline-toolbox\n",
            "  Running setup.py develop for lcls-beamline-toolbox\n",
            "Successfully installed colorama-0.4.6 jedi-0.19.1 jupyter-1.0.0 lcls-beamline-toolbox qtconsole-5.5.2 qtpy-2.4.1 sphinxcontrib-jquery-4.1 xrt-1.6.0\n",
            "\u001b[2K     \u001b[90m━━━━━━━━━━━━━━━━━━━━━━━━━━━━━━━━━━━━━━━━\u001b[0m \u001b[32m3.9/3.9 MB\u001b[0m \u001b[31m12.7 MB/s\u001b[0m eta \u001b[36m0:00:00\u001b[0m\n",
            "\u001b[2K     \u001b[90m━━━━━━━━━━━━━━━━━━━━━━━━━━━━━━━━━━━━━━━━\u001b[0m \u001b[32m625.0/625.0 kB\u001b[0m \u001b[31m6.9 MB/s\u001b[0m eta \u001b[36m0:00:00\u001b[0m\n",
            "\u001b[2K     \u001b[90m━━━━━━━━━━━━━━━━━━━━━━━━━━━━━━━━━━━━━━━━\u001b[0m \u001b[32m745.2/745.2 kB\u001b[0m \u001b[31m12.1 MB/s\u001b[0m eta \u001b[36m0:00:00\u001b[0m\n",
            "\u001b[2K     \u001b[90m━━━━━━━━━━━━━━━━━━━━━━━━━━━━━━━━━━━━━━━━\u001b[0m \u001b[32m266.1/266.1 kB\u001b[0m \u001b[31m12.5 MB/s\u001b[0m eta \u001b[36m0:00:00\u001b[0m\n",
            "\u001b[2K     \u001b[90m━━━━━━━━━━━━━━━━━━━━━━━━━━━━━━━━━━━━━━━━\u001b[0m \u001b[32m174.5/174.5 kB\u001b[0m \u001b[31m14.4 MB/s\u001b[0m eta \u001b[36m0:00:00\u001b[0m\n",
            "\u001b[2K     \u001b[90m━━━━━━━━━━━━━━━━━━━━━━━━━━━━━━━━━━━━━━━━\u001b[0m \u001b[32m41.2/41.2 kB\u001b[0m \u001b[31m4.3 MB/s\u001b[0m eta \u001b[36m0:00:00\u001b[0m\n",
            "\u001b[2K     \u001b[90m━━━━━━━━━━━━━━━━━━━━━━━━━━━━━━━━━━━━━━━━\u001b[0m \u001b[32m21.3/21.3 MB\u001b[0m \u001b[31m53.5 MB/s\u001b[0m eta \u001b[36m0:00:00\u001b[0m\n",
            "\u001b[2K     \u001b[90m━━━━━━━━━━━━━━━━━━━━━━━━━━━━━━━━━━━━━━━━\u001b[0m \u001b[32m141.5/141.5 kB\u001b[0m \u001b[31m3.6 MB/s\u001b[0m eta \u001b[36m0:00:00\u001b[0m\n",
            "\u001b[?25h  Preparing metadata (setup.py) ... \u001b[?25l\u001b[?25hdone\n",
            "\u001b[2K     \u001b[90m━━━━━━━━━━━━━━━━━━━━━━━━━━━━━━━━━━━━━━━━\u001b[0m \u001b[32m135.4/135.4 kB\u001b[0m \u001b[31m6.8 MB/s\u001b[0m eta \u001b[36m0:00:00\u001b[0m\n",
            "\u001b[2K     \u001b[90m━━━━━━━━━━━━━━━━━━━━━━━━━━━━━━━━━━━━━━━━\u001b[0m \u001b[32m613.1/613.1 kB\u001b[0m \u001b[31m9.4 MB/s\u001b[0m eta \u001b[36m0:00:00\u001b[0m\n",
            "\u001b[2K     \u001b[90m━━━━━━━━━━━━━━━━━━━━━━━━━━━━━━━━━━━━━━━━\u001b[0m \u001b[32m142.5/142.5 kB\u001b[0m \u001b[31m10.1 MB/s\u001b[0m eta \u001b[36m0:00:00\u001b[0m\n",
            "\u001b[?25h  Building wheel for xopt (setup.py) ... \u001b[?25l\u001b[?25hdone\n"
          ]
        }
      ],
      "source": [
        "# !pip install -U setuptools\n",
        "import os\n",
        "os.chdir('lcls_beamline_toolbox')\n",
        "!python3 -m pip install -e .\n",
        "!pip install xraydb -q\n",
        "!pip install botorch -q\n",
        "!pip install xopt -q\n",
        "# !pip install xrt -q"
      ]
    },
    {
      "cell_type": "code",
      "execution_count": 3,
      "metadata": {
        "id": "mc87jE2OC9GY"
      },
      "outputs": [],
      "source": [
        "import numpy as np\n",
        "import pandas as pd\n",
        "import matplotlib.pyplot as plt\n",
        "import lcls_beamline_toolbox.xraywavetrace.beam1d as beam\n",
        "import lcls_beamline_toolbox.xraywavetrace.optics1d as optics\n",
        "import lcls_beamline_toolbox.xraywavetrace.beamline1d as beamline\n",
        "import scipy.optimize as optimize\n",
        "import copy\n",
        "import scipy.spatial.transform as transform\n",
        "from split_and_delay import SND\n",
        "\n",
        "import torch\n",
        "import gpytorch\n",
        "import botorch\n",
        "# from botorch.models import SingleTaskGP, ModelListGP\n",
        "# from gpytorch.mlls.exact_marginal_log_likelihood import ExactMarginalLogLikelihood\n",
        "# from botorch import fit_gpytorch_model\n",
        "# from botorch.utils.multi_objective.pareto import is_non_dominated\n",
        "# from botorch.utils.multi_objective.box_decompositions.dominated import DominatedPartitioning\n",
        "# from botorch.utils.multi_objective.box_decompositions.non_dominated import FastNondominatedPartitioning\n",
        "# from botorch.models.model_list_gp_regression import ModelListGP\n",
        "# from botorch.acquisition.analytic import ExpectedImprovement\n",
        "# from botorch.acquisition.multi_objective.analytic import ExpectedHypervolumeImprovement\n",
        "# from botorch.optim.optimize import optimize_acqf\n",
        "\n",
        "import warnings\n",
        "warnings.filterwarnings(\"ignore\")\n",
        "\n",
        "\n",
        "\n",
        "from xopt import Xopt, Evaluator\n",
        "from xopt.generators.bayesian import MOBOGenerator\n",
        "from xopt.resources.test_functions.tnk import evaluate_TNK, tnk_vocs\n",
        "from xopt import VOCS\n",
        "from xopt import Xopt"
      ]
    },
    {
      "cell_type": "code",
      "execution_count": 4,
      "metadata": {
        "id": "sULnym9-EER7"
      },
      "outputs": [],
      "source": [
        "def get_snd_outputs(inputs):\n",
        "  \"\"\"\n",
        "  Study 1 Objective function. Takes an [n, 8] dim np array of\n",
        "  [samples, ( t1_th1, t1_th2, chi1, chi2, t4_th1, t4_th2, chi1, chi2)].\n",
        "  The entries lie in the uniform unit interval.\n",
        "  They are scaled to lie in [-100e-6, +100e-6].\n",
        "  Returns a torch tensor of dim [n, 2] of\n",
        "  [samples, (do_sum_objective, IP_r_objective)]\n",
        "  \"\"\"\n",
        "  inputs = inputs*200e-6 - 100e-6\n",
        "  result = []\n",
        "\n",
        "  for x in inputs:\n",
        "    snd = SND(9500)\n",
        "    x = np.array(x)\n",
        "\n",
        "    snd.mvr_t1_th1(x[0])\n",
        "    snd.mvr_t1_th2(x[1])\n",
        "    # snd.mvr_t1_chi1(x[2])#not in study 1\n",
        "    # snd.mvr_t1_chi2(x[3])#not in study 1\n",
        "    snd.mvr_t4_th1(x[4])\n",
        "    snd.mvr_t4_th2(x[5])\n",
        "    # snd.mvr_t4_chi1(x[6])#not in study 1\n",
        "    # snd.mvr_t4_chi2(x[7])#not in study 1\n",
        "\n",
        "    # snd.mvr_t1_th1(x[0])\n",
        "    # snd.mvr_t1_th2(x[1])\n",
        "    # snd.mvr_t4_th1(x[2])\n",
        "    # snd.mvr_t4_th2(x[3])\n",
        "\n",
        "    snd.propagate_delay()\n",
        "\n",
        "    dh1 = snd.get_t1_dh_sum()\n",
        "    dd = snd.get_dd_sum()\n",
        "    dh4 = snd.get_t4_dh_sum()\n",
        "    do = snd.get_do_sum()\n",
        "    my_IP_sum = snd.get_IP_sum()\n",
        "    my_intensity = dh1 + dd + dh4 + do + my_IP_sum\n",
        "\n",
        "    do_centroid = snd.get_IP_r()\n",
        "    do_centroid_x = snd.get_IP_cx()\n",
        "    do_centroid_y = snd.get_IP_cy()\n",
        "\n",
        "\n",
        "\n",
        "    result.append([(my_intensity)/(62186.2678), np.log(np.abs(do_centroid_x))/(-16.86781883239746), np.log(np.abs(do_centroid_y))/(-17.84674644470215)])\n",
        "    del snd\n",
        "  return torch.tensor(result, dtype=torch.float)"
      ]
    },
    {
      "cell_type": "code",
      "source": [
        "nscan = 250\n",
        "ndim = 3\n",
        "inp = np.ones((nscan,8))*0.500\n",
        "scanner = np.linspace(0,1, nscan)\n",
        "inp[:, ndim] = scanner\n",
        "ys = get_snd_outputs(inp).squeeze()\n",
        "x_scan = scanner*200e-6 - 100e-6\n",
        "result1, result2, result3 = ys[:, 0], ys[:,1], ys[:,2]\n",
        "\n",
        "fig, axs = plt.subplots(2, figsize=(12,12))\n",
        "axs[0].plot(x_scan, np.exp(-result2*16.86), 'k')\n",
        "axs[0].plot(x_scan, np.exp(-result3*17.84), 'r')\n",
        "axs[0].set_yscale(\"log\")\n",
        "axs[0].grid()\n",
        "\n",
        "axs[1].plot(x_scan, result1, 'k')\n",
        "axs[1].grid()\n",
        "\n",
        "# axs[2].plot(x_scan, result1*result2,'k')"
      ],
      "metadata": {
        "colab": {
          "base_uri": "https://localhost:8080/",
          "height": 984
        },
        "id": "gYQSfjsstL2x",
        "outputId": "57a7a010-3c0e-4c54-afc3-444485a48994"
      },
      "execution_count": 39,
      "outputs": [
        {
          "output_type": "display_data",
          "data": {
            "text/plain": [
              "<Figure size 1200x1200 with 2 Axes>"
            ],
            "image/png": "[encoded data removed]"
          },
          "metadata": {}
        }
      ]
    },
    {
      "cell_type": "code",
      "source": [
        "plt.figure(figsize=(8,5))\n",
        "\n",
        "scale1 = 62186.2678\n",
        "plt.plot(result1, 'r')\n",
        "plt.plot(np.power(result1, 3), 'k')\n",
        "\n",
        "plt.show()"
      ],
      "metadata": {
        "colab": {
          "base_uri": "https://localhost:8080/",
          "height": 445
        },
        "id": "XEIRNG0MALUZ",
        "outputId": "4399a0da-ca97-4828-8076-c21ad628fb1b"
      },
      "execution_count": 29,
      "outputs": [
        {
          "output_type": "display_data",
          "data": {
            "text/plain": [
              "<Figure size 800x500 with 1 Axes>"
            ],
            "image/png": "[encoded data removed]"
          },
          "metadata": {}
        }
      ]
    },
    {
      "cell_type": "code",
      "execution_count": 7,
      "metadata": {
        "colab": {
          "base_uri": "https://localhost:8080/"
        },
        "id": "x8vD17BTGzVF",
        "outputId": "4c769a40-520f-4165-ceb2-ce3b40513b80"
      },
      "outputs": [
        {
          "output_type": "stream",
          "name": "stdout",
          "text": [
            "tensor(1.0020) tensor(1.0495) tensor(1.)\n"
          ]
        }
      ],
      "source": [
        "ys = get_snd_outputs(np.ones((1,8))*0.500).squeeze()\n",
        "print(ys[0], ys[1], ys[2])"
      ]
    },
    {
      "cell_type": "code",
      "execution_count": 11,
      "metadata": {
        "colab": {
          "base_uri": "https://localhost:8080/"
        },
        "id": "SuYfChM1r2rT",
        "outputId": "84f37ea3-f380-4abe-d46c-473e00c9e2b5"
      },
      "outputs": [
        {
          "output_type": "stream",
          "name": "stdout",
          "text": [
            "0.0007122014067135751 0.49176642298698425 0.4647921025753021\n"
          ]
        }
      ],
      "source": [
        "ys = get_snd_outputs(np.zeros((1,8))).squeeze()\n",
        "print(ys[0].item(), ys[1].item(), ys[2].item())"
      ]
    },
    {
      "cell_type": "code",
      "execution_count": 5,
      "metadata": {
        "id": "QI8Ty8kHG2zZ"
      },
      "outputs": [],
      "source": [
        "def eval_function(input_dict: dict) -> dict:\n",
        "  x1, x2, x3, x4, x5, x6, x7, x8 = input_dict[\"x1\"], input_dict[\"x2\"], input_dict[\"x3\"], input_dict[\"x4\"], input_dict[\"x5\"], input_dict[\"x6\"], input_dict[\"x7\"], input_dict[\"x8\"]\n",
        "  Xinp = np.expand_dims(np.array([x1, x2, x3, x4, x5, x6, x7, x8]), axis=0)\n",
        "  output = get_snd_outputs(Xinp).squeeze()\n",
        "  f1, f2, f3 =  output[0].item(), output[1].item(), output[2].item()\n",
        "  del output, Xinp\n",
        "  return {\"f1\": f1, \"f2\": f2, \"f3\": f3}"
      ]
    },
    {
      "cell_type": "code",
      "execution_count": 5,
      "metadata": {
        "id": "62SCN7BgKDFP"
      },
      "outputs": [],
      "source": []
    },
    {
      "cell_type": "code",
      "execution_count": 6,
      "metadata": {
        "id": "lIwSU1Cf1R3i"
      },
      "outputs": [],
      "source": [
        "def run_chain(eval_function = eval_function, n_init: int=5, n_steps: int = 60):\n",
        "  low = 0.01\n",
        "  high = 0.99\n",
        "  vocs = VOCS(\n",
        "    variables = {\"x1\": [low, high],\n",
        "                 \"x2\": [low, high],\n",
        "                 \"x3\": [low, high],\n",
        "                 \"x4\": [low, high],\n",
        "                 \"x5\": [low, high],\n",
        "                 \"x6\": [low, high],\n",
        "                 \"x7\": [low, high],\n",
        "                 \"x8\": [low, high]},\n",
        "    objectives = {\"f1\": \"MAXIMIZE\", \"f2\": \"MAXIMIZE\", \"f3\": \"MAXIMIZE\"},\n",
        "  )\n",
        "  np.random.seed(42)\n",
        "  gigo = np.random.rand(8)\n",
        "  evaluator = Evaluator(function=eval_function)\n",
        "  ref_point = eval_function({\"x1\": gigo[0], \"x2\": gigo[1], \"x3\": gigo[2],\n",
        "                             \"x4\": gigo[3], \"x5\": gigo[4], \"x6\": gigo[5],\n",
        "                             \"x7\": gigo[6], \"x8\": gigo[7]})\n",
        "  generator = MOBOGenerator(vocs=vocs, reference_point= ref_point)\n",
        "  generator.n_monte_carlo_samples = 512\n",
        "  generator.numerical_optimizer.n_restarts = 80\n",
        "  X = Xopt(generator=generator, evaluator=evaluator, vocs=vocs)\n",
        "  X.random_evaluate(n_init)\n",
        "  for i in range(n_steps):\n",
        "    print(i)\n",
        "    X.step()\n",
        "\n",
        "  y1 = X.generator.data[\"f1\"]\n",
        "  y2 = X.generator.data[\"f2\"]\n",
        "  y3 = X.generator.data[\"f3\"]\n",
        "  y1_maxs = np.maximum.accumulate(y1)\n",
        "  y2_maxs = np.maximum.accumulate(y2)\n",
        "  y3_maxs = np.maximum.accumulate(y3)\n",
        "\n",
        "  del vocs, evaluator, ref_point, generator, X\n",
        "\n",
        "  return y1, y2, y3 #y1_maxs, y2_maxs, y3_maxs"
      ]
    },
    {
      "cell_type": "code",
      "execution_count": 7,
      "metadata": {
        "id": "nuATdqKF20Xw"
      },
      "outputs": [],
      "source": [
        "def run_ensemble(n_chains: 25, eval_function = eval_function, n_init: int=3, n_steps: int = 50):\n",
        "  y1s = []\n",
        "  y2s = []\n",
        "  y3s = []\n",
        "  for i in range(n_chains):\n",
        "    print(f\"Chain: {i+1} of {n_chains}\")\n",
        "    y1, y2, y3 = run_chain(eval_function = eval_function, n_init=n_init, n_steps = n_steps)\n",
        "    y1s.append(y1)\n",
        "    y2s.append(y2)\n",
        "    y3s.append(y3)\n",
        "\n",
        "  return np.array(y1s), np.array(y2s), np.array(y3s)"
      ]
    },
    {
      "cell_type": "code",
      "execution_count": null,
      "metadata": {
        "colab": {
          "base_uri": "https://localhost:8080/"
        },
        "id": "iz9MT-rs3cdA",
        "outputId": "f0b3e98c-2ce7-4790-ae63-71e655dbe4ca"
      },
      "outputs": [
        {
          "output_type": "stream",
          "name": "stdout",
          "text": [
            "0\n",
            "1\n"
          ]
        }
      ],
      "source": [
        "result1, result2, result3 = run_chain(n_init=5, n_steps=80)"
      ]
    },
    {
      "cell_type": "code",
      "source": [
        "plt.plot(result1, 'k')\n",
        "plt.plot(result2, 'r')\n",
        "plt.plot(result3, 'g')"
      ],
      "metadata": {
        "colab": {
          "base_uri": "https://localhost:8080/",
          "height": 448
        },
        "id": "ZOSqXB6FpRX-",
        "outputId": "b7868ecd-87a0-4396-f756-60efb7befccb"
      },
      "execution_count": 44,
      "outputs": [
        {
          "output_type": "execute_result",
          "data": {
            "text/plain": [
              "[<matplotlib.lines.Line2D at 0x7ee02ff80ee0>]"
            ]
          },
          "metadata": {},
          "execution_count": 44
        },
        {
          "output_type": "display_data",
          "data": {
            "text/plain": [
              "<Figure size 640x480 with 1 Axes>"
            ],
            "image/png": "[encoded data removed]"
          },
          "metadata": {}
        }
      ]
    },
    {
      "cell_type": "code",
      "execution_count": 45,
      "metadata": {
        "colab": {
          "base_uri": "https://localhost:8080/",
          "height": 430
        },
        "id": "Nn77wF2gI88i",
        "outputId": "9d892203-3b7a-496f-f4c9-24254f789059"
      },
      "outputs": [
        {
          "output_type": "display_data",
          "data": {
            "text/plain": [
              "<Figure size 640x480 with 1 Axes>"
            ],
            "image/png": "[encoded data removed]"
          },
          "metadata": {}
        }
      ],
      "source": [
        "plt.plot(np.exp(-result2*16.86), 'k')\n",
        "plt.plot(np.exp(-result3*17.84), 'r')\n",
        "plt.yscale(\"log\")"
      ]
    },
    {
      "cell_type": "code",
      "execution_count": null,
      "metadata": {
        "colab": {
          "base_uri": "https://localhost:8080/"
        },
        "id": "dizO89PzFVDH",
        "outputId": "73ac96c0-d734-47ee-8ef6-a83fec934425"
      },
      "outputs": [
        {
          "name": "stdout",
          "output_type": "stream",
          "text": [
            "     ━━━━━━━━━━━━━━━━━━━━━━━━━━━━━━━━━━━━━━━━ 497.0/497.0 kB 8.5 MB/s eta 0:00:00\n",
            "\u001b[?25h  Preparing metadata (setup.py) ... \u001b[?25l\u001b[?25hdone\n",
            "  Building wheel for minepy (setup.py) ... \u001b[?25l\u001b[?25hdone\n"
          ]
        }
      ],
      "source": [
        "!pip install minepy -q"
      ]
    },
    {
      "cell_type": "code",
      "execution_count": null,
      "metadata": {
        "id": "WgVXBy4Bl3dC"
      },
      "outputs": [],
      "source": [
        "from minepy import MINE"
      ]
    },
    {
      "cell_type": "code",
      "execution_count": null,
      "metadata": {
        "colab": {
          "base_uri": "https://localhost:8080/"
        },
        "id": "qDkT3mLLnMZd",
        "outputId": "9ec386f3-64fb-4338-a964-9c2649af0cc8"
      },
      "outputs": [
        {
          "data": {
            "text/plain": [
              "VOCS(variables={'x1': [0.01, 0.99], 'x2': [0.01, 0.99], 'x3': [0.01, 0.99], 'x4': [0.01, 0.99], 'x5': [0.01, 0.99], 'x6': [0.01, 0.99], 'x7': [0.01, 0.99], 'x8': [0.01, 0.99]}, constraints={}, objectives={'f1': 'MAXIMIZE', 'f2': 'MAXIMIZE', 'f3': 'MAXIMIZE'}, constants={}, observables=[])"
            ]
          },
          "execution_count": 79,
          "metadata": {},
          "output_type": "execute_result"
        }
      ],
      "source": [
        "low = 0.01\n",
        "high = 0.99\n",
        "vocs = VOCS(\n",
        "    variables = {\"x1\": [low, high],\n",
        "                 \"x2\": [low, high],\n",
        "                 \"x3\": [low, high],\n",
        "                 \"x4\": [low, high],\n",
        "                 \"x5\": [low, high],\n",
        "                 \"x6\": [low, high],\n",
        "                 \"x7\": [low, high],\n",
        "                 \"x8\": [low, high]},\n",
        "    objectives = {\"f1\": \"MAXIMIZE\", \"f2\": \"MAXIMIZE\", \"f3\": \"MAXIMIZE\"},\n",
        ")\n",
        "vocs"
      ]
    },
    {
      "cell_type": "code",
      "execution_count": null,
      "metadata": {
        "colab": {
          "base_uri": "https://localhost:8080/"
        },
        "id": "qeMkTYObpRY_",
        "outputId": "8634617a-1da9-425c-d6d3-080e3138c68c"
      },
      "outputs": [
        {
          "data": {
            "text/plain": [
              "Evaluator(function=<function eval_function at 0x7f1f9807c160>, max_workers=1, executor=NormalExecutor[DummyExecutor](loader=ObjLoader[DummyExecutor](object=None, loader=CallableModel(callable=<class 'xopt.evaluator.DummyExecutor'>, signature=Kwargs_DummyExecutor(args=[], kwarg_order=[])), object_type=<class 'xopt.evaluator.DummyExecutor'>), executor_type=<class 'xopt.evaluator.DummyExecutor'>, submit_callable='submit', map_callable='map', shutdown_callable='shutdown', executor=<xopt.evaluator.DummyExecutor object at 0x7f1f9594bd60>), function_kwargs={}, vectorized=False)"
            ]
          },
          "execution_count": 80,
          "metadata": {},
          "output_type": "execute_result"
        }
      ],
      "source": [
        "evaluator = Evaluator(function=eval_function)\n",
        "evaluator"
      ]
    },
    {
      "cell_type": "code",
      "execution_count": null,
      "metadata": {
        "colab": {
          "base_uri": "https://localhost:8080/"
        },
        "id": "1lg6Qnw3pV1p",
        "outputId": "b48a2524-fef7-4cd3-ab71-5ab6ffc0ed3f"
      },
      "outputs": [
        {
          "data": {
            "text/plain": [
              "{'f1': 0.009041455574333668,\n",
              " 'f2': 0.0002497558598406613,\n",
              " 'f3': 0.0002497558598406613}"
            ]
          },
          "execution_count": 81,
          "metadata": {},
          "output_type": "execute_result"
        }
      ],
      "source": [
        "ref_point = eval_function({\"x1\": 0.65, \"x2\": 0.65, \"x3\": 0.65, \"x4\": 0.65, \"x5\": 0.65, \"x6\": 0.65, \"x7\": 0.65, \"x8\": 0.65})\n",
        "ref_point"
      ]
    },
    {
      "cell_type": "code",
      "execution_count": null,
      "metadata": {
        "colab": {
          "base_uri": "https://localhost:8080/"
        },
        "id": "5K69VYkKpoE7",
        "outputId": "6f8bba3c-13bf-43aa-ae73-c918dfcdd7dd"
      },
      "outputs": [
        {
          "data": {
            "text/plain": [
              "MOBOGenerator(supports_batch_generation=False, supports_multi_objective=True, vocs=VOCS(variables={'x1': [0.01, 0.99], 'x2': [0.01, 0.99], 'x3': [0.01, 0.99], 'x4': [0.01, 0.99], 'x5': [0.01, 0.99], 'x6': [0.01, 0.99], 'x7': [0.01, 0.99], 'x8': [0.01, 0.99]}, constraints={}, objectives={'f1': 'MAXIMIZE', 'f2': 'MAXIMIZE', 'f3': 'MAXIMIZE'}, constants={}, observables=[]), data=None, model=None, n_monte_carlo_samples=128, turbo_controller=None, use_cuda=False, gp_constructor=StandardModelConstructor(name='standard', use_low_noise_prior=True, covar_modules={}, mean_modules={}, trainable_mean_keys=[], transform_inputs=True, custom_noise_prior=None), numerical_optimizer=LBFGSOptimizer(name='LBFGS', n_restarts=20, max_iter=2000, max_time=None), max_travel_distances=None, fixed_features=None, computation_time=None, log_transform_acquisition_function=False, n_interpolate_points=None, n_candidates=1, reference_point={'f1': 0.009041455574333668, 'f2': 0.0002497558598406613, 'f3': 0.0002497558598406613})"
            ]
          },
          "execution_count": 82,
          "metadata": {},
          "output_type": "execute_result"
        }
      ],
      "source": [
        "generator = MOBOGenerator(vocs=vocs, reference_point= ref_point)\n",
        "generator"
      ]
    },
    {
      "cell_type": "code",
      "execution_count": null,
      "metadata": {
        "colab": {
          "base_uri": "https://localhost:8080/",
          "height": 444
        },
        "id": "xq_re2E0p-O1",
        "outputId": "369697ac-faba-4c11-f38c-6c738cf135de"
      },
      "outputs": [
        {
          "data": {
            "application/vnd.google.colaboratory.intrinsic+json": {
              "summary": "{\n  \"name\": \"X\",\n  \"rows\": 500,\n  \"fields\": [\n    {\n      \"column\": \"x1\",\n      \"properties\": {\n        \"dtype\": \"number\",\n        \"std\": 0.2843416572485352,\n        \"min\": 0.014124166623740997,\n        \"max\": 0.9863546534298695,\n        \"num_unique_values\": 500,\n        \"samples\": [\n          0.890570981042899,\n          0.2788173934954926,\n          0.467894101541099\n        ],\n        \"semantic_type\": \"\",\n        \"description\": \"\"\n      }\n    },\n    {\n      \"column\": \"x2\",\n      \"properties\": {\n        \"dtype\": \"number\",\n        \"std\": 0.28025747589082733,\n        \"min\": 0.013030961548587017,\n        \"max\": 0.9898711441268154,\n        \"num_unique_values\": 500,\n        \"samples\": [\n          0.14836376133514162,\n          0.9262743952909451,\n          0.9334769521745538\n        ],\n        \"semantic_type\": \"\",\n        \"description\": \"\"\n      }\n    },\n    {\n      \"column\": \"x3\",\n      \"properties\": {\n        \"dtype\": \"number\",\n        \"std\": 0.275736177941321,\n        \"min\": 0.011030902174181222,\n        \"max\": 0.9833685475481128,\n        \"num_unique_values\": 500,\n        \"samples\": [\n          0.5087546092752869,\n          0.3905273756710907,\n          0.18180066874581075\n        ],\n        \"semantic_type\": \"\",\n        \"description\": \"\"\n      }\n    },\n    {\n      \"column\": \"x4\",\n      \"properties\": {\n        \"dtype\": \"number\",\n        \"std\": 0.2810577982478755,\n        \"min\": 0.013581154877551368,\n        \"max\": 0.9895998162679529,\n        \"num_unique_values\": 500,\n        \"samples\": [\n          0.18470994993996523,\n          0.6259381781464377,\n          0.2904556667898949\n        ],\n        \"semantic_type\": \"\",\n        \"description\": \"\"\n      }\n    },\n    {\n      \"column\": \"x5\",\n      \"properties\": {\n        \"dtype\": \"number\",\n        \"std\": 0.2827897110172356,\n        \"min\": 0.012941930280285547,\n        \"max\": 0.9891694634943369,\n        \"num_unique_values\": 500,\n        \"samples\": [\n          0.04028866155675586,\n          0.6570061546083645,\n          0.37335031914611894\n        ],\n        \"semantic_type\": \"\",\n        \"description\": \"\"\n      }\n    },\n    {\n      \"column\": \"x6\",\n      \"properties\": {\n        \"dtype\": \"number\",\n        \"std\": 0.29233570511289453,\n        \"min\": 0.01008549796222752,\n        \"max\": 0.9878344085317742,\n        \"num_unique_values\": 500,\n        \"samples\": [\n          0.9827229185436334,\n          0.011880190224286708,\n          0.03391417122579646\n        ],\n        \"semantic_type\": \"\",\n        \"description\": \"\"\n      }\n    },\n    {\n      \"column\": \"x7\",\n      \"properties\": {\n        \"dtype\": \"number\",\n        \"std\": 0.2875547978038296,\n        \"min\": 0.011172393845381183,\n        \"max\": 0.9890568882582641,\n        \"num_unique_values\": 500,\n        \"samples\": [\n          0.6486512780404119,\n          0.4942345657905083,\n          0.8661671137145317\n        ],\n        \"semantic_type\": \"\",\n        \"description\": \"\"\n      }\n    },\n    {\n      \"column\": \"x8\",\n      \"properties\": {\n        \"dtype\": \"number\",\n        \"std\": 0.28176009246933276,\n        \"min\": 0.010360855197072265,\n        \"max\": 0.9878475694725565,\n        \"num_unique_values\": 500,\n        \"samples\": [\n          0.18059102602151178,\n          0.26052237114005805,\n          0.30583988030965814\n        ],\n        \"semantic_type\": \"\",\n        \"description\": \"\"\n      }\n    },\n    {\n      \"column\": \"f1\",\n      \"properties\": {\n        \"dtype\": \"number\",\n        \"std\": 0.0830689639490458,\n        \"min\": 0.0007496736361645162,\n        \"max\": 0.5237664580345154,\n        \"num_unique_values\": 500,\n        \"samples\": [\n          0.0011879564262926579,\n          0.0037636980414390564,\n          0.2143050879240036\n        ],\n        \"semantic_type\": \"\",\n        \"description\": \"\"\n      }\n    },\n    {\n      \"column\": \"f2\",\n      \"properties\": {\n        \"dtype\": \"number\",\n        \"std\": 7.34172341061112e-05,\n        \"min\": -0.00024604308418929577,\n        \"max\": 0.0002497558598406613,\n        \"num_unique_values\": 32,\n        \"samples\": [\n          -0.00023034305195324123,\n          -8.703061030246317e-05,\n          -0.00015286590496543795\n        ],\n        \"semantic_type\": \"\",\n        \"description\": \"\"\n      }\n    },\n    {\n      \"column\": \"f3\",\n      \"properties\": {\n        \"dtype\": \"number\",\n        \"std\": 5.914391512247103e-05,\n        \"min\": -0.00021308699797373265,\n        \"max\": 0.0002497558598406613,\n        \"num_unique_values\": 32,\n        \"samples\": [\n          6.894201942486688e-05,\n          0.00011261446343269199,\n          7.637515955138952e-05\n        ],\n        \"semantic_type\": \"\",\n        \"description\": \"\"\n      }\n    },\n    {\n      \"column\": \"xopt_runtime\",\n      \"properties\": {\n        \"dtype\": \"number\",\n        \"std\": 0.10217149400516091,\n        \"min\": 0.3236866850002116,\n        \"max\": 1.2922458379998716,\n        \"num_unique_values\": 500,\n        \"samples\": [\n          0.34296297000037157,\n          0.63698428600037,\n          0.33780426399971475\n        ],\n        \"semantic_type\": \"\",\n        \"description\": \"\"\n      }\n    },\n    {\n      \"column\": \"xopt_error\",\n      \"properties\": {\n        \"dtype\": \"boolean\",\n        \"num_unique_values\": 1,\n        \"samples\": [\n          false\n        ],\n        \"semantic_type\": \"\",\n        \"description\": \"\"\n      }\n    }\n  ]\n}",
              "type": "dataframe"
            },
            "text/html": [
              "\n",
              "  <div id=\"df-0b2d86a1-d189-46f0-a7fc-122b1821cedc\" class=\"colab-df-container\">\n",
              "    <div>\n",
              "<style scoped>\n",
              "    .dataframe tbody tr th:only-of-type {\n",
              "        vertical-align: middle;\n",
              "    }\n",
              "\n",
              "    .dataframe tbody tr th {\n",
              "        vertical-align: top;\n",
              "    }\n",
              "\n",
              "    .dataframe thead th {\n",
              "        text-align: right;\n",
              "    }\n",
              "</style>\n",
              "<table border=\"1\" class=\"dataframe\">\n",
              "  <thead>\n",
              "    <tr style=\"text-align: right;\">\n",
              "      <th></th>\n",
              "      <th>x1</th>\n",
              "      <th>x2</th>\n",
              "      <th>x3</th>\n",
              "      <th>x4</th>\n",
              "      <th>x5</th>\n",
              "      <th>x6</th>\n",
              "      <th>x7</th>\n",
              "      <th>x8</th>\n",
              "      <th>f1</th>\n",
              "      <th>f2</th>\n",
              "      <th>f3</th>\n",
              "      <th>xopt_runtime</th>\n",
              "      <th>xopt_error</th>\n",
              "    </tr>\n",
              "  </thead>\n",
              "  <tbody>\n",
              "    <tr>\n",
              "      <th>0</th>\n",
              "      <td>0.581197</td>\n",
              "      <td>0.211253</td>\n",
              "      <td>0.915438</td>\n",
              "      <td>0.888739</td>\n",
              "      <td>0.511628</td>\n",
              "      <td>0.310491</td>\n",
              "      <td>0.229443</td>\n",
              "      <td>0.743662</td>\n",
              "      <td>0.036182</td>\n",
              "      <td>0.000250</td>\n",
              "      <td>0.000250</td>\n",
              "      <td>0.363303</td>\n",
              "      <td>False</td>\n",
              "    </tr>\n",
              "    <tr>\n",
              "      <th>1</th>\n",
              "      <td>0.097843</td>\n",
              "      <td>0.686774</td>\n",
              "      <td>0.937406</td>\n",
              "      <td>0.371146</td>\n",
              "      <td>0.079611</td>\n",
              "      <td>0.215724</td>\n",
              "      <td>0.201830</td>\n",
              "      <td>0.709126</td>\n",
              "      <td>0.001118</td>\n",
              "      <td>0.000250</td>\n",
              "      <td>0.000250</td>\n",
              "      <td>0.362932</td>\n",
              "      <td>False</td>\n",
              "    </tr>\n",
              "    <tr>\n",
              "      <th>2</th>\n",
              "      <td>0.331614</td>\n",
              "      <td>0.931162</td>\n",
              "      <td>0.755337</td>\n",
              "      <td>0.351158</td>\n",
              "      <td>0.620054</td>\n",
              "      <td>0.446019</td>\n",
              "      <td>0.388632</td>\n",
              "      <td>0.799975</td>\n",
              "      <td>0.006789</td>\n",
              "      <td>0.000250</td>\n",
              "      <td>0.000250</td>\n",
              "      <td>0.345599</td>\n",
              "      <td>False</td>\n",
              "    </tr>\n",
              "    <tr>\n",
              "      <th>3</th>\n",
              "      <td>0.459226</td>\n",
              "      <td>0.551405</td>\n",
              "      <td>0.963771</td>\n",
              "      <td>0.313111</td>\n",
              "      <td>0.916100</td>\n",
              "      <td>0.277198</td>\n",
              "      <td>0.259829</td>\n",
              "      <td>0.524203</td>\n",
              "      <td>0.228160</td>\n",
              "      <td>0.000250</td>\n",
              "      <td>0.000250</td>\n",
              "      <td>0.347032</td>\n",
              "      <td>False</td>\n",
              "    </tr>\n",
              "    <tr>\n",
              "      <th>4</th>\n",
              "      <td>0.393154</td>\n",
              "      <td>0.035396</td>\n",
              "      <td>0.573712</td>\n",
              "      <td>0.388593</td>\n",
              "      <td>0.414589</td>\n",
              "      <td>0.840294</td>\n",
              "      <td>0.434290</td>\n",
              "      <td>0.324454</td>\n",
              "      <td>0.018727</td>\n",
              "      <td>0.000250</td>\n",
              "      <td>0.000250</td>\n",
              "      <td>0.351799</td>\n",
              "      <td>False</td>\n",
              "    </tr>\n",
              "    <tr>\n",
              "      <th>...</th>\n",
              "      <td>...</td>\n",
              "      <td>...</td>\n",
              "      <td>...</td>\n",
              "      <td>...</td>\n",
              "      <td>...</td>\n",
              "      <td>...</td>\n",
              "      <td>...</td>\n",
              "      <td>...</td>\n",
              "      <td>...</td>\n",
              "      <td>...</td>\n",
              "      <td>...</td>\n",
              "      <td>...</td>\n",
              "      <td>...</td>\n",
              "    </tr>\n",
              "    <tr>\n",
              "      <th>495</th>\n",
              "      <td>0.800946</td>\n",
              "      <td>0.099143</td>\n",
              "      <td>0.400873</td>\n",
              "      <td>0.802304</td>\n",
              "      <td>0.778211</td>\n",
              "      <td>0.445209</td>\n",
              "      <td>0.598474</td>\n",
              "      <td>0.920041</td>\n",
              "      <td>0.002020</td>\n",
              "      <td>0.000250</td>\n",
              "      <td>0.000250</td>\n",
              "      <td>0.342334</td>\n",
              "      <td>False</td>\n",
              "    </tr>\n",
              "    <tr>\n",
              "      <th>496</th>\n",
              "      <td>0.233181</td>\n",
              "      <td>0.942256</td>\n",
              "      <td>0.590206</td>\n",
              "      <td>0.837968</td>\n",
              "      <td>0.638902</td>\n",
              "      <td>0.982532</td>\n",
              "      <td>0.965255</td>\n",
              "      <td>0.066413</td>\n",
              "      <td>0.002599</td>\n",
              "      <td>0.000250</td>\n",
              "      <td>0.000250</td>\n",
              "      <td>0.334328</td>\n",
              "      <td>False</td>\n",
              "    </tr>\n",
              "    <tr>\n",
              "      <th>497</th>\n",
              "      <td>0.746562</td>\n",
              "      <td>0.654267</td>\n",
              "      <td>0.715454</td>\n",
              "      <td>0.432280</td>\n",
              "      <td>0.888920</td>\n",
              "      <td>0.242553</td>\n",
              "      <td>0.871039</td>\n",
              "      <td>0.599723</td>\n",
              "      <td>0.003072</td>\n",
              "      <td>0.000250</td>\n",
              "      <td>0.000250</td>\n",
              "      <td>0.345446</td>\n",
              "      <td>False</td>\n",
              "    </tr>\n",
              "    <tr>\n",
              "      <th>498</th>\n",
              "      <td>0.732761</td>\n",
              "      <td>0.375587</td>\n",
              "      <td>0.797230</td>\n",
              "      <td>0.913438</td>\n",
              "      <td>0.742404</td>\n",
              "      <td>0.071199</td>\n",
              "      <td>0.675198</td>\n",
              "      <td>0.620174</td>\n",
              "      <td>0.003438</td>\n",
              "      <td>0.000250</td>\n",
              "      <td>0.000250</td>\n",
              "      <td>0.358220</td>\n",
              "      <td>False</td>\n",
              "    </tr>\n",
              "    <tr>\n",
              "      <th>499</th>\n",
              "      <td>0.742846</td>\n",
              "      <td>0.599258</td>\n",
              "      <td>0.143018</td>\n",
              "      <td>0.882771</td>\n",
              "      <td>0.443883</td>\n",
              "      <td>0.777899</td>\n",
              "      <td>0.675488</td>\n",
              "      <td>0.743362</td>\n",
              "      <td>0.003161</td>\n",
              "      <td>-0.000241</td>\n",
              "      <td>0.000081</td>\n",
              "      <td>0.339924</td>\n",
              "      <td>False</td>\n",
              "    </tr>\n",
              "  </tbody>\n",
              "</table>\n",
              "<p>500 rows × 13 columns</p>\n",
              "</div>\n",
              "    <div class=\"colab-df-buttons\">\n",
              "\n",
              "  <div class=\"colab-df-container\">\n",
              "    <button class=\"colab-df-convert\" onclick=\"convertToInteractive('df-0b2d86a1-d189-46f0-a7fc-122b1821cedc')\"\n",
              "            title=\"Convert this dataframe to an interactive table.\"\n",
              "            style=\"display:none;\">\n",
              "\n",
              "  <svg xmlns=\"http://www.w3.org/2000/svg\" height=\"24px\" viewBox=\"0 -960 960 960\">\n",
              "    <path d=\"M120-120v-720h720v720H120Zm60-500h600v-160H180v160Zm220 220h160v-160H400v160Zm0 220h160v-160H400v160ZM180-400h160v-160H180v160Zm440 0h160v-160H620v160ZM180-180h160v-160H180v160Zm440 0h160v-160H620v160Z\"/>\n",
              "  </svg>\n",
              "    </button>\n",
              "\n",
              "  <style>\n",
              "    .colab-df-container {\n",
              "      display:flex;\n",
              "      gap: 12px;\n",
              "    }\n",
              "\n",
              "    .colab-df-convert {\n",
              "      background-color: #E8F0FE;\n",
              "      border: none;\n",
              "      border-radius: 50%;\n",
              "      cursor: pointer;\n",
              "      display: none;\n",
              "      fill: #1967D2;\n",
              "      height: 32px;\n",
              "      padding: 0 0 0 0;\n",
              "      width: 32px;\n",
              "    }\n",
              "\n",
              "    .colab-df-convert:hover {\n",
              "      background-color: #E2EBFA;\n",
              "      box-shadow: 0px 1px 2px rgba(60, 64, 67, 0.3), 0px 1px 3px 1px rgba(60, 64, 67, 0.15);\n",
              "      fill: #174EA6;\n",
              "    }\n",
              "\n",
              "    .colab-df-buttons div {\n",
              "      margin-bottom: 4px;\n",
              "    }\n",
              "\n",
              "    [theme=dark] .colab-df-convert {\n",
              "      background-color: #3B4455;\n",
              "      fill: #D2E3FC;\n",
              "    }\n",
              "\n",
              "    [theme=dark] .colab-df-convert:hover {\n",
              "      background-color: #434B5C;\n",
              "      box-shadow: 0px 1px 3px 1px rgba(0, 0, 0, 0.15);\n",
              "      filter: drop-shadow(0px 1px 2px rgba(0, 0, 0, 0.3));\n",
              "      fill: #FFFFFF;\n",
              "    }\n",
              "  </style>\n",
              "\n",
              "    <script>\n",
              "      const buttonEl =\n",
              "        document.querySelector('#df-0b2d86a1-d189-46f0-a7fc-122b1821cedc button.colab-df-convert');\n",
              "      buttonEl.style.display =\n",
              "        google.colab.kernel.accessAllowed ? 'block' : 'none';\n",
              "\n",
              "      async function convertToInteractive(key) {\n",
              "        const element = document.querySelector('#df-0b2d86a1-d189-46f0-a7fc-122b1821cedc');\n",
              "        const dataTable =\n",
              "          await google.colab.kernel.invokeFunction('convertToInteractive',\n",
              "                                                    [key], {});\n",
              "        if (!dataTable) return;\n",
              "\n",
              "        const docLinkHtml = 'Like what you see? Visit the ' +\n",
              "          '<a target=\"_blank\" href=https://colab.research.google.com/notebooks/data_table.ipynb>data table notebook</a>'\n",
              "          + ' to learn more about interactive tables.';\n",
              "        element.innerHTML = '';\n",
              "        dataTable['output_type'] = 'display_data';\n",
              "        await google.colab.output.renderOutput(dataTable, element);\n",
              "        const docLink = document.createElement('div');\n",
              "        docLink.innerHTML = docLinkHtml;\n",
              "        element.appendChild(docLink);\n",
              "      }\n",
              "    </script>\n",
              "  </div>\n",
              "\n",
              "\n",
              "<div id=\"df-8c1667a0-1895-4c3a-916a-d80d7128e4a5\">\n",
              "  <button class=\"colab-df-quickchart\" onclick=\"quickchart('df-8c1667a0-1895-4c3a-916a-d80d7128e4a5')\"\n",
              "            title=\"Suggest charts\"\n",
              "            style=\"display:none;\">\n",
              "\n",
              "<svg xmlns=\"http://www.w3.org/2000/svg\" height=\"24px\"viewBox=\"0 0 24 24\"\n",
              "     width=\"24px\">\n",
              "    <g>\n",
              "        <path d=\"M19 3H5c-1.1 0-2 .9-2 2v14c0 1.1.9 2 2 2h14c1.1 0 2-.9 2-2V5c0-1.1-.9-2-2-2zM9 17H7v-7h2v7zm4 0h-2V7h2v10zm4 0h-2v-4h2v4z\"/>\n",
              "    </g>\n",
              "</svg>\n",
              "  </button>\n",
              "\n",
              "<style>\n",
              "  .colab-df-quickchart {\n",
              "      --bg-color: #E8F0FE;\n",
              "      --fill-color: #1967D2;\n",
              "      --hover-bg-color: #E2EBFA;\n",
              "      --hover-fill-color: #174EA6;\n",
              "      --disabled-fill-color: #AAA;\n",
              "      --disabled-bg-color: #DDD;\n",
              "  }\n",
              "\n",
              "  [theme=dark] .colab-df-quickchart {\n",
              "      --bg-color: #3B4455;\n",
              "      --fill-color: #D2E3FC;\n",
              "      --hover-bg-color: #434B5C;\n",
              "      --hover-fill-color: #FFFFFF;\n",
              "      --disabled-bg-color: #3B4455;\n",
              "      --disabled-fill-color: #666;\n",
              "  }\n",
              "\n",
              "  .colab-df-quickchart {\n",
              "    background-color: var(--bg-color);\n",
              "    border: none;\n",
              "    border-radius: 50%;\n",
              "    cursor: pointer;\n",
              "    display: none;\n",
              "    fill: var(--fill-color);\n",
              "    height: 32px;\n",
              "    padding: 0;\n",
              "    width: 32px;\n",
              "  }\n",
              "\n",
              "  .colab-df-quickchart:hover {\n",
              "    background-color: var(--hover-bg-color);\n",
              "    box-shadow: 0 1px 2px rgba(60, 64, 67, 0.3), 0 1px 3px 1px rgba(60, 64, 67, 0.15);\n",
              "    fill: var(--button-hover-fill-color);\n",
              "  }\n",
              "\n",
              "  .colab-df-quickchart-complete:disabled,\n",
              "  .colab-df-quickchart-complete:disabled:hover {\n",
              "    background-color: var(--disabled-bg-color);\n",
              "    fill: var(--disabled-fill-color);\n",
              "    box-shadow: none;\n",
              "  }\n",
              "\n",
              "  .colab-df-spinner {\n",
              "    border: 2px solid var(--fill-color);\n",
              "    border-color: transparent;\n",
              "    border-bottom-color: var(--fill-color);\n",
              "    animation:\n",
              "      spin 1s steps(1) infinite;\n",
              "  }\n",
              "\n",
              "  @keyframes spin {\n",
              "    0% {\n",
              "      border-color: transparent;\n",
              "      border-bottom-color: var(--fill-color);\n",
              "      border-left-color: var(--fill-color);\n",
              "    }\n",
              "    20% {\n",
              "      border-color: transparent;\n",
              "      border-left-color: var(--fill-color);\n",
              "      border-top-color: var(--fill-color);\n",
              "    }\n",
              "    30% {\n",
              "      border-color: transparent;\n",
              "      border-left-color: var(--fill-color);\n",
              "      border-top-color: var(--fill-color);\n",
              "      border-right-color: var(--fill-color);\n",
              "    }\n",
              "    40% {\n",
              "      border-color: transparent;\n",
              "      border-right-color: var(--fill-color);\n",
              "      border-top-color: var(--fill-color);\n",
              "    }\n",
              "    60% {\n",
              "      border-color: transparent;\n",
              "      border-right-color: var(--fill-color);\n",
              "    }\n",
              "    80% {\n",
              "      border-color: transparent;\n",
              "      border-right-color: var(--fill-color);\n",
              "      border-bottom-color: var(--fill-color);\n",
              "    }\n",
              "    90% {\n",
              "      border-color: transparent;\n",
              "      border-bottom-color: var(--fill-color);\n",
              "    }\n",
              "  }\n",
              "</style>\n",
              "\n",
              "  <script>\n",
              "    async function quickchart(key) {\n",
              "      const quickchartButtonEl =\n",
              "        document.querySelector('#' + key + ' button');\n",
              "      quickchartButtonEl.disabled = true;  // To prevent multiple clicks.\n",
              "      quickchartButtonEl.classList.add('colab-df-spinner');\n",
              "      try {\n",
              "        const charts = await google.colab.kernel.invokeFunction(\n",
              "            'suggestCharts', [key], {});\n",
              "      } catch (error) {\n",
              "        console.error('Error during call to suggestCharts:', error);\n",
              "      }\n",
              "      quickchartButtonEl.classList.remove('colab-df-spinner');\n",
              "      quickchartButtonEl.classList.add('colab-df-quickchart-complete');\n",
              "    }\n",
              "    (() => {\n",
              "      let quickchartButtonEl =\n",
              "        document.querySelector('#df-8c1667a0-1895-4c3a-916a-d80d7128e4a5 button');\n",
              "      quickchartButtonEl.style.display =\n",
              "        google.colab.kernel.accessAllowed ? 'block' : 'none';\n",
              "    })();\n",
              "  </script>\n",
              "</div>\n",
              "\n",
              "    </div>\n",
              "  </div>\n"
            ],
            "text/plain": [
              "           x1        x2        x3        x4        x5        x6        x7  \\\n",
              "0    0.581197  0.211253  0.915438  0.888739  0.511628  0.310491  0.229443   \n",
              "1    0.097843  0.686774  0.937406  0.371146  0.079611  0.215724  0.201830   \n",
              "2    0.331614  0.931162  0.755337  0.351158  0.620054  0.446019  0.388632   \n",
              "3    0.459226  0.551405  0.963771  0.313111  0.916100  0.277198  0.259829   \n",
              "4    0.393154  0.035396  0.573712  0.388593  0.414589  0.840294  0.434290   \n",
              "..        ...       ...       ...       ...       ...       ...       ...   \n",
              "495  0.800946  0.099143  0.400873  0.802304  0.778211  0.445209  0.598474   \n",
              "496  0.233181  0.942256  0.590206  0.837968  0.638902  0.982532  0.965255   \n",
              "497  0.746562  0.654267  0.715454  0.432280  0.888920  0.242553  0.871039   \n",
              "498  0.732761  0.375587  0.797230  0.913438  0.742404  0.071199  0.675198   \n",
              "499  0.742846  0.599258  0.143018  0.882771  0.443883  0.777899  0.675488   \n",
              "\n",
              "           x8        f1        f2        f3  xopt_runtime  xopt_error  \n",
              "0    0.743662  0.036182  0.000250  0.000250      0.363303       False  \n",
              "1    0.709126  0.001118  0.000250  0.000250      0.362932       False  \n",
              "2    0.799975  0.006789  0.000250  0.000250      0.345599       False  \n",
              "3    0.524203  0.228160  0.000250  0.000250      0.347032       False  \n",
              "4    0.324454  0.018727  0.000250  0.000250      0.351799       False  \n",
              "..        ...       ...       ...       ...           ...         ...  \n",
              "495  0.920041  0.002020  0.000250  0.000250      0.342334       False  \n",
              "496  0.066413  0.002599  0.000250  0.000250      0.334328       False  \n",
              "497  0.599723  0.003072  0.000250  0.000250      0.345446       False  \n",
              "498  0.620174  0.003438  0.000250  0.000250      0.358220       False  \n",
              "499  0.743362  0.003161 -0.000241  0.000081      0.339924       False  \n",
              "\n",
              "[500 rows x 13 columns]"
            ]
          },
          "execution_count": 86,
          "metadata": {},
          "output_type": "execute_result"
        }
      ],
      "source": [
        "generator.n_monte_carlo_samples = 256\n",
        "generator.numerical_optimizer.n_restarts = 40\n",
        "\n",
        "\n",
        "X = Xopt(generator=generator, evaluator=evaluator, vocs=vocs)\n",
        "X.random_evaluate(500)\n",
        "X.data"
      ]
    },
    {
      "cell_type": "code",
      "execution_count": null,
      "metadata": {
        "id": "jZz2KLitmOvB"
      },
      "outputs": [],
      "source": [
        "def get_mic(x, y):\n",
        "  mine = MINE(alpha=0.6, c=15, est=\"mic_approx\")\n",
        "  mine.compute_score(x, y)\n",
        "  MIC=mine.mic()\n",
        "  return MIC"
      ]
    },
    {
      "cell_type": "code",
      "execution_count": null,
      "metadata": {
        "colab": {
          "base_uri": "https://localhost:8080/"
        },
        "id": "o8N6RihamOf1",
        "outputId": "65ea15f3-6b08-4eba-f2a8-a8b86026e7cd"
      },
      "outputs": [
        {
          "name": "stdout",
          "output_type": "stream",
          "text": [
            "x1 :  0.23040581026555454\n",
            "x2 :  0.17555432706999746\n",
            "x3 :  0.22485101268722\n",
            "x4 :  0.17986584147468482\n",
            "x5 :  0.1661992845505497\n",
            "x6 :  0.20297927507782904\n",
            "x7 :  0.2406029611438286\n",
            "x8 :  0.2463662983675769\n"
          ]
        }
      ],
      "source": [
        "mics = []\n",
        "for x in [\"x1\", \"x2\", \"x3\", \"x4\", \"x5\", \"x6\", \"x7\", \"x8\"]:\n",
        "  mic = get_mic(X.generator.data[x], X.generator.data[\"f2\"])\n",
        "  print(x, \": \",mic)\n",
        "  mics.append(mic)"
      ]
    },
    {
      "cell_type": "code",
      "execution_count": null,
      "metadata": {
        "colab": {
          "base_uri": "https://localhost:8080/",
          "height": 449
        },
        "id": "RROwGmAlmN8Y",
        "outputId": "658ca31a-0c3f-40b4-cd1d-a87a2e7a0ef0"
      },
      "outputs": [
        {
          "data": {
            "image/png": "[encoded data removed]",
            "text/plain": [
              "<Figure size 640x480 with 1 Axes>"
            ]
          },
          "metadata": {},
          "output_type": "display_data"
        }
      ],
      "source": [
        "labels = [\"t1_th1\", \"t1_th2\", \"t1_chi1\", \"t1_chi2\", \"t4_th1\", \"t4_th2\", \"t4_chi1\", \"t4_chi2\"]\n",
        "plt.barh(labels, mics)\n",
        "plt.grid()\n",
        "plt.xlabel(\"Maximum Information Coefficient\");"
      ]
    },
    {
      "cell_type": "code",
      "execution_count": null,
      "metadata": {
        "colab": {
          "base_uri": "https://localhost:8080/"
        },
        "id": "Q85DlsxZm0ly",
        "outputId": "af7ea8e6-718e-4e55-f015-3f4d08b44039"
      },
      "outputs": [
        {
          "name": "stdout",
          "output_type": "stream",
          "text": [
            "x1 :  0.23040581026555454\n",
            "x2 :  0.17555432706999746\n",
            "x3 :  0.22485101268722\n",
            "x4 :  0.17986584147468482\n",
            "x5 :  0.1661992845505497\n",
            "x6 :  0.20297927507782904\n",
            "x7 :  0.2406029611438286\n",
            "x8 :  0.2463662983675769\n"
          ]
        }
      ],
      "source": [
        "mics = []\n",
        "for x in [\"x1\", \"x2\", \"x3\", \"x4\", \"x5\", \"x6\", \"x7\", \"x8\"]:\n",
        "  mic = get_mic(X.generator.data[x], X.generator.data[\"f3\"])\n",
        "  print(x, \": \",mic)\n",
        "  mics.append(mic)"
      ]
    },
    {
      "cell_type": "code",
      "execution_count": null,
      "metadata": {
        "colab": {
          "base_uri": "https://localhost:8080/",
          "height": 449
        },
        "id": "67Y2mTosm0cY",
        "outputId": "f4afa528-ac8f-4ecc-d225-ffa37a7d0428"
      },
      "outputs": [
        {
          "data": {
            "image/png": "[encoded data removed]",
            "text/plain": [
              "<Figure size 640x480 with 1 Axes>"
            ]
          },
          "metadata": {},
          "output_type": "display_data"
        }
      ],
      "source": [
        "labels = [\"t1_th1\", \"t1_th2\", \"t1_chi1\", \"t1_chi2\", \"t4_th1\", \"t4_th2\", \"t4_chi1\", \"t4_chi2\"]\n",
        "plt.barh(labels, mics)\n",
        "plt.grid()\n",
        "plt.xlabel(\"Maximum Information Coefficient\");"
      ]
    },
    {
      "cell_type": "code",
      "execution_count": null,
      "metadata": {
        "colab": {
          "base_uri": "https://localhost:8080/",
          "height": 592
        },
        "id": "Yilxlxibm0PV",
        "outputId": "a3ab14fb-5caf-4670-d956-da77072a094d"
      },
      "outputs": [
        {
          "name": "stdout",
          "output_type": "stream",
          "text": [
            "x1 :  0.14982888109590267\n",
            "x2 :  0.12823371173932382\n",
            "x3 :  0.13677777378743342\n",
            "x4 :  0.14891999845259027\n",
            "x5 :  0.15735753133567512\n",
            "x6 :  0.13587136262439006\n",
            "x7 :  0.14181071320473806\n",
            "x8 :  0.13145965973399104\n"
          ]
        },
        {
          "data": {
            "image/png": "[encoded data removed]",
            "text/plain": [
              "<Figure size 640x480 with 1 Axes>"
            ]
          },
          "metadata": {},
          "output_type": "display_data"
        }
      ],
      "source": [
        "mics = []\n",
        "for x in [\"x1\", \"x2\", \"x3\", \"x4\", \"x5\", \"x6\", \"x7\", \"x8\"]:\n",
        "  mic = get_mic(X.generator.data[x], X.generator.data[\"f3\"])\n",
        "  print(x, \": \",mic)\n",
        "  mics.append(mic)\n",
        "labels = [\"t1_th1\", \"t1_th2\", \"t1_chi1\", \"t1_chi2\", \"t4_th1\", \"t4_th2\", \"t4_chi1\", \"t4_chi2\"]\n",
        "plt.barh(labels, mics)\n",
        "plt.grid()\n",
        "plt.xlabel(\"Maximum Information Coefficient\");"
      ]
    },
    {
      "cell_type": "code",
      "execution_count": null,
      "metadata": {
        "colab": {
          "base_uri": "https://localhost:8080/",
          "height": 592
        },
        "id": "VNqsdzlxo0zg",
        "outputId": "97bfa81f-fd42-41c1-f8e7-51b227dfcf50"
      },
      "outputs": [
        {
          "name": "stdout",
          "output_type": "stream",
          "text": [
            "x1 :  0.14982888109590267\n",
            "x2 :  0.12823371173932382\n",
            "x3 :  0.13677777378743342\n",
            "x4 :  0.14891999845259027\n",
            "x5 :  0.15735753133567512\n",
            "x6 :  0.13587136262439006\n",
            "x7 :  0.14181071320473806\n",
            "x8 :  0.13145965973399104\n"
          ]
        },
        {
          "data": {
            "image/png": "[encoded data removed]",
            "text/plain": [
              "<Figure size 640x480 with 1 Axes>"
            ]
          },
          "metadata": {},
          "output_type": "display_data"
        }
      ],
      "source": [
        "mics = []\n",
        "for x in [\"x1\", \"x2\", \"x3\", \"x4\", \"x5\", \"x6\", \"x7\", \"x8\"]:\n",
        "  mic = get_mic(X.generator.data[x], X.generator.data[\"f2\"])\n",
        "  print(x, \": \",mic)\n",
        "  mics.append(mic)\n",
        "labels = [\"t1_th1\", \"t1_th2\", \"t1_chi1\", \"t1_chi2\", \"t4_th1\", \"t4_th2\", \"t4_chi1\", \"t4_chi2\"]\n",
        "plt.barh(labels, mics)\n",
        "plt.grid()\n",
        "plt.xlabel(\"Maximum Information Coefficient\");"
      ]
    },
    {
      "cell_type": "code",
      "execution_count": null,
      "metadata": {
        "colab": {
          "base_uri": "https://localhost:8080/",
          "height": 592
        },
        "id": "LjiRYZZmo0Zt",
        "outputId": "40d033e3-2762-40b3-da58-a18cf183cb09"
      },
      "outputs": [
        {
          "name": "stdout",
          "output_type": "stream",
          "text": [
            "x1 :  1.0000000000000002\n",
            "x2 :  0.16781058195430584\n",
            "x3 :  0.15825754572267126\n",
            "x4 :  0.14918397497082692\n",
            "x5 :  0.15679242558805917\n",
            "x6 :  0.1533493338459792\n",
            "x7 :  0.16108828313412638\n",
            "x8 :  0.153181989980793\n"
          ]
        },
        {
          "data": {
            "image/png": "[encoded data removed]",
            "text/plain": [
              "<Figure size 640x480 with 1 Axes>"
            ]
          },
          "metadata": {},
          "output_type": "display_data"
        }
      ],
      "source": [
        "mics = []\n",
        "for x in [\"x1\", \"x2\", \"x3\", \"x4\", \"x5\", \"x6\", \"x7\", \"x8\"]:\n",
        "  mic = get_mic(X.generator.data[x], X.generator.data[\"f1\"])\n",
        "  print(x, \": \",mic)\n",
        "  mics.append(mic)\n",
        "labels = [\"t1_th1\", \"t1_th2\", \"t1_chi1\", \"t1_chi2\", \"t4_th1\", \"t4_th2\", \"t4_chi1\", \"t4_chi2\"]\n",
        "plt.barh(labels, mics)\n",
        "plt.grid()\n",
        "plt.xlabel(\"Maximum Information Coefficient\");"
      ]
    },
    {
      "cell_type": "code",
      "execution_count": null,
      "metadata": {
        "colab": {
          "base_uri": "https://localhost:8080/"
        },
        "id": "GfcR2OJrqFY4",
        "outputId": "42b7247d-f860-43fc-ff1a-02d5768e09a9"
      },
      "outputs": [
        {
          "name": "stdout",
          "output_type": "stream",
          "text": [
            "0\n",
            "1\n",
            "2\n",
            "3\n",
            "4\n",
            "5\n",
            "6\n",
            "7\n",
            "8\n",
            "9\n",
            "10\n",
            "11\n",
            "12\n",
            "13\n",
            "14\n",
            "15\n",
            "16\n",
            "17\n",
            "18\n",
            "19\n",
            "20\n",
            "21\n",
            "22\n",
            "23\n",
            "24\n",
            "25\n",
            "26\n",
            "27\n",
            "28\n",
            "29\n",
            "30\n",
            "31\n",
            "32\n",
            "33\n",
            "34\n",
            "35\n",
            "36\n",
            "37\n",
            "38\n",
            "39\n",
            "40\n",
            "41\n",
            "42\n",
            "43\n",
            "44\n",
            "45\n",
            "46\n",
            "47\n",
            "48\n",
            "49\n",
            "50\n",
            "51\n",
            "52\n",
            "53\n",
            "54\n",
            "55\n",
            "56\n",
            "57\n",
            "58\n",
            "59\n",
            "60\n",
            "61\n",
            "62\n",
            "63\n",
            "64\n",
            "65\n",
            "66\n",
            "67\n",
            "68\n",
            "69\n",
            "70\n",
            "71\n",
            "72\n",
            "73\n",
            "74\n",
            "75\n",
            "76\n",
            "77\n",
            "78\n",
            "79\n",
            "80\n",
            "81\n",
            "82\n",
            "83\n",
            "84\n",
            "85\n",
            "86\n",
            "87\n",
            "88\n",
            "89\n",
            "90\n",
            "91\n",
            "92\n",
            "93\n",
            "94\n",
            "95\n",
            "96\n",
            "97\n",
            "98\n",
            "99\n"
          ]
        }
      ],
      "source": [
        "for i in range(100):\n",
        "  print(i)\n",
        "  X.step()"
      ]
    },
    {
      "cell_type": "code",
      "execution_count": null,
      "metadata": {
        "colab": {
          "base_uri": "https://localhost:8080/",
          "height": 424
        },
        "id": "YpbZHzB2rMZ8",
        "outputId": "1573e93e-b34c-431d-a41a-e7691b529663"
      },
      "outputs": [
        {
          "data": {
            "application/vnd.google.colaboratory.intrinsic+json": {
              "summary": "{\n  \"name\": \"X\",\n  \"rows\": 102,\n  \"fields\": [\n    {\n      \"column\": \"x1\",\n      \"properties\": {\n        \"dtype\": \"number\",\n        \"std\": 0.09849097449510968,\n        \"min\": 0.2514239144511521,\n        \"max\": 0.7399647533893585,\n        \"num_unique_values\": 102,\n        \"samples\": [\n          0.5081890721558815,\n          0.48359577206741733,\n          0.4833670577316693\n        ],\n        \"semantic_type\": \"\",\n        \"description\": \"\"\n      }\n    },\n    {\n      \"column\": \"x2\",\n      \"properties\": {\n        \"dtype\": \"number\",\n        \"std\": 0.08657538703838559,\n        \"min\": 0.26437996487878773,\n        \"max\": 0.7443540096282959,\n        \"num_unique_values\": 102,\n        \"samples\": [\n          0.47308761606214156,\n          0.4379018995667787,\n          0.4415638921669464\n        ],\n        \"semantic_type\": \"\",\n        \"description\": \"\"\n      }\n    },\n    {\n      \"column\": \"x3\",\n      \"properties\": {\n        \"dtype\": \"number\",\n        \"std\": 0.14772173979155284,\n        \"min\": 0.2865283228456974,\n        \"max\": 0.75,\n        \"num_unique_values\": 55,\n        \"samples\": [\n          0.6543371081352234,\n          0.7496193225990293,\n          0.44072794914245605\n        ],\n        \"semantic_type\": \"\",\n        \"description\": \"\"\n      }\n    },\n    {\n      \"column\": \"x4\",\n      \"properties\": {\n        \"dtype\": \"number\",\n        \"std\": 0.10005096760677012,\n        \"min\": 0.250473047606647,\n        \"max\": 0.724940687417984,\n        \"num_unique_values\": 102,\n        \"samples\": [\n          0.6267304652513362,\n          0.5376971960942029,\n          0.6212267520174931\n        ],\n        \"semantic_type\": \"\",\n        \"description\": \"\"\n      }\n    },\n    {\n      \"column\": \"x5\",\n      \"properties\": {\n        \"dtype\": \"number\",\n        \"std\": 0.10979131057400719,\n        \"min\": 0.2633023336529732,\n        \"max\": 0.7417687295653306,\n        \"num_unique_values\": 102,\n        \"samples\": [\n          0.5992813308616666,\n          0.5731751782178132,\n          0.6140929264051542\n        ],\n        \"semantic_type\": \"\",\n        \"description\": \"\"\n      }\n    },\n    {\n      \"column\": \"x6\",\n      \"properties\": {\n        \"dtype\": \"number\",\n        \"std\": 0.09661701146619761,\n        \"min\": 0.25627447245642543,\n        \"max\": 0.746253490447998,\n        \"num_unique_values\": 102,\n        \"samples\": [\n          0.6090609247796314,\n          0.5728245371286946,\n          0.5914184357911182\n        ],\n        \"semantic_type\": \"\",\n        \"description\": \"\"\n      }\n    },\n    {\n      \"column\": \"x7\",\n      \"properties\": {\n        \"dtype\": \"number\",\n        \"std\": 0.1273567910294559,\n        \"min\": 0.25,\n        \"max\": 0.7235475480556488,\n        \"num_unique_values\": 85,\n        \"samples\": [\n          0.45142650604248047,\n          0.5610765498948662,\n          0.716254323720932\n        ],\n        \"semantic_type\": \"\",\n        \"description\": \"\"\n      }\n    },\n    {\n      \"column\": \"x8\",\n      \"properties\": {\n        \"dtype\": \"number\",\n        \"std\": 0.08601909303139689,\n        \"min\": 0.2589115449430795,\n        \"max\": 0.7178289294242859,\n        \"num_unique_values\": 102,\n        \"samples\": [\n          0.548761157503154,\n          0.4660180109336884,\n          0.47852286545044026\n        ],\n        \"semantic_type\": \"\",\n        \"description\": \"\"\n      }\n    },\n    {\n      \"column\": \"f1\",\n      \"properties\": {\n        \"dtype\": \"number\",\n        \"std\": 0.43054038840673986,\n        \"min\": 0.0030142737086862326,\n        \"max\": 1.077161431312561,\n        \"num_unique_values\": 102,\n        \"samples\": [\n          1.0731933116912842,\n          0.9911112785339355,\n          0.9983401298522949\n        ],\n        \"semantic_type\": \"\",\n        \"description\": \"\"\n      }\n    },\n    {\n      \"column\": \"f2\",\n      \"properties\": {\n        \"dtype\": \"number\",\n        \"std\": 0.052422354445071,\n        \"min\": 0.47309404611587524,\n        \"max\": 0.6503308415412903,\n        \"num_unique_values\": 80,\n        \"samples\": [\n          0.5534319877624512,\n          0.47309404611587524,\n          0.5203052163124084\n        ],\n        \"semantic_type\": \"\",\n        \"description\": \"\"\n      }\n    },\n    {\n      \"column\": \"xopt_runtime\",\n      \"properties\": {\n        \"dtype\": \"number\",\n        \"std\": 0.08116635890949665,\n        \"min\": 0.29816998000023887,\n        \"max\": 0.6056041270003334,\n        \"num_unique_values\": 102,\n        \"samples\": [\n          0.3161953529997845,\n          0.3193984099998488,\n          0.5538872689994605\n        ],\n        \"semantic_type\": \"\",\n        \"description\": \"\"\n      }\n    },\n    {\n      \"column\": \"xopt_error\",\n      \"properties\": {\n        \"dtype\": \"boolean\",\n        \"num_unique_values\": 1,\n        \"samples\": [\n          false\n        ],\n        \"semantic_type\": \"\",\n        \"description\": \"\"\n      }\n    }\n  ]\n}",
              "type": "dataframe"
            },
            "text/html": [
              "\n",
              "  <div id=\"df-f88a92cd-b912-485c-a7d7-b0c1c11c6461\" class=\"colab-df-container\">\n",
              "    <div>\n",
              "<style scoped>\n",
              "    .dataframe tbody tr th:only-of-type {\n",
              "        vertical-align: middle;\n",
              "    }\n",
              "\n",
              "    .dataframe tbody tr th {\n",
              "        vertical-align: top;\n",
              "    }\n",
              "\n",
              "    .dataframe thead th {\n",
              "        text-align: right;\n",
              "    }\n",
              "</style>\n",
              "<table border=\"1\" class=\"dataframe\">\n",
              "  <thead>\n",
              "    <tr style=\"text-align: right;\">\n",
              "      <th></th>\n",
              "      <th>x1</th>\n",
              "      <th>x2</th>\n",
              "      <th>x3</th>\n",
              "      <th>x4</th>\n",
              "      <th>x5</th>\n",
              "      <th>x6</th>\n",
              "      <th>x7</th>\n",
              "      <th>x8</th>\n",
              "      <th>f1</th>\n",
              "      <th>f2</th>\n",
              "      <th>xopt_runtime</th>\n",
              "      <th>xopt_error</th>\n",
              "    </tr>\n",
              "  </thead>\n",
              "  <tbody>\n",
              "    <tr>\n",
              "      <th>0</th>\n",
              "      <td>0.280899</td>\n",
              "      <td>0.618092</td>\n",
              "      <td>0.387023</td>\n",
              "      <td>0.676390</td>\n",
              "      <td>0.721505</td>\n",
              "      <td>0.619388</td>\n",
              "      <td>0.561077</td>\n",
              "      <td>0.258912</td>\n",
              "      <td>0.003843</td>\n",
              "      <td>0.473094</td>\n",
              "      <td>0.605604</td>\n",
              "      <td>False</td>\n",
              "    </tr>\n",
              "    <tr>\n",
              "      <th>1</th>\n",
              "      <td>0.403506</td>\n",
              "      <td>0.423805</td>\n",
              "      <td>0.744354</td>\n",
              "      <td>0.675219</td>\n",
              "      <td>0.703456</td>\n",
              "      <td>0.619884</td>\n",
              "      <td>0.466891</td>\n",
              "      <td>0.395147</td>\n",
              "      <td>0.025021</td>\n",
              "      <td>0.491633</td>\n",
              "      <td>0.325034</td>\n",
              "      <td>False</td>\n",
              "    </tr>\n",
              "    <tr>\n",
              "      <th>2</th>\n",
              "      <td>0.465592</td>\n",
              "      <td>0.324839</td>\n",
              "      <td>0.750000</td>\n",
              "      <td>0.674756</td>\n",
              "      <td>0.694763</td>\n",
              "      <td>0.620217</td>\n",
              "      <td>0.418410</td>\n",
              "      <td>0.464523</td>\n",
              "      <td>0.234990</td>\n",
              "      <td>0.478840</td>\n",
              "      <td>0.385248</td>\n",
              "      <td>False</td>\n",
              "    </tr>\n",
              "    <tr>\n",
              "      <th>3</th>\n",
              "      <td>0.379005</td>\n",
              "      <td>0.264380</td>\n",
              "      <td>0.750000</td>\n",
              "      <td>0.675566</td>\n",
              "      <td>0.715293</td>\n",
              "      <td>0.619437</td>\n",
              "      <td>0.506628</td>\n",
              "      <td>0.387651</td>\n",
              "      <td>0.027855</td>\n",
              "      <td>0.476867</td>\n",
              "      <td>0.316340</td>\n",
              "      <td>False</td>\n",
              "    </tr>\n",
              "    <tr>\n",
              "      <th>4</th>\n",
              "      <td>0.477045</td>\n",
              "      <td>0.434754</td>\n",
              "      <td>0.749671</td>\n",
              "      <td>0.674796</td>\n",
              "      <td>0.694662</td>\n",
              "      <td>0.620216</td>\n",
              "      <td>0.411454</td>\n",
              "      <td>0.476296</td>\n",
              "      <td>0.945371</td>\n",
              "      <td>0.512590</td>\n",
              "      <td>0.415459</td>\n",
              "      <td>False</td>\n",
              "    </tr>\n",
              "    <tr>\n",
              "      <th>...</th>\n",
              "      <td>...</td>\n",
              "      <td>...</td>\n",
              "      <td>...</td>\n",
              "      <td>...</td>\n",
              "      <td>...</td>\n",
              "      <td>...</td>\n",
              "      <td>...</td>\n",
              "      <td>...</td>\n",
              "      <td>...</td>\n",
              "      <td>...</td>\n",
              "      <td>...</td>\n",
              "      <td>...</td>\n",
              "    </tr>\n",
              "    <tr>\n",
              "      <th>97</th>\n",
              "      <td>0.609380</td>\n",
              "      <td>0.577010</td>\n",
              "      <td>0.453188</td>\n",
              "      <td>0.250473</td>\n",
              "      <td>0.263302</td>\n",
              "      <td>0.432865</td>\n",
              "      <td>0.481349</td>\n",
              "      <td>0.397988</td>\n",
              "      <td>0.018088</td>\n",
              "      <td>0.473094</td>\n",
              "      <td>0.312028</td>\n",
              "      <td>False</td>\n",
              "    </tr>\n",
              "    <tr>\n",
              "      <th>98</th>\n",
              "      <td>0.685235</td>\n",
              "      <td>0.651930</td>\n",
              "      <td>0.596292</td>\n",
              "      <td>0.692240</td>\n",
              "      <td>0.646119</td>\n",
              "      <td>0.375941</td>\n",
              "      <td>0.253942</td>\n",
              "      <td>0.285114</td>\n",
              "      <td>0.005653</td>\n",
              "      <td>0.485858</td>\n",
              "      <td>0.310415</td>\n",
              "      <td>False</td>\n",
              "    </tr>\n",
              "    <tr>\n",
              "      <th>99</th>\n",
              "      <td>0.721477</td>\n",
              "      <td>0.317078</td>\n",
              "      <td>0.427456</td>\n",
              "      <td>0.380799</td>\n",
              "      <td>0.462456</td>\n",
              "      <td>0.363041</td>\n",
              "      <td>0.520948</td>\n",
              "      <td>0.630091</td>\n",
              "      <td>0.003754</td>\n",
              "      <td>0.473094</td>\n",
              "      <td>0.309342</td>\n",
              "      <td>False</td>\n",
              "    </tr>\n",
              "    <tr>\n",
              "      <th>100</th>\n",
              "      <td>0.685059</td>\n",
              "      <td>0.391987</td>\n",
              "      <td>0.553286</td>\n",
              "      <td>0.641736</td>\n",
              "      <td>0.308687</td>\n",
              "      <td>0.386867</td>\n",
              "      <td>0.643863</td>\n",
              "      <td>0.323220</td>\n",
              "      <td>0.005597</td>\n",
              "      <td>0.473094</td>\n",
              "      <td>0.308407</td>\n",
              "      <td>False</td>\n",
              "    </tr>\n",
              "    <tr>\n",
              "      <th>101</th>\n",
              "      <td>0.647407</td>\n",
              "      <td>0.293974</td>\n",
              "      <td>0.427966</td>\n",
              "      <td>0.576733</td>\n",
              "      <td>0.287768</td>\n",
              "      <td>0.389797</td>\n",
              "      <td>0.686108</td>\n",
              "      <td>0.294567</td>\n",
              "      <td>0.008844</td>\n",
              "      <td>0.473094</td>\n",
              "      <td>0.320767</td>\n",
              "      <td>False</td>\n",
              "    </tr>\n",
              "  </tbody>\n",
              "</table>\n",
              "<p>102 rows × 12 columns</p>\n",
              "</div>\n",
              "    <div class=\"colab-df-buttons\">\n",
              "\n",
              "  <div class=\"colab-df-container\">\n",
              "    <button class=\"colab-df-convert\" onclick=\"convertToInteractive('df-f88a92cd-b912-485c-a7d7-b0c1c11c6461')\"\n",
              "            title=\"Convert this dataframe to an interactive table.\"\n",
              "            style=\"display:none;\">\n",
              "\n",
              "  <svg xmlns=\"http://www.w3.org/2000/svg\" height=\"24px\" viewBox=\"0 -960 960 960\">\n",
              "    <path d=\"M120-120v-720h720v720H120Zm60-500h600v-160H180v160Zm220 220h160v-160H400v160Zm0 220h160v-160H400v160ZM180-400h160v-160H180v160Zm440 0h160v-160H620v160ZM180-180h160v-160H180v160Zm440 0h160v-160H620v160Z\"/>\n",
              "  </svg>\n",
              "    </button>\n",
              "\n",
              "  <style>\n",
              "    .colab-df-container {\n",
              "      display:flex;\n",
              "      gap: 12px;\n",
              "    }\n",
              "\n",
              "    .colab-df-convert {\n",
              "      background-color: #E8F0FE;\n",
              "      border: none;\n",
              "      border-radius: 50%;\n",
              "      cursor: pointer;\n",
              "      display: none;\n",
              "      fill: #1967D2;\n",
              "      height: 32px;\n",
              "      padding: 0 0 0 0;\n",
              "      width: 32px;\n",
              "    }\n",
              "\n",
              "    .colab-df-convert:hover {\n",
              "      background-color: #E2EBFA;\n",
              "      box-shadow: 0px 1px 2px rgba(60, 64, 67, 0.3), 0px 1px 3px 1px rgba(60, 64, 67, 0.15);\n",
              "      fill: #174EA6;\n",
              "    }\n",
              "\n",
              "    .colab-df-buttons div {\n",
              "      margin-bottom: 4px;\n",
              "    }\n",
              "\n",
              "    [theme=dark] .colab-df-convert {\n",
              "      background-color: #3B4455;\n",
              "      fill: #D2E3FC;\n",
              "    }\n",
              "\n",
              "    [theme=dark] .colab-df-convert:hover {\n",
              "      background-color: #434B5C;\n",
              "      box-shadow: 0px 1px 3px 1px rgba(0, 0, 0, 0.15);\n",
              "      filter: drop-shadow(0px 1px 2px rgba(0, 0, 0, 0.3));\n",
              "      fill: #FFFFFF;\n",
              "    }\n",
              "  </style>\n",
              "\n",
              "    <script>\n",
              "      const buttonEl =\n",
              "        document.querySelector('#df-f88a92cd-b912-485c-a7d7-b0c1c11c6461 button.colab-df-convert');\n",
              "      buttonEl.style.display =\n",
              "        google.colab.kernel.accessAllowed ? 'block' : 'none';\n",
              "\n",
              "      async function convertToInteractive(key) {\n",
              "        const element = document.querySelector('#df-f88a92cd-b912-485c-a7d7-b0c1c11c6461');\n",
              "        const dataTable =\n",
              "          await google.colab.kernel.invokeFunction('convertToInteractive',\n",
              "                                                    [key], {});\n",
              "        if (!dataTable) return;\n",
              "\n",
              "        const docLinkHtml = 'Like what you see? Visit the ' +\n",
              "          '<a target=\"_blank\" href=https://colab.research.google.com/notebooks/data_table.ipynb>data table notebook</a>'\n",
              "          + ' to learn more about interactive tables.';\n",
              "        element.innerHTML = '';\n",
              "        dataTable['output_type'] = 'display_data';\n",
              "        await google.colab.output.renderOutput(dataTable, element);\n",
              "        const docLink = document.createElement('div');\n",
              "        docLink.innerHTML = docLinkHtml;\n",
              "        element.appendChild(docLink);\n",
              "      }\n",
              "    </script>\n",
              "  </div>\n",
              "\n",
              "\n",
              "<div id=\"df-6f78c7c8-d5a2-4c4d-815f-a84db6f7d41f\">\n",
              "  <button class=\"colab-df-quickchart\" onclick=\"quickchart('df-6f78c7c8-d5a2-4c4d-815f-a84db6f7d41f')\"\n",
              "            title=\"Suggest charts\"\n",
              "            style=\"display:none;\">\n",
              "\n",
              "<svg xmlns=\"http://www.w3.org/2000/svg\" height=\"24px\"viewBox=\"0 0 24 24\"\n",
              "     width=\"24px\">\n",
              "    <g>\n",
              "        <path d=\"M19 3H5c-1.1 0-2 .9-2 2v14c0 1.1.9 2 2 2h14c1.1 0 2-.9 2-2V5c0-1.1-.9-2-2-2zM9 17H7v-7h2v7zm4 0h-2V7h2v10zm4 0h-2v-4h2v4z\"/>\n",
              "    </g>\n",
              "</svg>\n",
              "  </button>\n",
              "\n",
              "<style>\n",
              "  .colab-df-quickchart {\n",
              "      --bg-color: #E8F0FE;\n",
              "      --fill-color: #1967D2;\n",
              "      --hover-bg-color: #E2EBFA;\n",
              "      --hover-fill-color: #174EA6;\n",
              "      --disabled-fill-color: #AAA;\n",
              "      --disabled-bg-color: #DDD;\n",
              "  }\n",
              "\n",
              "  [theme=dark] .colab-df-quickchart {\n",
              "      --bg-color: #3B4455;\n",
              "      --fill-color: #D2E3FC;\n",
              "      --hover-bg-color: #434B5C;\n",
              "      --hover-fill-color: #FFFFFF;\n",
              "      --disabled-bg-color: #3B4455;\n",
              "      --disabled-fill-color: #666;\n",
              "  }\n",
              "\n",
              "  .colab-df-quickchart {\n",
              "    background-color: var(--bg-color);\n",
              "    border: none;\n",
              "    border-radius: 50%;\n",
              "    cursor: pointer;\n",
              "    display: none;\n",
              "    fill: var(--fill-color);\n",
              "    height: 32px;\n",
              "    padding: 0;\n",
              "    width: 32px;\n",
              "  }\n",
              "\n",
              "  .colab-df-quickchart:hover {\n",
              "    background-color: var(--hover-bg-color);\n",
              "    box-shadow: 0 1px 2px rgba(60, 64, 67, 0.3), 0 1px 3px 1px rgba(60, 64, 67, 0.15);\n",
              "    fill: var(--button-hover-fill-color);\n",
              "  }\n",
              "\n",
              "  .colab-df-quickchart-complete:disabled,\n",
              "  .colab-df-quickchart-complete:disabled:hover {\n",
              "    background-color: var(--disabled-bg-color);\n",
              "    fill: var(--disabled-fill-color);\n",
              "    box-shadow: none;\n",
              "  }\n",
              "\n",
              "  .colab-df-spinner {\n",
              "    border: 2px solid var(--fill-color);\n",
              "    border-color: transparent;\n",
              "    border-bottom-color: var(--fill-color);\n",
              "    animation:\n",
              "      spin 1s steps(1) infinite;\n",
              "  }\n",
              "\n",
              "  @keyframes spin {\n",
              "    0% {\n",
              "      border-color: transparent;\n",
              "      border-bottom-color: var(--fill-color);\n",
              "      border-left-color: var(--fill-color);\n",
              "    }\n",
              "    20% {\n",
              "      border-color: transparent;\n",
              "      border-left-color: var(--fill-color);\n",
              "      border-top-color: var(--fill-color);\n",
              "    }\n",
              "    30% {\n",
              "      border-color: transparent;\n",
              "      border-left-color: var(--fill-color);\n",
              "      border-top-color: var(--fill-color);\n",
              "      border-right-color: var(--fill-color);\n",
              "    }\n",
              "    40% {\n",
              "      border-color: transparent;\n",
              "      border-right-color: var(--fill-color);\n",
              "      border-top-color: var(--fill-color);\n",
              "    }\n",
              "    60% {\n",
              "      border-color: transparent;\n",
              "      border-right-color: var(--fill-color);\n",
              "    }\n",
              "    80% {\n",
              "      border-color: transparent;\n",
              "      border-right-color: var(--fill-color);\n",
              "      border-bottom-color: var(--fill-color);\n",
              "    }\n",
              "    90% {\n",
              "      border-color: transparent;\n",
              "      border-bottom-color: var(--fill-color);\n",
              "    }\n",
              "  }\n",
              "</style>\n",
              "\n",
              "  <script>\n",
              "    async function quickchart(key) {\n",
              "      const quickchartButtonEl =\n",
              "        document.querySelector('#' + key + ' button');\n",
              "      quickchartButtonEl.disabled = true;  // To prevent multiple clicks.\n",
              "      quickchartButtonEl.classList.add('colab-df-spinner');\n",
              "      try {\n",
              "        const charts = await google.colab.kernel.invokeFunction(\n",
              "            'suggestCharts', [key], {});\n",
              "      } catch (error) {\n",
              "        console.error('Error during call to suggestCharts:', error);\n",
              "      }\n",
              "      quickchartButtonEl.classList.remove('colab-df-spinner');\n",
              "      quickchartButtonEl.classList.add('colab-df-quickchart-complete');\n",
              "    }\n",
              "    (() => {\n",
              "      let quickchartButtonEl =\n",
              "        document.querySelector('#df-6f78c7c8-d5a2-4c4d-815f-a84db6f7d41f button');\n",
              "      quickchartButtonEl.style.display =\n",
              "        google.colab.kernel.accessAllowed ? 'block' : 'none';\n",
              "    })();\n",
              "  </script>\n",
              "</div>\n",
              "\n",
              "    </div>\n",
              "  </div>\n"
            ],
            "text/plain": [
              "           x1        x2        x3        x4        x5        x6        x7  \\\n",
              "0    0.280899  0.618092  0.387023  0.676390  0.721505  0.619388  0.561077   \n",
              "1    0.403506  0.423805  0.744354  0.675219  0.703456  0.619884  0.466891   \n",
              "2    0.465592  0.324839  0.750000  0.674756  0.694763  0.620217  0.418410   \n",
              "3    0.379005  0.264380  0.750000  0.675566  0.715293  0.619437  0.506628   \n",
              "4    0.477045  0.434754  0.749671  0.674796  0.694662  0.620216  0.411454   \n",
              "..        ...       ...       ...       ...       ...       ...       ...   \n",
              "97   0.609380  0.577010  0.453188  0.250473  0.263302  0.432865  0.481349   \n",
              "98   0.685235  0.651930  0.596292  0.692240  0.646119  0.375941  0.253942   \n",
              "99   0.721477  0.317078  0.427456  0.380799  0.462456  0.363041  0.520948   \n",
              "100  0.685059  0.391987  0.553286  0.641736  0.308687  0.386867  0.643863   \n",
              "101  0.647407  0.293974  0.427966  0.576733  0.287768  0.389797  0.686108   \n",
              "\n",
              "           x8        f1        f2  xopt_runtime  xopt_error  \n",
              "0    0.258912  0.003843  0.473094      0.605604       False  \n",
              "1    0.395147  0.025021  0.491633      0.325034       False  \n",
              "2    0.464523  0.234990  0.478840      0.385248       False  \n",
              "3    0.387651  0.027855  0.476867      0.316340       False  \n",
              "4    0.476296  0.945371  0.512590      0.415459       False  \n",
              "..        ...       ...       ...           ...         ...  \n",
              "97   0.397988  0.018088  0.473094      0.312028       False  \n",
              "98   0.285114  0.005653  0.485858      0.310415       False  \n",
              "99   0.630091  0.003754  0.473094      0.309342       False  \n",
              "100  0.323220  0.005597  0.473094      0.308407       False  \n",
              "101  0.294567  0.008844  0.473094      0.320767       False  \n",
              "\n",
              "[102 rows x 12 columns]"
            ]
          },
          "execution_count": 42,
          "metadata": {},
          "output_type": "execute_result"
        }
      ],
      "source": [
        "X.generator.data"
      ]
    },
    {
      "cell_type": "code",
      "execution_count": null,
      "metadata": {
        "id": "4Gx2YamlqhYh"
      },
      "outputs": [],
      "source": [
        "y1 = X.generator.data[\"f1\"]\n",
        "y2 = X.generator.data[\"f2\"]"
      ]
    },
    {
      "cell_type": "code",
      "execution_count": null,
      "metadata": {
        "colab": {
          "base_uri": "https://localhost:8080/",
          "height": 448
        },
        "id": "FW6OIdLIq8E7",
        "outputId": "fe62ace5-41a9-4701-a0cc-8e1e88f01878"
      },
      "outputs": [
        {
          "data": {
            "text/plain": [
              "<matplotlib.collections.PathCollection at 0x7df678ce7400>"
            ]
          },
          "execution_count": 55,
          "metadata": {},
          "output_type": "execute_result"
        },
        {
          "data": {
            "image/png": "[encoded data removed]",
            "text/plain": [
              "<Figure size 640x480 with 1 Axes>"
            ]
          },
          "metadata": {},
          "output_type": "display_data"
        }
      ],
      "source": [
        "plt.scatter(y1, y2)"
      ]
    },
    {
      "cell_type": "code",
      "execution_count": null,
      "metadata": {
        "id": "nFlSiiFnPyng"
      },
      "outputs": [],
      "source": [
        "scale1, scale2 = 62186.2678, 16.801"
      ]
    },
    {
      "cell_type": "code",
      "execution_count": null,
      "metadata": {
        "colab": {
          "base_uri": "https://localhost:8080/",
          "height": 445
        },
        "id": "kidPhgb7q-X6",
        "outputId": "76ec1c5b-afb8-4993-f705-609c565f8337"
      },
      "outputs": [
        {
          "data": {
            "image/png": "[encoded data removed]",
            "text/plain": [
              "<Figure size 800x500 with 1 Axes>"
            ]
          },
          "metadata": {},
          "output_type": "display_data"
        }
      ],
      "source": [
        "plt.figure(figsize=(8,5))\n",
        "\n",
        "scale1 = 62186.2678\n",
        "y1_maxs = np.maximum.accumulate(y1)\n",
        "y2_maxs = np.maximum.accumulate(y2)\n",
        "plt.plot(y1_maxs*scale1, 'k')\n",
        "plt.hlines(scale1, 0, len(y1_maxs), linestyles=\"dotted\")\n",
        "\n",
        "\n",
        "plt.show()"
      ]
    },
    {
      "cell_type": "code",
      "execution_count": null,
      "metadata": {
        "colab": {
          "base_uri": "https://localhost:8080/",
          "height": 430
        },
        "id": "7kwzsUPCrXyU",
        "outputId": "e0e9b8e4-9f30-463a-f294-ab7e87f764c5"
      },
      "outputs": [
        {
          "data": {
            "image/png": "[encoded data removed]",
            "text/plain": [
              "<Figure size 640x480 with 1 Axes>"
            ]
          },
          "metadata": {},
          "output_type": "display_data"
        }
      ],
      "source": [
        "plt.plot(np.exp(-y2_maxs*scale2), 'r')\n",
        "plt.yscale(\"log\")"
      ]
    },
    {
      "cell_type": "code",
      "execution_count": null,
      "metadata": {
        "colab": {
          "base_uri": "https://localhost:8080/"
        },
        "id": "AFhEjZplNB_s",
        "outputId": "831b9b5b-7432-4109-d93d-eccd8bf5e6ff"
      },
      "outputs": [
        {
          "data": {
            "text/plain": [
              "(80,)"
            ]
          },
          "execution_count": 35,
          "metadata": {},
          "output_type": "execute_result"
        }
      ],
      "source": [
        "y2_maxs.shape"
      ]
    },
    {
      "cell_type": "code",
      "execution_count": null,
      "metadata": {
        "colab": {
          "base_uri": "https://localhost:8080/"
        },
        "id": "oXCtIUCuQRuE",
        "outputId": "3469bab2-fc50-4c3f-f924-e65eb31aa4a2"
      },
      "outputs": [
        {
          "data": {
            "text/plain": [
              "(2, 80)"
            ]
          },
          "execution_count": 36,
          "metadata": {},
          "output_type": "execute_result"
        }
      ],
      "source": [
        "temp = np.stack([y1_maxs, y2_maxs])\n",
        "temp.shape"
      ]
    },
    {
      "cell_type": "code",
      "execution_count": null,
      "metadata": {
        "colab": {
          "base_uri": "https://localhost:8080/"
        },
        "id": "ZOCufwhm2ucf",
        "outputId": "eefdb09f-19f0-4131-e516-a2d183f3ab7a"
      },
      "outputs": [
        {
          "data": {
            "text/plain": [
              "(2, 80)"
            ]
          },
          "execution_count": 38,
          "metadata": {},
          "output_type": "execute_result"
        }
      ],
      "source": [
        "t = [y1_maxs, y2_maxs]\n",
        "temp = np.array(t)\n",
        "temp.shape"
      ]
    },
    {
      "cell_type": "code",
      "execution_count": null,
      "metadata": {
        "id": "j7K_36kr3Dxi"
      },
      "outputs": [],
      "source": [
        "model = generator.train_model()"
      ]
    },
    {
      "cell_type": "code",
      "execution_count": null,
      "metadata": {
        "colab": {
          "base_uri": "https://localhost:8080/"
        },
        "id": "Lsq7T9q6-m1J",
        "outputId": "684207a5-a8c9-4309-dd27-81abe6e9b0db"
      },
      "outputs": [
        {
          "data": {
            "text/plain": [
              "ModelListGP(\n",
              "  (models): ModuleList(\n",
              "    (0-1): 2 x SingleTaskGP(\n",
              "      (likelihood): GaussianLikelihood(\n",
              "        (noise_covar): HomoskedasticNoise(\n",
              "          (noise_prior): GammaPrior()\n",
              "          (raw_noise_constraint): GreaterThan(1.000E-04)\n",
              "        )\n",
              "      )\n",
              "      (mean_module): ConstantMean()\n",
              "      (covar_module): ScaleKernel(\n",
              "        (base_kernel): MaternKernel(\n",
              "          (lengthscale_prior): GammaPrior()\n",
              "          (raw_lengthscale_constraint): Positive()\n",
              "        )\n",
              "        (outputscale_prior): GammaPrior()\n",
              "        (raw_outputscale_constraint): Positive()\n",
              "      )\n",
              "      (outcome_transform): Standardize()\n",
              "      (input_transform): Normalize()\n",
              "    )\n",
              "  )\n",
              "  (likelihood): LikelihoodList(\n",
              "    (likelihoods): ModuleList(\n",
              "      (0-1): 2 x GaussianLikelihood(\n",
              "        (noise_covar): HomoskedasticNoise(\n",
              "          (noise_prior): GammaPrior()\n",
              "          (raw_noise_constraint): GreaterThan(1.000E-04)\n",
              "        )\n",
              "      )\n",
              "    )\n",
              "  )\n",
              ")"
            ]
          },
          "execution_count": 35,
          "metadata": {},
          "output_type": "execute_result"
        }
      ],
      "source": [
        "model"
      ]
    },
    {
      "cell_type": "code",
      "execution_count": 50,
      "metadata": {
        "id": "8-4YyCqa-nw3",
        "colab": {
          "base_uri": "https://localhost:8080/"
        },
        "outputId": "c264a715-7ca4-4245-fe9a-4324dbab93f0"
      },
      "outputs": [
        {
          "output_type": "stream",
          "name": "stdout",
          "text": [
            "[0.3258822  0.37098843 0.70276606 0.40218955 0.91538362 0.85318977\n",
            " 0.80208197 0.28037045]\n",
            "0.3258821975163626 0.3709884340293853\n"
          ]
        }
      ],
      "source": [
        "gigo = np.random.rand(8)\n",
        "print(gigo)\n",
        "print(gigo[0], gigo[1])"
      ]
    },
    {
      "cell_type": "code",
      "source": [],
      "metadata": {
        "id": "KBZBDEwoG3Eq"
      },
      "execution_count": null,
      "outputs": []
    }
  ],
  "metadata": {
    "colab": {
      "provenance": [],
      "authorship_tag": "ABX9TyNm43LvJWUvyO9ofqi9P1QJ"
    },
    "kernelspec": {
      "display_name": "Python 3",
      "name": "python3"
    },
    "language_info": {
      "name": "python"
    }
  },
  "nbformat": 4,
  "nbformat_minor": 0
}
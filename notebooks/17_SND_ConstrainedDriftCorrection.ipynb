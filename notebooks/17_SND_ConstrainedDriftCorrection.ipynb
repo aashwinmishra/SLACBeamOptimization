{
  "nbformat": 4,
  "nbformat_minor": 0,
  "metadata": {
    "colab": {
      "provenance": [],
      "authorship_tag": "ABX9TyN3f/kSFOrRkRK1v2fsOYHT"
    },
    "kernelspec": {
      "name": "python3",
      "display_name": "Python 3"
    },
    "language_info": {
      "name": "python"
    }
  },
  "cells": [
    {
      "cell_type": "code",
      "execution_count": 3,
      "metadata": {
        "colab": {
          "base_uri": "https://localhost:8080/"
        },
        "id": "Q6_PaM521l-L",
        "outputId": "e1179278-d660-4db0-b8ec-b33ea58958e0"
      },
      "outputs": [
        {
          "output_type": "stream",
          "name": "stdout",
          "text": [
            "fatal: destination path 'lcls_beamline_toolbox' already exists and is not an empty directory.\n"
          ]
        }
      ],
      "source": [
        "!git clone https://github.com/aashwinmishra/lcls_beamline_toolbox"
      ]
    },
    {
      "cell_type": "code",
      "source": [
        "import os\n",
        "os.chdir('lcls_beamline_toolbox')\n",
        "!python3 -m pip install -e . -q\n",
        "!pip install xraydb -q\n",
        "!pip install xopt -q"
      ],
      "metadata": {
        "colab": {
          "base_uri": "https://localhost:8080/"
        },
        "id": "hVU7hWtJ1r5C",
        "outputId": "046be999-696e-4cda-a067-93a3bcaf07dd"
      },
      "execution_count": 4,
      "outputs": [
        {
          "output_type": "stream",
          "name": "stdout",
          "text": [
            "  Preparing metadata (setup.py) ... \u001b[?25l\u001b[?25hdone\n",
            "\u001b[2K     \u001b[90m━━━━━━━━━━━━━━━━━━━━━━━━━━━━━━━━━━━━━━━━\u001b[0m \u001b[32m62.0/62.0 kB\u001b[0m \u001b[31m2.0 MB/s\u001b[0m eta \u001b[36m0:00:00\u001b[0m\n",
            "\u001b[2K   \u001b[90m━━━━━━━━━━━━━━━━━━━━━━━━━━━━━━━━━━━━━━━━\u001b[0m \u001b[32m37.6/37.6 MB\u001b[0m \u001b[31m22.7 MB/s\u001b[0m eta \u001b[36m0:00:00\u001b[0m\n",
            "\u001b[?25h"
          ]
        }
      ]
    },
    {
      "cell_type": "code",
      "source": [
        "!pip install scipy==1.10.0"
      ],
      "metadata": {
        "colab": {
          "base_uri": "https://localhost:8080/"
        },
        "id": "DbctvF5hmwn2",
        "outputId": "a165a2e8-123f-4abb-ea57-cd4871b62753"
      },
      "execution_count": 5,
      "outputs": [
        {
          "output_type": "stream",
          "name": "stdout",
          "text": [
            "Collecting scipy==1.10.0\n",
            "  Using cached scipy-1.10.0-cp311-cp311-manylinux_2_17_x86_64.manylinux2014_x86_64.whl.metadata (58 kB)\n",
            "Requirement already satisfied: numpy<1.27.0,>=1.19.5 in /usr/local/lib/python3.11/dist-packages (from scipy==1.10.0) (1.26.4)\n",
            "Using cached scipy-1.10.0-cp311-cp311-manylinux_2_17_x86_64.manylinux2014_x86_64.whl (34.1 MB)\n",
            "Installing collected packages: scipy\n",
            "  Attempting uninstall: scipy\n",
            "    Found existing installation: scipy 1.15.2\n",
            "    Uninstalling scipy-1.15.2:\n",
            "      Successfully uninstalled scipy-1.15.2\n",
            "\u001b[31mERROR: pip's dependency resolver does not currently take into account all the packages that are installed. This behaviour is the source of the following dependency conflicts.\n",
            "xopt 2.6.0 requires scipy>=1.10.1, but you have scipy 1.10.0 which is incompatible.\n",
            "jaxlib 0.5.1 requires scipy>=1.11.1, but you have scipy 1.10.0 which is incompatible.\n",
            "imbalanced-learn 0.13.0 requires scipy<2,>=1.10.1, but you have scipy 1.10.0 which is incompatible.\n",
            "jax 0.5.2 requires scipy>=1.11.1, but you have scipy 1.10.0 which is incompatible.\n",
            "cvxpy 1.6.4 requires scipy>=1.11.0, but you have scipy 1.10.0 which is incompatible.\n",
            "scikit-image 0.25.2 requires scipy>=1.11.4, but you have scipy 1.10.0 which is incompatible.\u001b[0m\u001b[31m\n",
            "\u001b[0mSuccessfully installed scipy-1.10.0\n"
          ]
        }
      ]
    },
    {
      "cell_type": "code",
      "source": [
        "import warnings\n",
        "warnings.filterwarnings(\"ignore\")\n",
        "from tqdm import trange\n",
        "import time\n",
        "import numpy as np\n",
        "import pandas as pd\n",
        "import matplotlib.pyplot as plt\n",
        "import lcls_beamline_toolbox.xraywavetrace.beam1d as beam\n",
        "import lcls_beamline_toolbox.xraywavetrace.optics1d as optics\n",
        "import lcls_beamline_toolbox.xraywavetrace.beamline1d as beamline\n",
        "import scipy.optimize as optimize\n",
        "import copy\n",
        "import scipy.spatial.transform as transform\n",
        "from scipy.stats import qmc\n",
        "from split_and_delay import SND\n",
        "\n",
        "import torch\n",
        "import gpytorch\n",
        "import botorch\n",
        "from xopt import Xopt, Evaluator\n",
        "from xopt.generators.bayesian import MOBOGenerator, ExpectedImprovementGenerator, TDUpperConfidenceBoundGenerator, TDExpectedImprovementGenerator\n",
        "from xopt.resources.test_functions.tnk import evaluate_TNK, tnk_vocs\n",
        "from xopt import VOCS\n",
        "from xopt import Xopt"
      ],
      "metadata": {
        "id": "Elx3U8ZN1vRs"
      },
      "execution_count": 1,
      "outputs": []
    },
    {
      "cell_type": "code",
      "source": [
        "def get_snd_outputs(inputs):\n",
        "  \"\"\"\n",
        "  Study 1 Objective function. Takes an [n, 8] dim np array of\n",
        "  [samples, ( t1_th1, t1_th2, chi1, chi2, t4_th1, t4_th2, chi1, chi2)].\n",
        "  The entries lie in the uniform unit interval.\n",
        "  They are scaled to lie in [-100e-6, +100e-6].\n",
        "  Returns a torch tensor of dim [n, 2] of\n",
        "  [samples, (do_sum_objective, IP_r_objective)]\n",
        "  \"\"\"\n",
        "  inputs = inputs*5e-6 - 2.5e-6\n",
        "  result = []\n",
        "\n",
        "  for x in inputs:\n",
        "    snd = SND(9500)\n",
        "    x = np.array(x)\n",
        "\n",
        "    snd.mvr_t1_th1(x[0])\n",
        "    snd.mvr_t1_th2(x[1])\n",
        "    snd.mvr_t1_chi1(x[2])\n",
        "    snd.mvr_t1_chi2(x[3])\n",
        "    snd.mvr_t4_th1(x[4])\n",
        "    snd.mvr_t4_th2(x[5])\n",
        "    snd.mvr_t4_chi1(x[6])\n",
        "    snd.mvr_t4_chi2(x[7])\n",
        "\n",
        "\n",
        "\n",
        "    snd.propagate_delay()\n",
        "\n",
        "    dh1 = snd.get_t1_dh_sum()\n",
        "    dd = snd.get_dd_sum()\n",
        "    dh4 = snd.get_t4_dh_sum()\n",
        "    do = snd.get_do_sum()\n",
        "    my_IP_sum = snd.get_IP_sum()\n",
        "    my_intensity = dh1 + dd + dh4 + do + my_IP_sum\n",
        "\n",
        "    do_centroid = snd.get_IP_r()\n",
        "    do_centroid_x = snd.get_IP_cx()\n",
        "    do_centroid_y = snd.get_IP_cy()\n",
        "\n",
        "\n",
        "\n",
        "    result.append([(do_centroid)*1e6, my_intensity/(61441.4336)])\n",
        "    del snd\n",
        "  return torch.tensor(result, dtype=torch.float)"
      ],
      "metadata": {
        "id": "fN0oMzxV2u98"
      },
      "execution_count": 2,
      "outputs": []
    },
    {
      "cell_type": "code",
      "source": [
        "input = np.ones((1,8)) * 0.63\n",
        "get_snd_outputs(input)"
      ],
      "metadata": {
        "colab": {
          "base_uri": "https://localhost:8080/"
        },
        "id": "1frb-SpP8r31",
        "outputId": "b1132374-8b1d-4187-dcad-69694cf46715"
      },
      "execution_count": 21,
      "outputs": [
        {
          "output_type": "execute_result",
          "data": {
            "text/plain": [
              "tensor([[8.5015, 1.0246]])"
            ]
          },
          "metadata": {},
          "execution_count": 21
        }
      ]
    },
    {
      "cell_type": "code",
      "source": [
        "def f(input_dict: dict) -> dict:\n",
        "  current_time = time.time()\n",
        "  temp = current_time - start_time\n",
        "  if temp > 50:\n",
        "    t = current_time - start_time\n",
        "  else:\n",
        "    t = 0.0\n",
        "  drift_mag = 0.000025\n",
        "  print(f\"Shift: {t*drift_mag}\")\n",
        "  drift_dir = np.array([1, -1, -1, 1, 1, 1, -1, -1])\n",
        "  noise = np.random.rand(8) * drift_mag * 0.01\n",
        "  drift_vec = drift_mag * drift_dir + noise\n",
        "  drift = t * drift_vec\n",
        "\n",
        "  x1, x2, x3, x4, x5, x6, x7, x8 = input_dict[\"x1\"] + drift[0], input_dict[\"x2\"] + drift[1], input_dict[\"x3\"] + drift[2], input_dict[\"x4\"] + drift[3], input_dict[\"x5\"] + drift[4], input_dict[\"x6\"] + drift[5], input_dict[\"x7\"] + drift[6], input_dict[\"x8\"] + drift[7]\n",
        "\n",
        "  Xinp = np.expand_dims(np.array([x1, x2, x3, x4, x5, x6, x7, x8]), axis=0)\n",
        "  output = get_snd_outputs(Xinp)\n",
        "  f = output[0][0].item()\n",
        "  c = output[0][1].item()\n",
        "  return {\"f\": f, \"c\": c ,\"time\": float(current_time)}"
      ],
      "metadata": {
        "id": "Iot6iNAY-cKv"
      },
      "execution_count": 18,
      "outputs": []
    },
    {
      "cell_type": "code",
      "source": [
        "def eval_function(input_dict: dict) -> dict:\n",
        "  drift = 0.01\n",
        "  if time > 20:\n",
        "    x1, x2, x3, x4 = input_dict[\"x1\"] + time*drift, input_dict[\"x2\"] + time*drift, input_dict[\"x3\"] + time*drift, input_dict[\"x4\"] + time*drift\n",
        "  else:\n",
        "    x1, x2, x3, x4 = input_dict[\"x1\"], input_dict[\"x2\"], input_dict[\"x3\"], input_dict[\"x4\"]\n",
        "  Xinp = np.expand_dims(np.array([x1, x2, x3, x4]), axis=0)\n",
        "  output = get_snd_outputs(Xinp).squeeze()\n",
        "  f = output.item()\n",
        "  return {\"f\": f}"
      ],
      "metadata": {
        "id": "NfymWPDodmv5"
      },
      "execution_count": 11,
      "outputs": []
    },
    {
      "cell_type": "code",
      "source": [
        "low =  0.0\n",
        "high = 1.0\n",
        "n_init = 128\n",
        "\n",
        "vocs = VOCS(\n",
        "    variables = {\"x1\": [low, high],\n",
        "                \"x2\": [low, high],\n",
        "                \"x3\": [low, high],\n",
        "                \"x4\": [low, high],\n",
        "                 \"x5\": [low, high],\n",
        "                \"x6\": [low, high],\n",
        "                \"x7\": [low, high],\n",
        "                \"x8\": [low, high],\n",
        "                 },\n",
        "    objectives = {\"f\": \"MINIMIZE\"},\n",
        "    constraints={\"c\": [\"GREATER_THAN\", 0.75]},\n",
        "  )\n",
        "\n",
        "evaluator = Evaluator(function=f)\n",
        "\n",
        "generator = TDUpperConfidenceBoundGenerator(\n",
        "    vocs=vocs,\n",
        "    beta=0.00001,\n",
        "    added_time=0.1,\n",
        "    forgetting_time=200.0, #change this from 100\n",
        ")\n",
        "generator.n_monte_carlo_samples = 128\n",
        "generator.numerical_optimizer.n_restarts = 20\n",
        "generator.max_travel_distances = [4.0] * 8\n",
        "\n",
        "start_time = time.time()\n",
        "X = Xopt(evaluator=evaluator, generator=generator, vocs=vocs)\n",
        "#X.random_evaluate(128)\n",
        "sampler = qmc.LatinHypercube(d=8)\n",
        "xs = sampler.random(n=n_init)\n",
        "xs -= 0.5\n",
        "xs /= 10\n",
        "xs += 0.5\n",
        "\n",
        "init_samples = pd.DataFrame({f'x{i+1}': xs[:,i] for i in range(xs.shape[1])})\n",
        "X.evaluate_data(init_samples)\n",
        "\n",
        "for i in trange(700):\n",
        "  print(f\"Step: {i+1} \\t Time: {time.time() - start_time}\")\n",
        "  X.step()\n",
        "  currentstate = X.generator.data[\"f\"][-1:]\n",
        "  currentconstraint = X.generator.data[\"c\"][-1:]\n",
        "  print(f\"Current State: {currentstate} \\t Current Constraint: {currentconstraint}\")\n",
        "  time.sleep(0.1)"
      ],
      "metadata": {
        "colab": {
          "base_uri": "https://localhost:8080/"
        },
        "id": "xLSR8itj_3-i",
        "outputId": "b8cd981c-7d3b-447c-c26f-c8792df7a5bf"
      },
      "execution_count": 19,
      "outputs": [
        {
          "output_type": "stream",
          "name": "stdout",
          "text": [
            "Shift: 0.0\n",
            "Shift: 0.0\n",
            "Shift: 0.0\n",
            "Shift: 0.0\n",
            "Shift: 0.0\n",
            "Shift: 0.0\n",
            "Shift: 0.0\n",
            "Shift: 0.0\n",
            "Shift: 0.0\n",
            "Shift: 0.0\n",
            "Shift: 0.0\n",
            "Shift: 0.0\n",
            "Shift: 0.0\n",
            "Shift: 0.0\n",
            "Shift: 0.0\n",
            "Shift: 0.0\n",
            "Shift: 0.0\n",
            "Shift: 0.0\n",
            "Shift: 0.0\n",
            "Shift: 0.0\n",
            "Shift: 0.0\n",
            "Shift: 0.0\n",
            "Shift: 0.0\n",
            "Shift: 0.0\n",
            "Shift: 0.0\n",
            "Shift: 0.0\n",
            "Shift: 0.0\n",
            "Shift: 0.0\n",
            "Shift: 0.0\n",
            "Shift: 0.0\n",
            "Shift: 0.0\n",
            "Shift: 0.0\n",
            "Shift: 0.0\n",
            "Shift: 0.0\n",
            "Shift: 0.0\n",
            "Shift: 0.0\n",
            "Shift: 0.0\n",
            "Shift: 0.0\n",
            "Shift: 0.0\n",
            "Shift: 0.0\n",
            "Shift: 0.0\n",
            "Shift: 0.0\n",
            "Shift: 0.0\n",
            "Shift: 0.0\n",
            "Shift: 0.0\n",
            "Shift: 0.0\n",
            "Shift: 0.0\n",
            "Shift: 0.0\n",
            "Shift: 0.0\n",
            "Shift: 0.0\n",
            "Shift: 0.0\n",
            "Shift: 0.0\n",
            "Shift: 0.0\n",
            "Shift: 0.0\n",
            "Shift: 0.0\n",
            "Shift: 0.0\n",
            "Shift: 0.0\n",
            "Shift: 0.0\n",
            "Shift: 0.0\n",
            "Shift: 0.0\n",
            "Shift: 0.0\n",
            "Shift: 0.0\n",
            "Shift: 0.0\n",
            "Shift: 0.0\n",
            "Shift: 0.0\n",
            "Shift: 0.0\n",
            "Shift: 0.0\n",
            "Shift: 0.0\n",
            "Shift: 0.0\n",
            "Shift: 0.0\n",
            "Shift: 0.0\n",
            "Shift: 0.0\n",
            "Shift: 0.0\n",
            "Shift: 0.0\n",
            "Shift: 0.0\n",
            "Shift: 0.0\n",
            "Shift: 0.0\n",
            "Shift: 0.0\n",
            "Shift: 0.0\n",
            "Shift: 0.0\n",
            "Shift: 0.0\n",
            "Shift: 0.0\n",
            "Shift: 0.0\n",
            "Shift: 0.0\n",
            "Shift: 0.0\n",
            "Shift: 0.0\n",
            "Shift: 0.0\n",
            "Shift: 0.0\n",
            "Shift: 0.0\n",
            "Shift: 0.0\n",
            "Shift: 0.0\n",
            "Shift: 0.0\n",
            "Shift: 0.0\n",
            "Shift: 0.0\n",
            "Shift: 0.0\n",
            "Shift: 0.0\n",
            "Shift: 0.0\n",
            "Shift: 0.0\n",
            "Shift: 0.0\n",
            "Shift: 0.0\n",
            "Shift: 0.0\n",
            "Shift: 0.0\n",
            "Shift: 0.0\n",
            "Shift: 0.0\n",
            "Shift: 0.0\n",
            "Shift: 0.0\n",
            "Shift: 0.0\n",
            "Shift: 0.0\n",
            "Shift: 0.0\n",
            "Shift: 0.0\n",
            "Shift: 0.0\n",
            "Shift: 0.0\n",
            "Shift: 0.0\n",
            "Shift: 0.0\n",
            "Shift: 0.0\n",
            "Shift: 0.0\n",
            "Shift: 0.0\n",
            "Shift: 0.0\n",
            "Shift: 0.0\n",
            "Shift: 0.0\n",
            "Shift: 0.0\n",
            "Shift: 0.0\n",
            "Shift: 0.0\n",
            "Shift: 0.0\n",
            "Shift: 0.0\n",
            "Shift: 0.0\n",
            "Shift: 0.0\n",
            "Shift: 0.0\n"
          ]
        },
        {
          "output_type": "stream",
          "name": "stderr",
          "text": [
            "\r  0%|          | 0/700 [00:00<?, ?it/s]"
          ]
        },
        {
          "output_type": "stream",
          "name": "stdout",
          "text": [
            "Step: 1 \t Time: 42.27876329421997\n",
            "Shift: 0.0015029390394687653\n",
            "Current State: 128    0.400419\n",
            "Name: f, dtype: float64 \t Current Constraint: 128    1.00973\n",
            "Name: c, dtype: float64\n"
          ]
        },
        {
          "output_type": "stream",
          "name": "stderr",
          "text": [
            "\r  0%|          | 1/700 [00:18<3:32:05, 18.21s/it]"
          ]
        },
        {
          "output_type": "stream",
          "name": "stdout",
          "text": [
            "Step: 2 \t Time: 60.48575758934021\n",
            "Shift: 0.0019754038214683536\n",
            "Current State: 129    1.335046\n",
            "Name: f, dtype: float64 \t Current Constraint: 129    1.005636\n",
            "Name: c, dtype: float64\n"
          ]
        },
        {
          "output_type": "stream",
          "name": "stderr",
          "text": [
            "\r  0%|          | 2/700 [00:37<3:37:36, 18.71s/it]"
          ]
        },
        {
          "output_type": "stream",
          "name": "stdout",
          "text": [
            "Step: 3 \t Time: 79.54181408882141\n",
            "Shift: 0.002413008314371109\n",
            "Current State: 130    0.681047\n",
            "Name: f, dtype: float64 \t Current Constraint: 130    1.011394\n",
            "Name: c, dtype: float64\n"
          ]
        },
        {
          "output_type": "stream",
          "name": "stderr",
          "text": [
            "\r  0%|          | 3/700 [00:54<3:30:05, 18.09s/it]"
          ]
        },
        {
          "output_type": "stream",
          "name": "stdout",
          "text": [
            "Step: 4 \t Time: 96.88914823532104\n",
            "Shift: 0.0027469593465328217\n",
            "Current State: 131    0.38431\n",
            "Name: f, dtype: float64 \t Current Constraint: 131    1.008881\n",
            "Name: c, dtype: float64\n"
          ]
        },
        {
          "output_type": "stream",
          "name": "stderr",
          "text": [
            "\r  1%|          | 4/700 [01:07<3:08:08, 16.22s/it]"
          ]
        },
        {
          "output_type": "stream",
          "name": "stdout",
          "text": [
            "Step: 5 \t Time: 110.24563550949097\n",
            "Shift: 0.0033912858188152313\n",
            "Current State: 132    0.409818\n",
            "Name: f, dtype: float64 \t Current Constraint: 132    1.011049\n",
            "Name: c, dtype: float64\n"
          ]
        },
        {
          "output_type": "stream",
          "name": "stderr",
          "text": [
            "\r  1%|          | 5/700 [01:33<3:47:48, 19.67s/it]"
          ]
        },
        {
          "output_type": "stream",
          "name": "stdout",
          "text": [
            "Step: 6 \t Time: 136.02542519569397\n",
            "Shift: 0.0037813209235668184\n",
            "Current State: 133    0.179933\n",
            "Name: f, dtype: float64 \t Current Constraint: 133    1.011389\n",
            "Name: c, dtype: float64\n"
          ]
        },
        {
          "output_type": "stream",
          "name": "stderr",
          "text": [
            "\r  1%|          | 6/700 [01:49<3:31:33, 18.29s/it]"
          ]
        },
        {
          "output_type": "stream",
          "name": "stdout",
          "text": [
            "Step: 7 \t Time: 151.6437349319458\n",
            "Shift: 0.004266199654340744\n",
            "Current State: 134    0.174206\n",
            "Name: f, dtype: float64 \t Current Constraint: 134    1.010147\n",
            "Name: c, dtype: float64\n"
          ]
        },
        {
          "output_type": "stream",
          "name": "stderr",
          "text": [
            "\r  1%|          | 7/700 [02:08<3:35:19, 18.64s/it]"
          ]
        },
        {
          "output_type": "stream",
          "name": "stdout",
          "text": [
            "Step: 8 \t Time: 171.01414942741394\n",
            "Shift: 0.004708198893070221\n",
            "Current State: 135    0.17251\n",
            "Name: f, dtype: float64 \t Current Constraint: 135    1.011422\n",
            "Name: c, dtype: float64\n"
          ]
        },
        {
          "output_type": "stream",
          "name": "stderr",
          "text": [
            "\r  1%|          | 8/700 [02:26<3:31:30, 18.34s/it]"
          ]
        },
        {
          "output_type": "stream",
          "name": "stdout",
          "text": [
            "Step: 9 \t Time: 188.70299124717712\n",
            "Shift: 0.005043520545959473\n",
            "Current State: 136    0.16751\n",
            "Name: f, dtype: float64 \t Current Constraint: 136    1.011577\n",
            "Name: c, dtype: float64\n"
          ]
        },
        {
          "output_type": "stream",
          "name": "stderr",
          "text": [
            "\r  1%|▏         | 9/700 [02:39<3:13:29, 16.80s/it]"
          ]
        },
        {
          "output_type": "stream",
          "name": "stdout",
          "text": [
            "Step: 10 \t Time: 202.12306761741638\n",
            "Shift: 0.005461600905656815\n",
            "Current State: 137    0.296007\n",
            "Name: f, dtype: float64 \t Current Constraint: 137    1.012179\n",
            "Name: c, dtype: float64\n"
          ]
        },
        {
          "output_type": "stream",
          "name": "stderr",
          "text": [
            "\r  1%|▏         | 10/700 [02:56<3:12:53, 16.77s/it]"
          ]
        },
        {
          "output_type": "stream",
          "name": "stdout",
          "text": [
            "Step: 11 \t Time: 218.83476448059082\n",
            "Shift: 0.005764184337854385\n",
            "Current State: 138    1.070796\n",
            "Name: f, dtype: float64 \t Current Constraint: 138    1.011359\n",
            "Name: c, dtype: float64\n"
          ]
        },
        {
          "output_type": "stream",
          "name": "stderr",
          "text": [
            "\r  2%|▏         | 11/700 [03:08<2:56:19, 15.35s/it]"
          ]
        },
        {
          "output_type": "stream",
          "name": "stdout",
          "text": [
            "Step: 12 \t Time: 230.9703106880188\n",
            "Shift: 0.005812696325778961\n",
            "Current State: 139    1.005219\n",
            "Name: f, dtype: float64 \t Current Constraint: 139    1.011623\n",
            "Name: c, dtype: float64\n"
          ]
        },
        {
          "output_type": "stream",
          "name": "stderr",
          "text": [
            "\r  2%|▏         | 12/700 [03:10<2:09:26, 11.29s/it]"
          ]
        },
        {
          "output_type": "stream",
          "name": "stdout",
          "text": [
            "Step: 13 \t Time: 232.95980167388916\n",
            "Shift: 0.005871728026866913\n",
            "Current State: 140    0.154987\n",
            "Name: f, dtype: float64 \t Current Constraint: 140    1.009689\n",
            "Name: c, dtype: float64\n"
          ]
        },
        {
          "output_type": "stream",
          "name": "stderr",
          "text": [
            "\r  2%|▏         | 13/700 [03:13<1:38:44,  8.62s/it]"
          ]
        },
        {
          "output_type": "stream",
          "name": "stdout",
          "text": [
            "Step: 14 \t Time: 235.45213055610657\n",
            "Shift: 0.005942308992147446\n",
            "Current State: 141    0.453623\n",
            "Name: f, dtype: float64 \t Current Constraint: 141    1.010499\n",
            "Name: c, dtype: float64\n"
          ]
        },
        {
          "output_type": "stream",
          "name": "stderr",
          "text": [
            "\r  2%|▏         | 14/700 [03:15<1:17:52,  6.81s/it]"
          ]
        },
        {
          "output_type": "stream",
          "name": "stdout",
          "text": [
            "Step: 15 \t Time: 238.0730013847351\n",
            "Shift: 0.006012416887283325\n",
            "Current State: 142    1.108301\n",
            "Name: f, dtype: float64 \t Current Constraint: 142    1.011452\n",
            "Name: c, dtype: float64\n"
          ]
        },
        {
          "output_type": "stream",
          "name": "stderr",
          "text": [
            "\r  2%|▏         | 15/700 [03:18<1:03:56,  5.60s/it]"
          ]
        },
        {
          "output_type": "stream",
          "name": "stdout",
          "text": [
            "Step: 16 \t Time: 240.86901688575745\n",
            "Shift: 0.006038178896903992\n",
            "Current State: 143    39.232964\n",
            "Name: f, dtype: float64 \t Current Constraint: 143    1.000281\n",
            "Name: c, dtype: float64\n"
          ]
        },
        {
          "output_type": "stream",
          "name": "stderr",
          "text": [
            "\r  2%|▏         | 16/700 [03:19<48:09,  4.22s/it]  "
          ]
        },
        {
          "output_type": "stream",
          "name": "stdout",
          "text": [
            "Step: 17 \t Time: 241.89619779586792\n",
            "Shift: 0.006348501819372177\n",
            "Current State: 144    3.312558\n",
            "Name: f, dtype: float64 \t Current Constraint: 144    1.007451\n",
            "Name: c, dtype: float64\n"
          ]
        },
        {
          "output_type": "stream",
          "name": "stderr",
          "text": [
            "\r  2%|▏         | 17/700 [03:32<1:16:08,  6.69s/it]"
          ]
        },
        {
          "output_type": "stream",
          "name": "stdout",
          "text": [
            "Step: 18 \t Time: 254.31616926193237\n",
            "Shift: 0.006606495606899262\n",
            "Current State: 145    2.845279\n",
            "Name: f, dtype: float64 \t Current Constraint: 145    1.009158\n",
            "Name: c, dtype: float64\n"
          ]
        },
        {
          "output_type": "stream",
          "name": "stderr",
          "text": [
            "\r  3%|▎         | 18/700 [03:42<1:28:27,  7.78s/it]"
          ]
        },
        {
          "output_type": "stream",
          "name": "stdout",
          "text": [
            "Step: 19 \t Time: 264.64436888694763\n",
            "Shift: 0.006864321750402451\n",
            "Current State: 146    2.096167\n",
            "Name: f, dtype: float64 \t Current Constraint: 146    1.008927\n",
            "Name: c, dtype: float64\n"
          ]
        },
        {
          "output_type": "stream",
          "name": "stderr",
          "text": [
            "\r  3%|▎         | 19/700 [03:52<1:36:54,  8.54s/it]"
          ]
        },
        {
          "output_type": "stream",
          "name": "stdout",
          "text": [
            "Step: 20 \t Time: 274.9429540634155\n",
            "Shift: 0.0069996988654136665\n",
            "Current State: 147    10.696655\n",
            "Name: f, dtype: float64 \t Current Constraint: 147    1.015431\n",
            "Name: c, dtype: float64\n"
          ]
        },
        {
          "output_type": "stream",
          "name": "stderr",
          "text": [
            "\r  3%|▎         | 20/700 [03:58<1:26:09,  7.60s/it]"
          ]
        },
        {
          "output_type": "stream",
          "name": "stdout",
          "text": [
            "Step: 21 \t Time: 280.3661093711853\n",
            "Shift: 0.007210700571537018\n",
            "Current State: 148    6.239593\n",
            "Name: f, dtype: float64 \t Current Constraint: 148    1.007102\n",
            "Name: c, dtype: float64\n"
          ]
        },
        {
          "output_type": "stream",
          "name": "stderr",
          "text": [
            "\r  3%|▎         | 21/700 [04:06<1:28:49,  7.85s/it]"
          ]
        },
        {
          "output_type": "stream",
          "name": "stdout",
          "text": [
            "Step: 22 \t Time: 288.79051423072815\n",
            "Shift: 0.007627928441762925\n",
            "Current State: 149    1.536955\n",
            "Name: f, dtype: float64 \t Current Constraint: 149    1.01086\n",
            "Name: c, dtype: float64\n"
          ]
        },
        {
          "output_type": "stream",
          "name": "stderr",
          "text": [
            "\r  3%|▎         | 22/700 [04:23<1:58:42, 10.51s/it]"
          ]
        },
        {
          "output_type": "stream",
          "name": "stdout",
          "text": [
            "Step: 23 \t Time: 305.4900891780853\n",
            "Shift: 0.00773766725063324\n",
            "Current State: 150    0.75961\n",
            "Name: f, dtype: float64 \t Current Constraint: 150    1.010178\n",
            "Name: c, dtype: float64\n"
          ]
        },
        {
          "output_type": "stream",
          "name": "stderr",
          "text": [
            "\r  3%|▎         | 23/700 [04:27<1:37:53,  8.68s/it]"
          ]
        },
        {
          "output_type": "stream",
          "name": "stdout",
          "text": [
            "Step: 24 \t Time: 309.897225856781\n",
            "Shift: 0.00787634882926941\n",
            "Current State: 151    0.643272\n",
            "Name: f, dtype: float64 \t Current Constraint: 151    1.0109\n",
            "Name: c, dtype: float64\n"
          ]
        },
        {
          "output_type": "stream",
          "name": "stderr",
          "text": [
            "\r  3%|▎         | 24/700 [04:33<1:27:05,  7.73s/it]"
          ]
        },
        {
          "output_type": "stream",
          "name": "stdout",
          "text": [
            "Step: 25 \t Time: 315.4234445095062\n",
            "Shift: 0.00791515486240387\n",
            "Current State: 152    0.385581\n",
            "Name: f, dtype: float64 \t Current Constraint: 152    1.010869\n",
            "Name: c, dtype: float64\n"
          ]
        },
        {
          "output_type": "stream",
          "name": "stderr",
          "text": [
            "\r  4%|▎         | 25/700 [04:34<1:06:06,  5.88s/it]"
          ]
        },
        {
          "output_type": "stream",
          "name": "stdout",
          "text": [
            "Step: 26 \t Time: 316.973037481308\n",
            "Shift: 0.00795704578757286\n",
            "Current State: 153    1.144107\n",
            "Name: f, dtype: float64 \t Current Constraint: 153    1.009963\n",
            "Name: c, dtype: float64\n"
          ]
        },
        {
          "output_type": "stream",
          "name": "stderr",
          "text": [
            "\r  4%|▎         | 26/700 [04:36<51:52,  4.62s/it]  "
          ]
        },
        {
          "output_type": "stream",
          "name": "stdout",
          "text": [
            "Step: 27 \t Time: 318.65358114242554\n",
            "Shift: 0.007993116807937623\n",
            "Current State: 154    7.215516\n",
            "Name: f, dtype: float64 \t Current Constraint: 154    1.009077\n",
            "Name: c, dtype: float64\n"
          ]
        },
        {
          "output_type": "stream",
          "name": "stderr",
          "text": [
            "\r  4%|▍         | 27/700 [04:37<41:05,  3.66s/it]"
          ]
        },
        {
          "output_type": "stream",
          "name": "stdout",
          "text": [
            "Step: 28 \t Time: 320.0902101993561\n",
            "Shift: 0.008071048438549042\n",
            "Current State: 155    1.084304\n",
            "Name: f, dtype: float64 \t Current Constraint: 155    1.011256\n",
            "Name: c, dtype: float64\n"
          ]
        },
        {
          "output_type": "stream",
          "name": "stderr",
          "text": [
            "\r  4%|▍         | 28/700 [04:41<39:39,  3.54s/it]"
          ]
        },
        {
          "output_type": "stream",
          "name": "stdout",
          "text": [
            "Step: 29 \t Time: 323.34652519226074\n",
            "Shift: 0.008119777864217758\n",
            "Current State: 156    3.301518\n",
            "Name: f, dtype: float64 \t Current Constraint: 156    1.012777\n",
            "Name: c, dtype: float64\n"
          ]
        },
        {
          "output_type": "stream",
          "name": "stderr",
          "text": [
            "\r  4%|▍         | 29/700 [04:43<34:22,  3.07s/it]"
          ]
        },
        {
          "output_type": "stream",
          "name": "stdout",
          "text": [
            "Step: 30 \t Time: 325.32899618148804\n",
            "Shift: 0.008170631670951844\n",
            "Current State: 157    0.547063\n",
            "Name: f, dtype: float64 \t Current Constraint: 157    1.010099\n",
            "Name: c, dtype: float64\n"
          ]
        },
        {
          "output_type": "stream",
          "name": "stderr",
          "text": [
            "\r  4%|▍         | 30/700 [04:44<30:16,  2.71s/it]"
          ]
        },
        {
          "output_type": "stream",
          "name": "stdout",
          "text": [
            "Step: 31 \t Time: 327.19550108909607\n",
            "Shift: 0.008275617998838426\n",
            "Current State: 158    0.88327\n",
            "Name: f, dtype: float64 \t Current Constraint: 158    1.010952\n",
            "Name: c, dtype: float64\n"
          ]
        },
        {
          "output_type": "stream",
          "name": "stderr",
          "text": [
            "\r  4%|▍         | 31/700 [04:49<35:12,  3.16s/it]"
          ]
        },
        {
          "output_type": "stream",
          "name": "stdout",
          "text": [
            "Step: 32 \t Time: 331.39503169059753\n",
            "Shift: 0.008302969306707382\n",
            "Current State: 159    5.629541\n",
            "Name: f, dtype: float64 \t Current Constraint: 159    1.009431\n",
            "Name: c, dtype: float64\n"
          ]
        },
        {
          "output_type": "stream",
          "name": "stderr",
          "text": [
            "\r  5%|▍         | 32/700 [04:50<28:16,  2.54s/it]"
          ]
        },
        {
          "output_type": "stream",
          "name": "stdout",
          "text": [
            "Step: 33 \t Time: 332.4905495643616\n",
            "Shift: 0.00850428768992424\n",
            "Current State: 160    0.44984\n",
            "Name: f, dtype: float64 \t Current Constraint: 160    1.010094\n",
            "Name: c, dtype: float64\n"
          ]
        },
        {
          "output_type": "stream",
          "name": "stderr",
          "text": [
            "\r  5%|▍         | 33/700 [04:58<46:37,  4.19s/it]"
          ]
        },
        {
          "output_type": "stream",
          "name": "stdout",
          "text": [
            "Step: 34 \t Time: 340.54456639289856\n",
            "Shift: 0.008728848230838776\n",
            "Current State: 161    0.63786\n",
            "Name: f, dtype: float64 \t Current Constraint: 161    1.011461\n",
            "Name: c, dtype: float64\n"
          ]
        },
        {
          "output_type": "stream",
          "name": "stderr",
          "text": [
            "\r  5%|▍         | 34/700 [05:07<1:03:07,  5.69s/it]"
          ]
        },
        {
          "output_type": "stream",
          "name": "stdout",
          "text": [
            "Step: 35 \t Time: 349.718466758728\n",
            "Shift: 0.009040582036972047\n",
            "Current State: 162    0.324625\n",
            "Name: f, dtype: float64 \t Current Constraint: 162    1.010641\n",
            "Name: c, dtype: float64\n"
          ]
        },
        {
          "output_type": "stream",
          "name": "stderr",
          "text": [
            "\r  5%|▌         | 35/700 [05:19<1:25:18,  7.70s/it]"
          ]
        },
        {
          "output_type": "stream",
          "name": "stdout",
          "text": [
            "Step: 36 \t Time: 362.10423016548157\n",
            "Shift: 0.009244944447278977\n",
            "Current State: 163    0.763432\n",
            "Name: f, dtype: float64 \t Current Constraint: 163    1.010693\n",
            "Name: c, dtype: float64\n"
          ]
        },
        {
          "output_type": "stream",
          "name": "stderr",
          "text": [
            "\r  5%|▌         | 36/700 [05:27<1:26:32,  7.82s/it]"
          ]
        },
        {
          "output_type": "stream",
          "name": "stdout",
          "text": [
            "Step: 37 \t Time: 370.21186685562134\n",
            "Shift: 0.009500654101371766\n",
            "Current State: 164    0.177479\n",
            "Name: f, dtype: float64 \t Current Constraint: 164    1.010576\n",
            "Name: c, dtype: float64\n"
          ]
        },
        {
          "output_type": "stream",
          "name": "stderr",
          "text": [
            "\r  5%|▌         | 37/700 [05:38<1:34:17,  8.53s/it]"
          ]
        },
        {
          "output_type": "stream",
          "name": "stdout",
          "text": [
            "Step: 38 \t Time: 380.40582966804504\n",
            "Shift: 0.009779984152317048\n",
            "Current State: 165    0.652497\n",
            "Name: f, dtype: float64 \t Current Constraint: 165    1.009917\n",
            "Name: c, dtype: float64\n"
          ]
        },
        {
          "output_type": "stream",
          "name": "stderr",
          "text": [
            "\r  5%|▌         | 38/700 [05:49<1:42:55,  9.33s/it]"
          ]
        },
        {
          "output_type": "stream",
          "name": "stdout",
          "text": [
            "Step: 39 \t Time: 391.5912685394287\n",
            "Shift: 0.010057669258117677\n",
            "Current State: 166    0.216265\n",
            "Name: f, dtype: float64 \t Current Constraint: 166    1.011145\n",
            "Name: c, dtype: float64\n"
          ]
        },
        {
          "output_type": "stream",
          "name": "stderr",
          "text": [
            "\r  6%|▌         | 39/700 [06:00<1:49:03,  9.90s/it]"
          ]
        },
        {
          "output_type": "stream",
          "name": "stdout",
          "text": [
            "Step: 40 \t Time: 402.82538962364197\n",
            "Shift: 0.01015100720524788\n",
            "Current State: 167    0.234311\n",
            "Name: f, dtype: float64 \t Current Constraint: 167    1.010484\n",
            "Name: c, dtype: float64\n"
          ]
        },
        {
          "output_type": "stream",
          "name": "stderr",
          "text": [
            "\r  6%|▌         | 40/700 [06:04<1:28:03,  8.01s/it]"
          ]
        },
        {
          "output_type": "stream",
          "name": "stdout",
          "text": [
            "Step: 41 \t Time: 406.4099004268646\n",
            "Shift: 0.010448519456386567\n",
            "Current State: 168    0.211515\n",
            "Name: f, dtype: float64 \t Current Constraint: 168    1.010971\n",
            "Name: c, dtype: float64\n"
          ]
        },
        {
          "output_type": "stream",
          "name": "stderr",
          "text": [
            "\r  6%|▌         | 41/700 [06:16<1:40:46,  9.18s/it]"
          ]
        },
        {
          "output_type": "stream",
          "name": "stdout",
          "text": [
            "Step: 42 \t Time: 418.31457471847534\n",
            "Shift: 0.010633587557077408\n",
            "Current State: 169    0.198577\n",
            "Name: f, dtype: float64 \t Current Constraint: 169    1.010606\n",
            "Name: c, dtype: float64\n"
          ]
        },
        {
          "output_type": "stream",
          "name": "stderr",
          "text": [
            "\r  6%|▌         | 42/700 [06:23<1:34:46,  8.64s/it]"
          ]
        },
        {
          "output_type": "stream",
          "name": "stdout",
          "text": [
            "Step: 43 \t Time: 425.7119948863983\n",
            "Shift: 0.010867640346288681\n",
            "Current State: 170    0.434823\n",
            "Name: f, dtype: float64 \t Current Constraint: 170    1.010758\n",
            "Name: c, dtype: float64\n"
          ]
        },
        {
          "output_type": "stream",
          "name": "stderr",
          "text": [
            "\r  6%|▌         | 43/700 [06:32<1:37:00,  8.86s/it]"
          ]
        },
        {
          "output_type": "stream",
          "name": "stdout",
          "text": [
            "Step: 44 \t Time: 435.0803816318512\n",
            "Shift: 0.01111625879406929\n",
            "Current State: 171    2.790954\n",
            "Name: f, dtype: float64 \t Current Constraint: 171    1.010662\n",
            "Name: c, dtype: float64\n"
          ]
        },
        {
          "output_type": "stream",
          "name": "stderr",
          "text": [
            "\r  6%|▋         | 44/700 [06:42<1:40:26,  9.19s/it]"
          ]
        },
        {
          "output_type": "stream",
          "name": "stdout",
          "text": [
            "Step: 45 \t Time: 445.0274269580841\n",
            "Shift: 0.011163896781206132\n",
            "Current State: 172    1.790695\n",
            "Name: f, dtype: float64 \t Current Constraint: 172    1.009623\n",
            "Name: c, dtype: float64\n"
          ]
        },
        {
          "output_type": "stream",
          "name": "stderr",
          "text": [
            "\r  6%|▋         | 45/700 [06:44<1:16:27,  7.00s/it]"
          ]
        },
        {
          "output_type": "stream",
          "name": "stdout",
          "text": [
            "Step: 46 \t Time: 446.93900847435\n",
            "Shift: 0.011215812236070634\n",
            "Current State: 173    1.413254\n",
            "Name: f, dtype: float64 \t Current Constraint: 173    1.010008\n",
            "Name: c, dtype: float64\n"
          ]
        },
        {
          "output_type": "stream",
          "name": "stderr",
          "text": [
            "\r  7%|▋         | 46/700 [06:46<1:00:12,  5.52s/it]"
          ]
        },
        {
          "output_type": "stream",
          "name": "stdout",
          "text": [
            "Step: 47 \t Time: 449.0075886249542\n",
            "Shift: 0.011325699561834336\n",
            "Current State: 174    0.521505\n",
            "Name: f, dtype: float64 \t Current Constraint: 174    1.009819\n",
            "Name: c, dtype: float64\n"
          ]
        },
        {
          "output_type": "stream",
          "name": "stderr",
          "text": [
            "\r  7%|▋         | 47/700 [06:51<56:43,  5.21s/it]  "
          ]
        },
        {
          "output_type": "stream",
          "name": "stdout",
          "text": [
            "Step: 48 \t Time: 453.4963138103485\n",
            "Shift: 0.01139603717327118\n",
            "Current State: 175    0.596349\n",
            "Name: f, dtype: float64 \t Current Constraint: 175    1.010836\n",
            "Name: c, dtype: float64\n"
          ]
        },
        {
          "output_type": "stream",
          "name": "stderr",
          "text": [
            "\r  7%|▋         | 48/700 [06:53<48:30,  4.46s/it]"
          ]
        },
        {
          "output_type": "stream",
          "name": "stdout",
          "text": [
            "Step: 49 \t Time: 456.2109603881836\n",
            "Shift: 0.01151385407447815\n",
            "Current State: 176    1.124092\n",
            "Name: f, dtype: float64 \t Current Constraint: 176    1.010759\n",
            "Name: c, dtype: float64\n"
          ]
        },
        {
          "output_type": "stream",
          "name": "stderr",
          "text": [
            "\r  7%|▋         | 49/700 [06:58<49:16,  4.54s/it]"
          ]
        },
        {
          "output_type": "stream",
          "name": "stdout",
          "text": [
            "Step: 50 \t Time: 460.9365427494049\n",
            "Shift: 0.011624112164974214\n",
            "Current State: 177    0.705108\n",
            "Name: f, dtype: float64 \t Current Constraint: 177    1.011069\n",
            "Name: c, dtype: float64\n"
          ]
        },
        {
          "output_type": "stream",
          "name": "stderr",
          "text": [
            "\r  7%|▋         | 50/700 [07:03<49:21,  4.56s/it]"
          ]
        },
        {
          "output_type": "stream",
          "name": "stdout",
          "text": [
            "Step: 51 \t Time: 465.52544140815735\n",
            "Shift: 0.011807955294847489\n",
            "Current State: 178    0.683406\n",
            "Name: f, dtype: float64 \t Current Constraint: 178    1.011083\n",
            "Name: c, dtype: float64\n"
          ]
        },
        {
          "output_type": "stream",
          "name": "stderr",
          "text": [
            "\r  7%|▋         | 51/700 [07:10<57:44,  5.34s/it]"
          ]
        },
        {
          "output_type": "stream",
          "name": "stdout",
          "text": [
            "Step: 52 \t Time: 472.68851375579834\n",
            "Shift: 0.011854456752538682\n",
            "Current State: 179    0.415354\n",
            "Name: f, dtype: float64 \t Current Constraint: 179    1.011957\n",
            "Name: c, dtype: float64\n"
          ]
        },
        {
          "output_type": "stream",
          "name": "stderr",
          "text": [
            "\r  7%|▋         | 52/700 [07:12<46:22,  4.29s/it]"
          ]
        },
        {
          "output_type": "stream",
          "name": "stdout",
          "text": [
            "Step: 53 \t Time: 474.5453586578369\n",
            "Shift: 0.011898586201667786\n",
            "Current State: 180    0.388803\n",
            "Name: f, dtype: float64 \t Current Constraint: 180    1.011812\n",
            "Name: c, dtype: float64\n"
          ]
        },
        {
          "output_type": "stream",
          "name": "stderr",
          "text": [
            "\r  8%|▊         | 53/700 [07:14<38:06,  3.53s/it]"
          ]
        },
        {
          "output_type": "stream",
          "name": "stdout",
          "text": [
            "Step: 54 \t Time: 476.3062074184418\n",
            "Shift: 0.012010382556915283\n",
            "Current State: 181    0.352387\n",
            "Name: f, dtype: float64 \t Current Constraint: 181    1.011962\n",
            "Name: c, dtype: float64\n"
          ]
        },
        {
          "output_type": "stream",
          "name": "stderr",
          "text": [
            "\r  8%|▊         | 54/700 [07:18<41:04,  3.82s/it]"
          ]
        },
        {
          "output_type": "stream",
          "name": "stdout",
          "text": [
            "Step: 55 \t Time: 480.77915692329407\n",
            "Shift: 0.012094754230976106\n",
            "Current State: 182    1.006099\n",
            "Name: f, dtype: float64 \t Current Constraint: 182    1.011629\n",
            "Name: c, dtype: float64\n"
          ]
        },
        {
          "output_type": "stream",
          "name": "stderr",
          "text": [
            "\r  8%|▊         | 55/700 [07:21<39:38,  3.69s/it]"
          ]
        },
        {
          "output_type": "stream",
          "name": "stdout",
          "text": [
            "Step: 56 \t Time: 484.16553568840027\n",
            "Shift: 0.012143484383821488\n",
            "Current State: 183    0.428731\n",
            "Name: f, dtype: float64 \t Current Constraint: 183    1.010396\n",
            "Name: c, dtype: float64\n"
          ]
        },
        {
          "output_type": "stream",
          "name": "stderr",
          "text": [
            "\r  8%|▊         | 56/700 [07:23<33:57,  3.16s/it]"
          ]
        },
        {
          "output_type": "stream",
          "name": "stdout",
          "text": [
            "Step: 57 \t Time: 486.1069145202637\n",
            "Shift: 0.01223299036026001\n",
            "Current State: 184    0.3876\n",
            "Name: f, dtype: float64 \t Current Constraint: 184    1.01284\n",
            "Name: c, dtype: float64\n"
          ]
        },
        {
          "output_type": "stream",
          "name": "stderr",
          "text": [
            "\r  8%|▊         | 57/700 [07:27<35:14,  3.29s/it]"
          ]
        },
        {
          "output_type": "stream",
          "name": "stdout",
          "text": [
            "Step: 58 \t Time: 489.68915939331055\n",
            "Shift: 0.01230871309041977\n",
            "Current State: 185    0.530785\n",
            "Name: f, dtype: float64 \t Current Constraint: 185    1.010805\n",
            "Name: c, dtype: float64\n"
          ]
        },
        {
          "output_type": "stream",
          "name": "stderr",
          "text": [
            "\r  8%|▊         | 58/700 [07:30<35:02,  3.28s/it]"
          ]
        },
        {
          "output_type": "stream",
          "name": "stdout",
          "text": [
            "Step: 59 \t Time: 492.93438601493835\n",
            "Shift: 0.0124758904337883\n",
            "Current State: 186    0.235961\n",
            "Name: f, dtype: float64 \t Current Constraint: 186    1.01256\n",
            "Name: c, dtype: float64\n"
          ]
        },
        {
          "output_type": "stream",
          "name": "stderr",
          "text": [
            "\r  8%|▊         | 59/700 [07:37<45:13,  4.23s/it]"
          ]
        },
        {
          "output_type": "stream",
          "name": "stdout",
          "text": [
            "Step: 60 \t Time: 499.4001166820526\n",
            "Shift: 0.01257350419163704\n",
            "Current State: 187    0.3049\n",
            "Name: f, dtype: float64 \t Current Constraint: 187    1.012925\n",
            "Name: c, dtype: float64\n"
          ]
        },
        {
          "output_type": "stream",
          "name": "stderr",
          "text": [
            "\r  9%|▊         | 60/700 [07:41<44:19,  4.15s/it]"
          ]
        },
        {
          "output_type": "stream",
          "name": "stdout",
          "text": [
            "Step: 61 \t Time: 503.37311816215515\n",
            "Shift: 0.012680801522731782\n",
            "Current State: 188    0.688397\n",
            "Name: f, dtype: float64 \t Current Constraint: 188    1.010891\n",
            "Name: c, dtype: float64\n"
          ]
        },
        {
          "output_type": "stream",
          "name": "stderr",
          "text": [
            "\r  9%|▊         | 61/700 [07:45<44:29,  4.18s/it]"
          ]
        },
        {
          "output_type": "stream",
          "name": "stdout",
          "text": [
            "Step: 62 \t Time: 507.60279726982117\n",
            "Shift: 0.01272529913187027\n",
            "Current State: 189    0.388187\n",
            "Name: f, dtype: float64 \t Current Constraint: 189    1.01062\n",
            "Name: c, dtype: float64\n"
          ]
        },
        {
          "output_type": "stream",
          "name": "stderr",
          "text": [
            "\r  9%|▉         | 62/700 [07:47<36:46,  3.46s/it]"
          ]
        },
        {
          "output_type": "stream",
          "name": "stdout",
          "text": [
            "Step: 63 \t Time: 509.3815793991089\n",
            "Shift: 0.012771790820360184\n",
            "Current State: 190    0.349131\n",
            "Name: f, dtype: float64 \t Current Constraint: 190    1.012145\n",
            "Name: c, dtype: float64\n"
          ]
        },
        {
          "output_type": "stream",
          "name": "stderr",
          "text": [
            "\r  9%|▉         | 63/700 [07:48<31:40,  2.98s/it]"
          ]
        },
        {
          "output_type": "stream",
          "name": "stdout",
          "text": [
            "Step: 64 \t Time: 511.2561717033386\n",
            "Shift: 0.012859457290172578\n",
            "Current State: 191    0.387098\n",
            "Name: f, dtype: float64 \t Current Constraint: 191    1.01081\n",
            "Name: c, dtype: float64\n"
          ]
        },
        {
          "output_type": "stream",
          "name": "stderr",
          "text": [
            "\r  9%|▉         | 64/700 [07:52<33:12,  3.13s/it]"
          ]
        },
        {
          "output_type": "stream",
          "name": "stdout",
          "text": [
            "Step: 65 \t Time: 514.7380566596985\n",
            "Shift: 0.013000092595815659\n",
            "Current State: 192    0.391082\n",
            "Name: f, dtype: float64 \t Current Constraint: 192    1.011282\n",
            "Name: c, dtype: float64\n"
          ]
        },
        {
          "output_type": "stream",
          "name": "stderr",
          "text": [
            "\r  9%|▉         | 65/700 [07:58<41:04,  3.88s/it]"
          ]
        },
        {
          "output_type": "stream",
          "name": "stdout",
          "text": [
            "Step: 66 \t Time: 520.3663465976715\n",
            "Shift: 0.013023568749427797\n",
            "Current State: 193    9.338202\n",
            "Name: f, dtype: float64 \t Current Constraint: 193    1.013849\n",
            "Name: c, dtype: float64\n"
          ]
        },
        {
          "output_type": "stream",
          "name": "stderr",
          "text": [
            "\r  9%|▉         | 66/700 [07:59<31:40,  3.00s/it]"
          ]
        },
        {
          "output_type": "stream",
          "name": "stdout",
          "text": [
            "Step: 67 \t Time: 521.3023686408997\n",
            "Shift: 0.013185842204093934\n",
            "Current State: 194    0.534318\n",
            "Name: f, dtype: float64 \t Current Constraint: 194    1.010741\n",
            "Name: c, dtype: float64\n"
          ]
        },
        {
          "output_type": "stream",
          "name": "stderr",
          "text": [
            "\r 10%|▉         | 67/700 [08:05<42:44,  4.05s/it]"
          ]
        },
        {
          "output_type": "stream",
          "name": "stdout",
          "text": [
            "Step: 68 \t Time: 527.8100805282593\n",
            "Shift: 0.013437320232391359\n",
            "Current State: 195    0.457873\n",
            "Name: f, dtype: float64 \t Current Constraint: 195    1.011309\n",
            "Name: c, dtype: float64\n"
          ]
        },
        {
          "output_type": "stream",
          "name": "stderr",
          "text": [
            "\r 10%|▉         | 68/700 [08:15<1:01:36,  5.85s/it]"
          ]
        },
        {
          "output_type": "stream",
          "name": "stdout",
          "text": [
            "Step: 69 \t Time: 537.8544926643372\n",
            "Shift: 0.013699290037155152\n",
            "Current State: 196    0.72997\n",
            "Name: f, dtype: float64 \t Current Constraint: 196    1.011172\n",
            "Name: c, dtype: float64\n"
          ]
        },
        {
          "output_type": "stream",
          "name": "stderr",
          "text": [
            "\r 10%|▉         | 69/700 [08:26<1:16:07,  7.24s/it]"
          ]
        },
        {
          "output_type": "stream",
          "name": "stdout",
          "text": [
            "Step: 70 \t Time: 548.334233045578\n",
            "Shift: 0.013856301552057268\n",
            "Current State: 197    0.343811\n",
            "Name: f, dtype: float64 \t Current Constraint: 197    1.011252\n",
            "Name: c, dtype: float64\n"
          ]
        },
        {
          "output_type": "stream",
          "name": "stderr",
          "text": [
            "\r 10%|█         | 70/700 [08:32<1:13:00,  6.95s/it]"
          ]
        },
        {
          "output_type": "stream",
          "name": "stdout",
          "text": [
            "Step: 71 \t Time: 554.6236207485199\n",
            "Shift: 0.014116670906543732\n",
            "Current State: 198    0.395452\n",
            "Name: f, dtype: float64 \t Current Constraint: 198    1.012945\n",
            "Name: c, dtype: float64\n"
          ]
        },
        {
          "output_type": "stream",
          "name": "stderr",
          "text": [
            "\r 10%|█         | 71/700 [08:42<1:24:21,  8.05s/it]"
          ]
        },
        {
          "output_type": "stream",
          "name": "stdout",
          "text": [
            "Step: 72 \t Time: 565.2239670753479\n",
            "Shift: 0.014410372656583787\n",
            "Current State: 199    0.414193\n",
            "Name: f, dtype: float64 \t Current Constraint: 199    1.01134\n",
            "Name: c, dtype: float64\n"
          ]
        },
        {
          "output_type": "stream",
          "name": "stderr",
          "text": [
            "\r 10%|█         | 72/700 [08:54<1:35:16,  9.10s/it]"
          ]
        },
        {
          "output_type": "stream",
          "name": "stdout",
          "text": [
            "Step: 73 \t Time: 576.7866141796112\n",
            "Shift: 0.014629130476713182\n",
            "Current State: 200    0.485414\n",
            "Name: f, dtype: float64 \t Current Constraint: 200    1.011569\n",
            "Name: c, dtype: float64\n"
          ]
        },
        {
          "output_type": "stream",
          "name": "stderr",
          "text": [
            "\r 10%|█         | 73/700 [09:03<1:34:00,  9.00s/it]"
          ]
        },
        {
          "output_type": "stream",
          "name": "stdout",
          "text": [
            "Step: 74 \t Time: 585.5340812206268\n",
            "Shift: 0.014781422209739686\n",
            "Current State: 201    0.416351\n",
            "Name: f, dtype: float64 \t Current Constraint: 201    1.011946\n",
            "Name: c, dtype: float64\n"
          ]
        },
        {
          "output_type": "stream",
          "name": "stderr",
          "text": [
            "\r 11%|█         | 74/700 [09:09<1:24:45,  8.12s/it]"
          ]
        },
        {
          "output_type": "stream",
          "name": "stdout",
          "text": [
            "Step: 75 \t Time: 591.6240177154541\n",
            "Shift: 0.01501515591144562\n",
            "Current State: 202    0.419474\n",
            "Name: f, dtype: float64 \t Current Constraint: 202    1.012307\n",
            "Name: c, dtype: float64\n"
          ]
        },
        {
          "output_type": "stream",
          "name": "stderr",
          "text": [
            "\r 11%|█         | 75/700 [09:18<1:28:25,  8.49s/it]"
          ]
        },
        {
          "output_type": "stream",
          "name": "stdout",
          "text": [
            "Step: 76 \t Time: 600.9654099941254\n",
            "Shift: 0.015044344609975816\n",
            "Current State: 203    29.951097\n",
            "Name: f, dtype: float64 \t Current Constraint: 203    1.003713\n",
            "Name: c, dtype: float64\n"
          ]
        },
        {
          "output_type": "stream",
          "name": "stderr",
          "text": [
            "\r 11%|█         | 76/700 [09:19<1:05:28,  6.30s/it]"
          ]
        },
        {
          "output_type": "stream",
          "name": "stdout",
          "text": [
            "Step: 77 \t Time: 602.142974615097\n",
            "Shift: 0.01521086112856865\n",
            "Current State: 204    0.337926\n",
            "Name: f, dtype: float64 \t Current Constraint: 204    1.011856\n",
            "Name: c, dtype: float64\n"
          ]
        },
        {
          "output_type": "stream",
          "name": "stderr",
          "text": [
            "\r 11%|█         | 77/700 [09:26<1:07:07,  6.46s/it]"
          ]
        },
        {
          "output_type": "stream",
          "name": "stdout",
          "text": [
            "Step: 78 \t Time: 609.0031933784485\n",
            "Shift: 0.015474465727806091\n",
            "Current State: 205    0.898281\n",
            "Name: f, dtype: float64 \t Current Constraint: 205    1.012656\n",
            "Name: c, dtype: float64\n"
          ]
        },
        {
          "output_type": "stream",
          "name": "stderr",
          "text": [
            "\r 11%|█         | 78/700 [09:37<1:19:22,  7.66s/it]"
          ]
        },
        {
          "output_type": "stream",
          "name": "stdout",
          "text": [
            "Step: 79 \t Time: 619.4378941059113\n",
            "Shift: 0.015759472596645355\n",
            "Current State: 206    0.543681\n",
            "Name: f, dtype: float64 \t Current Constraint: 206    1.01209\n",
            "Name: c, dtype: float64\n"
          ]
        },
        {
          "output_type": "stream",
          "name": "stderr",
          "text": [
            "\r 11%|█▏        | 79/700 [09:48<1:30:39,  8.76s/it]"
          ]
        },
        {
          "output_type": "stream",
          "name": "stdout",
          "text": [
            "Step: 80 \t Time: 630.771959066391\n",
            "Shift: 0.015994072073698046\n",
            "Current State: 207    3.402498\n",
            "Name: f, dtype: float64 \t Current Constraint: 207    1.011088\n",
            "Name: c, dtype: float64\n"
          ]
        },
        {
          "output_type": "stream",
          "name": "stderr",
          "text": [
            "\r 11%|█▏        | 80/700 [09:57<1:32:27,  8.95s/it]"
          ]
        },
        {
          "output_type": "stream",
          "name": "stdout",
          "text": [
            "Step: 81 \t Time: 640.1585702896118\n",
            "Shift: 0.01631022602915764\n",
            "Current State: 208    0.438014\n",
            "Name: f, dtype: float64 \t Current Constraint: 208    1.01321\n",
            "Name: c, dtype: float64\n"
          ]
        },
        {
          "output_type": "stream",
          "name": "stderr",
          "text": [
            "\r 12%|█▏        | 81/700 [10:10<1:43:39, 10.05s/it]"
          ]
        },
        {
          "output_type": "stream",
          "name": "stdout",
          "text": [
            "Step: 82 \t Time: 652.7710971832275\n",
            "Shift: 0.01654545413851738\n",
            "Current State: 209    0.714601\n",
            "Name: f, dtype: float64 \t Current Constraint: 209    1.011338\n",
            "Name: c, dtype: float64\n"
          ]
        },
        {
          "output_type": "stream",
          "name": "stderr",
          "text": [
            "\r 12%|█▏        | 82/700 [10:19<1:41:32,  9.86s/it]"
          ]
        },
        {
          "output_type": "stream",
          "name": "stdout",
          "text": [
            "Step: 83 \t Time: 662.1894257068634\n",
            "Shift: 0.01701779251098633\n",
            "Current State: 210    1.797907\n",
            "Name: f, dtype: float64 \t Current Constraint: 210    1.012227\n",
            "Name: c, dtype: float64\n"
          ]
        },
        {
          "output_type": "stream",
          "name": "stderr",
          "text": [
            "\r 12%|█▏        | 83/700 [10:38<2:09:14, 12.57s/it]"
          ]
        },
        {
          "output_type": "stream",
          "name": "stdout",
          "text": [
            "Step: 84 \t Time: 681.0806660652161\n",
            "Shift: 0.01730000203251839\n",
            "Current State: 211    1.19181\n",
            "Name: f, dtype: float64 \t Current Constraint: 211    1.010984\n",
            "Name: c, dtype: float64\n"
          ]
        },
        {
          "output_type": "stream",
          "name": "stderr",
          "text": [
            "\r 12%|█▏        | 84/700 [10:50<2:05:04, 12.18s/it]"
          ]
        },
        {
          "output_type": "stream",
          "name": "stdout",
          "text": [
            "Step: 85 \t Time: 692.3625988960266\n",
            "Shift: 0.017540571928024294\n",
            "Current State: 212    2.206067\n",
            "Name: f, dtype: float64 \t Current Constraint: 212    1.010941\n",
            "Name: c, dtype: float64\n"
          ]
        },
        {
          "output_type": "stream",
          "name": "stderr",
          "text": [
            "\r 12%|█▏        | 85/700 [10:59<1:57:02, 11.42s/it]"
          ]
        },
        {
          "output_type": "stream",
          "name": "stdout",
          "text": [
            "Step: 86 \t Time: 701.998307466507\n",
            "Shift: 0.017989006221294405\n",
            "Current State: 213    4.175601\n",
            "Name: f, dtype: float64 \t Current Constraint: 213    1.011599\n",
            "Name: c, dtype: float64\n"
          ]
        },
        {
          "output_type": "stream",
          "name": "stderr",
          "text": [
            "\r 12%|█▏        | 86/700 [11:17<2:16:52, 13.38s/it]"
          ]
        },
        {
          "output_type": "stream",
          "name": "stdout",
          "text": [
            "Step: 87 \t Time: 719.9394242763519\n",
            "Shift: 0.018280319553613665\n",
            "Current State: 214    2.160074\n",
            "Name: f, dtype: float64 \t Current Constraint: 214    1.009581\n",
            "Name: c, dtype: float64\n"
          ]
        },
        {
          "output_type": "stream",
          "name": "stderr",
          "text": [
            "\r 12%|█▏        | 87/700 [11:29<2:11:22, 12.86s/it]"
          ]
        },
        {
          "output_type": "stream",
          "name": "stdout",
          "text": [
            "Step: 88 \t Time: 731.591187953949\n",
            "Shift: 0.018533669942617417\n",
            "Current State: 215    2.072679\n",
            "Name: f, dtype: float64 \t Current Constraint: 215    1.011043\n",
            "Name: c, dtype: float64\n"
          ]
        },
        {
          "output_type": "stream",
          "name": "stderr",
          "text": [
            "\r 13%|█▎        | 88/700 [11:39<2:02:49, 12.04s/it]"
          ]
        },
        {
          "output_type": "stream",
          "name": "stdout",
          "text": [
            "Step: 89 \t Time: 741.7257254123688\n",
            "Shift: 0.018582807219028472\n",
            "Current State: 216    0.785561\n",
            "Name: f, dtype: float64 \t Current Constraint: 216    1.010849\n",
            "Name: c, dtype: float64\n"
          ]
        },
        {
          "output_type": "stream",
          "name": "stderr",
          "text": [
            "\r 13%|█▎        | 89/700 [11:41<1:31:49,  9.02s/it]"
          ]
        },
        {
          "output_type": "stream",
          "name": "stdout",
          "text": [
            "Step: 90 \t Time: 743.6874234676361\n",
            "Shift: 0.018824003845453262\n",
            "Current State: 217    1.483583\n",
            "Name: f, dtype: float64 \t Current Constraint: 217    1.007815\n",
            "Name: c, dtype: float64\n"
          ]
        },
        {
          "output_type": "stream",
          "name": "stderr",
          "text": [
            "\r 13%|█▎        | 90/700 [11:51<1:33:34,  9.20s/it]"
          ]
        },
        {
          "output_type": "stream",
          "name": "stdout",
          "text": [
            "Step: 91 \t Time: 753.3258707523346\n",
            "Shift: 0.019030726128816604\n",
            "Current State: 218    1.770598\n",
            "Name: f, dtype: float64 \t Current Constraint: 218    1.008333\n",
            "Name: c, dtype: float64\n"
          ]
        },
        {
          "output_type": "stream",
          "name": "stderr",
          "text": [
            "\r 13%|█▎        | 91/700 [11:59<1:30:35,  8.92s/it]"
          ]
        },
        {
          "output_type": "stream",
          "name": "stdout",
          "text": [
            "Step: 92 \t Time: 761.6002562046051\n",
            "Shift: 0.01929000629782677\n",
            "Current State: 219    0.93622\n",
            "Name: f, dtype: float64 \t Current Constraint: 219    1.010683\n",
            "Name: c, dtype: float64\n"
          ]
        },
        {
          "output_type": "stream",
          "name": "stderr",
          "text": [
            "\r 13%|█▎        | 92/700 [12:09<1:34:49,  9.36s/it]"
          ]
        },
        {
          "output_type": "stream",
          "name": "stdout",
          "text": [
            "Step: 93 \t Time: 771.9654266834259\n",
            "Shift: 0.01949665841460228\n",
            "Current State: 220    0.329153\n",
            "Name: f, dtype: float64 \t Current Constraint: 220    1.010317\n",
            "Name: c, dtype: float64\n"
          ]
        },
        {
          "output_type": "stream",
          "name": "stderr",
          "text": [
            "\r 13%|█▎        | 93/700 [12:17<1:31:20,  9.03s/it]"
          ]
        },
        {
          "output_type": "stream",
          "name": "stdout",
          "text": [
            "Step: 94 \t Time: 780.2292683124542\n",
            "Shift: 0.01979219983816147\n",
            "Current State: 221    0.306876\n",
            "Name: f, dtype: float64 \t Current Constraint: 221    1.009835\n",
            "Name: c, dtype: float64\n"
          ]
        },
        {
          "output_type": "stream",
          "name": "stderr",
          "text": [
            "\r 13%|█▎        | 94/700 [12:29<1:39:44,  9.87s/it]"
          ]
        },
        {
          "output_type": "stream",
          "name": "stdout",
          "text": [
            "Step: 95 \t Time: 792.0779256820679\n",
            "Shift: 0.019985246199369432\n",
            "Current State: 222    0.687449\n",
            "Name: f, dtype: float64 \t Current Constraint: 222    1.011007\n",
            "Name: c, dtype: float64\n"
          ]
        },
        {
          "output_type": "stream",
          "name": "stderr",
          "text": [
            "\r 14%|█▎        | 95/700 [12:37<1:33:00,  9.22s/it]"
          ]
        },
        {
          "output_type": "stream",
          "name": "stdout",
          "text": [
            "Step: 96 \t Time: 799.7806851863861\n",
            "Shift: 0.020285375672578813\n",
            "Current State: 223    0.451175\n",
            "Name: f, dtype: float64 \t Current Constraint: 223    1.009831\n",
            "Name: c, dtype: float64\n"
          ]
        },
        {
          "output_type": "stream",
          "name": "stderr",
          "text": [
            "\r 14%|█▎        | 96/700 [12:49<1:41:17, 10.06s/it]"
          ]
        },
        {
          "output_type": "stream",
          "name": "stdout",
          "text": [
            "Step: 97 \t Time: 811.7988708019257\n",
            "Shift: 0.02031603406071663\n",
            "Current State: 224    17.572577\n",
            "Name: f, dtype: float64 \t Current Constraint: 224    1.015581\n",
            "Name: c, dtype: float64\n"
          ]
        },
        {
          "output_type": "stream",
          "name": "stderr",
          "text": [
            "\r 14%|█▍        | 97/700 [12:50<1:14:25,  7.41s/it]"
          ]
        },
        {
          "output_type": "stream",
          "name": "stdout",
          "text": [
            "Step: 98 \t Time: 813.0056552886963\n",
            "Shift: 0.0205578899204731\n",
            "Current State: 225    0.503447\n",
            "Name: f, dtype: float64 \t Current Constraint: 225    1.009261\n",
            "Name: c, dtype: float64\n"
          ]
        },
        {
          "output_type": "stream",
          "name": "stderr",
          "text": [
            "\r 14%|█▍        | 98/700 [13:00<1:21:09,  8.09s/it]"
          ]
        },
        {
          "output_type": "stream",
          "name": "stdout",
          "text": [
            "Step: 99 \t Time: 822.6879239082336\n",
            "Shift: 0.020823304808139802\n",
            "Current State: 226    0.436044\n",
            "Name: f, dtype: float64 \t Current Constraint: 226    1.009328\n",
            "Name: c, dtype: float64\n"
          ]
        },
        {
          "output_type": "stream",
          "name": "stderr",
          "text": [
            "\r 14%|█▍        | 99/700 [13:11<1:28:36,  8.85s/it]"
          ]
        },
        {
          "output_type": "stream",
          "name": "stdout",
          "text": [
            "Step: 100 \t Time: 833.3041808605194\n",
            "Shift: 0.02097665417790413\n",
            "Current State: 227    1.804561\n",
            "Name: f, dtype: float64 \t Current Constraint: 227    1.006942\n",
            "Name: c, dtype: float64\n"
          ]
        },
        {
          "output_type": "stream",
          "name": "stderr",
          "text": [
            "\r 14%|█▍        | 100/700 [13:17<1:20:19,  8.03s/it]"
          ]
        },
        {
          "output_type": "stream",
          "name": "stdout",
          "text": [
            "Step: 101 \t Time: 839.4350528717041\n",
            "Shift: 0.021168027710914614\n",
            "Current State: 228    2.290858\n",
            "Name: f, dtype: float64 \t Current Constraint: 228    1.009419\n",
            "Name: c, dtype: float64\n"
          ]
        },
        {
          "output_type": "stream",
          "name": "stderr",
          "text": [
            "\r 14%|█▍        | 101/700 [13:24<1:19:04,  7.92s/it]"
          ]
        },
        {
          "output_type": "stream",
          "name": "stdout",
          "text": [
            "Step: 102 \t Time: 847.0969157218933\n",
            "Shift: 0.02145689832568169\n",
            "Current State: 229    1.58097\n",
            "Name: f, dtype: float64 \t Current Constraint: 229    1.011202\n",
            "Name: c, dtype: float64\n"
          ]
        },
        {
          "output_type": "stream",
          "name": "stderr",
          "text": [
            "\r 15%|█▍        | 102/700 [13:36<1:29:46,  9.01s/it]"
          ]
        },
        {
          "output_type": "stream",
          "name": "stdout",
          "text": [
            "Step: 103 \t Time: 858.6425881385803\n",
            "Shift: 0.02155247381925583\n",
            "Current State: 230    1.160465\n",
            "Name: f, dtype: float64 \t Current Constraint: 230    1.009572\n",
            "Name: c, dtype: float64\n"
          ]
        },
        {
          "output_type": "stream",
          "name": "stderr",
          "text": [
            "\r 15%|█▍        | 103/700 [13:40<1:14:16,  7.47s/it]"
          ]
        },
        {
          "output_type": "stream",
          "name": "stdout",
          "text": [
            "Step: 104 \t Time: 862.5065915584564\n",
            "Shift: 0.021630970263481143\n",
            "Current State: 231    0.949791\n",
            "Name: f, dtype: float64 \t Current Constraint: 231    1.009347\n",
            "Name: c, dtype: float64\n"
          ]
        },
        {
          "output_type": "stream",
          "name": "stderr",
          "text": [
            "\r 15%|█▍        | 104/700 [13:43<1:01:10,  6.16s/it]"
          ]
        },
        {
          "output_type": "stream",
          "name": "stdout",
          "text": [
            "Step: 105 \t Time: 865.6152756214142\n",
            "Shift: 0.021786984342336654\n",
            "Current State: 232    1.048383\n",
            "Name: f, dtype: float64 \t Current Constraint: 232    1.010698\n",
            "Name: c, dtype: float64\n"
          ]
        },
        {
          "output_type": "stream",
          "name": "stderr",
          "text": [
            "\r 15%|█▌        | 105/700 [13:49<1:01:19,  6.18s/it]"
          ]
        },
        {
          "output_type": "stream",
          "name": "stdout",
          "text": [
            "Step: 106 \t Time: 871.8620703220367\n",
            "Shift: 0.0218775031208992\n",
            "Current State: 233    0.982014\n",
            "Name: f, dtype: float64 \t Current Constraint: 233    1.00915\n",
            "Name: c, dtype: float64\n"
          ]
        },
        {
          "output_type": "stream",
          "name": "stderr",
          "text": [
            "\r 15%|█▌        | 106/700 [13:53<53:33,  5.41s/it]  "
          ]
        },
        {
          "output_type": "stream",
          "name": "stdout",
          "text": [
            "Step: 107 \t Time: 875.465523481369\n",
            "Shift: 0.02197800117135048\n",
            "Current State: 234    0.8982\n",
            "Name: f, dtype: float64 \t Current Constraint: 234    1.010697\n",
            "Name: c, dtype: float64\n"
          ]
        },
        {
          "output_type": "stream",
          "name": "stderr",
          "text": [
            "\r 15%|█▌        | 107/700 [13:57<49:49,  5.04s/it]"
          ]
        },
        {
          "output_type": "stream",
          "name": "stdout",
          "text": [
            "Step: 108 \t Time: 879.644106388092\n",
            "Shift: 0.022199691236019135\n",
            "Current State: 235    0.584052\n",
            "Name: f, dtype: float64 \t Current Constraint: 235    1.00851\n",
            "Name: c, dtype: float64\n"
          ]
        },
        {
          "output_type": "stream",
          "name": "stderr",
          "text": [
            "\r 15%|█▌        | 108/700 [14:06<1:00:35,  6.14s/it]"
          ]
        },
        {
          "output_type": "stream",
          "name": "stdout",
          "text": [
            "Step: 109 \t Time: 888.3523943424225\n",
            "Shift: 0.022403285390138628\n",
            "Current State: 236    0.231655\n",
            "Name: f, dtype: float64 \t Current Constraint: 236    1.009261\n",
            "Name: c, dtype: float64\n"
          ]
        },
        {
          "output_type": "stream",
          "name": "stderr",
          "text": [
            "\r 16%|█▌        | 109/700 [14:14<1:06:25,  6.74s/it]"
          ]
        },
        {
          "output_type": "stream",
          "name": "stdout",
          "text": [
            "Step: 110 \t Time: 896.5022583007812\n",
            "Shift: 0.022966444486379623\n",
            "Current State: 237    0.652711\n",
            "Name: f, dtype: float64 \t Current Constraint: 237    1.008122\n",
            "Name: c, dtype: float64\n"
          ]
        },
        {
          "output_type": "stream",
          "name": "stderr",
          "text": [
            "\r 16%|█▌        | 110/700 [14:36<1:53:25, 11.53s/it]"
          ]
        },
        {
          "output_type": "stream",
          "name": "stdout",
          "text": [
            "Step: 111 \t Time: 919.2160997390747\n",
            "Shift: 0.02314948526620865\n",
            "Current State: 238    0.215815\n",
            "Name: f, dtype: float64 \t Current Constraint: 238    1.009522\n",
            "Name: c, dtype: float64\n"
          ]
        },
        {
          "output_type": "stream",
          "name": "stderr",
          "text": [
            "\r 16%|█▌        | 111/700 [14:44<1:40:14, 10.21s/it]"
          ]
        },
        {
          "output_type": "stream",
          "name": "stdout",
          "text": [
            "Step: 112 \t Time: 926.3413088321686\n",
            "Shift: 0.023403410947322848\n",
            "Current State: 239    0.459702\n",
            "Name: f, dtype: float64 \t Current Constraint: 239    1.00802\n",
            "Name: c, dtype: float64\n"
          ]
        },
        {
          "output_type": "stream",
          "name": "stderr",
          "text": [
            "\r 16%|█▌        | 112/700 [14:54<1:39:57, 10.20s/it]"
          ]
        },
        {
          "output_type": "stream",
          "name": "stdout",
          "text": [
            "Step: 113 \t Time: 936.5105574131012\n",
            "Shift: 0.02358390480875969\n",
            "Current State: 240    0.04215\n",
            "Name: f, dtype: float64 \t Current Constraint: 240    1.008929\n",
            "Name: c, dtype: float64\n"
          ]
        },
        {
          "output_type": "stream",
          "name": "stderr",
          "text": [
            "\r 16%|█▌        | 113/700 [15:01<1:31:15,  9.33s/it]"
          ]
        },
        {
          "output_type": "stream",
          "name": "stdout",
          "text": [
            "Step: 114 \t Time: 943.8032734394073\n",
            "Shift: 0.023820890176296235\n",
            "Current State: 241    0.377969\n",
            "Name: f, dtype: float64 \t Current Constraint: 241    1.008088\n",
            "Name: c, dtype: float64\n"
          ]
        },
        {
          "output_type": "stream",
          "name": "stderr",
          "text": [
            "\r 16%|█▋        | 114/700 [15:10<1:31:18,  9.35s/it]"
          ]
        },
        {
          "output_type": "stream",
          "name": "stdout",
          "text": [
            "Step: 115 \t Time: 953.2040657997131\n",
            "Shift: 0.02405178838968277\n",
            "Current State: 242    0.050072\n",
            "Name: f, dtype: float64 \t Current Constraint: 242    1.007685\n",
            "Name: c, dtype: float64\n"
          ]
        },
        {
          "output_type": "stream",
          "name": "stderr",
          "text": [
            "\r 16%|█▋        | 115/700 [15:20<1:30:50,  9.32s/it]"
          ]
        },
        {
          "output_type": "stream",
          "name": "stdout",
          "text": [
            "Step: 116 \t Time: 962.4438142776489\n",
            "Shift: 0.024271904402971268\n",
            "Current State: 243    0.058789\n",
            "Name: f, dtype: float64 \t Current Constraint: 243    1.007895\n",
            "Name: c, dtype: float64\n"
          ]
        },
        {
          "output_type": "stream",
          "name": "stderr",
          "text": [
            "\r 17%|█▋        | 116/700 [15:29<1:29:42,  9.22s/it]"
          ]
        },
        {
          "output_type": "stream",
          "name": "stdout",
          "text": [
            "Step: 117 \t Time: 971.4279799461365\n",
            "Shift: 0.024629244685173034\n",
            "Current State: 244    0.074651\n",
            "Name: f, dtype: float64 \t Current Constraint: 244    1.006862\n",
            "Name: c, dtype: float64\n"
          ]
        },
        {
          "output_type": "stream",
          "name": "stderr",
          "text": [
            "\r 17%|█▋        | 117/700 [15:43<1:43:52, 10.69s/it]"
          ]
        },
        {
          "output_type": "stream",
          "name": "stdout",
          "text": [
            "Step: 118 \t Time: 985.5579450130463\n",
            "Shift: 0.024902680921554565\n",
            "Current State: 245    0.0955\n",
            "Name: f, dtype: float64 \t Current Constraint: 245    1.008485\n",
            "Name: c, dtype: float64\n"
          ]
        },
        {
          "output_type": "stream",
          "name": "stderr",
          "text": [
            "\r 17%|█▋        | 118/700 [15:54<1:44:43, 10.80s/it]"
          ]
        },
        {
          "output_type": "stream",
          "name": "stdout",
          "text": [
            "Step: 119 \t Time: 996.6038315296173\n",
            "Shift: 0.025079481780529024\n",
            "Current State: 246    0.399834\n",
            "Name: f, dtype: float64 \t Current Constraint: 246    1.007844\n",
            "Name: c, dtype: float64\n"
          ]
        },
        {
          "output_type": "stream",
          "name": "stderr",
          "text": [
            "\r 17%|█▋        | 119/700 [16:01<1:33:21,  9.64s/it]"
          ]
        },
        {
          "output_type": "stream",
          "name": "stdout",
          "text": [
            "Step: 120 \t Time: 1003.5463576316833\n",
            "Shift: 0.025316749674081804\n",
            "Current State: 247    0.235779\n",
            "Name: f, dtype: float64 \t Current Constraint: 247    1.007112\n",
            "Name: c, dtype: float64\n"
          ]
        },
        {
          "output_type": "stream",
          "name": "stderr",
          "text": [
            "\r 17%|█▋        | 120/700 [16:10<1:32:47,  9.60s/it]"
          ]
        },
        {
          "output_type": "stream",
          "name": "stdout",
          "text": [
            "Step: 121 \t Time: 1013.0454287528992\n",
            "Shift: 0.02534806996583939\n",
            "Current State: 248    29.926121\n",
            "Name: f, dtype: float64 \t Current Constraint: 248    1.003524\n",
            "Name: c, dtype: float64\n"
          ]
        },
        {
          "output_type": "stream",
          "name": "stderr",
          "text": [
            "\r 17%|█▋        | 121/700 [16:12<1:08:26,  7.09s/it]"
          ]
        },
        {
          "output_type": "stream",
          "name": "stdout",
          "text": [
            "Step: 122 \t Time: 1014.2928829193115\n",
            "Shift: 0.025542438590526583\n",
            "Current State: 249    0.095804\n",
            "Name: f, dtype: float64 \t Current Constraint: 249    1.008862\n",
            "Name: c, dtype: float64\n"
          ]
        },
        {
          "output_type": "stream",
          "name": "stderr",
          "text": [
            "\r 17%|█▋        | 122/700 [16:19<1:10:43,  7.34s/it]"
          ]
        },
        {
          "output_type": "stream",
          "name": "stdout",
          "text": [
            "Step: 123 \t Time: 1022.2123596668243\n",
            "Shift: 0.025773907148838045\n",
            "Current State: 250    0.194643\n",
            "Name: f, dtype: float64 \t Current Constraint: 250    1.008192\n",
            "Name: c, dtype: float64\n"
          ]
        },
        {
          "output_type": "stream",
          "name": "stderr",
          "text": [
            "\r 18%|█▊        | 123/700 [16:29<1:15:41,  7.87s/it]"
          ]
        },
        {
          "output_type": "stream",
          "name": "stdout",
          "text": [
            "Step: 124 \t Time: 1031.3172860145569\n",
            "Shift: 0.026017782366275787\n",
            "Current State: 251    0.131271\n",
            "Name: f, dtype: float64 \t Current Constraint: 251    1.008554\n",
            "Name: c, dtype: float64\n"
          ]
        },
        {
          "output_type": "stream",
          "name": "stderr",
          "text": [
            "\r 18%|█▊        | 124/700 [16:38<1:21:01,  8.44s/it]"
          ]
        },
        {
          "output_type": "stream",
          "name": "stdout",
          "text": [
            "Step: 125 \t Time: 1041.0885469913483\n",
            "Shift: 0.026064952796697616\n",
            "Current State: 252    0.216697\n",
            "Name: f, dtype: float64 \t Current Constraint: 252    1.011544\n",
            "Name: c, dtype: float64\n"
          ]
        },
        {
          "output_type": "stream",
          "name": "stderr",
          "text": [
            "\r 18%|█▊        | 125/700 [16:40<1:02:01,  6.47s/it]"
          ]
        },
        {
          "output_type": "stream",
          "name": "stdout",
          "text": [
            "Step: 126 \t Time: 1042.966293334961\n",
            "Shift: 0.026246591168642044\n",
            "Current State: 253    0.881598\n",
            "Name: f, dtype: float64 \t Current Constraint: 253    1.009031\n",
            "Name: c, dtype: float64\n"
          ]
        },
        {
          "output_type": "stream",
          "name": "stderr",
          "text": [
            "\r 18%|█▊        | 126/700 [16:47<1:04:09,  6.71s/it]"
          ]
        },
        {
          "output_type": "stream",
          "name": "stdout",
          "text": [
            "Step: 127 \t Time: 1050.2228758335114\n",
            "Shift: 0.026719206494092942\n",
            "Current State: 254    0.682245\n",
            "Name: f, dtype: float64 \t Current Constraint: 254    1.008672\n",
            "Name: c, dtype: float64\n"
          ]
        },
        {
          "output_type": "stream",
          "name": "stderr",
          "text": [
            "\r 18%|█▊        | 127/700 [17:06<1:39:06, 10.38s/it]"
          ]
        },
        {
          "output_type": "stream",
          "name": "stdout",
          "text": [
            "Step: 128 \t Time: 1069.1671023368835\n",
            "Shift: 0.026944180244207385\n",
            "Current State: 255    1.854708\n",
            "Name: f, dtype: float64 \t Current Constraint: 255    1.012308\n",
            "Name: c, dtype: float64\n"
          ]
        },
        {
          "output_type": "stream",
          "name": "stderr",
          "text": [
            "\r 18%|█▊        | 128/700 [17:15<1:34:54,  9.96s/it]"
          ]
        },
        {
          "output_type": "stream",
          "name": "stdout",
          "text": [
            "Step: 129 \t Time: 1078.1384432315826\n",
            "Shift: 0.027125357115268707\n",
            "Current State: 256    0.110363\n",
            "Name: f, dtype: float64 \t Current Constraint: 256    1.010812\n",
            "Name: c, dtype: float64\n"
          ]
        },
        {
          "output_type": "stream",
          "name": "stderr",
          "text": [
            "\r 18%|█▊        | 129/700 [17:23<1:27:04,  9.15s/it]"
          ]
        },
        {
          "output_type": "stream",
          "name": "stdout",
          "text": [
            "Step: 130 \t Time: 1085.409240245819\n",
            "Shift: 0.02738738559484482\n",
            "Current State: 257    0.169402\n",
            "Name: f, dtype: float64 \t Current Constraint: 257    1.01139\n",
            "Name: c, dtype: float64\n"
          ]
        },
        {
          "output_type": "stream",
          "name": "stderr",
          "text": [
            "\r 19%|█▊        | 130/700 [17:33<1:30:38,  9.54s/it]"
          ]
        },
        {
          "output_type": "stream",
          "name": "stdout",
          "text": [
            "Step: 131 \t Time: 1095.8606235980988\n",
            "Shift: 0.027542671293020248\n",
            "Current State: 258    0.362908\n",
            "Name: f, dtype: float64 \t Current Constraint: 258    1.011894\n",
            "Name: c, dtype: float64\n"
          ]
        },
        {
          "output_type": "stream",
          "name": "stderr",
          "text": [
            "\r 19%|█▊        | 131/700 [17:39<1:21:06,  8.55s/it]"
          ]
        },
        {
          "output_type": "stream",
          "name": "stdout",
          "text": [
            "Step: 132 \t Time: 1102.10728764534\n",
            "Shift: 0.027627199935913088\n",
            "Current State: 259    0.200303\n",
            "Name: f, dtype: float64 \t Current Constraint: 259    1.012091\n",
            "Name: c, dtype: float64\n"
          ]
        },
        {
          "output_type": "stream",
          "name": "stderr",
          "text": [
            "\r 19%|█▉        | 132/700 [17:43<1:06:11,  6.99s/it]"
          ]
        },
        {
          "output_type": "stream",
          "name": "stdout",
          "text": [
            "Step: 133 \t Time: 1105.4609615802765\n",
            "Shift: 0.02815473849773407\n",
            "Current State: 260    1.931098\n",
            "Name: f, dtype: float64 \t Current Constraint: 260    1.013124\n",
            "Name: c, dtype: float64\n"
          ]
        },
        {
          "output_type": "stream",
          "name": "stderr",
          "text": [
            "\r 19%|█▉        | 133/700 [18:04<1:46:40, 11.29s/it]"
          ]
        },
        {
          "output_type": "stream",
          "name": "stdout",
          "text": [
            "Step: 134 \t Time: 1126.7739214897156\n",
            "Shift: 0.02825936743617058\n",
            "Current State: 261    3.518145\n",
            "Name: f, dtype: float64 \t Current Constraint: 261    1.008945\n",
            "Name: c, dtype: float64\n"
          ]
        },
        {
          "output_type": "stream",
          "name": "stderr",
          "text": [
            "\r 19%|█▉        | 134/700 [18:08<1:25:46,  9.09s/it]"
          ]
        },
        {
          "output_type": "stream",
          "name": "stdout",
          "text": [
            "Step: 135 \t Time: 1130.7444083690643\n",
            "Shift: 0.02847920142412186\n",
            "Current State: 262    1.954741\n",
            "Name: f, dtype: float64 \t Current Constraint: 262    1.012172\n",
            "Name: c, dtype: float64\n"
          ]
        },
        {
          "output_type": "stream",
          "name": "stderr",
          "text": [
            "\r 19%|█▉        | 135/700 [18:17<1:25:19,  9.06s/it]"
          ]
        },
        {
          "output_type": "stream",
          "name": "stdout",
          "text": [
            "Step: 136 \t Time: 1139.7285203933716\n",
            "Shift: 0.028728522604703904\n",
            "Current State: 263    0.879745\n",
            "Name: f, dtype: float64 \t Current Constraint: 263    1.009927\n",
            "Name: c, dtype: float64\n"
          ]
        },
        {
          "output_type": "stream",
          "name": "stderr",
          "text": [
            "\r 19%|█▉        | 136/700 [18:27<1:27:10,  9.27s/it]"
          ]
        },
        {
          "output_type": "stream",
          "name": "stdout",
          "text": [
            "Step: 137 \t Time: 1149.5024046897888\n",
            "Shift: 0.02894073889255524\n",
            "Current State: 264    0.932301\n",
            "Name: f, dtype: float64 \t Current Constraint: 264    1.010002\n",
            "Name: c, dtype: float64\n"
          ]
        },
        {
          "output_type": "stream",
          "name": "stderr",
          "text": [
            "\r 20%|█▉        | 137/700 [18:35<1:24:48,  9.04s/it]"
          ]
        },
        {
          "output_type": "stream",
          "name": "stdout",
          "text": [
            "Step: 138 \t Time: 1157.9870836734772\n",
            "Shift: 0.029168790775537492\n",
            "Current State: 265    0.629028\n",
            "Name: f, dtype: float64 \t Current Constraint: 265    1.009305\n",
            "Name: c, dtype: float64\n"
          ]
        },
        {
          "output_type": "stream",
          "name": "stderr",
          "text": [
            "\r 20%|█▉        | 138/700 [18:44<1:25:01,  9.08s/it]"
          ]
        },
        {
          "output_type": "stream",
          "name": "stdout",
          "text": [
            "Step: 139 \t Time: 1167.1551585197449\n",
            "Shift: 0.029257082545757294\n",
            "Current State: 266    0.256665\n",
            "Name: f, dtype: float64 \t Current Constraint: 266    1.008673\n",
            "Name: c, dtype: float64\n"
          ]
        },
        {
          "output_type": "stream",
          "name": "stderr",
          "text": [
            "\r 20%|█▉        | 139/700 [18:48<1:09:11,  7.40s/it]"
          ]
        },
        {
          "output_type": "stream",
          "name": "stdout",
          "text": [
            "Step: 140 \t Time: 1170.6445982456207\n",
            "Shift: 0.029702163141965866\n",
            "Current State: 267    4.458313\n",
            "Name: f, dtype: float64 \t Current Constraint: 267    1.005678\n",
            "Name: c, dtype: float64\n"
          ]
        },
        {
          "output_type": "stream",
          "name": "stderr",
          "text": [
            "\r 20%|██        | 140/700 [19:06<1:38:11, 10.52s/it]"
          ]
        },
        {
          "output_type": "stream",
          "name": "stdout",
          "text": [
            "Step: 141 \t Time: 1188.4462847709656\n",
            "Shift: 0.029945091950893402\n",
            "Current State: 268    3.044043\n",
            "Name: f, dtype: float64 \t Current Constraint: 268    1.005658\n",
            "Name: c, dtype: float64\n"
          ]
        },
        {
          "output_type": "stream",
          "name": "stderr",
          "text": [
            "\r 20%|██        | 141/700 [19:15<1:35:48, 10.28s/it]"
          ]
        },
        {
          "output_type": "stream",
          "name": "stdout",
          "text": [
            "Step: 142 \t Time: 1198.1783735752106\n",
            "Shift: 0.030162011098861696\n",
            "Current State: 269    1.815132\n",
            "Name: f, dtype: float64 \t Current Constraint: 269    1.007365\n",
            "Name: c, dtype: float64\n"
          ]
        },
        {
          "output_type": "stream",
          "name": "stderr",
          "text": [
            "\r 20%|██        | 142/700 [19:24<1:31:07,  9.80s/it]"
          ]
        },
        {
          "output_type": "stream",
          "name": "stdout",
          "text": [
            "Step: 143 \t Time: 1206.8429572582245\n",
            "Shift: 0.03034959211945534\n",
            "Current State: 270    2.017864\n",
            "Name: f, dtype: float64 \t Current Constraint: 270    1.008271\n",
            "Name: c, dtype: float64\n"
          ]
        },
        {
          "output_type": "stream",
          "name": "stderr",
          "text": [
            "\r 20%|██        | 143/700 [19:32<1:24:33,  9.11s/it]"
          ]
        },
        {
          "output_type": "stream",
          "name": "stdout",
          "text": [
            "Step: 144 \t Time: 1214.3431532382965\n",
            "Shift: 0.030436527901887896\n",
            "Current State: 271    63.332642\n",
            "Name: f, dtype: float64 \t Current Constraint: 271    0.570512\n",
            "Name: c, dtype: float64\n"
          ]
        },
        {
          "output_type": "stream",
          "name": "stderr",
          "text": [
            "\r 21%|██        | 144/700 [19:35<1:09:09,  7.46s/it]"
          ]
        },
        {
          "output_type": "stream",
          "name": "stdout",
          "text": [
            "Step: 145 \t Time: 1217.9646937847137\n",
            "Shift: 0.030467474800348282\n",
            "Current State: 272    13.039155\n",
            "Name: f, dtype: float64 \t Current Constraint: 272    1.00495\n",
            "Name: c, dtype: float64\n"
          ]
        },
        {
          "output_type": "stream",
          "name": "stderr",
          "text": [
            "\r 21%|██        | 145/700 [19:36<51:21,  5.55s/it]  "
          ]
        },
        {
          "output_type": "stream",
          "name": "stdout",
          "text": [
            "Step: 146 \t Time: 1219.0614104270935\n",
            "Shift: 0.030492235469818118\n",
            "Current State: 273    11.690927\n",
            "Name: f, dtype: float64 \t Current Constraint: 273    1.013231\n",
            "Name: c, dtype: float64\n"
          ]
        },
        {
          "output_type": "stream",
          "name": "stderr",
          "text": [
            "\r 21%|██        | 146/700 [19:37<38:40,  4.19s/it]"
          ]
        },
        {
          "output_type": "stream",
          "name": "stdout",
          "text": [
            "Step: 147 \t Time: 1220.064778804779\n",
            "Shift: 0.030528268265724183\n",
            "Current State: 274    6.122176\n",
            "Name: f, dtype: float64 \t Current Constraint: 274    1.006647\n",
            "Name: c, dtype: float64\n"
          ]
        },
        {
          "output_type": "stream",
          "name": "stderr",
          "text": [
            "\r 21%|██        | 147/700 [19:39<31:00,  3.36s/it]"
          ]
        },
        {
          "output_type": "stream",
          "name": "stdout",
          "text": [
            "Step: 148 \t Time: 1221.5071158409119\n",
            "Shift: 0.030554162710905077\n",
            "Current State: 275    23.165243\n",
            "Name: f, dtype: float64 \t Current Constraint: 275    1.005489\n",
            "Name: c, dtype: float64\n"
          ]
        },
        {
          "output_type": "stream",
          "name": "stderr",
          "text": [
            "\r 21%|██        | 148/700 [19:40<24:30,  2.66s/it]"
          ]
        },
        {
          "output_type": "stream",
          "name": "stdout",
          "text": [
            "Step: 149 \t Time: 1222.5337681770325\n",
            "Shift: 0.030591559040546418\n",
            "Current State: 276    2.356507\n",
            "Name: f, dtype: float64 \t Current Constraint: 276    1.009868\n",
            "Name: c, dtype: float64\n"
          ]
        },
        {
          "output_type": "stream",
          "name": "stderr",
          "text": [
            "\r 21%|██▏       | 149/700 [19:41<21:14,  2.31s/it]"
          ]
        },
        {
          "output_type": "stream",
          "name": "stdout",
          "text": [
            "Step: 150 \t Time: 1224.0328941345215\n",
            "Shift: 0.030615999257564547\n",
            "Current State: 277    30.802053\n",
            "Name: f, dtype: float64 \t Current Constraint: 277    0.99983\n",
            "Name: c, dtype: float64\n"
          ]
        },
        {
          "output_type": "stream",
          "name": "stderr",
          "text": [
            "\r 21%|██▏       | 150/700 [19:42<17:33,  1.92s/it]"
          ]
        },
        {
          "output_type": "stream",
          "name": "stdout",
          "text": [
            "Step: 151 \t Time: 1225.0177328586578\n",
            "Shift: 0.030643073266744616\n",
            "Current State: 278    9.328652\n",
            "Name: f, dtype: float64 \t Current Constraint: 278    1.012941\n",
            "Name: c, dtype: float64\n"
          ]
        },
        {
          "output_type": "stream",
          "name": "stderr",
          "text": [
            "\r 22%|██▏       | 151/700 [19:43<15:14,  1.67s/it]"
          ]
        },
        {
          "output_type": "stream",
          "name": "stdout",
          "text": [
            "Step: 152 \t Time: 1226.1018326282501\n",
            "Shift: 0.03072996366620064\n",
            "Current State: 279    2.166249\n",
            "Name: f, dtype: float64 \t Current Constraint: 279    1.010413\n",
            "Name: c, dtype: float64\n"
          ]
        },
        {
          "output_type": "stream",
          "name": "stderr",
          "text": [
            "\r 22%|██▏       | 152/700 [19:47<20:39,  2.26s/it]"
          ]
        },
        {
          "output_type": "stream",
          "name": "stdout",
          "text": [
            "Step: 153 \t Time: 1229.7530508041382\n",
            "Shift: 0.03086370262503624\n",
            "Current State: 280    2.138636\n",
            "Name: f, dtype: float64 \t Current Constraint: 280    1.009168\n",
            "Name: c, dtype: float64\n"
          ]
        },
        {
          "output_type": "stream",
          "name": "stderr",
          "text": [
            "\r 22%|██▏       | 153/700 [19:52<28:31,  3.13s/it]"
          ]
        },
        {
          "output_type": "stream",
          "name": "stdout",
          "text": [
            "Step: 154 \t Time: 1234.9065356254578\n",
            "Shift: 0.03097889557480812\n",
            "Current State: 281    2.25073\n",
            "Name: f, dtype: float64 \t Current Constraint: 281    1.008094\n",
            "Name: c, dtype: float64\n"
          ]
        },
        {
          "output_type": "stream",
          "name": "stderr",
          "text": [
            "\r 22%|██▏       | 154/700 [19:57<32:33,  3.58s/it]"
          ]
        },
        {
          "output_type": "stream",
          "name": "stdout",
          "text": [
            "Step: 155 \t Time: 1239.5326387882233\n",
            "Shift: 0.031027673149108887\n",
            "Current State: 282    2.425921\n",
            "Name: f, dtype: float64 \t Current Constraint: 282    1.008441\n",
            "Name: c, dtype: float64\n"
          ]
        },
        {
          "output_type": "stream",
          "name": "stderr",
          "text": [
            "\r 22%|██▏       | 155/700 [19:59<28:07,  3.10s/it]"
          ]
        },
        {
          "output_type": "stream",
          "name": "stdout",
          "text": [
            "Step: 156 \t Time: 1241.5047125816345\n",
            "Shift: 0.031174851632118226\n",
            "Current State: 283    2.342673\n",
            "Name: f, dtype: float64 \t Current Constraint: 283    1.009032\n",
            "Name: c, dtype: float64\n"
          ]
        },
        {
          "output_type": "stream",
          "name": "stderr",
          "text": [
            "\r 22%|██▏       | 156/700 [20:05<35:34,  3.92s/it]"
          ]
        },
        {
          "output_type": "stream",
          "name": "stdout",
          "text": [
            "Step: 157 \t Time: 1247.36159324646\n",
            "Shift: 0.031208798211812973\n",
            "Current State: 284    2.394799\n",
            "Name: f, dtype: float64 \t Current Constraint: 284    1.008397\n",
            "Name: c, dtype: float64\n"
          ]
        },
        {
          "output_type": "stream",
          "name": "stderr",
          "text": [
            "\r 22%|██▏       | 157/700 [20:06<28:32,  3.15s/it]"
          ]
        },
        {
          "output_type": "stream",
          "name": "stdout",
          "text": [
            "Step: 158 \t Time: 1248.7145733833313\n",
            "Shift: 0.031276830911636355\n",
            "Current State: 285    2.404984\n",
            "Name: f, dtype: float64 \t Current Constraint: 285    1.007482\n",
            "Name: c, dtype: float64\n"
          ]
        },
        {
          "output_type": "stream",
          "name": "stderr",
          "text": [
            "\r 23%|██▎       | 158/700 [20:09<27:19,  3.03s/it]"
          ]
        },
        {
          "output_type": "stream",
          "name": "stdout",
          "text": [
            "Step: 159 \t Time: 1251.4424698352814\n",
            "Shift: 0.03132446390390396\n",
            "Current State: 286    2.232411\n",
            "Name: f, dtype: float64 \t Current Constraint: 286    1.009352\n",
            "Name: c, dtype: float64\n"
          ]
        },
        {
          "output_type": "stream",
          "name": "stderr",
          "text": [
            "\r 23%|██▎       | 159/700 [20:11<24:14,  2.69s/it]"
          ]
        },
        {
          "output_type": "stream",
          "name": "stdout",
          "text": [
            "Step: 160 \t Time: 1253.3458061218262\n",
            "Shift: 0.03136363067030907\n",
            "Current State: 287    10.678388\n",
            "Name: f, dtype: float64 \t Current Constraint: 287    1.014737\n",
            "Name: c, dtype: float64\n"
          ]
        },
        {
          "output_type": "stream",
          "name": "stderr",
          "text": [
            "\r 23%|██▎       | 160/700 [20:12<21:28,  2.39s/it]"
          ]
        },
        {
          "output_type": "stream",
          "name": "stdout",
          "text": [
            "Step: 161 \t Time: 1255.0239911079407\n",
            "Shift: 0.03142007907629013\n",
            "Current State: 288    1.829968\n",
            "Name: f, dtype: float64 \t Current Constraint: 288    1.010242\n",
            "Name: c, dtype: float64\n"
          ]
        },
        {
          "output_type": "stream",
          "name": "stderr",
          "text": [
            "\r 23%|██▎       | 161/700 [20:15<21:06,  2.35s/it]"
          ]
        },
        {
          "output_type": "stream",
          "name": "stdout",
          "text": [
            "Step: 162 \t Time: 1257.2918977737427\n",
            "Shift: 0.031498578619956974\n",
            "Current State: 289    4.873584\n",
            "Name: f, dtype: float64 \t Current Constraint: 289    1.009335\n",
            "Name: c, dtype: float64\n"
          ]
        },
        {
          "output_type": "stream",
          "name": "stderr",
          "text": [
            "\r 23%|██▎       | 162/700 [20:18<22:54,  2.55s/it]"
          ]
        },
        {
          "output_type": "stream",
          "name": "stdout",
          "text": [
            "Step: 163 \t Time: 1260.323869228363\n",
            "Shift: 0.03153682584762573\n",
            "Current State: 290    1.606742\n",
            "Name: f, dtype: float64 \t Current Constraint: 290    1.008659\n",
            "Name: c, dtype: float64\n"
          ]
        },
        {
          "output_type": "stream",
          "name": "stderr",
          "text": [
            "\r 23%|██▎       | 163/700 [20:19<20:04,  2.24s/it]"
          ]
        },
        {
          "output_type": "stream",
          "name": "stdout",
          "text": [
            "Step: 164 \t Time: 1261.8388628959656\n",
            "Shift: 0.031574681961536406\n",
            "Current State: 291    7.604644\n",
            "Name: f, dtype: float64 \t Current Constraint: 291    1.015243\n",
            "Name: c, dtype: float64\n"
          ]
        },
        {
          "output_type": "stream",
          "name": "stderr",
          "text": [
            "\r 23%|██▎       | 164/700 [20:21<18:07,  2.03s/it]"
          ]
        },
        {
          "output_type": "stream",
          "name": "stdout",
          "text": [
            "Step: 165 \t Time: 1263.3668932914734\n",
            "Shift: 0.03162812482714653\n",
            "Current State: 292    1.436189\n",
            "Name: f, dtype: float64 \t Current Constraint: 292    1.00938\n",
            "Name: c, dtype: float64\n"
          ]
        },
        {
          "output_type": "stream",
          "name": "stderr",
          "text": [
            "\r 24%|██▎       | 165/700 [20:23<18:22,  2.06s/it]"
          ]
        },
        {
          "output_type": "stream",
          "name": "stdout",
          "text": [
            "Step: 166 \t Time: 1265.50008559227\n",
            "Shift: 0.03176262713670731\n",
            "Current State: 293    1.4047\n",
            "Name: f, dtype: float64 \t Current Constraint: 293    1.009955\n",
            "Name: c, dtype: float64\n"
          ]
        },
        {
          "output_type": "stream",
          "name": "stderr",
          "text": [
            "\r 24%|██▎       | 166/700 [20:28<27:11,  3.06s/it]"
          ]
        },
        {
          "output_type": "stream",
          "name": "stdout",
          "text": [
            "Step: 167 \t Time: 1270.8798933029175\n",
            "Shift: 0.031836868488788604\n",
            "Current State: 294    1.45755\n",
            "Name: f, dtype: float64 \t Current Constraint: 294    1.008639\n",
            "Name: c, dtype: float64\n"
          ]
        },
        {
          "output_type": "stream",
          "name": "stderr",
          "text": [
            "\r 24%|██▍       | 167/700 [20:31<26:54,  3.03s/it]"
          ]
        },
        {
          "output_type": "stream",
          "name": "stdout",
          "text": [
            "Step: 168 \t Time: 1273.8489971160889\n",
            "Shift: 0.031879744279384614\n",
            "Current State: 295    1.506127\n",
            "Name: f, dtype: float64 \t Current Constraint: 295    1.008009\n",
            "Name: c, dtype: float64\n"
          ]
        },
        {
          "output_type": "stream",
          "name": "stderr",
          "text": [
            "\r 24%|██▍       | 168/700 [20:33<23:21,  2.63s/it]"
          ]
        },
        {
          "output_type": "stream",
          "name": "stdout",
          "text": [
            "Step: 169 \t Time: 1275.5611643791199\n",
            "Shift: 0.031924124491214755\n",
            "Current State: 296    1.470589\n",
            "Name: f, dtype: float64 \t Current Constraint: 296    1.009697\n",
            "Name: c, dtype: float64\n"
          ]
        },
        {
          "output_type": "stream",
          "name": "stderr",
          "text": [
            "\r 24%|██▍       | 169/700 [20:35<21:00,  2.37s/it]"
          ]
        },
        {
          "output_type": "stream",
          "name": "stdout",
          "text": [
            "Step: 170 \t Time: 1277.3260402679443\n",
            "Shift: 0.0319656950712204\n",
            "Current State: 297    1.442252\n",
            "Name: f, dtype: float64 \t Current Constraint: 297    1.008022\n",
            "Name: c, dtype: float64\n"
          ]
        },
        {
          "output_type": "stream",
          "name": "stderr",
          "text": [
            "\r 24%|██▍       | 170/700 [20:36<19:07,  2.16s/it]"
          ]
        },
        {
          "output_type": "stream",
          "name": "stdout",
          "text": [
            "Step: 171 \t Time: 1279.0040528774261\n",
            "Shift: 0.03201994972825051\n",
            "Current State: 298    1.398757\n",
            "Name: f, dtype: float64 \t Current Constraint: 298    1.00842\n",
            "Name: c, dtype: float64\n"
          ]
        },
        {
          "output_type": "stream",
          "name": "stderr",
          "text": [
            "\r 24%|██▍       | 171/700 [20:39<19:33,  2.22s/it]"
          ]
        },
        {
          "output_type": "stream",
          "name": "stdout",
          "text": [
            "Step: 172 \t Time: 1281.34419131279\n",
            "Shift: 0.03210140041708946\n",
            "Current State: 299    1.455599\n",
            "Name: f, dtype: float64 \t Current Constraint: 299    1.009364\n",
            "Name: c, dtype: float64\n"
          ]
        },
        {
          "output_type": "stream",
          "name": "stderr",
          "text": [
            "\r 25%|██▍       | 172/700 [20:42<21:46,  2.47s/it]"
          ]
        },
        {
          "output_type": "stream",
          "name": "stdout",
          "text": [
            "Step: 173 \t Time: 1284.4164423942566\n",
            "Shift: 0.03221435837745667\n",
            "Current State: 300    1.459072\n",
            "Name: f, dtype: float64 \t Current Constraint: 300    1.00887\n",
            "Name: c, dtype: float64\n"
          ]
        },
        {
          "output_type": "stream",
          "name": "stderr",
          "text": [
            "\r 25%|██▍       | 173/700 [20:46<27:07,  3.09s/it]"
          ]
        },
        {
          "output_type": "stream",
          "name": "stdout",
          "text": [
            "Step: 174 \t Time: 1288.9407777786255\n",
            "Shift: 0.032258738881349565\n",
            "Current State: 301    3.031278\n",
            "Name: f, dtype: float64 \t Current Constraint: 301    1.008089\n",
            "Name: c, dtype: float64\n"
          ]
        },
        {
          "output_type": "stream",
          "name": "stderr",
          "text": [
            "\r 25%|██▍       | 174/700 [20:48<23:36,  2.69s/it]"
          ]
        },
        {
          "output_type": "stream",
          "name": "stdout",
          "text": [
            "Step: 175 \t Time: 1290.7091557979584\n",
            "Shift: 0.03230947430729866\n",
            "Current State: 302    1.172693\n",
            "Name: f, dtype: float64 \t Current Constraint: 302    1.007587\n",
            "Name: c, dtype: float64\n"
          ]
        },
        {
          "output_type": "stream",
          "name": "stderr",
          "text": [
            "\r 25%|██▌       | 175/700 [20:50<22:03,  2.52s/it]"
          ]
        },
        {
          "output_type": "stream",
          "name": "stdout",
          "text": [
            "Step: 176 \t Time: 1292.8354432582855\n",
            "Shift: 0.032374879437685015\n",
            "Current State: 303    1.305939\n",
            "Name: f, dtype: float64 \t Current Constraint: 303    1.007509\n",
            "Name: c, dtype: float64\n"
          ]
        },
        {
          "output_type": "stream",
          "name": "stderr",
          "text": [
            "\r 25%|██▌       | 176/700 [20:53<22:24,  2.57s/it]"
          ]
        },
        {
          "output_type": "stream",
          "name": "stdout",
          "text": [
            "Step: 177 \t Time: 1295.5061676502228\n",
            "Shift: 0.03244443745017052\n",
            "Current State: 304    1.35336\n",
            "Name: f, dtype: float64 \t Current Constraint: 304    1.006767\n",
            "Name: c, dtype: float64\n"
          ]
        },
        {
          "output_type": "stream",
          "name": "stderr",
          "text": [
            "\r 25%|██▌       | 177/700 [20:55<22:34,  2.59s/it]"
          ]
        },
        {
          "output_type": "stream",
          "name": "stdout",
          "text": [
            "Step: 178 \t Time: 1298.143126964569\n",
            "Shift: 0.032484715008735655\n",
            "Current State: 305    1.241297\n",
            "Name: f, dtype: float64 \t Current Constraint: 305    1.008153\n",
            "Name: c, dtype: float64\n"
          ]
        },
        {
          "output_type": "stream",
          "name": "stderr",
          "text": [
            "\r 25%|██▌       | 178/700 [20:57<19:58,  2.30s/it]"
          ]
        },
        {
          "output_type": "stream",
          "name": "stdout",
          "text": [
            "Step: 179 \t Time: 1299.7565960884094\n",
            "Shift: 0.03250667039752007\n",
            "Current State: 306    23.106682\n",
            "Name: f, dtype: float64 \t Current Constraint: 306    1.011887\n",
            "Name: c, dtype: float64\n"
          ]
        },
        {
          "output_type": "stream",
          "name": "stderr",
          "text": [
            "\r 26%|██▌       | 179/700 [20:58<16:14,  1.87s/it]"
          ]
        },
        {
          "output_type": "stream",
          "name": "stdout",
          "text": [
            "Step: 180 \t Time: 1300.6345796585083\n",
            "Shift: 0.032543226087093355\n",
            "Current State: 307    1.119045\n",
            "Name: f, dtype: float64 \t Current Constraint: 307    1.007476\n",
            "Name: c, dtype: float64\n"
          ]
        },
        {
          "output_type": "stream",
          "name": "stderr",
          "text": [
            "\r 26%|██▌       | 180/700 [20:59<15:10,  1.75s/it]"
          ]
        },
        {
          "output_type": "stream",
          "name": "stdout",
          "text": [
            "Step: 181 \t Time: 1302.1052088737488\n",
            "Shift: 0.03258500561118126\n",
            "Current State: 308    0.736855\n",
            "Name: f, dtype: float64 \t Current Constraint: 308    1.008599\n",
            "Name: c, dtype: float64\n"
          ]
        },
        {
          "output_type": "stream",
          "name": "stderr",
          "text": [
            "\r 26%|██▌       | 181/700 [21:01<14:55,  1.73s/it]"
          ]
        },
        {
          "output_type": "stream",
          "name": "stdout",
          "text": [
            "Step: 182 \t Time: 1303.7746238708496\n",
            "Shift: 0.032635323971509936\n",
            "Current State: 309    2.076691\n",
            "Name: f, dtype: float64 \t Current Constraint: 309    1.010987\n",
            "Name: c, dtype: float64\n"
          ]
        },
        {
          "output_type": "stream",
          "name": "stderr",
          "text": [
            "\r 26%|██▌       | 182/700 [21:03<15:39,  1.81s/it]"
          ]
        },
        {
          "output_type": "stream",
          "name": "stdout",
          "text": [
            "Step: 183 \t Time: 1305.7899103164673\n",
            "Shift: 0.032672836154699327\n",
            "Current State: 310    8.616674\n",
            "Name: f, dtype: float64 \t Current Constraint: 310    1.010466\n",
            "Name: c, dtype: float64\n"
          ]
        },
        {
          "output_type": "stream",
          "name": "stderr",
          "text": [
            "\r 26%|██▌       | 183/700 [21:05<15:17,  1.77s/it]"
          ]
        },
        {
          "output_type": "stream",
          "name": "stdout",
          "text": [
            "Step: 184 \t Time: 1307.4730050563812\n",
            "Shift: 0.03273416903018952\n",
            "Current State: 311    1.619603\n",
            "Name: f, dtype: float64 \t Current Constraint: 311    1.007879\n",
            "Name: c, dtype: float64\n"
          ]
        },
        {
          "output_type": "stream",
          "name": "stderr",
          "text": [
            "\r 26%|██▋       | 184/700 [21:07<16:56,  1.97s/it]"
          ]
        },
        {
          "output_type": "stream",
          "name": "stdout",
          "text": [
            "Step: 185 \t Time: 1309.8988196849823\n",
            "Shift: 0.03278066968917847\n",
            "Current State: 312    1.164577\n",
            "Name: f, dtype: float64 \t Current Constraint: 312    1.006994\n",
            "Name: c, dtype: float64\n"
          ]
        },
        {
          "output_type": "stream",
          "name": "stderr",
          "text": [
            "\r 26%|██▋       | 185/700 [21:09<16:13,  1.89s/it]"
          ]
        },
        {
          "output_type": "stream",
          "name": "stdout",
          "text": [
            "Step: 186 \t Time: 1311.6019268035889\n",
            "Shift: 0.03285526447296143\n",
            "Current State: 313    1.10957\n",
            "Name: f, dtype: float64 \t Current Constraint: 313    1.009198\n",
            "Name: c, dtype: float64\n"
          ]
        },
        {
          "output_type": "stream",
          "name": "stderr",
          "text": [
            "\r 27%|██▋       | 186/700 [21:12<19:00,  2.22s/it]"
          ]
        },
        {
          "output_type": "stream",
          "name": "stdout",
          "text": [
            "Step: 187 \t Time: 1314.5917966365814\n",
            "Shift: 0.032901794654130935\n",
            "Current State: 314    0.988881\n",
            "Name: f, dtype: float64 \t Current Constraint: 314    1.008895\n",
            "Name: c, dtype: float64\n"
          ]
        },
        {
          "output_type": "stream",
          "name": "stderr",
          "text": [
            "\r 27%|██▋       | 187/700 [21:14<18:05,  2.12s/it]"
          ]
        },
        {
          "output_type": "stream",
          "name": "stdout",
          "text": [
            "Step: 188 \t Time: 1316.4629337787628\n",
            "Shift: 0.03294191755056381\n",
            "Current State: 315    0.829158\n",
            "Name: f, dtype: float64 \t Current Constraint: 315    1.009441\n",
            "Name: c, dtype: float64\n"
          ]
        },
        {
          "output_type": "stream",
          "name": "stderr",
          "text": [
            "\r 27%|██▋       | 188/700 [21:15<16:43,  1.96s/it]"
          ]
        },
        {
          "output_type": "stream",
          "name": "stdout",
          "text": [
            "Step: 189 \t Time: 1318.0613288879395\n",
            "Shift: 0.032978807109594346\n",
            "Current State: 316    4.76675\n",
            "Name: f, dtype: float64 \t Current Constraint: 316    1.008302\n",
            "Name: c, dtype: float64\n"
          ]
        },
        {
          "output_type": "stream",
          "name": "stderr",
          "text": [
            "\r 27%|██▋       | 189/700 [21:17<15:27,  1.81s/it]"
          ]
        },
        {
          "output_type": "stream",
          "name": "stdout",
          "text": [
            "Step: 190 \t Time: 1319.5362801551819\n",
            "Shift: 0.03305633957982063\n",
            "Current State: 317    0.896096\n",
            "Name: f, dtype: float64 \t Current Constraint: 317    1.009877\n",
            "Name: c, dtype: float64\n"
          ]
        },
        {
          "output_type": "stream",
          "name": "stderr",
          "text": [
            "\r 27%|██▋       | 190/700 [21:20<19:06,  2.25s/it]"
          ]
        },
        {
          "output_type": "stream",
          "name": "stdout",
          "text": [
            "Step: 191 \t Time: 1322.7956941127777\n",
            "Shift: 0.03308507471084595\n",
            "Current State: 318    31.07674\n",
            "Name: f, dtype: float64 \t Current Constraint: 318    0.974134\n",
            "Name: c, dtype: float64\n"
          ]
        },
        {
          "output_type": "stream",
          "name": "stderr",
          "text": [
            "\r 27%|██▋       | 191/700 [21:21<15:52,  1.87s/it]"
          ]
        },
        {
          "output_type": "stream",
          "name": "stdout",
          "text": [
            "Step: 192 \t Time: 1323.788699388504\n",
            "Shift: 0.033124181789159775\n",
            "Current State: 319    0.851462\n",
            "Name: f, dtype: float64 \t Current Constraint: 319    1.010562\n",
            "Name: c, dtype: float64\n"
          ]
        },
        {
          "output_type": "stream",
          "name": "stderr",
          "text": [
            "\r 27%|██▋       | 192/700 [21:23<15:00,  1.77s/it]"
          ]
        },
        {
          "output_type": "stream",
          "name": "stdout",
          "text": [
            "Step: 193 \t Time: 1325.333379983902\n",
            "Shift: 0.033169887375831604\n",
            "Current State: 320    0.775707\n",
            "Name: f, dtype: float64 \t Current Constraint: 320    1.010228\n",
            "Name: c, dtype: float64\n"
          ]
        },
        {
          "output_type": "stream",
          "name": "stderr",
          "text": [
            "\r 28%|██▊       | 193/700 [21:24<15:08,  1.79s/it]"
          ]
        },
        {
          "output_type": "stream",
          "name": "stdout",
          "text": [
            "Step: 194 \t Time: 1327.1690661907196\n",
            "Shift: 0.03321258739829064\n",
            "Current State: 321    0.588747\n",
            "Name: f, dtype: float64 \t Current Constraint: 321    1.011005\n",
            "Name: c, dtype: float64\n"
          ]
        },
        {
          "output_type": "stream",
          "name": "stderr",
          "text": [
            "\r 28%|██▊       | 194/700 [21:26<14:56,  1.77s/it]"
          ]
        },
        {
          "output_type": "stream",
          "name": "stdout",
          "text": [
            "Step: 195 \t Time: 1328.891934633255\n",
            "Shift: 0.033335693150758745\n",
            "Current State: 322    0.362442\n",
            "Name: f, dtype: float64 \t Current Constraint: 322    1.010191\n",
            "Name: c, dtype: float64\n"
          ]
        },
        {
          "output_type": "stream",
          "name": "stderr",
          "text": [
            "\r 28%|██▊       | 195/700 [21:31<23:12,  2.76s/it]"
          ]
        },
        {
          "output_type": "stream",
          "name": "stdout",
          "text": [
            "Step: 196 \t Time: 1333.9476687908173\n",
            "Shift: 0.033475744217634204\n",
            "Current State: 323    0.947341\n",
            "Name: f, dtype: float64 \t Current Constraint: 323    1.011307\n",
            "Name: c, dtype: float64\n"
          ]
        },
        {
          "output_type": "stream",
          "name": "stderr",
          "text": [
            "\r 28%|██▊       | 196/700 [21:37<30:00,  3.57s/it]"
          ]
        },
        {
          "output_type": "stream",
          "name": "stdout",
          "text": [
            "Step: 197 \t Time: 1339.4211683273315\n",
            "Shift: 0.03350278208255768\n",
            "Current State: 324    24.842335\n",
            "Name: f, dtype: float64 \t Current Constraint: 324    1.016067\n",
            "Name: c, dtype: float64\n"
          ]
        },
        {
          "output_type": "stream",
          "name": "stderr",
          "text": [
            "\r 28%|██▊       | 197/700 [21:38<23:38,  2.82s/it]"
          ]
        },
        {
          "output_type": "stream",
          "name": "stdout",
          "text": [
            "Step: 198 \t Time: 1340.4892363548279\n",
            "Shift: 0.03352913313508034\n",
            "Current State: 325    26.435966\n",
            "Name: f, dtype: float64 \t Current Constraint: 325    1.029289\n",
            "Name: c, dtype: float64\n"
          ]
        },
        {
          "output_type": "stream",
          "name": "stderr",
          "text": [
            "\r 28%|██▊       | 198/700 [21:39<19:11,  2.29s/it]"
          ]
        },
        {
          "output_type": "stream",
          "name": "stdout",
          "text": [
            "Step: 199 \t Time: 1341.5567088127136\n",
            "Shift: 0.03357052055597305\n",
            "Current State: 326    0.664934\n",
            "Name: f, dtype: float64 \t Current Constraint: 326    1.011985\n",
            "Name: c, dtype: float64\n"
          ]
        },
        {
          "output_type": "stream",
          "name": "stderr",
          "text": [
            "\r 28%|██▊       | 199/700 [21:40<17:33,  2.10s/it]"
          ]
        },
        {
          "output_type": "stream",
          "name": "stdout",
          "text": [
            "Step: 200 \t Time: 1343.209720134735\n",
            "Shift: 0.03363507668375969\n",
            "Current State: 327    0.838481\n",
            "Name: f, dtype: float64 \t Current Constraint: 327    1.009819\n",
            "Name: c, dtype: float64\n"
          ]
        },
        {
          "output_type": "stream",
          "name": "stderr",
          "text": [
            "\r 29%|██▊       | 200/700 [21:43<18:43,  2.25s/it]"
          ]
        },
        {
          "output_type": "stream",
          "name": "stdout",
          "text": [
            "Step: 201 \t Time: 1345.7970356941223\n",
            "Shift: 0.0337011665225029\n",
            "Current State: 328    0.748399\n",
            "Name: f, dtype: float64 \t Current Constraint: 328    1.00986\n",
            "Name: c, dtype: float64\n"
          ]
        },
        {
          "output_type": "stream",
          "name": "stderr",
          "text": [
            "\r 29%|██▊       | 201/700 [21:46<19:59,  2.40s/it]"
          ]
        },
        {
          "output_type": "stream",
          "name": "stdout",
          "text": [
            "Step: 202 \t Time: 1348.5624146461487\n",
            "Shift: 0.03373335192799568\n",
            "Current State: 329    24.358255\n",
            "Name: f, dtype: float64 \t Current Constraint: 329    1.010188\n",
            "Name: c, dtype: float64\n"
          ]
        },
        {
          "output_type": "stream",
          "name": "stderr",
          "text": [
            "\r 29%|██▉       | 202/700 [21:47<16:48,  2.02s/it]"
          ]
        },
        {
          "output_type": "stream",
          "name": "stdout",
          "text": [
            "Step: 203 \t Time: 1349.7041413784027\n",
            "Shift: 0.03378036878108978\n",
            "Current State: 330    0.744507\n",
            "Name: f, dtype: float64 \t Current Constraint: 330    1.01036\n",
            "Name: c, dtype: float64\n"
          ]
        },
        {
          "output_type": "stream",
          "name": "stderr",
          "text": [
            "\r 29%|██▉       | 203/700 [21:49<16:24,  1.98s/it]"
          ]
        },
        {
          "output_type": "stream",
          "name": "stdout",
          "text": [
            "Step: 204 \t Time: 1351.5838656425476\n",
            "Shift: 0.033833973157405856\n",
            "Current State: 331    0.440557\n",
            "Name: f, dtype: float64 \t Current Constraint: 331    1.009984\n",
            "Name: c, dtype: float64\n"
          ]
        },
        {
          "output_type": "stream",
          "name": "stderr",
          "text": [
            "\r 29%|██▉       | 204/700 [21:51<16:47,  2.03s/it]"
          ]
        },
        {
          "output_type": "stream",
          "name": "stdout",
          "text": [
            "Step: 205 \t Time: 1353.7343821525574\n",
            "Shift: 0.03386114118099213\n",
            "Current State: 332    27.005981\n",
            "Name: f, dtype: float64 \t Current Constraint: 332    1.022271\n",
            "Name: c, dtype: float64\n"
          ]
        },
        {
          "output_type": "stream",
          "name": "stderr",
          "text": [
            "\r 29%|██▉       | 205/700 [21:52<14:23,  1.75s/it]"
          ]
        },
        {
          "output_type": "stream",
          "name": "stdout",
          "text": [
            "Step: 206 \t Time: 1354.810544013977\n",
            "Shift: 0.033897528833150864\n",
            "Current State: 333    4.342717\n",
            "Name: f, dtype: float64 \t Current Constraint: 333    1.013732\n",
            "Name: c, dtype: float64\n"
          ]
        },
        {
          "output_type": "stream",
          "name": "stderr",
          "text": [
            "\r 29%|██▉       | 206/700 [21:53<13:39,  1.66s/it]"
          ]
        },
        {
          "output_type": "stream",
          "name": "stdout",
          "text": [
            "Step: 207 \t Time: 1356.270297050476\n",
            "Shift: 0.03394194269776345\n",
            "Current State: 334    0.198802\n",
            "Name: f, dtype: float64 \t Current Constraint: 334    1.011026\n",
            "Name: c, dtype: float64\n"
          ]
        },
        {
          "output_type": "stream",
          "name": "stderr",
          "text": [
            "\r 30%|██▉       | 207/700 [21:55<14:00,  1.70s/it]"
          ]
        },
        {
          "output_type": "stream",
          "name": "stdout",
          "text": [
            "Step: 208 \t Time: 1358.0807220935822\n",
            "Shift: 0.03399194724559784\n",
            "Current State: 335    7.728945\n",
            "Name: f, dtype: float64 \t Current Constraint: 335    1.012509\n",
            "Name: c, dtype: float64\n"
          ]
        },
        {
          "output_type": "stream",
          "name": "stderr",
          "text": [
            "\r 30%|██▉       | 208/700 [21:57<15:02,  1.83s/it]"
          ]
        },
        {
          "output_type": "stream",
          "name": "stdout",
          "text": [
            "Step: 209 \t Time: 1360.2143595218658\n",
            "Shift: 0.03409036875963211\n",
            "Current State: 336    0.353213\n",
            "Name: f, dtype: float64 \t Current Constraint: 336    1.009162\n",
            "Name: c, dtype: float64\n"
          ]
        },
        {
          "output_type": "stream",
          "name": "stderr",
          "text": [
            "\r 30%|██▉       | 209/700 [22:01<19:46,  2.42s/it]"
          ]
        },
        {
          "output_type": "stream",
          "name": "stdout",
          "text": [
            "Step: 210 \t Time: 1363.9904761314392\n",
            "Shift: 0.0341250856757164\n",
            "Current State: 337    2.617407\n",
            "Name: f, dtype: float64 \t Current Constraint: 337    1.014308\n",
            "Name: c, dtype: float64\n"
          ]
        },
        {
          "output_type": "stream",
          "name": "stderr",
          "text": [
            "\r 30%|███       | 210/700 [22:03<17:14,  2.11s/it]"
          ]
        },
        {
          "output_type": "stream",
          "name": "stdout",
          "text": [
            "Step: 211 \t Time: 1365.3882143497467\n",
            "Shift: 0.03415148934721947\n",
            "Current State: 338    37.215881\n",
            "Name: f, dtype: float64 \t Current Constraint: 338    0.998736\n",
            "Name: c, dtype: float64\n"
          ]
        },
        {
          "output_type": "stream",
          "name": "stderr",
          "text": [
            "\r 30%|███       | 211/700 [22:04<14:37,  1.79s/it]"
          ]
        },
        {
          "output_type": "stream",
          "name": "stdout",
          "text": [
            "Step: 212 \t Time: 1366.4452333450317\n",
            "Shift: 0.03417903554439545\n",
            "Current State: 339    8.254867\n",
            "Name: f, dtype: float64 \t Current Constraint: 339    1.019056\n",
            "Name: c, dtype: float64\n"
          ]
        },
        {
          "output_type": "stream",
          "name": "stderr",
          "text": [
            "\r 30%|███       | 212/700 [22:05<12:53,  1.59s/it]"
          ]
        },
        {
          "output_type": "stream",
          "name": "stdout",
          "text": [
            "Step: 213 \t Time: 1367.5433976650238\n",
            "Shift: 0.03420438057780266\n",
            "Current State: 340    31.276497\n",
            "Name: f, dtype: float64 \t Current Constraint: 340    1.032624\n",
            "Name: c, dtype: float64\n"
          ]
        },
        {
          "output_type": "stream",
          "name": "stderr",
          "text": [
            "\r 30%|███       | 213/700 [22:06<11:29,  1.42s/it]"
          ]
        },
        {
          "output_type": "stream",
          "name": "stdout",
          "text": [
            "Step: 214 \t Time: 1368.5620684623718\n",
            "Shift: 0.03425043455958367\n",
            "Current State: 341    1.030513\n",
            "Name: f, dtype: float64 \t Current Constraint: 341    1.009532\n",
            "Name: c, dtype: float64\n"
          ]
        },
        {
          "output_type": "stream",
          "name": "stderr",
          "text": [
            "\r 31%|███       | 214/700 [22:08<12:27,  1.54s/it]"
          ]
        },
        {
          "output_type": "stream",
          "name": "stdout",
          "text": [
            "Step: 215 \t Time: 1370.3883090019226\n",
            "Shift: 0.03430245929956436\n",
            "Current State: 342    0.34081\n",
            "Name: f, dtype: float64 \t Current Constraint: 342    1.009084\n",
            "Name: c, dtype: float64\n"
          ]
        },
        {
          "output_type": "stream",
          "name": "stderr",
          "text": [
            "\r 31%|███       | 215/700 [22:10<14:02,  1.74s/it]"
          ]
        },
        {
          "output_type": "stream",
          "name": "stdout",
          "text": [
            "Step: 216 \t Time: 1372.5882806777954\n",
            "Shift: 0.03442398282289505\n",
            "Current State: 343    0.279923\n",
            "Name: f, dtype: float64 \t Current Constraint: 343    1.008877\n",
            "Name: c, dtype: float64\n"
          ]
        },
        {
          "output_type": "stream",
          "name": "stderr",
          "text": [
            "\r 31%|███       | 216/700 [22:15<21:19,  2.64s/it]"
          ]
        },
        {
          "output_type": "stream",
          "name": "stdout",
          "text": [
            "Step: 217 \t Time: 1377.3442142009735\n",
            "Shift: 0.034462308698892594\n",
            "Current State: 344    5.358484\n",
            "Name: f, dtype: float64 \t Current Constraint: 344    1.014047\n",
            "Name: c, dtype: float64\n"
          ]
        },
        {
          "output_type": "stream",
          "name": "stderr",
          "text": [
            "\r 31%|███       | 217/700 [22:16<18:35,  2.31s/it]"
          ]
        },
        {
          "output_type": "stream",
          "name": "stdout",
          "text": [
            "Step: 218 \t Time: 1378.8766746520996\n",
            "Shift: 0.034489960044622424\n",
            "Current State: 345    32.992302\n",
            "Name: f, dtype: float64 \t Current Constraint: 345    1.018043\n",
            "Name: c, dtype: float64\n"
          ]
        },
        {
          "output_type": "stream",
          "name": "stderr",
          "text": [
            "\r 31%|███       | 218/700 [22:17<15:39,  1.95s/it]"
          ]
        },
        {
          "output_type": "stream",
          "name": "stdout",
          "text": [
            "Step: 219 \t Time: 1379.9829983711243\n",
            "Shift: 0.03454016077518463\n",
            "Current State: 346    0.269372\n",
            "Name: f, dtype: float64 \t Current Constraint: 346    1.010097\n",
            "Name: c, dtype: float64\n"
          ]
        },
        {
          "output_type": "stream",
          "name": "stderr",
          "text": [
            "\r 31%|███▏      | 219/700 [22:19<15:47,  1.97s/it]"
          ]
        },
        {
          "output_type": "stream",
          "name": "stdout",
          "text": [
            "Step: 220 \t Time: 1382.0004932880402\n",
            "Shift: 0.03456738176941872\n",
            "Current State: 347    5.368194\n",
            "Name: f, dtype: float64 \t Current Constraint: 347    1.017169\n",
            "Name: c, dtype: float64\n"
          ]
        },
        {
          "output_type": "stream",
          "name": "stderr",
          "text": [
            "\r 31%|███▏      | 220/700 [22:20<13:37,  1.70s/it]"
          ]
        },
        {
          "output_type": "stream",
          "name": "stdout",
          "text": [
            "Step: 221 \t Time: 1383.0806634426117\n",
            "Shift: 0.0346093304336071\n",
            "Current State: 348    0.278686\n",
            "Name: f, dtype: float64 \t Current Constraint: 348    1.010612\n",
            "Name: c, dtype: float64\n"
          ]
        },
        {
          "output_type": "stream",
          "name": "stderr",
          "text": [
            "\r 32%|███▏      | 221/700 [22:22<13:44,  1.72s/it]"
          ]
        },
        {
          "output_type": "stream",
          "name": "stdout",
          "text": [
            "Step: 222 \t Time: 1384.8490331172943\n",
            "Shift: 0.03467383005619049\n",
            "Current State: 349    0.289226\n",
            "Name: f, dtype: float64 \t Current Constraint: 349    1.009511\n",
            "Name: c, dtype: float64\n"
          ]
        },
        {
          "output_type": "stream",
          "name": "stderr",
          "text": [
            "\r 32%|███▏      | 222/700 [22:25<15:51,  1.99s/it]"
          ]
        },
        {
          "output_type": "stream",
          "name": "stdout",
          "text": [
            "Step: 223 \t Time: 1387.465929031372\n",
            "Shift: 0.03471619083881378\n",
            "Current State: 350    0.293713\n",
            "Name: f, dtype: float64 \t Current Constraint: 350    1.010914\n",
            "Name: c, dtype: float64\n"
          ]
        },
        {
          "output_type": "stream",
          "name": "stderr",
          "text": [
            "\r 32%|███▏      | 223/700 [22:26<14:46,  1.86s/it]"
          ]
        },
        {
          "output_type": "stream",
          "name": "stdout",
          "text": [
            "Step: 224 \t Time: 1389.0136432647705\n",
            "Shift: 0.03475300684571266\n",
            "Current State: 351    3.23895\n",
            "Name: f, dtype: float64 \t Current Constraint: 351    1.01379\n",
            "Name: c, dtype: float64\n"
          ]
        },
        {
          "output_type": "stream",
          "name": "stderr",
          "text": [
            "\r 32%|███▏      | 224/700 [22:28<13:52,  1.75s/it]"
          ]
        },
        {
          "output_type": "stream",
          "name": "stdout",
          "text": [
            "Step: 225 \t Time: 1390.5082285404205\n",
            "Shift: 0.034789684116840365\n",
            "Current State: 352    0.2955\n",
            "Name: f, dtype: float64 \t Current Constraint: 352    1.009238\n",
            "Name: c, dtype: float64\n"
          ]
        },
        {
          "output_type": "stream",
          "name": "stderr",
          "text": [
            "\r 32%|███▏      | 225/700 [22:29<13:07,  1.66s/it]"
          ]
        },
        {
          "output_type": "stream",
          "name": "stdout",
          "text": [
            "Step: 226 \t Time: 1391.9534044265747\n",
            "Shift: 0.03482700871229172\n",
            "Current State: 353    3.076627\n",
            "Name: f, dtype: float64 \t Current Constraint: 353    1.016135\n",
            "Name: c, dtype: float64\n"
          ]
        },
        {
          "output_type": "stream",
          "name": "stderr",
          "text": [
            "\r 32%|███▏      | 226/700 [22:31<12:44,  1.61s/it]"
          ]
        },
        {
          "output_type": "stream",
          "name": "stdout",
          "text": [
            "Step: 227 \t Time: 1393.4634432792664\n",
            "Shift: 0.03487155171632767\n",
            "Current State: 354    0.291551\n",
            "Name: f, dtype: float64 \t Current Constraint: 354    1.009876\n",
            "Name: c, dtype: float64\n"
          ]
        },
        {
          "output_type": "stream",
          "name": "stderr",
          "text": [
            "\r 32%|███▏      | 227/700 [22:32<13:04,  1.66s/it]"
          ]
        },
        {
          "output_type": "stream",
          "name": "stdout",
          "text": [
            "Step: 228 \t Time: 1395.230493068695\n",
            "Shift: 0.035014378720521926\n",
            "Current State: 355    0.29486\n",
            "Name: f, dtype: float64 \t Current Constraint: 355    1.009616\n",
            "Name: c, dtype: float64\n"
          ]
        },
        {
          "output_type": "stream",
          "name": "stderr",
          "text": [
            "\r 33%|███▎      | 228/700 [22:38<22:38,  2.88s/it]"
          ]
        },
        {
          "output_type": "stream",
          "name": "stdout",
          "text": [
            "Step: 229 \t Time: 1400.9501597881317\n",
            "Shift: 0.03506712737083435\n",
            "Current State: 356    0.339186\n",
            "Name: f, dtype: float64 \t Current Constraint: 356    1.00985\n",
            "Name: c, dtype: float64\n"
          ]
        },
        {
          "output_type": "stream",
          "name": "stderr",
          "text": [
            "\r 33%|███▎      | 229/700 [22:40<20:48,  2.65s/it]"
          ]
        },
        {
          "output_type": "stream",
          "name": "stdout",
          "text": [
            "Step: 230 \t Time: 1403.068318605423\n",
            "Shift: 0.0351058836042881\n",
            "Current State: 357    5.400461\n",
            "Name: f, dtype: float64 \t Current Constraint: 357    1.017478\n",
            "Name: c, dtype: float64\n"
          ]
        },
        {
          "output_type": "stream",
          "name": "stderr",
          "text": [
            "\r 33%|███▎      | 230/700 [22:42<18:08,  2.32s/it]"
          ]
        },
        {
          "output_type": "stream",
          "name": "stdout",
          "text": [
            "Step: 231 \t Time: 1404.606006860733\n",
            "Shift: 0.03515326030254364\n",
            "Current State: 358    0.28616\n",
            "Name: f, dtype: float64 \t Current Constraint: 358    1.009656\n",
            "Name: c, dtype: float64\n"
          ]
        },
        {
          "output_type": "stream",
          "name": "stderr",
          "text": [
            "\r 33%|███▎      | 231/700 [22:44<17:07,  2.19s/it]"
          ]
        },
        {
          "output_type": "stream",
          "name": "stdout",
          "text": [
            "Step: 232 \t Time: 1406.5066816806793\n",
            "Shift: 0.03520923195481301\n",
            "Current State: 359    0.313697\n",
            "Name: f, dtype: float64 \t Current Constraint: 359    1.010408\n",
            "Name: c, dtype: float64\n"
          ]
        },
        {
          "output_type": "stream",
          "name": "stderr",
          "text": [
            "\r 33%|███▎      | 232/700 [22:46<17:10,  2.20s/it]"
          ]
        },
        {
          "output_type": "stream",
          "name": "stdout",
          "text": [
            "Step: 233 \t Time: 1408.7360484600067\n",
            "Shift: 0.03525200414061547\n",
            "Current State: 360    5.359652\n",
            "Name: f, dtype: float64 \t Current Constraint: 360    1.015103\n",
            "Name: c, dtype: float64\n"
          ]
        },
        {
          "output_type": "stream",
          "name": "stderr",
          "text": [
            "\r 33%|███▎      | 233/700 [22:48<16:06,  2.07s/it]"
          ]
        },
        {
          "output_type": "stream",
          "name": "stdout",
          "text": [
            "Step: 234 \t Time: 1410.4934797286987\n",
            "Shift: 0.03529383527636528\n",
            "Current State: 361    28.315449\n",
            "Name: f, dtype: float64 \t Current Constraint: 361    1.00067\n",
            "Name: c, dtype: float64\n"
          ]
        },
        {
          "output_type": "stream",
          "name": "stderr",
          "text": [
            "\r 33%|███▎      | 234/700 [22:50<15:30,  2.00s/it]"
          ]
        },
        {
          "output_type": "stream",
          "name": "stdout",
          "text": [
            "Step: 235 \t Time: 1412.3198356628418\n",
            "Shift: 0.03535944256186486\n",
            "Current State: 362    0.284111\n",
            "Name: f, dtype: float64 \t Current Constraint: 362    1.010342\n",
            "Name: c, dtype: float64\n"
          ]
        },
        {
          "output_type": "stream",
          "name": "stderr",
          "text": [
            "\r 34%|███▎      | 235/700 [22:52<16:29,  2.13s/it]"
          ]
        },
        {
          "output_type": "stream",
          "name": "stdout",
          "text": [
            "Step: 236 \t Time: 1414.7517335414886\n",
            "Shift: 0.03543899997472763\n",
            "Current State: 363    0.291716\n",
            "Name: f, dtype: float64 \t Current Constraint: 363    1.010471\n",
            "Name: c, dtype: float64\n"
          ]
        },
        {
          "output_type": "stream",
          "name": "stderr",
          "text": [
            "\r 34%|███▎      | 236/700 [22:55<18:53,  2.44s/it]"
          ]
        },
        {
          "output_type": "stream",
          "name": "stdout",
          "text": [
            "Step: 237 \t Time: 1417.9287555217743\n",
            "Shift: 0.03548480866551399\n",
            "Current State: 364    2.303644\n",
            "Name: f, dtype: float64 \t Current Constraint: 364    1.012646\n",
            "Name: c, dtype: float64\n"
          ]
        },
        {
          "output_type": "stream",
          "name": "stderr",
          "text": [
            "\r 34%|███▍      | 237/700 [22:57<17:26,  2.26s/it]"
          ]
        },
        {
          "output_type": "stream",
          "name": "stdout",
          "text": [
            "Step: 238 \t Time: 1419.7660021781921\n",
            "Shift: 0.035524664342403416\n",
            "Current State: 365    4.311339\n",
            "Name: f, dtype: float64 \t Current Constraint: 365    1.014634\n",
            "Name: c, dtype: float64\n"
          ]
        },
        {
          "output_type": "stream",
          "name": "stderr",
          "text": [
            "\r 34%|███▍      | 238/700 [22:59<15:51,  2.06s/it]"
          ]
        },
        {
          "output_type": "stream",
          "name": "stdout",
          "text": [
            "Step: 239 \t Time: 1421.3537242412567\n",
            "Shift: 0.035653803318738936\n",
            "Current State: 366    0.828629\n",
            "Name: f, dtype: float64 \t Current Constraint: 366    1.008518\n",
            "Name: c, dtype: float64\n"
          ]
        },
        {
          "output_type": "stream",
          "name": "stderr",
          "text": [
            "\r 34%|███▍      | 239/700 [23:04<22:59,  2.99s/it]"
          ]
        },
        {
          "output_type": "stream",
          "name": "stdout",
          "text": [
            "Step: 240 \t Time: 1426.5224390029907\n",
            "Shift: 0.03578124517202377\n",
            "Current State: 367    0.155518\n",
            "Name: f, dtype: float64 \t Current Constraint: 367    1.010125\n",
            "Name: c, dtype: float64\n"
          ]
        },
        {
          "output_type": "stream",
          "name": "stderr",
          "text": [
            "\r 34%|███▍      | 240/700 [23:09<27:47,  3.63s/it]"
          ]
        },
        {
          "output_type": "stream",
          "name": "stdout",
          "text": [
            "Step: 241 \t Time: 1431.6266374588013\n",
            "Shift: 0.03583956992030144\n",
            "Current State: 368    0.397903\n",
            "Name: f, dtype: float64 \t Current Constraint: 368    1.008649\n",
            "Name: c, dtype: float64\n"
          ]
        },
        {
          "output_type": "stream",
          "name": "stderr",
          "text": [
            "\r 34%|███▍      | 241/700 [23:11<24:45,  3.24s/it]"
          ]
        },
        {
          "output_type": "stream",
          "name": "stdout",
          "text": [
            "Step: 242 \t Time: 1433.9571194648743\n",
            "Shift: 0.03589428389072418\n",
            "Current State: 369    0.162551\n",
            "Name: f, dtype: float64 \t Current Constraint: 369    1.010022\n",
            "Name: c, dtype: float64\n"
          ]
        },
        {
          "output_type": "stream",
          "name": "stderr",
          "text": [
            "\r 35%|███▍      | 242/700 [23:13<22:19,  2.93s/it]"
          ]
        },
        {
          "output_type": "stream",
          "name": "stdout",
          "text": [
            "Step: 243 \t Time: 1436.154857158661\n",
            "Shift: 0.03599785367846489\n",
            "Current State: 370    0.191148\n",
            "Name: f, dtype: float64 \t Current Constraint: 370    1.010423\n",
            "Name: c, dtype: float64\n"
          ]
        },
        {
          "output_type": "stream",
          "name": "stderr",
          "text": [
            "\r 35%|███▍      | 243/700 [23:18<25:03,  3.29s/it]"
          ]
        },
        {
          "output_type": "stream",
          "name": "stdout",
          "text": [
            "Step: 244 \t Time: 1440.2952165603638\n",
            "Shift: 0.03604269319176674\n",
            "Current State: 371    3.915761\n",
            "Name: f, dtype: float64 \t Current Constraint: 371    1.013182\n",
            "Name: c, dtype: float64\n"
          ]
        },
        {
          "output_type": "stream",
          "name": "stderr",
          "text": [
            "\r 35%|███▍      | 244/700 [23:19<21:34,  2.84s/it]"
          ]
        },
        {
          "output_type": "stream",
          "name": "stdout",
          "text": [
            "Step: 245 \t Time: 1442.0785665512085\n",
            "Shift: 0.036100383442640306\n",
            "Current State: 372    0.23455\n",
            "Name: f, dtype: float64 \t Current Constraint: 372    1.009671\n",
            "Name: c, dtype: float64\n"
          ]
        },
        {
          "output_type": "stream",
          "name": "stderr",
          "text": [
            "\r 35%|███▌      | 245/700 [23:22<20:20,  2.68s/it]"
          ]
        },
        {
          "output_type": "stream",
          "name": "stdout",
          "text": [
            "Step: 246 \t Time: 1444.3967998027802\n",
            "Shift: 0.03616071825027466\n",
            "Current State: 373    0.193479\n",
            "Name: f, dtype: float64 \t Current Constraint: 373    1.010452\n",
            "Name: c, dtype: float64\n"
          ]
        },
        {
          "output_type": "stream",
          "name": "stderr",
          "text": [
            "\r 35%|███▌      | 246/700 [23:24<19:39,  2.60s/it]"
          ]
        },
        {
          "output_type": "stream",
          "name": "stdout",
          "text": [
            "Step: 247 \t Time: 1446.7979941368103\n",
            "Shift: 0.036227650368213654\n",
            "Current State: 374    0.179615\n",
            "Name: f, dtype: float64 \t Current Constraint: 374    1.009164\n",
            "Name: c, dtype: float64\n"
          ]
        },
        {
          "output_type": "stream",
          "name": "stderr",
          "text": [
            "\r 35%|███▌      | 247/700 [23:27<20:14,  2.68s/it]"
          ]
        },
        {
          "output_type": "stream",
          "name": "stdout",
          "text": [
            "Step: 248 \t Time: 1449.6718802452087\n",
            "Shift: 0.036306906765699386\n",
            "Current State: 375    0.144699\n",
            "Name: f, dtype: float64 \t Current Constraint: 375    1.009261\n",
            "Name: c, dtype: float64\n"
          ]
        },
        {
          "output_type": "stream",
          "name": "stderr",
          "text": [
            "\r 35%|███▌      | 248/700 [23:30<20:54,  2.77s/it]"
          ]
        },
        {
          "output_type": "stream",
          "name": "stdout",
          "text": [
            "Step: 249 \t Time: 1452.6665573120117\n",
            "Shift: 0.03640495127439499\n",
            "Current State: 376    0.062507\n",
            "Name: f, dtype: float64 \t Current Constraint: 376    1.009689\n",
            "Name: c, dtype: float64\n"
          ]
        },
        {
          "output_type": "stream",
          "name": "stderr",
          "text": [
            "\r 36%|███▌      | 249/700 [23:34<23:24,  3.11s/it]"
          ]
        },
        {
          "output_type": "stream",
          "name": "stdout",
          "text": [
            "Step: 250 \t Time: 1456.5729048252106\n",
            "Shift: 0.036620479595661164\n",
            "Current State: 377    0.218427\n",
            "Name: f, dtype: float64 \t Current Constraint: 377    1.011293\n",
            "Name: c, dtype: float64\n"
          ]
        },
        {
          "output_type": "stream",
          "name": "stderr",
          "text": [
            "\r 36%|███▌      | 250/700 [23:42<35:49,  4.78s/it]"
          ]
        },
        {
          "output_type": "stream",
          "name": "stdout",
          "text": [
            "Step: 251 \t Time: 1465.2273752689362\n",
            "Shift: 0.036666677695512774\n",
            "Current State: 378    1.954662\n",
            "Name: f, dtype: float64 \t Current Constraint: 378    1.013731\n",
            "Name: c, dtype: float64\n"
          ]
        },
        {
          "output_type": "stream",
          "name": "stderr",
          "text": [
            "\r 36%|███▌      | 251/700 [23:44<29:07,  3.89s/it]"
          ]
        },
        {
          "output_type": "stream",
          "name": "stdout",
          "text": [
            "Step: 252 \t Time: 1467.055129289627\n",
            "Shift: 0.03674535785317421\n",
            "Current State: 379    0.184833\n",
            "Name: f, dtype: float64 \t Current Constraint: 379    1.01105\n",
            "Name: c, dtype: float64\n"
          ]
        },
        {
          "output_type": "stream",
          "name": "stderr",
          "text": [
            "\r 36%|███▌      | 252/700 [23:47<27:20,  3.66s/it]"
          ]
        },
        {
          "output_type": "stream",
          "name": "stdout",
          "text": [
            "Step: 253 \t Time: 1470.1833992004395\n",
            "Shift: 0.036809385031461715\n",
            "Current State: 380    0.077883\n",
            "Name: f, dtype: float64 \t Current Constraint: 380    1.010124\n",
            "Name: c, dtype: float64\n"
          ]
        },
        {
          "output_type": "stream",
          "name": "stderr",
          "text": [
            "\r 36%|███▌      | 253/700 [23:50<25:16,  3.39s/it]"
          ]
        },
        {
          "output_type": "stream",
          "name": "stdout",
          "text": [
            "Step: 254 \t Time: 1472.9455258846283\n",
            "Shift: 0.03690084675550461\n",
            "Current State: 381    1.116011\n",
            "Name: f, dtype: float64 \t Current Constraint: 381    1.009144\n",
            "Name: c, dtype: float64\n"
          ]
        },
        {
          "output_type": "stream",
          "name": "stderr",
          "text": [
            "\r 36%|███▋      | 254/700 [23:54<25:46,  3.47s/it]"
          ]
        },
        {
          "output_type": "stream",
          "name": "stdout",
          "text": [
            "Step: 255 \t Time: 1476.5893557071686\n",
            "Shift: 0.036956938445568084\n",
            "Current State: 382    1.539958\n",
            "Name: f, dtype: float64 \t Current Constraint: 382    1.014119\n",
            "Name: c, dtype: float64\n"
          ]
        },
        {
          "output_type": "stream",
          "name": "stderr",
          "text": [
            "\r 36%|███▋      | 255/700 [23:56<22:35,  3.05s/it]"
          ]
        },
        {
          "output_type": "stream",
          "name": "stdout",
          "text": [
            "Step: 256 \t Time: 1478.6475381851196\n",
            "Shift: 0.03700012958049775\n",
            "Current State: 383    3.876048\n",
            "Name: f, dtype: float64 \t Current Constraint: 383    1.017126\n",
            "Name: c, dtype: float64\n"
          ]
        },
        {
          "output_type": "stream",
          "name": "stderr",
          "text": [
            "\r 37%|███▋      | 256/700 [23:58<19:36,  2.65s/it]"
          ]
        },
        {
          "output_type": "stream",
          "name": "stdout",
          "text": [
            "Step: 257 \t Time: 1480.3734288215637\n",
            "Shift: 0.037045589447021486\n",
            "Current State: 384    4.506808\n",
            "Name: f, dtype: float64 \t Current Constraint: 384    1.015627\n",
            "Name: c, dtype: float64\n"
          ]
        },
        {
          "output_type": "stream",
          "name": "stderr",
          "text": [
            "\r 37%|███▋      | 257/700 [23:59<17:44,  2.40s/it]"
          ]
        },
        {
          "output_type": "stream",
          "name": "stdout",
          "text": [
            "Step: 258 \t Time: 1482.2007052898407\n",
            "Shift: 0.03711810812354088\n",
            "Current State: 385    0.105726\n",
            "Name: f, dtype: float64 \t Current Constraint: 385    1.010768\n",
            "Name: c, dtype: float64\n"
          ]
        },
        {
          "output_type": "stream",
          "name": "stderr",
          "text": [
            "\r 37%|███▋      | 258/700 [24:02<18:49,  2.56s/it]"
          ]
        },
        {
          "output_type": "stream",
          "name": "stdout",
          "text": [
            "Step: 259 \t Time: 1485.111240386963\n",
            "Shift: 0.03720558105111122\n",
            "Current State: 386    1.181762\n",
            "Name: f, dtype: float64 \t Current Constraint: 386    1.008959\n",
            "Name: c, dtype: float64\n"
          ]
        },
        {
          "output_type": "stream",
          "name": "stderr",
          "text": [
            "\r 37%|███▋      | 259/700 [24:06<21:09,  2.88s/it]"
          ]
        },
        {
          "output_type": "stream",
          "name": "stdout",
          "text": [
            "Step: 260 \t Time: 1488.7421941757202\n",
            "Shift: 0.03727640439271927\n",
            "Current State: 387    0.07317\n",
            "Name: f, dtype: float64 \t Current Constraint: 387    1.01116\n",
            "Name: c, dtype: float64\n"
          ]
        },
        {
          "output_type": "stream",
          "name": "stderr",
          "text": [
            "\r 37%|███▋      | 260/700 [24:09<20:42,  2.82s/it]"
          ]
        },
        {
          "output_type": "stream",
          "name": "stdout",
          "text": [
            "Step: 261 \t Time: 1491.43838763237\n",
            "Shift: 0.0373333721280098\n",
            "Current State: 388    0.177543\n",
            "Name: f, dtype: float64 \t Current Constraint: 388    1.009934\n",
            "Name: c, dtype: float64\n"
          ]
        },
        {
          "output_type": "stream",
          "name": "stderr",
          "text": [
            "\r 37%|███▋      | 261/700 [24:11<19:26,  2.66s/it]"
          ]
        },
        {
          "output_type": "stream",
          "name": "stdout",
          "text": [
            "Step: 262 \t Time: 1493.709775686264\n",
            "Shift: 0.03761702864766121\n",
            "Current State: 389    0.086875\n",
            "Name: f, dtype: float64 \t Current Constraint: 389    1.009503\n",
            "Name: c, dtype: float64\n"
          ]
        },
        {
          "output_type": "stream",
          "name": "stderr",
          "text": [
            "\r 37%|███▋      | 262/700 [24:22<38:25,  5.26s/it]"
          ]
        },
        {
          "output_type": "stream",
          "name": "stdout",
          "text": [
            "Step: 263 \t Time: 1505.0564966201782\n",
            "Shift: 0.03766563442945481\n",
            "Current State: 390    0.367957\n",
            "Name: f, dtype: float64 \t Current Constraint: 390    1.010319\n",
            "Name: c, dtype: float64\n"
          ]
        },
        {
          "output_type": "stream",
          "name": "stderr",
          "text": [
            "\r 38%|███▊      | 263/700 [24:24<31:06,  4.27s/it]"
          ]
        },
        {
          "output_type": "stream",
          "name": "stdout",
          "text": [
            "Step: 264 \t Time: 1507.0093019008636\n",
            "Shift: 0.03774790270328522\n",
            "Current State: 391    1.705858\n",
            "Name: f, dtype: float64 \t Current Constraint: 391    1.011548\n",
            "Name: c, dtype: float64\n"
          ]
        },
        {
          "output_type": "stream",
          "name": "stderr",
          "text": [
            "\r 38%|███▊      | 264/700 [24:28<28:53,  3.98s/it]"
          ]
        },
        {
          "output_type": "stream",
          "name": "stdout",
          "text": [
            "Step: 265 \t Time: 1510.29376578331\n",
            "Shift: 0.03781988765001297\n",
            "Current State: 392    1.180386\n",
            "Name: f, dtype: float64 \t Current Constraint: 392    1.009328\n",
            "Name: c, dtype: float64\n"
          ]
        },
        {
          "output_type": "stream",
          "name": "stderr",
          "text": [
            "\r 38%|███▊      | 265/700 [24:30<26:26,  3.65s/it]"
          ]
        },
        {
          "output_type": "stream",
          "name": "stdout",
          "text": [
            "Step: 266 \t Time: 1513.1772589683533\n",
            "Shift: 0.037875807237625125\n",
            "Current State: 393    2.61198\n",
            "Name: f, dtype: float64 \t Current Constraint: 393    1.009596\n",
            "Name: c, dtype: float64\n"
          ]
        },
        {
          "output_type": "stream",
          "name": "stderr",
          "text": [
            "\r 38%|███▊      | 266/700 [24:33<23:43,  3.28s/it]"
          ]
        },
        {
          "output_type": "stream",
          "name": "stdout",
          "text": [
            "Step: 267 \t Time: 1515.596872329712\n",
            "Shift: 0.03794168812632561\n",
            "Current State: 394    0.176001\n",
            "Name: f, dtype: float64 \t Current Constraint: 394    1.010116\n",
            "Name: c, dtype: float64\n"
          ]
        },
        {
          "output_type": "stream",
          "name": "stderr",
          "text": [
            "\r 38%|███▊      | 267/700 [24:35<21:52,  3.03s/it]"
          ]
        },
        {
          "output_type": "stream",
          "name": "stdout",
          "text": [
            "Step: 268 \t Time: 1518.045795917511\n",
            "Shift: 0.03798284248709679\n",
            "Current State: 395    4.655834\n",
            "Name: f, dtype: float64 \t Current Constraint: 395    1.017599\n",
            "Name: c, dtype: float64\n"
          ]
        },
        {
          "output_type": "stream",
          "name": "stderr",
          "text": [
            "\r 38%|███▊      | 268/700 [24:37<18:47,  2.61s/it]"
          ]
        },
        {
          "output_type": "stream",
          "name": "stdout",
          "text": [
            "Step: 269 \t Time: 1519.6786012649536\n",
            "Shift: 0.03805263451933861\n",
            "Current State: 396    0.16556\n",
            "Name: f, dtype: float64 \t Current Constraint: 396    1.0103\n",
            "Name: c, dtype: float64\n"
          ]
        },
        {
          "output_type": "stream",
          "name": "stderr",
          "text": [
            "\r 38%|███▊      | 269/700 [24:40<19:11,  2.67s/it]"
          ]
        },
        {
          "output_type": "stream",
          "name": "stdout",
          "text": [
            "Step: 270 \t Time: 1522.4892528057098\n",
            "Shift: 0.03808956759572029\n",
            "Current State: 397    4.380779\n",
            "Name: f, dtype: float64 \t Current Constraint: 397    1.017313\n",
            "Name: c, dtype: float64\n"
          ]
        },
        {
          "output_type": "stream",
          "name": "stderr",
          "text": [
            "\r 39%|███▊      | 270/700 [24:41<16:34,  2.31s/it]"
          ]
        },
        {
          "output_type": "stream",
          "name": "stdout",
          "text": [
            "Step: 271 \t Time: 1523.9635999202728\n",
            "Shift: 0.038151674044132236\n",
            "Current State: 398    0.172167\n",
            "Name: f, dtype: float64 \t Current Constraint: 398    1.010633\n",
            "Name: c, dtype: float64\n"
          ]
        },
        {
          "output_type": "stream",
          "name": "stderr",
          "text": [
            "\r 39%|███▊      | 271/700 [24:44<16:52,  2.36s/it]"
          ]
        },
        {
          "output_type": "stream",
          "name": "stdout",
          "text": [
            "Step: 272 \t Time: 1526.4393737316132\n",
            "Shift: 0.0384917109310627\n",
            "Current State: 399    0.200187\n",
            "Name: f, dtype: float64 \t Current Constraint: 399    1.011028\n",
            "Name: c, dtype: float64\n"
          ]
        },
        {
          "output_type": "stream",
          "name": "stderr",
          "text": [
            "\r 39%|███▉      | 272/700 [24:57<41:21,  5.80s/it]"
          ]
        },
        {
          "output_type": "stream",
          "name": "stdout",
          "text": [
            "Step: 273 \t Time: 1540.254091501236\n",
            "Shift: 0.03861665231585503\n",
            "Current State: 400    0.202835\n",
            "Name: f, dtype: float64 \t Current Constraint: 400    1.0106\n",
            "Name: c, dtype: float64\n"
          ]
        },
        {
          "output_type": "stream",
          "name": "stderr",
          "text": [
            "\r 39%|███▉      | 273/700 [25:02<39:06,  5.49s/it]"
          ]
        },
        {
          "output_type": "stream",
          "name": "stdout",
          "text": [
            "Step: 274 \t Time: 1545.04181265831\n",
            "Shift: 0.03882554796934128\n",
            "Current State: 401    0.254937\n",
            "Name: f, dtype: float64 \t Current Constraint: 401    1.009883\n",
            "Name: c, dtype: float64\n"
          ]
        },
        {
          "output_type": "stream",
          "name": "stderr",
          "text": [
            "\r 39%|███▉      | 274/700 [25:11<45:21,  6.39s/it]"
          ]
        },
        {
          "output_type": "stream",
          "name": "stdout",
          "text": [
            "Step: 275 \t Time: 1553.519873380661\n",
            "Shift: 0.03920619632601738\n",
            "Current State: 402    0.167215\n",
            "Name: f, dtype: float64 \t Current Constraint: 402    1.011052\n",
            "Name: c, dtype: float64\n"
          ]
        },
        {
          "output_type": "stream",
          "name": "stderr",
          "text": [
            "\r 39%|███▉      | 275/700 [25:26<1:03:47,  9.01s/it]"
          ]
        },
        {
          "output_type": "stream",
          "name": "stdout",
          "text": [
            "Step: 276 \t Time: 1568.6302230358124\n",
            "Shift: 0.039630266451835636\n",
            "Current State: 403    0.164137\n",
            "Name: f, dtype: float64 \t Current Constraint: 403    1.011293\n",
            "Name: c, dtype: float64\n"
          ]
        },
        {
          "output_type": "stream",
          "name": "stderr",
          "text": [
            "\r 39%|███▉      | 276/700 [25:43<1:20:32, 11.40s/it]"
          ]
        },
        {
          "output_type": "stream",
          "name": "stdout",
          "text": [
            "Step: 277 \t Time: 1585.6061596870422\n",
            "Shift: 0.03996431500911713\n",
            "Current State: 404    0.205954\n",
            "Name: f, dtype: float64 \t Current Constraint: 404    1.009984\n",
            "Name: c, dtype: float64\n"
          ]
        },
        {
          "output_type": "stream",
          "name": "stderr",
          "text": [
            "\r 40%|███▉      | 277/700 [25:56<1:24:29, 11.98s/it]"
          ]
        },
        {
          "output_type": "stream",
          "name": "stdout",
          "text": [
            "Step: 278 \t Time: 1598.961011648178\n",
            "Shift: 0.040379965096712114\n",
            "Current State: 405    0.207842\n",
            "Name: f, dtype: float64 \t Current Constraint: 405    1.011066\n",
            "Name: c, dtype: float64\n"
          ]
        },
        {
          "output_type": "stream",
          "name": "stderr",
          "text": [
            "\r 40%|███▉      | 278/700 [26:13<1:34:02, 13.37s/it]"
          ]
        },
        {
          "output_type": "stream",
          "name": "stdout",
          "text": [
            "Step: 279 \t Time: 1615.5709719657898\n",
            "Shift: 0.04043304250240326\n",
            "Current State: 406    1.465657\n",
            "Name: f, dtype: float64 \t Current Constraint: 406    1.012109\n",
            "Name: c, dtype: float64\n"
          ]
        },
        {
          "output_type": "stream",
          "name": "stderr",
          "text": [
            "\r 40%|███▉      | 279/700 [26:15<1:10:34, 10.06s/it]"
          ]
        },
        {
          "output_type": "stream",
          "name": "stdout",
          "text": [
            "Step: 280 \t Time: 1617.899108171463\n",
            "Shift: 0.04048016233444214\n",
            "Current State: 407    12.664783\n",
            "Name: f, dtype: float64 \t Current Constraint: 407    1.008909\n",
            "Name: c, dtype: float64\n"
          ]
        },
        {
          "output_type": "stream",
          "name": "stderr",
          "text": [
            "\r 40%|████      | 280/700 [26:17<53:09,  7.59s/it]  "
          ]
        },
        {
          "output_type": "stream",
          "name": "stdout",
          "text": [
            "Step: 281 \t Time: 1619.7382609844208\n",
            "Shift: 0.04054204373955727\n",
            "Current State: 408    3.810928\n",
            "Name: f, dtype: float64 \t Current Constraint: 408    1.014357\n",
            "Name: c, dtype: float64\n"
          ]
        },
        {
          "output_type": "stream",
          "name": "stderr",
          "text": [
            "\r 40%|████      | 281/700 [26:19<42:02,  6.02s/it]"
          ]
        },
        {
          "output_type": "stream",
          "name": "stdout",
          "text": [
            "Step: 282 \t Time: 1622.0854074954987\n",
            "Shift: 0.040655539244413376\n",
            "Current State: 409    0.142734\n",
            "Name: f, dtype: float64 \t Current Constraint: 409    1.010685\n",
            "Name: c, dtype: float64\n"
          ]
        },
        {
          "output_type": "stream",
          "name": "stderr",
          "text": [
            "\r 40%|████      | 282/700 [26:24<38:46,  5.57s/it]"
          ]
        },
        {
          "output_type": "stream",
          "name": "stdout",
          "text": [
            "Step: 283 \t Time: 1626.5937373638153\n",
            "Shift: 0.040700287783145904\n",
            "Current State: 410    1.384874\n",
            "Name: f, dtype: float64 \t Current Constraint: 410    1.013535\n",
            "Name: c, dtype: float64\n"
          ]
        },
        {
          "output_type": "stream",
          "name": "stderr",
          "text": [
            "\r 40%|████      | 283/700 [26:26<30:49,  4.43s/it]"
          ]
        },
        {
          "output_type": "stream",
          "name": "stdout",
          "text": [
            "Step: 284 \t Time: 1628.3897585868835\n",
            "Shift: 0.04074757633805275\n",
            "Current State: 411    3.48311\n",
            "Name: f, dtype: float64 \t Current Constraint: 411    1.015215\n",
            "Name: c, dtype: float64\n"
          ]
        },
        {
          "output_type": "stream",
          "name": "stderr",
          "text": [
            "\r 41%|████      | 284/700 [26:28<25:53,  3.73s/it]"
          ]
        },
        {
          "output_type": "stream",
          "name": "stdout",
          "text": [
            "Step: 285 \t Time: 1630.4868779182434\n",
            "Shift: 0.040832689899206166\n",
            "Current State: 412    0.137692\n",
            "Name: f, dtype: float64 \t Current Constraint: 412    1.011359\n",
            "Name: c, dtype: float64\n"
          ]
        },
        {
          "output_type": "stream",
          "name": "stderr",
          "text": [
            "\r 41%|████      | 285/700 [26:31<24:43,  3.57s/it]"
          ]
        },
        {
          "output_type": "stream",
          "name": "stdout",
          "text": [
            "Step: 286 \t Time: 1633.6869764328003\n",
            "Shift: 0.04098262393474579\n",
            "Current State: 413    0.21112\n",
            "Name: f, dtype: float64 \t Current Constraint: 413    1.01054\n",
            "Name: c, dtype: float64\n"
          ]
        },
        {
          "output_type": "stream",
          "name": "stderr",
          "text": [
            "\r 41%|████      | 286/700 [26:37<29:40,  4.30s/it]"
          ]
        },
        {
          "output_type": "stream",
          "name": "stdout",
          "text": [
            "Step: 287 \t Time: 1639.6843264102936\n",
            "Shift: 0.04102244459986687\n",
            "Current State: 414    1.364161\n",
            "Name: f, dtype: float64 \t Current Constraint: 414    1.012684\n",
            "Name: c, dtype: float64\n"
          ]
        },
        {
          "output_type": "stream",
          "name": "stderr",
          "text": [
            "\r 41%|████      | 287/700 [26:38<23:59,  3.48s/it]"
          ]
        },
        {
          "output_type": "stream",
          "name": "stdout",
          "text": [
            "Step: 288 \t Time: 1641.2656590938568\n",
            "Shift: 0.04108456702828407\n",
            "Current State: 415    3.690204\n",
            "Name: f, dtype: float64 \t Current Constraint: 415    1.018393\n",
            "Name: c, dtype: float64\n"
          ]
        },
        {
          "output_type": "stream",
          "name": "stderr",
          "text": [
            "\r 41%|████      | 288/700 [26:41<22:13,  3.24s/it]"
          ]
        },
        {
          "output_type": "stream",
          "name": "stdout",
          "text": [
            "Step: 289 \t Time: 1643.9249897003174\n",
            "Shift: 0.04117572097182274\n",
            "Current State: 416    0.149831\n",
            "Name: f, dtype: float64 \t Current Constraint: 416    1.009545\n",
            "Name: c, dtype: float64\n"
          ]
        },
        {
          "output_type": "stream",
          "name": "stderr",
          "text": [
            "\r 41%|████▏     | 289/700 [26:45<22:40,  3.31s/it]"
          ]
        },
        {
          "output_type": "stream",
          "name": "stdout",
          "text": [
            "Step: 290 \t Time: 1647.4047582149506\n",
            "Shift: 0.04127721936702729\n",
            "Current State: 417    0.160857\n",
            "Name: f, dtype: float64 \t Current Constraint: 417    1.010519\n",
            "Name: c, dtype: float64\n"
          ]
        },
        {
          "output_type": "stream",
          "name": "stderr",
          "text": [
            "\r 41%|████▏     | 290/700 [26:49<24:09,  3.53s/it]"
          ]
        },
        {
          "output_type": "stream",
          "name": "stdout",
          "text": [
            "Step: 291 \t Time: 1651.4642477035522\n",
            "Shift: 0.04134878136515618\n",
            "Current State: 418    0.162549\n",
            "Name: f, dtype: float64 \t Current Constraint: 418    1.010123\n",
            "Name: c, dtype: float64\n"
          ]
        },
        {
          "output_type": "stream",
          "name": "stderr",
          "text": [
            "\r 42%|████▏     | 291/700 [26:52<22:56,  3.37s/it]"
          ]
        },
        {
          "output_type": "stream",
          "name": "stdout",
          "text": [
            "Step: 292 \t Time: 1654.438789844513\n",
            "Shift: 0.04145322089791298\n",
            "Current State: 419    0.163746\n",
            "Name: f, dtype: float64 \t Current Constraint: 419    1.009525\n",
            "Name: c, dtype: float64\n"
          ]
        },
        {
          "output_type": "stream",
          "name": "stderr",
          "text": [
            "\r 42%|████▏     | 292/700 [26:56<24:24,  3.59s/it]"
          ]
        },
        {
          "output_type": "stream",
          "name": "stdout",
          "text": [
            "Step: 293 \t Time: 1658.5511965751648\n",
            "Shift: 0.04152586083412171\n",
            "Current State: 420    0.164639\n",
            "Name: f, dtype: float64 \t Current Constraint: 420    1.009665\n",
            "Name: c, dtype: float64\n"
          ]
        },
        {
          "output_type": "stream",
          "name": "stderr",
          "text": [
            "\r 42%|████▏     | 293/700 [26:59<22:51,  3.37s/it]"
          ]
        },
        {
          "output_type": "stream",
          "name": "stdout",
          "text": [
            "Step: 294 \t Time: 1661.4067642688751\n",
            "Shift: 0.041571576410531996\n",
            "Current State: 421    3.13841\n",
            "Name: f, dtype: float64 \t Current Constraint: 421    1.013686\n",
            "Name: c, dtype: float64\n"
          ]
        },
        {
          "output_type": "stream",
          "name": "stderr",
          "text": [
            "\r 42%|████▏     | 294/700 [27:00<19:40,  2.91s/it]"
          ]
        },
        {
          "output_type": "stream",
          "name": "stdout",
          "text": [
            "Step: 295 \t Time: 1663.233248949051\n",
            "Shift: 0.04176463603377342\n",
            "Current State: 422    0.158773\n",
            "Name: f, dtype: float64 \t Current Constraint: 422    1.009389\n",
            "Name: c, dtype: float64\n"
          ]
        },
        {
          "output_type": "stream",
          "name": "stderr",
          "text": [
            "\r 42%|████▏     | 295/700 [27:08<29:44,  4.41s/it]"
          ]
        },
        {
          "output_type": "stream",
          "name": "stdout",
          "text": [
            "Step: 296 \t Time: 1671.1360893249512\n",
            "Shift: 0.041833551877737046\n",
            "Current State: 423    0.209211\n",
            "Name: f, dtype: float64 \t Current Constraint: 423    1.009619\n",
            "Name: c, dtype: float64\n"
          ]
        },
        {
          "output_type": "stream",
          "name": "stderr",
          "text": [
            "\r 42%|████▏     | 296/700 [27:11<25:58,  3.86s/it]"
          ]
        },
        {
          "output_type": "stream",
          "name": "stdout",
          "text": [
            "Step: 297 \t Time: 1673.7117323875427\n",
            "Shift: 0.04189625247716904\n",
            "Current State: 424    2.685571\n",
            "Name: f, dtype: float64 \t Current Constraint: 424    1.014009\n",
            "Name: c, dtype: float64\n"
          ]
        },
        {
          "output_type": "stream",
          "name": "stderr",
          "text": [
            "\r 42%|████▏     | 297/700 [27:13<23:13,  3.46s/it]"
          ]
        },
        {
          "output_type": "stream",
          "name": "stdout",
          "text": [
            "Step: 298 \t Time: 1676.2362356185913\n",
            "Shift: 0.041984239685535434\n",
            "Current State: 425    1.276741\n",
            "Name: f, dtype: float64 \t Current Constraint: 425    1.013114\n",
            "Name: c, dtype: float64\n"
          ]
        },
        {
          "output_type": "stream",
          "name": "stderr",
          "text": [
            "\r 43%|████▎     | 298/700 [27:17<23:14,  3.47s/it]"
          ]
        },
        {
          "output_type": "stream",
          "name": "stdout",
          "text": [
            "Step: 299 \t Time: 1679.735558271408\n",
            "Shift: 0.042034714162349704\n",
            "Current State: 426    1.057796\n",
            "Name: f, dtype: float64 \t Current Constraint: 426    1.013409\n",
            "Name: c, dtype: float64\n"
          ]
        },
        {
          "output_type": "stream",
          "name": "stderr",
          "text": [
            "\r 43%|████▎     | 299/700 [27:19<20:32,  3.07s/it]"
          ]
        },
        {
          "output_type": "stream",
          "name": "stdout",
          "text": [
            "Step: 300 \t Time: 1681.8839621543884\n",
            "Shift: 0.04210938366055489\n",
            "Current State: 427    0.222925\n",
            "Name: f, dtype: float64 \t Current Constraint: 427    1.00977\n",
            "Name: c, dtype: float64\n"
          ]
        },
        {
          "output_type": "stream",
          "name": "stderr",
          "text": [
            "\r 43%|████▎     | 300/700 [27:22<20:04,  3.01s/it]"
          ]
        },
        {
          "output_type": "stream",
          "name": "stdout",
          "text": [
            "Step: 301 \t Time: 1684.750951051712\n",
            "Shift: 0.04237918904423714\n",
            "Current State: 428    0.240976\n",
            "Name: f, dtype: float64 \t Current Constraint: 428    1.010313\n",
            "Name: c, dtype: float64\n"
          ]
        },
        {
          "output_type": "stream",
          "name": "stderr",
          "text": [
            "\r 43%|████▎     | 301/700 [27:33<35:43,  5.37s/it]"
          ]
        },
        {
          "output_type": "stream",
          "name": "stdout",
          "text": [
            "Step: 302 \t Time: 1695.6377930641174\n",
            "Shift: 0.04243973308801651\n",
            "Current State: 429    0.735387\n",
            "Name: f, dtype: float64 \t Current Constraint: 429    1.013265\n",
            "Name: c, dtype: float64\n"
          ]
        },
        {
          "output_type": "stream",
          "name": "stderr",
          "text": [
            "\r 43%|████▎     | 302/700 [27:35<29:35,  4.46s/it]"
          ]
        },
        {
          "output_type": "stream",
          "name": "stdout",
          "text": [
            "Step: 303 \t Time: 1697.96395611763\n",
            "Shift: 0.04254129206538201\n",
            "Current State: 430    0.188771\n",
            "Name: f, dtype: float64 \t Current Constraint: 430    1.009895\n",
            "Name: c, dtype: float64\n"
          ]
        },
        {
          "output_type": "stream",
          "name": "stderr",
          "text": [
            "\r 43%|████▎     | 303/700 [27:39<28:45,  4.35s/it]"
          ]
        },
        {
          "output_type": "stream",
          "name": "stdout",
          "text": [
            "Step: 304 \t Time: 1702.046777009964\n",
            "Shift: 0.04262190061211586\n",
            "Current State: 431    0.229537\n",
            "Name: f, dtype: float64 \t Current Constraint: 431    1.009388\n",
            "Name: c, dtype: float64\n"
          ]
        },
        {
          "output_type": "stream",
          "name": "stderr",
          "text": [
            "\r 43%|████▎     | 304/700 [27:42<26:26,  4.01s/it]"
          ]
        },
        {
          "output_type": "stream",
          "name": "stdout",
          "text": [
            "Step: 305 \t Time: 1705.26038479805\n",
            "Shift: 0.042769151300191884\n",
            "Current State: 432    0.243724\n",
            "Name: f, dtype: float64 \t Current Constraint: 432    1.011189\n",
            "Name: c, dtype: float64\n"
          ]
        },
        {
          "output_type": "stream",
          "name": "stderr",
          "text": [
            "\r 44%|████▎     | 305/700 [27:48<30:04,  4.57s/it]"
          ]
        },
        {
          "output_type": "stream",
          "name": "stdout",
          "text": [
            "Step: 306 \t Time: 1711.1391274929047\n",
            "Shift: 0.042908757704496384\n",
            "Current State: 433    8.395358\n",
            "Name: f, dtype: float64 \t Current Constraint: 433    1.011882\n",
            "Name: c, dtype: float64\n"
          ]
        },
        {
          "output_type": "stream",
          "name": "stderr",
          "text": [
            "\r 44%|████▎     | 306/700 [27:54<32:03,  4.88s/it]"
          ]
        },
        {
          "output_type": "stream",
          "name": "stdout",
          "text": [
            "Step: 307 \t Time: 1716.7505457401276\n",
            "Shift: 0.043134383255243304\n",
            "Current State: 434    2.163429\n",
            "Name: f, dtype: float64 \t Current Constraint: 434    1.011645\n",
            "Name: c, dtype: float64\n"
          ]
        },
        {
          "output_type": "stream",
          "name": "stderr",
          "text": [
            "\r 44%|████▍     | 307/700 [28:03<40:03,  6.12s/it]"
          ]
        },
        {
          "output_type": "stream",
          "name": "stdout",
          "text": [
            "Step: 308 \t Time: 1725.7471113204956\n",
            "Shift: 0.043459526199102406\n",
            "Current State: 435    3.063059\n",
            "Name: f, dtype: float64 \t Current Constraint: 435    1.007635\n",
            "Name: c, dtype: float64\n"
          ]
        },
        {
          "output_type": "stream",
          "name": "stderr",
          "text": [
            "\r 44%|████▍     | 308/700 [28:16<53:29,  8.19s/it]"
          ]
        },
        {
          "output_type": "stream",
          "name": "stdout",
          "text": [
            "Step: 309 \t Time: 1738.7680594921112\n",
            "Shift: 0.0435487144112587\n",
            "Current State: 436    1.298746\n",
            "Name: f, dtype: float64 \t Current Constraint: 436    1.012672\n",
            "Name: c, dtype: float64\n"
          ]
        },
        {
          "output_type": "stream",
          "name": "stderr",
          "text": [
            "\r 44%|████▍     | 309/700 [28:20<44:16,  6.80s/it]"
          ]
        },
        {
          "output_type": "stream",
          "name": "stdout",
          "text": [
            "Step: 310 \t Time: 1742.3140120506287\n",
            "Shift: 0.04359038394093514\n",
            "Current State: 437    0.683755\n",
            "Name: f, dtype: float64 \t Current Constraint: 437    1.013269\n",
            "Name: c, dtype: float64\n"
          ]
        },
        {
          "output_type": "stream",
          "name": "stderr",
          "text": [
            "\r 44%|████▍     | 310/700 [28:21<34:09,  5.26s/it]"
          ]
        },
        {
          "output_type": "stream",
          "name": "stdout",
          "text": [
            "Step: 311 \t Time: 1743.9798967838287\n",
            "Shift: 0.04363181782364846\n",
            "Current State: 438    0.668732\n",
            "Name: f, dtype: float64 \t Current Constraint: 438    1.012582\n",
            "Name: c, dtype: float64\n"
          ]
        },
        {
          "output_type": "stream",
          "name": "stderr",
          "text": [
            "\r 44%|████▍     | 311/700 [28:23<27:05,  4.18s/it]"
          ]
        },
        {
          "output_type": "stream",
          "name": "stdout",
          "text": [
            "Step: 312 \t Time: 1745.6448695659637\n",
            "Shift: 0.0437335412979126\n",
            "Current State: 439    0.258648\n",
            "Name: f, dtype: float64 \t Current Constraint: 439    1.010996\n",
            "Name: c, dtype: float64\n"
          ]
        },
        {
          "output_type": "stream",
          "name": "stderr",
          "text": [
            "\r 45%|████▍     | 312/700 [28:27<26:47,  4.14s/it]"
          ]
        },
        {
          "output_type": "stream",
          "name": "stdout",
          "text": [
            "Step: 313 \t Time: 1749.707751750946\n",
            "Shift: 0.043775735634565355\n",
            "Current State: 440    0.689932\n",
            "Name: f, dtype: float64 \t Current Constraint: 440    1.012574\n",
            "Name: c, dtype: float64\n"
          ]
        },
        {
          "output_type": "stream",
          "name": "stderr",
          "text": [
            "\r 45%|████▍     | 313/700 [28:29<21:58,  3.41s/it]"
          ]
        },
        {
          "output_type": "stream",
          "name": "stdout",
          "text": [
            "Step: 314 \t Time: 1751.3940169811249\n",
            "Shift: 0.04393478887081147\n",
            "Current State: 441    0.420876\n",
            "Name: f, dtype: float64 \t Current Constraint: 441    1.009767\n",
            "Name: c, dtype: float64\n"
          ]
        },
        {
          "output_type": "stream",
          "name": "stderr",
          "text": [
            "\r 45%|████▍     | 314/700 [28:35<27:37,  4.29s/it]"
          ]
        },
        {
          "output_type": "stream",
          "name": "stdout",
          "text": [
            "Step: 315 \t Time: 1757.7581686973572\n",
            "Shift: 0.04399178237318993\n",
            "Current State: 442    0.621775\n",
            "Name: f, dtype: float64 \t Current Constraint: 442    1.011721\n",
            "Name: c, dtype: float64\n"
          ]
        },
        {
          "output_type": "stream",
          "name": "stderr",
          "text": [
            "\r 45%|████▌     | 315/700 [28:37<23:51,  3.72s/it]"
          ]
        },
        {
          "output_type": "stream",
          "name": "stdout",
          "text": [
            "Step: 316 \t Time: 1760.1424283981323\n",
            "Shift: 0.04404696971774102\n",
            "Current State: 443    0.5992\n",
            "Name: f, dtype: float64 \t Current Constraint: 443    1.013222\n",
            "Name: c, dtype: float64\n"
          ]
        },
        {
          "output_type": "stream",
          "name": "stderr",
          "text": [
            "\r 45%|████▌     | 316/700 [28:39<20:43,  3.24s/it]"
          ]
        },
        {
          "output_type": "stream",
          "name": "stdout",
          "text": [
            "Step: 317 \t Time: 1762.254590511322\n",
            "Shift: 0.044162652319669725\n",
            "Current State: 444    0.368947\n",
            "Name: f, dtype: float64 \t Current Constraint: 444    1.009677\n",
            "Name: c, dtype: float64\n"
          ]
        },
        {
          "output_type": "stream",
          "name": "stderr",
          "text": [
            "\r 45%|████▌     | 317/700 [28:44<23:18,  3.65s/it]"
          ]
        },
        {
          "output_type": "stream",
          "name": "stdout",
          "text": [
            "Step: 318 \t Time: 1766.8710832595825\n",
            "Shift: 0.04424882658720017\n",
            "Current State: 445    0.195011\n",
            "Name: f, dtype: float64 \t Current Constraint: 445    1.010535\n",
            "Name: c, dtype: float64\n"
          ]
        },
        {
          "output_type": "stream",
          "name": "stderr",
          "text": [
            "\r 45%|████▌     | 318/700 [28:48<22:51,  3.59s/it]"
          ]
        },
        {
          "output_type": "stream",
          "name": "stdout",
          "text": [
            "Step: 319 \t Time: 1770.3144192695618\n",
            "Shift: 0.04431167293190957\n",
            "Current State: 446    0.604157\n",
            "Name: f, dtype: float64 \t Current Constraint: 446    1.013624\n",
            "Name: c, dtype: float64\n"
          ]
        },
        {
          "output_type": "stream",
          "name": "stderr",
          "text": [
            "\r 46%|████▌     | 319/700 [28:50<20:58,  3.30s/it]"
          ]
        },
        {
          "output_type": "stream",
          "name": "stdout",
          "text": [
            "Step: 320 \t Time: 1772.9476387500763\n",
            "Shift: 0.04439683001637459\n",
            "Current State: 447    0.588397\n",
            "Name: f, dtype: float64 \t Current Constraint: 447    1.01175\n",
            "Name: c, dtype: float64\n"
          ]
        },
        {
          "output_type": "stream",
          "name": "stderr",
          "text": [
            "\r 46%|████▌     | 320/700 [28:53<20:55,  3.30s/it]"
          ]
        },
        {
          "output_type": "stream",
          "name": "stdout",
          "text": [
            "Step: 321 \t Time: 1776.2549560070038\n",
            "Shift: 0.04451525602936745\n",
            "Current State: 448    0.598343\n",
            "Name: f, dtype: float64 \t Current Constraint: 448    1.0119\n",
            "Name: c, dtype: float64\n"
          ]
        },
        {
          "output_type": "stream",
          "name": "stderr",
          "text": [
            "\r 46%|████▌     | 321/700 [28:58<23:34,  3.73s/it]"
          ]
        },
        {
          "output_type": "stream",
          "name": "stdout",
          "text": [
            "Step: 322 \t Time: 1780.9840850830078\n",
            "Shift: 0.04459412768483162\n",
            "Current State: 449    0.590235\n",
            "Name: f, dtype: float64 \t Current Constraint: 449    1.012368\n",
            "Name: c, dtype: float64\n"
          ]
        },
        {
          "output_type": "stream",
          "name": "stderr",
          "text": [
            "\r 46%|████▌     | 322/700 [29:01<22:24,  3.56s/it]"
          ]
        },
        {
          "output_type": "stream",
          "name": "stdout",
          "text": [
            "Step: 323 \t Time: 1784.135766029358\n",
            "Shift: 0.04468861417770386\n",
            "Current State: 450    0.591706\n",
            "Name: f, dtype: float64 \t Current Constraint: 450    1.01283\n",
            "Name: c, dtype: float64\n"
          ]
        },
        {
          "output_type": "stream",
          "name": "stderr",
          "text": [
            "\r 46%|████▌     | 323/700 [29:05<22:46,  3.63s/it]"
          ]
        },
        {
          "output_type": "stream",
          "name": "stdout",
          "text": [
            "Step: 324 \t Time: 1787.919620513916\n",
            "Shift: 0.04473044494390488\n",
            "Current State: 451    0.573139\n",
            "Name: f, dtype: float64 \t Current Constraint: 451    1.013596\n",
            "Name: c, dtype: float64\n"
          ]
        },
        {
          "output_type": "stream",
          "name": "stderr",
          "text": [
            "\r 46%|████▋     | 324/700 [29:07<19:02,  3.04s/it]"
          ]
        },
        {
          "output_type": "stream",
          "name": "stdout",
          "text": [
            "Step: 325 \t Time: 1789.5906913280487\n",
            "Shift: 0.044806750035285954\n",
            "Current State: 452    0.212597\n",
            "Name: f, dtype: float64 \t Current Constraint: 452    1.011207\n",
            "Name: c, dtype: float64\n"
          ]
        },
        {
          "output_type": "stream",
          "name": "stderr",
          "text": [
            "\r 46%|████▋     | 325/700 [29:10<19:03,  3.05s/it]"
          ]
        },
        {
          "output_type": "stream",
          "name": "stdout",
          "text": [
            "Step: 326 \t Time: 1792.6635732650757\n",
            "Shift: 0.044940921807289126\n",
            "Current State: 453    0.204978\n",
            "Name: f, dtype: float64 \t Current Constraint: 453    1.009394\n",
            "Name: c, dtype: float64\n"
          ]
        },
        {
          "output_type": "stream",
          "name": "stderr",
          "text": [
            "\r 47%|████▋     | 326/700 [29:15<23:38,  3.79s/it]"
          ]
        },
        {
          "output_type": "stream",
          "name": "stdout",
          "text": [
            "Step: 327 \t Time: 1798.1880271434784\n",
            "Shift: 0.04501622390151024\n",
            "Current State: 454    0.498628\n",
            "Name: f, dtype: float64 \t Current Constraint: 454    1.013494\n",
            "Name: c, dtype: float64\n"
          ]
        },
        {
          "output_type": "stream",
          "name": "stderr",
          "text": [
            "\r 47%|████▋     | 327/700 [29:18<21:48,  3.51s/it]"
          ]
        },
        {
          "output_type": "stream",
          "name": "stdout",
          "text": [
            "Step: 328 \t Time: 1801.0349740982056\n",
            "Shift: 0.045055890345573425\n",
            "Current State: 455    0.645973\n",
            "Name: f, dtype: float64 \t Current Constraint: 455    1.011314\n",
            "Name: c, dtype: float64\n"
          ]
        },
        {
          "output_type": "stream",
          "name": "stderr",
          "text": [
            "\r 47%|████▋     | 328/700 [29:20<18:08,  2.93s/it]"
          ]
        },
        {
          "output_type": "stream",
          "name": "stdout",
          "text": [
            "Step: 329 \t Time: 1802.6015055179596\n",
            "Shift: 0.04511310676932335\n",
            "Current State: 456    0.199528\n",
            "Name: f, dtype: float64 \t Current Constraint: 456    1.010862\n",
            "Name: c, dtype: float64\n"
          ]
        },
        {
          "output_type": "stream",
          "name": "stderr",
          "text": [
            "\r 47%|████▋     | 329/700 [29:22<16:54,  2.74s/it]"
          ]
        },
        {
          "output_type": "stream",
          "name": "stdout",
          "text": [
            "Step: 330 \t Time: 1804.892481803894\n",
            "Shift: 0.04521964230537415\n",
            "Current State: 457    0.208454\n",
            "Name: f, dtype: float64 \t Current Constraint: 457    1.011256\n",
            "Name: c, dtype: float64\n"
          ]
        },
        {
          "output_type": "stream",
          "name": "stderr",
          "text": [
            "\r 47%|████▋     | 330/700 [29:26<19:42,  3.20s/it]"
          ]
        },
        {
          "output_type": "stream",
          "name": "stdout",
          "text": [
            "Step: 331 \t Time: 1809.1633551120758\n",
            "Shift: 0.045300803095102316\n",
            "Current State: 458    0.535922\n",
            "Name: f, dtype: float64 \t Current Constraint: 458    1.011039\n",
            "Name: c, dtype: float64\n"
          ]
        },
        {
          "output_type": "stream",
          "name": "stderr",
          "text": [
            "\r 47%|████▋     | 331/700 [29:30<20:02,  3.26s/it]"
          ]
        },
        {
          "output_type": "stream",
          "name": "stdout",
          "text": [
            "Step: 332 \t Time: 1812.5693962574005\n",
            "Shift: 0.04537040425539017\n",
            "Current State: 459    0.526598\n",
            "Name: f, dtype: float64 \t Current Constraint: 459    1.011827\n",
            "Name: c, dtype: float64\n"
          ]
        },
        {
          "output_type": "stream",
          "name": "stderr",
          "text": [
            "\r 47%|████▋     | 332/700 [29:32<18:49,  3.07s/it]"
          ]
        },
        {
          "output_type": "stream",
          "name": "stdout",
          "text": [
            "Step: 333 \t Time: 1815.1924395561218\n",
            "Shift: 0.04543577838540078\n",
            "Current State: 460    2.527646\n",
            "Name: f, dtype: float64 \t Current Constraint: 460    1.012573\n",
            "Name: c, dtype: float64\n"
          ]
        },
        {
          "output_type": "stream",
          "name": "stderr",
          "text": [
            "\r 48%|████▊     | 333/700 [29:35<17:57,  2.93s/it]"
          ]
        },
        {
          "output_type": "stream",
          "name": "stdout",
          "text": [
            "Step: 334 \t Time: 1817.8154997825623\n",
            "Shift: 0.04549726541042328\n",
            "Current State: 461    0.467009\n",
            "Name: f, dtype: float64 \t Current Constraint: 461    1.012491\n",
            "Name: c, dtype: float64\n"
          ]
        },
        {
          "output_type": "stream",
          "name": "stderr",
          "text": [
            "\r 48%|████▊     | 334/700 [29:37<17:01,  2.79s/it]"
          ]
        },
        {
          "output_type": "stream",
          "name": "stdout",
          "text": [
            "Step: 335 \t Time: 1820.2702717781067\n",
            "Shift: 0.04551982175707817\n",
            "Current State: 462    9.504093\n",
            "Name: f, dtype: float64 \t Current Constraint: 462    1.034459\n",
            "Name: c, dtype: float64\n"
          ]
        },
        {
          "output_type": "stream",
          "name": "stderr",
          "text": [
            "\r 48%|████▊     | 335/700 [29:38<13:31,  2.22s/it]"
          ]
        },
        {
          "output_type": "stream",
          "name": "stdout",
          "text": [
            "Step: 336 \t Time: 1821.1707088947296\n",
            "Shift: 0.045585401850938796\n",
            "Current State: 463    0.225979\n",
            "Name: f, dtype: float64 \t Current Constraint: 463    1.011542\n",
            "Name: c, dtype: float64\n"
          ]
        },
        {
          "output_type": "stream",
          "name": "stderr",
          "text": [
            "\r 48%|████▊     | 336/700 [29:41<14:36,  2.41s/it]"
          ]
        },
        {
          "output_type": "stream",
          "name": "stdout",
          "text": [
            "Step: 337 \t Time: 1824.0062532424927\n",
            "Shift: 0.045641633152961734\n",
            "Current State: 464    2.523386\n",
            "Name: f, dtype: float64 \t Current Constraint: 464    1.012773\n",
            "Name: c, dtype: float64\n"
          ]
        },
        {
          "output_type": "stream",
          "name": "stderr",
          "text": [
            "\r 48%|████▊     | 337/700 [29:43<14:08,  2.34s/it]"
          ]
        },
        {
          "output_type": "stream",
          "name": "stdout",
          "text": [
            "Step: 338 \t Time: 1826.1803624629974\n",
            "Shift: 0.04569137011170388\n",
            "Current State: 465    0.47939\n",
            "Name: f, dtype: float64 \t Current Constraint: 465    1.013223\n",
            "Name: c, dtype: float64\n"
          ]
        },
        {
          "output_type": "stream",
          "name": "stderr",
          "text": [
            "\r 48%|████▊     | 338/700 [29:45<13:14,  2.19s/it]"
          ]
        },
        {
          "output_type": "stream",
          "name": "stdout",
          "text": [
            "Step: 339 \t Time: 1828.0381526947021\n",
            "Shift: 0.04574039046764374\n",
            "Current State: 466    0.464774\n",
            "Name: f, dtype: float64 \t Current Constraint: 466    1.012637\n",
            "Name: c, dtype: float64\n"
          ]
        },
        {
          "output_type": "stream",
          "name": "stderr",
          "text": [
            "\r 48%|████▊     | 339/700 [29:47<12:45,  2.12s/it]"
          ]
        },
        {
          "output_type": "stream",
          "name": "stdout",
          "text": [
            "Step: 340 \t Time: 1829.9853065013885\n",
            "Shift: 0.04578110443353653\n",
            "Current State: 467    0.464519\n",
            "Name: f, dtype: float64 \t Current Constraint: 467    1.012814\n",
            "Name: c, dtype: float64\n"
          ]
        },
        {
          "output_type": "stream",
          "name": "stderr",
          "text": [
            "\r 49%|████▊     | 340/700 [29:49<11:50,  1.97s/it]"
          ]
        },
        {
          "output_type": "stream",
          "name": "stdout",
          "text": [
            "Step: 341 \t Time: 1831.6189210414886\n",
            "Shift: 0.04582550750970841\n",
            "Current State: 468    4.318916\n",
            "Name: f, dtype: float64 \t Current Constraint: 468    1.01632\n",
            "Name: c, dtype: float64\n"
          ]
        },
        {
          "output_type": "stream",
          "name": "stderr",
          "text": [
            "\r 49%|████▊     | 341/700 [29:51<11:28,  1.92s/it]"
          ]
        },
        {
          "output_type": "stream",
          "name": "stdout",
          "text": [
            "Step: 342 \t Time: 1833.4090435504913\n",
            "Shift: 0.04597788565754891\n",
            "Current State: 469    0.465549\n",
            "Name: f, dtype: float64 \t Current Constraint: 469    1.011328\n",
            "Name: c, dtype: float64\n"
          ]
        },
        {
          "output_type": "stream",
          "name": "stderr",
          "text": [
            "\r 49%|████▉     | 342/700 [29:57<19:05,  3.20s/it]"
          ]
        },
        {
          "output_type": "stream",
          "name": "stdout",
          "text": [
            "Step: 343 \t Time: 1839.5967156887054\n",
            "Shift: 0.046029768359661105\n",
            "Current State: 470    2.592815\n",
            "Name: f, dtype: float64 \t Current Constraint: 470    1.012477\n",
            "Name: c, dtype: float64\n"
          ]
        },
        {
          "output_type": "stream",
          "name": "stderr",
          "text": [
            "\r 49%|████▉     | 343/700 [29:59<16:50,  2.83s/it]"
          ]
        },
        {
          "output_type": "stream",
          "name": "stdout",
          "text": [
            "Step: 344 \t Time: 1841.5649907588959\n",
            "Shift: 0.046111266094446185\n",
            "Current State: 471    0.468246\n",
            "Name: f, dtype: float64 \t Current Constraint: 471    1.011556\n",
            "Name: c, dtype: float64\n"
          ]
        },
        {
          "output_type": "stream",
          "name": "stderr",
          "text": [
            "\r 49%|████▉     | 344/700 [30:02<17:34,  2.96s/it]"
          ]
        },
        {
          "output_type": "stream",
          "name": "stdout",
          "text": [
            "Step: 345 \t Time: 1844.8305077552795\n",
            "Shift: 0.04615371876358986\n",
            "Current State: 472    0.466402\n",
            "Name: f, dtype: float64 \t Current Constraint: 472    1.011413\n",
            "Name: c, dtype: float64\n"
          ]
        },
        {
          "output_type": "stream",
          "name": "stderr",
          "text": [
            "\r 49%|████▉     | 345/700 [30:04<15:15,  2.58s/it]"
          ]
        },
        {
          "output_type": "stream",
          "name": "stdout",
          "text": [
            "Step: 346 \t Time: 1846.5158078670502\n",
            "Shift: 0.046182274001836776\n",
            "Current State: 473    26.080566\n",
            "Name: f, dtype: float64 \t Current Constraint: 473    0.995596\n",
            "Name: c, dtype: float64\n"
          ]
        },
        {
          "output_type": "stream",
          "name": "stderr",
          "text": [
            "\r 49%|████▉     | 346/700 [30:05<12:39,  2.15s/it]"
          ]
        },
        {
          "output_type": "stream",
          "name": "stdout",
          "text": [
            "Step: 347 \t Time: 1847.6562082767487\n",
            "Shift: 0.04643722189664841\n",
            "Current State: 474    0.394578\n",
            "Name: f, dtype: float64 \t Current Constraint: 474    1.011788\n",
            "Name: c, dtype: float64\n"
          ]
        },
        {
          "output_type": "stream",
          "name": "stderr",
          "text": [
            "\r 50%|████▉     | 347/700 [30:15<26:51,  4.56s/it]"
          ]
        },
        {
          "output_type": "stream",
          "name": "stdout",
          "text": [
            "Step: 348 \t Time: 1857.861572265625\n",
            "Shift: 0.04666358162760735\n",
            "Current State: 475    0.328651\n",
            "Name: f, dtype: float64 \t Current Constraint: 475    1.010162\n",
            "Name: c, dtype: float64\n"
          ]
        },
        {
          "output_type": "stream",
          "name": "stderr",
          "text": [
            "\r 50%|████▉     | 348/700 [30:24<34:39,  5.91s/it]"
          ]
        },
        {
          "output_type": "stream",
          "name": "stdout",
          "text": [
            "Step: 349 \t Time: 1866.90811252594\n",
            "Shift: 0.046967999601364135\n",
            "Current State: 476    0.306272\n",
            "Name: f, dtype: float64 \t Current Constraint: 476    1.011031\n",
            "Name: c, dtype: float64\n"
          ]
        },
        {
          "output_type": "stream",
          "name": "stderr",
          "text": [
            "\r 50%|████▉     | 349/700 [30:36<45:37,  7.80s/it]"
          ]
        },
        {
          "output_type": "stream",
          "name": "stdout",
          "text": [
            "Step: 350 \t Time: 1879.1164255142212\n",
            "Shift: 0.04728046752810478\n",
            "Current State: 477    0.355478\n",
            "Name: f, dtype: float64 \t Current Constraint: 477    1.010516\n",
            "Name: c, dtype: float64\n"
          ]
        },
        {
          "output_type": "stream",
          "name": "stderr",
          "text": [
            "\r 50%|█████     | 350/700 [30:49<53:41,  9.20s/it]"
          ]
        },
        {
          "output_type": "stream",
          "name": "stdout",
          "text": [
            "Step: 351 \t Time: 1891.5969514846802\n",
            "Shift: 0.04758676326274872\n",
            "Current State: 478    0.701966\n",
            "Name: f, dtype: float64 \t Current Constraint: 478    1.009373\n",
            "Name: c, dtype: float64\n"
          ]
        },
        {
          "output_type": "stream",
          "name": "stderr",
          "text": [
            "\r 50%|█████     | 351/700 [31:01<59:01, 10.15s/it]"
          ]
        },
        {
          "output_type": "stream",
          "name": "stdout",
          "text": [
            "Step: 352 \t Time: 1903.94766664505\n",
            "Shift: 0.0479405437886715\n",
            "Current State: 479    0.233486\n",
            "Name: f, dtype: float64 \t Current Constraint: 479    1.009944\n",
            "Name: c, dtype: float64\n"
          ]
        },
        {
          "output_type": "stream",
          "name": "stderr",
          "text": [
            "\r 50%|█████     | 352/700 [31:15<1:05:38, 11.32s/it]"
          ]
        },
        {
          "output_type": "stream",
          "name": "stdout",
          "text": [
            "Step: 353 \t Time: 1917.9923467636108\n",
            "Shift: 0.048186926883459096\n",
            "Current State: 480    0.900265\n",
            "Name: f, dtype: float64 \t Current Constraint: 480    1.009316\n",
            "Name: c, dtype: float64\n"
          ]
        },
        {
          "output_type": "stream",
          "name": "stderr",
          "text": [
            "\r 50%|█████     | 353/700 [31:25<1:03:03, 10.90s/it]"
          ]
        },
        {
          "output_type": "stream",
          "name": "stdout",
          "text": [
            "Step: 354 \t Time: 1927.945524930954\n",
            "Shift: 0.048568015426397326\n",
            "Current State: 481    0.68355\n",
            "Name: f, dtype: float64 \t Current Constraint: 481    1.012595\n",
            "Name: c, dtype: float64\n"
          ]
        },
        {
          "output_type": "stream",
          "name": "stderr",
          "text": [
            "\r 51%|█████     | 354/700 [31:40<1:10:17, 12.19s/it]"
          ]
        },
        {
          "output_type": "stream",
          "name": "stdout",
          "text": [
            "Step: 355 \t Time: 1943.121379852295\n",
            "Shift: 0.049052081912755965\n",
            "Current State: 482    2.634642\n",
            "Name: f, dtype: float64 \t Current Constraint: 482    1.008956\n",
            "Name: c, dtype: float64\n"
          ]
        },
        {
          "output_type": "stream",
          "name": "stderr",
          "text": [
            "\r 51%|█████     | 355/700 [32:00<1:22:24, 14.33s/it]"
          ]
        },
        {
          "output_type": "stream",
          "name": "stdout",
          "text": [
            "Step: 356 \t Time: 1962.4535994529724\n",
            "Shift: 0.04929135293364525\n",
            "Current State: 483    4.774629\n",
            "Name: f, dtype: float64 \t Current Constraint: 483    1.012245\n",
            "Name: c, dtype: float64\n"
          ]
        },
        {
          "output_type": "stream",
          "name": "stderr",
          "text": [
            "\r 51%|█████     | 356/700 [32:09<1:13:59, 12.90s/it]"
          ]
        },
        {
          "output_type": "stream",
          "name": "stdout",
          "text": [
            "Step: 357 \t Time: 1972.0268852710724\n",
            "Shift: 0.04954398674964905\n",
            "Current State: 484    0.315777\n",
            "Name: f, dtype: float64 \t Current Constraint: 484    1.010295\n",
            "Name: c, dtype: float64\n"
          ]
        },
        {
          "output_type": "stream",
          "name": "stderr",
          "text": [
            "\r 51%|█████     | 357/700 [32:19<1:08:57, 12.06s/it]"
          ]
        },
        {
          "output_type": "stream",
          "name": "stdout",
          "text": [
            "Step: 358 \t Time: 1982.126315355301\n",
            "Shift: 0.04973884617686272\n",
            "Current State: 485    0.139559\n",
            "Name: f, dtype: float64 \t Current Constraint: 485    1.010536\n",
            "Name: c, dtype: float64\n"
          ]
        },
        {
          "output_type": "stream",
          "name": "stderr",
          "text": [
            "\r 51%|█████     | 358/700 [32:27<1:01:27, 10.78s/it]"
          ]
        },
        {
          "output_type": "stream",
          "name": "stdout",
          "text": [
            "Step: 359 \t Time: 1989.9189207553864\n",
            "Shift: 0.04993295401334763\n",
            "Current State: 486    0.508352\n",
            "Name: f, dtype: float64 \t Current Constraint: 486    1.010496\n",
            "Name: c, dtype: float64\n"
          ]
        },
        {
          "output_type": "stream",
          "name": "stderr",
          "text": [
            "\r 51%|█████▏    | 359/700 [32:35<56:08,  9.88s/it]  "
          ]
        },
        {
          "output_type": "stream",
          "name": "stdout",
          "text": [
            "Step: 360 \t Time: 1997.689819097519\n",
            "Shift: 0.05023856834173203\n",
            "Current State: 487    0.750663\n",
            "Name: f, dtype: float64 \t Current Constraint: 487    1.009367\n",
            "Name: c, dtype: float64\n"
          ]
        },
        {
          "output_type": "stream",
          "name": "stderr",
          "text": [
            "\r 51%|█████▏    | 360/700 [32:47<59:58, 10.58s/it]"
          ]
        },
        {
          "output_type": "stream",
          "name": "stdout",
          "text": [
            "Step: 361 \t Time: 2009.9201889038086\n",
            "Shift: 0.050457950490713124\n",
            "Current State: 488    0.19832\n",
            "Name: f, dtype: float64 \t Current Constraint: 488    1.010759\n",
            "Name: c, dtype: float64\n"
          ]
        },
        {
          "output_type": "stream",
          "name": "stderr",
          "text": [
            "\r 52%|█████▏    | 361/700 [32:56<57:02, 10.09s/it]"
          ]
        },
        {
          "output_type": "stream",
          "name": "stdout",
          "text": [
            "Step: 362 \t Time: 2018.8723046779633\n",
            "Shift: 0.05073942001461983\n",
            "Current State: 489    0.300349\n",
            "Name: f, dtype: float64 \t Current Constraint: 489    1.01084\n",
            "Name: c, dtype: float64\n"
          ]
        },
        {
          "output_type": "stream",
          "name": "stderr",
          "text": [
            "\r 52%|█████▏    | 362/700 [33:07<58:40, 10.42s/it]"
          ]
        },
        {
          "output_type": "stream",
          "name": "stdout",
          "text": [
            "Step: 363 \t Time: 2030.041488647461\n",
            "Shift: 0.051015096771717075\n",
            "Current State: 490    0.426257\n",
            "Name: f, dtype: float64 \t Current Constraint: 490    1.010985\n",
            "Name: c, dtype: float64\n"
          ]
        },
        {
          "output_type": "stream",
          "name": "stderr",
          "text": [
            "\r 52%|█████▏    | 363/700 [33:18<59:24, 10.58s/it]"
          ]
        },
        {
          "output_type": "stream",
          "name": "stdout",
          "text": [
            "Step: 364 \t Time: 2040.9965326786041\n",
            "Shift: 0.05119298670887947\n",
            "Current State: 491    2.390469\n",
            "Name: f, dtype: float64 \t Current Constraint: 491    1.009322\n",
            "Name: c, dtype: float64\n"
          ]
        },
        {
          "output_type": "stream",
          "name": "stderr",
          "text": [
            "\r 52%|█████▏    | 364/700 [33:25<53:23,  9.54s/it]"
          ]
        },
        {
          "output_type": "stream",
          "name": "stdout",
          "text": [
            "Step: 365 \t Time: 2048.098315000534\n",
            "Shift: 0.051223121416568755\n",
            "Current State: 492    28.298405\n",
            "Name: f, dtype: float64 \t Current Constraint: 492    1.0119\n",
            "Name: c, dtype: float64\n"
          ]
        },
        {
          "output_type": "stream",
          "name": "stderr",
          "text": [
            "\r 52%|█████▏    | 365/700 [33:27<39:18,  7.04s/it]"
          ]
        },
        {
          "output_type": "stream",
          "name": "stdout",
          "text": [
            "Step: 366 \t Time: 2049.3152873516083\n",
            "Shift: 0.051426454120874404\n",
            "Current State: 493    0.132782\n",
            "Name: f, dtype: float64 \t Current Constraint: 493    1.011544\n",
            "Name: c, dtype: float64\n"
          ]
        },
        {
          "output_type": "stream",
          "name": "stderr",
          "text": [
            "\r 52%|█████▏    | 366/700 [33:35<41:21,  7.43s/it]"
          ]
        },
        {
          "output_type": "stream",
          "name": "stdout",
          "text": [
            "Step: 367 \t Time: 2057.6545486450195\n",
            "Shift: 0.051842537844181066\n",
            "Current State: 494    0.191584\n",
            "Name: f, dtype: float64 \t Current Constraint: 494    1.011715\n",
            "Name: c, dtype: float64\n"
          ]
        },
        {
          "output_type": "stream",
          "name": "stderr",
          "text": [
            "\r 52%|█████▏    | 367/700 [33:51<56:15, 10.14s/it]"
          ]
        },
        {
          "output_type": "stream",
          "name": "stdout",
          "text": [
            "Step: 368 \t Time: 2074.110615491867\n",
            "Shift: 0.05188549114465714\n",
            "Current State: 495    0.215804\n",
            "Name: f, dtype: float64 \t Current Constraint: 495    1.011419\n",
            "Name: c, dtype: float64\n"
          ]
        },
        {
          "output_type": "stream",
          "name": "stderr",
          "text": [
            "\r 53%|█████▎    | 368/700 [33:53<42:04,  7.60s/it]"
          ]
        },
        {
          "output_type": "stream",
          "name": "stdout",
          "text": [
            "Step: 369 \t Time: 2075.8021631240845\n",
            "Shift: 0.05196741116642952\n",
            "Current State: 496    0.109429\n",
            "Name: f, dtype: float64 \t Current Constraint: 496    1.010195\n",
            "Name: c, dtype: float64\n"
          ]
        },
        {
          "output_type": "stream",
          "name": "stderr",
          "text": [
            "\r 53%|█████▎    | 369/700 [33:56<34:47,  6.31s/it]"
          ]
        },
        {
          "output_type": "stream",
          "name": "stdout",
          "text": [
            "Step: 370 \t Time: 2079.084424972534\n",
            "Shift: 0.0520137620151043\n",
            "Current State: 497    0.19426\n",
            "Name: f, dtype: float64 \t Current Constraint: 497    1.011141\n",
            "Name: c, dtype: float64\n"
          ]
        },
        {
          "output_type": "stream",
          "name": "stderr",
          "text": [
            "\r 53%|█████▎    | 370/700 [33:58<27:19,  4.97s/it]"
          ]
        },
        {
          "output_type": "stream",
          "name": "stdout",
          "text": [
            "Step: 371 \t Time: 2080.9243519306183\n",
            "Shift: 0.05206790786981583\n",
            "Current State: 498    0.138747\n",
            "Name: f, dtype: float64 \t Current Constraint: 498    1.010875\n",
            "Name: c, dtype: float64\n"
          ]
        },
        {
          "output_type": "stream",
          "name": "stderr",
          "text": [
            "\r 53%|█████▎    | 371/700 [34:00<22:56,  4.18s/it]"
          ]
        },
        {
          "output_type": "stream",
          "name": "stdout",
          "text": [
            "Step: 372 \t Time: 2083.27623462677\n",
            "Shift: 0.052119310396909715\n",
            "Current State: 499    0.15192\n",
            "Name: f, dtype: float64 \t Current Constraint: 499    1.011962\n",
            "Name: c, dtype: float64\n"
          ]
        },
        {
          "output_type": "stream",
          "name": "stderr",
          "text": [
            "\r 53%|█████▎    | 372/700 [34:02<19:05,  3.49s/it]"
          ]
        },
        {
          "output_type": "stream",
          "name": "stdout",
          "text": [
            "Step: 373 \t Time: 2085.157872200012\n",
            "Shift: 0.05220576645731926\n",
            "Current State: 500    0.281134\n",
            "Name: f, dtype: float64 \t Current Constraint: 500    1.011075\n",
            "Name: c, dtype: float64\n"
          ]
        },
        {
          "output_type": "stream",
          "name": "stderr",
          "text": [
            "\r 53%|█████▎    | 373/700 [34:06<19:00,  3.49s/it]"
          ]
        },
        {
          "output_type": "stream",
          "name": "stdout",
          "text": [
            "Step: 374 \t Time: 2088.6340448856354\n",
            "Shift: 0.05224674044251442\n",
            "Current State: 501    0.077742\n",
            "Name: f, dtype: float64 \t Current Constraint: 501    1.010441\n",
            "Name: c, dtype: float64\n"
          ]
        },
        {
          "output_type": "stream",
          "name": "stderr",
          "text": [
            "\r 53%|█████▎    | 374/700 [34:07<15:53,  2.92s/it]"
          ]
        },
        {
          "output_type": "stream",
          "name": "stdout",
          "text": [
            "Step: 375 \t Time: 2090.241004705429\n",
            "Shift: 0.052301364392042166\n",
            "Current State: 502    0.104491\n",
            "Name: f, dtype: float64 \t Current Constraint: 502    1.010183\n",
            "Name: c, dtype: float64\n"
          ]
        },
        {
          "output_type": "stream",
          "name": "stderr",
          "text": [
            "\r 54%|█████▎    | 375/700 [34:10<14:38,  2.70s/it]"
          ]
        },
        {
          "output_type": "stream",
          "name": "stdout",
          "text": [
            "Step: 376 \t Time: 2092.430566072464\n",
            "Shift: 0.052503110969066624\n",
            "Current State: 503    0.103321\n",
            "Name: f, dtype: float64 \t Current Constraint: 503    1.011433\n",
            "Name: c, dtype: float64\n"
          ]
        },
        {
          "output_type": "stream",
          "name": "stderr",
          "text": [
            "\r 54%|█████▎    | 376/700 [34:18<23:17,  4.31s/it]"
          ]
        },
        {
          "output_type": "stream",
          "name": "stdout",
          "text": [
            "Step: 377 \t Time: 2100.502425670624\n",
            "Shift: 0.052622349929809575\n",
            "Current State: 504    0.040329\n",
            "Name: f, dtype: float64 \t Current Constraint: 504    1.011084\n",
            "Name: c, dtype: float64\n"
          ]
        },
        {
          "output_type": "stream",
          "name": "stderr",
          "text": [
            "\r 54%|█████▍    | 377/700 [34:23<23:58,  4.45s/it]"
          ]
        },
        {
          "output_type": "stream",
          "name": "stdout",
          "text": [
            "Step: 378 \t Time: 2105.2863852977753\n",
            "Shift: 0.05270533369779587\n",
            "Current State: 505    0.198553\n",
            "Name: f, dtype: float64 \t Current Constraint: 505    1.010413\n",
            "Name: c, dtype: float64\n"
          ]
        },
        {
          "output_type": "stream",
          "name": "stderr",
          "text": [
            "\r 54%|█████▍    | 378/700 [34:26<22:20,  4.16s/it]"
          ]
        },
        {
          "output_type": "stream",
          "name": "stdout",
          "text": [
            "Step: 379 \t Time: 2108.769690513611\n",
            "Shift: 0.05282830702066422\n",
            "Current State: 506    0.12189\n",
            "Name: f, dtype: float64 \t Current Constraint: 506    1.010283\n",
            "Name: c, dtype: float64\n"
          ]
        },
        {
          "output_type": "stream",
          "name": "stderr",
          "text": [
            "\r 54%|█████▍    | 379/700 [34:31<23:11,  4.33s/it]"
          ]
        },
        {
          "output_type": "stream",
          "name": "stdout",
          "text": [
            "Step: 380 \t Time: 2113.5029640197754\n",
            "Shift: 0.05287638406157494\n",
            "Current State: 507    0.146449\n",
            "Name: f, dtype: float64 \t Current Constraint: 507    1.009911\n",
            "Name: c, dtype: float64\n"
          ]
        },
        {
          "output_type": "stream",
          "name": "stderr",
          "text": [
            "\r 54%|█████▍    | 380/700 [34:33<19:17,  3.62s/it]"
          ]
        },
        {
          "output_type": "stream",
          "name": "stdout",
          "text": [
            "Step: 381 \t Time: 2115.443216085434\n",
            "Shift: 0.052959892064332964\n",
            "Current State: 508    0.036861\n",
            "Name: f, dtype: float64 \t Current Constraint: 508    1.009815\n",
            "Name: c, dtype: float64\n"
          ]
        },
        {
          "output_type": "stream",
          "name": "stderr",
          "text": [
            "\r 54%|█████▍    | 381/700 [34:36<18:46,  3.53s/it]"
          ]
        },
        {
          "output_type": "stream",
          "name": "stdout",
          "text": [
            "Step: 382 \t Time: 2118.779505252838\n",
            "Shift: 0.053006143307685855\n",
            "Current State: 509    0.048123\n",
            "Name: f, dtype: float64 \t Current Constraint: 509    1.009676\n",
            "Name: c, dtype: float64\n"
          ]
        },
        {
          "output_type": "stream",
          "name": "stderr",
          "text": [
            "\r 55%|█████▍    | 382/700 [34:38<16:13,  3.06s/it]"
          ]
        },
        {
          "output_type": "stream",
          "name": "stdout",
          "text": [
            "Step: 383 \t Time: 2120.743506193161\n",
            "Shift: 0.053261364233493806\n",
            "Current State: 510    0.048774\n",
            "Name: f, dtype: float64 \t Current Constraint: 510    1.010109\n",
            "Name: c, dtype: float64\n"
          ]
        },
        {
          "output_type": "stream",
          "name": "stderr",
          "text": [
            "\r 55%|█████▍    | 383/700 [34:48<27:18,  5.17s/it]"
          ]
        },
        {
          "output_type": "stream",
          "name": "stdout",
          "text": [
            "Step: 384 \t Time: 2130.828031539917\n",
            "Shift: 0.05330573952198029\n",
            "Current State: 511    1.226573\n",
            "Name: f, dtype: float64 \t Current Constraint: 511    1.008918\n",
            "Name: c, dtype: float64\n"
          ]
        },
        {
          "output_type": "stream",
          "name": "stderr",
          "text": [
            "\r 55%|█████▍    | 384/700 [34:50<21:51,  4.15s/it]"
          ]
        },
        {
          "output_type": "stream",
          "name": "stdout",
          "text": [
            "Step: 385 \t Time: 2132.600336790085\n",
            "Shift: 0.05351081556677818\n",
            "Current State: 512    0.057882\n",
            "Name: f, dtype: float64 \t Current Constraint: 512    1.010962\n",
            "Name: c, dtype: float64\n"
          ]
        },
        {
          "output_type": "stream",
          "name": "stderr",
          "text": [
            "\r 55%|█████▌    | 385/700 [34:58<28:10,  5.37s/it]"
          ]
        },
        {
          "output_type": "stream",
          "name": "stdout",
          "text": [
            "Step: 386 \t Time: 2140.8015580177307\n",
            "Shift: 0.053557950896024706\n",
            "Current State: 513    0.084146\n",
            "Name: f, dtype: float64 \t Current Constraint: 513    1.010739\n",
            "Name: c, dtype: float64\n"
          ]
        },
        {
          "output_type": "stream",
          "name": "stderr",
          "text": [
            "\r 55%|█████▌    | 386/700 [35:00<22:38,  4.33s/it]"
          ]
        },
        {
          "output_type": "stream",
          "name": "stdout",
          "text": [
            "Step: 387 \t Time: 2142.703996181488\n",
            "Shift: 0.05376907574534417\n",
            "Current State: 514    0.10373\n",
            "Name: f, dtype: float64 \t Current Constraint: 514    1.011553\n",
            "Name: c, dtype: float64\n"
          ]
        },
        {
          "output_type": "stream",
          "name": "stderr",
          "text": [
            "\r 55%|█████▌    | 387/700 [35:08<29:01,  5.56s/it]"
          ]
        },
        {
          "output_type": "stream",
          "name": "stdout",
          "text": [
            "Step: 388 \t Time: 2151.150286912918\n",
            "Shift: 0.05398927848339081\n",
            "Current State: 515    0.31231\n",
            "Name: f, dtype: float64 \t Current Constraint: 515    1.010676\n",
            "Name: c, dtype: float64\n"
          ]
        },
        {
          "output_type": "stream",
          "name": "stderr",
          "text": [
            "\r 55%|█████▌    | 388/700 [35:17<34:19,  6.60s/it]"
          ]
        },
        {
          "output_type": "stream",
          "name": "stdout",
          "text": [
            "Step: 389 \t Time: 2160.1714963912964\n",
            "Shift: 0.05419464857578278\n",
            "Current State: 516    0.106505\n",
            "Name: f, dtype: float64 \t Current Constraint: 516    1.009871\n",
            "Name: c, dtype: float64\n"
          ]
        },
        {
          "output_type": "stream",
          "name": "stderr",
          "text": [
            "\r 56%|█████▌    | 389/700 [35:25<36:22,  7.02s/it]"
          ]
        },
        {
          "output_type": "stream",
          "name": "stdout",
          "text": [
            "Step: 390 \t Time: 2168.162882089615\n",
            "Shift: 0.05433479543924332\n",
            "Current State: 517    0.115508\n",
            "Name: f, dtype: float64 \t Current Constraint: 517    1.009323\n",
            "Name: c, dtype: float64\n"
          ]
        },
        {
          "output_type": "stream",
          "name": "stderr",
          "text": [
            "\r 56%|█████▌    | 390/700 [35:31<34:19,  6.64s/it]"
          ]
        },
        {
          "output_type": "stream",
          "name": "stdout",
          "text": [
            "Step: 391 \t Time: 2173.9292075634003\n",
            "Shift: 0.0543873648583889\n",
            "Current State: 518    0.091891\n",
            "Name: f, dtype: float64 \t Current Constraint: 518    1.012541\n",
            "Name: c, dtype: float64\n"
          ]
        },
        {
          "output_type": "stream",
          "name": "stderr",
          "text": [
            "\r 56%|█████▌    | 391/700 [35:33<26:57,  5.24s/it]"
          ]
        },
        {
          "output_type": "stream",
          "name": "stdout",
          "text": [
            "Step: 392 \t Time: 2175.8845472335815\n",
            "Shift: 0.05443298676609993\n",
            "Current State: 519    0.024274\n",
            "Name: f, dtype: float64 \t Current Constraint: 519    1.009604\n",
            "Name: c, dtype: float64\n"
          ]
        },
        {
          "output_type": "stream",
          "name": "stderr",
          "text": [
            "\r 56%|█████▌    | 392/700 [35:35<21:36,  4.21s/it]"
          ]
        },
        {
          "output_type": "stream",
          "name": "stdout",
          "text": [
            "Step: 393 \t Time: 2177.6950550079346\n",
            "Shift: 0.05461652159690857\n",
            "Current State: 520    0.600796\n",
            "Name: f, dtype: float64 \t Current Constraint: 520    1.011827\n",
            "Name: c, dtype: float64\n"
          ]
        },
        {
          "output_type": "stream",
          "name": "stderr",
          "text": [
            "\r 56%|█████▌    | 393/700 [35:42<26:37,  5.20s/it]"
          ]
        },
        {
          "output_type": "stream",
          "name": "stdout",
          "text": [
            "Step: 394 \t Time: 2185.222488641739\n",
            "Shift: 0.05492383159995079\n",
            "Current State: 521    1.190253\n",
            "Name: f, dtype: float64 \t Current Constraint: 521    1.01063\n",
            "Name: c, dtype: float64\n"
          ]
        },
        {
          "output_type": "stream",
          "name": "stderr",
          "text": [
            "\r 56%|█████▋    | 394/700 [35:55<37:06,  7.28s/it]"
          ]
        },
        {
          "output_type": "stream",
          "name": "stdout",
          "text": [
            "Step: 395 \t Time: 2197.3321676254272\n",
            "Shift: 0.05524651867747307\n",
            "Current State: 522    2.841669\n",
            "Name: f, dtype: float64 \t Current Constraint: 522    1.010379\n",
            "Name: c, dtype: float64\n"
          ]
        },
        {
          "output_type": "stream",
          "name": "stderr",
          "text": [
            "\r 56%|█████▋    | 395/700 [36:07<45:34,  8.97s/it]"
          ]
        },
        {
          "output_type": "stream",
          "name": "stdout",
          "text": [
            "Step: 396 \t Time: 2210.242299556732\n",
            "Shift: 0.05550640969276428\n",
            "Current State: 523    2.133151\n",
            "Name: f, dtype: float64 \t Current Constraint: 523    1.012414\n",
            "Name: c, dtype: float64\n"
          ]
        },
        {
          "output_type": "stream",
          "name": "stderr",
          "text": [
            "\r 57%|█████▋    | 396/700 [36:18<47:36,  9.39s/it]"
          ]
        },
        {
          "output_type": "stream",
          "name": "stdout",
          "text": [
            "Step: 397 \t Time: 2220.637889146805\n",
            "Shift: 0.05559544363617897\n",
            "Current State: 524    0.049131\n",
            "Name: f, dtype: float64 \t Current Constraint: 524    1.01069\n",
            "Name: c, dtype: float64\n"
          ]
        },
        {
          "output_type": "stream",
          "name": "stderr",
          "text": [
            "\r 57%|█████▋    | 397/700 [36:22<38:52,  7.70s/it]"
          ]
        },
        {
          "output_type": "stream",
          "name": "stdout",
          "text": [
            "Step: 398 \t Time: 2224.377368927002\n",
            "Shift: 0.05567484290599823\n",
            "Current State: 525    0.208248\n",
            "Name: f, dtype: float64 \t Current Constraint: 525    1.010706\n",
            "Name: c, dtype: float64\n"
          ]
        },
        {
          "output_type": "stream",
          "name": "stderr",
          "text": [
            "\r 57%|█████▋    | 398/700 [36:25<31:38,  6.29s/it]"
          ]
        },
        {
          "output_type": "stream",
          "name": "stdout",
          "text": [
            "Step: 399 \t Time: 2227.369606733322\n",
            "Shift: 0.05589183702468872\n",
            "Current State: 526    0.02218\n",
            "Name: f, dtype: float64 \t Current Constraint: 526    1.009532\n",
            "Name: c, dtype: float64\n"
          ]
        },
        {
          "output_type": "stream",
          "name": "stderr",
          "text": [
            "\r 57%|█████▋    | 399/700 [36:33<35:09,  7.01s/it]"
          ]
        },
        {
          "output_type": "stream",
          "name": "stdout",
          "text": [
            "Step: 400 \t Time: 2236.0609254837036\n",
            "Shift: 0.056183496922254564\n",
            "Current State: 527    0.519942\n",
            "Name: f, dtype: float64 \t Current Constraint: 527    1.010868\n",
            "Name: c, dtype: float64\n"
          ]
        },
        {
          "output_type": "stream",
          "name": "stderr",
          "text": [
            "\r 57%|█████▋    | 400/700 [36:45<42:01,  8.40s/it]"
          ]
        },
        {
          "output_type": "stream",
          "name": "stdout",
          "text": [
            "Step: 401 \t Time: 2247.7214415073395\n",
            "Shift: 0.05644829607009888\n",
            "Current State: 528    0.318514\n",
            "Name: f, dtype: float64 \t Current Constraint: 528    1.009626\n",
            "Name: c, dtype: float64\n"
          ]
        },
        {
          "output_type": "stream",
          "name": "stderr",
          "text": [
            "\r 57%|█████▋    | 401/700 [36:56<45:08,  9.06s/it]"
          ]
        },
        {
          "output_type": "stream",
          "name": "stdout",
          "text": [
            "Step: 402 \t Time: 2258.306926727295\n",
            "Shift: 0.05647876743078232\n",
            "Current State: 529    28.534756\n",
            "Name: f, dtype: float64 \t Current Constraint: 529    0.985815\n",
            "Name: c, dtype: float64\n"
          ]
        },
        {
          "output_type": "stream",
          "name": "stderr",
          "text": [
            "\r 57%|█████▋    | 402/700 [36:57<33:18,  6.70s/it]"
          ]
        },
        {
          "output_type": "stream",
          "name": "stdout",
          "text": [
            "Step: 403 \t Time: 2259.520923614502\n",
            "Shift: 0.05671364014148712\n",
            "Current State: 530    0.282038\n",
            "Name: f, dtype: float64 \t Current Constraint: 530    1.01122\n",
            "Name: c, dtype: float64\n"
          ]
        },
        {
          "output_type": "stream",
          "name": "stderr",
          "text": [
            "\r 58%|█████▊    | 403/700 [37:06<37:10,  7.51s/it]"
          ]
        },
        {
          "output_type": "stream",
          "name": "stdout",
          "text": [
            "Step: 404 \t Time: 2268.907804250717\n",
            "Shift: 0.05696981793642044\n",
            "Current State: 531    0.838028\n",
            "Name: f, dtype: float64 \t Current Constraint: 531    1.011394\n",
            "Name: c, dtype: float64\n"
          ]
        },
        {
          "output_type": "stream",
          "name": "stderr",
          "text": [
            "\r 58%|█████▊    | 404/700 [37:16<41:07,  8.33s/it]"
          ]
        },
        {
          "output_type": "stream",
          "name": "stdout",
          "text": [
            "Step: 405 \t Time: 2279.1680331230164\n",
            "Shift: 0.05701879725456238\n",
            "Current State: 532    0.448583\n",
            "Name: f, dtype: float64 \t Current Constraint: 532    1.010584\n",
            "Name: c, dtype: float64\n"
          ]
        },
        {
          "output_type": "stream",
          "name": "stderr",
          "text": [
            "\r 58%|█████▊    | 405/700 [37:18<31:35,  6.42s/it]"
          ]
        },
        {
          "output_type": "stream",
          "name": "stdout",
          "text": [
            "Step: 406 \t Time: 2281.1343252658844\n",
            "Shift: 0.057064258891344075\n",
            "Current State: 533    0.405996\n",
            "Name: f, dtype: float64 \t Current Constraint: 533    1.011545\n",
            "Name: c, dtype: float64\n"
          ]
        },
        {
          "output_type": "stream",
          "name": "stderr",
          "text": [
            "\r 58%|█████▊    | 406/700 [37:20<24:42,  5.04s/it]"
          ]
        },
        {
          "output_type": "stream",
          "name": "stdout",
          "text": [
            "Step: 407 \t Time: 2282.9536395072937\n",
            "Shift: 0.0572526518046856\n",
            "Current State: 534    0.32035\n",
            "Name: f, dtype: float64 \t Current Constraint: 534    1.011631\n",
            "Name: c, dtype: float64\n"
          ]
        },
        {
          "output_type": "stream",
          "name": "stderr",
          "text": [
            "\r 58%|█████▊    | 407/700 [37:28<28:26,  5.82s/it]"
          ]
        },
        {
          "output_type": "stream",
          "name": "stdout",
          "text": [
            "Step: 408 \t Time: 2290.5990245342255\n",
            "Shift: 0.05731922074556351\n",
            "Current State: 535    0.272219\n",
            "Name: f, dtype: float64 \t Current Constraint: 535    1.009859\n",
            "Name: c, dtype: float64\n"
          ]
        },
        {
          "output_type": "stream",
          "name": "stderr",
          "text": [
            "\r 58%|█████▊    | 408/700 [37:30<23:33,  4.84s/it]"
          ]
        },
        {
          "output_type": "stream",
          "name": "stdout",
          "text": [
            "Step: 409 \t Time: 2293.1512608528137\n",
            "Shift: 0.057458623307943345\n",
            "Current State: 536    0.149835\n",
            "Name: f, dtype: float64 \t Current Constraint: 536    1.011273\n",
            "Name: c, dtype: float64\n"
          ]
        },
        {
          "output_type": "stream",
          "name": "stderr",
          "text": [
            "\r 58%|█████▊    | 409/700 [37:36<24:32,  5.06s/it]"
          ]
        },
        {
          "output_type": "stream",
          "name": "stdout",
          "text": [
            "Step: 410 \t Time: 2298.720057249069\n",
            "Shift: 0.05767442074418068\n",
            "Current State: 537    0.091401\n",
            "Name: f, dtype: float64 \t Current Constraint: 537    1.010627\n",
            "Name: c, dtype: float64\n"
          ]
        },
        {
          "output_type": "stream",
          "name": "stderr",
          "text": [
            "\r 59%|█████▊    | 410/700 [37:45<29:40,  6.14s/it]"
          ]
        },
        {
          "output_type": "stream",
          "name": "stdout",
          "text": [
            "Step: 411 \t Time: 2307.37473654747\n",
            "Shift: 0.05771738874912262\n",
            "Current State: 538    0.228266\n",
            "Name: f, dtype: float64 \t Current Constraint: 538    1.0118\n",
            "Name: c, dtype: float64\n"
          ]
        },
        {
          "output_type": "stream",
          "name": "stderr",
          "text": [
            "\r 59%|█████▊    | 411/700 [37:46<23:09,  4.81s/it]"
          ]
        },
        {
          "output_type": "stream",
          "name": "stdout",
          "text": [
            "Step: 412 \t Time: 2309.0754952430725\n",
            "Shift: 0.05776309779286385\n",
            "Current State: 539    0.181061\n",
            "Name: f, dtype: float64 \t Current Constraint: 539    1.011228\n",
            "Name: c, dtype: float64\n"
          ]
        },
        {
          "output_type": "stream",
          "name": "stderr",
          "text": [
            "\r 59%|█████▉    | 412/700 [37:48<18:48,  3.92s/it]"
          ]
        },
        {
          "output_type": "stream",
          "name": "stdout",
          "text": [
            "Step: 413 \t Time: 2310.924032688141\n",
            "Shift: 0.05782079972624779\n",
            "Current State: 540    0.12118\n",
            "Name: f, dtype: float64 \t Current Constraint: 540    1.011862\n",
            "Name: c, dtype: float64\n"
          ]
        },
        {
          "output_type": "stream",
          "name": "stderr",
          "text": [
            "\r 59%|█████▉    | 413/700 [37:50<16:24,  3.43s/it]"
          ]
        },
        {
          "output_type": "stream",
          "name": "stdout",
          "text": [
            "Step: 414 \t Time: 2313.207404613495\n",
            "Shift: 0.05810182043313981\n",
            "Current State: 541    0.093434\n",
            "Name: f, dtype: float64 \t Current Constraint: 541    1.011949\n",
            "Name: c, dtype: float64\n"
          ]
        },
        {
          "output_type": "stream",
          "name": "stderr",
          "text": [
            "\r 59%|█████▉    | 414/700 [38:02<27:32,  5.78s/it]"
          ]
        },
        {
          "output_type": "stream",
          "name": "stdout",
          "text": [
            "Step: 415 \t Time: 2324.4700627326965\n",
            "Shift: 0.058285719710588456\n",
            "Current State: 542    0.189908\n",
            "Name: f, dtype: float64 \t Current Constraint: 542    1.01046\n",
            "Name: c, dtype: float64\n"
          ]
        },
        {
          "output_type": "stream",
          "name": "stderr",
          "text": [
            "\r 59%|█████▉    | 415/700 [38:09<29:40,  6.25s/it]"
          ]
        },
        {
          "output_type": "stream",
          "name": "stdout",
          "text": [
            "Step: 416 \t Time: 2331.8130583763123\n",
            "Shift: 0.05832732056975365\n",
            "Current State: 543    0.005987\n",
            "Name: f, dtype: float64 \t Current Constraint: 543    1.010036\n",
            "Name: c, dtype: float64\n"
          ]
        },
        {
          "output_type": "stream",
          "name": "stderr",
          "text": [
            "\r 59%|█████▉    | 416/700 [38:11<23:02,  4.87s/it]"
          ]
        },
        {
          "output_type": "stream",
          "name": "stdout",
          "text": [
            "Step: 417 \t Time: 2333.4653086662292\n",
            "Shift: 0.05845081275701523\n",
            "Current State: 544    0.482642\n",
            "Name: f, dtype: float64 \t Current Constraint: 544    1.010492\n",
            "Name: c, dtype: float64\n"
          ]
        },
        {
          "output_type": "stream",
          "name": "stderr",
          "text": [
            "\r 60%|█████▉    | 417/700 [38:16<23:05,  4.90s/it]"
          ]
        },
        {
          "output_type": "stream",
          "name": "stdout",
          "text": [
            "Step: 418 \t Time: 2338.426397562027\n",
            "Shift: 0.05858075476288796\n",
            "Current State: 545    0.501707\n",
            "Name: f, dtype: float64 \t Current Constraint: 545    1.010272\n",
            "Name: c, dtype: float64\n"
          ]
        },
        {
          "output_type": "stream",
          "name": "stderr",
          "text": [
            "\r 60%|█████▉    | 418/700 [38:21<23:24,  4.98s/it]"
          ]
        },
        {
          "output_type": "stream",
          "name": "stdout",
          "text": [
            "Step: 419 \t Time: 2343.599538564682\n",
            "Shift: 0.05880245183706284\n",
            "Current State: 546    2.320785\n",
            "Name: f, dtype: float64 \t Current Constraint: 546    1.009313\n",
            "Name: c, dtype: float64\n"
          ]
        },
        {
          "output_type": "stream",
          "name": "stderr",
          "text": [
            "\r 60%|█████▉    | 419/700 [38:30<28:51,  6.16s/it]"
          ]
        },
        {
          "output_type": "stream",
          "name": "stdout",
          "text": [
            "Step: 420 \t Time: 2352.5258684158325\n",
            "Shift: 0.058995618355274206\n",
            "Current State: 547    0.311951\n",
            "Name: f, dtype: float64 \t Current Constraint: 547    1.010695\n",
            "Name: c, dtype: float64\n"
          ]
        },
        {
          "output_type": "stream",
          "name": "stderr",
          "text": [
            "\r 60%|██████    | 420/700 [38:37<30:53,  6.62s/it]"
          ]
        },
        {
          "output_type": "stream",
          "name": "stdout",
          "text": [
            "Step: 421 \t Time: 2360.213029384613\n",
            "Shift: 0.059088369989395144\n",
            "Current State: 548    0.383359\n",
            "Name: f, dtype: float64 \t Current Constraint: 548    1.010546\n",
            "Name: c, dtype: float64\n"
          ]
        },
        {
          "output_type": "stream",
          "name": "stderr",
          "text": [
            "\r 60%|██████    | 421/700 [38:41<26:42,  5.75s/it]"
          ]
        },
        {
          "output_type": "stream",
          "name": "stdout",
          "text": [
            "Step: 422 \t Time: 2363.9150636196136\n",
            "Shift: 0.05924864825606346\n",
            "Current State: 549    0.101276\n",
            "Name: f, dtype: float64 \t Current Constraint: 549    1.011882\n",
            "Name: c, dtype: float64\n"
          ]
        },
        {
          "output_type": "stream",
          "name": "stderr",
          "text": [
            "\r 60%|██████    | 422/700 [38:48<27:32,  5.95s/it]"
          ]
        },
        {
          "output_type": "stream",
          "name": "stdout",
          "text": [
            "Step: 423 \t Time: 2370.327897310257\n",
            "Shift: 0.05970117983222008\n",
            "Current State: 550    0.545458\n",
            "Name: f, dtype: float64 \t Current Constraint: 550    1.01227\n",
            "Name: c, dtype: float64\n"
          ]
        },
        {
          "output_type": "stream",
          "name": "stderr",
          "text": [
            "\r 60%|██████    | 423/700 [39:06<44:15,  9.59s/it]"
          ]
        },
        {
          "output_type": "stream",
          "name": "stdout",
          "text": [
            "Step: 424 \t Time: 2388.413830757141\n",
            "Shift: 0.059870177465677264\n",
            "Current State: 551    0.102169\n",
            "Name: f, dtype: float64 \t Current Constraint: 551    1.012294\n",
            "Name: c, dtype: float64\n"
          ]
        },
        {
          "output_type": "stream",
          "name": "stderr",
          "text": [
            "\r 61%|██████    | 424/700 [39:12<40:14,  8.75s/it]"
          ]
        },
        {
          "output_type": "stream",
          "name": "stdout",
          "text": [
            "Step: 425 \t Time: 2395.1978697776794\n",
            "Shift: 0.060059443807601934\n",
            "Current State: 552    0.200442\n",
            "Name: f, dtype: float64 \t Current Constraint: 552    1.013026\n",
            "Name: c, dtype: float64\n"
          ]
        },
        {
          "output_type": "stream",
          "name": "stderr",
          "text": [
            "\r 61%|██████    | 425/700 [39:20<38:26,  8.39s/it]"
          ]
        },
        {
          "output_type": "stream",
          "name": "stdout",
          "text": [
            "Step: 426 \t Time: 2402.7461352348328\n",
            "Shift: 0.06038433942198754\n",
            "Current State: 553    0.195453\n",
            "Name: f, dtype: float64 \t Current Constraint: 553    1.010966\n",
            "Name: c, dtype: float64\n"
          ]
        },
        {
          "output_type": "stream",
          "name": "stderr",
          "text": [
            "\r 61%|██████    | 426/700 [39:33<44:38,  9.78s/it]"
          ]
        },
        {
          "output_type": "stream",
          "name": "stdout",
          "text": [
            "Step: 427 \t Time: 2415.7610137462616\n",
            "Shift: 0.06064248251914978\n",
            "Current State: 554    2.563637\n",
            "Name: f, dtype: float64 \t Current Constraint: 554    1.009854\n",
            "Name: c, dtype: float64\n"
          ]
        },
        {
          "output_type": "stream",
          "name": "stderr",
          "text": [
            "\r 61%|██████    | 427/700 [39:43<45:15,  9.95s/it]"
          ]
        },
        {
          "output_type": "stream",
          "name": "stdout",
          "text": [
            "Step: 428 \t Time: 2426.10404920578\n",
            "Shift: 0.06102111448049546\n",
            "Current State: 555    0.448986\n",
            "Name: f, dtype: float64 \t Current Constraint: 555    1.011815\n",
            "Name: c, dtype: float64\n"
          ]
        },
        {
          "output_type": "stream",
          "name": "stderr",
          "text": [
            "\r 61%|██████    | 428/700 [39:58<52:07, 11.50s/it]"
          ]
        },
        {
          "output_type": "stream",
          "name": "stdout",
          "text": [
            "Step: 429 \t Time: 2441.2251346111298\n",
            "Shift: 0.06144314012527466\n",
            "Current State: 556    0.116882\n",
            "Name: f, dtype: float64 \t Current Constraint: 556    1.010724\n",
            "Name: c, dtype: float64\n"
          ]
        },
        {
          "output_type": "stream",
          "name": "stderr",
          "text": [
            "\r 61%|██████▏   | 429/700 [40:15<59:21, 13.14s/it]"
          ]
        },
        {
          "output_type": "stream",
          "name": "stdout",
          "text": [
            "Step: 430 \t Time: 2458.1983349323273\n",
            "Shift: 0.06161673520207405\n",
            "Current State: 557    0.294277\n",
            "Name: f, dtype: float64 \t Current Constraint: 557    1.01159\n",
            "Name: c, dtype: float64\n"
          ]
        },
        {
          "output_type": "stream",
          "name": "stderr",
          "text": [
            "\r 61%|██████▏   | 430/700 [40:22<50:38, 11.25s/it]"
          ]
        },
        {
          "output_type": "stream",
          "name": "stdout",
          "text": [
            "Step: 431 \t Time: 2465.0498609542847\n",
            "Shift: 0.06164331030845643\n",
            "Current State: 558    26.805378\n",
            "Name: f, dtype: float64 \t Current Constraint: 558    0.998549\n",
            "Name: c, dtype: float64\n"
          ]
        },
        {
          "output_type": "stream",
          "name": "stderr",
          "text": [
            "\r 62%|██████▏   | 431/700 [40:23<36:43,  8.19s/it]"
          ]
        },
        {
          "output_type": "stream",
          "name": "stdout",
          "text": [
            "Step: 432 \t Time: 2466.0969030857086\n",
            "Shift: 0.061937033039331436\n",
            "Current State: 559    0.091569\n",
            "Name: f, dtype: float64 \t Current Constraint: 559    1.010656\n",
            "Name: c, dtype: float64\n"
          ]
        },
        {
          "output_type": "stream",
          "name": "stderr",
          "text": [
            "\r 62%|██████▏   | 432/700 [40:35<41:21,  9.26s/it]"
          ]
        },
        {
          "output_type": "stream",
          "name": "stdout",
          "text": [
            "Step: 433 \t Time: 2477.852470397949\n",
            "Shift: 0.062224839937686925\n",
            "Current State: 560    1.115177\n",
            "Name: f, dtype: float64 \t Current Constraint: 560    1.011766\n",
            "Name: c, dtype: float64\n"
          ]
        },
        {
          "output_type": "stream",
          "name": "stderr",
          "text": [
            "\r 62%|██████▏   | 433/700 [40:47<44:13,  9.94s/it]"
          ]
        },
        {
          "output_type": "stream",
          "name": "stdout",
          "text": [
            "Step: 434 \t Time: 2489.368236541748\n",
            "Shift: 0.06245290665626526\n",
            "Current State: 561    0.37736\n",
            "Name: f, dtype: float64 \t Current Constraint: 561    1.011061\n",
            "Name: c, dtype: float64\n"
          ]
        },
        {
          "output_type": "stream",
          "name": "stderr",
          "text": [
            "\r 62%|██████▏   | 434/700 [40:56<42:58,  9.69s/it]"
          ]
        },
        {
          "output_type": "stream",
          "name": "stdout",
          "text": [
            "Step: 435 \t Time: 2498.4958481788635\n",
            "Shift: 0.06258824494481087\n",
            "Current State: 562    0.085626\n",
            "Name: f, dtype: float64 \t Current Constraint: 562    1.011091\n",
            "Name: c, dtype: float64\n"
          ]
        },
        {
          "output_type": "stream",
          "name": "stderr",
          "text": [
            "\r 62%|██████▏   | 435/700 [41:01<37:08,  8.41s/it]"
          ]
        },
        {
          "output_type": "stream",
          "name": "stdout",
          "text": [
            "Step: 436 \t Time: 2503.904098033905\n",
            "Shift: 0.06285787360072136\n",
            "Current State: 563    0.041274\n",
            "Name: f, dtype: float64 \t Current Constraint: 563    1.013056\n",
            "Name: c, dtype: float64\n"
          ]
        },
        {
          "output_type": "stream",
          "name": "stderr",
          "text": [
            "\r 62%|██████▏   | 436/700 [41:12<40:08,  9.12s/it]"
          ]
        },
        {
          "output_type": "stream",
          "name": "stdout",
          "text": [
            "Step: 437 \t Time: 2514.6969306468964\n",
            "Shift: 0.06302666015028954\n",
            "Current State: 564    0.642162\n",
            "Name: f, dtype: float64 \t Current Constraint: 564    1.013313\n",
            "Name: c, dtype: float64\n"
          ]
        },
        {
          "output_type": "stream",
          "name": "stderr",
          "text": [
            "\r 62%|██████▏   | 437/700 [41:19<37:06,  8.47s/it]"
          ]
        },
        {
          "output_type": "stream",
          "name": "stdout",
          "text": [
            "Step: 438 \t Time: 2521.6293892860413\n",
            "Shift: 0.06324372881650925\n",
            "Current State: 565    0.459991\n",
            "Name: f, dtype: float64 \t Current Constraint: 565    1.012376\n",
            "Name: c, dtype: float64\n"
          ]
        },
        {
          "output_type": "stream",
          "name": "stderr",
          "text": [
            "\r 63%|██████▎   | 438/700 [41:27<37:00,  8.48s/it]"
          ]
        },
        {
          "output_type": "stream",
          "name": "stdout",
          "text": [
            "Step: 439 \t Time: 2530.1303639411926\n",
            "Shift: 0.06353354798555375\n",
            "Current State: 566    0.171414\n",
            "Name: f, dtype: float64 \t Current Constraint: 566    1.011609\n",
            "Name: c, dtype: float64\n"
          ]
        },
        {
          "output_type": "stream",
          "name": "stderr",
          "text": [
            "\r 63%|██████▎   | 439/700 [41:39<40:56,  9.41s/it]"
          ]
        },
        {
          "output_type": "stream",
          "name": "stdout",
          "text": [
            "Step: 440 \t Time: 2541.7228903770447\n",
            "Shift: 0.06406141685843468\n",
            "Current State: 567    0.549738\n",
            "Name: f, dtype: float64 \t Current Constraint: 567    1.012889\n",
            "Name: c, dtype: float64\n"
          ]
        },
        {
          "output_type": "stream",
          "name": "stderr",
          "text": [
            "\r 63%|██████▎   | 440/700 [42:00<56:00, 12.92s/it]"
          ]
        },
        {
          "output_type": "stream",
          "name": "stdout",
          "text": [
            "Step: 441 \t Time: 2562.840503692627\n",
            "Shift: 0.06438596713542939\n",
            "Current State: 568    3.421733\n",
            "Name: f, dtype: float64 \t Current Constraint: 568    1.010359\n",
            "Name: c, dtype: float64\n"
          ]
        },
        {
          "output_type": "stream",
          "name": "stderr",
          "text": [
            "\r 63%|██████▎   | 441/700 [42:13<55:50, 12.94s/it]"
          ]
        },
        {
          "output_type": "stream",
          "name": "stdout",
          "text": [
            "Step: 442 \t Time: 2575.805057287216\n",
            "Shift: 0.06454707056879998\n",
            "Current State: 569    1.903619\n",
            "Name: f, dtype: float64 \t Current Constraint: 569    1.013998\n",
            "Name: c, dtype: float64\n"
          ]
        },
        {
          "output_type": "stream",
          "name": "stderr",
          "text": [
            "\r 63%|██████▎   | 442/700 [42:19<47:16, 10.99s/it]"
          ]
        },
        {
          "output_type": "stream",
          "name": "stdout",
          "text": [
            "Step: 443 \t Time: 2582.264723777771\n",
            "Shift: 0.06486169856786728\n",
            "Current State: 570    1.852989\n",
            "Name: f, dtype: float64 \t Current Constraint: 570    1.012275\n",
            "Name: c, dtype: float64\n"
          ]
        },
        {
          "output_type": "stream",
          "name": "stderr",
          "text": [
            "\r 63%|██████▎   | 443/700 [42:32<49:07, 11.47s/it]"
          ]
        },
        {
          "output_type": "stream",
          "name": "stdout",
          "text": [
            "Step: 444 \t Time: 2594.8409798145294\n",
            "Shift: 0.06510636580586433\n",
            "Current State: 571    0.486652\n",
            "Name: f, dtype: float64 \t Current Constraint: 571    1.014103\n",
            "Name: c, dtype: float64\n"
          ]
        },
        {
          "output_type": "stream",
          "name": "stderr",
          "text": [
            "\r 63%|██████▎   | 444/700 [42:42<46:47, 10.97s/it]"
          ]
        },
        {
          "output_type": "stream",
          "name": "stdout",
          "text": [
            "Step: 445 \t Time: 2604.6343088150024\n",
            "Shift: 0.0656139509677887\n",
            "Current State: 572    2.080262\n",
            "Name: f, dtype: float64 \t Current Constraint: 572    1.015136\n",
            "Name: c, dtype: float64\n"
          ]
        },
        {
          "output_type": "stream",
          "name": "stderr",
          "text": [
            "\r 64%|██████▎   | 445/700 [43:02<58:41, 13.81s/it]"
          ]
        },
        {
          "output_type": "stream",
          "name": "stdout",
          "text": [
            "Step: 446 \t Time: 2625.0828363895416\n",
            "Shift: 0.0658904353260994\n",
            "Current State: 573    0.363254\n",
            "Name: f, dtype: float64 \t Current Constraint: 573    1.012077\n",
            "Name: c, dtype: float64\n"
          ]
        },
        {
          "output_type": "stream",
          "name": "stderr",
          "text": [
            "\r 64%|██████▎   | 446/700 [43:13<54:57, 12.98s/it]"
          ]
        },
        {
          "output_type": "stream",
          "name": "stdout",
          "text": [
            "Step: 447 \t Time: 2636.1393599510193\n",
            "Shift: 0.06612676436901092\n",
            "Current State: 574    0.400016\n",
            "Name: f, dtype: float64 \t Current Constraint: 574    1.011225\n",
            "Name: c, dtype: float64\n"
          ]
        },
        {
          "output_type": "stream",
          "name": "stderr",
          "text": [
            "\r 64%|██████▍   | 447/700 [43:23<50:06, 11.88s/it]"
          ]
        },
        {
          "output_type": "stream",
          "name": "stdout",
          "text": [
            "Step: 448 \t Time: 2645.452703475952\n",
            "Shift: 0.06631061479449273\n",
            "Current State: 575    0.269316\n",
            "Name: f, dtype: float64 \t Current Constraint: 575    1.011836\n",
            "Name: c, dtype: float64\n"
          ]
        },
        {
          "output_type": "stream",
          "name": "stderr",
          "text": [
            "\r 64%|██████▍   | 448/700 [43:30<44:13, 10.53s/it]"
          ]
        },
        {
          "output_type": "stream",
          "name": "stdout",
          "text": [
            "Step: 449 \t Time: 2652.8268485069275\n",
            "Shift: 0.06658708008527756\n",
            "Current State: 576    0.200012\n",
            "Name: f, dtype: float64 \t Current Constraint: 576    1.011545\n",
            "Name: c, dtype: float64\n"
          ]
        },
        {
          "output_type": "stream",
          "name": "stderr",
          "text": [
            "\r 64%|██████▍   | 449/700 [43:41<44:53, 10.73s/it]"
          ]
        },
        {
          "output_type": "stream",
          "name": "stdout",
          "text": [
            "Step: 450 \t Time: 2664.031373023987\n",
            "Shift: 0.06678488074541092\n",
            "Current State: 577    0.156815\n",
            "Name: f, dtype: float64 \t Current Constraint: 577    1.012186\n",
            "Name: c, dtype: float64\n"
          ]
        },
        {
          "output_type": "stream",
          "name": "stderr",
          "text": [
            "\r 64%|██████▍   | 450/700 [43:49<40:58,  9.84s/it]"
          ]
        },
        {
          "output_type": "stream",
          "name": "stdout",
          "text": [
            "Step: 451 \t Time: 2671.772834300995\n",
            "Shift: 0.06681476191878319\n",
            "Current State: 578    25.69532\n",
            "Name: f, dtype: float64 \t Current Constraint: 578    1.016525\n",
            "Name: c, dtype: float64\n"
          ]
        },
        {
          "output_type": "stream",
          "name": "stderr",
          "text": [
            "\r 64%|██████▍   | 451/700 [43:50<30:03,  7.24s/it]"
          ]
        },
        {
          "output_type": "stream",
          "name": "stdout",
          "text": [
            "Step: 452 \t Time: 2672.9705154895782\n",
            "Shift: 0.06705413519740105\n",
            "Current State: 579    0.346662\n",
            "Name: f, dtype: float64 \t Current Constraint: 579    1.011836\n",
            "Name: c, dtype: float64\n"
          ]
        },
        {
          "output_type": "stream",
          "name": "stderr",
          "text": [
            "\r 65%|██████▍   | 452/700 [44:00<32:49,  7.94s/it]"
          ]
        },
        {
          "output_type": "stream",
          "name": "stdout",
          "text": [
            "Step: 453 \t Time: 2682.53843665123\n",
            "Shift: 0.06731614481806755\n",
            "Current State: 580    0.152916\n",
            "Name: f, dtype: float64 \t Current Constraint: 580    1.012974\n",
            "Name: c, dtype: float64\n"
          ]
        },
        {
          "output_type": "stream",
          "name": "stderr",
          "text": [
            "\r 65%|██████▍   | 453/700 [44:10<35:49,  8.70s/it]"
          ]
        },
        {
          "output_type": "stream",
          "name": "stdout",
          "text": [
            "Step: 454 \t Time: 2693.0195565223694\n",
            "Shift: 0.06756659092903138\n",
            "Current State: 581    0.194605\n",
            "Name: f, dtype: float64 \t Current Constraint: 581    1.01345\n",
            "Name: c, dtype: float64\n"
          ]
        },
        {
          "output_type": "stream",
          "name": "stderr",
          "text": [
            "\r 65%|██████▍   | 454/700 [44:20<37:30,  9.15s/it]"
          ]
        },
        {
          "output_type": "stream",
          "name": "stdout",
          "text": [
            "Step: 455 \t Time: 2703.204530954361\n",
            "Shift: 0.0677436556994915\n",
            "Current State: 582    0.105615\n",
            "Name: f, dtype: float64 \t Current Constraint: 582    1.012396\n",
            "Name: c, dtype: float64\n"
          ]
        },
        {
          "output_type": "stream",
          "name": "stderr",
          "text": [
            "\r 65%|██████▌   | 455/700 [44:27<34:37,  8.48s/it]"
          ]
        },
        {
          "output_type": "stream",
          "name": "stdout",
          "text": [
            "Step: 456 \t Time: 2710.1269001960754\n",
            "Shift: 0.06804467708468437\n",
            "Current State: 583    0.444746\n",
            "Name: f, dtype: float64 \t Current Constraint: 583    1.01254\n",
            "Name: c, dtype: float64\n"
          ]
        },
        {
          "output_type": "stream",
          "name": "stderr",
          "text": [
            "\r 65%|██████▌   | 456/700 [44:39<38:50,  9.55s/it]"
          ]
        },
        {
          "output_type": "stream",
          "name": "stdout",
          "text": [
            "Step: 457 \t Time: 2722.170843601227\n",
            "Shift: 0.0683170459151268\n",
            "Current State: 584    0.647277\n",
            "Name: f, dtype: float64 \t Current Constraint: 584    1.012659\n",
            "Name: c, dtype: float64\n"
          ]
        },
        {
          "output_type": "stream",
          "name": "stderr",
          "text": [
            "\r 65%|██████▌   | 457/700 [44:50<40:21,  9.96s/it]"
          ]
        },
        {
          "output_type": "stream",
          "name": "stdout",
          "text": [
            "Step: 458 \t Time: 2733.105920314789\n",
            "Shift: 0.06839225177764893\n",
            "Current State: 585    0.568627\n",
            "Name: f, dtype: float64 \t Current Constraint: 585    1.014246\n",
            "Name: c, dtype: float64\n"
          ]
        },
        {
          "output_type": "stream",
          "name": "stderr",
          "text": [
            "\r 65%|██████▌   | 458/700 [44:53<31:44,  7.87s/it]"
          ]
        },
        {
          "output_type": "stream",
          "name": "stdout",
          "text": [
            "Step: 459 \t Time: 2736.09144282341\n",
            "Shift: 0.06866307474374772\n",
            "Current State: 586    0.170494\n",
            "Name: f, dtype: float64 \t Current Constraint: 586    1.012901\n",
            "Name: c, dtype: float64\n"
          ]
        },
        {
          "output_type": "stream",
          "name": "stderr",
          "text": [
            "\r 66%|██████▌   | 459/700 [45:04<35:09,  8.75s/it]"
          ]
        },
        {
          "output_type": "stream",
          "name": "stdout",
          "text": [
            "Step: 460 \t Time: 2746.8981907367706\n",
            "Shift: 0.06887719331979753\n",
            "Current State: 587    0.5517\n",
            "Name: f, dtype: float64 \t Current Constraint: 587    1.014309\n",
            "Name: c, dtype: float64\n"
          ]
        },
        {
          "output_type": "stream",
          "name": "stderr",
          "text": [
            "\r 66%|██████▌   | 460/700 [45:13<34:47,  8.70s/it]"
          ]
        },
        {
          "output_type": "stream",
          "name": "stdout",
          "text": [
            "Step: 461 \t Time: 2755.468229532242\n",
            "Shift: 0.06918240261673927\n",
            "Current State: 588    0.401187\n",
            "Name: f, dtype: float64 \t Current Constraint: 588    1.013155\n",
            "Name: c, dtype: float64\n"
          ]
        },
        {
          "output_type": "stream",
          "name": "stderr",
          "text": [
            "\r 66%|██████▌   | 461/700 [45:25<38:54,  9.77s/it]"
          ]
        },
        {
          "output_type": "stream",
          "name": "stdout",
          "text": [
            "Step: 462 \t Time: 2767.739544391632\n",
            "Shift: 0.06940935744643212\n",
            "Current State: 589    0.309085\n",
            "Name: f, dtype: float64 \t Current Constraint: 589    1.011567\n",
            "Name: c, dtype: float64\n"
          ]
        },
        {
          "output_type": "stream",
          "name": "stderr",
          "text": [
            "\r 66%|██████▌   | 462/700 [45:34<37:51,  9.54s/it]"
          ]
        },
        {
          "output_type": "stream",
          "name": "stdout",
          "text": [
            "Step: 463 \t Time: 2776.7592940330505\n",
            "Shift: 0.06967544801831246\n",
            "Current State: 590    0.77564\n",
            "Name: f, dtype: float64 \t Current Constraint: 590    1.013208\n",
            "Name: c, dtype: float64\n"
          ]
        },
        {
          "output_type": "stream",
          "name": "stderr",
          "text": [
            "\r 66%|██████▌   | 463/700 [45:45<39:02,  9.88s/it]"
          ]
        },
        {
          "output_type": "stream",
          "name": "stdout",
          "text": [
            "Step: 464 \t Time: 2787.428241968155\n",
            "Shift: 0.06987779363989831\n",
            "Current State: 591    1.204507\n",
            "Name: f, dtype: float64 \t Current Constraint: 591    1.012677\n",
            "Name: c, dtype: float64\n"
          ]
        },
        {
          "output_type": "stream",
          "name": "stderr",
          "text": [
            "\r 66%|██████▋   | 464/700 [45:53<36:42,  9.33s/it]"
          ]
        },
        {
          "output_type": "stream",
          "name": "stdout",
          "text": [
            "Step: 465 \t Time: 2795.4836134910583\n",
            "Shift: 0.0702026402413845\n",
            "Current State: 592    3.637806\n",
            "Name: f, dtype: float64 \t Current Constraint: 592    1.012931\n",
            "Name: c, dtype: float64\n"
          ]
        },
        {
          "output_type": "stream",
          "name": "stderr",
          "text": [
            "\r 66%|██████▋   | 465/700 [46:06<40:53, 10.44s/it]"
          ]
        },
        {
          "output_type": "stream",
          "name": "stdout",
          "text": [
            "Step: 466 \t Time: 2808.5057923793793\n",
            "Shift: 0.07036539263129235\n",
            "Current State: 593    4.1892\n",
            "Name: f, dtype: float64 \t Current Constraint: 593    1.010486\n",
            "Name: c, dtype: float64\n"
          ]
        },
        {
          "output_type": "stream",
          "name": "stderr",
          "text": [
            "\r 67%|██████▋   | 466/700 [46:12<36:06,  9.26s/it]"
          ]
        },
        {
          "output_type": "stream",
          "name": "stdout",
          "text": [
            "Step: 467 \t Time: 2815.005312681198\n",
            "Shift: 0.07062852790951729\n",
            "Current State: 594    0.999727\n",
            "Name: f, dtype: float64 \t Current Constraint: 594    1.012991\n",
            "Name: c, dtype: float64\n"
          ]
        },
        {
          "output_type": "stream",
          "name": "stderr",
          "text": [
            "\r 67%|██████▋   | 467/700 [46:23<37:25,  9.64s/it]"
          ]
        },
        {
          "output_type": "stream",
          "name": "stdout",
          "text": [
            "Step: 468 \t Time: 2825.52171087265\n",
            "Shift: 0.07096009742617608\n",
            "Current State: 595    0.980222\n",
            "Name: f, dtype: float64 \t Current Constraint: 595    1.011934\n",
            "Name: c, dtype: float64\n"
          ]
        },
        {
          "output_type": "stream",
          "name": "stderr",
          "text": [
            "\r 67%|██████▋   | 468/700 [46:36<41:27, 10.72s/it]"
          ]
        },
        {
          "output_type": "stream",
          "name": "stdout",
          "text": [
            "Step: 469 \t Time: 2838.7800517082214\n",
            "Shift: 0.0712604968905449\n",
            "Current State: 596    0.972761\n",
            "Name: f, dtype: float64 \t Current Constraint: 596    1.01369\n",
            "Name: c, dtype: float64\n"
          ]
        },
        {
          "output_type": "stream",
          "name": "stderr",
          "text": [
            "\r 67%|██████▋   | 469/700 [46:48<42:46, 11.11s/it]"
          ]
        },
        {
          "output_type": "stream",
          "name": "stdout",
          "text": [
            "Step: 470 \t Time: 2850.794528722763\n",
            "Shift: 0.07151378164291382\n",
            "Current State: 597    0.987796\n",
            "Name: f, dtype: float64 \t Current Constraint: 597    1.012369\n",
            "Name: c, dtype: float64\n"
          ]
        },
        {
          "output_type": "stream",
          "name": "stderr",
          "text": [
            "\r 67%|██████▋   | 470/700 [46:58<41:27, 10.82s/it]"
          ]
        },
        {
          "output_type": "stream",
          "name": "stdout",
          "text": [
            "Step: 471 \t Time: 2860.928970813751\n",
            "Shift: 0.07167242775559425\n",
            "Current State: 598    0.929637\n",
            "Name: f, dtype: float64 \t Current Constraint: 598    1.01368\n",
            "Name: c, dtype: float64\n"
          ]
        },
        {
          "output_type": "stream",
          "name": "stderr",
          "text": [
            "\r 67%|██████▋   | 471/700 [47:04<36:09,  9.47s/it]"
          ]
        },
        {
          "output_type": "stream",
          "name": "stdout",
          "text": [
            "Step: 472 \t Time: 2867.269929409027\n",
            "Shift: 0.07195100708603859\n",
            "Current State: 599    0.793832\n",
            "Name: f, dtype: float64 \t Current Constraint: 599    1.013535\n",
            "Name: c, dtype: float64\n"
          ]
        },
        {
          "output_type": "stream",
          "name": "stderr",
          "text": [
            "\r 67%|██████▋   | 472/700 [47:16<37:54,  9.98s/it]"
          ]
        },
        {
          "output_type": "stream",
          "name": "stdout",
          "text": [
            "Step: 473 \t Time: 2878.4201385974884\n",
            "Shift: 0.07198483029603958\n",
            "Current State: 600    29.44154\n",
            "Name: f, dtype: float64 \t Current Constraint: 600    1.016671\n",
            "Name: c, dtype: float64\n"
          ]
        },
        {
          "output_type": "stream",
          "name": "stderr",
          "text": [
            "\r 68%|██████▊   | 473/700 [47:17<27:57,  7.39s/it]"
          ]
        },
        {
          "output_type": "stream",
          "name": "stdout",
          "text": [
            "Step: 474 \t Time: 2879.7703623771667\n",
            "Shift: 0.07220572125315666\n",
            "Current State: 601    0.600862\n",
            "Name: f, dtype: float64 \t Current Constraint: 601    1.014804\n",
            "Name: c, dtype: float64\n"
          ]
        },
        {
          "output_type": "stream",
          "name": "stderr",
          "text": [
            "\r 68%|██████▊   | 474/700 [47:26<29:28,  7.82s/it]"
          ]
        },
        {
          "output_type": "stream",
          "name": "stdout",
          "text": [
            "Step: 475 \t Time: 2888.612339735031\n",
            "Shift: 0.07238936430215837\n",
            "Current State: 602    0.265547\n",
            "Name: f, dtype: float64 \t Current Constraint: 602    1.014465\n",
            "Name: c, dtype: float64\n"
          ]
        },
        {
          "output_type": "stream",
          "name": "stderr",
          "text": [
            "\r 68%|██████▊   | 475/700 [47:33<28:57,  7.72s/it]"
          ]
        },
        {
          "output_type": "stream",
          "name": "stdout",
          "text": [
            "Step: 476 \t Time: 2896.0939021110535\n",
            "Shift: 0.07294116308093071\n",
            "Current State: 603    0.454698\n",
            "Name: f, dtype: float64 \t Current Constraint: 603    1.01531\n",
            "Name: c, dtype: float64\n"
          ]
        },
        {
          "output_type": "stream",
          "name": "stderr",
          "text": [
            "\r 68%|██████▊   | 476/700 [47:55<44:46, 12.00s/it]"
          ]
        },
        {
          "output_type": "stream",
          "name": "stdout",
          "text": [
            "Step: 477 \t Time: 2918.059889316559\n",
            "Shift: 0.07308844456076623\n",
            "Current State: 604    0.425904\n",
            "Name: f, dtype: float64 \t Current Constraint: 604    1.016018\n",
            "Name: c, dtype: float64\n"
          ]
        },
        {
          "output_type": "stream",
          "name": "stderr",
          "text": [
            "\r 68%|██████▊   | 477/700 [48:01<37:44, 10.16s/it]"
          ]
        },
        {
          "output_type": "stream",
          "name": "stdout",
          "text": [
            "Step: 478 \t Time: 2923.922417640686\n",
            "Shift: 0.07339660256505012\n",
            "Current State: 605    0.316867\n",
            "Name: f, dtype: float64 \t Current Constraint: 605    1.015749\n",
            "Name: c, dtype: float64\n"
          ]
        },
        {
          "output_type": "stream",
          "name": "stderr",
          "text": [
            "\r 68%|██████▊   | 478/700 [48:13<39:59, 10.81s/it]"
          ]
        },
        {
          "output_type": "stream",
          "name": "stdout",
          "text": [
            "Step: 479 \t Time: 2936.2487444877625\n",
            "Shift: 0.0735915253162384\n",
            "Current State: 606    0.563107\n",
            "Name: f, dtype: float64 \t Current Constraint: 606    1.015756\n",
            "Name: c, dtype: float64\n"
          ]
        },
        {
          "output_type": "stream",
          "name": "stderr",
          "text": [
            "\r 68%|██████▊   | 479/700 [48:21<36:28,  9.90s/it]"
          ]
        },
        {
          "output_type": "stream",
          "name": "stdout",
          "text": [
            "Step: 480 \t Time: 2944.048146724701\n",
            "Shift: 0.07387086799740791\n",
            "Current State: 607    0.530156\n",
            "Name: f, dtype: float64 \t Current Constraint: 607    1.014848\n",
            "Name: c, dtype: float64\n"
          ]
        },
        {
          "output_type": "stream",
          "name": "stderr",
          "text": [
            "\r 69%|██████▊   | 480/700 [48:32<37:42, 10.28s/it]"
          ]
        },
        {
          "output_type": "stream",
          "name": "stdout",
          "text": [
            "Step: 481 \t Time: 2955.2183423042297\n",
            "Shift: 0.07415329938530922\n",
            "Current State: 608    0.398694\n",
            "Name: f, dtype: float64 \t Current Constraint: 608    1.015034\n",
            "Name: c, dtype: float64\n"
          ]
        },
        {
          "output_type": "stream",
          "name": "stderr",
          "text": [
            "\r 69%|██████▊   | 481/700 [48:44<38:39, 10.59s/it]"
          ]
        },
        {
          "output_type": "stream",
          "name": "stdout",
          "text": [
            "Step: 482 \t Time: 2966.5276975631714\n",
            "Shift: 0.0742967249751091\n",
            "Current State: 609    0.78783\n",
            "Name: f, dtype: float64 \t Current Constraint: 609    1.015834\n",
            "Name: c, dtype: float64\n"
          ]
        },
        {
          "output_type": "stream",
          "name": "stderr",
          "text": [
            "\r 69%|██████▉   | 482/700 [48:50<33:18,  9.17s/it]"
          ]
        },
        {
          "output_type": "stream",
          "name": "stdout",
          "text": [
            "Step: 483 \t Time: 2972.3705098629\n",
            "Shift: 0.07473123494386673\n",
            "Current State: 610    0.991612\n",
            "Name: f, dtype: float64 \t Current Constraint: 610    1.015748\n",
            "Name: c, dtype: float64\n"
          ]
        },
        {
          "output_type": "stream",
          "name": "stderr",
          "text": [
            "\r 69%|██████▉   | 483/700 [49:07<41:55, 11.59s/it]"
          ]
        },
        {
          "output_type": "stream",
          "name": "stdout",
          "text": [
            "Step: 484 \t Time: 2989.626439809799\n",
            "Shift: 0.07498272206187248\n",
            "Current State: 611    0.926059\n",
            "Name: f, dtype: float64 \t Current Constraint: 611    1.016511\n",
            "Name: c, dtype: float64\n"
          ]
        },
        {
          "output_type": "stream",
          "name": "stderr",
          "text": [
            "\r 69%|██████▉   | 484/700 [49:17<40:06, 11.14s/it]"
          ]
        },
        {
          "output_type": "stream",
          "name": "stdout",
          "text": [
            "Step: 485 \t Time: 2999.707910299301\n",
            "Shift: 0.07511188498735429\n",
            "Current State: 612    1.103167\n",
            "Name: f, dtype: float64 \t Current Constraint: 612    1.015843\n",
            "Name: c, dtype: float64\n"
          ]
        },
        {
          "output_type": "stream",
          "name": "stderr",
          "text": [
            "\r 69%|██████▉   | 485/700 [49:22<33:29,  9.35s/it]"
          ]
        },
        {
          "output_type": "stream",
          "name": "stdout",
          "text": [
            "Step: 486 \t Time: 3004.8661227226257\n",
            "Shift: 0.07538409958481788\n",
            "Current State: 613    1.266534\n",
            "Name: f, dtype: float64 \t Current Constraint: 613    1.015905\n",
            "Name: c, dtype: float64\n"
          ]
        },
        {
          "output_type": "stream",
          "name": "stderr",
          "text": [
            "\r 69%|██████▉   | 486/700 [49:33<34:58,  9.81s/it]"
          ]
        },
        {
          "output_type": "stream",
          "name": "stdout",
          "text": [
            "Step: 487 \t Time: 3015.7492203712463\n",
            "Shift: 0.07543927553892137\n",
            "Current State: 614    0.631133\n",
            "Name: f, dtype: float64 \t Current Constraint: 614    1.014886\n",
            "Name: c, dtype: float64\n"
          ]
        },
        {
          "output_type": "stream",
          "name": "stderr",
          "text": [
            "\r 70%|██████▉   | 487/700 [49:35<26:42,  7.52s/it]"
          ]
        },
        {
          "output_type": "stream",
          "name": "stdout",
          "text": [
            "Step: 488 \t Time: 3017.949811220169\n",
            "Shift: 0.07557769634723664\n",
            "Current State: 615    1.642492\n",
            "Name: f, dtype: float64 \t Current Constraint: 615    1.012656\n",
            "Name: c, dtype: float64\n"
          ]
        },
        {
          "output_type": "stream",
          "name": "stderr",
          "text": [
            "\r 70%|██████▉   | 488/700 [49:41<24:41,  6.99s/it]"
          ]
        },
        {
          "output_type": "stream",
          "name": "stdout",
          "text": [
            "Step: 489 \t Time: 3023.688543319702\n",
            "Shift: 0.07570685144662857\n",
            "Current State: 616    0.495679\n",
            "Name: f, dtype: float64 \t Current Constraint: 616    1.013742\n",
            "Name: c, dtype: float64\n"
          ]
        },
        {
          "output_type": "stream",
          "name": "stderr",
          "text": [
            "\r 70%|██████▉   | 489/700 [49:46<22:26,  6.38s/it]"
          ]
        },
        {
          "output_type": "stream",
          "name": "stdout",
          "text": [
            "Step: 490 \t Time: 3028.651337146759\n",
            "Shift: 0.07583372461795808\n",
            "Current State: 617    1.074041\n",
            "Name: f, dtype: float64 \t Current Constraint: 617    1.013396\n",
            "Name: c, dtype: float64\n"
          ]
        },
        {
          "output_type": "stream",
          "name": "stderr",
          "text": [
            "\r 70%|███████   | 490/700 [49:51<20:57,  5.99s/it]"
          ]
        },
        {
          "output_type": "stream",
          "name": "stdout",
          "text": [
            "Step: 491 \t Time: 3033.7269535064697\n",
            "Shift: 0.07602183772325516\n",
            "Current State: 618    2.670909\n",
            "Name: f, dtype: float64 \t Current Constraint: 618    1.013239\n",
            "Name: c, dtype: float64\n"
          ]
        },
        {
          "output_type": "stream",
          "name": "stderr",
          "text": [
            "\r 70%|███████   | 491/700 [49:58<22:28,  6.45s/it]"
          ]
        },
        {
          "output_type": "stream",
          "name": "stdout",
          "text": [
            "Step: 492 \t Time: 3041.262151002884\n",
            "Shift: 0.07610960547327995\n",
            "Current State: 619    0.821574\n",
            "Name: f, dtype: float64 \t Current Constraint: 619    1.011461\n",
            "Name: c, dtype: float64\n"
          ]
        },
        {
          "output_type": "stream",
          "name": "stderr",
          "text": [
            "\r 70%|███████   | 492/700 [50:02<19:17,  5.57s/it]"
          ]
        },
        {
          "output_type": "stream",
          "name": "stdout",
          "text": [
            "Step: 493 \t Time: 3044.759533882141\n",
            "Shift: 0.07631470022797585\n",
            "Current State: 620    0.728816\n",
            "Name: f, dtype: float64 \t Current Constraint: 620    1.012156\n",
            "Name: c, dtype: float64\n"
          ]
        },
        {
          "output_type": "stream",
          "name": "stderr",
          "text": [
            "\r 70%|███████   | 493/700 [50:10<21:56,  6.36s/it]"
          ]
        },
        {
          "output_type": "stream",
          "name": "stdout",
          "text": [
            "Step: 494 \t Time: 3052.9705827236176\n",
            "Shift: 0.0766260274231434\n",
            "Current State: 621    0.941348\n",
            "Name: f, dtype: float64 \t Current Constraint: 621    1.012326\n",
            "Name: c, dtype: float64\n"
          ]
        },
        {
          "output_type": "stream",
          "name": "stderr",
          "text": [
            "\r 71%|███████   | 494/700 [50:23<28:05,  8.18s/it]"
          ]
        },
        {
          "output_type": "stream",
          "name": "stdout",
          "text": [
            "Step: 495 \t Time: 3065.4093680381775\n",
            "Shift: 0.0770933600962162\n",
            "Current State: 622    5.23581\n",
            "Name: f, dtype: float64 \t Current Constraint: 622    1.01261\n",
            "Name: c, dtype: float64\n"
          ]
        },
        {
          "output_type": "stream",
          "name": "stderr",
          "text": [
            "\r 71%|███████   | 495/700 [50:41<38:45, 11.34s/it]"
          ]
        },
        {
          "output_type": "stream",
          "name": "stdout",
          "text": [
            "Step: 496 \t Time: 3084.1241767406464\n",
            "Shift: 0.07712926968336106\n",
            "Current State: 623    39.496113\n",
            "Name: f, dtype: float64 \t Current Constraint: 623    1.005822\n",
            "Name: c, dtype: float64\n"
          ]
        },
        {
          "output_type": "stream",
          "name": "stderr",
          "text": [
            "\r 71%|███████   | 496/700 [50:43<28:26,  8.37s/it]"
          ]
        },
        {
          "output_type": "stream",
          "name": "stdout",
          "text": [
            "Step: 497 \t Time: 3085.5415959358215\n",
            "Shift: 0.07731840517520905\n",
            "Current State: 624    1.855448\n",
            "Name: f, dtype: float64 \t Current Constraint: 624    1.010591\n",
            "Name: c, dtype: float64\n"
          ]
        },
        {
          "output_type": "stream",
          "name": "stderr",
          "text": [
            "\r 71%|███████   | 497/700 [50:51<27:41,  8.18s/it]"
          ]
        },
        {
          "output_type": "stream",
          "name": "stdout",
          "text": [
            "Step: 498 \t Time: 3093.2996468544006\n",
            "Shift: 0.07738366077542305\n",
            "Current State: 625    1.465233\n",
            "Name: f, dtype: float64 \t Current Constraint: 625    1.009851\n",
            "Name: c, dtype: float64\n"
          ]
        },
        {
          "output_type": "stream",
          "name": "stderr",
          "text": [
            "\r 71%|███████   | 498/700 [50:53<21:43,  6.45s/it]"
          ]
        },
        {
          "output_type": "stream",
          "name": "stdout",
          "text": [
            "Step: 499 \t Time: 3095.7195608615875\n",
            "Shift: 0.07753596194386482\n",
            "Current State: 626    0.830443\n",
            "Name: f, dtype: float64 \t Current Constraint: 626    1.01012\n",
            "Name: c, dtype: float64\n"
          ]
        },
        {
          "output_type": "stream",
          "name": "stderr",
          "text": [
            "\r 71%|███████▏  | 499/700 [50:59<21:26,  6.40s/it]"
          ]
        },
        {
          "output_type": "stream",
          "name": "stdout",
          "text": [
            "Step: 500 \t Time: 3101.9940502643585\n",
            "Shift: 0.0776567829489708\n",
            "Current State: 627    0.71529\n",
            "Name: f, dtype: float64 \t Current Constraint: 627    1.010401\n",
            "Name: c, dtype: float64\n"
          ]
        },
        {
          "output_type": "stream",
          "name": "stderr",
          "text": [
            "\r 71%|███████▏  | 500/700 [51:04<19:36,  5.88s/it]"
          ]
        },
        {
          "output_type": "stream",
          "name": "stdout",
          "text": [
            "Step: 501 \t Time: 3106.662056684494\n",
            "Shift: 0.07778236197829247\n",
            "Current State: 628    0.737927\n",
            "Name: f, dtype: float64 \t Current Constraint: 628    1.010977\n",
            "Name: c, dtype: float64\n"
          ]
        },
        {
          "output_type": "stream",
          "name": "stderr",
          "text": [
            "\r 72%|███████▏  | 501/700 [51:09<18:38,  5.62s/it]"
          ]
        },
        {
          "output_type": "stream",
          "name": "stdout",
          "text": [
            "Step: 502 \t Time: 3111.679165124893\n",
            "Shift: 0.07785727564692498\n",
            "Current State: 629    0.66767\n",
            "Name: f, dtype: float64 \t Current Constraint: 629    1.010966\n",
            "Name: c, dtype: float64\n"
          ]
        },
        {
          "output_type": "stream",
          "name": "stderr",
          "text": [
            "\r 72%|███████▏  | 502/700 [51:12<16:04,  4.87s/it]"
          ]
        },
        {
          "output_type": "stream",
          "name": "stdout",
          "text": [
            "Step: 503 \t Time: 3114.8053596019745\n",
            "Shift: 0.07791271967887879\n",
            "Current State: 630    0.621159\n",
            "Name: f, dtype: float64 \t Current Constraint: 630    1.010222\n",
            "Name: c, dtype: float64\n"
          ]
        },
        {
          "output_type": "stream",
          "name": "stderr",
          "text": [
            "\r 72%|███████▏  | 503/700 [51:14<13:14,  4.04s/it]"
          ]
        },
        {
          "output_type": "stream",
          "name": "stdout",
          "text": [
            "Step: 504 \t Time: 3116.8858954906464\n",
            "Shift: 0.07814514172077179\n",
            "Current State: 631    2.232307\n",
            "Name: f, dtype: float64 \t Current Constraint: 631    1.008645\n",
            "Name: c, dtype: float64\n"
          ]
        },
        {
          "output_type": "stream",
          "name": "stderr",
          "text": [
            "\r 72%|███████▏  | 504/700 [51:24<18:28,  5.65s/it]"
          ]
        },
        {
          "output_type": "stream",
          "name": "stdout",
          "text": [
            "Step: 505 \t Time: 3126.3171513080597\n",
            "Shift: 0.07830685403347015\n",
            "Current State: 632    1.467135\n",
            "Name: f, dtype: float64 \t Current Constraint: 632    1.011648\n",
            "Name: c, dtype: float64\n"
          ]
        },
        {
          "output_type": "stream",
          "name": "stderr",
          "text": [
            "\r 72%|███████▏  | 505/700 [51:30<19:03,  5.86s/it]"
          ]
        },
        {
          "output_type": "stream",
          "name": "stdout",
          "text": [
            "Step: 506 \t Time: 3132.6645545959473\n",
            "Shift: 0.07834662246704102\n",
            "Current State: 633    3.698495\n",
            "Name: f, dtype: float64 \t Current Constraint: 633    1.012178\n",
            "Name: c, dtype: float64\n"
          ]
        },
        {
          "output_type": "stream",
          "name": "stderr",
          "text": [
            "\r 72%|███████▏  | 506/700 [51:31<14:47,  4.58s/it]"
          ]
        },
        {
          "output_type": "stream",
          "name": "stdout",
          "text": [
            "Step: 507 \t Time: 3134.240250825882\n",
            "Shift: 0.07838678839206696\n",
            "Current State: 634    0.896148\n",
            "Name: f, dtype: float64 \t Current Constraint: 634    1.010959\n",
            "Name: c, dtype: float64\n"
          ]
        },
        {
          "output_type": "stream",
          "name": "stderr",
          "text": [
            "\r 72%|███████▏  | 507/700 [51:33<11:52,  3.69s/it]"
          ]
        },
        {
          "output_type": "stream",
          "name": "stdout",
          "text": [
            "Step: 508 \t Time: 3135.8625066280365\n",
            "Shift: 0.07843014472723008\n",
            "Current State: 635    3.843509\n",
            "Name: f, dtype: float64 \t Current Constraint: 635    1.010247\n",
            "Name: c, dtype: float64\n"
          ]
        },
        {
          "output_type": "stream",
          "name": "stderr",
          "text": [
            "\r 73%|███████▎  | 508/700 [51:35<09:55,  3.10s/it]"
          ]
        },
        {
          "output_type": "stream",
          "name": "stdout",
          "text": [
            "Step: 509 \t Time: 3137.5823447704315\n",
            "Shift: 0.07850988140702247\n",
            "Current State: 636    0.821564\n",
            "Name: f, dtype: float64 \t Current Constraint: 636    1.009473\n",
            "Name: c, dtype: float64\n"
          ]
        },
        {
          "output_type": "stream",
          "name": "stderr",
          "text": [
            "\r 73%|███████▎  | 509/700 [51:38<10:07,  3.18s/it]"
          ]
        },
        {
          "output_type": "stream",
          "name": "stdout",
          "text": [
            "Step: 510 \t Time: 3140.9506475925446\n",
            "Shift: 0.07855700927972795\n",
            "Current State: 637    3.057818\n",
            "Name: f, dtype: float64 \t Current Constraint: 637    1.009504\n",
            "Name: c, dtype: float64\n"
          ]
        },
        {
          "output_type": "stream",
          "name": "stderr",
          "text": [
            "\r 73%|███████▎  | 510/700 [51:40<08:40,  2.74s/it]"
          ]
        },
        {
          "output_type": "stream",
          "name": "stdout",
          "text": [
            "Step: 511 \t Time: 3142.6638884544373\n",
            "Shift: 0.07877484039068222\n",
            "Current State: 638    1.146039\n",
            "Name: f, dtype: float64 \t Current Constraint: 638    1.009975\n",
            "Name: c, dtype: float64\n"
          ]
        },
        {
          "output_type": "stream",
          "name": "stderr",
          "text": [
            "\r 73%|███████▎  | 511/700 [51:49<14:18,  4.54s/it]"
          ]
        },
        {
          "output_type": "stream",
          "name": "stdout",
          "text": [
            "Step: 512 \t Time: 3151.413379430771\n",
            "Shift: 0.07883580159544945\n",
            "Current State: 639    0.711488\n",
            "Name: f, dtype: float64 \t Current Constraint: 639    1.011297\n",
            "Name: c, dtype: float64\n"
          ]
        },
        {
          "output_type": "stream",
          "name": "stderr",
          "text": [
            "\r 73%|███████▎  | 512/700 [51:51<12:20,  3.94s/it]"
          ]
        },
        {
          "output_type": "stream",
          "name": "stdout",
          "text": [
            "Step: 513 \t Time: 3153.9513866901398\n",
            "Shift: 0.0789816841185093\n",
            "Current State: 640    1.141733\n",
            "Name: f, dtype: float64 \t Current Constraint: 640    1.011639\n",
            "Name: c, dtype: float64\n"
          ]
        },
        {
          "output_type": "stream",
          "name": "stderr",
          "text": [
            "\r 73%|███████▎  | 513/700 [51:57<13:56,  4.47s/it]"
          ]
        },
        {
          "output_type": "stream",
          "name": "stdout",
          "text": [
            "Step: 514 \t Time: 3159.664412498474\n",
            "Shift: 0.07916257106065751\n",
            "Current State: 641    0.647329\n",
            "Name: f, dtype: float64 \t Current Constraint: 641    1.009387\n",
            "Name: c, dtype: float64\n"
          ]
        },
        {
          "output_type": "stream",
          "name": "stderr",
          "text": [
            "\r 73%|███████▎  | 514/700 [52:04<16:36,  5.36s/it]"
          ]
        },
        {
          "output_type": "stream",
          "name": "stdout",
          "text": [
            "Step: 515 \t Time: 3167.0934245586395\n",
            "Shift: 0.07939115093350411\n",
            "Current State: 642    1.078341\n",
            "Name: f, dtype: float64 \t Current Constraint: 642    1.009803\n",
            "Name: c, dtype: float64\n"
          ]
        },
        {
          "output_type": "stream",
          "name": "stderr",
          "text": [
            "\r 74%|███████▎  | 515/700 [52:13<19:49,  6.43s/it]"
          ]
        },
        {
          "output_type": "stream",
          "name": "stdout",
          "text": [
            "Step: 516 \t Time: 3176.020195007324\n",
            "Shift: 0.07945019654631615\n",
            "Current State: 643    0.774942\n",
            "Name: f, dtype: float64 \t Current Constraint: 643    1.010576\n",
            "Name: c, dtype: float64\n"
          ]
        },
        {
          "output_type": "stream",
          "name": "stderr",
          "text": [
            "\r 74%|███████▎  | 516/700 [52:16<16:04,  5.24s/it]"
          ]
        },
        {
          "output_type": "stream",
          "name": "stdout",
          "text": [
            "Step: 517 \t Time: 3178.487589597702\n",
            "Shift: 0.07961320784687996\n",
            "Current State: 644    0.676655\n",
            "Name: f, dtype: float64 \t Current Constraint: 644    1.011011\n",
            "Name: c, dtype: float64\n"
          ]
        },
        {
          "output_type": "stream",
          "name": "stderr",
          "text": [
            "\r 74%|███████▍  | 517/700 [52:22<17:03,  5.59s/it]"
          ]
        },
        {
          "output_type": "stream",
          "name": "stdout",
          "text": [
            "Step: 518 \t Time: 3184.9009709358215\n",
            "Shift: 0.07995514951348305\n",
            "Current State: 645    0.474419\n",
            "Name: f, dtype: float64 \t Current Constraint: 645    1.011566\n",
            "Name: c, dtype: float64\n"
          ]
        },
        {
          "output_type": "stream",
          "name": "stderr",
          "text": [
            "\r 74%|███████▍  | 518/700 [52:36<24:19,  8.02s/it]"
          ]
        },
        {
          "output_type": "stream",
          "name": "stdout",
          "text": [
            "Step: 519 \t Time: 3198.579216480255\n",
            "Shift: 0.08024891667366028\n",
            "Current State: 646    2.224336\n",
            "Name: f, dtype: float64 \t Current Constraint: 646    1.011816\n",
            "Name: c, dtype: float64\n"
          ]
        },
        {
          "output_type": "stream",
          "name": "stderr",
          "text": [
            "\r 74%|███████▍  | 519/700 [52:48<27:34,  9.14s/it]"
          ]
        },
        {
          "output_type": "stream",
          "name": "stdout",
          "text": [
            "Step: 520 \t Time: 3210.338522911072\n",
            "Shift: 0.08030134208798409\n",
            "Current State: 647    0.634904\n",
            "Name: f, dtype: float64 \t Current Constraint: 647    1.012277\n",
            "Name: c, dtype: float64\n"
          ]
        },
        {
          "output_type": "stream",
          "name": "stderr",
          "text": [
            "\r 74%|███████▍  | 520/700 [52:50<21:05,  7.03s/it]"
          ]
        },
        {
          "output_type": "stream",
          "name": "stdout",
          "text": [
            "Step: 521 \t Time: 3212.439828634262\n",
            "Shift: 0.08035283731818199\n",
            "Current State: 648    0.571059\n",
            "Name: f, dtype: float64 \t Current Constraint: 648    1.010331\n",
            "Name: c, dtype: float64\n"
          ]
        },
        {
          "output_type": "stream",
          "name": "stderr",
          "text": [
            "\r 74%|███████▍  | 521/700 [52:52<16:31,  5.54s/it]"
          ]
        },
        {
          "output_type": "stream",
          "name": "stdout",
          "text": [
            "Step: 522 \t Time: 3214.501891374588\n",
            "Shift: 0.08043055909872056\n",
            "Current State: 649    0.567039\n",
            "Name: f, dtype: float64 \t Current Constraint: 649    1.013244\n",
            "Name: c, dtype: float64\n"
          ]
        },
        {
          "output_type": "stream",
          "name": "stderr",
          "text": [
            "\r 75%|███████▍  | 522/700 [52:55<14:26,  4.87s/it]"
          ]
        },
        {
          "output_type": "stream",
          "name": "stdout",
          "text": [
            "Step: 523 \t Time: 3217.8001663684845\n",
            "Shift: 0.08066618140339851\n",
            "Current State: 650    0.601892\n",
            "Name: f, dtype: float64 \t Current Constraint: 650    1.010344\n",
            "Name: c, dtype: float64\n"
          ]
        },
        {
          "output_type": "stream",
          "name": "stderr",
          "text": [
            "\r 75%|███████▍  | 523/700 [53:04<18:13,  6.18s/it]"
          ]
        },
        {
          "output_type": "stream",
          "name": "stdout",
          "text": [
            "Step: 524 \t Time: 3227.0404958724976\n",
            "Shift: 0.08070610601902009\n",
            "Current State: 651    2.328063\n",
            "Name: f, dtype: float64 \t Current Constraint: 651    1.009063\n",
            "Name: c, dtype: float64\n"
          ]
        },
        {
          "output_type": "stream",
          "name": "stderr",
          "text": [
            "\r 75%|███████▍  | 524/700 [53:06<14:04,  4.80s/it]"
          ]
        },
        {
          "output_type": "stream",
          "name": "stdout",
          "text": [
            "Step: 525 \t Time: 3228.6267364025116\n",
            "Shift: 0.08086119405031204\n",
            "Current State: 652    1.007164\n",
            "Name: f, dtype: float64 \t Current Constraint: 652    1.012821\n",
            "Name: c, dtype: float64\n"
          ]
        },
        {
          "output_type": "stream",
          "name": "stderr",
          "text": [
            "\r 75%|███████▌  | 525/700 [53:12<15:15,  5.23s/it]"
          ]
        },
        {
          "output_type": "stream",
          "name": "stdout",
          "text": [
            "Step: 526 \t Time: 3234.863203525543\n",
            "Shift: 0.08090314291119576\n",
            "Current State: 653    0.326517\n",
            "Name: f, dtype: float64 \t Current Constraint: 653    1.011562\n",
            "Name: c, dtype: float64\n"
          ]
        },
        {
          "output_type": "stream",
          "name": "stderr",
          "text": [
            "\r 75%|███████▌  | 526/700 [53:14<12:03,  4.16s/it]"
          ]
        },
        {
          "output_type": "stream",
          "name": "stdout",
          "text": [
            "Step: 527 \t Time: 3236.516206741333\n",
            "Shift: 0.08118334150910378\n",
            "Current State: 654    0.636361\n",
            "Name: f, dtype: float64 \t Current Constraint: 654    1.01093\n",
            "Name: c, dtype: float64\n"
          ]
        },
        {
          "output_type": "stream",
          "name": "stderr",
          "text": [
            "\r 75%|███████▌  | 527/700 [53:25<18:05,  6.28s/it]"
          ]
        },
        {
          "output_type": "stream",
          "name": "stdout",
          "text": [
            "Step: 528 \t Time: 3247.738267183304\n",
            "Shift: 0.08133543968200684\n",
            "Current State: 655    1.43655\n",
            "Name: f, dtype: float64 \t Current Constraint: 655    1.012224\n",
            "Name: c, dtype: float64\n"
          ]
        },
        {
          "output_type": "stream",
          "name": "stderr",
          "text": [
            "\r 75%|███████▌  | 528/700 [53:31<17:49,  6.22s/it]"
          ]
        },
        {
          "output_type": "stream",
          "name": "stdout",
          "text": [
            "Step: 529 \t Time: 3253.8142364025116\n",
            "Shift: 0.08159718040823936\n",
            "Current State: 656    0.720497\n",
            "Name: f, dtype: float64 \t Current Constraint: 656    1.01107\n",
            "Name: c, dtype: float64\n"
          ]
        },
        {
          "output_type": "stream",
          "name": "stderr",
          "text": [
            "\r 76%|███████▌  | 529/700 [53:42<21:22,  7.50s/it]"
          ]
        },
        {
          "output_type": "stream",
          "name": "stdout",
          "text": [
            "Step: 530 \t Time: 3264.3045783042908\n",
            "Shift: 0.0818170167028904\n",
            "Current State: 657    0.33365\n",
            "Name: f, dtype: float64 \t Current Constraint: 657    1.009979\n",
            "Name: c, dtype: float64\n"
          ]
        },
        {
          "output_type": "stream",
          "name": "stderr",
          "text": [
            "\r 76%|███████▌  | 530/700 [53:50<22:27,  7.93s/it]"
          ]
        },
        {
          "output_type": "stream",
          "name": "stdout",
          "text": [
            "Step: 531 \t Time: 3273.2251284122467\n",
            "Shift: 0.08189744336605072\n",
            "Current State: 658    0.290686\n",
            "Name: f, dtype: float64 \t Current Constraint: 658    1.010589\n",
            "Name: c, dtype: float64\n"
          ]
        },
        {
          "output_type": "stream",
          "name": "stderr",
          "text": [
            "\r 76%|███████▌  | 531/700 [53:54<18:13,  6.47s/it]"
          ]
        },
        {
          "output_type": "stream",
          "name": "stdout",
          "text": [
            "Step: 532 \t Time: 3276.304582118988\n",
            "Shift: 0.08201299303174019\n",
            "Current State: 659    0.306393\n",
            "Name: f, dtype: float64 \t Current Constraint: 659    1.01181\n",
            "Name: c, dtype: float64\n"
          ]
        },
        {
          "output_type": "stream",
          "name": "stderr",
          "text": [
            "\r 76%|███████▌  | 532/700 [53:58<16:41,  5.96s/it]"
          ]
        },
        {
          "output_type": "stream",
          "name": "stdout",
          "text": [
            "Step: 533 \t Time: 3281.0810537338257\n",
            "Shift: 0.08225413376092912\n",
            "Current State: 660    0.301351\n",
            "Name: f, dtype: float64 \t Current Constraint: 660    1.011086\n",
            "Name: c, dtype: float64\n"
          ]
        },
        {
          "output_type": "stream",
          "name": "stderr",
          "text": [
            "\r 76%|███████▌  | 533/700 [54:08<19:31,  7.02s/it]"
          ]
        },
        {
          "output_type": "stream",
          "name": "stdout",
          "text": [
            "Step: 534 \t Time: 3290.5533125400543\n",
            "Shift: 0.08229055458903313\n",
            "Current State: 661    28.707369\n",
            "Name: f, dtype: float64 \t Current Constraint: 661    1.01636\n",
            "Name: c, dtype: float64\n"
          ]
        },
        {
          "output_type": "stream",
          "name": "stderr",
          "text": [
            "\r 76%|███████▋  | 534/700 [54:09<14:47,  5.35s/it]"
          ]
        },
        {
          "output_type": "stream",
          "name": "stdout",
          "text": [
            "Step: 535 \t Time: 3292.007153749466\n",
            "Shift: 0.08255475264787675\n",
            "Current State: 662    1.493568\n",
            "Name: f, dtype: float64 \t Current Constraint: 662    1.012156\n",
            "Name: c, dtype: float64\n"
          ]
        },
        {
          "output_type": "stream",
          "name": "stderr",
          "text": [
            "\r 76%|███████▋  | 535/700 [54:20<19:00,  6.91s/it]"
          ]
        },
        {
          "output_type": "stream",
          "name": "stdout",
          "text": [
            "Step: 536 \t Time: 3302.5757710933685\n",
            "Shift: 0.08278709972500801\n",
            "Current State: 663    0.203649\n",
            "Name: f, dtype: float64 \t Current Constraint: 663    1.014415\n",
            "Name: c, dtype: float64\n"
          ]
        },
        {
          "output_type": "stream",
          "name": "stderr",
          "text": [
            "\r 77%|███████▋  | 536/700 [54:29<20:51,  7.63s/it]"
          ]
        },
        {
          "output_type": "stream",
          "name": "stdout",
          "text": [
            "Step: 537 \t Time: 3311.8823969364166\n",
            "Shift: 0.08313132930397987\n",
            "Current State: 664    0.240184\n",
            "Name: f, dtype: float64 \t Current Constraint: 664    1.014901\n",
            "Name: c, dtype: float64\n"
          ]
        },
        {
          "output_type": "stream",
          "name": "stderr",
          "text": [
            "\r 77%|███████▋  | 537/700 [54:43<25:43,  9.47s/it]"
          ]
        },
        {
          "output_type": "stream",
          "name": "stdout",
          "text": [
            "Step: 538 \t Time: 3325.635866880417\n",
            "Shift: 0.08341871432065964\n",
            "Current State: 665    0.43823\n",
            "Name: f, dtype: float64 \t Current Constraint: 665    1.014321\n",
            "Name: c, dtype: float64\n"
          ]
        },
        {
          "output_type": "stream",
          "name": "stderr",
          "text": [
            "\r 77%|███████▋  | 538/700 [54:54<27:12, 10.08s/it]"
          ]
        },
        {
          "output_type": "stream",
          "name": "stdout",
          "text": [
            "Step: 539 \t Time: 3337.1397795677185\n",
            "Shift: 0.08375163145065308\n",
            "Current State: 666    1.969853\n",
            "Name: f, dtype: float64 \t Current Constraint: 666    1.015761\n",
            "Name: c, dtype: float64\n"
          ]
        },
        {
          "output_type": "stream",
          "name": "stderr",
          "text": [
            "\r 77%|███████▋  | 539/700 [55:08<29:38, 11.05s/it]"
          ]
        },
        {
          "output_type": "stream",
          "name": "stdout",
          "text": [
            "Step: 540 \t Time: 3350.4435036182404\n",
            "Shift: 0.08405843045115471\n",
            "Current State: 667    1.511104\n",
            "Name: f, dtype: float64 \t Current Constraint: 667    1.012967\n",
            "Name: c, dtype: float64\n"
          ]
        },
        {
          "output_type": "stream",
          "name": "stderr",
          "text": [
            "\r 77%|███████▋  | 540/700 [55:20<30:26, 11.41s/it]"
          ]
        },
        {
          "output_type": "stream",
          "name": "stdout",
          "text": [
            "Step: 541 \t Time: 3362.717613220215\n",
            "Shift: 0.08432881212234497\n",
            "Current State: 668    0.430008\n",
            "Name: f, dtype: float64 \t Current Constraint: 668    1.011848\n",
            "Name: c, dtype: float64\n"
          ]
        },
        {
          "output_type": "stream",
          "name": "stderr",
          "text": [
            "\r 77%|███████▋  | 541/700 [55:31<29:47, 11.24s/it]"
          ]
        },
        {
          "output_type": "stream",
          "name": "stdout",
          "text": [
            "Step: 542 \t Time: 3373.554315328598\n",
            "Shift: 0.08461315418481827\n",
            "Current State: 669    0.708987\n",
            "Name: f, dtype: float64 \t Current Constraint: 669    1.017868\n",
            "Name: c, dtype: float64\n"
          ]
        },
        {
          "output_type": "stream",
          "name": "stderr",
          "text": [
            "\r 77%|███████▋  | 542/700 [55:42<29:51, 11.34s/it]"
          ]
        },
        {
          "output_type": "stream",
          "name": "stdout",
          "text": [
            "Step: 543 \t Time: 3385.1262056827545\n",
            "Shift: 0.08475294005274774\n",
            "Current State: 670    2.929345\n",
            "Name: f, dtype: float64 \t Current Constraint: 670    1.011583\n",
            "Name: c, dtype: float64\n"
          ]
        },
        {
          "output_type": "stream",
          "name": "stderr",
          "text": [
            "\r 78%|███████▊  | 543/700 [55:48<24:59,  9.55s/it]"
          ]
        },
        {
          "output_type": "stream",
          "name": "stdout",
          "text": [
            "Step: 544 \t Time: 3390.4995172023773\n",
            "Shift: 0.08498007080554963\n",
            "Current State: 671    1.447952\n",
            "Name: f, dtype: float64 \t Current Constraint: 671    1.012138\n",
            "Name: c, dtype: float64\n"
          ]
        },
        {
          "output_type": "stream",
          "name": "stderr",
          "text": [
            "\r 78%|███████▊  | 544/700 [55:57<24:28,  9.41s/it]"
          ]
        },
        {
          "output_type": "stream",
          "name": "stdout",
          "text": [
            "Step: 545 \t Time: 3399.5908501148224\n",
            "Shift: 0.0851001935660839\n",
            "Current State: 672    2.689366\n",
            "Name: f, dtype: float64 \t Current Constraint: 672    1.01617\n",
            "Name: c, dtype: float64\n"
          ]
        },
        {
          "output_type": "stream",
          "name": "stderr",
          "text": [
            "\r 78%|███████▊  | 545/700 [56:02<20:44,  8.03s/it]"
          ]
        },
        {
          "output_type": "stream",
          "name": "stdout",
          "text": [
            "Step: 546 \t Time: 3404.3838443756104\n",
            "Shift: 0.08571480585932732\n",
            "Current State: 673    1.366789\n",
            "Name: f, dtype: float64 \t Current Constraint: 673    1.014597\n",
            "Name: c, dtype: float64\n"
          ]
        },
        {
          "output_type": "stream",
          "name": "stderr",
          "text": [
            "\r 78%|███████▊  | 546/700 [56:26<33:21, 13.00s/it]"
          ]
        },
        {
          "output_type": "stream",
          "name": "stdout",
          "text": [
            "Step: 547 \t Time: 3428.982561349869\n",
            "Shift: 0.08596769774556161\n",
            "Current State: 674    0.66018\n",
            "Name: f, dtype: float64 \t Current Constraint: 674    1.013033\n",
            "Name: c, dtype: float64\n"
          ]
        },
        {
          "output_type": "stream",
          "name": "stderr",
          "text": [
            "\r 78%|███████▊  | 547/700 [56:36<30:56, 12.13s/it]"
          ]
        },
        {
          "output_type": "stream",
          "name": "stdout",
          "text": [
            "Step: 548 \t Time: 3439.100193977356\n",
            "Shift: 0.0861877939105034\n",
            "Current State: 675    0.269869\n",
            "Name: f, dtype: float64 \t Current Constraint: 675    1.012552\n",
            "Name: c, dtype: float64\n"
          ]
        },
        {
          "output_type": "stream",
          "name": "stderr",
          "text": [
            "\r 78%|███████▊  | 548/700 [56:45<28:14, 11.14s/it]"
          ]
        },
        {
          "output_type": "stream",
          "name": "stdout",
          "text": [
            "Step: 549 \t Time: 3447.9371333122253\n",
            "Shift: 0.08642631495594978\n",
            "Current State: 676    0.500351\n",
            "Name: f, dtype: float64 \t Current Constraint: 676    1.013094\n",
            "Name: c, dtype: float64\n"
          ]
        },
        {
          "output_type": "stream",
          "name": "stderr",
          "text": [
            "\r 78%|███████▊  | 549/700 [56:55<26:48, 10.65s/it]"
          ]
        },
        {
          "output_type": "stream",
          "name": "stdout",
          "text": [
            "Step: 550 \t Time: 3457.429660320282\n",
            "Shift: 0.08674019322991372\n",
            "Current State: 677    1.105082\n",
            "Name: f, dtype: float64 \t Current Constraint: 677    1.013518\n",
            "Name: c, dtype: float64\n"
          ]
        },
        {
          "output_type": "stream",
          "name": "stderr",
          "text": [
            "\r 79%|███████▊  | 550/700 [57:07<28:03, 11.22s/it]"
          ]
        },
        {
          "output_type": "stream",
          "name": "stdout",
          "text": [
            "Step: 551 \t Time: 3469.98952627182\n",
            "Shift: 0.08693027447462082\n",
            "Current State: 678    1.724614\n",
            "Name: f, dtype: float64 \t Current Constraint: 678    1.014353\n",
            "Name: c, dtype: float64\n"
          ]
        },
        {
          "output_type": "stream",
          "name": "stderr",
          "text": [
            "\r 79%|███████▊  | 551/700 [57:15<25:12, 10.15s/it]"
          ]
        },
        {
          "output_type": "stream",
          "name": "stdout",
          "text": [
            "Step: 552 \t Time: 3477.6390101909637\n",
            "Shift: 0.08710163828730584\n",
            "Current State: 679    0.673382\n",
            "Name: f, dtype: float64 \t Current Constraint: 679    1.01174\n",
            "Name: c, dtype: float64\n"
          ]
        },
        {
          "output_type": "stream",
          "name": "stderr",
          "text": [
            "\r 79%|███████▉  | 552/700 [57:22<22:33,  9.15s/it]"
          ]
        },
        {
          "output_type": "stream",
          "name": "stdout",
          "text": [
            "Step: 553 \t Time: 3484.442759990692\n",
            "Shift: 0.08736834126114845\n",
            "Current State: 680    1.57281\n",
            "Name: f, dtype: float64 \t Current Constraint: 680    1.012814\n",
            "Name: c, dtype: float64\n"
          ]
        },
        {
          "output_type": "stream",
          "name": "stderr",
          "text": [
            "\r 79%|███████▉  | 553/700 [57:32<23:32,  9.61s/it]"
          ]
        },
        {
          "output_type": "stream",
          "name": "stdout",
          "text": [
            "Step: 554 \t Time: 3495.131097316742\n",
            "Shift: 0.08743937487602234\n",
            "Current State: 681    64.21637\n",
            "Name: f, dtype: float64 \t Current Constraint: 681    0.936816\n",
            "Name: c, dtype: float64\n"
          ]
        },
        {
          "output_type": "stream",
          "name": "stderr",
          "text": [
            "\r 79%|███████▉  | 554/700 [57:35<18:25,  7.57s/it]"
          ]
        },
        {
          "output_type": "stream",
          "name": "stdout",
          "text": [
            "Step: 555 \t Time: 3497.9480695724487\n",
            "Shift: 0.08746874915957452\n",
            "Current State: 682    27.296459\n",
            "Name: f, dtype: float64 \t Current Constraint: 682    1.015784\n",
            "Name: c, dtype: float64\n"
          ]
        },
        {
          "output_type": "stream",
          "name": "stderr",
          "text": [
            "\r 79%|███████▉  | 555/700 [57:36<13:39,  5.65s/it]"
          ]
        },
        {
          "output_type": "stream",
          "name": "stdout",
          "text": [
            "Step: 556 \t Time: 3499.131140232086\n",
            "Shift: 0.08749579839110375\n",
            "Current State: 683    10.252158\n",
            "Name: f, dtype: float64 \t Current Constraint: 683    1.007143\n",
            "Name: c, dtype: float64\n"
          ]
        },
        {
          "output_type": "stream",
          "name": "stderr",
          "text": [
            "\r 79%|███████▉  | 556/700 [57:37<10:16,  4.28s/it]"
          ]
        },
        {
          "output_type": "stream",
          "name": "stdout",
          "text": [
            "Step: 557 \t Time: 3500.2188217639923\n",
            "Shift: 0.0875534427702427\n",
            "Current State: 684    2.00148\n",
            "Name: f, dtype: float64 \t Current Constraint: 684    1.013579\n",
            "Name: c, dtype: float64\n"
          ]
        },
        {
          "output_type": "stream",
          "name": "stderr",
          "text": [
            "\r 80%|███████▉  | 557/700 [57:40<08:56,  3.75s/it]"
          ]
        },
        {
          "output_type": "stream",
          "name": "stdout",
          "text": [
            "Step: 558 \t Time: 3502.7165489196777\n",
            "Shift: 0.08758902643918992\n",
            "Current State: 685    30.55464\n",
            "Name: f, dtype: float64 \t Current Constraint: 685    1.036218\n",
            "Name: c, dtype: float64\n"
          ]
        },
        {
          "output_type": "stream",
          "name": "stderr",
          "text": [
            "\r 80%|███████▉  | 558/700 [57:41<07:05,  2.99s/it]"
          ]
        },
        {
          "output_type": "stream",
          "name": "stdout",
          "text": [
            "Step: 559 \t Time: 3503.947305202484\n",
            "Shift: 0.08761624888777733\n",
            "Current State: 686    8.202286\n",
            "Name: f, dtype: float64 \t Current Constraint: 686    1.005718\n",
            "Name: c, dtype: float64\n"
          ]
        },
        {
          "output_type": "stream",
          "name": "stderr",
          "text": [
            "\r 80%|███████▉  | 559/700 [57:42<05:41,  2.42s/it]"
          ]
        },
        {
          "output_type": "stream",
          "name": "stdout",
          "text": [
            "Step: 560 \t Time: 3505.0382163524628\n",
            "Shift: 0.0876448280274868\n",
            "Current State: 687    25.398912\n",
            "Name: f, dtype: float64 \t Current Constraint: 687    1.004349\n",
            "Name: c, dtype: float64\n"
          ]
        },
        {
          "output_type": "stream",
          "name": "stderr",
          "text": [
            "\r 80%|████████  | 560/700 [57:43<04:45,  2.04s/it]"
          ]
        },
        {
          "output_type": "stream",
          "name": "stdout",
          "text": [
            "Step: 561 \t Time: 3506.1792216300964\n",
            "Shift: 0.08770155568122864\n",
            "Current State: 688    0.22834\n",
            "Name: f, dtype: float64 \t Current Constraint: 688    1.012934\n",
            "Name: c, dtype: float64\n"
          ]
        },
        {
          "output_type": "stream",
          "name": "stderr",
          "text": [
            "\r 80%|████████  | 561/700 [57:46<04:52,  2.11s/it]"
          ]
        },
        {
          "output_type": "stream",
          "name": "stdout",
          "text": [
            "Step: 562 \t Time: 3508.4488608837128\n",
            "Shift: 0.08773054611682893\n",
            "Current State: 689    25.40822\n",
            "Name: f, dtype: float64 \t Current Constraint: 689    1.004808\n",
            "Name: c, dtype: float64\n"
          ]
        },
        {
          "output_type": "stream",
          "name": "stderr",
          "text": [
            "\r 80%|████████  | 562/700 [57:47<04:11,  1.82s/it]"
          ]
        },
        {
          "output_type": "stream",
          "name": "stdout",
          "text": [
            "Step: 563 \t Time: 3509.5997185707092\n",
            "Shift: 0.08779210737347604\n",
            "Current State: 690    3.165059\n",
            "Name: f, dtype: float64 \t Current Constraint: 690    1.01248\n",
            "Name: c, dtype: float64\n"
          ]
        },
        {
          "output_type": "stream",
          "name": "stderr",
          "text": [
            "\r 80%|████████  | 563/700 [57:49<04:35,  2.01s/it]"
          ]
        },
        {
          "output_type": "stream",
          "name": "stdout",
          "text": [
            "Step: 564 \t Time: 3512.0661516189575\n",
            "Shift: 0.087829388910532\n",
            "Current State: 691    0.363302\n",
            "Name: f, dtype: float64 \t Current Constraint: 691    1.010856\n",
            "Name: c, dtype: float64\n"
          ]
        },
        {
          "output_type": "stream",
          "name": "stderr",
          "text": [
            "\r 81%|████████  | 564/700 [57:51<04:20,  1.91s/it]"
          ]
        },
        {
          "output_type": "stream",
          "name": "stdout",
          "text": [
            "Step: 565 \t Time: 3513.745803833008\n",
            "Shift: 0.08787064195871354\n",
            "Current State: 692    46.568016\n",
            "Name: f, dtype: float64 \t Current Constraint: 692    0.954739\n",
            "Name: c, dtype: float64\n"
          ]
        },
        {
          "output_type": "stream",
          "name": "stderr",
          "text": [
            "\r 81%|████████  | 565/700 [57:53<04:07,  1.83s/it]"
          ]
        },
        {
          "output_type": "stream",
          "name": "stdout",
          "text": [
            "Step: 566 \t Time: 3515.3880870342255\n",
            "Shift: 0.0879116213798523\n",
            "Current State: 693    21.28121\n",
            "Name: f, dtype: float64 \t Current Constraint: 693    1.012458\n",
            "Name: c, dtype: float64\n"
          ]
        },
        {
          "output_type": "stream",
          "name": "stderr",
          "text": [
            "\r 81%|████████  | 566/700 [57:54<03:50,  1.72s/it]"
          ]
        },
        {
          "output_type": "stream",
          "name": "stdout",
          "text": [
            "Step: 567 \t Time: 3516.844122648239\n",
            "Shift: 0.08794212296009064\n",
            "Current State: 694    28.064659\n",
            "Name: f, dtype: float64 \t Current Constraint: 694    1.018028\n",
            "Name: c, dtype: float64\n"
          ]
        },
        {
          "output_type": "stream",
          "name": "stderr",
          "text": [
            "\r 81%|████████  | 567/700 [57:55<03:29,  1.57s/it]"
          ]
        },
        {
          "output_type": "stream",
          "name": "stdout",
          "text": [
            "Step: 568 \t Time: 3518.080624103546\n",
            "Shift: 0.0880147656917572\n",
            "Current State: 695    0.821569\n",
            "Name: f, dtype: float64 \t Current Constraint: 695    1.011203\n",
            "Name: c, dtype: float64\n"
          ]
        },
        {
          "output_type": "stream",
          "name": "stderr",
          "text": [
            "\r 81%|████████  | 568/700 [57:58<04:20,  1.97s/it]"
          ]
        },
        {
          "output_type": "stream",
          "name": "stdout",
          "text": [
            "Step: 569 \t Time: 3520.9797990322113\n",
            "Shift: 0.08806520110964776\n",
            "Current State: 696    0.626405\n",
            "Name: f, dtype: float64 \t Current Constraint: 696    1.01242\n",
            "Name: c, dtype: float64\n"
          ]
        },
        {
          "output_type": "stream",
          "name": "stderr",
          "text": [
            "\r 81%|████████▏ | 569/700 [58:00<04:20,  1.99s/it]"
          ]
        },
        {
          "output_type": "stream",
          "name": "stdout",
          "text": [
            "Step: 570 \t Time: 3522.995989561081\n",
            "Shift: 0.08810460013747216\n",
            "Current State: 697    10.604718\n",
            "Name: f, dtype: float64 \t Current Constraint: 697    1.003405\n",
            "Name: c, dtype: float64\n"
          ]
        },
        {
          "output_type": "stream",
          "name": "stderr",
          "text": [
            "\r 81%|████████▏ | 570/700 [58:02<04:01,  1.86s/it]"
          ]
        },
        {
          "output_type": "stream",
          "name": "stdout",
          "text": [
            "Step: 571 \t Time: 3524.567041873932\n",
            "Shift: 0.08813385601043702\n",
            "Current State: 698    22.348509\n",
            "Name: f, dtype: float64 \t Current Constraint: 698    0.985567\n",
            "Name: c, dtype: float64\n"
          ]
        },
        {
          "output_type": "stream",
          "name": "stderr",
          "text": [
            "\r 82%|████████▏ | 571/700 [58:03<03:33,  1.65s/it]"
          ]
        },
        {
          "output_type": "stream",
          "name": "stdout",
          "text": [
            "Step: 572 \t Time: 3525.7285652160645\n",
            "Shift: 0.08816762572526932\n",
            "Current State: 699    30.780281\n",
            "Name: f, dtype: float64 \t Current Constraint: 699    1.013993\n",
            "Name: c, dtype: float64\n"
          ]
        },
        {
          "output_type": "stream",
          "name": "stderr",
          "text": [
            "\r 82%|████████▏ | 572/700 [58:04<03:27,  1.62s/it]"
          ]
        },
        {
          "output_type": "stream",
          "name": "stdout",
          "text": [
            "Step: 573 \t Time: 3527.2789533138275\n",
            "Shift: 0.08820799015760422\n",
            "Current State: 700    17.492006\n",
            "Name: f, dtype: float64 \t Current Constraint: 700    0.990638\n",
            "Name: c, dtype: float64\n"
          ]
        },
        {
          "output_type": "stream",
          "name": "stderr",
          "text": [
            "\r 82%|████████▏ | 573/700 [58:06<03:21,  1.59s/it]"
          ]
        },
        {
          "output_type": "stream",
          "name": "stdout",
          "text": [
            "Step: 574 \t Time: 3528.7978587150574\n",
            "Shift: 0.08824521322250367\n",
            "Current State: 701    35.825741\n",
            "Name: f, dtype: float64 \t Current Constraint: 701    1.026009\n",
            "Name: c, dtype: float64\n"
          ]
        },
        {
          "output_type": "stream",
          "name": "stderr",
          "text": [
            "\r 82%|████████▏ | 574/700 [58:07<03:13,  1.53s/it]"
          ]
        },
        {
          "output_type": "stream",
          "name": "stdout",
          "text": [
            "Step: 575 \t Time: 3530.195391178131\n",
            "Shift: 0.08828350273370743\n",
            "Current State: 702    0.871189\n",
            "Name: f, dtype: float64 \t Current Constraint: 702    1.011124\n",
            "Name: c, dtype: float64\n"
          ]
        },
        {
          "output_type": "stream",
          "name": "stderr",
          "text": [
            "\r 82%|████████▏ | 575/700 [58:09<03:13,  1.55s/it]"
          ]
        },
        {
          "output_type": "stream",
          "name": "stdout",
          "text": [
            "Step: 576 \t Time: 3531.7740659713745\n",
            "Shift: 0.0883173081278801\n",
            "Current State: 703    25.556097\n",
            "Name: f, dtype: float64 \t Current Constraint: 703    1.005167\n",
            "Name: c, dtype: float64\n"
          ]
        },
        {
          "output_type": "stream",
          "name": "stderr",
          "text": [
            "\r 82%|████████▏ | 576/700 [58:10<03:02,  1.47s/it]"
          ]
        },
        {
          "output_type": "stream",
          "name": "stdout",
          "text": [
            "Step: 577 \t Time: 3533.071395635605\n",
            "Shift: 0.0883497395157814\n",
            "Current State: 704    30.783716\n",
            "Name: f, dtype: float64 \t Current Constraint: 704    0.992716\n",
            "Name: c, dtype: float64\n"
          ]
        },
        {
          "output_type": "stream",
          "name": "stderr",
          "text": [
            "\r 82%|████████▏ | 577/700 [58:12<02:54,  1.42s/it]"
          ]
        },
        {
          "output_type": "stream",
          "name": "stdout",
          "text": [
            "Step: 578 \t Time: 3534.3645770549774\n",
            "Shift: 0.08839107279777528\n",
            "Current State: 705    9.824979\n",
            "Name: f, dtype: float64 \t Current Constraint: 705    1.008754\n",
            "Name: c, dtype: float64\n"
          ]
        },
        {
          "output_type": "stream",
          "name": "stderr",
          "text": [
            "\r 83%|████████▎ | 578/700 [58:13<03:01,  1.49s/it]"
          ]
        },
        {
          "output_type": "stream",
          "name": "stdout",
          "text": [
            "Step: 579 \t Time: 3536.021420478821\n",
            "Shift: 0.0884241512298584\n",
            "Current State: 706    52.840542\n",
            "Name: f, dtype: float64 \t Current Constraint: 706    0.980699\n",
            "Name: c, dtype: float64\n"
          ]
        },
        {
          "output_type": "stream",
          "name": "stderr",
          "text": [
            "\r 83%|████████▎ | 579/700 [58:15<02:54,  1.44s/it]"
          ]
        },
        {
          "output_type": "stream",
          "name": "stdout",
          "text": [
            "Step: 580 \t Time: 3537.344767808914\n",
            "Shift: 0.08855588712096214\n",
            "Current State: 707    0.805396\n",
            "Name: f, dtype: float64 \t Current Constraint: 707    1.01356\n",
            "Name: c, dtype: float64\n"
          ]
        },
        {
          "output_type": "stream",
          "name": "stderr",
          "text": [
            "\r 83%|████████▎ | 580/700 [58:20<05:10,  2.59s/it]"
          ]
        },
        {
          "output_type": "stream",
          "name": "stdout",
          "text": [
            "Step: 581 \t Time: 3542.616486310959\n",
            "Shift: 0.08858550661802292\n",
            "Current State: 708    30.636143\n",
            "Name: f, dtype: float64 \t Current Constraint: 708    1.026929\n",
            "Name: c, dtype: float64\n"
          ]
        },
        {
          "output_type": "stream",
          "name": "stderr",
          "text": [
            "\r 83%|████████▎ | 581/700 [58:21<04:17,  2.17s/it]"
          ]
        },
        {
          "output_type": "stream",
          "name": "stdout",
          "text": [
            "Step: 582 \t Time: 3543.7924032211304\n",
            "Shift: 0.08861504914164543\n",
            "Current State: 709    34.865601\n",
            "Name: f, dtype: float64 \t Current Constraint: 709    1.018484\n",
            "Name: c, dtype: float64\n"
          ]
        },
        {
          "output_type": "stream",
          "name": "stderr",
          "text": [
            "\r 83%|████████▎ | 582/700 [58:22<03:41,  1.88s/it]"
          ]
        },
        {
          "output_type": "stream",
          "name": "stdout",
          "text": [
            "Step: 583 \t Time: 3545.0013480186462\n",
            "Shift: 0.08864400697946549\n",
            "Current State: 710    26.23336\n",
            "Name: f, dtype: float64 \t Current Constraint: 710    1.001594\n",
            "Name: c, dtype: float64\n"
          ]
        },
        {
          "output_type": "stream",
          "name": "stderr",
          "text": [
            "\r 83%|████████▎ | 583/700 [58:23<03:14,  1.66s/it]"
          ]
        },
        {
          "output_type": "stream",
          "name": "stdout",
          "text": [
            "Step: 584 \t Time: 3546.155412912369\n",
            "Shift: 0.08869290903806687\n",
            "Current State: 711    0.900829\n",
            "Name: f, dtype: float64 \t Current Constraint: 711    1.013356\n",
            "Name: c, dtype: float64\n"
          ]
        },
        {
          "output_type": "stream",
          "name": "stderr",
          "text": [
            "\r 83%|████████▎ | 584/700 [58:25<03:23,  1.75s/it]"
          ]
        },
        {
          "output_type": "stream",
          "name": "stdout",
          "text": [
            "Step: 585 \t Time: 3548.1231973171234\n",
            "Shift: 0.08872326740026475\n",
            "Current State: 712    34.396118\n",
            "Name: f, dtype: float64 \t Current Constraint: 712    1.01338\n",
            "Name: c, dtype: float64\n"
          ]
        },
        {
          "output_type": "stream",
          "name": "stderr",
          "text": [
            "\r 84%|████████▎ | 585/700 [58:27<03:02,  1.59s/it]"
          ]
        },
        {
          "output_type": "stream",
          "name": "stdout",
          "text": [
            "Step: 586 \t Time: 3549.3171870708466\n",
            "Shift: 0.08875294803977013\n",
            "Current State: 713    34.007454\n",
            "Name: f, dtype: float64 \t Current Constraint: 713    0.999965\n",
            "Name: c, dtype: float64\n"
          ]
        },
        {
          "output_type": "stream",
          "name": "stderr",
          "text": [
            "\r 84%|████████▎ | 586/700 [58:28<02:46,  1.46s/it]"
          ]
        },
        {
          "output_type": "stream",
          "name": "stdout",
          "text": [
            "Step: 587 \t Time: 3550.4963886737823\n",
            "Shift: 0.08879390441179276\n",
            "Current State: 714    1.657184\n",
            "Name: f, dtype: float64 \t Current Constraint: 714    1.014249\n",
            "Name: c, dtype: float64\n"
          ]
        },
        {
          "output_type": "stream",
          "name": "stderr",
          "text": [
            "\r 84%|████████▍ | 587/700 [58:29<02:51,  1.52s/it]"
          ]
        },
        {
          "output_type": "stream",
          "name": "stdout",
          "text": [
            "Step: 588 \t Time: 3552.153562307358\n",
            "Shift: 0.08883340877890587\n",
            "Current State: 715    5.139978\n",
            "Name: f, dtype: float64 \t Current Constraint: 715    1.006702\n",
            "Name: c, dtype: float64\n"
          ]
        },
        {
          "output_type": "stream",
          "name": "stderr",
          "text": [
            "\r 84%|████████▍ | 588/700 [58:31<02:58,  1.59s/it]"
          ]
        },
        {
          "output_type": "stream",
          "name": "stdout",
          "text": [
            "Step: 589 \t Time: 3553.9087958335876\n",
            "Shift: 0.08887498730421067\n",
            "Current State: 716    25.70882\n",
            "Name: f, dtype: float64 \t Current Constraint: 716    1.005097\n",
            "Name: c, dtype: float64\n"
          ]
        },
        {
          "output_type": "stream",
          "name": "stderr",
          "text": [
            "\r 84%|████████▍ | 589/700 [58:33<02:53,  1.56s/it]"
          ]
        },
        {
          "output_type": "stream",
          "name": "stdout",
          "text": [
            "Step: 590 \t Time: 3555.406500339508\n",
            "Shift: 0.08890758891105652\n",
            "Current State: 717    28.719353\n",
            "Name: f, dtype: float64 \t Current Constraint: 717    1.018327\n",
            "Name: c, dtype: float64\n"
          ]
        },
        {
          "output_type": "stream",
          "name": "stderr",
          "text": [
            "\r 84%|████████▍ | 590/700 [58:34<02:42,  1.48s/it]"
          ]
        },
        {
          "output_type": "stream",
          "name": "stdout",
          "text": [
            "Step: 591 \t Time: 3556.6855731010437\n",
            "Shift: 0.0889459571659565\n",
            "Current State: 718    0.363692\n",
            "Name: f, dtype: float64 \t Current Constraint: 718    1.014083\n",
            "Name: c, dtype: float64\n"
          ]
        },
        {
          "output_type": "stream",
          "name": "stderr",
          "text": [
            "\r 84%|████████▍ | 591/700 [58:35<02:43,  1.50s/it]"
          ]
        },
        {
          "output_type": "stream",
          "name": "stdout",
          "text": [
            "Step: 592 \t Time: 3558.224408864975\n",
            "Shift: 0.08897658826112748\n",
            "Current State: 719    8.776228\n",
            "Name: f, dtype: float64 \t Current Constraint: 719    0.998752\n",
            "Name: c, dtype: float64\n"
          ]
        },
        {
          "output_type": "stream",
          "name": "stderr",
          "text": [
            "\r 85%|████████▍ | 592/700 [58:37<02:32,  1.41s/it]"
          ]
        },
        {
          "output_type": "stream",
          "name": "stdout",
          "text": [
            "Step: 593 \t Time: 3559.4470138549805\n",
            "Shift: 0.08903744544386864\n",
            "Current State: 720    0.567828\n",
            "Name: f, dtype: float64 \t Current Constraint: 720    1.013631\n",
            "Name: c, dtype: float64\n"
          ]
        },
        {
          "output_type": "stream",
          "name": "stderr",
          "text": [
            "\r 85%|████████▍ | 593/700 [58:39<03:05,  1.73s/it]"
          ]
        },
        {
          "output_type": "stream",
          "name": "stdout",
          "text": [
            "Step: 594 \t Time: 3561.924833059311\n",
            "Shift: 0.0890955534040928\n",
            "Current State: 721    0.524075\n",
            "Name: f, dtype: float64 \t Current Constraint: 721    1.014677\n",
            "Name: c, dtype: float64\n"
          ]
        },
        {
          "output_type": "stream",
          "name": "stderr",
          "text": [
            "\r 85%|████████▍ | 594/700 [58:41<03:21,  1.90s/it]"
          ]
        },
        {
          "output_type": "stream",
          "name": "stdout",
          "text": [
            "Step: 595 \t Time: 3564.201918363571\n",
            "Shift: 0.08914244102239609\n",
            "Current State: 722    0.563213\n",
            "Name: f, dtype: float64 \t Current Constraint: 722    1.013741\n",
            "Name: c, dtype: float64\n"
          ]
        },
        {
          "output_type": "stream",
          "name": "stderr",
          "text": [
            "\r 85%|████████▌ | 595/700 [58:43<03:22,  1.93s/it]"
          ]
        },
        {
          "output_type": "stream",
          "name": "stdout",
          "text": [
            "Step: 596 \t Time: 3566.2030041217804\n",
            "Shift: 0.08918341783285141\n",
            "Current State: 723    11.416504\n",
            "Name: f, dtype: float64 \t Current Constraint: 723    1.009072\n",
            "Name: c, dtype: float64\n"
          ]
        },
        {
          "output_type": "stream",
          "name": "stderr",
          "text": [
            "\r 85%|████████▌ | 596/700 [58:45<03:13,  1.86s/it]"
          ]
        },
        {
          "output_type": "stream",
          "name": "stdout",
          "text": [
            "Step: 597 \t Time: 3567.9011447429657\n",
            "Shift: 0.08935369988679887\n",
            "Current State: 724    0.407121\n",
            "Name: f, dtype: float64 \t Current Constraint: 724    1.014614\n",
            "Name: c, dtype: float64\n"
          ]
        },
        {
          "output_type": "stream",
          "name": "stderr",
          "text": [
            "\r 85%|████████▌ | 597/700 [58:52<05:38,  3.29s/it]"
          ]
        },
        {
          "output_type": "stream",
          "name": "stdout",
          "text": [
            "Step: 598 \t Time: 3574.533952474594\n",
            "Shift: 0.08940040545463562\n",
            "Current State: 725    0.456999\n",
            "Name: f, dtype: float64 \t Current Constraint: 725    1.012839\n",
            "Name: c, dtype: float64\n"
          ]
        },
        {
          "output_type": "stream",
          "name": "stderr",
          "text": [
            "\r 85%|████████▌ | 598/700 [58:54<04:51,  2.86s/it]"
          ]
        },
        {
          "output_type": "stream",
          "name": "stdout",
          "text": [
            "Step: 599 \t Time: 3576.3959686756134\n",
            "Shift: 0.08944615876674653\n",
            "Current State: 726    0.296077\n",
            "Name: f, dtype: float64 \t Current Constraint: 726    1.012991\n",
            "Name: c, dtype: float64\n"
          ]
        },
        {
          "output_type": "stream",
          "name": "stderr",
          "text": [
            "\r 86%|████████▌ | 599/700 [58:55<04:19,  2.57s/it]"
          ]
        },
        {
          "output_type": "stream",
          "name": "stdout",
          "text": [
            "Step: 600 \t Time: 3578.271953344345\n",
            "Shift: 0.08951260793805123\n",
            "Current State: 727    0.168751\n",
            "Name: f, dtype: float64 \t Current Constraint: 727    1.013468\n",
            "Name: c, dtype: float64\n"
          ]
        },
        {
          "output_type": "stream",
          "name": "stderr",
          "text": [
            "\r 86%|████████▌ | 600/700 [58:58<04:21,  2.61s/it]"
          ]
        },
        {
          "output_type": "stream",
          "name": "stdout",
          "text": [
            "Step: 601 \t Time: 3581.0001101493835\n",
            "Shift: 0.08954290185570717\n",
            "Current State: 728    6.332955\n",
            "Name: f, dtype: float64 \t Current Constraint: 728    1.003968\n",
            "Name: c, dtype: float64\n"
          ]
        },
        {
          "output_type": "stream",
          "name": "stderr",
          "text": [
            "\r 86%|████████▌ | 601/700 [58:59<03:33,  2.16s/it]"
          ]
        },
        {
          "output_type": "stream",
          "name": "stdout",
          "text": [
            "Step: 602 \t Time: 3582.0966486930847\n",
            "Shift: 0.08959166964292527\n",
            "Current State: 729    0.812336\n",
            "Name: f, dtype: float64 \t Current Constraint: 729    1.013527\n",
            "Name: c, dtype: float64\n"
          ]
        },
        {
          "output_type": "stream",
          "name": "stderr",
          "text": [
            "\r 86%|████████▌ | 602/700 [59:01<03:25,  2.10s/it]"
          ]
        },
        {
          "output_type": "stream",
          "name": "stdout",
          "text": [
            "Step: 603 \t Time: 3584.061343431473\n",
            "Shift: 0.08964142854809762\n",
            "Current State: 730    0.127682\n",
            "Name: f, dtype: float64 \t Current Constraint: 730    1.01381\n",
            "Name: c, dtype: float64\n"
          ]
        },
        {
          "output_type": "stream",
          "name": "stderr",
          "text": [
            "\r 86%|████████▌ | 603/700 [59:03<03:20,  2.06s/it]"
          ]
        },
        {
          "output_type": "stream",
          "name": "stdout",
          "text": [
            "Step: 604 \t Time: 3586.0405673980713\n",
            "Shift: 0.08966879958510399\n",
            "Current State: 731    9.45681\n",
            "Name: f, dtype: float64 \t Current Constraint: 731    0.999431\n",
            "Name: c, dtype: float64\n"
          ]
        },
        {
          "output_type": "stream",
          "name": "stderr",
          "text": [
            "\r 86%|████████▋ | 604/700 [59:04<02:50,  1.77s/it]"
          ]
        },
        {
          "output_type": "stream",
          "name": "stdout",
          "text": [
            "Step: 605 \t Time: 3587.1315207481384\n",
            "Shift: 0.08971102811694145\n",
            "Current State: 732    0.332735\n",
            "Name: f, dtype: float64 \t Current Constraint: 732    1.014415\n",
            "Name: c, dtype: float64\n"
          ]
        },
        {
          "output_type": "stream",
          "name": "stderr",
          "text": [
            "\r 86%|████████▋ | 605/700 [59:06<02:46,  1.75s/it]"
          ]
        },
        {
          "output_type": "stream",
          "name": "stdout",
          "text": [
            "Step: 606 \t Time: 3588.8314411640167\n",
            "Shift: 0.08974614137411117\n",
            "Current State: 733    6.812112\n",
            "Name: f, dtype: float64 \t Current Constraint: 733    1.00168\n",
            "Name: c, dtype: float64\n"
          ]
        },
        {
          "output_type": "stream",
          "name": "stderr",
          "text": [
            "\r 87%|████████▋ | 606/700 [59:07<02:34,  1.64s/it]"
          ]
        },
        {
          "output_type": "stream",
          "name": "stdout",
          "text": [
            "Step: 607 \t Time: 3590.2258682250977\n",
            "Shift: 0.08979930185079575\n",
            "Current State: 734    1.958442\n",
            "Name: f, dtype: float64 \t Current Constraint: 734    1.012693\n",
            "Name: c, dtype: float64\n"
          ]
        },
        {
          "output_type": "stream",
          "name": "stderr",
          "text": [
            "\r 87%|████████▋ | 607/700 [59:10<02:50,  1.84s/it]"
          ]
        },
        {
          "output_type": "stream",
          "name": "stdout",
          "text": [
            "Step: 608 \t Time: 3592.5078608989716\n",
            "Shift: 0.08999801959395409\n",
            "Current State: 735    0.341907\n",
            "Name: f, dtype: float64 \t Current Constraint: 735    1.0144\n",
            "Name: c, dtype: float64\n"
          ]
        },
        {
          "output_type": "stream",
          "name": "stderr",
          "text": [
            "\r 87%|████████▋ | 608/700 [59:18<05:33,  3.62s/it]"
          ]
        },
        {
          "output_type": "stream",
          "name": "stdout",
          "text": [
            "Step: 609 \t Time: 3600.3040997982025\n",
            "Shift: 0.09011783741116525\n",
            "Current State: 736    0.40619\n",
            "Name: f, dtype: float64 \t Current Constraint: 736    1.014388\n",
            "Name: c, dtype: float64\n"
          ]
        },
        {
          "output_type": "stream",
          "name": "stderr",
          "text": [
            "\r 87%|████████▋ | 609/700 [59:23<06:07,  4.04s/it]"
          ]
        },
        {
          "output_type": "stream",
          "name": "stdout",
          "text": [
            "Step: 610 \t Time: 3605.327084541321\n",
            "Shift: 0.09021199163198472\n",
            "Current State: 737    0.466126\n",
            "Name: f, dtype: float64 \t Current Constraint: 737    1.014231\n",
            "Name: c, dtype: float64\n"
          ]
        },
        {
          "output_type": "stream",
          "name": "stderr",
          "text": [
            "\r 87%|████████▋ | 610/700 [59:26<05:50,  3.89s/it]"
          ]
        },
        {
          "output_type": "stream",
          "name": "stdout",
          "text": [
            "Step: 611 \t Time: 3608.8621397018433\n",
            "Shift: 0.0902609099328518\n",
            "Current State: 738    0.435537\n",
            "Name: f, dtype: float64 \t Current Constraint: 738    1.013827\n",
            "Name: c, dtype: float64\n"
          ]
        },
        {
          "output_type": "stream",
          "name": "stderr",
          "text": [
            "\r 87%|████████▋ | 611/700 [59:28<04:54,  3.31s/it]"
          ]
        },
        {
          "output_type": "stream",
          "name": "stdout",
          "text": [
            "Step: 612 \t Time: 3610.816998243332\n",
            "Shift: 0.09034301214814186\n",
            "Current State: 739    0.4132\n",
            "Name: f, dtype: float64 \t Current Constraint: 739    1.013595\n",
            "Name: c, dtype: float64\n"
          ]
        },
        {
          "output_type": "stream",
          "name": "stderr",
          "text": [
            "\r 87%|████████▋ | 612/700 [59:31<04:50,  3.31s/it]"
          ]
        },
        {
          "output_type": "stream",
          "name": "stdout",
          "text": [
            "Step: 613 \t Time: 3614.112543106079\n",
            "Shift: 0.09038599913716316\n",
            "Current State: 740    0.379686\n",
            "Name: f, dtype: float64 \t Current Constraint: 740    1.013602\n",
            "Name: c, dtype: float64\n"
          ]
        },
        {
          "output_type": "stream",
          "name": "stderr",
          "text": [
            "\r 88%|████████▊ | 613/700 [59:33<04:05,  2.83s/it]"
          ]
        },
        {
          "output_type": "stream",
          "name": "stdout",
          "text": [
            "Step: 614 \t Time: 3615.8216116428375\n",
            "Shift: 0.09045091800689697\n",
            "Current State: 741    0.380476\n",
            "Name: f, dtype: float64 \t Current Constraint: 741    1.012816\n",
            "Name: c, dtype: float64\n"
          ]
        },
        {
          "output_type": "stream",
          "name": "stderr",
          "text": [
            "\r 88%|████████▊ | 614/700 [59:36<04:02,  2.82s/it]"
          ]
        },
        {
          "output_type": "stream",
          "name": "stdout",
          "text": [
            "Step: 615 \t Time: 3618.6286799907684\n",
            "Shift: 0.09051397748589517\n",
            "Current State: 742    0.378008\n",
            "Name: f, dtype: float64 \t Current Constraint: 742    1.012566\n",
            "Name: c, dtype: float64\n"
          ]
        },
        {
          "output_type": "stream",
          "name": "stderr",
          "text": [
            "\r 88%|████████▊ | 615/700 [59:38<03:47,  2.67s/it]"
          ]
        },
        {
          "output_type": "stream",
          "name": "stdout",
          "text": [
            "Step: 616 \t Time: 3620.955235004425\n",
            "Shift: 0.0905951150894165\n",
            "Current State: 743    0.377897\n",
            "Name: f, dtype: float64 \t Current Constraint: 743    1.014079\n",
            "Name: c, dtype: float64\n"
          ]
        },
        {
          "output_type": "stream",
          "name": "stderr",
          "text": [
            "\r 88%|████████▊ | 616/700 [59:41<03:58,  2.84s/it]"
          ]
        },
        {
          "output_type": "stream",
          "name": "stdout",
          "text": [
            "Step: 617 \t Time: 3624.1925303936005\n",
            "Shift: 0.09061945056319237\n",
            "Current State: 744    5.611282\n",
            "Name: f, dtype: float64 \t Current Constraint: 744    1.00246\n",
            "Name: c, dtype: float64\n"
          ]
        },
        {
          "output_type": "stream",
          "name": "stderr",
          "text": [
            "\r 88%|████████▊ | 617/700 [59:42<03:09,  2.28s/it]"
          ]
        },
        {
          "output_type": "stream",
          "name": "stdout",
          "text": [
            "Step: 618 \t Time: 3625.1628093719482\n",
            "Shift: 0.09069714899063111\n",
            "Current State: 745    0.339248\n",
            "Name: f, dtype: float64 \t Current Constraint: 745    1.01447\n",
            "Name: c, dtype: float64\n"
          ]
        },
        {
          "output_type": "stream",
          "name": "stderr",
          "text": [
            "\r 88%|████████▊ | 618/700 [59:46<03:27,  2.54s/it]"
          ]
        },
        {
          "output_type": "stream",
          "name": "stdout",
          "text": [
            "Step: 619 \t Time: 3628.293696641922\n",
            "Shift: 0.09075556176304818\n",
            "Current State: 746    0.466912\n",
            "Name: f, dtype: float64 \t Current Constraint: 746    1.01274\n",
            "Name: c, dtype: float64\n"
          ]
        },
        {
          "output_type": "stream",
          "name": "stderr",
          "text": [
            "\r 88%|████████▊ | 619/700 [59:48<03:25,  2.53s/it]"
          ]
        },
        {
          "output_type": "stream",
          "name": "stdout",
          "text": [
            "Step: 620 \t Time: 3630.819848060608\n",
            "Shift: 0.09081470663547517\n",
            "Current State: 747    1.949177\n",
            "Name: f, dtype: float64 \t Current Constraint: 747    1.009639\n",
            "Name: c, dtype: float64\n"
          ]
        },
        {
          "output_type": "stream",
          "name": "stderr",
          "text": [
            "\r 89%|████████▊ | 620/700 [59:50<03:17,  2.47s/it]"
          ]
        },
        {
          "output_type": "stream",
          "name": "stdout",
          "text": [
            "Step: 621 \t Time: 3633.1514117717743\n",
            "Shift: 0.09087668617367745\n",
            "Current State: 748    0.520643\n",
            "Name: f, dtype: float64 \t Current Constraint: 748    1.013696\n",
            "Name: c, dtype: float64\n"
          ]
        },
        {
          "output_type": "stream",
          "name": "stderr",
          "text": [
            "\r 89%|████████▊ | 621/700 [59:53<03:11,  2.42s/it]"
          ]
        },
        {
          "output_type": "stream",
          "name": "stdout",
          "text": [
            "Step: 622 \t Time: 3635.454800605774\n",
            "Shift: 0.09095293571949005\n",
            "Current State: 749    0.440758\n",
            "Name: f, dtype: float64 \t Current Constraint: 749    1.012706\n",
            "Name: c, dtype: float64\n"
          ]
        },
        {
          "output_type": "stream",
          "name": "stderr",
          "text": [
            "\r 89%|████████▉ | 622/700 [59:56<03:23,  2.61s/it]"
          ]
        },
        {
          "output_type": "stream",
          "name": "stdout",
          "text": [
            "Step: 623 \t Time: 3638.49342417717\n",
            "Shift: 0.091028030616045\n",
            "Current State: 750    0.498353\n",
            "Name: f, dtype: float64 \t Current Constraint: 750    1.013291\n",
            "Name: c, dtype: float64\n"
          ]
        },
        {
          "output_type": "stream",
          "name": "stderr",
          "text": [
            "\r 89%|████████▉ | 623/700 [59:59<03:30,  2.73s/it]"
          ]
        },
        {
          "output_type": "stream",
          "name": "stdout",
          "text": [
            "Step: 624 \t Time: 3641.503543615341\n",
            "Shift: 0.0910658010005951\n",
            "Current State: 751    8.358409\n",
            "Name: f, dtype: float64 \t Current Constraint: 751    1.006953\n",
            "Name: c, dtype: float64\n"
          ]
        },
        {
          "output_type": "stream",
          "name": "stderr",
          "text": [
            "\r 89%|████████▉ | 624/700 [1:00:00<02:59,  2.36s/it]"
          ]
        },
        {
          "output_type": "stream",
          "name": "stdout",
          "text": [
            "Step: 625 \t Time: 3643.018488883972\n",
            "Shift: 0.09111969250440598\n",
            "Current State: 752    0.502204\n",
            "Name: f, dtype: float64 \t Current Constraint: 752    1.013632\n",
            "Name: c, dtype: float64\n"
          ]
        },
        {
          "output_type": "stream",
          "name": "stderr",
          "text": [
            "\r 89%|████████▉ | 625/700 [1:00:03<02:55,  2.35s/it]"
          ]
        },
        {
          "output_type": "stream",
          "name": "stdout",
          "text": [
            "Step: 626 \t Time: 3645.321145057678\n",
            "Shift: 0.09117524338364602\n",
            "Current State: 753    2.844461\n",
            "Name: f, dtype: float64 \t Current Constraint: 753    1.008315\n",
            "Name: c, dtype: float64\n"
          ]
        },
        {
          "output_type": "stream",
          "name": "stderr",
          "text": [
            "\r 89%|████████▉ | 626/700 [1:00:05<02:47,  2.26s/it]"
          ]
        },
        {
          "output_type": "stream",
          "name": "stdout",
          "text": [
            "Step: 627 \t Time: 3647.388690471649\n",
            "Shift: 0.09123079614639283\n",
            "Current State: 754    0.929806\n",
            "Name: f, dtype: float64 \t Current Constraint: 754    1.013493\n",
            "Name: c, dtype: float64\n"
          ]
        },
        {
          "output_type": "stream",
          "name": "stderr",
          "text": [
            "\r 90%|████████▉ | 627/700 [1:00:07<02:44,  2.25s/it]"
          ]
        },
        {
          "output_type": "stream",
          "name": "stdout",
          "text": [
            "Step: 628 \t Time: 3649.615293264389\n",
            "Shift: 0.09140582169294358\n",
            "Current State: 755    0.923398\n",
            "Name: f, dtype: float64 \t Current Constraint: 755    1.012978\n",
            "Name: c, dtype: float64\n"
          ]
        },
        {
          "output_type": "stream",
          "name": "stderr",
          "text": [
            "\r 90%|████████▉ | 628/700 [1:00:14<04:24,  3.67s/it]"
          ]
        },
        {
          "output_type": "stream",
          "name": "stdout",
          "text": [
            "Step: 629 \t Time: 3656.6113324165344\n",
            "Shift: 0.09146729946136475\n",
            "Current State: 756    0.391252\n",
            "Name: f, dtype: float64 \t Current Constraint: 756    1.013349\n",
            "Name: c, dtype: float64\n"
          ]
        },
        {
          "output_type": "stream",
          "name": "stderr",
          "text": [
            "\r 90%|████████▉ | 629/700 [1:00:16<03:58,  3.35s/it]"
          ]
        },
        {
          "output_type": "stream",
          "name": "stdout",
          "text": [
            "Step: 630 \t Time: 3659.2128558158875\n",
            "Shift: 0.09153961310386659\n",
            "Current State: 757    0.082758\n",
            "Name: f, dtype: float64 \t Current Constraint: 757    1.014295\n",
            "Name: c, dtype: float64\n"
          ]
        },
        {
          "output_type": "stream",
          "name": "stderr",
          "text": [
            "\r 90%|█████████ | 630/700 [1:00:19<03:41,  3.17s/it]"
          ]
        },
        {
          "output_type": "stream",
          "name": "stdout",
          "text": [
            "Step: 631 \t Time: 3661.9592385292053\n",
            "Shift: 0.09163775322437287\n",
            "Current State: 758    0.042445\n",
            "Name: f, dtype: float64 \t Current Constraint: 758    1.014904\n",
            "Name: c, dtype: float64\n"
          ]
        },
        {
          "output_type": "stream",
          "name": "stderr",
          "text": [
            "\r 90%|█████████ | 631/700 [1:00:23<03:54,  3.40s/it]"
          ]
        },
        {
          "output_type": "stream",
          "name": "stdout",
          "text": [
            "Step: 632 \t Time: 3665.899822950363\n",
            "Shift: 0.0916844512462616\n",
            "Current State: 759    0.116397\n",
            "Name: f, dtype: float64 \t Current Constraint: 759    1.014707\n",
            "Name: c, dtype: float64\n"
          ]
        },
        {
          "output_type": "stream",
          "name": "stderr",
          "text": [
            "\r 90%|█████████ | 632/700 [1:00:25<03:20,  2.94s/it]"
          ]
        },
        {
          "output_type": "stream",
          "name": "stdout",
          "text": [
            "Step: 633 \t Time: 3667.7686319351196\n",
            "Shift: 0.0917444207251072\n",
            "Current State: 760    0.036212\n",
            "Name: f, dtype: float64 \t Current Constraint: 760    1.013304\n",
            "Name: c, dtype: float64\n"
          ]
        },
        {
          "output_type": "stream",
          "name": "stderr",
          "text": [
            "\r 90%|█████████ | 633/700 [1:00:27<03:06,  2.79s/it]"
          ]
        },
        {
          "output_type": "stream",
          "name": "stdout",
          "text": [
            "Step: 634 \t Time: 3670.194377183914\n",
            "Shift: 0.09192771238088608\n",
            "Current State: 761    0.071257\n",
            "Name: f, dtype: float64 \t Current Constraint: 761    1.014491\n",
            "Name: c, dtype: float64\n"
          ]
        },
        {
          "output_type": "stream",
          "name": "stderr",
          "text": [
            "\r 91%|█████████ | 634/700 [1:00:35<04:33,  4.14s/it]"
          ]
        },
        {
          "output_type": "stream",
          "name": "stdout",
          "text": [
            "Step: 635 \t Time: 3677.4930922985077\n",
            "Shift: 0.09198278200626374\n",
            "Current State: 762    4.798005\n",
            "Name: f, dtype: float64 \t Current Constraint: 762    1.010786\n",
            "Name: c, dtype: float64\n"
          ]
        },
        {
          "output_type": "stream",
          "name": "stderr",
          "text": [
            "\r 91%|█████████ | 635/700 [1:00:37<03:51,  3.56s/it]"
          ]
        },
        {
          "output_type": "stream",
          "name": "stdout",
          "text": [
            "Step: 636 \t Time: 3679.687736749649\n",
            "Shift: 0.09206379998326301\n",
            "Current State: 763    0.284901\n",
            "Name: f, dtype: float64 \t Current Constraint: 763    1.014706\n",
            "Name: c, dtype: float64\n"
          ]
        },
        {
          "output_type": "stream",
          "name": "stderr",
          "text": [
            "\r 91%|█████████ | 636/700 [1:00:40<03:41,  3.46s/it]"
          ]
        },
        {
          "output_type": "stream",
          "name": "stdout",
          "text": [
            "Step: 637 \t Time: 3682.9283242225647\n",
            "Shift: 0.09217831101417542\n",
            "Current State: 764    0.103229\n",
            "Name: f, dtype: float64 \t Current Constraint: 764    1.013533\n",
            "Name: c, dtype: float64\n"
          ]
        },
        {
          "output_type": "stream",
          "name": "stderr",
          "text": [
            "\r 91%|█████████ | 637/700 [1:00:45<03:59,  3.80s/it]"
          ]
        },
        {
          "output_type": "stream",
          "name": "stdout",
          "text": [
            "Step: 638 \t Time: 3687.5186212062836\n",
            "Shift: 0.09224093571305275\n",
            "Current State: 765    1.879209\n",
            "Name: f, dtype: float64 \t Current Constraint: 765    1.012505\n",
            "Name: c, dtype: float64\n"
          ]
        },
        {
          "output_type": "stream",
          "name": "stderr",
          "text": [
            "\r 91%|█████████ | 638/700 [1:00:47<03:31,  3.41s/it]"
          ]
        },
        {
          "output_type": "stream",
          "name": "stdout",
          "text": [
            "Step: 639 \t Time: 3690.015036344528\n",
            "Shift: 0.09227862747311592\n",
            "Current State: 766    0.163264\n",
            "Name: f, dtype: float64 \t Current Constraint: 766    1.015034\n",
            "Name: c, dtype: float64\n"
          ]
        },
        {
          "output_type": "stream",
          "name": "stderr",
          "text": [
            "\r 91%|█████████▏| 639/700 [1:00:49<02:53,  2.84s/it]"
          ]
        },
        {
          "output_type": "stream",
          "name": "stdout",
          "text": [
            "Step: 640 \t Time: 3691.518874645233\n",
            "Shift: 0.09236620755791665\n",
            "Current State: 767    0.448278\n",
            "Name: f, dtype: float64 \t Current Constraint: 767    1.013848\n",
            "Name: c, dtype: float64\n"
          ]
        },
        {
          "output_type": "stream",
          "name": "stderr",
          "text": [
            "\r 91%|█████████▏| 640/700 [1:00:52<03:02,  3.04s/it]"
          ]
        },
        {
          "output_type": "stream",
          "name": "stdout",
          "text": [
            "Step: 641 \t Time: 3695.0395765304565\n",
            "Shift: 0.09239186339974403\n",
            "Current State: 768    23.923309\n",
            "Name: f, dtype: float64 \t Current Constraint: 768    1.007536\n",
            "Name: c, dtype: float64\n"
          ]
        },
        {
          "output_type": "stream",
          "name": "stderr",
          "text": [
            "\r 92%|█████████▏| 641/700 [1:00:53<02:25,  2.47s/it]"
          ]
        },
        {
          "output_type": "stream",
          "name": "stdout",
          "text": [
            "Step: 642 \t Time: 3696.188324689865\n",
            "Shift: 0.09244429374933243\n",
            "Current State: 769    0.250693\n",
            "Name: f, dtype: float64 \t Current Constraint: 769    1.013684\n",
            "Name: c, dtype: float64\n"
          ]
        },
        {
          "output_type": "stream",
          "name": "stderr",
          "text": [
            "\r 92%|█████████▏| 642/700 [1:00:56<02:18,  2.39s/it]"
          ]
        },
        {
          "output_type": "stream",
          "name": "stdout",
          "text": [
            "Step: 643 \t Time: 3698.3795013427734\n",
            "Shift: 0.09250024735331536\n",
            "Current State: 770    0.292501\n",
            "Name: f, dtype: float64 \t Current Constraint: 770    1.013219\n",
            "Name: c, dtype: float64\n"
          ]
        },
        {
          "output_type": "stream",
          "name": "stderr",
          "text": [
            "\r 92%|█████████▏| 643/700 [1:00:58<02:09,  2.27s/it]"
          ]
        },
        {
          "output_type": "stream",
          "name": "stdout",
          "text": [
            "Step: 644 \t Time: 3700.3859992027283\n",
            "Shift: 0.09266629513502121\n",
            "Current State: 771    0.439178\n",
            "Name: f, dtype: float64 \t Current Constraint: 771    1.01447\n",
            "Name: c, dtype: float64\n"
          ]
        },
        {
          "output_type": "stream",
          "name": "stderr",
          "text": [
            "\r 92%|█████████▏| 644/700 [1:01:04<03:20,  3.59s/it]"
          ]
        },
        {
          "output_type": "stream",
          "name": "stdout",
          "text": [
            "Step: 645 \t Time: 3707.0325264930725\n",
            "Shift: 0.09270493329763413\n",
            "Current State: 772    1.893464\n",
            "Name: f, dtype: float64 \t Current Constraint: 772    1.010857\n",
            "Name: c, dtype: float64\n"
          ]
        },
        {
          "output_type": "stream",
          "name": "stderr",
          "text": [
            "\r 92%|█████████▏| 645/700 [1:01:06<02:43,  2.97s/it]"
          ]
        },
        {
          "output_type": "stream",
          "name": "stdout",
          "text": [
            "Step: 646 \t Time: 3708.574959754944\n",
            "Shift: 0.0928092587530613\n",
            "Current State: 773    2.044509\n",
            "Name: f, dtype: float64 \t Current Constraint: 773    1.007342\n",
            "Name: c, dtype: float64\n"
          ]
        },
        {
          "output_type": "stream",
          "name": "stderr",
          "text": [
            "\r 92%|█████████▏| 646/700 [1:01:10<03:00,  3.33s/it]"
          ]
        },
        {
          "output_type": "stream",
          "name": "stdout",
          "text": [
            "Step: 647 \t Time: 3712.752880334854\n",
            "Shift: 0.09287261980175972\n",
            "Current State: 774    2.863457\n",
            "Name: f, dtype: float64 \t Current Constraint: 774    1.008685\n",
            "Name: c, dtype: float64\n"
          ]
        },
        {
          "output_type": "stream",
          "name": "stderr",
          "text": [
            "\r 92%|█████████▏| 647/700 [1:01:13<02:44,  3.10s/it]"
          ]
        },
        {
          "output_type": "stream",
          "name": "stdout",
          "text": [
            "Step: 648 \t Time: 3715.291221141815\n",
            "Shift: 0.09297379658222199\n",
            "Current State: 775    0.13326\n",
            "Name: f, dtype: float64 \t Current Constraint: 775    1.014685\n",
            "Name: c, dtype: float64\n"
          ]
        },
        {
          "output_type": "stream",
          "name": "stderr",
          "text": [
            "\r 93%|█████████▎| 648/700 [1:01:17<02:55,  3.38s/it]"
          ]
        },
        {
          "output_type": "stream",
          "name": "stdout",
          "text": [
            "Step: 649 \t Time: 3719.3387632369995\n",
            "Shift: 0.09301826974749565\n",
            "Current State: 776    2.658526\n",
            "Name: f, dtype: float64 \t Current Constraint: 776    1.004402\n",
            "Name: c, dtype: float64\n"
          ]
        },
        {
          "output_type": "stream",
          "name": "stderr",
          "text": [
            "\r 93%|█████████▎| 649/700 [1:01:18<02:27,  2.90s/it]"
          ]
        },
        {
          "output_type": "stream",
          "name": "stdout",
          "text": [
            "Step: 650 \t Time: 3721.121323823929\n",
            "Shift: 0.09307661499977113\n",
            "Current State: 777    0.760735\n",
            "Name: f, dtype: float64 \t Current Constraint: 777    1.013098\n",
            "Name: c, dtype: float64\n"
          ]
        },
        {
          "output_type": "stream",
          "name": "stderr",
          "text": [
            "\r 93%|█████████▎| 650/700 [1:01:21<02:17,  2.76s/it]"
          ]
        },
        {
          "output_type": "stream",
          "name": "stdout",
          "text": [
            "Step: 651 \t Time: 3723.5396223068237\n",
            "Shift: 0.09314049295186996\n",
            "Current State: 778    0.029612\n",
            "Name: f, dtype: float64 \t Current Constraint: 778    1.013647\n",
            "Name: c, dtype: float64\n"
          ]
        },
        {
          "output_type": "stream",
          "name": "stderr",
          "text": [
            "\r 93%|█████████▎| 651/700 [1:01:23<02:10,  2.67s/it]"
          ]
        },
        {
          "output_type": "stream",
          "name": "stdout",
          "text": [
            "Step: 652 \t Time: 3726.0145041942596\n",
            "Shift: 0.09331022500395775\n",
            "Current State: 779    0.432543\n",
            "Name: f, dtype: float64 \t Current Constraint: 779    1.014582\n",
            "Name: c, dtype: float64\n"
          ]
        },
        {
          "output_type": "stream",
          "name": "stderr",
          "text": [
            "\r 93%|█████████▎| 652/700 [1:01:30<03:07,  3.90s/it]"
          ]
        },
        {
          "output_type": "stream",
          "name": "stdout",
          "text": [
            "Step: 653 \t Time: 3732.789407014847\n",
            "Shift: 0.09336580428481102\n",
            "Current State: 780    1.115133\n",
            "Name: f, dtype: float64 \t Current Constraint: 780    1.014225\n",
            "Name: c, dtype: float64\n"
          ]
        },
        {
          "output_type": "stream",
          "name": "stderr",
          "text": [
            "\r 93%|█████████▎| 653/700 [1:01:32<02:41,  3.43s/it]"
          ]
        },
        {
          "output_type": "stream",
          "name": "stdout",
          "text": [
            "Step: 654 \t Time: 3735.1287002563477\n",
            "Shift: 0.09346929649710656\n",
            "Current State: 781    1.866276\n",
            "Name: f, dtype: float64 \t Current Constraint: 781    1.015757\n",
            "Name: c, dtype: float64\n"
          ]
        },
        {
          "output_type": "stream",
          "name": "stderr",
          "text": [
            "\r 93%|█████████▎| 654/700 [1:01:36<02:46,  3.61s/it]"
          ]
        },
        {
          "output_type": "stream",
          "name": "stdout",
          "text": [
            "Step: 655 \t Time: 3739.1613788604736\n",
            "Shift: 0.09366505309939385\n",
            "Current State: 782    0.887108\n",
            "Name: f, dtype: float64 \t Current Constraint: 782    1.014266\n",
            "Name: c, dtype: float64\n"
          ]
        },
        {
          "output_type": "stream",
          "name": "stderr",
          "text": [
            "\r 94%|█████████▎| 655/700 [1:01:44<03:39,  4.88s/it]"
          ]
        },
        {
          "output_type": "stream",
          "name": "stdout",
          "text": [
            "Step: 656 \t Time: 3747.0042972564697\n",
            "Shift: 0.09405986050963402\n",
            "Current State: 783    0.420992\n",
            "Name: f, dtype: float64 \t Current Constraint: 783    1.01429\n",
            "Name: c, dtype: float64\n"
          ]
        },
        {
          "output_type": "stream",
          "name": "stderr",
          "text": [
            "\r 94%|█████████▎| 656/700 [1:02:00<06:00,  8.19s/it]"
          ]
        },
        {
          "output_type": "stream",
          "name": "stdout",
          "text": [
            "Step: 657 \t Time: 3762.899407863617\n",
            "Shift: 0.09443322864174843\n",
            "Current State: 784    0.579647\n",
            "Name: f, dtype: float64 \t Current Constraint: 784    1.013753\n",
            "Name: c, dtype: float64\n"
          ]
        },
        {
          "output_type": "stream",
          "name": "stderr",
          "text": [
            "\r 94%|█████████▍| 657/700 [1:02:15<07:17, 10.17s/it]"
          ]
        },
        {
          "output_type": "stream",
          "name": "stdout",
          "text": [
            "Step: 658 \t Time: 3777.703952550888\n",
            "Shift: 0.09466367963552476\n",
            "Current State: 785    0.541187\n",
            "Name: f, dtype: float64 \t Current Constraint: 785    1.014402\n",
            "Name: c, dtype: float64\n"
          ]
        },
        {
          "output_type": "stream",
          "name": "stderr",
          "text": [
            "\r 94%|█████████▍| 658/700 [1:02:24<06:56,  9.93s/it]"
          ]
        },
        {
          "output_type": "stream",
          "name": "stdout",
          "text": [
            "Step: 659 \t Time: 3787.0623037815094\n",
            "Shift: 0.09506779860854149\n",
            "Current State: 786    0.465199\n",
            "Name: f, dtype: float64 \t Current Constraint: 786    1.013222\n",
            "Name: c, dtype: float64\n"
          ]
        },
        {
          "output_type": "stream",
          "name": "stderr",
          "text": [
            "\r 94%|█████████▍| 659/700 [1:02:40<08:02, 11.76s/it]"
          ]
        },
        {
          "output_type": "stream",
          "name": "stdout",
          "text": [
            "Step: 660 \t Time: 3803.100372314453\n",
            "Shift: 0.09545524640679359\n",
            "Current State: 787    0.780037\n",
            "Name: f, dtype: float64 \t Current Constraint: 787    1.013634\n",
            "Name: c, dtype: float64\n"
          ]
        },
        {
          "output_type": "stream",
          "name": "stderr",
          "text": [
            "\r 94%|█████████▍| 660/700 [1:02:56<08:35, 12.88s/it]"
          ]
        },
        {
          "output_type": "stream",
          "name": "stdout",
          "text": [
            "Step: 661 \t Time: 3818.6002967357635\n",
            "Shift: 0.09577031563520431\n",
            "Current State: 788    0.276558\n",
            "Name: f, dtype: float64 \t Current Constraint: 788    1.014665\n",
            "Name: c, dtype: float64\n"
          ]
        },
        {
          "output_type": "stream",
          "name": "stderr",
          "text": [
            "\r 94%|█████████▍| 661/700 [1:03:08<08:19, 12.80s/it]"
          ]
        },
        {
          "output_type": "stream",
          "name": "stdout",
          "text": [
            "Step: 662 \t Time: 3831.1995933055878\n",
            "Shift: 0.09605063571929932\n",
            "Current State: 789    1.176759\n",
            "Name: f, dtype: float64 \t Current Constraint: 789    1.015462\n",
            "Name: c, dtype: float64\n"
          ]
        },
        {
          "output_type": "stream",
          "name": "stderr",
          "text": [
            "\r 95%|█████████▍| 662/700 [1:03:20<07:48, 12.32s/it]"
          ]
        },
        {
          "output_type": "stream",
          "name": "stdout",
          "text": [
            "Step: 663 \t Time: 3842.4103469848633\n",
            "Shift: 0.0963080072939396\n",
            "Current State: 790    2.303267\n",
            "Name: f, dtype: float64 \t Current Constraint: 790    1.010193\n",
            "Name: c, dtype: float64\n"
          ]
        },
        {
          "output_type": "stream",
          "name": "stderr",
          "text": [
            "\r 95%|█████████▍| 663/700 [1:03:30<07:14, 11.75s/it]"
          ]
        },
        {
          "output_type": "stream",
          "name": "stdout",
          "text": [
            "Step: 664 \t Time: 3852.8270120620728\n",
            "Shift: 0.09667487090229988\n",
            "Current State: 791    0.68417\n",
            "Name: f, dtype: float64 \t Current Constraint: 791    1.013277\n",
            "Name: c, dtype: float64\n"
          ]
        },
        {
          "output_type": "stream",
          "name": "stderr",
          "text": [
            "\r 95%|█████████▍| 664/700 [1:03:45<07:33, 12.60s/it]"
          ]
        },
        {
          "output_type": "stream",
          "name": "stdout",
          "text": [
            "Step: 665 \t Time: 3867.400328874588\n",
            "Shift: 0.09673660428524018\n",
            "Current State: 792    0.662591\n",
            "Name: f, dtype: float64 \t Current Constraint: 792    1.009769\n",
            "Name: c, dtype: float64\n"
          ]
        },
        {
          "output_type": "stream",
          "name": "stderr",
          "text": [
            "\r 95%|█████████▌| 665/700 [1:03:47<05:34,  9.55s/it]"
          ]
        },
        {
          "output_type": "stream",
          "name": "stdout",
          "text": [
            "Step: 666 \t Time: 3869.8372881412506\n",
            "Shift: 0.09685655272006989\n",
            "Current State: 793    0.73893\n",
            "Name: f, dtype: float64 \t Current Constraint: 793    1.012464\n",
            "Name: c, dtype: float64\n"
          ]
        },
        {
          "output_type": "stream",
          "name": "stderr",
          "text": [
            "\r 95%|█████████▌| 666/700 [1:03:52<04:36,  8.13s/it]"
          ]
        },
        {
          "output_type": "stream",
          "name": "stdout",
          "text": [
            "Step: 667 \t Time: 3874.658677816391\n",
            "Shift: 0.09699370339512825\n",
            "Current State: 794    0.694399\n",
            "Name: f, dtype: float64 \t Current Constraint: 794    1.0123\n",
            "Name: c, dtype: float64\n"
          ]
        },
        {
          "output_type": "stream",
          "name": "stderr",
          "text": [
            "\r 95%|█████████▌| 667/700 [1:03:57<04:02,  7.34s/it]"
          ]
        },
        {
          "output_type": "stream",
          "name": "stdout",
          "text": [
            "Step: 668 \t Time: 3880.148012638092\n",
            "Shift: 0.09704809056520462\n",
            "Current State: 795    1.008482\n",
            "Name: f, dtype: float64 \t Current Constraint: 795    1.012609\n",
            "Name: c, dtype: float64\n"
          ]
        },
        {
          "output_type": "stream",
          "name": "stderr",
          "text": [
            "\r 95%|█████████▌| 668/700 [1:04:00<03:05,  5.78s/it]"
          ]
        },
        {
          "output_type": "stream",
          "name": "stdout",
          "text": [
            "Step: 669 \t Time: 3882.303978919983\n",
            "Shift: 0.09710598161220552\n",
            "Current State: 796    1.370533\n",
            "Name: f, dtype: float64 \t Current Constraint: 796    1.011401\n",
            "Name: c, dtype: float64\n"
          ]
        },
        {
          "output_type": "stream",
          "name": "stderr",
          "text": [
            "\r 96%|█████████▌| 669/700 [1:04:02<02:26,  4.74s/it]"
          ]
        },
        {
          "output_type": "stream",
          "name": "stdout",
          "text": [
            "Step: 670 \t Time: 3884.613876581192\n",
            "Shift: 0.09715669711828233\n",
            "Current State: 797    3.038853\n",
            "Name: f, dtype: float64 \t Current Constraint: 797    1.012099\n",
            "Name: c, dtype: float64\n"
          ]
        },
        {
          "output_type": "stream",
          "name": "stderr",
          "text": [
            "\r 96%|█████████▌| 670/700 [1:04:04<01:57,  3.93s/it]"
          ]
        },
        {
          "output_type": "stream",
          "name": "stdout",
          "text": [
            "Step: 671 \t Time: 3886.6458611488342\n",
            "Shift: 0.0974277562558651\n",
            "Current State: 798    1.082121\n",
            "Name: f, dtype: float64 \t Current Constraint: 798    1.01246\n",
            "Name: c, dtype: float64\n"
          ]
        },
        {
          "output_type": "stream",
          "name": "stderr",
          "text": [
            "\r 96%|█████████▌| 671/700 [1:04:15<02:54,  6.02s/it]"
          ]
        },
        {
          "output_type": "stream",
          "name": "stdout",
          "text": [
            "Step: 672 \t Time: 3897.540651321411\n",
            "Shift: 0.09745711862444878\n",
            "Current State: 799    32.999611\n",
            "Name: f, dtype: float64 \t Current Constraint: 799    0.993309\n",
            "Name: c, dtype: float64\n"
          ]
        },
        {
          "output_type": "stream",
          "name": "stderr",
          "text": [
            "\r 96%|█████████▌| 672/700 [1:04:16<02:07,  4.56s/it]"
          ]
        },
        {
          "output_type": "stream",
          "name": "stdout",
          "text": [
            "Step: 673 \t Time: 3898.688246488571\n",
            "Shift: 0.09762355679869653\n",
            "Current State: 800    0.665946\n",
            "Name: f, dtype: float64 \t Current Constraint: 800    1.014627\n",
            "Name: c, dtype: float64\n"
          ]
        },
        {
          "output_type": "stream",
          "name": "stderr",
          "text": [
            "\r 96%|█████████▌| 673/700 [1:04:23<02:20,  5.20s/it]"
          ]
        },
        {
          "output_type": "stream",
          "name": "stdout",
          "text": [
            "Step: 674 \t Time: 3905.3794910907745\n",
            "Shift: 0.09777271947264672\n",
            "Current State: 801    2.948749\n",
            "Name: f, dtype: float64 \t Current Constraint: 801    1.015384\n",
            "Name: c, dtype: float64\n"
          ]
        },
        {
          "output_type": "stream",
          "name": "stderr",
          "text": [
            "\r 96%|█████████▋| 674/700 [1:04:29<02:20,  5.42s/it]"
          ]
        },
        {
          "output_type": "stream",
          "name": "stdout",
          "text": [
            "Step: 675 \t Time: 3911.315873861313\n",
            "Shift: 0.09823818199634553\n",
            "Current State: 802    0.465881\n",
            "Name: f, dtype: float64 \t Current Constraint: 802    1.014085\n",
            "Name: c, dtype: float64\n"
          ]
        },
        {
          "output_type": "stream",
          "name": "stderr",
          "text": [
            "\r 96%|█████████▋| 675/700 [1:04:47<03:55,  9.43s/it]"
          ]
        },
        {
          "output_type": "stream",
          "name": "stdout",
          "text": [
            "Step: 676 \t Time: 3930.1100051403046\n",
            "Shift: 0.09845818178653717\n",
            "Current State: 803    1.378435\n",
            "Name: f, dtype: float64 \t Current Constraint: 803    1.013748\n",
            "Name: c, dtype: float64\n"
          ]
        },
        {
          "output_type": "stream",
          "name": "stderr",
          "text": [
            "\r 97%|█████████▋| 676/700 [1:04:56<03:40,  9.18s/it]"
          ]
        },
        {
          "output_type": "stream",
          "name": "stdout",
          "text": [
            "Step: 677 \t Time: 3938.7166571617126\n",
            "Shift: 0.09871887195706368\n",
            "Current State: 804    0.349287\n",
            "Name: f, dtype: float64 \t Current Constraint: 804    1.011882\n",
            "Name: c, dtype: float64\n"
          ]
        },
        {
          "output_type": "stream",
          "name": "stderr",
          "text": [
            "\r 97%|█████████▋| 677/700 [1:05:06<03:39,  9.56s/it]"
          ]
        },
        {
          "output_type": "stream",
          "name": "stdout",
          "text": [
            "Step: 678 \t Time: 3949.1421933174133\n",
            "Shift: 0.09898697993159294\n",
            "Current State: 805    0.274031\n",
            "Name: f, dtype: float64 \t Current Constraint: 805    1.012474\n",
            "Name: c, dtype: float64\n"
          ]
        },
        {
          "output_type": "stream",
          "name": "stderr",
          "text": [
            "\r 97%|█████████▋| 678/700 [1:05:17<03:38,  9.91s/it]"
          ]
        },
        {
          "output_type": "stream",
          "name": "stdout",
          "text": [
            "Step: 679 \t Time: 3959.8879380226135\n",
            "Shift: 0.09937127555012704\n",
            "Current State: 806    0.28003\n",
            "Name: f, dtype: float64 \t Current Constraint: 806    1.013376\n",
            "Name: c, dtype: float64\n"
          ]
        },
        {
          "output_type": "stream",
          "name": "stderr",
          "text": [
            "\r 97%|█████████▋| 679/700 [1:05:32<04:02, 11.55s/it]"
          ]
        },
        {
          "output_type": "stream",
          "name": "stdout",
          "text": [
            "Step: 680 \t Time: 3975.2555871009827\n",
            "Shift: 0.09958506393432617\n",
            "Current State: 807    1.30705\n",
            "Name: f, dtype: float64 \t Current Constraint: 807    1.010297\n",
            "Name: c, dtype: float64\n"
          ]
        },
        {
          "output_type": "stream",
          "name": "stderr",
          "text": [
            "\r 97%|█████████▋| 680/700 [1:05:41<03:33, 10.65s/it]"
          ]
        },
        {
          "output_type": "stream",
          "name": "stdout",
          "text": [
            "Step: 681 \t Time: 3983.8086087703705\n",
            "Shift: 0.1000151467204094\n",
            "Current State: 808    0.336525\n",
            "Name: f, dtype: float64 \t Current Constraint: 808    1.013106\n",
            "Name: c, dtype: float64\n"
          ]
        },
        {
          "output_type": "stream",
          "name": "stderr",
          "text": [
            "\r 97%|█████████▋| 681/700 [1:05:58<03:59, 12.61s/it]"
          ]
        },
        {
          "output_type": "stream",
          "name": "stdout",
          "text": [
            "Step: 682 \t Time: 4001.0055680274963\n",
            "Shift: 0.10037890877127648\n",
            "Current State: 809    0.096868\n",
            "Name: f, dtype: float64 \t Current Constraint: 809    1.013\n",
            "Name: c, dtype: float64\n"
          ]
        },
        {
          "output_type": "stream",
          "name": "stderr",
          "text": [
            "\r 97%|█████████▋| 682/700 [1:06:13<03:57, 13.20s/it]"
          ]
        },
        {
          "output_type": "stream",
          "name": "stdout",
          "text": [
            "Step: 683 \t Time: 4015.584578514099\n",
            "Shift: 0.1006906776368618\n",
            "Current State: 810    0.177355\n",
            "Name: f, dtype: float64 \t Current Constraint: 810    1.013579\n",
            "Name: c, dtype: float64\n"
          ]
        },
        {
          "output_type": "stream",
          "name": "stderr",
          "text": [
            "\r 98%|█████████▊| 683/700 [1:06:25<03:40, 12.97s/it]"
          ]
        },
        {
          "output_type": "stream",
          "name": "stdout",
          "text": [
            "Step: 684 \t Time: 4028.017383813858\n",
            "Shift: 0.10102555099129677\n",
            "Current State: 811    1.266821\n",
            "Name: f, dtype: float64 \t Current Constraint: 811    1.014641\n",
            "Name: c, dtype: float64\n"
          ]
        },
        {
          "output_type": "stream",
          "name": "stderr",
          "text": [
            "\r 98%|█████████▊| 684/700 [1:06:39<03:29, 13.10s/it]"
          ]
        },
        {
          "output_type": "stream",
          "name": "stdout",
          "text": [
            "Step: 685 \t Time: 4041.4290046691895\n",
            "Shift: 0.10120282630324365\n",
            "Current State: 812    0.163678\n",
            "Name: f, dtype: float64 \t Current Constraint: 812    1.012843\n",
            "Name: c, dtype: float64\n"
          ]
        },
        {
          "output_type": "stream",
          "name": "stderr",
          "text": [
            "\r 98%|█████████▊| 685/700 [1:06:46<02:49, 11.30s/it]"
          ]
        },
        {
          "output_type": "stream",
          "name": "stdout",
          "text": [
            "Step: 686 \t Time: 4048.514674425125\n",
            "Shift: 0.10155873674750329\n",
            "Current State: 813    1.261996\n",
            "Name: f, dtype: float64 \t Current Constraint: 813    1.012499\n",
            "Name: c, dtype: float64\n"
          ]
        },
        {
          "output_type": "stream",
          "name": "stderr",
          "text": [
            "\r 98%|█████████▊| 686/700 [1:07:00<02:50, 12.18s/it]"
          ]
        },
        {
          "output_type": "stream",
          "name": "stdout",
          "text": [
            "Step: 687 \t Time: 4062.7437403202057\n",
            "Shift: 0.10169532077908516\n",
            "Current State: 814    0.414273\n",
            "Name: f, dtype: float64 \t Current Constraint: 814    1.012256\n",
            "Name: c, dtype: float64\n"
          ]
        },
        {
          "output_type": "stream",
          "name": "stderr",
          "text": [
            "\r 98%|█████████▊| 687/700 [1:07:05<02:12, 10.17s/it]"
          ]
        },
        {
          "output_type": "stream",
          "name": "stdout",
          "text": [
            "Step: 688 \t Time: 4068.2150633335114\n",
            "Shift: 0.10195135313272477\n",
            "Current State: 815    0.277431\n",
            "Name: f, dtype: float64 \t Current Constraint: 815    1.014388\n",
            "Name: c, dtype: float64\n"
          ]
        },
        {
          "output_type": "stream",
          "name": "stderr",
          "text": [
            "\r 98%|█████████▊| 688/700 [1:07:16<02:02, 10.19s/it]"
          ]
        },
        {
          "output_type": "stream",
          "name": "stdout",
          "text": [
            "Step: 689 \t Time: 4078.4661033153534\n",
            "Shift: 0.10222376587986946\n",
            "Current State: 816    0.753247\n",
            "Name: f, dtype: float64 \t Current Constraint: 816    1.01297\n",
            "Name: c, dtype: float64\n"
          ]
        },
        {
          "output_type": "stream",
          "name": "stderr",
          "text": [
            "\r 98%|█████████▊| 689/700 [1:07:27<01:54, 10.40s/it]"
          ]
        },
        {
          "output_type": "stream",
          "name": "stdout",
          "text": [
            "Step: 690 \t Time: 4089.346260547638\n",
            "Shift: 0.10248961077928544\n",
            "Current State: 817    1.692157\n",
            "Name: f, dtype: float64 \t Current Constraint: 817    1.015983\n",
            "Name: c, dtype: float64\n"
          ]
        },
        {
          "output_type": "stream",
          "name": "stderr",
          "text": [
            "\r 99%|█████████▊| 690/700 [1:07:37<01:44, 10.47s/it]"
          ]
        },
        {
          "output_type": "stream",
          "name": "stdout",
          "text": [
            "Step: 691 \t Time: 4099.995313405991\n",
            "Shift: 0.10252500647902489\n",
            "Current State: 818    5.562408\n",
            "Name: f, dtype: float64 \t Current Constraint: 818    1.010917\n",
            "Name: c, dtype: float64\n"
          ]
        },
        {
          "output_type": "stream",
          "name": "stderr",
          "text": [
            "\r 99%|█████████▊| 691/700 [1:07:39<01:09,  7.76s/it]"
          ]
        },
        {
          "output_type": "stream",
          "name": "stdout",
          "text": [
            "Step: 692 \t Time: 4101.407769680023\n",
            "Shift: 0.10262946538925172\n",
            "Current State: 819    0.810743\n",
            "Name: f, dtype: float64 \t Current Constraint: 819    1.01458\n",
            "Name: c, dtype: float64\n"
          ]
        },
        {
          "output_type": "stream",
          "name": "stderr",
          "text": [
            "\r 99%|█████████▉| 692/700 [1:07:43<00:53,  6.68s/it]"
          ]
        },
        {
          "output_type": "stream",
          "name": "stdout",
          "text": [
            "Step: 693 \t Time: 4105.590053081512\n",
            "Shift: 0.10271886332035066\n",
            "Current State: 820    2.157096\n",
            "Name: f, dtype: float64 \t Current Constraint: 820    1.014974\n",
            "Name: c, dtype: float64\n"
          ]
        },
        {
          "output_type": "stream",
          "name": "stderr",
          "text": [
            "\r 99%|█████████▉| 693/700 [1:07:47<00:40,  5.81s/it]"
          ]
        },
        {
          "output_type": "stream",
          "name": "stdout",
          "text": [
            "Step: 694 \t Time: 4109.354017972946\n",
            "Shift: 0.1027904452264309\n",
            "Current State: 821    0.571903\n",
            "Name: f, dtype: float64 \t Current Constraint: 821    1.013803\n",
            "Name: c, dtype: float64\n"
          ]
        },
        {
          "output_type": "stream",
          "name": "stderr",
          "text": [
            "\r 99%|█████████▉| 694/700 [1:07:49<00:29,  4.86s/it]"
          ]
        },
        {
          "output_type": "stream",
          "name": "stdout",
          "text": [
            "Step: 695 \t Time: 4112.010220050812\n",
            "Shift: 0.10285345311164856\n",
            "Current State: 822    0.703845\n",
            "Name: f, dtype: float64 \t Current Constraint: 822    1.015617\n",
            "Name: c, dtype: float64\n"
          ]
        },
        {
          "output_type": "stream",
          "name": "stderr",
          "text": [
            "\r 99%|█████████▉| 695/700 [1:07:52<00:20,  4.16s/it]"
          ]
        },
        {
          "output_type": "stream",
          "name": "stdout",
          "text": [
            "Step: 696 \t Time: 4114.527421474457\n",
            "Shift: 0.1029433418571949\n",
            "Current State: 823    1.044393\n",
            "Name: f, dtype: float64 \t Current Constraint: 823    1.015261\n",
            "Name: c, dtype: float64\n"
          ]
        },
        {
          "output_type": "stream",
          "name": "stderr",
          "text": [
            "\r 99%|█████████▉| 696/700 [1:07:55<00:15,  3.99s/it]"
          ]
        },
        {
          "output_type": "stream",
          "name": "stdout",
          "text": [
            "Step: 697 \t Time: 4118.1279146671295\n",
            "Shift: 0.10304738209843636\n",
            "Current State: 824    0.582465\n",
            "Name: f, dtype: float64 \t Current Constraint: 824    1.015669\n",
            "Name: c, dtype: float64\n"
          ]
        },
        {
          "output_type": "stream",
          "name": "stderr",
          "text": [
            "\r100%|█████████▉| 697/700 [1:08:00<00:12,  4.10s/it]"
          ]
        },
        {
          "output_type": "stream",
          "name": "stdout",
          "text": [
            "Step: 698 \t Time: 4122.48641371727\n",
            "Shift: 0.10312436439990998\n",
            "Current State: 825    0.998271\n",
            "Name: f, dtype: float64 \t Current Constraint: 825    1.015726\n",
            "Name: c, dtype: float64\n"
          ]
        },
        {
          "output_type": "stream",
          "name": "stderr",
          "text": [
            "\r100%|█████████▉| 698/700 [1:08:03<00:07,  3.73s/it]"
          ]
        },
        {
          "output_type": "stream",
          "name": "stdout",
          "text": [
            "Step: 699 \t Time: 4125.363370418549\n",
            "Shift: 0.10316866284012795\n",
            "Current State: 826    0.84382\n",
            "Name: f, dtype: float64 \t Current Constraint: 826    1.014669\n",
            "Name: c, dtype: float64\n"
          ]
        },
        {
          "output_type": "stream",
          "name": "stderr",
          "text": [
            "\r100%|█████████▉| 699/700 [1:08:04<00:03,  3.15s/it]"
          ]
        },
        {
          "output_type": "stream",
          "name": "stdout",
          "text": [
            "Step: 700 \t Time: 4127.150860071182\n",
            "Shift: 0.10321694068908692\n",
            "Current State: 827    10.731061\n",
            "Name: f, dtype: float64 \t Current Constraint: 827    1.001962\n",
            "Name: c, dtype: float64\n"
          ]
        },
        {
          "output_type": "stream",
          "name": "stderr",
          "text": [
            "100%|██████████| 700/700 [1:08:06<00:00,  5.84s/it]\n"
          ]
        }
      ]
    },
    {
      "cell_type": "code",
      "source": [
        "y1 = X.data[\"f\"]\n",
        "fig = plt.figure(figsize=(20,8))\n",
        "\n",
        "ax1 = fig.add_subplot(1,3,1)\n",
        "y1_maxs = np.minimum.accumulate(y1)\n",
        "ax1.plot(y1, 'ok', alpha=0.5)\n",
        "ax1.plot(y1_maxs, 'k')\n",
        "#plt.hlines(1, 0, len(y1_maxs), linestyles=\"dotted\")\n",
        "ax1.vlines(n_init, 0, 20, linestyles=\"dashed\")\n",
        "ax1.hlines(2, 0, len(y1), linestyles=\"dotted\")\n",
        "ax1.set_ylabel(\"BPE \\n(microns)\")\n",
        "ax1.set_xlabel(\"Sample #\")\n",
        "ax1.set_ylim(-0.1, 20)\n",
        "\n",
        "\n",
        "a=[0, len(y1)]\n",
        "b=[0, 9.0]\n",
        "for i in range(0, len(a), 2):\n",
        "    ax1.plot(a[i:i+2], b[i:i+2], 'ro-')\n",
        "\n",
        "bins = np.arange(0, 20)\n",
        "ax2 = fig.add_subplot(1,3,2)\n",
        "ax2.hist(y1[n_init:], density=True, bins=bins, facecolor='gray', alpha=0.75)\n",
        "ax2.set_ylabel(\"Scaled Frequency of Samples\")\n",
        "ax2.set_xlabel(\"BPE \\n(microns)\")\n",
        "ax2.grid()\n",
        "\n",
        "\n",
        "ax3 = fig.add_subplot(1,3,3)\n",
        "yc = X.data[\"c\"] * 62000\n",
        "ax3.plot(yc, 'ok', alpha=0.5)\n",
        "ax3.set_ylabel(\"Intensity (Constraint)\")\n",
        "ax3.set_xlabel(\"Sample #\")\n",
        "ax3.set_ylim(55000, 65000)\n",
        "plt.savefig(f'ConstrainedAnisotropicDriftCorrection_TDBO.png', dpi=200)\n",
        "plt.show()"
      ],
      "metadata": {
        "colab": {
          "base_uri": "https://localhost:8080/",
          "height": 679
        },
        "id": "hE_YJsD2WseL",
        "outputId": "ab14e6ec-8d1c-4fe9-afa9-f404426e62a9"
      },
      "execution_count": 27,
      "outputs": [
        {
          "output_type": "display_data",
          "data": {
            "text/plain": [
              "<Figure size 2000x800 with 3 Axes>"
            ],
            "image/png": "[encoded data removed]"
          },
          "metadata": {}
        }
      ]
    },
    {
      "cell_type": "code",
      "source": [
        "X.data.to_csv('history.csv', index=False)"
      ],
      "metadata": {
        "id": "v3drNID9mwgA"
      },
      "execution_count": null,
      "outputs": []
    }
  ]
}
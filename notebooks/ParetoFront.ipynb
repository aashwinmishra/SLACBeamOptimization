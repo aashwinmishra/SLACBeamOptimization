{
  "nbformat": 4,
  "nbformat_minor": 0,
  "metadata": {
    "colab": {
      "provenance": [],
      "authorship_tag": "ABX9TyPu9Rt8xkQsaG0sJb2zQpsH"
    },
    "kernelspec": {
      "name": "python3",
      "display_name": "Python 3"
    },
    "language_info": {
      "name": "python"
    }
  },
  "cells": [
    {
      "cell_type": "code",
      "execution_count": 1,
      "metadata": {
        "colab": {
          "base_uri": "https://localhost:8080/"
        },
        "id": "iWhdocibA3iE",
        "outputId": "49222aa3-2fb2-4ad4-b7a6-c007c989bcd7"
      },
      "outputs": [
        {
          "output_type": "stream",
          "name": "stdout",
          "text": [
            "Cloning into 'lcls_beamline_toolbox'...\n",
            "remote: Enumerating objects: 3399, done.\u001b[K\n",
            "remote: Counting objects: 100% (670/670), done.\u001b[K\n",
            "remote: Compressing objects: 100% (246/246), done.\u001b[K\n",
            "remote: Total 3399 (delta 577), reused 507 (delta 424), pack-reused 2729 (from 1)\u001b[K\n",
            "Receiving objects: 100% (3399/3399), 233.26 MiB | 10.86 MiB/s, done.\n",
            "Resolving deltas: 100% (2627/2627), done.\n",
            "Updating files: 100% (144/144), done.\n"
          ]
        }
      ],
      "source": [
        "!git clone https://github.com/mseaberg/lcls_beamline_toolbox"
      ]
    },
    {
      "cell_type": "code",
      "source": [
        "import os\n",
        "os.chdir('lcls_beamline_toolbox')\n",
        "!python3 -m pip install -e .\n",
        "!pip install xraydb -q\n",
        "!pip install pymoo -q"
      ],
      "metadata": {
        "colab": {
          "base_uri": "https://localhost:8080/"
        },
        "id": "xMKeNwXyA5_f",
        "outputId": "7beaadf3-1ffe-4448-8dae-dea8c03b8c46"
      },
      "execution_count": 2,
      "outputs": [
        {
          "output_type": "stream",
          "name": "stdout",
          "text": [
            "Obtaining file:///content/lcls_beamline_toolbox\n",
            "  Preparing metadata (setup.py) ... \u001b[?25l\u001b[?25hdone\n",
            "Requirement already satisfied: numpy>=1.17 in /usr/local/lib/python3.11/dist-packages (from lcls_beamline_toolbox==0.0.1) (2.0.2)\n",
            "Requirement already satisfied: scipy>=1.4.1 in /usr/local/lib/python3.11/dist-packages (from lcls_beamline_toolbox==0.0.1) (1.14.1)\n",
            "Requirement already satisfied: matplotlib>=3.2.1 in /usr/local/lib/python3.11/dist-packages (from lcls_beamline_toolbox==0.0.1) (3.10.0)\n",
            "Collecting jupyter>=1.0.0 (from lcls_beamline_toolbox==0.0.1)\n",
            "  Downloading jupyter-1.1.1-py2.py3-none-any.whl.metadata (2.0 kB)\n",
            "Requirement already satisfied: scikit-image>=0.16.2 in /usr/local/lib/python3.11/dist-packages (from lcls_beamline_toolbox==0.0.1) (0.25.2)\n",
            "Collecting xrt (from lcls_beamline_toolbox==0.0.1)\n",
            "  Downloading xrt-1.6.1.zip (9.5 MB)\n",
            "\u001b[2K     \u001b[90m━━━━━━━━━━━━━━━━━━━━━━━━━━━━━━━━━━━━━━━━\u001b[0m \u001b[32m9.5/9.5 MB\u001b[0m \u001b[31m9.2 MB/s\u001b[0m eta \u001b[36m0:00:00\u001b[0m\n",
            "\u001b[?25h  Preparing metadata (setup.py) ... \u001b[?25l\u001b[?25hdone\n",
            "Requirement already satisfied: notebook in /usr/local/lib/python3.11/dist-packages (from jupyter>=1.0.0->lcls_beamline_toolbox==0.0.1) (6.5.7)\n",
            "Requirement already satisfied: jupyter-console in /usr/local/lib/python3.11/dist-packages (from jupyter>=1.0.0->lcls_beamline_toolbox==0.0.1) (6.1.0)\n",
            "Requirement already satisfied: nbconvert in /usr/local/lib/python3.11/dist-packages (from jupyter>=1.0.0->lcls_beamline_toolbox==0.0.1) (7.16.6)\n",
            "Requirement already satisfied: ipykernel in /usr/local/lib/python3.11/dist-packages (from jupyter>=1.0.0->lcls_beamline_toolbox==0.0.1) (6.17.1)\n",
            "Requirement already satisfied: ipywidgets in /usr/local/lib/python3.11/dist-packages (from jupyter>=1.0.0->lcls_beamline_toolbox==0.0.1) (7.7.1)\n",
            "Collecting jupyterlab (from jupyter>=1.0.0->lcls_beamline_toolbox==0.0.1)\n",
            "  Downloading jupyterlab-4.3.6-py3-none-any.whl.metadata (16 kB)\n",
            "Requirement already satisfied: contourpy>=1.0.1 in /usr/local/lib/python3.11/dist-packages (from matplotlib>=3.2.1->lcls_beamline_toolbox==0.0.1) (1.3.1)\n",
            "Requirement already satisfied: cycler>=0.10 in /usr/local/lib/python3.11/dist-packages (from matplotlib>=3.2.1->lcls_beamline_toolbox==0.0.1) (0.12.1)\n",
            "Requirement already satisfied: fonttools>=4.22.0 in /usr/local/lib/python3.11/dist-packages (from matplotlib>=3.2.1->lcls_beamline_toolbox==0.0.1) (4.56.0)\n",
            "Requirement already satisfied: kiwisolver>=1.3.1 in /usr/local/lib/python3.11/dist-packages (from matplotlib>=3.2.1->lcls_beamline_toolbox==0.0.1) (1.4.8)\n",
            "Requirement already satisfied: packaging>=20.0 in /usr/local/lib/python3.11/dist-packages (from matplotlib>=3.2.1->lcls_beamline_toolbox==0.0.1) (24.2)\n",
            "Requirement already satisfied: pillow>=8 in /usr/local/lib/python3.11/dist-packages (from matplotlib>=3.2.1->lcls_beamline_toolbox==0.0.1) (11.1.0)\n",
            "Requirement already satisfied: pyparsing>=2.3.1 in /usr/local/lib/python3.11/dist-packages (from matplotlib>=3.2.1->lcls_beamline_toolbox==0.0.1) (3.2.1)\n",
            "Requirement already satisfied: python-dateutil>=2.7 in /usr/local/lib/python3.11/dist-packages (from matplotlib>=3.2.1->lcls_beamline_toolbox==0.0.1) (2.8.2)\n",
            "Requirement already satisfied: networkx>=3.0 in /usr/local/lib/python3.11/dist-packages (from scikit-image>=0.16.2->lcls_beamline_toolbox==0.0.1) (3.4.2)\n",
            "Requirement already satisfied: imageio!=2.35.0,>=2.33 in /usr/local/lib/python3.11/dist-packages (from scikit-image>=0.16.2->lcls_beamline_toolbox==0.0.1) (2.37.0)\n",
            "Requirement already satisfied: tifffile>=2022.8.12 in /usr/local/lib/python3.11/dist-packages (from scikit-image>=0.16.2->lcls_beamline_toolbox==0.0.1) (2025.3.13)\n",
            "Requirement already satisfied: lazy-loader>=0.4 in /usr/local/lib/python3.11/dist-packages (from scikit-image>=0.16.2->lcls_beamline_toolbox==0.0.1) (0.4)\n",
            "Requirement already satisfied: sphinx>=1.6.2 in /usr/local/lib/python3.11/dist-packages (from xrt->lcls_beamline_toolbox==0.0.1) (8.2.3)\n",
            "Collecting sphinxcontrib-jquery (from xrt->lcls_beamline_toolbox==0.0.1)\n",
            "  Downloading sphinxcontrib_jquery-4.1-py2.py3-none-any.whl.metadata (2.6 kB)\n",
            "Requirement already satisfied: distro in /usr/local/lib/python3.11/dist-packages (from xrt->lcls_beamline_toolbox==0.0.1) (1.9.0)\n",
            "Collecting colorama (from xrt->lcls_beamline_toolbox==0.0.1)\n",
            "  Downloading colorama-0.4.6-py2.py3-none-any.whl.metadata (17 kB)\n",
            "Collecting pyopencl (from xrt->lcls_beamline_toolbox==0.0.1)\n",
            "  Downloading pyopencl-2025.1-cp311-cp311-manylinux_2_17_x86_64.manylinux2014_x86_64.whl.metadata (4.8 kB)\n",
            "Requirement already satisfied: pyopengl in /usr/local/lib/python3.11/dist-packages (from xrt->lcls_beamline_toolbox==0.0.1) (3.1.9)\n",
            "Collecting siphash24 (from xrt->lcls_beamline_toolbox==0.0.1)\n",
            "  Downloading siphash24-1.7-cp311-cp311-manylinux_2_17_x86_64.manylinux2014_x86_64.whl.metadata (3.3 kB)\n",
            "Requirement already satisfied: six>=1.5 in /usr/local/lib/python3.11/dist-packages (from python-dateutil>=2.7->matplotlib>=3.2.1->lcls_beamline_toolbox==0.0.1) (1.17.0)\n",
            "Requirement already satisfied: sphinxcontrib-applehelp>=1.0.7 in /usr/local/lib/python3.11/dist-packages (from sphinx>=1.6.2->xrt->lcls_beamline_toolbox==0.0.1) (2.0.0)\n",
            "Requirement already satisfied: sphinxcontrib-devhelp>=1.0.6 in /usr/local/lib/python3.11/dist-packages (from sphinx>=1.6.2->xrt->lcls_beamline_toolbox==0.0.1) (2.0.0)\n",
            "Requirement already satisfied: sphinxcontrib-htmlhelp>=2.0.6 in /usr/local/lib/python3.11/dist-packages (from sphinx>=1.6.2->xrt->lcls_beamline_toolbox==0.0.1) (2.1.0)\n",
            "Requirement already satisfied: sphinxcontrib-jsmath>=1.0.1 in /usr/local/lib/python3.11/dist-packages (from sphinx>=1.6.2->xrt->lcls_beamline_toolbox==0.0.1) (1.0.1)\n",
            "Requirement already satisfied: sphinxcontrib-qthelp>=1.0.6 in /usr/local/lib/python3.11/dist-packages (from sphinx>=1.6.2->xrt->lcls_beamline_toolbox==0.0.1) (2.0.0)\n",
            "Requirement already satisfied: sphinxcontrib-serializinghtml>=1.1.9 in /usr/local/lib/python3.11/dist-packages (from sphinx>=1.6.2->xrt->lcls_beamline_toolbox==0.0.1) (2.0.0)\n",
            "Requirement already satisfied: Jinja2>=3.1 in /usr/local/lib/python3.11/dist-packages (from sphinx>=1.6.2->xrt->lcls_beamline_toolbox==0.0.1) (3.1.6)\n",
            "Requirement already satisfied: Pygments>=2.17 in /usr/local/lib/python3.11/dist-packages (from sphinx>=1.6.2->xrt->lcls_beamline_toolbox==0.0.1) (2.18.0)\n",
            "Requirement already satisfied: docutils<0.22,>=0.20 in /usr/local/lib/python3.11/dist-packages (from sphinx>=1.6.2->xrt->lcls_beamline_toolbox==0.0.1) (0.21.2)\n",
            "Requirement already satisfied: snowballstemmer>=2.2 in /usr/local/lib/python3.11/dist-packages (from sphinx>=1.6.2->xrt->lcls_beamline_toolbox==0.0.1) (2.2.0)\n",
            "Requirement already satisfied: babel>=2.13 in /usr/local/lib/python3.11/dist-packages (from sphinx>=1.6.2->xrt->lcls_beamline_toolbox==0.0.1) (2.17.0)\n",
            "Requirement already satisfied: alabaster>=0.7.14 in /usr/local/lib/python3.11/dist-packages (from sphinx>=1.6.2->xrt->lcls_beamline_toolbox==0.0.1) (1.0.0)\n",
            "Requirement already satisfied: imagesize>=1.3 in /usr/local/lib/python3.11/dist-packages (from sphinx>=1.6.2->xrt->lcls_beamline_toolbox==0.0.1) (1.4.1)\n",
            "Requirement already satisfied: requests>=2.30.0 in /usr/local/lib/python3.11/dist-packages (from sphinx>=1.6.2->xrt->lcls_beamline_toolbox==0.0.1) (2.32.3)\n",
            "Requirement already satisfied: roman-numerals-py>=1.0.0 in /usr/local/lib/python3.11/dist-packages (from sphinx>=1.6.2->xrt->lcls_beamline_toolbox==0.0.1) (3.1.0)\n",
            "Requirement already satisfied: debugpy>=1.0 in /usr/local/lib/python3.11/dist-packages (from ipykernel->jupyter>=1.0.0->lcls_beamline_toolbox==0.0.1) (1.8.0)\n",
            "Requirement already satisfied: ipython>=7.23.1 in /usr/local/lib/python3.11/dist-packages (from ipykernel->jupyter>=1.0.0->lcls_beamline_toolbox==0.0.1) (7.34.0)\n",
            "Requirement already satisfied: jupyter-client>=6.1.12 in /usr/local/lib/python3.11/dist-packages (from ipykernel->jupyter>=1.0.0->lcls_beamline_toolbox==0.0.1) (6.1.12)\n",
            "Requirement already satisfied: matplotlib-inline>=0.1 in /usr/local/lib/python3.11/dist-packages (from ipykernel->jupyter>=1.0.0->lcls_beamline_toolbox==0.0.1) (0.1.7)\n",
            "Requirement already satisfied: nest-asyncio in /usr/local/lib/python3.11/dist-packages (from ipykernel->jupyter>=1.0.0->lcls_beamline_toolbox==0.0.1) (1.6.0)\n",
            "Requirement already satisfied: psutil in /usr/local/lib/python3.11/dist-packages (from ipykernel->jupyter>=1.0.0->lcls_beamline_toolbox==0.0.1) (5.9.5)\n",
            "Requirement already satisfied: pyzmq>=17 in /usr/local/lib/python3.11/dist-packages (from ipykernel->jupyter>=1.0.0->lcls_beamline_toolbox==0.0.1) (24.0.1)\n",
            "Requirement already satisfied: tornado>=6.1 in /usr/local/lib/python3.11/dist-packages (from ipykernel->jupyter>=1.0.0->lcls_beamline_toolbox==0.0.1) (6.4.2)\n",
            "Requirement already satisfied: traitlets>=5.1.0 in /usr/local/lib/python3.11/dist-packages (from ipykernel->jupyter>=1.0.0->lcls_beamline_toolbox==0.0.1) (5.7.1)\n",
            "Requirement already satisfied: ipython-genutils~=0.2.0 in /usr/local/lib/python3.11/dist-packages (from ipywidgets->jupyter>=1.0.0->lcls_beamline_toolbox==0.0.1) (0.2.0)\n",
            "Requirement already satisfied: widgetsnbextension~=3.6.0 in /usr/local/lib/python3.11/dist-packages (from ipywidgets->jupyter>=1.0.0->lcls_beamline_toolbox==0.0.1) (3.6.10)\n",
            "Requirement already satisfied: jupyterlab-widgets>=1.0.0 in /usr/local/lib/python3.11/dist-packages (from ipywidgets->jupyter>=1.0.0->lcls_beamline_toolbox==0.0.1) (3.0.13)\n",
            "Requirement already satisfied: prompt-toolkit!=3.0.0,!=3.0.1,<3.1.0,>=2.0.0 in /usr/local/lib/python3.11/dist-packages (from jupyter-console->jupyter>=1.0.0->lcls_beamline_toolbox==0.0.1) (3.0.50)\n",
            "Collecting async-lru>=1.0.0 (from jupyterlab->jupyter>=1.0.0->lcls_beamline_toolbox==0.0.1)\n",
            "  Downloading async_lru-2.0.5-py3-none-any.whl.metadata (4.5 kB)\n",
            "Requirement already satisfied: httpx>=0.25.0 in /usr/local/lib/python3.11/dist-packages (from jupyterlab->jupyter>=1.0.0->lcls_beamline_toolbox==0.0.1) (0.28.1)\n",
            "Requirement already satisfied: jupyter-core in /usr/local/lib/python3.11/dist-packages (from jupyterlab->jupyter>=1.0.0->lcls_beamline_toolbox==0.0.1) (5.7.2)\n",
            "Collecting jupyter-lsp>=2.0.0 (from jupyterlab->jupyter>=1.0.0->lcls_beamline_toolbox==0.0.1)\n",
            "  Downloading jupyter_lsp-2.2.5-py3-none-any.whl.metadata (1.8 kB)\n",
            "Collecting jupyter-server<3,>=2.4.0 (from jupyterlab->jupyter>=1.0.0->lcls_beamline_toolbox==0.0.1)\n",
            "  Downloading jupyter_server-2.15.0-py3-none-any.whl.metadata (8.4 kB)\n",
            "Collecting jupyterlab-server<3,>=2.27.1 (from jupyterlab->jupyter>=1.0.0->lcls_beamline_toolbox==0.0.1)\n",
            "  Downloading jupyterlab_server-2.27.3-py3-none-any.whl.metadata (5.9 kB)\n",
            "Requirement already satisfied: notebook-shim>=0.2 in /usr/local/lib/python3.11/dist-packages (from jupyterlab->jupyter>=1.0.0->lcls_beamline_toolbox==0.0.1) (0.2.4)\n",
            "Requirement already satisfied: setuptools>=40.8.0 in /usr/local/lib/python3.11/dist-packages (from jupyterlab->jupyter>=1.0.0->lcls_beamline_toolbox==0.0.1) (75.1.0)\n",
            "Requirement already satisfied: beautifulsoup4 in /usr/local/lib/python3.11/dist-packages (from nbconvert->jupyter>=1.0.0->lcls_beamline_toolbox==0.0.1) (4.13.3)\n",
            "Requirement already satisfied: bleach!=5.0.0 in /usr/local/lib/python3.11/dist-packages (from bleach[css]!=5.0.0->nbconvert->jupyter>=1.0.0->lcls_beamline_toolbox==0.0.1) (6.2.0)\n",
            "Requirement already satisfied: defusedxml in /usr/local/lib/python3.11/dist-packages (from nbconvert->jupyter>=1.0.0->lcls_beamline_toolbox==0.0.1) (0.7.1)\n",
            "Requirement already satisfied: jupyterlab-pygments in /usr/local/lib/python3.11/dist-packages (from nbconvert->jupyter>=1.0.0->lcls_beamline_toolbox==0.0.1) (0.3.0)\n",
            "Requirement already satisfied: markupsafe>=2.0 in /usr/local/lib/python3.11/dist-packages (from nbconvert->jupyter>=1.0.0->lcls_beamline_toolbox==0.0.1) (3.0.2)\n",
            "Requirement already satisfied: mistune<4,>=2.0.3 in /usr/local/lib/python3.11/dist-packages (from nbconvert->jupyter>=1.0.0->lcls_beamline_toolbox==0.0.1) (3.1.3)\n",
            "Requirement already satisfied: nbclient>=0.5.0 in /usr/local/lib/python3.11/dist-packages (from nbconvert->jupyter>=1.0.0->lcls_beamline_toolbox==0.0.1) (0.10.2)\n",
            "Requirement already satisfied: nbformat>=5.7 in /usr/local/lib/python3.11/dist-packages (from nbconvert->jupyter>=1.0.0->lcls_beamline_toolbox==0.0.1) (5.10.4)\n",
            "Requirement already satisfied: pandocfilters>=1.4.1 in /usr/local/lib/python3.11/dist-packages (from nbconvert->jupyter>=1.0.0->lcls_beamline_toolbox==0.0.1) (1.5.1)\n",
            "Requirement already satisfied: argon2-cffi in /usr/local/lib/python3.11/dist-packages (from notebook->jupyter>=1.0.0->lcls_beamline_toolbox==0.0.1) (23.1.0)\n",
            "Requirement already satisfied: Send2Trash>=1.8.0 in /usr/local/lib/python3.11/dist-packages (from notebook->jupyter>=1.0.0->lcls_beamline_toolbox==0.0.1) (1.8.3)\n",
            "Requirement already satisfied: terminado>=0.8.3 in /usr/local/lib/python3.11/dist-packages (from notebook->jupyter>=1.0.0->lcls_beamline_toolbox==0.0.1) (0.18.1)\n",
            "Requirement already satisfied: prometheus-client in /usr/local/lib/python3.11/dist-packages (from notebook->jupyter>=1.0.0->lcls_beamline_toolbox==0.0.1) (0.21.1)\n",
            "Requirement already satisfied: nbclassic>=0.4.7 in /usr/local/lib/python3.11/dist-packages (from notebook->jupyter>=1.0.0->lcls_beamline_toolbox==0.0.1) (1.2.0)\n",
            "Requirement already satisfied: platformdirs>=2.2 in /usr/local/lib/python3.11/dist-packages (from pyopencl->xrt->lcls_beamline_toolbox==0.0.1) (4.3.7)\n",
            "Collecting pytools>=2024.1.5 (from pyopencl->xrt->lcls_beamline_toolbox==0.0.1)\n",
            "  Downloading pytools-2025.1.1-py3-none-any.whl.metadata (3.0 kB)\n",
            "Requirement already satisfied: webencodings in /usr/local/lib/python3.11/dist-packages (from bleach!=5.0.0->bleach[css]!=5.0.0->nbconvert->jupyter>=1.0.0->lcls_beamline_toolbox==0.0.1) (0.5.1)\n",
            "Requirement already satisfied: tinycss2<1.5,>=1.1.0 in /usr/local/lib/python3.11/dist-packages (from bleach[css]!=5.0.0->nbconvert->jupyter>=1.0.0->lcls_beamline_toolbox==0.0.1) (1.4.0)\n",
            "Requirement already satisfied: anyio in /usr/local/lib/python3.11/dist-packages (from httpx>=0.25.0->jupyterlab->jupyter>=1.0.0->lcls_beamline_toolbox==0.0.1) (4.9.0)\n",
            "Requirement already satisfied: certifi in /usr/local/lib/python3.11/dist-packages (from httpx>=0.25.0->jupyterlab->jupyter>=1.0.0->lcls_beamline_toolbox==0.0.1) (2025.1.31)\n",
            "Requirement already satisfied: httpcore==1.* in /usr/local/lib/python3.11/dist-packages (from httpx>=0.25.0->jupyterlab->jupyter>=1.0.0->lcls_beamline_toolbox==0.0.1) (1.0.7)\n",
            "Requirement already satisfied: idna in /usr/local/lib/python3.11/dist-packages (from httpx>=0.25.0->jupyterlab->jupyter>=1.0.0->lcls_beamline_toolbox==0.0.1) (3.10)\n",
            "Requirement already satisfied: h11<0.15,>=0.13 in /usr/local/lib/python3.11/dist-packages (from httpcore==1.*->httpx>=0.25.0->jupyterlab->jupyter>=1.0.0->lcls_beamline_toolbox==0.0.1) (0.14.0)\n",
            "Collecting jedi>=0.16 (from ipython>=7.23.1->ipykernel->jupyter>=1.0.0->lcls_beamline_toolbox==0.0.1)\n",
            "  Downloading jedi-0.19.2-py2.py3-none-any.whl.metadata (22 kB)\n",
            "Requirement already satisfied: decorator in /usr/local/lib/python3.11/dist-packages (from ipython>=7.23.1->ipykernel->jupyter>=1.0.0->lcls_beamline_toolbox==0.0.1) (4.4.2)\n",
            "Requirement already satisfied: pickleshare in /usr/local/lib/python3.11/dist-packages (from ipython>=7.23.1->ipykernel->jupyter>=1.0.0->lcls_beamline_toolbox==0.0.1) (0.7.5)\n",
            "Requirement already satisfied: backcall in /usr/local/lib/python3.11/dist-packages (from ipython>=7.23.1->ipykernel->jupyter>=1.0.0->lcls_beamline_toolbox==0.0.1) (0.2.0)\n",
            "Requirement already satisfied: pexpect>4.3 in /usr/local/lib/python3.11/dist-packages (from ipython>=7.23.1->ipykernel->jupyter>=1.0.0->lcls_beamline_toolbox==0.0.1) (4.9.0)\n",
            "Collecting jupyter-client>=6.1.12 (from ipykernel->jupyter>=1.0.0->lcls_beamline_toolbox==0.0.1)\n",
            "  Downloading jupyter_client-7.4.9-py3-none-any.whl.metadata (8.5 kB)\n",
            "Collecting jupyter-events>=0.11.0 (from jupyter-server<3,>=2.4.0->jupyterlab->jupyter>=1.0.0->lcls_beamline_toolbox==0.0.1)\n",
            "  Downloading jupyter_events-0.12.0-py3-none-any.whl.metadata (5.8 kB)\n",
            "Collecting jupyter-server-terminals>=0.4.4 (from jupyter-server<3,>=2.4.0->jupyterlab->jupyter>=1.0.0->lcls_beamline_toolbox==0.0.1)\n",
            "  Downloading jupyter_server_terminals-0.5.3-py3-none-any.whl.metadata (5.6 kB)\n",
            "Collecting overrides>=5.0 (from jupyter-server<3,>=2.4.0->jupyterlab->jupyter>=1.0.0->lcls_beamline_toolbox==0.0.1)\n",
            "  Downloading overrides-7.7.0-py3-none-any.whl.metadata (5.8 kB)\n",
            "Requirement already satisfied: websocket-client>=1.7 in /usr/local/lib/python3.11/dist-packages (from jupyter-server<3,>=2.4.0->jupyterlab->jupyter>=1.0.0->lcls_beamline_toolbox==0.0.1) (1.8.0)\n",
            "Requirement already satisfied: argon2-cffi-bindings in /usr/local/lib/python3.11/dist-packages (from argon2-cffi->notebook->jupyter>=1.0.0->lcls_beamline_toolbox==0.0.1) (21.2.0)\n",
            "Requirement already satisfied: entrypoints in /usr/local/lib/python3.11/dist-packages (from jupyter-client>=6.1.12->ipykernel->jupyter>=1.0.0->lcls_beamline_toolbox==0.0.1) (0.4)\n",
            "Collecting json5>=0.9.0 (from jupyterlab-server<3,>=2.27.1->jupyterlab->jupyter>=1.0.0->lcls_beamline_toolbox==0.0.1)\n",
            "  Downloading json5-0.10.0-py3-none-any.whl.metadata (34 kB)\n",
            "Requirement already satisfied: jsonschema>=4.18.0 in /usr/local/lib/python3.11/dist-packages (from jupyterlab-server<3,>=2.27.1->jupyterlab->jupyter>=1.0.0->lcls_beamline_toolbox==0.0.1) (4.23.0)\n",
            "Requirement already satisfied: fastjsonschema>=2.15 in /usr/local/lib/python3.11/dist-packages (from nbformat>=5.7->nbconvert->jupyter>=1.0.0->lcls_beamline_toolbox==0.0.1) (2.21.1)\n",
            "Requirement already satisfied: wcwidth in /usr/local/lib/python3.11/dist-packages (from prompt-toolkit!=3.0.0,!=3.0.1,<3.1.0,>=2.0.0->jupyter-console->jupyter>=1.0.0->lcls_beamline_toolbox==0.0.1) (0.2.13)\n",
            "Requirement already satisfied: typing-extensions>=4.5 in /usr/local/lib/python3.11/dist-packages (from pytools>=2024.1.5->pyopencl->xrt->lcls_beamline_toolbox==0.0.1) (4.12.2)\n",
            "Requirement already satisfied: charset-normalizer<4,>=2 in /usr/local/lib/python3.11/dist-packages (from requests>=2.30.0->sphinx>=1.6.2->xrt->lcls_beamline_toolbox==0.0.1) (3.4.1)\n",
            "Requirement already satisfied: urllib3<3,>=1.21.1 in /usr/local/lib/python3.11/dist-packages (from requests>=2.30.0->sphinx>=1.6.2->xrt->lcls_beamline_toolbox==0.0.1) (2.3.0)\n",
            "Requirement already satisfied: ptyprocess in /usr/local/lib/python3.11/dist-packages (from terminado>=0.8.3->notebook->jupyter>=1.0.0->lcls_beamline_toolbox==0.0.1) (0.7.0)\n",
            "Requirement already satisfied: soupsieve>1.2 in /usr/local/lib/python3.11/dist-packages (from beautifulsoup4->nbconvert->jupyter>=1.0.0->lcls_beamline_toolbox==0.0.1) (2.6)\n",
            "Requirement already satisfied: sniffio>=1.1 in /usr/local/lib/python3.11/dist-packages (from anyio->httpx>=0.25.0->jupyterlab->jupyter>=1.0.0->lcls_beamline_toolbox==0.0.1) (1.3.1)\n",
            "Requirement already satisfied: parso<0.9.0,>=0.8.4 in /usr/local/lib/python3.11/dist-packages (from jedi>=0.16->ipython>=7.23.1->ipykernel->jupyter>=1.0.0->lcls_beamline_toolbox==0.0.1) (0.8.4)\n",
            "Requirement already satisfied: attrs>=22.2.0 in /usr/local/lib/python3.11/dist-packages (from jsonschema>=4.18.0->jupyterlab-server<3,>=2.27.1->jupyterlab->jupyter>=1.0.0->lcls_beamline_toolbox==0.0.1) (25.3.0)\n",
            "Requirement already satisfied: jsonschema-specifications>=2023.03.6 in /usr/local/lib/python3.11/dist-packages (from jsonschema>=4.18.0->jupyterlab-server<3,>=2.27.1->jupyterlab->jupyter>=1.0.0->lcls_beamline_toolbox==0.0.1) (2024.10.1)\n",
            "Requirement already satisfied: referencing>=0.28.4 in /usr/local/lib/python3.11/dist-packages (from jsonschema>=4.18.0->jupyterlab-server<3,>=2.27.1->jupyterlab->jupyter>=1.0.0->lcls_beamline_toolbox==0.0.1) (0.36.2)\n",
            "Requirement already satisfied: rpds-py>=0.7.1 in /usr/local/lib/python3.11/dist-packages (from jsonschema>=4.18.0->jupyterlab-server<3,>=2.27.1->jupyterlab->jupyter>=1.0.0->lcls_beamline_toolbox==0.0.1) (0.23.1)\n",
            "Collecting python-json-logger>=2.0.4 (from jupyter-events>=0.11.0->jupyter-server<3,>=2.4.0->jupyterlab->jupyter>=1.0.0->lcls_beamline_toolbox==0.0.1)\n",
            "  Downloading python_json_logger-3.3.0-py3-none-any.whl.metadata (4.0 kB)\n",
            "Requirement already satisfied: pyyaml>=5.3 in /usr/local/lib/python3.11/dist-packages (from jupyter-events>=0.11.0->jupyter-server<3,>=2.4.0->jupyterlab->jupyter>=1.0.0->lcls_beamline_toolbox==0.0.1) (6.0.2)\n",
            "Collecting rfc3339-validator (from jupyter-events>=0.11.0->jupyter-server<3,>=2.4.0->jupyterlab->jupyter>=1.0.0->lcls_beamline_toolbox==0.0.1)\n",
            "  Downloading rfc3339_validator-0.1.4-py2.py3-none-any.whl.metadata (1.5 kB)\n",
            "Collecting rfc3986-validator>=0.1.1 (from jupyter-events>=0.11.0->jupyter-server<3,>=2.4.0->jupyterlab->jupyter>=1.0.0->lcls_beamline_toolbox==0.0.1)\n",
            "  Downloading rfc3986_validator-0.1.1-py2.py3-none-any.whl.metadata (1.7 kB)\n",
            "Requirement already satisfied: cffi>=1.0.1 in /usr/local/lib/python3.11/dist-packages (from argon2-cffi-bindings->argon2-cffi->notebook->jupyter>=1.0.0->lcls_beamline_toolbox==0.0.1) (1.17.1)\n",
            "Requirement already satisfied: pycparser in /usr/local/lib/python3.11/dist-packages (from cffi>=1.0.1->argon2-cffi-bindings->argon2-cffi->notebook->jupyter>=1.0.0->lcls_beamline_toolbox==0.0.1) (2.22)\n",
            "Collecting fqdn (from jsonschema[format-nongpl]>=4.18.0->jupyter-events>=0.11.0->jupyter-server<3,>=2.4.0->jupyterlab->jupyter>=1.0.0->lcls_beamline_toolbox==0.0.1)\n",
            "  Downloading fqdn-1.5.1-py3-none-any.whl.metadata (1.4 kB)\n",
            "Collecting isoduration (from jsonschema[format-nongpl]>=4.18.0->jupyter-events>=0.11.0->jupyter-server<3,>=2.4.0->jupyterlab->jupyter>=1.0.0->lcls_beamline_toolbox==0.0.1)\n",
            "  Downloading isoduration-20.11.0-py3-none-any.whl.metadata (5.7 kB)\n",
            "Requirement already satisfied: jsonpointer>1.13 in /usr/local/lib/python3.11/dist-packages (from jsonschema[format-nongpl]>=4.18.0->jupyter-events>=0.11.0->jupyter-server<3,>=2.4.0->jupyterlab->jupyter>=1.0.0->lcls_beamline_toolbox==0.0.1) (3.0.0)\n",
            "Collecting uri-template (from jsonschema[format-nongpl]>=4.18.0->jupyter-events>=0.11.0->jupyter-server<3,>=2.4.0->jupyterlab->jupyter>=1.0.0->lcls_beamline_toolbox==0.0.1)\n",
            "  Downloading uri_template-1.3.0-py3-none-any.whl.metadata (8.8 kB)\n",
            "Requirement already satisfied: webcolors>=24.6.0 in /usr/local/lib/python3.11/dist-packages (from jsonschema[format-nongpl]>=4.18.0->jupyter-events>=0.11.0->jupyter-server<3,>=2.4.0->jupyterlab->jupyter>=1.0.0->lcls_beamline_toolbox==0.0.1) (24.11.1)\n",
            "Collecting arrow>=0.15.0 (from isoduration->jsonschema[format-nongpl]>=4.18.0->jupyter-events>=0.11.0->jupyter-server<3,>=2.4.0->jupyterlab->jupyter>=1.0.0->lcls_beamline_toolbox==0.0.1)\n",
            "  Downloading arrow-1.3.0-py3-none-any.whl.metadata (7.5 kB)\n",
            "Collecting types-python-dateutil>=2.8.10 (from arrow>=0.15.0->isoduration->jsonschema[format-nongpl]>=4.18.0->jupyter-events>=0.11.0->jupyter-server<3,>=2.4.0->jupyterlab->jupyter>=1.0.0->lcls_beamline_toolbox==0.0.1)\n",
            "  Downloading types_python_dateutil-2.9.0.20241206-py3-none-any.whl.metadata (2.1 kB)\n",
            "Downloading jupyter-1.1.1-py2.py3-none-any.whl (2.7 kB)\n",
            "Downloading colorama-0.4.6-py2.py3-none-any.whl (25 kB)\n",
            "Downloading jupyterlab-4.3.6-py3-none-any.whl (11.7 MB)\n",
            "\u001b[2K   \u001b[90m━━━━━━━━━━━━━━━━━━━━━━━━━━━━━━━━━━━━━━━━\u001b[0m \u001b[32m11.7/11.7 MB\u001b[0m \u001b[31m84.5 MB/s\u001b[0m eta \u001b[36m0:00:00\u001b[0m\n",
            "\u001b[?25hDownloading pyopencl-2025.1-cp311-cp311-manylinux_2_17_x86_64.manylinux2014_x86_64.whl (724 kB)\n",
            "\u001b[2K   \u001b[90m━━━━━━━━━━━━━━━━━━━━━━━━━━━━━━━━━━━━━━━━\u001b[0m \u001b[32m724.6/724.6 kB\u001b[0m \u001b[31m32.4 MB/s\u001b[0m eta \u001b[36m0:00:00\u001b[0m\n",
            "\u001b[?25hDownloading siphash24-1.7-cp311-cp311-manylinux_2_17_x86_64.manylinux2014_x86_64.whl (105 kB)\n",
            "\u001b[2K   \u001b[90m━━━━━━━━━━━━━━━━━━━━━━━━━━━━━━━━━━━━━━━━\u001b[0m \u001b[32m105.6/105.6 kB\u001b[0m \u001b[31m7.1 MB/s\u001b[0m eta \u001b[36m0:00:00\u001b[0m\n",
            "\u001b[?25hDownloading sphinxcontrib_jquery-4.1-py2.py3-none-any.whl (121 kB)\n",
            "\u001b[2K   \u001b[90m━━━━━━━━━━━━━━━━━━━━━━━━━━━━━━━━━━━━━━━━\u001b[0m \u001b[32m121.1/121.1 kB\u001b[0m \u001b[31m7.7 MB/s\u001b[0m eta \u001b[36m0:00:00\u001b[0m\n",
            "\u001b[?25hDownloading async_lru-2.0.5-py3-none-any.whl (6.1 kB)\n",
            "Downloading jupyter_lsp-2.2.5-py3-none-any.whl (69 kB)\n",
            "\u001b[2K   \u001b[90m━━━━━━━━━━━━━━━━━━━━━━━━━━━━━━━━━━━━━━━━\u001b[0m \u001b[32m69.1/69.1 kB\u001b[0m \u001b[31m4.7 MB/s\u001b[0m eta \u001b[36m0:00:00\u001b[0m\n",
            "\u001b[?25hDownloading jupyter_server-2.15.0-py3-none-any.whl (385 kB)\n",
            "\u001b[2K   \u001b[90m━━━━━━━━━━━━━━━━━━━━━━━━━━━━━━━━━━━━━━━━\u001b[0m \u001b[32m385.8/385.8 kB\u001b[0m \u001b[31m21.4 MB/s\u001b[0m eta \u001b[36m0:00:00\u001b[0m\n",
            "\u001b[?25hDownloading jupyter_client-7.4.9-py3-none-any.whl (133 kB)\n",
            "\u001b[2K   \u001b[90m━━━━━━━━━━━━━━━━━━━━━━━━━━━━━━━━━━━━━━━━\u001b[0m \u001b[32m133.5/133.5 kB\u001b[0m \u001b[31m9.4 MB/s\u001b[0m eta \u001b[36m0:00:00\u001b[0m\n",
            "\u001b[?25hDownloading jupyterlab_server-2.27.3-py3-none-any.whl (59 kB)\n",
            "\u001b[2K   \u001b[90m━━━━━━━━━━━━━━━━━━━━━━━━━━━━━━━━━━━━━━━━\u001b[0m \u001b[32m59.7/59.7 kB\u001b[0m \u001b[31m3.9 MB/s\u001b[0m eta \u001b[36m0:00:00\u001b[0m\n",
            "\u001b[?25hDownloading pytools-2025.1.1-py3-none-any.whl (92 kB)\n",
            "\u001b[2K   \u001b[90m━━━━━━━━━━━━━━━━━━━━━━━━━━━━━━━━━━━━━━━━\u001b[0m \u001b[32m92.8/92.8 kB\u001b[0m \u001b[31m6.2 MB/s\u001b[0m eta \u001b[36m0:00:00\u001b[0m\n",
            "\u001b[?25hDownloading jedi-0.19.2-py2.py3-none-any.whl (1.6 MB)\n",
            "\u001b[2K   \u001b[90m━━━━━━━━━━━━━━━━━━━━━━━━━━━━━━━━━━━━━━━━\u001b[0m \u001b[32m1.6/1.6 MB\u001b[0m \u001b[31m50.7 MB/s\u001b[0m eta \u001b[36m0:00:00\u001b[0m\n",
            "\u001b[?25hDownloading json5-0.10.0-py3-none-any.whl (34 kB)\n",
            "Downloading jupyter_events-0.12.0-py3-none-any.whl (19 kB)\n",
            "Downloading jupyter_server_terminals-0.5.3-py3-none-any.whl (13 kB)\n",
            "Downloading overrides-7.7.0-py3-none-any.whl (17 kB)\n",
            "Downloading python_json_logger-3.3.0-py3-none-any.whl (15 kB)\n",
            "Downloading rfc3986_validator-0.1.1-py2.py3-none-any.whl (4.2 kB)\n",
            "Downloading rfc3339_validator-0.1.4-py2.py3-none-any.whl (3.5 kB)\n",
            "Downloading fqdn-1.5.1-py3-none-any.whl (9.1 kB)\n",
            "Downloading isoduration-20.11.0-py3-none-any.whl (11 kB)\n",
            "Downloading uri_template-1.3.0-py3-none-any.whl (11 kB)\n",
            "Downloading arrow-1.3.0-py3-none-any.whl (66 kB)\n",
            "\u001b[2K   \u001b[90m━━━━━━━━━━━━━━━━━━━━━━━━━━━━━━━━━━━━━━━━\u001b[0m \u001b[32m66.4/66.4 kB\u001b[0m \u001b[31m4.5 MB/s\u001b[0m eta \u001b[36m0:00:00\u001b[0m\n",
            "\u001b[?25hDownloading types_python_dateutil-2.9.0.20241206-py3-none-any.whl (14 kB)\n",
            "Building wheels for collected packages: xrt\n",
            "  Building wheel for xrt (setup.py) ... \u001b[?25l\u001b[?25hdone\n",
            "  Created wheel for xrt: filename=xrt-1.6.1-py3-none-any.whl size=5465434 sha256=21671f8d0e0f506f93fe5e9c938cece5bd63e013ced3220ccbedef5765ed3c37\n",
            "  Stored in directory: /root/.cache/pip/wheels/a8/73/bf/57c1a21696e03a98775c432da6d6f4ce1a43989f327d0db47c\n",
            "Successfully built xrt\n",
            "Installing collected packages: uri-template, types-python-dateutil, siphash24, rfc3986-validator, rfc3339-validator, pytools, python-json-logger, overrides, json5, jedi, fqdn, colorama, async-lru, pyopencl, jupyter-server-terminals, jupyter-client, arrow, sphinxcontrib-jquery, isoduration, xrt, jupyter-events, jupyter-server, jupyterlab-server, jupyter-lsp, jupyterlab, jupyter, lcls_beamline_toolbox\n",
            "  Attempting uninstall: jupyter-client\n",
            "    Found existing installation: jupyter-client 6.1.12\n",
            "    Uninstalling jupyter-client-6.1.12:\n",
            "      Successfully uninstalled jupyter-client-6.1.12\n",
            "  Attempting uninstall: jupyter-server\n",
            "    Found existing installation: jupyter-server 1.16.0\n",
            "    Uninstalling jupyter-server-1.16.0:\n",
            "      Successfully uninstalled jupyter-server-1.16.0\n",
            "  Running setup.py develop for lcls_beamline_toolbox\n",
            "Successfully installed arrow-1.3.0 async-lru-2.0.5 colorama-0.4.6 fqdn-1.5.1 isoduration-20.11.0 jedi-0.19.2 json5-0.10.0 jupyter-1.1.1 jupyter-client-7.4.9 jupyter-events-0.12.0 jupyter-lsp-2.2.5 jupyter-server-2.15.0 jupyter-server-terminals-0.5.3 jupyterlab-4.3.6 jupyterlab-server-2.27.3 lcls_beamline_toolbox-0.0.1 overrides-7.7.0 pyopencl-2025.1 python-json-logger-3.3.0 pytools-2025.1.1 rfc3339-validator-0.1.4 rfc3986-validator-0.1.1 siphash24-1.7 sphinxcontrib-jquery-4.1 types-python-dateutil-2.9.0.20241206 uri-template-1.3.0 xrt-1.6.1\n",
            "\u001b[2K   \u001b[90m━━━━━━━━━━━━━━━━━━━━━━━━━━━━━━━━━━━━━━━━\u001b[0m \u001b[32m3.9/3.9 MB\u001b[0m \u001b[31m29.4 MB/s\u001b[0m eta \u001b[36m0:00:00\u001b[0m\n",
            "\u001b[2K     \u001b[90m━━━━━━━━━━━━━━━━━━━━━━━━━━━━━━━━━━━━━━━━\u001b[0m \u001b[32m70.6/70.6 kB\u001b[0m \u001b[31m2.0 MB/s\u001b[0m eta \u001b[36m0:00:00\u001b[0m\n",
            "\u001b[2K     \u001b[90m━━━━━━━━━━━━━━━━━━━━━━━━━━━━━━━━━━━━━━━━\u001b[0m \u001b[32m207.3/207.3 kB\u001b[0m \u001b[31m6.1 MB/s\u001b[0m eta \u001b[36m0:00:00\u001b[0m\n",
            "\u001b[?25h  Preparing metadata (setup.py) ... \u001b[?25l\u001b[?25hdone\n",
            "\u001b[2K   \u001b[90m━━━━━━━━━━━━━━━━━━━━━━━━━━━━━━━━━━━━━━━━\u001b[0m \u001b[32m4.4/4.4 MB\u001b[0m \u001b[31m20.6 MB/s\u001b[0m eta \u001b[36m0:00:00\u001b[0m\n",
            "\u001b[2K   \u001b[90m━━━━━━━━━━━━━━━━━━━━━━━━━━━━━━━━━━━━━━━━\u001b[0m \u001b[32m249.1/249.1 kB\u001b[0m \u001b[31m15.2 MB/s\u001b[0m eta \u001b[36m0:00:00\u001b[0m\n",
            "\u001b[2K   \u001b[90m━━━━━━━━━━━━━━━━━━━━━━━━━━━━━━━━━━━━━━━━\u001b[0m \u001b[32m77.1/77.1 kB\u001b[0m \u001b[31m4.6 MB/s\u001b[0m eta \u001b[36m0:00:00\u001b[0m\n",
            "\u001b[2K   \u001b[90m━━━━━━━━━━━━━━━━━━━━━━━━━━━━━━━━━━━━━━━━\u001b[0m \u001b[32m119.4/119.4 kB\u001b[0m \u001b[31m7.4 MB/s\u001b[0m eta \u001b[36m0:00:00\u001b[0m\n",
            "\u001b[?25h  Building wheel for grapheme (setup.py) ... \u001b[?25l\u001b[?25hdone\n"
          ]
        }
      ]
    },
    {
      "cell_type": "code",
      "source": [
        "!pip install scipy==1.10.0"
      ],
      "metadata": {
        "colab": {
          "base_uri": "https://localhost:8080/"
        },
        "id": "ZYo9iJBIBLzb",
        "outputId": "4bd0ee6a-9bf4-42c5-f177-5abc3bb26117"
      },
      "execution_count": 3,
      "outputs": [
        {
          "output_type": "stream",
          "name": "stdout",
          "text": [
            "Collecting scipy==1.10.0\n",
            "  Downloading scipy-1.10.0-cp311-cp311-manylinux_2_17_x86_64.manylinux2014_x86_64.whl.metadata (58 kB)\n",
            "\u001b[2K     \u001b[90m━━━━━━━━━━━━━━━━━━━━━━━━━━━━━━━━━━━━━━━━\u001b[0m \u001b[32m58.9/58.9 kB\u001b[0m \u001b[31m2.3 MB/s\u001b[0m eta \u001b[36m0:00:00\u001b[0m\n",
            "\u001b[?25hCollecting numpy<1.27.0,>=1.19.5 (from scipy==1.10.0)\n",
            "  Downloading numpy-1.26.4-cp311-cp311-manylinux_2_17_x86_64.manylinux2014_x86_64.whl.metadata (61 kB)\n",
            "\u001b[2K     \u001b[90m━━━━━━━━━━━━━━━━━━━━━━━━━━━━━━━━━━━━━━━━\u001b[0m \u001b[32m61.0/61.0 kB\u001b[0m \u001b[31m645.2 kB/s\u001b[0m eta \u001b[36m0:00:00\u001b[0m\n",
            "\u001b[?25hDownloading scipy-1.10.0-cp311-cp311-manylinux_2_17_x86_64.manylinux2014_x86_64.whl (34.1 MB)\n",
            "\u001b[2K   \u001b[90m━━━━━━━━━━━━━━━━━━━━━━━━━━━━━━━━━━━━━━━━\u001b[0m \u001b[32m34.1/34.1 MB\u001b[0m \u001b[31m25.0 MB/s\u001b[0m eta \u001b[36m0:00:00\u001b[0m\n",
            "\u001b[?25hDownloading numpy-1.26.4-cp311-cp311-manylinux_2_17_x86_64.manylinux2014_x86_64.whl (18.3 MB)\n",
            "\u001b[2K   \u001b[90m━━━━━━━━━━━━━━━━━━━━━━━━━━━━━━━━━━━━━━━━\u001b[0m \u001b[32m18.3/18.3 MB\u001b[0m \u001b[31m36.0 MB/s\u001b[0m eta \u001b[36m0:00:00\u001b[0m\n",
            "\u001b[?25hInstalling collected packages: numpy, scipy\n",
            "  Attempting uninstall: numpy\n",
            "    Found existing installation: numpy 2.0.2\n",
            "    Uninstalling numpy-2.0.2:\n",
            "      Successfully uninstalled numpy-2.0.2\n",
            "  Attempting uninstall: scipy\n",
            "    Found existing installation: scipy 1.14.1\n",
            "    Uninstalling scipy-1.14.1:\n",
            "      Successfully uninstalled scipy-1.14.1\n",
            "\u001b[31mERROR: pip's dependency resolver does not currently take into account all the packages that are installed. This behaviour is the source of the following dependency conflicts.\n",
            "jaxlib 0.5.1 requires scipy>=1.11.1, but you have scipy 1.10.0 which is incompatible.\n",
            "cvxpy 1.6.4 requires scipy>=1.11.0, but you have scipy 1.10.0 which is incompatible.\n",
            "jax 0.5.2 requires scipy>=1.11.1, but you have scipy 1.10.0 which is incompatible.\n",
            "scikit-image 0.25.2 requires scipy>=1.11.4, but you have scipy 1.10.0 which is incompatible.\n",
            "imbalanced-learn 0.13.0 requires scipy<2,>=1.10.1, but you have scipy 1.10.0 which is incompatible.\u001b[0m\u001b[31m\n",
            "\u001b[0mSuccessfully installed numpy-1.26.4 scipy-1.10.0\n"
          ]
        }
      ]
    },
    {
      "cell_type": "code",
      "source": [
        "import numpy as np\n",
        "import pandas as pd\n",
        "import matplotlib.pyplot as plt\n",
        "import lcls_beamline_toolbox.xraywavetrace.beam1d as beam\n",
        "import lcls_beamline_toolbox.xraywavetrace.optics1d as optics\n",
        "import lcls_beamline_toolbox.xraywavetrace.beamline1d as beamline\n",
        "import scipy.optimize as optimize\n",
        "import copy\n",
        "import scipy.spatial.transform as transform\n",
        "from split_and_delay import SND\n",
        "\n",
        "import torch\n",
        "\n",
        "\n",
        "import warnings\n",
        "warnings.filterwarnings(\"ignore\")\n",
        "\n",
        "\n",
        "\n",
        "from pymoo.core.problem import ElementwiseProblem\n",
        "\n",
        "from pymoo.algorithms.moo.nsga2 import NSGA2\n",
        "from pymoo.operators.crossover.sbx import SBX\n",
        "from pymoo.operators.mutation.pm import PM\n",
        "from pymoo.operators.sampling.rnd import FloatRandomSampling\n",
        "from pymoo.termination import get_termination\n",
        "\n",
        "from pymoo.optimize import minimize\n",
        "\n",
        "from pymoo.indicators.hv import Hypervolume"
      ],
      "metadata": {
        "id": "s-0ycNIqA9P2"
      },
      "execution_count": 1,
      "outputs": []
    },
    {
      "cell_type": "code",
      "source": [
        "def get_snd_outputs(inputs):\n",
        "  \"\"\"\n",
        "  Study 1 Objective function. Takes an [n, 8] dim np array of\n",
        "  [samples, ( t1_th1, t1_th2, chi1, chi2, t4_th1, t4_th2, chi1, chi2)].\n",
        "  The entries lie in the uniform unit interval.\n",
        "  They are scaled to lie in [-100e-6, +100e-6].\n",
        "  Returns a torch tensor of dim [n, 2] of\n",
        "  [samples, (do_sum_objective, IP_r_objective)]\n",
        "  \"\"\"\n",
        "  inputs = inputs*200e-6 - 100e-6\n",
        "  inputs = inputs.reshape(1,-1)\n",
        "  result = []\n",
        "\n",
        "  for x in inputs:\n",
        "    snd = SND(9500)\n",
        "    x = np.array(x)\n",
        "\n",
        "    snd.mvr_t1_th1(x[0])\n",
        "    snd.mvr_t1_th2(x[1])\n",
        "    snd.mvr_t1_chi1(x[2])#not in study 1\n",
        "    snd.mvr_t1_chi2(x[3])#not in study 1\n",
        "    snd.mvr_t4_th1(x[4])\n",
        "    snd.mvr_t4_th2(x[5])\n",
        "    snd.mvr_t4_chi1(x[6])#not in study 1\n",
        "    snd.mvr_t4_chi2(x[7])#not in study 1\n",
        "\n",
        "    # snd.mvr_t1_th1(x[0])\n",
        "    # snd.mvr_t1_th2(x[1])\n",
        "    # snd.mvr_t4_th1(x[2])\n",
        "    # snd.mvr_t4_th2(x[3])\n",
        "\n",
        "    snd.propagate_delay()\n",
        "\n",
        "    dh1 = snd.get_t1_dh_sum()\n",
        "    dd = snd.get_dd_sum()\n",
        "    dh4 = snd.get_t4_dh_sum()\n",
        "    do = snd.get_do_sum()\n",
        "    my_IP_sum = snd.get_IP_sum()\n",
        "    my_intensity = dh1 + dd + dh4 + do + my_IP_sum\n",
        "\n",
        "    do_centroid = snd.get_IP_r()\n",
        "    do_centroid_x = snd.get_IP_cx()\n",
        "    do_centroid_y = snd.get_IP_cy()\n",
        "\n",
        "    result.append([(my_intensity)/(61441), do_centroid*1e6])\n",
        "    del snd\n",
        "  return np.array(result)\n"
      ],
      "metadata": {
        "id": "ZPg7dCAcBTuk"
      },
      "execution_count": 22,
      "outputs": []
    },
    {
      "cell_type": "code",
      "source": [
        "input = np.ones((1,8)) * 0.55\n",
        "get_snd_outputs(input)"
      ],
      "metadata": {
        "colab": {
          "base_uri": "https://localhost:8080/"
        },
        "id": "mlt38LewBz_a",
        "outputId": "91896398-8c33-4378-bbbe-bc3e9a26ca4a"
      },
      "execution_count": 25,
      "outputs": [
        {
          "output_type": "execute_result",
          "data": {
            "text/plain": [
              "array([[ 1.15907167, 80.90626893]])"
            ]
          },
          "metadata": {},
          "execution_count": 25
        }
      ]
    },
    {
      "cell_type": "code",
      "source": [
        "class MyProblem(ElementwiseProblem):\n",
        "  def __init__(self):\n",
        "    super().__init__(n_var=8,\n",
        "                      n_obj=2,\n",
        "                      n_ieq_constr=0,\n",
        "                      xl=np.ones(8)*0.3,\n",
        "                      xu=np.ones(8)*0.7)\n",
        "\n",
        "  def _evaluate(self, x, out, *args, **kwargs):\n",
        "    f1, f2 = get_snd_outputs(x).squeeze()\n",
        "\n",
        "    out[\"F\"] = [-f1, f2/100]"
      ],
      "metadata": {
        "id": "K2MrAFUCB86k"
      },
      "execution_count": 57,
      "outputs": []
    },
    {
      "cell_type": "code",
      "source": [
        "problem = MyProblem()"
      ],
      "metadata": {
        "id": "FV0yKLq7DGVn"
      },
      "execution_count": 58,
      "outputs": []
    },
    {
      "cell_type": "code",
      "source": [
        "algorithm = NSGA2(\n",
        "    pop_size=200,\n",
        "    n_offsprings=100,\n",
        "    sampling=FloatRandomSampling(),\n",
        "    crossover=SBX(prob=0.9, eta=15),\n",
        "    mutation=PM(eta=20),\n",
        "    eliminate_duplicates=True\n",
        ")"
      ],
      "metadata": {
        "id": "J9mu_fXzDKYi"
      },
      "execution_count": 59,
      "outputs": []
    },
    {
      "cell_type": "code",
      "source": [
        "termination = get_termination(\"n_gen\", 100)"
      ],
      "metadata": {
        "id": "h_NIw6RODNZ3"
      },
      "execution_count": 60,
      "outputs": []
    },
    {
      "cell_type": "code",
      "source": [
        "res = minimize(problem,\n",
        "               algorithm,\n",
        "               termination,\n",
        "               seed=1,\n",
        "               save_history=True,\n",
        "               verbose=True)"
      ],
      "metadata": {
        "colab": {
          "base_uri": "https://localhost:8080/"
        },
        "id": "ExpVCGLPDPT6",
        "outputId": "2e32bba8-b7f0-4bec-cb19-d625f5fda4a6"
      },
      "execution_count": 61,
      "outputs": [
        {
          "output_type": "stream",
          "name": "stdout",
          "text": [
            "==========================================================\n",
            "n_gen  |  n_eval  | n_nds  |      eps      |   indicator  \n",
            "==========================================================\n",
            "     1 |      200 |      4 |             - |             -\n",
            "     2 |      300 |      3 |  0.0762101807 |             f\n",
            "     3 |      400 |      3 |  0.000000E+00 |             f\n",
            "     4 |      500 |      3 |  0.1514671086 |         ideal\n",
            "     5 |      600 |      4 |  0.1379433896 |             f\n",
            "     6 |      700 |      4 |  0.0401279985 |             f\n",
            "     7 |      800 |      5 |  0.0518365645 |         ideal\n",
            "     8 |      900 |      5 |  0.0083096289 |             f\n",
            "     9 |     1000 |      6 |  0.0003468514 |             f\n",
            "    10 |     1100 |      5 |  0.0199348300 |         ideal\n",
            "    11 |     1200 |      5 |  0.2718604859 |         ideal\n",
            "    12 |     1300 |      5 |  0.000000E+00 |             f\n",
            "    13 |     1400 |      6 |  0.2205050707 |         ideal\n",
            "    14 |     1500 |      4 |  0.0275988298 |             f\n",
            "    15 |     1600 |      5 |  0.0176766200 |             f\n",
            "    16 |     1700 |      6 |  0.1943698293 |         nadir\n",
            "    17 |     1800 |      6 |  0.0313963351 |         ideal\n",
            "    18 |     1900 |      7 |  0.0062431461 |             f\n",
            "    19 |     2000 |      9 |  0.1712128092 |         nadir\n",
            "    20 |     2100 |      9 |  0.000000E+00 |             f\n",
            "    21 |     2200 |      9 |  0.0172543052 |             f\n",
            "    22 |     2300 |      9 |  0.0335600364 |         ideal\n",
            "    23 |     2400 |     10 |  0.0309566295 |         ideal\n",
            "    24 |     2500 |     11 |  0.0006145903 |             f\n",
            "    25 |     2600 |     13 |  0.0118532651 |             f\n",
            "    26 |     2700 |     11 |  0.0048911143 |             f\n",
            "    27 |     2800 |     11 |  0.0184939831 |             f\n",
            "    28 |     2900 |     12 |  0.0020189157 |             f\n",
            "    29 |     3000 |     10 |  0.0403722571 |         ideal\n",
            "    30 |     3100 |     10 |  0.0090776040 |             f\n",
            "    31 |     3200 |     11 |  0.0635214623 |         ideal\n",
            "    32 |     3300 |     10 |  0.0273021971 |             f\n",
            "    33 |     3400 |      7 |  0.0369582608 |         ideal\n",
            "    34 |     3500 |      7 |  0.000000E+00 |             f\n",
            "    35 |     3600 |      8 |  0.0384585320 |         ideal\n",
            "    36 |     3700 |      9 |  0.0043680139 |             f\n",
            "    37 |     3800 |      8 |  0.0099148248 |             f\n",
            "    38 |     3900 |      8 |  0.000000E+00 |             f\n",
            "    39 |     4000 |     11 |  0.0211251181 |             f\n",
            "    40 |     4100 |     12 |  0.0081936569 |             f\n",
            "    41 |     4200 |     14 |  0.0159574635 |             f\n",
            "    42 |     4300 |     13 |  0.0042871821 |         ideal\n",
            "    43 |     4400 |     14 |  0.0003232801 |             f\n",
            "    44 |     4500 |     16 |  0.0103895983 |             f\n",
            "    45 |     4600 |     14 |  0.0045482320 |             f\n",
            "    46 |     4700 |     14 |  0.000000E+00 |             f\n",
            "    47 |     4800 |     14 |  0.0029152945 |         ideal\n",
            "    48 |     4900 |     15 |  0.0102908919 |             f\n",
            "    49 |     5000 |     15 |  0.000000E+00 |             f\n",
            "    50 |     5100 |     15 |  0.0135005217 |             f\n",
            "    51 |     5200 |     16 |  0.0013321634 |             f\n",
            "    52 |     5300 |     17 |  0.0028082954 |             f\n",
            "    53 |     5400 |     18 |  0.0065196010 |             f\n",
            "    54 |     5500 |     18 |  0.0182401461 |         ideal\n",
            "    55 |     5600 |     14 |  0.0045721265 |             f\n",
            "    56 |     5700 |     15 |  0.0078851927 |             f\n",
            "    57 |     5800 |     17 |  0.0057589278 |             f\n",
            "    58 |     5900 |     15 |  0.0273623922 |         ideal\n",
            "    59 |     6000 |     15 |  0.0042440499 |             f\n",
            "    60 |     6100 |     18 |  0.0189980148 |         nadir\n",
            "    61 |     6200 |     18 |  0.0031949292 |             f\n",
            "    62 |     6300 |     20 |  0.0047020414 |             f\n",
            "    63 |     6400 |     19 |  0.0014332615 |             f\n",
            "    64 |     6500 |     19 |  0.0043417857 |             f\n",
            "    65 |     6600 |     18 |  0.0099132418 |         ideal\n",
            "    66 |     6700 |     18 |  0.0020533542 |             f\n",
            "    67 |     6800 |     19 |  0.0028040490 |             f\n",
            "    68 |     6900 |     20 |  0.0107081490 |         ideal\n",
            "    69 |     7000 |     22 |  0.0023216641 |             f\n",
            "    70 |     7100 |     23 |  0.0047452375 |             f\n",
            "    71 |     7200 |     22 |  0.0017060536 |             f\n",
            "    72 |     7300 |     24 |  0.0071855661 |             f\n",
            "    73 |     7400 |     23 |  0.0110364171 |         ideal\n",
            "    74 |     7500 |     23 |  0.0025334471 |             f\n",
            "    75 |     7600 |     22 |  0.0017588748 |             f\n",
            "    76 |     7700 |     22 |  0.0021749967 |             f\n",
            "    77 |     7800 |     22 |  0.0078728702 |             f\n",
            "    78 |     7900 |     21 |  0.0062518529 |             f\n",
            "    79 |     8000 |     21 |  0.0282458857 |         nadir\n",
            "    80 |     8100 |     21 |  0.0066321542 |             f\n",
            "    81 |     8200 |     21 |  0.0019909207 |             f\n",
            "    82 |     8300 |     22 |  0.0031232577 |         ideal\n",
            "    83 |     8400 |     24 |  0.0006781767 |             f\n",
            "    84 |     8500 |     24 |  0.0025568830 |             f\n",
            "    85 |     8600 |     26 |  0.0030037953 |         ideal\n",
            "    86 |     8700 |     27 |  0.0005800418 |             f\n",
            "    87 |     8800 |     29 |  0.2886534597 |         nadir\n",
            "    88 |     8900 |     31 |  0.0005881941 |             f\n",
            "    89 |     9000 |     33 |  0.0009604233 |             f\n",
            "    90 |     9100 |     34 |  0.0012683070 |             f\n",
            "    91 |     9200 |     32 |  0.3380925986 |         nadir\n",
            "    92 |     9300 |     29 |  0.3627361466 |         nadir\n",
            "    93 |     9400 |     30 |  0.0007981707 |             f\n",
            "    94 |     9500 |     30 |  0.0007981707 |             f\n",
            "    95 |     9600 |     31 |  0.0008903238 |             f\n",
            "    96 |     9700 |     31 |  0.0052815819 |             f\n",
            "    97 |     9800 |     24 |  0.0050892585 |         ideal\n",
            "    98 |     9900 |     23 |  0.0068068483 |         ideal\n",
            "    99 |    10000 |     24 |  0.0034088929 |             f\n",
            "   100 |    10100 |     20 |  0.0090533468 |             f\n"
          ]
        }
      ]
    },
    {
      "cell_type": "code",
      "source": [
        "X = res.X\n",
        "F = res.F"
      ],
      "metadata": {
        "id": "GaurtmMADRcx"
      },
      "execution_count": 62,
      "outputs": []
    },
    {
      "cell_type": "code",
      "source": [
        "plt.figure(figsize=(7, 5))\n",
        "plt.scatter(F[:, 0], F[:, 1], s=30, facecolors='none', edgecolors='blue')\n",
        "plt.title(\"Objective Space\")\n",
        "plt.show()"
      ],
      "metadata": {
        "colab": {
          "base_uri": "https://localhost:8080/",
          "height": 468
        },
        "id": "N-yuyxJmEc4d",
        "outputId": "7d5ca5d6-fde1-42f6-ffa3-fbe2e4a14e3b"
      },
      "execution_count": 63,
      "outputs": [
        {
          "output_type": "display_data",
          "data": {
            "text/plain": [
              "<Figure size 700x500 with 1 Axes>"
            ],
            "image/png": "[encoded data removed]"
          },
          "metadata": {}
        }
      ]
    },
    {
      "cell_type": "code",
      "source": [
        "intensity = -F[:, 0]\n",
        "BPE = F[:, 1] * 100\n",
        "plt.figure(figsize=(7, 5))\n",
        "plt.scatter(intensity*61411, BPE, s=30, facecolors='gray', edgecolors='k', alpha=0.75)\n",
        "plt.ylabel(\"Beam Position Error \\n (microns)\")\n",
        "plt.xlabel(\"Intensity\")\n",
        "plt.xlim(66000, 70000)\n",
        "\n",
        "plt.title(\"Pareto Front\")\n",
        "plt.show()"
      ],
      "metadata": {
        "colab": {
          "base_uri": "https://localhost:8080/",
          "height": 487
        },
        "id": "eUUkvN2UEjnI",
        "outputId": "c2687417-fa6f-4351-c308-559f6bc74fd1"
      },
      "execution_count": 67,
      "outputs": [
        {
          "output_type": "display_data",
          "data": {
            "text/plain": [
              "<Figure size 700x500 with 1 Axes>"
            ],
            "image/png": "[encoded data removed]"
          },
          "metadata": {}
        }
      ]
    },
    {
      "cell_type": "code",
      "source": [
        "F"
      ],
      "metadata": {
        "colab": {
          "base_uri": "https://localhost:8080/"
        },
        "id": "FaTs4s9P77gF",
        "outputId": "feb68175-72b8-46d7-a3b2-24e340f34654"
      },
      "execution_count": 65,
      "outputs": [
        {
          "output_type": "execute_result",
          "data": {
            "text/plain": [
              "array([[-1.09241874,  0.01008898],\n",
              "       [-1.08691042,  0.00676653],\n",
              "       [-0.80352603,  0.00172798],\n",
              "       [-1.09624799,  0.01812799],\n",
              "       [-1.10369963,  0.08692776],\n",
              "       [-1.08812217,  0.009302  ],\n",
              "       [-1.12958496,  0.21727953],\n",
              "       [-1.10049097,  0.01909298],\n",
              "       [-1.12394123,  0.16424903],\n",
              "       [-1.09573718,  0.01502527],\n",
              "       [-1.07523876,  0.00207911],\n",
              "       [-1.13319974,  0.29566571],\n",
              "       [-1.09410931,  0.01153803],\n",
              "       [-1.10761907,  0.1119047 ],\n",
              "       [-1.13545916,  0.30134807],\n",
              "       [-1.13059824,  0.24177541],\n",
              "       [-1.13193716,  0.27055729],\n",
              "       [-1.12118634,  0.14167518],\n",
              "       [-1.10180967,  0.03337031],\n",
              "       [-1.12651107,  0.18423971]])"
            ]
          },
          "metadata": {},
          "execution_count": 65
        }
      ]
    },
    {
      "cell_type": "code",
      "source": [],
      "metadata": {
        "id": "fgP_vfQQFFuR"
      },
      "execution_count": null,
      "outputs": []
    }
  ]
}
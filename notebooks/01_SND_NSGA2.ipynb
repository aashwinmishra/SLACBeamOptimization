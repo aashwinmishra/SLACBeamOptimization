{
  "cells": [
    {
      "cell_type": "code",
      "execution_count": null,
      "metadata": {
        "id": "vPNCZEmnC4WQ"
      },
      "outputs": [],
      "source": [
        "!git clone https://github.com/mseaberg/lcls_beamline_toolbox #https://github.com/aashwinmishra/lcls_beamline_optimization"
      ]
    },
    {
      "cell_type": "code",
      "execution_count": null,
      "metadata": {
        "id": "GLGDSO8kYynb"
      },
      "outputs": [],
      "source": [
        "import os\n",
        "os.chdir('lcls_beamline_toolbox')\n",
        "!python3 -m pip install -e .\n",
        "!pip install xraydb -q\n",
        "!pip install pymoo -q"
      ]
    },
    {
      "cell_type": "code",
      "execution_count": null,
      "metadata": {
        "id": "mc87jE2OC9GY"
      },
      "outputs": [],
      "source": [
        "import numpy as np\n",
        "import pandas as pd\n",
        "import matplotlib.pyplot as plt\n",
        "import lcls_beamline_toolbox.xraywavetrace.beam1d as beam\n",
        "import lcls_beamline_toolbox.xraywavetrace.optics1d as optics\n",
        "import lcls_beamline_toolbox.xraywavetrace.beamline1d as beamline\n",
        "import scipy.optimize as optimize\n",
        "import copy\n",
        "import scipy.spatial.transform as transform\n",
        "from split_and_delay import SND\n",
        "\n",
        "import torch\n",
        "\n",
        "\n",
        "import warnings\n",
        "warnings.filterwarnings(\"ignore\")\n",
        "\n",
        "\n",
        "\n",
        "from pymoo.core.problem import ElementwiseProblem\n",
        "\n",
        "from pymoo.algorithms.moo.nsga2 import NSGA2\n",
        "from pymoo.operators.crossover.sbx import SBX\n",
        "from pymoo.operators.mutation.pm import PM\n",
        "from pymoo.operators.sampling.rnd import FloatRandomSampling\n",
        "from pymoo.termination import get_termination\n",
        "\n",
        "from pymoo.optimize import minimize\n",
        "\n",
        "from pymoo.indicators.hv import Hypervolume"
      ]
    },
    {
      "cell_type": "code",
      "execution_count": null,
      "metadata": {
        "id": "sULnym9-EER7"
      },
      "outputs": [],
      "source": [
        "def get_snd_outputs(inputs):\n",
        "  \"\"\"\n",
        "  Study 1 Objective function. Takes an [n, 8] dim np array of\n",
        "  [samples, ( t1_th1, t1_th2, chi1, chi2, t4_th1, t4_th2, chi1, chi2)].\n",
        "  The entries lie in the uniform unit interval.\n",
        "  They are scaled to lie in [-100e-6, +100e-6].\n",
        "  Returns a torch tensor of dim [n, 2] of\n",
        "  [samples, (do_sum_objective, IP_r_objective)]\n",
        "  \"\"\"\n",
        "  inputs = inputs*200e-6 - 100e-6\n",
        "  inputs = inputs.reshape(1,-1)\n",
        "  result = []\n",
        "\n",
        "  for x in inputs:\n",
        "    snd = SND(9500)\n",
        "    x = np.array(x)\n",
        "\n",
        "    snd.mvr_t1_th1(x[0])\n",
        "    snd.mvr_t1_th2(x[1])\n",
        "    snd.mvr_t1_chi1(x[2])#not in study 1\n",
        "    snd.mvr_t1_chi2(x[3])#not in study 1\n",
        "    snd.mvr_t4_th1(x[4])\n",
        "    snd.mvr_t4_th2(x[5])\n",
        "    snd.mvr_t4_chi1(x[6])#not in study 1\n",
        "    snd.mvr_t4_chi2(x[7])#not in study 1\n",
        "\n",
        "    # snd.mvr_t1_th1(x[0])\n",
        "    # snd.mvr_t1_th2(x[1])\n",
        "    # snd.mvr_t4_th1(x[2])\n",
        "    # snd.mvr_t4_th2(x[3])\n",
        "\n",
        "    snd.propagate_delay()\n",
        "\n",
        "    dh1 = snd.get_t1_dh_sum()\n",
        "    dd = snd.get_dd_sum()\n",
        "    dh4 = snd.get_t4_dh_sum()\n",
        "    do = snd.get_do_sum()\n",
        "    my_IP_sum = snd.get_IP_sum()\n",
        "    my_intensity = dh1 + dd + dh4 + do #+ my_IP_sum\n",
        "\n",
        "    do_centroid = snd.get_IP_r()\n",
        "    do_centroid_x = snd.get_IP_cx()\n",
        "    do_centroid_y = snd.get_IP_cy()\n",
        "\n",
        "\n",
        "\n",
        "    result.append([(my_intensity)/(62186.2678), np.log(np.abs(do_centroid_x))/(-16.86781883239746), np.log(np.abs(do_centroid_y))/(-17.84674644470215)])\n",
        "    del snd\n",
        "  return np.array(result)"
      ]
    },
    {
      "cell_type": "code",
      "source": [
        "nscan = 201\n",
        "ndim = 3\n",
        "inp = np.ones((nscan,8))*0.500\n",
        "scanner = np.linspace(0,1, nscan)\n",
        "inp[:, ndim] = scanner\n",
        "ys = get_snd_outputs(inp).squeeze()\n",
        "x_scan = scanner*200e-6 - 100e-6\n",
        "result1, result2, result3 = ys[0], ys[1], ys[2]\n",
        "\n",
        "fig, axs = plt.subplots(2, figsize=(12,12))\n",
        "axs[0].plot(x_scan, np.exp(-result2*16.86), 'k')\n",
        "axs[0].plot(x_scan, np.exp(-result3*17.84), 'r')\n",
        "axs[0].set_yscale(\"log\")\n",
        "axs[0].grid()\n",
        "\n",
        "axs[1].plot(x_scan, result1, 'k')\n",
        "axs[1].grid()\n",
        "\n",
        "# axs[2].plot(x_scan, result1*result2,'k')"
      ],
      "metadata": {
        "id": "gYQSfjsstL2x"
      },
      "execution_count": null,
      "outputs": []
    },
    {
      "cell_type": "code",
      "source": [
        "plt.figure(figsize=(8,5))\n",
        "\n",
        "scale1 = 62186.2678\n",
        "plt.plot(result1, 'r')\n",
        "plt.plot(np.power(result1, 3), 'k')\n",
        "\n",
        "plt.show()"
      ],
      "metadata": {
        "id": "XEIRNG0MALUZ"
      },
      "execution_count": null,
      "outputs": []
    },
    {
      "cell_type": "code",
      "source": [
        "class MyProblem(ElementwiseProblem):\n",
        "  def __init__(self):\n",
        "    super().__init__(n_var=8,\n",
        "                      n_obj=2,\n",
        "                      n_ieq_constr=0,\n",
        "                      xl=np.zeros(8),\n",
        "                      xu=np.ones(8))\n",
        "\n",
        "  def _evaluate(self, x, out, *args, **kwargs):\n",
        "    f1, f2, f3 = get_snd_outputs(x).squeeze()\n",
        "\n",
        "    out[\"F\"] = [-f1, -f2]\n",
        "    # out[\"G\"] = [g1, g2]"
      ],
      "metadata": {
        "id": "XEWA7H26G7nB"
      },
      "execution_count": null,
      "outputs": []
    },
    {
      "cell_type": "code",
      "source": [
        "problem = MyProblem()"
      ],
      "metadata": {
        "id": "QP5YRDv2Hxr1"
      },
      "execution_count": null,
      "outputs": []
    },
    {
      "cell_type": "code",
      "source": [
        "algorithm = NSGA2(\n",
        "    pop_size=200,\n",
        "    n_offsprings=50,\n",
        "    sampling=FloatRandomSampling(),\n",
        "    crossover=SBX(prob=0.9, eta=15),\n",
        "    mutation=PM(eta=20),\n",
        "    eliminate_duplicates=True\n",
        ")"
      ],
      "metadata": {
        "id": "qdqtFUAIHxw5"
      },
      "execution_count": null,
      "outputs": []
    },
    {
      "cell_type": "code",
      "source": [
        "termination = get_termination(\"n_gen\", 100)"
      ],
      "metadata": {
        "id": "WQMrI9YfHx1C"
      },
      "execution_count": null,
      "outputs": []
    },
    {
      "cell_type": "code",
      "source": [
        "res = minimize(problem,\n",
        "               algorithm,\n",
        "               termination,\n",
        "               seed=1,\n",
        "               save_history=True,\n",
        "               verbose=True)"
      ],
      "metadata": {
        "id": "vyHxg2ZLHx5r"
      },
      "execution_count": null,
      "outputs": []
    },
    {
      "cell_type": "code",
      "source": [
        "X = res.X\n",
        "F = res.F"
      ],
      "metadata": {
        "id": "s8eEp5ENHx-f"
      },
      "execution_count": null,
      "outputs": []
    },
    {
      "cell_type": "code",
      "source": [
        "plt.figure(figsize=(7, 5))\n",
        "plt.scatter(-F[:, 0], -F[:, 1], s=30, facecolors='none', edgecolors='blue')\n",
        "plt.xlabel(\"Intensity\")\n",
        "plt.ylabel(\"BPE X\")\n",
        "plt.title(\"Objective Space\")\n",
        "plt.grid()\n",
        "plt.show()"
      ],
      "metadata": {
        "id": "wJklQN1tIip9"
      },
      "execution_count": null,
      "outputs": []
    },
    {
      "cell_type": "code",
      "source": [
        "X.shape"
      ],
      "metadata": {
        "id": "p4Cr8RtaIjEj"
      },
      "execution_count": null,
      "outputs": []
    },
    {
      "cell_type": "code",
      "source": [
        "for x in X:\n",
        "  print(get_snd_outputs(x))"
      ],
      "metadata": {
        "id": "-AY6ZYVUIjKi"
      },
      "execution_count": null,
      "outputs": []
    },
    {
      "cell_type": "code",
      "source": [
        "inp = np.ones((8))*0.500\n",
        "get_snd_outputs(inp)"
      ],
      "metadata": {
        "id": "rJsQ2KcOHHW0"
      },
      "execution_count": null,
      "outputs": []
    },
    {
      "cell_type": "code",
      "execution_count": null,
      "metadata": {
        "id": "x8vD17BTGzVF"
      },
      "outputs": [],
      "source": [
        "ys1, ys2, ys3 = get_snd_outputs(np.ones((1,8))*0.500).squeeze()\n",
        "print(ys1, ys2, ys3)"
      ]
    },
    {
      "cell_type": "code",
      "execution_count": null,
      "metadata": {
        "id": "SuYfChM1r2rT"
      },
      "outputs": [],
      "source": [
        "ys = get_snd_outputs(np.zeros((1,8))).squeeze()\n",
        "print(ys[0].item(), ys[1].item(), ys[2].item())"
      ]
    },
    {
      "cell_type": "code",
      "execution_count": null,
      "metadata": {
        "id": "QI8Ty8kHG2zZ"
      },
      "outputs": [],
      "source": [
        "def eval_function(input_dict: dict) -> dict:\n",
        "  x1, x2, x3, x4, x5, x6, x7, x8 = input_dict[\"x1\"], input_dict[\"x2\"], input_dict[\"x3\"], input_dict[\"x4\"], input_dict[\"x5\"], input_dict[\"x6\"], input_dict[\"x7\"], input_dict[\"x8\"]\n",
        "  Xinp = np.expand_dims(np.array([x1, x2, x3, x4, x5, x6, x7, x8]), axis=0)\n",
        "  output = get_snd_outputs(Xinp).squeeze()\n",
        "  f1, f2, f3 =  output[0].item(), output[1].item(), output[2].item()\n",
        "  del output, Xinp\n",
        "  return {\"f1\": f1, \"f2\": f2, \"f3\": f3}"
      ]
    },
    {
      "cell_type": "code",
      "execution_count": null,
      "metadata": {
        "id": "62SCN7BgKDFP"
      },
      "outputs": [],
      "source": []
    },
    {
      "cell_type": "code",
      "execution_count": null,
      "metadata": {
        "id": "lIwSU1Cf1R3i"
      },
      "outputs": [],
      "source": [
        "def run_chain(eval_function = eval_function, n_init: int=5, n_steps: int = 60):\n",
        "  low = 0.01\n",
        "  high = 0.99\n",
        "  vocs = VOCS(\n",
        "    variables = {\"x1\": [low, high],\n",
        "                 \"x2\": [low, high],\n",
        "                 \"x3\": [low, high],\n",
        "                 \"x4\": [low, high],\n",
        "                 \"x5\": [low, high],\n",
        "                 \"x6\": [low, high],\n",
        "                 \"x7\": [low, high],\n",
        "                 \"x8\": [low, high]},\n",
        "    objectives = {\"f1\": \"MAXIMIZE\", \"f2\": \"MAXIMIZE\", \"f3\": \"MAXIMIZE\"},\n",
        "  )\n",
        "  np.random.seed(42)\n",
        "  gigo = np.random.rand(8)\n",
        "  evaluator = Evaluator(function=eval_function)\n",
        "  ref_point = eval_function({\"x1\": gigo[0], \"x2\": gigo[1], \"x3\": gigo[2],\n",
        "                             \"x4\": gigo[3], \"x5\": gigo[4], \"x6\": gigo[5],\n",
        "                             \"x7\": gigo[6], \"x8\": gigo[7]})\n",
        "  generator = MOBOGenerator(vocs=vocs, reference_point= ref_point)\n",
        "  generator.n_monte_carlo_samples = 512\n",
        "  generator.numerical_optimizer.n_restarts = 80\n",
        "  X = Xopt(generator=generator, evaluator=evaluator, vocs=vocs)\n",
        "  X.random_evaluate(n_init)\n",
        "  for i in range(n_steps):\n",
        "    print(i)\n",
        "    X.step()\n",
        "\n",
        "  y1 = X.generator.data[\"f1\"]\n",
        "  y2 = X.generator.data[\"f2\"]\n",
        "  y3 = X.generator.data[\"f3\"]\n",
        "  y1_maxs = np.maximum.accumulate(y1)\n",
        "  y2_maxs = np.maximum.accumulate(y2)\n",
        "  y3_maxs = np.maximum.accumulate(y3)\n",
        "\n",
        "  del vocs, evaluator, ref_point, generator, X\n",
        "\n",
        "  return y1, y2, y3 #y1_maxs, y2_maxs, y3_maxs"
      ]
    },
    {
      "cell_type": "code",
      "execution_count": null,
      "metadata": {
        "id": "nuATdqKF20Xw"
      },
      "outputs": [],
      "source": [
        "def run_ensemble(n_chains: 25, eval_function = eval_function, n_init: int=3, n_steps: int = 50):\n",
        "  y1s = []\n",
        "  y2s = []\n",
        "  y3s = []\n",
        "  for i in range(n_chains):\n",
        "    print(f\"Chain: {i+1} of {n_chains}\")\n",
        "    y1, y2, y3 = run_chain(eval_function = eval_function, n_init=n_init, n_steps = n_steps)\n",
        "    y1s.append(y1)\n",
        "    y2s.append(y2)\n",
        "    y3s.append(y3)\n",
        "\n",
        "  return np.array(y1s), np.array(y2s), np.array(y3s)"
      ]
    },
    {
      "cell_type": "code",
      "execution_count": null,
      "metadata": {
        "id": "iz9MT-rs3cdA"
      },
      "outputs": [],
      "source": [
        "result1, result2, result3 = run_chain(n_init=5, n_steps=80)"
      ]
    },
    {
      "cell_type": "code",
      "source": [
        "plt.plot(result1, 'k')\n",
        "plt.plot(result2, 'r')\n",
        "plt.plot(result3, 'g')"
      ],
      "metadata": {
        "id": "ZOSqXB6FpRX-"
      },
      "execution_count": null,
      "outputs": []
    },
    {
      "cell_type": "code",
      "execution_count": null,
      "metadata": {
        "id": "Nn77wF2gI88i"
      },
      "outputs": [],
      "source": [
        "plt.plot(np.exp(-result2*16.86), 'k')\n",
        "plt.plot(np.exp(-result3*17.84), 'r')\n",
        "plt.yscale(\"log\")"
      ]
    },
    {
      "cell_type": "code",
      "execution_count": null,
      "metadata": {
        "id": "dizO89PzFVDH"
      },
      "outputs": [],
      "source": [
        "!pip install minepy -q"
      ]
    },
    {
      "cell_type": "code",
      "execution_count": null,
      "metadata": {
        "id": "WgVXBy4Bl3dC"
      },
      "outputs": [],
      "source": [
        "from minepy import MINE"
      ]
    },
    {
      "cell_type": "code",
      "execution_count": null,
      "metadata": {
        "id": "qDkT3mLLnMZd"
      },
      "outputs": [],
      "source": [
        "low = 0.01\n",
        "high = 0.99\n",
        "vocs = VOCS(\n",
        "    variables = {\"x1\": [low, high],\n",
        "                 \"x2\": [low, high],\n",
        "                 \"x3\": [low, high],\n",
        "                 \"x4\": [low, high],\n",
        "                 \"x5\": [low, high],\n",
        "                 \"x6\": [low, high],\n",
        "                 \"x7\": [low, high],\n",
        "                 \"x8\": [low, high]},\n",
        "    objectives = {\"f1\": \"MAXIMIZE\", \"f2\": \"MAXIMIZE\", \"f3\": \"MAXIMIZE\"},\n",
        ")\n",
        "vocs"
      ]
    },
    {
      "cell_type": "code",
      "execution_count": null,
      "metadata": {
        "id": "qeMkTYObpRY_"
      },
      "outputs": [],
      "source": [
        "evaluator = Evaluator(function=eval_function)\n",
        "evaluator"
      ]
    },
    {
      "cell_type": "code",
      "execution_count": null,
      "metadata": {
        "id": "1lg6Qnw3pV1p"
      },
      "outputs": [],
      "source": [
        "ref_point = eval_function({\"x1\": 0.65, \"x2\": 0.65, \"x3\": 0.65, \"x4\": 0.65, \"x5\": 0.65, \"x6\": 0.65, \"x7\": 0.65, \"x8\": 0.65})\n",
        "ref_point"
      ]
    },
    {
      "cell_type": "code",
      "execution_count": null,
      "metadata": {
        "id": "5K69VYkKpoE7"
      },
      "outputs": [],
      "source": [
        "generator = MOBOGenerator(vocs=vocs, reference_point= ref_point)\n",
        "generator"
      ]
    },
    {
      "cell_type": "code",
      "execution_count": null,
      "metadata": {
        "id": "xq_re2E0p-O1"
      },
      "outputs": [],
      "source": [
        "generator.n_monte_carlo_samples = 256\n",
        "generator.numerical_optimizer.n_restarts = 40\n",
        "\n",
        "\n",
        "X = Xopt(generator=generator, evaluator=evaluator, vocs=vocs)\n",
        "X.random_evaluate(500)\n",
        "X.data"
      ]
    },
    {
      "cell_type": "code",
      "execution_count": null,
      "metadata": {
        "id": "jZz2KLitmOvB"
      },
      "outputs": [],
      "source": [
        "def get_mic(x, y):\n",
        "  mine = MINE(alpha=0.6, c=15, est=\"mic_approx\")\n",
        "  mine.compute_score(x, y)\n",
        "  MIC=mine.mic()\n",
        "  return MIC"
      ]
    },
    {
      "cell_type": "code",
      "execution_count": null,
      "metadata": {
        "id": "o8N6RihamOf1"
      },
      "outputs": [],
      "source": [
        "mics = []\n",
        "for x in [\"x1\", \"x2\", \"x3\", \"x4\", \"x5\", \"x6\", \"x7\", \"x8\"]:\n",
        "  mic = get_mic(X.generator.data[x], X.generator.data[\"f2\"])\n",
        "  print(x, \": \",mic)\n",
        "  mics.append(mic)"
      ]
    },
    {
      "cell_type": "code",
      "execution_count": null,
      "metadata": {
        "id": "RROwGmAlmN8Y"
      },
      "outputs": [],
      "source": [
        "labels = [\"t1_th1\", \"t1_th2\", \"t1_chi1\", \"t1_chi2\", \"t4_th1\", \"t4_th2\", \"t4_chi1\", \"t4_chi2\"]\n",
        "plt.barh(labels, mics)\n",
        "plt.grid()\n",
        "plt.xlabel(\"Maximum Information Coefficient\");"
      ]
    },
    {
      "cell_type": "code",
      "execution_count": null,
      "metadata": {
        "id": "Q85DlsxZm0ly"
      },
      "outputs": [],
      "source": [
        "mics = []\n",
        "for x in [\"x1\", \"x2\", \"x3\", \"x4\", \"x5\", \"x6\", \"x7\", \"x8\"]:\n",
        "  mic = get_mic(X.generator.data[x], X.generator.data[\"f3\"])\n",
        "  print(x, \": \",mic)\n",
        "  mics.append(mic)"
      ]
    },
    {
      "cell_type": "code",
      "execution_count": null,
      "metadata": {
        "id": "67Y2mTosm0cY"
      },
      "outputs": [],
      "source": [
        "labels = [\"t1_th1\", \"t1_th2\", \"t1_chi1\", \"t1_chi2\", \"t4_th1\", \"t4_th2\", \"t4_chi1\", \"t4_chi2\"]\n",
        "plt.barh(labels, mics)\n",
        "plt.grid()\n",
        "plt.xlabel(\"Maximum Information Coefficient\");"
      ]
    },
    {
      "cell_type": "code",
      "execution_count": null,
      "metadata": {
        "id": "Yilxlxibm0PV"
      },
      "outputs": [],
      "source": [
        "mics = []\n",
        "for x in [\"x1\", \"x2\", \"x3\", \"x4\", \"x5\", \"x6\", \"x7\", \"x8\"]:\n",
        "  mic = get_mic(X.generator.data[x], X.generator.data[\"f3\"])\n",
        "  print(x, \": \",mic)\n",
        "  mics.append(mic)\n",
        "labels = [\"t1_th1\", \"t1_th2\", \"t1_chi1\", \"t1_chi2\", \"t4_th1\", \"t4_th2\", \"t4_chi1\", \"t4_chi2\"]\n",
        "plt.barh(labels, mics)\n",
        "plt.grid()\n",
        "plt.xlabel(\"Maximum Information Coefficient\");"
      ]
    },
    {
      "cell_type": "code",
      "execution_count": null,
      "metadata": {
        "id": "VNqsdzlxo0zg"
      },
      "outputs": [],
      "source": [
        "mics = []\n",
        "for x in [\"x1\", \"x2\", \"x3\", \"x4\", \"x5\", \"x6\", \"x7\", \"x8\"]:\n",
        "  mic = get_mic(X.generator.data[x], X.generator.data[\"f2\"])\n",
        "  print(x, \": \",mic)\n",
        "  mics.append(mic)\n",
        "labels = [\"t1_th1\", \"t1_th2\", \"t1_chi1\", \"t1_chi2\", \"t4_th1\", \"t4_th2\", \"t4_chi1\", \"t4_chi2\"]\n",
        "plt.barh(labels, mics)\n",
        "plt.grid()\n",
        "plt.xlabel(\"Maximum Information Coefficient\");"
      ]
    },
    {
      "cell_type": "code",
      "execution_count": null,
      "metadata": {
        "id": "LjiRYZZmo0Zt"
      },
      "outputs": [],
      "source": [
        "mics = []\n",
        "for x in [\"x1\", \"x2\", \"x3\", \"x4\", \"x5\", \"x6\", \"x7\", \"x8\"]:\n",
        "  mic = get_mic(X.generator.data[x], X.generator.data[\"f1\"])\n",
        "  print(x, \": \",mic)\n",
        "  mics.append(mic)\n",
        "labels = [\"t1_th1\", \"t1_th2\", \"t1_chi1\", \"t1_chi2\", \"t4_th1\", \"t4_th2\", \"t4_chi1\", \"t4_chi2\"]\n",
        "plt.barh(labels, mics)\n",
        "plt.grid()\n",
        "plt.xlabel(\"Maximum Information Coefficient\");"
      ]
    },
    {
      "cell_type": "code",
      "execution_count": null,
      "metadata": {
        "id": "GfcR2OJrqFY4"
      },
      "outputs": [],
      "source": [
        "for i in range(100):\n",
        "  print(i)\n",
        "  X.step()"
      ]
    },
    {
      "cell_type": "code",
      "execution_count": null,
      "metadata": {
        "id": "YpbZHzB2rMZ8"
      },
      "outputs": [],
      "source": [
        "X.generator.data"
      ]
    },
    {
      "cell_type": "code",
      "execution_count": null,
      "metadata": {
        "id": "4Gx2YamlqhYh"
      },
      "outputs": [],
      "source": [
        "y1 = X.generator.data[\"f1\"]\n",
        "y2 = X.generator.data[\"f2\"]"
      ]
    },
    {
      "cell_type": "code",
      "execution_count": null,
      "metadata": {
        "id": "FW6OIdLIq8E7"
      },
      "outputs": [],
      "source": [
        "plt.scatter(y1, y2)"
      ]
    },
    {
      "cell_type": "code",
      "execution_count": null,
      "metadata": {
        "id": "nFlSiiFnPyng"
      },
      "outputs": [],
      "source": [
        "scale1, scale2 = 62186.2678, 16.801"
      ]
    },
    {
      "cell_type": "code",
      "execution_count": null,
      "metadata": {
        "id": "kidPhgb7q-X6"
      },
      "outputs": [],
      "source": [
        "plt.figure(figsize=(8,5))\n",
        "\n",
        "scale1 = 62186.2678\n",
        "y1_maxs = np.maximum.accumulate(y1)\n",
        "y2_maxs = np.maximum.accumulate(y2)\n",
        "plt.plot(y1_maxs*scale1, 'k')\n",
        "plt.hlines(scale1, 0, len(y1_maxs), linestyles=\"dotted\")\n",
        "\n",
        "\n",
        "plt.show()"
      ]
    },
    {
      "cell_type": "code",
      "execution_count": null,
      "metadata": {
        "id": "7kwzsUPCrXyU"
      },
      "outputs": [],
      "source": [
        "plt.plot(np.exp(-y2_maxs*scale2), 'r')\n",
        "plt.yscale(\"log\")"
      ]
    },
    {
      "cell_type": "code",
      "execution_count": null,
      "metadata": {
        "id": "AFhEjZplNB_s"
      },
      "outputs": [],
      "source": [
        "y2_maxs.shape"
      ]
    },
    {
      "cell_type": "code",
      "execution_count": null,
      "metadata": {
        "id": "oXCtIUCuQRuE"
      },
      "outputs": [],
      "source": [
        "temp = np.stack([y1_maxs, y2_maxs])\n",
        "temp.shape"
      ]
    },
    {
      "cell_type": "code",
      "execution_count": null,
      "metadata": {
        "id": "ZOCufwhm2ucf"
      },
      "outputs": [],
      "source": [
        "t = [y1_maxs, y2_maxs]\n",
        "temp = np.array(t)\n",
        "temp.shape"
      ]
    },
    {
      "cell_type": "code",
      "execution_count": null,
      "metadata": {
        "id": "j7K_36kr3Dxi"
      },
      "outputs": [],
      "source": [
        "model = generator.train_model()"
      ]
    },
    {
      "cell_type": "code",
      "execution_count": null,
      "metadata": {
        "id": "Lsq7T9q6-m1J"
      },
      "outputs": [],
      "source": [
        "model"
      ]
    },
    {
      "cell_type": "code",
      "execution_count": null,
      "metadata": {
        "id": "8-4YyCqa-nw3"
      },
      "outputs": [],
      "source": [
        "gigo = np.random.rand(8)\n",
        "print(gigo)\n",
        "print(gigo[0], gigo[1])"
      ]
    },
    {
      "cell_type": "code",
      "source": [],
      "metadata": {
        "id": "KBZBDEwoG3Eq"
      },
      "execution_count": null,
      "outputs": []
    }
  ],
  "metadata": {
    "colab": {
      "provenance": [],
      "authorship_tag": "ABX9TyNDG4844eY29cwZoe7L5Qi7"
    },
    "kernelspec": {
      "display_name": "Python 3",
      "name": "python3"
    },
    "language_info": {
      "name": "python"
    }
  },
  "nbformat": 4,
  "nbformat_minor": 0
}